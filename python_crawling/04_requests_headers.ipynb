{
 "cells": [
  {
   "cell_type": "code",
   "execution_count": 2,
   "metadata": {},
   "outputs": [],
   "source": [
    "import requests\n",
    "import pandas as pd"
   ]
  },
  {
   "cell_type": "markdown",
   "metadata": {},
   "source": [
    "### headers: daum exchange rate - 환율 데이터 수집"
   ]
  },
  {
   "cell_type": "code",
   "execution_count": 18,
   "metadata": {},
   "outputs": [],
   "source": [
    "# 1. 웹서비스 분석: URL\n",
    "url = \"https://finance.daum.net/api/exchanges/summaries\""
   ]
  },
  {
   "cell_type": "code",
   "execution_count": 20,
   "metadata": {},
   "outputs": [
    {
     "data": {
      "text/plain": [
       "<Response [200]>"
      ]
     },
     "execution_count": 20,
     "metadata": {},
     "output_type": "execute_result"
    }
   ],
   "source": [
    "# 2. request(url) > response(data) : json\n",
    "headers = {\n",
    "    \"user-agent\": \"Mozilla/5.0 (Windows NT 10.0; Win64; x64) AppleWebKit/537.36 (KHTML, like Gecko) Chrome/98.0.4758.102 Safari/537.36\",\n",
    "    \"referer\": \"https://finance.daum.net/exchanges\",\n",
    "}\n",
    "response = requests.get(url, headers=headers)\n",
    "response"
   ]
  },
  {
   "cell_type": "code",
   "execution_count": 22,
   "metadata": {},
   "outputs": [
    {
     "data": {
      "text/html": [
       "<div>\n",
       "<style scoped>\n",
       "    .dataframe tbody tr th:only-of-type {\n",
       "        vertical-align: middle;\n",
       "    }\n",
       "\n",
       "    .dataframe tbody tr th {\n",
       "        vertical-align: top;\n",
       "    }\n",
       "\n",
       "    .dataframe thead th {\n",
       "        text-align: right;\n",
       "    }\n",
       "</style>\n",
       "<table border=\"1\" class=\"dataframe\">\n",
       "  <thead>\n",
       "    <tr style=\"text-align: right;\">\n",
       "      <th></th>\n",
       "      <th>symbolCode</th>\n",
       "      <th>date</th>\n",
       "      <th>currencyCode</th>\n",
       "      <th>basePrice</th>\n",
       "    </tr>\n",
       "  </thead>\n",
       "  <tbody>\n",
       "    <tr>\n",
       "      <th>0</th>\n",
       "      <td>FRX.KRWUSD</td>\n",
       "      <td>2022-02-21 16:59:38</td>\n",
       "      <td>USD</td>\n",
       "      <td>1191.50</td>\n",
       "    </tr>\n",
       "    <tr>\n",
       "      <th>1</th>\n",
       "      <td>FRX.KRWJPY</td>\n",
       "      <td>2022-02-21 16:59:32</td>\n",
       "      <td>JPY</td>\n",
       "      <td>1036.67</td>\n",
       "    </tr>\n",
       "    <tr>\n",
       "      <th>2</th>\n",
       "      <td>FRX.KRWCNY</td>\n",
       "      <td>2022-02-21 16:59:32</td>\n",
       "      <td>CNY</td>\n",
       "      <td>188.31</td>\n",
       "    </tr>\n",
       "    <tr>\n",
       "      <th>3</th>\n",
       "      <td>FRX.KRWEUR</td>\n",
       "      <td>2022-02-21 16:59:32</td>\n",
       "      <td>EUR</td>\n",
       "      <td>1355.33</td>\n",
       "    </tr>\n",
       "    <tr>\n",
       "      <th>4</th>\n",
       "      <td>FRX.KRWGBP</td>\n",
       "      <td>2022-02-21 16:59:32</td>\n",
       "      <td>GBP</td>\n",
       "      <td>1623.90</td>\n",
       "    </tr>\n",
       "  </tbody>\n",
       "</table>\n",
       "</div>"
      ],
      "text/plain": [
       "   symbolCode                 date currencyCode  basePrice\n",
       "0  FRX.KRWUSD  2022-02-21 16:59:38          USD    1191.50\n",
       "1  FRX.KRWJPY  2022-02-21 16:59:32          JPY    1036.67\n",
       "2  FRX.KRWCNY  2022-02-21 16:59:32          CNY     188.31\n",
       "3  FRX.KRWEUR  2022-02-21 16:59:32          EUR    1355.33\n",
       "4  FRX.KRWGBP  2022-02-21 16:59:32          GBP    1623.90"
      ]
     },
     "execution_count": 22,
     "metadata": {},
     "output_type": "execute_result"
    }
   ],
   "source": [
    "# 3. data(json(str)) > dict, list > df\n",
    "data = response.json()[\"data\"]\n",
    "df = pd.DataFrame(data)[[\"symbolCode\", \"date\", \"currencyCode\", \"basePrice\"]]\n",
    "df.head()"
   ]
  },
  {
   "cell_type": "code",
   "execution_count": 23,
   "metadata": {},
   "outputs": [],
   "source": [
    "# summary\n",
    "\n",
    "# web: client-server -> url\n",
    "# python: requests -> request > response\n",
    "# 동적 페이지: url의 변화 없이 페이지의 데이터를 변환(json)\n",
    "# 정적 페이지: url을 변환하여 새로운 데이터를 출력(html)"
   ]
  },
  {
   "cell_type": "code",
   "execution_count": 24,
   "metadata": {},
   "outputs": [],
   "source": [
    "# 동적 페이지에서 데이터 수집 절차\n",
    "\n",
    "# 1. 웹서비스 분석(개발자도구): url\n",
    "# 2. request(url) > response(data): data(json(str))\n",
    "# 3. data(json(str)) > list, dict > DataFrame\n",
    "\n",
    "# API를 이용한 데이터 수집\n",
    "# 1. 어플리케이션 등록: app_key\n",
    "# 2. api 문서 확인: url, params, headers\n",
    "# 3. request(url, params, headers(app_key)) > response(data): data(json(str))\n",
    "# 4. data(json(str)) > list, dict > DataFrame"
   ]
  },
  {
   "cell_type": "code",
   "execution_count": null,
   "metadata": {},
   "outputs": [],
   "source": [
    "# naver: index price, exchange rate\n",
    "# kakao api: translate\n",
    "# zigbang: request 3번, geohash\n",
    "# daum exchange rate: headers(user-agent, referer)\n"
   ]
  }
 ],
 "metadata": {
  "interpreter": {
   "hash": "6d88e6a86dad8dc767a58725cb179de8adcebd7d752e6f8f503c296f5f3a51f1"
  },
  "kernelspec": {
   "display_name": "Python 3.10.0 64-bit",
   "language": "python",
   "name": "python3"
  },
  "language_info": {
   "codemirror_mode": {
    "name": "ipython",
    "version": 3
   },
   "file_extension": ".py",
   "mimetype": "text/x-python",
   "name": "python",
   "nbconvert_exporter": "python",
   "pygments_lexer": "ipython3",
   "version": "3.10.0"
  },
  "orig_nbformat": 4
 },
 "nbformat": 4,
 "nbformat_minor": 2
}
