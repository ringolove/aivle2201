{
 "cells": [
  {
   "cell_type": "markdown",
   "metadata": {},
   "source": [
    "### 네이버 연관검색어 데이터 수집\n",
    "- 정적 페이지: html(str) -> BeauitifulSoup -> bs_obj.select(css-selector) -> text\n",
    "- BeautifulSoup을 이용하여 HTML 문자열 데이터 parsing"
   ]
  },
  {
   "cell_type": "code",
   "execution_count": 1,
   "metadata": {},
   "outputs": [],
   "source": [
    "import requests\n",
    "import pandas as pd\n",
    "from bs4 import BeautifulSoup"
   ]
  },
  {
   "cell_type": "code",
   "execution_count": 2,
   "metadata": {},
   "outputs": [
    {
     "name": "stdout",
     "output_type": "stream",
     "text": [
      "https://search.naver.com/search.naver?query=삼성전자\n"
     ]
    }
   ],
   "source": [
    "# 1. 웹페이지 분석 : URL\n",
    "query = \"삼성전자\"\n",
    "url = f\"https://search.naver.com/search.naver?query={query}\"\n",
    "print(url)"
   ]
  },
  {
   "cell_type": "code",
   "execution_count": 3,
   "metadata": {},
   "outputs": [
    {
     "data": {
      "text/plain": [
       "<Response [200]>"
      ]
     },
     "execution_count": 3,
     "metadata": {},
     "output_type": "execute_result"
    }
   ],
   "source": [
    "# 2. request(URL) > response : str(html)\n",
    "response = requests.get(url)\n",
    "response"
   ]
  },
  {
   "cell_type": "code",
   "execution_count": 4,
   "metadata": {},
   "outputs": [
    {
     "data": {
      "text/plain": [
       "'<!doctype html> <html lang=\"ko\"> <head> <meta charset=\"utf-8\"> <meta name=\"referrer\" content=\"always\">  <meta name=\"format-detection\" content=\"telephone=no,address=no,email=no\"> <meta name=\"viewport\" content=\"width=device-width,initial-scale=1.0,maxi'"
      ]
     },
     "execution_count": 4,
     "metadata": {},
     "output_type": "execute_result"
    }
   ],
   "source": [
    "response.text[:250]"
   ]
  },
  {
   "cell_type": "code",
   "execution_count": 5,
   "metadata": {},
   "outputs": [
    {
     "data": {
      "text/plain": [
       "bs4.BeautifulSoup"
      ]
     },
     "execution_count": 5,
     "metadata": {},
     "output_type": "execute_result"
    }
   ],
   "source": [
    "# 3. str(html) > bs object\n",
    "dom = BeautifulSoup(response.text, \"html.parser\")\n",
    "type(dom)"
   ]
  },
  {
   "cell_type": "code",
   "execution_count": 6,
   "metadata": {},
   "outputs": [
    {
     "data": {
      "text/plain": [
       "10"
      ]
     },
     "execution_count": 6,
     "metadata": {},
     "output_type": "execute_result"
    }
   ],
   "source": [
    "# 4. bs object > .select(css-selector), .select_one(css-selector) > str(text)\n",
    "# select() : list(Tag, Tag)\n",
    "# select_one() : Tag\n",
    "elements = dom.select(\".lst_related_srch > .item\")\n",
    "len(elements)"
   ]
  },
  {
   "cell_type": "code",
   "execution_count": 7,
   "metadata": {},
   "outputs": [
    {
     "data": {
      "text/plain": [
       "'삼성전자 주가'"
      ]
     },
     "execution_count": 7,
     "metadata": {},
     "output_type": "execute_result"
    }
   ],
   "source": [
    "element = elements[0]\n",
    "keyword = element.select_one(\".tit\").text\n",
    "keyword"
   ]
  },
  {
   "cell_type": "code",
   "execution_count": 8,
   "metadata": {},
   "outputs": [
    {
     "data": {
      "text/plain": [
       "'?where=nexearch&query=%EC%82%BC%EC%84%B1%EC%A0%84%EC%9E%90+%EC%A3%BC%EA%B0%80&ie=utf8&sm=tab_she&qdt=0'"
      ]
     },
     "execution_count": 8,
     "metadata": {},
     "output_type": "execute_result"
    }
   ],
   "source": [
    "link = element.select_one(\"a\").get(\"href\")\n",
    "link"
   ]
  },
  {
   "cell_type": "code",
   "execution_count": 9,
   "metadata": {},
   "outputs": [
    {
     "name": "stdout",
     "output_type": "stream",
     "text": [
      "['삼성전자 주가', '삼성전자 배당금', '삼성전자 주식', '삼성전자 특별보너스', '삼성전자 배당금 지급일', '오늘 삼성전자 주가', '삼성전자 성과급', '삼성 전자레인지', '삼성전자 채용', '삼성전자 보너스']\n"
     ]
    }
   ],
   "source": [
    "# 각각의 엘리먼트에서 text 데이터 수집\n",
    "keywords = []\n",
    "for element in elements:\n",
    "    keyword = element.text.strip()\n",
    "    keywords.append(keyword)\n",
    "print(keywords)"
   ]
  },
  {
   "cell_type": "code",
   "execution_count": 10,
   "metadata": {},
   "outputs": [
    {
     "name": "stdout",
     "output_type": "stream",
     "text": [
      "['삼성전자 주가', '삼성전자 배당금', '삼성전자 주식', '삼성전자 특별보너스', '삼성전자 배당금 지급일', '오늘 삼성전자 주가', '삼성전자 성과급', '삼성 전자레인지', '삼성전자 채용', '삼성전자 보너스']\n"
     ]
    }
   ],
   "source": [
    "keywords = [element.text.strip() for element in elements]\n",
    "print(keywords)"
   ]
  },
  {
   "cell_type": "code",
   "execution_count": 11,
   "metadata": {},
   "outputs": [
    {
     "data": {
      "text/html": [
       "<div>\n",
       "<style scoped>\n",
       "    .dataframe tbody tr th:only-of-type {\n",
       "        vertical-align: middle;\n",
       "    }\n",
       "\n",
       "    .dataframe tbody tr th {\n",
       "        vertical-align: top;\n",
       "    }\n",
       "\n",
       "    .dataframe thead th {\n",
       "        text-align: right;\n",
       "    }\n",
       "</style>\n",
       "<table border=\"1\" class=\"dataframe\">\n",
       "  <thead>\n",
       "    <tr style=\"text-align: right;\">\n",
       "      <th></th>\n",
       "      <th>keywors</th>\n",
       "      <th>query</th>\n",
       "    </tr>\n",
       "  </thead>\n",
       "  <tbody>\n",
       "    <tr>\n",
       "      <th>0</th>\n",
       "      <td>삼성전자 주가</td>\n",
       "      <td>삼성전자</td>\n",
       "    </tr>\n",
       "    <tr>\n",
       "      <th>1</th>\n",
       "      <td>삼성전자 배당금</td>\n",
       "      <td>삼성전자</td>\n",
       "    </tr>\n",
       "    <tr>\n",
       "      <th>2</th>\n",
       "      <td>삼성전자 주식</td>\n",
       "      <td>삼성전자</td>\n",
       "    </tr>\n",
       "    <tr>\n",
       "      <th>3</th>\n",
       "      <td>삼성전자 특별보너스</td>\n",
       "      <td>삼성전자</td>\n",
       "    </tr>\n",
       "    <tr>\n",
       "      <th>4</th>\n",
       "      <td>삼성전자 배당금 지급일</td>\n",
       "      <td>삼성전자</td>\n",
       "    </tr>\n",
       "  </tbody>\n",
       "</table>\n",
       "</div>"
      ],
      "text/plain": [
       "        keywors query\n",
       "0       삼성전자 주가  삼성전자\n",
       "1      삼성전자 배당금  삼성전자\n",
       "2       삼성전자 주식  삼성전자\n",
       "3    삼성전자 특별보너스  삼성전자\n",
       "4  삼성전자 배당금 지급일  삼성전자"
      ]
     },
     "execution_count": 11,
     "metadata": {},
     "output_type": "execute_result"
    }
   ],
   "source": [
    "# 5. str(text) > DataFrame\n",
    "df = pd.DataFrame({\"keywors\": keywords})\n",
    "df[\"query\"] = query\n",
    "df.head()"
   ]
  },
  {
   "cell_type": "code",
   "execution_count": 12,
   "metadata": {},
   "outputs": [
    {
     "data": {
      "text/plain": [
       "'2022-02-25 16:03'"
      ]
     },
     "execution_count": 12,
     "metadata": {},
     "output_type": "execute_result"
    }
   ],
   "source": [
    "# 현재 시간 데이터 추가\n",
    "from datetime import datetime\n",
    "\n",
    "now = datetime.now()\n",
    "now = now.strftime(\"%Y-%m-%d %H:%M\")\n",
    "now"
   ]
  },
  {
   "cell_type": "code",
   "execution_count": 13,
   "metadata": {},
   "outputs": [
    {
     "data": {
      "text/html": [
       "<div>\n",
       "<style scoped>\n",
       "    .dataframe tbody tr th:only-of-type {\n",
       "        vertical-align: middle;\n",
       "    }\n",
       "\n",
       "    .dataframe tbody tr th {\n",
       "        vertical-align: top;\n",
       "    }\n",
       "\n",
       "    .dataframe thead th {\n",
       "        text-align: right;\n",
       "    }\n",
       "</style>\n",
       "<table border=\"1\" class=\"dataframe\">\n",
       "  <thead>\n",
       "    <tr style=\"text-align: right;\">\n",
       "      <th></th>\n",
       "      <th>keywors</th>\n",
       "      <th>query</th>\n",
       "      <th>date_time</th>\n",
       "    </tr>\n",
       "  </thead>\n",
       "  <tbody>\n",
       "    <tr>\n",
       "      <th>0</th>\n",
       "      <td>삼성전자 주가</td>\n",
       "      <td>삼성전자</td>\n",
       "      <td>2022-02-25 16:03</td>\n",
       "    </tr>\n",
       "    <tr>\n",
       "      <th>1</th>\n",
       "      <td>삼성전자 배당금</td>\n",
       "      <td>삼성전자</td>\n",
       "      <td>2022-02-25 16:03</td>\n",
       "    </tr>\n",
       "    <tr>\n",
       "      <th>2</th>\n",
       "      <td>삼성전자 주식</td>\n",
       "      <td>삼성전자</td>\n",
       "      <td>2022-02-25 16:03</td>\n",
       "    </tr>\n",
       "    <tr>\n",
       "      <th>3</th>\n",
       "      <td>삼성전자 특별보너스</td>\n",
       "      <td>삼성전자</td>\n",
       "      <td>2022-02-25 16:03</td>\n",
       "    </tr>\n",
       "    <tr>\n",
       "      <th>4</th>\n",
       "      <td>삼성전자 배당금 지급일</td>\n",
       "      <td>삼성전자</td>\n",
       "      <td>2022-02-25 16:03</td>\n",
       "    </tr>\n",
       "  </tbody>\n",
       "</table>\n",
       "</div>"
      ],
      "text/plain": [
       "        keywors query         date_time\n",
       "0       삼성전자 주가  삼성전자  2022-02-25 16:03\n",
       "1      삼성전자 배당금  삼성전자  2022-02-25 16:03\n",
       "2       삼성전자 주식  삼성전자  2022-02-25 16:03\n",
       "3    삼성전자 특별보너스  삼성전자  2022-02-25 16:03\n",
       "4  삼성전자 배당금 지급일  삼성전자  2022-02-25 16:03"
      ]
     },
     "execution_count": 13,
     "metadata": {},
     "output_type": "execute_result"
    }
   ],
   "source": [
    "df[\"date_time\"] = now\n",
    "df.head()"
   ]
  },
  {
   "cell_type": "code",
   "execution_count": 19,
   "metadata": {},
   "outputs": [
    {
     "data": {
      "text/html": [
       "<div>\n",
       "<style scoped>\n",
       "    .dataframe tbody tr th:only-of-type {\n",
       "        vertical-align: middle;\n",
       "    }\n",
       "\n",
       "    .dataframe tbody tr th {\n",
       "        vertical-align: top;\n",
       "    }\n",
       "\n",
       "    .dataframe thead th {\n",
       "        text-align: right;\n",
       "    }\n",
       "</style>\n",
       "<table border=\"1\" class=\"dataframe\">\n",
       "  <thead>\n",
       "    <tr style=\"text-align: right;\">\n",
       "      <th></th>\n",
       "      <th>keywors</th>\n",
       "      <th>query</th>\n",
       "    </tr>\n",
       "  </thead>\n",
       "  <tbody>\n",
       "    <tr>\n",
       "      <th>0</th>\n",
       "      <td>내장산cc</td>\n",
       "      <td>내장산</td>\n",
       "    </tr>\n",
       "    <tr>\n",
       "      <th>1</th>\n",
       "      <td>내장산 케이블카</td>\n",
       "      <td>내장산</td>\n",
       "    </tr>\n",
       "    <tr>\n",
       "      <th>2</th>\n",
       "      <td>내장산 등산코스</td>\n",
       "      <td>내장산</td>\n",
       "    </tr>\n",
       "    <tr>\n",
       "      <th>3</th>\n",
       "      <td>내장산 날씨</td>\n",
       "      <td>내장산</td>\n",
       "    </tr>\n",
       "    <tr>\n",
       "      <th>4</th>\n",
       "      <td>내장산 복분자주</td>\n",
       "      <td>내장산</td>\n",
       "    </tr>\n",
       "    <tr>\n",
       "      <th>5</th>\n",
       "      <td>내장산 맛집</td>\n",
       "      <td>내장산</td>\n",
       "    </tr>\n",
       "    <tr>\n",
       "      <th>6</th>\n",
       "      <td>내장산국민여가캠핑장</td>\n",
       "      <td>내장산</td>\n",
       "    </tr>\n",
       "    <tr>\n",
       "      <th>7</th>\n",
       "      <td>내장산생태탐방원</td>\n",
       "      <td>내장산</td>\n",
       "    </tr>\n",
       "    <tr>\n",
       "      <th>8</th>\n",
       "      <td>내장산 최단코스</td>\n",
       "      <td>내장산</td>\n",
       "    </tr>\n",
       "    <tr>\n",
       "      <th>9</th>\n",
       "      <td>내장산관광호텔</td>\n",
       "      <td>내장산</td>\n",
       "    </tr>\n",
       "  </tbody>\n",
       "</table>\n",
       "</div>"
      ],
      "text/plain": [
       "      keywors query\n",
       "0       내장산cc   내장산\n",
       "1    내장산 케이블카   내장산\n",
       "2    내장산 등산코스   내장산\n",
       "3      내장산 날씨   내장산\n",
       "4    내장산 복분자주   내장산\n",
       "5      내장산 맛집   내장산\n",
       "6  내장산국민여가캠핑장   내장산\n",
       "7    내장산생태탐방원   내장산\n",
       "8    내장산 최단코스   내장산\n",
       "9     내장산관광호텔   내장산"
      ]
     },
     "execution_count": 19,
     "metadata": {},
     "output_type": "execute_result"
    }
   ],
   "source": [
    "# query를 입력하면 데이터 프레임을 출력하는 함수\n",
    "def naver_relate_keyword(query):\n",
    "    \n",
    "    url = f\"https://search.naver.com/search.naver?query={query}\"\n",
    "    response = requests.get(url)\n",
    "    dom = BeautifulSoup(response.text, \"html.parser\")\n",
    "    elements = dom.select(\".lst_related_srch > .item\")\n",
    "    keywords = [element.text.strip() for element in elements]\n",
    "    \n",
    "    df = pd.DataFrame({\"keywors\": keywords})\n",
    "    df[\"query\"] = query\n",
    "    \n",
    "    # now = datetime.now()\n",
    "    # now = now.strftime(\"%Y-%m-%d %H:%M\")\n",
    "    # df[\"date_time\"] = now\n",
    "    \n",
    "    return df\n",
    "\n",
    "query = \"내장산\"\n",
    "df = naver_relate_keyword(query)\n",
    "df"
   ]
  },
  {
   "cell_type": "code",
   "execution_count": 15,
   "metadata": {},
   "outputs": [
    {
     "name": "stdout",
     "output_type": "stream",
     "text": [
      "삼성전자 LG전자 "
     ]
    },
    {
     "data": {
      "text/html": [
       "<div>\n",
       "<style scoped>\n",
       "    .dataframe tbody tr th:only-of-type {\n",
       "        vertical-align: middle;\n",
       "    }\n",
       "\n",
       "    .dataframe tbody tr th {\n",
       "        vertical-align: top;\n",
       "    }\n",
       "\n",
       "    .dataframe thead th {\n",
       "        text-align: right;\n",
       "    }\n",
       "</style>\n",
       "<table border=\"1\" class=\"dataframe\">\n",
       "  <thead>\n",
       "    <tr style=\"text-align: right;\">\n",
       "      <th></th>\n",
       "      <th>keywors</th>\n",
       "      <th>query</th>\n",
       "    </tr>\n",
       "  </thead>\n",
       "  <tbody>\n",
       "    <tr>\n",
       "      <th>0</th>\n",
       "      <td>삼성전자 주가</td>\n",
       "      <td>삼성전자</td>\n",
       "    </tr>\n",
       "    <tr>\n",
       "      <th>1</th>\n",
       "      <td>삼성전자 배당금</td>\n",
       "      <td>삼성전자</td>\n",
       "    </tr>\n",
       "    <tr>\n",
       "      <th>2</th>\n",
       "      <td>삼성전자 주식</td>\n",
       "      <td>삼성전자</td>\n",
       "    </tr>\n",
       "    <tr>\n",
       "      <th>3</th>\n",
       "      <td>삼성전자 특별보너스</td>\n",
       "      <td>삼성전자</td>\n",
       "    </tr>\n",
       "    <tr>\n",
       "      <th>4</th>\n",
       "      <td>삼성전자 배당금 지급일</td>\n",
       "      <td>삼성전자</td>\n",
       "    </tr>\n",
       "    <tr>\n",
       "      <th>5</th>\n",
       "      <td>오늘 삼성전자 주가</td>\n",
       "      <td>삼성전자</td>\n",
       "    </tr>\n",
       "    <tr>\n",
       "      <th>6</th>\n",
       "      <td>삼성전자 성과급</td>\n",
       "      <td>삼성전자</td>\n",
       "    </tr>\n",
       "    <tr>\n",
       "      <th>7</th>\n",
       "      <td>삼성 전자레인지</td>\n",
       "      <td>삼성전자</td>\n",
       "    </tr>\n",
       "    <tr>\n",
       "      <th>8</th>\n",
       "      <td>삼성전자 채용</td>\n",
       "      <td>삼성전자</td>\n",
       "    </tr>\n",
       "    <tr>\n",
       "      <th>9</th>\n",
       "      <td>삼성전자 보너스</td>\n",
       "      <td>삼성전자</td>\n",
       "    </tr>\n",
       "    <tr>\n",
       "      <th>10</th>\n",
       "      <td>lg전자 주가</td>\n",
       "      <td>LG전자</td>\n",
       "    </tr>\n",
       "    <tr>\n",
       "      <th>11</th>\n",
       "      <td>lg전자 서비스센터</td>\n",
       "      <td>LG전자</td>\n",
       "    </tr>\n",
       "    <tr>\n",
       "      <th>12</th>\n",
       "      <td>lg전자 성과급</td>\n",
       "      <td>LG전자</td>\n",
       "    </tr>\n",
       "    <tr>\n",
       "      <th>13</th>\n",
       "      <td>lg전자 베스트샵</td>\n",
       "      <td>LG전자</td>\n",
       "    </tr>\n",
       "    <tr>\n",
       "      <th>14</th>\n",
       "      <td>lg 전자레인지</td>\n",
       "      <td>LG전자</td>\n",
       "    </tr>\n",
       "    <tr>\n",
       "      <th>15</th>\n",
       "      <td>lg전자 배당금</td>\n",
       "      <td>LG전자</td>\n",
       "    </tr>\n",
       "    <tr>\n",
       "      <th>16</th>\n",
       "      <td>lg전자 고객센터</td>\n",
       "      <td>LG전자</td>\n",
       "    </tr>\n",
       "    <tr>\n",
       "      <th>17</th>\n",
       "      <td>lg전자 서비스센터 전화번호</td>\n",
       "      <td>LG전자</td>\n",
       "    </tr>\n",
       "    <tr>\n",
       "      <th>18</th>\n",
       "      <td>LG전자성과급 논란</td>\n",
       "      <td>LG전자</td>\n",
       "    </tr>\n",
       "    <tr>\n",
       "      <th>19</th>\n",
       "      <td>lg전자 애플카</td>\n",
       "      <td>LG전자</td>\n",
       "    </tr>\n",
       "  </tbody>\n",
       "</table>\n",
       "</div>"
      ],
      "text/plain": [
       "            keywors query\n",
       "0           삼성전자 주가  삼성전자\n",
       "1          삼성전자 배당금  삼성전자\n",
       "2           삼성전자 주식  삼성전자\n",
       "3        삼성전자 특별보너스  삼성전자\n",
       "4      삼성전자 배당금 지급일  삼성전자\n",
       "5        오늘 삼성전자 주가  삼성전자\n",
       "6          삼성전자 성과급  삼성전자\n",
       "7          삼성 전자레인지  삼성전자\n",
       "8           삼성전자 채용  삼성전자\n",
       "9          삼성전자 보너스  삼성전자\n",
       "10          lg전자 주가  LG전자\n",
       "11       lg전자 서비스센터  LG전자\n",
       "12         lg전자 성과급  LG전자\n",
       "13        lg전자 베스트샵  LG전자\n",
       "14         lg 전자레인지  LG전자\n",
       "15         lg전자 배당금  LG전자\n",
       "16        lg전자 고객센터  LG전자\n",
       "17  lg전자 서비스센터 전화번호  LG전자\n",
       "18       LG전자성과급 논란  LG전자\n",
       "19         lg전자 애플카  LG전자"
      ]
     },
     "execution_count": 15,
     "metadata": {},
     "output_type": "execute_result"
    }
   ],
   "source": [
    "dfs = []\n",
    "queries = [\"삼성전자\", \"LG전자\"]\n",
    "\n",
    "for query in queries:\n",
    "    print(query, end=\" \")\n",
    "    df = naver_relate_keyword(query)\n",
    "    dfs.append(df)\n",
    "    \n",
    "result = pd.concat(dfs, ignore_index=True)\n",
    "result"
   ]
  },
  {
   "cell_type": "code",
   "execution_count": 16,
   "metadata": {},
   "outputs": [],
   "source": [
    "def relational_keyword(keyword):\n",
    "    url = f\"https://search.naver.com/search.naver?query={keyword}\"\n",
    "    response = requests.get(url)\n",
    "    dom = BeautifulSoup(response.text, \"html.parser\")\n",
    "    elements = dom.select(\".lst_related_srch > li\")\n",
    "    return [element.select_one(\".tit\").text for element in elements]\n"
   ]
  },
  {
   "cell_type": "code",
   "execution_count": 17,
   "metadata": {},
   "outputs": [
    {
     "data": {
      "text/plain": [
       "['kt 고객센터',\n",
       " 'kt 인터넷',\n",
       " 'kt 대리점',\n",
       " 'kt 먹통',\n",
       " 'kt 고객센터 전화번호',\n",
       " 'kt 홈페이지',\n",
       " '케이티',\n",
       " 'kt m모바일',\n",
       " 'sk텔레콤',\n",
       " 'kt 요금제']"
      ]
     },
     "execution_count": 17,
     "metadata": {},
     "output_type": "execute_result"
    }
   ],
   "source": [
    "keyword = \"KT\"\n",
    "relational_keyword(keyword)"
   ]
  },
  {
   "cell_type": "code",
   "execution_count": null,
   "metadata": {},
   "outputs": [],
   "source": []
  }
 ],
 "metadata": {
  "interpreter": {
   "hash": "6d88e6a86dad8dc767a58725cb179de8adcebd7d752e6f8f503c296f5f3a51f1"
  },
  "kernelspec": {
   "display_name": "Python 3.10.0 64-bit",
   "language": "python",
   "name": "python3"
  },
  "language_info": {
   "codemirror_mode": {
    "name": "ipython",
    "version": 3
   },
   "file_extension": ".py",
   "mimetype": "text/x-python",
   "name": "python",
   "nbconvert_exporter": "python",
   "pygments_lexer": "ipython3",
   "version": "3.10.0"
  },
  "orig_nbformat": 4
 },
 "nbformat": 4,
 "nbformat_minor": 2
}
