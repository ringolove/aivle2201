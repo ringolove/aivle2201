{
 "cells": [
  {
   "cell_type": "markdown",
   "metadata": {
    "id": "y1J78TFSRrSA"
   },
   "source": [
    "<center><img src='https://raw.githubusercontent.com/Jangrae/img/master/ml_python.png' width=600/></center>"
   ]
  },
  {
   "cell_type": "markdown",
   "metadata": {
    "id": "RaysfVhV3OjD"
   },
   "source": [
    "# 실습 내용\n",
    "\n",
    "- K-Fold Cross Validation을 사용해 모델의 성능을 예측합니다."
   ]
  },
  {
   "cell_type": "markdown",
   "metadata": {
    "id": "N8eruHyUkrBJ"
   },
   "source": [
    "# 1.환경 준비\n",
    "\n",
    "- 기본 라이브러리와 대상 데이터를 가져와 이후 과정을 준비합니다."
   ]
  },
  {
   "cell_type": "code",
   "execution_count": null,
   "metadata": {
    "executionInfo": {
     "elapsed": 4,
     "status": "ok",
     "timestamp": 1642768833563,
     "user": {
      "displayName": "Jangrae Lee",
      "photoUrl": "https://lh3.googleusercontent.com/a-/AOh14Gh1Pd8OuWJU2cv7uTt-fURrgvty7atx_Wtarmx0-A=s64",
      "userId": "08475661575434032088"
     },
     "user_tz": -540
    },
    "id": "GVvCef6A8uv6"
   },
   "outputs": [],
   "source": [
    "# 라이브러리 불러오기\n",
    "import numpy as np\n",
    "import pandas as pd\n",
    "import matplotlib.pyplot as plt"
   ]
  },
  {
   "cell_type": "code",
   "execution_count": null,
   "metadata": {
    "executionInfo": {
     "elapsed": 471,
     "status": "ok",
     "timestamp": 1642768834031,
     "user": {
      "displayName": "Jangrae Lee",
      "photoUrl": "https://lh3.googleusercontent.com/a-/AOh14Gh1Pd8OuWJU2cv7uTt-fURrgvty7atx_Wtarmx0-A=s64",
      "userId": "08475661575434032088"
     },
     "user_tz": -540
    },
    "id": "7LRAB0OAlR3d"
   },
   "outputs": [],
   "source": [
    "# 데이터 읽어오기\n",
    "path = 'https://raw.githubusercontent.com/Jangrae/csv/master/diabetes.csv'\n",
    "data = pd.read_csv(path)"
   ]
  },
  {
   "cell_type": "markdown",
   "metadata": {
    "id": "1EH7I9AIH4Va"
   },
   "source": [
    "# 2.데이터 이해\n",
    "\n",
    "- 분석할 데이터를 충분히 이해할 수 있도록 다양한 탐색 과정을 수행합니다."
   ]
  },
  {
   "cell_type": "code",
   "execution_count": null,
   "metadata": {
    "colab": {
     "base_uri": "https://localhost:8080/",
     "height": 206
    },
    "executionInfo": {
     "elapsed": 11,
     "status": "ok",
     "timestamp": 1642768834032,
     "user": {
      "displayName": "Jangrae Lee",
      "photoUrl": "https://lh3.googleusercontent.com/a-/AOh14Gh1Pd8OuWJU2cv7uTt-fURrgvty7atx_Wtarmx0-A=s64",
      "userId": "08475661575434032088"
     },
     "user_tz": -540
    },
    "id": "Z1ahypi3irLz",
    "outputId": "45ec0252-0c83-4794-9add-0e746742e640",
    "scrolled": true
   },
   "outputs": [],
   "source": [
    "# 데이터 살펴보기\n",
    "data.head()"
   ]
  },
  {
   "cell_type": "markdown",
   "metadata": {},
   "source": [
    "**데이터설명**\n",
    "\n",
    "피마 인디언 당뇨 데이터셋은 몇 명의 여성 피마 인디언의 진료 자료와 진단 후 5년 내 당뇨 발병 여부로 구성됨\n",
    "\n",
    "- Pregnancies: 임신 횟수\n",
    "- Glucose: 포도당 부하 검사 수치\n",
    "- BloodPressure: 혈압(mm Hg)\n",
    "- SkinThickness: 팔 삼두근 뒤쪽의 피하지방 측정값(mm)\n",
    "- Insulin: 혈청 인슐린(mu U/ml)\n",
    "- BMI: 체질량지수(체중(kg)/키(m))^2\n",
    "- DiabetesPedigreeFunction: 당뇨 내력 가중치 값\n",
    "- Age: 나이\n",
    "- Outcome: 클래스 결정 값(0 또는 1)\n",
    "\n",
    "**diabetes**\n",
    "\n",
    "- 당뇨병(糖尿病, diabetes)은 높은 혈당 수치가 오랜 기간 지속되는 대사 질환이다. \n",
    "- 혈당이 높을 때의 증상으로는 소변이 잦아지고, 갈증과 배고픔이 심해진다. \n",
    "- 이를 치료하지 않으면 다른 합병증을 유발할 수 있다.\n",
    "(출처: 위키백과)"
   ]
  },
  {
   "cell_type": "code",
   "execution_count": null,
   "metadata": {
    "colab": {
     "base_uri": "https://localhost:8080/",
     "height": 300
    },
    "executionInfo": {
     "elapsed": 9,
     "status": "ok",
     "timestamp": 1642768834032,
     "user": {
      "displayName": "Jangrae Lee",
      "photoUrl": "https://lh3.googleusercontent.com/a-/AOh14Gh1Pd8OuWJU2cv7uTt-fURrgvty7atx_Wtarmx0-A=s64",
      "userId": "08475661575434032088"
     },
     "user_tz": -540
    },
    "id": "HGHlgWSwtSYh",
    "outputId": "1f897e19-210d-4fe1-ce99-4b5b94c781ee"
   },
   "outputs": [],
   "source": [
    "# 기초통계정보 확인\n",
    "data.describe()"
   ]
  },
  {
   "cell_type": "markdown",
   "metadata": {
    "id": "ByKUvLLFH7CU"
   },
   "source": [
    "# 3.데이터 준비\n",
    "\n",
    "- 전처리 과정을 통해 머신러닝 알고리즘에 사용할 수 있는 형태의 데이터를 준비합니다."
   ]
  },
  {
   "cell_type": "markdown",
   "metadata": {
    "id": "sbJjwjjcB4JJ"
   },
   "source": [
    "**1) x, y 분리**"
   ]
  },
  {
   "cell_type": "code",
   "execution_count": null,
   "metadata": {
    "executionInfo": {
     "elapsed": 9,
     "status": "ok",
     "timestamp": 1642768834033,
     "user": {
      "displayName": "Jangrae Lee",
      "photoUrl": "https://lh3.googleusercontent.com/a-/AOh14Gh1Pd8OuWJU2cv7uTt-fURrgvty7atx_Wtarmx0-A=s64",
      "userId": "08475661575434032088"
     },
     "user_tz": -540
    },
    "id": "RB8SAAkeB3Vo"
   },
   "outputs": [],
   "source": [
    "# Target 확인\n",
    "target = 'Outcome'\n",
    "\n",
    "# 데이터 분리\n",
    "x = data.drop(target, axis=1)\n",
    "y = data[target]"
   ]
  },
  {
   "cell_type": "markdown",
   "metadata": {
    "id": "iwS_l7VsFL2A"
   },
   "source": [
    "**2) 정규화**"
   ]
  },
  {
   "cell_type": "code",
   "execution_count": null,
   "metadata": {
    "executionInfo": {
     "elapsed": 9,
     "status": "ok",
     "timestamp": 1642768834033,
     "user": {
      "displayName": "Jangrae Lee",
      "photoUrl": "https://lh3.googleusercontent.com/a-/AOh14Gh1Pd8OuWJU2cv7uTt-fURrgvty7atx_Wtarmx0-A=s64",
      "userId": "08475661575434032088"
     },
     "user_tz": -540
    },
    "id": "ErKzbKJIFL2B"
   },
   "outputs": [],
   "source": [
    "# 정규화\n",
    "x = (x - x.min()) / (x.max() - x.min())"
   ]
  },
  {
   "cell_type": "markdown",
   "metadata": {
    "id": "LjopqlB9V57C"
   },
   "source": [
    "**3) 학습용, 평가용 데이터 분리**"
   ]
  },
  {
   "cell_type": "code",
   "execution_count": null,
   "metadata": {
    "executionInfo": {
     "elapsed": 499,
     "status": "ok",
     "timestamp": 1642768834524,
     "user": {
      "displayName": "Jangrae Lee",
      "photoUrl": "https://lh3.googleusercontent.com/a-/AOh14Gh1Pd8OuWJU2cv7uTt-fURrgvty7atx_Wtarmx0-A=s64",
      "userId": "08475661575434032088"
     },
     "user_tz": -540
    },
    "id": "nKw4Yd84V57D"
   },
   "outputs": [],
   "source": [
    "# 라이브러리 불러오기\n",
    "from sklearn.model_selection import train_test_split\n",
    "\n",
    "# 학습용, 평가용 데이터 7:3으로 분리\n",
    "x_train, x_test, y_train, y_test = train_test_split(x, y, test_size=0.3, random_state=2022)"
   ]
  },
  {
   "cell_type": "markdown",
   "metadata": {
    "id": "xpv5YKqwH9QV"
   },
   "source": [
    "# 4.성능 예측\n",
    "\n",
    "- K분할 교차 검증 방법으로 모델 성능을 예측합니다.\n",
    "- cross_val_score(model, x_train, y_train, cv=n) 형태로 사용합니다.\n",
    "- cv 옵션에 k값(분할 개수, 기본값=5)을 지정합니다.\n",
    "- cross_val_score 함수는 넘파이 배열 형태의 값을 반환합니다.\n",
    "- cross_val_score 함수 반환 값의 평균을 해당 모델의 예측 성능으로 볼 수 있습니다.\n"
   ]
  },
  {
   "cell_type": "markdown",
   "metadata": {
    "id": "O4AFcGL6rzQt"
   },
   "source": [
    "## 4.1.Decision Tree"
   ]
  },
  {
   "cell_type": "code",
   "execution_count": null,
   "metadata": {
    "colab": {
     "base_uri": "https://localhost:8080/"
    },
    "executionInfo": {
     "elapsed": 626,
     "status": "ok",
     "timestamp": 1642768835147,
     "user": {
      "displayName": "Jangrae Lee",
      "photoUrl": "https://lh3.googleusercontent.com/a-/AOh14Gh1Pd8OuWJU2cv7uTt-fURrgvty7atx_Wtarmx0-A=s64",
      "userId": "08475661575434032088"
     },
     "user_tz": -540
    },
    "id": "ayrREkKg6zUv",
    "outputId": "05010e13-2542-4660-80f6-4deb3f08e8b4"
   },
   "outputs": [],
   "source": [
    "# 불러오기\n",
    "from sklearn.tree import DecisionTreeClassifier\n",
    "from sklearn.model_selection import cross_val_score\n",
    "\n",
    "# 선언하기 \n",
    "model = DecisionTreeClassifier(random_state=2022)\n",
    "\n",
    "# 검증하기\n",
    "cv_score = cross_val_score(model, x_train, y_train, cv=10)\n",
    "\n",
    "# 확인\n",
    "print(cv_score)\n",
    "print('평균:', cv_score.mean())\n",
    "print('표준편차:', cv_score.std())\n",
    "\n",
    "# 기록\n",
    "result = {}\n",
    "result['Decision Tree'] = cv_score.mean()"
   ]
  },
  {
   "cell_type": "code",
   "execution_count": null,
   "metadata": {
    "colab": {
     "base_uri": "https://localhost:8080/",
     "height": 265
    },
    "executionInfo": {
     "elapsed": 6,
     "status": "ok",
     "timestamp": 1642768835148,
     "user": {
      "displayName": "Jangrae Lee",
      "photoUrl": "https://lh3.googleusercontent.com/a-/AOh14Gh1Pd8OuWJU2cv7uTt-fURrgvty7atx_Wtarmx0-A=s64",
      "userId": "08475661575434032088"
     },
     "user_tz": -540
    },
    "id": "fuatRNry_zkF",
    "outputId": "214596da-300c-4dbd-9360-fc8ed573339a"
   },
   "outputs": [],
   "source": [
    "# 성능 정보 시각화\n",
    "plt.plot(cv_score)\n",
    "plt.axhline(cv_score.mean(), color='r')\n",
    "plt.xticks(range(0, 10), range(1, 11))\n",
    "plt.show()"
   ]
  },
  {
   "cell_type": "markdown",
   "metadata": {
    "id": "YismzJpt7U_d"
   },
   "source": [
    "## 4.2.KNN"
   ]
  },
  {
   "cell_type": "code",
   "execution_count": null,
   "metadata": {
    "colab": {
     "base_uri": "https://localhost:8080/"
    },
    "executionInfo": {
     "elapsed": 13,
     "status": "ok",
     "timestamp": 1642768855068,
     "user": {
      "displayName": "Jangrae Lee",
      "photoUrl": "https://lh3.googleusercontent.com/a-/AOh14Gh1Pd8OuWJU2cv7uTt-fURrgvty7atx_Wtarmx0-A=s64",
      "userId": "08475661575434032088"
     },
     "user_tz": -540
    },
    "id": "XWYfAYmI7U_o",
    "outputId": "dea38eea-94cb-4c64-91ef-68825c586eee"
   },
   "outputs": [],
   "source": [
    "# 불러오기\n",
    "from sklearn.neighbors import KNeighborsClassifier\n",
    "from sklearn.model_selection import cross_val_score\n",
    "\n",
    "# 선언하기 \n",
    "model = KNeighborsClassifier()\n",
    "\n",
    "# 검증하기\n",
    "cv_score = cross_val_score(model, x_train, y_train, cv=10)\n",
    "\n",
    "# 확인\n",
    "print(cv_score)\n",
    "print('평균:', cv_score.mean())\n",
    "print('표준편차:', cv_score.std())\n",
    "\n",
    "# 기록\n",
    "result['KNN'] = cv_score.mean()"
   ]
  },
  {
   "cell_type": "code",
   "execution_count": null,
   "metadata": {
    "colab": {
     "base_uri": "https://localhost:8080/",
     "height": 265
    },
    "executionInfo": {
     "elapsed": 9,
     "status": "ok",
     "timestamp": 1642768855068,
     "user": {
      "displayName": "Jangrae Lee",
      "photoUrl": "https://lh3.googleusercontent.com/a-/AOh14Gh1Pd8OuWJU2cv7uTt-fURrgvty7atx_Wtarmx0-A=s64",
      "userId": "08475661575434032088"
     },
     "user_tz": -540
    },
    "id": "dRqIOJAyB9Qu",
    "outputId": "6f5a1609-499e-4d16-f9e6-8c37b178e9cb"
   },
   "outputs": [],
   "source": [
    "# 성능 정보 시각화\n",
    "plt.plot(cv_score)\n",
    "plt.axhline(cv_score.mean(), color='r')\n",
    "plt.xticks(range(0, 10), range(1, 11))\n",
    "plt.show()"
   ]
  },
  {
   "cell_type": "markdown",
   "metadata": {
    "id": "8z8pzgX9gcmN"
   },
   "source": [
    "## 4.3.Logistic Regression\n",
    "\n",
    "- LogisticRegression 사용시 발생하는 Warning을 없애려면 충분한 max_iter를 지정합니다."
   ]
  },
  {
   "cell_type": "code",
   "execution_count": null,
   "metadata": {
    "colab": {
     "base_uri": "https://localhost:8080/"
    },
    "executionInfo": {
     "elapsed": 659,
     "status": "ok",
     "timestamp": 1642768855719,
     "user": {
      "displayName": "Jangrae Lee",
      "photoUrl": "https://lh3.googleusercontent.com/a-/AOh14Gh1Pd8OuWJU2cv7uTt-fURrgvty7atx_Wtarmx0-A=s64",
      "userId": "08475661575434032088"
     },
     "user_tz": -540
    },
    "id": "iOR8MFUr2WBg",
    "outputId": "c30d1ef8-2460-4242-b6ee-2c3d1da1d25c"
   },
   "outputs": [],
   "source": [
    "# 불러오기\n",
    "\n",
    "\n",
    "\n",
    "# 선언하기 \n",
    "\n",
    "\n",
    "# 검증하기\n",
    "\n",
    "\n",
    "# 확인\n",
    "\n",
    "\n",
    "\n",
    "\n",
    "# 기록\n"
   ]
  },
  {
   "cell_type": "code",
   "execution_count": null,
   "metadata": {
    "colab": {
     "base_uri": "https://localhost:8080/",
     "height": 265
    },
    "executionInfo": {
     "elapsed": 6,
     "status": "ok",
     "timestamp": 1642768855720,
     "user": {
      "displayName": "Jangrae Lee",
      "photoUrl": "https://lh3.googleusercontent.com/a-/AOh14Gh1Pd8OuWJU2cv7uTt-fURrgvty7atx_Wtarmx0-A=s64",
      "userId": "08475661575434032088"
     },
     "user_tz": -540
    },
    "id": "C2wHvuvuCAJO",
    "outputId": "5fdd266f-9379-4e00-8b4f-82b3db572ba7",
    "scrolled": true
   },
   "outputs": [],
   "source": [
    "# 성능 정보 시각화\n",
    "plt.plot(cv_score)\n",
    "plt.axhline(cv_score.mean(), color='r')\n",
    "plt.xticks(range(0, 10), range(1, 11))\n",
    "plt.show()"
   ]
  },
  {
   "cell_type": "markdown",
   "metadata": {
    "id": "8z8pzgX9gcmN"
   },
   "source": [
    "## 4.4.SVM"
   ]
  },
  {
   "cell_type": "code",
   "execution_count": null,
   "metadata": {
    "colab": {
     "base_uri": "https://localhost:8080/"
    },
    "executionInfo": {
     "elapsed": 659,
     "status": "ok",
     "timestamp": 1642768855719,
     "user": {
      "displayName": "Jangrae Lee",
      "photoUrl": "https://lh3.googleusercontent.com/a-/AOh14Gh1Pd8OuWJU2cv7uTt-fURrgvty7atx_Wtarmx0-A=s64",
      "userId": "08475661575434032088"
     },
     "user_tz": -540
    },
    "id": "iOR8MFUr2WBg",
    "outputId": "c30d1ef8-2460-4242-b6ee-2c3d1da1d25c"
   },
   "outputs": [],
   "source": [
    "# 불러오기\n",
    "\n",
    "\n",
    "\n",
    "# 선언하기 \n",
    "\n",
    "\n",
    "# 검증하기\n",
    "\n",
    "\n",
    "# 확인\n",
    "\n",
    "\n",
    "\n",
    "# 기록\n"
   ]
  },
  {
   "cell_type": "code",
   "execution_count": null,
   "metadata": {
    "colab": {
     "base_uri": "https://localhost:8080/",
     "height": 265
    },
    "executionInfo": {
     "elapsed": 6,
     "status": "ok",
     "timestamp": 1642768855720,
     "user": {
      "displayName": "Jangrae Lee",
      "photoUrl": "https://lh3.googleusercontent.com/a-/AOh14Gh1Pd8OuWJU2cv7uTt-fURrgvty7atx_Wtarmx0-A=s64",
      "userId": "08475661575434032088"
     },
     "user_tz": -540
    },
    "id": "C2wHvuvuCAJO",
    "outputId": "5fdd266f-9379-4e00-8b4f-82b3db572ba7",
    "scrolled": true
   },
   "outputs": [],
   "source": [
    "# 성능 정보 시각화\n",
    "plt.plot(cv_score)\n",
    "plt.axhline(cv_score.mean(), color='r')\n",
    "plt.xticks(range(0, 10), range(1, 11))\n",
    "plt.show()"
   ]
  },
  {
   "cell_type": "markdown",
   "metadata": {},
   "source": [
    "# 5.성능 비교\n",
    "\n",
    "- 위 과정에서 수집한 성능 정보를 시각화해 비교합니다."
   ]
  },
  {
   "cell_type": "code",
   "execution_count": null,
   "metadata": {},
   "outputs": [],
   "source": [
    "# 성능 비교\n",
    "plt.barh(y=list(result), width=result.values())\n",
    "plt.xlabel('Score')\n",
    "plt.ylabel('Model')\n",
    "plt.show()"
   ]
  }
 ],
 "metadata": {
  "colab": {
   "collapsed_sections": [],
   "name": "ML04_02_K분할교차검증(Iris).ipynb",
   "provenance": []
  },
  "kernelspec": {
   "display_name": "Python 3 (ipykernel)",
   "language": "python",
   "name": "python3"
  },
  "language_info": {
   "codemirror_mode": {
    "name": "ipython",
    "version": 3
   },
   "file_extension": ".py",
   "mimetype": "text/x-python",
   "name": "python",
   "nbconvert_exporter": "python",
   "pygments_lexer": "ipython3",
   "version": "3.9.7"
  }
 },
 "nbformat": 4,
 "nbformat_minor": 1
}
