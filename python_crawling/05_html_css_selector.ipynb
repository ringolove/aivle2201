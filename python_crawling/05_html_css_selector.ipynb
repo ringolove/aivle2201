{
 "cells": [
  {
   "cell_type": "markdown",
   "metadata": {},
   "source": [
    "### web\n",
    "- client-server: url\n",
    "- 동적 페이지: json\n",
    "    - 웹페이지 분석: url\n",
    "    - request(url) > response(data): data(json(str))\n",
    "    - data(json(str)) > parsing(response.json()) > list, dict\n",
    "\n",
    "- 정적 페이지: html\n",
    "    - 웹페이지 분석: url\n",
    "    - request(url) > response(data): data(html(str))\n",
    "    - data(html(str)) > parsing(bs(css-selector)) > list, dict"
   ]
  },
  {
   "cell_type": "markdown",
   "metadata": {},
   "source": [
    "### HTML\n",
    "- 웹페이지에서 레이아웃을 나타내는 문법\n",
    "\n",
    "#### HTML 구성요소\n",
    "- Document: 한 페이지 전체의 html code\n",
    "- Element: 하나의 레이아웃을 나타내는 단위\n",
    "- Tag: 레이아웃의 종류를 나타내는 단위 - 주로 시작 태그와 끝 태그가 있다\n",
    "- Attribute: 속성값 - 시작 태그에 포함되며 태그에서 특정 특정 기능을 하는 값\n",
    "- Text: 시작 태그와 끝 태그 사이에 있는 문자열"
   ]
  },
  {
   "cell_type": "markdown",
   "metadata": {},
   "source": [
    "    - html code에서 txt를 가져오기 위해 element를 선택해야함\n",
    "    - element를 선택하는 문법이 css-selector\n",
    "    - css-selector를 사용할 수 있게 해주는 패키지가 bs"
   ]
  },
  {
   "cell_type": "code",
   "execution_count": 3,
   "metadata": {},
   "outputs": [
    {
     "data": {
      "text/html": [
       "<div>\n",
       "    <button class=\"btn no1\" value=\"1\">click 1</button>\n",
       "    <button class=\"btn no2\" value=\"2\">click 2</button>\n",
       "    <a href=\"https://google.com\" target=\"_blink\">click!!!</a>\n",
       "</div>\n"
      ],
      "text/plain": [
       "<IPython.core.display.HTML object>"
      ]
     },
     "metadata": {},
     "output_type": "display_data"
    }
   ],
   "source": [
    "%%html\n",
    "<div>\n",
    "    <button class=\"btn no1\" value=\"1\">click 1</button>\n",
    "    <button class=\"btn no2\" value=\"2\">click 2</button>\n",
    "    <a href=\"https://google.com\" target=\"_blink\">click!!!</a>\n",
    "</div>"
   ]
  },
  {
   "cell_type": "code",
   "execution_count": 26,
   "metadata": {},
   "outputs": [],
   "source": [
    "# p: 한 줄의 문자열 출력"
   ]
  },
  {
   "cell_type": "code",
   "execution_count": 6,
   "metadata": {},
   "outputs": [
    {
     "data": {
      "text/html": [
       "<p>kt 1</p>\n",
       "<p>kt 2</p>\n"
      ],
      "text/plain": [
       "<IPython.core.display.HTML object>"
      ]
     },
     "metadata": {},
     "output_type": "display_data"
    }
   ],
   "source": [
    "%%html\n",
    "<p>kt 1</p>\n",
    "<p>kt 2</p>"
   ]
  },
  {
   "cell_type": "code",
   "execution_count": 25,
   "metadata": {},
   "outputs": [],
   "source": [
    "# span: 한 블럭의 문자열 출력"
   ]
  },
  {
   "cell_type": "code",
   "execution_count": 8,
   "metadata": {},
   "outputs": [
    {
     "data": {
      "text/html": [
       "<span>kt 1</span>\n",
       "<span>kt 2</span>\n"
      ],
      "text/plain": [
       "<IPython.core.display.HTML object>"
      ]
     },
     "metadata": {},
     "output_type": "display_data"
    }
   ],
   "source": [
    "%%html\n",
    "<span>kt 1</span>\n",
    "<span>kt 2</span>"
   ]
  },
  {
   "cell_type": "code",
   "execution_count": 24,
   "metadata": {},
   "outputs": [],
   "source": [
    "# div: 레이아웃(영역)을 출력"
   ]
  },
  {
   "cell_type": "code",
   "execution_count": 9,
   "metadata": {},
   "outputs": [
    {
     "data": {
      "text/html": [
       "<div>\n",
       "    <p>kt 1</p>\n",
       "    <p>kt 2</p>\n",
       "</div>\n",
       "<div>\n",
       "    <span>kt 3</span>\n",
       "</div>\n"
      ],
      "text/plain": [
       "<IPython.core.display.HTML object>"
      ]
     },
     "metadata": {},
     "output_type": "display_data"
    }
   ],
   "source": [
    "%%html\n",
    "<div>\n",
    "    <p>kt 1</p>\n",
    "    <p>kt 2</p>\n",
    "</div>\n",
    "<div>\n",
    "    <span>kt 3</span>\n",
    "</div>"
   ]
  },
  {
   "cell_type": "code",
   "execution_count": 23,
   "metadata": {},
   "outputs": [],
   "source": [
    "# table: 행과 열로 이루어진 데이터를 출력"
   ]
  },
  {
   "cell_type": "code",
   "execution_count": 14,
   "metadata": {},
   "outputs": [
    {
     "data": {
      "text/html": [
       "<table>\n",
       "    <caption>table tag</caption>\n",
       "    <thead>\n",
       "        <tr>\n",
       "            <th>column1</th>\n",
       "            <th>column2</th>\n",
       "        </tr>\n",
       "    </thead>\n",
       "    <tbody>\n",
       "        <tr>\n",
       "            <th>kt1</th>\n",
       "            <th>kt2</th>\n",
       "        </tr>\n",
       "        <tr>\n",
       "            <th>kt3</th>\n",
       "            <th>kt4</th>\n",
       "        </tr>\n",
       "    </tbody>\n",
       "</table>\n"
      ],
      "text/plain": [
       "<IPython.core.display.HTML object>"
      ]
     },
     "metadata": {},
     "output_type": "display_data"
    }
   ],
   "source": [
    "%%html\n",
    "<table>\n",
    "    <caption>table tag</caption>\n",
    "    <thead>\n",
    "        <tr>\n",
    "            <th>column1</th>\n",
    "            <th>column2</th>\n",
    "        </tr>\n",
    "    </thead>\n",
    "    <tbody>\n",
    "        <tr>\n",
    "            <th>kt1</th>\n",
    "            <th>kt2</th>\n",
    "        </tr>\n",
    "        <tr>\n",
    "            <th>kt3</th>\n",
    "            <th>kt4</th>\n",
    "        </tr>\n",
    "    </tbody>\n",
    "</table>"
   ]
  },
  {
   "cell_type": "code",
   "execution_count": 22,
   "metadata": {},
   "outputs": [],
   "source": [
    "# ul, li: 리스트 문자열 출력"
   ]
  },
  {
   "cell_type": "code",
   "execution_count": 15,
   "metadata": {},
   "outputs": [
    {
     "data": {
      "text/html": [
       "<ul>\n",
       "    <li>kt1</li>\n",
       "    <li>kt2</li>\n",
       "</ul>\n"
      ],
      "text/plain": [
       "<IPython.core.display.HTML object>"
      ]
     },
     "metadata": {},
     "output_type": "display_data"
    }
   ],
   "source": [
    "%%html\n",
    "<ul>\n",
    "    <li>kt1</li>\n",
    "    <li>kt2</li>\n",
    "</ul>"
   ]
  },
  {
   "cell_type": "code",
   "execution_count": 21,
   "metadata": {},
   "outputs": [],
   "source": [
    "# a: 링크를 출력\n",
    "# target=\"_blink\": 새로운 탭에서 창을 띄우는 기능"
   ]
  },
  {
   "cell_type": "code",
   "execution_count": 20,
   "metadata": {},
   "outputs": [
    {
     "data": {
      "text/html": [
       "<a href=\"https://naver.com\" target=\"_blink\">move naver</a>\n"
      ],
      "text/plain": [
       "<IPython.core.display.HTML object>"
      ]
     },
     "metadata": {},
     "output_type": "display_data"
    }
   ],
   "source": [
    "%%html\n",
    "<a href=\"https://naver.com\" target=\"_blink\">move naver</a>"
   ]
  },
  {
   "cell_type": "code",
   "execution_count": null,
   "metadata": {},
   "outputs": [],
   "source": [
    "# img: 이미지 출력"
   ]
  },
  {
   "cell_type": "code",
   "execution_count": 28,
   "metadata": {},
   "outputs": [
    {
     "data": {
      "text/html": [
       "<img src=\"https://cfm.kt.com/images/v2/layout/gnb-ktlogo.png\" alt=\"kt logo\">\n"
      ],
      "text/plain": [
       "<IPython.core.display.HTML object>"
      ]
     },
     "metadata": {},
     "output_type": "display_data"
    }
   ],
   "source": [
    "%%html\n",
    "<img src=\"https://cfm.kt.com/images/v2/layout/gnb-ktlogo.png\" alt=\"kt logo\">"
   ]
  },
  {
   "cell_type": "markdown",
   "metadata": {},
   "source": [
    "### css selector\n",
    "- html element를 선택하기 위한 문법\n",
    "\n",
    "#### element를 선택하기 위한 방법들\n",
    "- tag\n",
    "- id\n",
    "- class\n",
    "- attr"
   ]
  },
  {
   "cell_type": "code",
   "execution_count": 32,
   "metadata": {},
   "outputs": [],
   "source": [
    "# tag\n",
    "# css-selector -> span -> kt3 선택"
   ]
  },
  {
   "cell_type": "code",
   "execution_count": 31,
   "metadata": {},
   "outputs": [
    {
     "data": {
      "text/html": [
       "<div>kt1</div>\n",
       "<p>kt2</p>\n",
       "<span>kt3</span>\n"
      ],
      "text/plain": [
       "<IPython.core.display.HTML object>"
      ]
     },
     "metadata": {},
     "output_type": "display_data"
    }
   ],
   "source": [
    "%%html\n",
    "<div>kt1</div>\n",
    "<p>kt2</p>\n",
    "<span>kt3</span>"
   ]
  },
  {
   "cell_type": "code",
   "execution_count": 34,
   "metadata": {},
   "outputs": [],
   "source": [
    "# id: 한 페이지에 같은 id값을 사용하지 않는다\n",
    "# css-selector -> #d2 -> kt2 선택"
   ]
  },
  {
   "cell_type": "code",
   "execution_count": 35,
   "metadata": {},
   "outputs": [
    {
     "data": {
      "text/html": [
       "<p id=\"d1\">kt1</p>\n",
       "<p id=\"d2\">kt2</p>\n",
       "<p id=\"d3\">kt3</p>\n"
      ],
      "text/plain": [
       "<IPython.core.display.HTML object>"
      ]
     },
     "metadata": {},
     "output_type": "display_data"
    }
   ],
   "source": [
    "%%html\n",
    "<p id=\"d1\">kt1</p>\n",
    "<p id=\"d2\">kt2</p>\n",
    "<p id=\"d3\">kt3</p>"
   ]
  },
  {
   "cell_type": "code",
   "execution_count": 37,
   "metadata": {},
   "outputs": [],
   "source": [
    "# class: 하나의 태그에 여러 개의 값을 사용할 수 있다\n",
    "#        한 페이지에서 동일 값을 여러 번 사용할 수 있다\n",
    "# css-selector -> .txt -> kt1, kt3 선택"
   ]
  },
  {
   "cell_type": "code",
   "execution_count": 38,
   "metadata": {},
   "outputs": [
    {
     "data": {
      "text/html": [
       "<p class=\"txt d1\">kt1</p>\n",
       "<p class=\"d2\">kt2</p>\n",
       "<p class=\"txt d3\">kt3</p>\n"
      ],
      "text/plain": [
       "<IPython.core.display.HTML object>"
      ]
     },
     "metadata": {},
     "output_type": "display_data"
    }
   ],
   "source": [
    "%%html\n",
    "<p class=\"txt d1\">kt1</p>\n",
    "<p class=\"d2\">kt2</p>\n",
    "<p class=\"txt d3\">kt3</p>"
   ]
  },
  {
   "cell_type": "code",
   "execution_count": 40,
   "metadata": {},
   "outputs": [],
   "source": [
    "# attr\n",
    "# css-selector -> [value=\"no2\"] -> kt2 선택"
   ]
  },
  {
   "cell_type": "code",
   "execution_count": 39,
   "metadata": {},
   "outputs": [
    {
     "data": {
      "text/html": [
       "<p value=\"no1\">kt1</p>\n",
       "<p value=\"no2\">kt2</p>\n",
       "<p value=\"no3\">kt3</p>\n"
      ],
      "text/plain": [
       "<IPython.core.display.HTML object>"
      ]
     },
     "metadata": {},
     "output_type": "display_data"
    }
   ],
   "source": [
    "%%html\n",
    "<p value=\"no1\">kt1</p>\n",
    "<p value=\"no2\">kt2</p>\n",
    "<p value=\"no3\">kt3</p>"
   ]
  },
  {
   "cell_type": "code",
   "execution_count": 52,
   "metadata": {},
   "outputs": [],
   "source": [
    "# 계층적으로 엘리먼트 선택\n",
    "# css-selector -> p -> kt1, kt2\n",
    "\n",
    "# > : 한 단계 하위 엘리먼트 선택\n",
    "# css-selector -> .wrap > p -> kt1\n",
    "# css-selector -> .wrap > div > p -> kt2\n",
    "\n",
    "# 공백: 하위 엘리먼트 모두 선택\n",
    "# css-selector -> .wrap p -> kt1, kt2\n",
    "\n",
    "# span 태그이면서 no1 클래스를 가진 엘리먼트 선택\n",
    "# css-selector -> span.no1 -> kt3"
   ]
  },
  {
   "cell_type": "code",
   "execution_count": 51,
   "metadata": {},
   "outputs": [
    {
     "data": {
      "text/html": [
       "<div class=\"wrap\">\n",
       "    <p class=\"no1\">kt1</p>\n",
       "    <div>\n",
       "        <p class=\"no2\">kt2</p>\n",
       "        <span class=\"no1\">kt3</span>\n",
       "    </div>\n",
       "</div>\n"
      ],
      "text/plain": [
       "<IPython.core.display.HTML object>"
      ]
     },
     "metadata": {},
     "output_type": "display_data"
    }
   ],
   "source": [
    "%%html\n",
    "<div class=\"wrap\">\n",
    "    <p class=\"no1\">kt1</p>\n",
    "    <div>\n",
    "        <p class=\"no2\">kt2</p>\n",
    "        <span class=\"no1\">kt3</span>\n",
    "    </div>\n",
    "</div>"
   ]
  },
  {
   "cell_type": "code",
   "execution_count": 54,
   "metadata": {},
   "outputs": [],
   "source": [
    "# n번째 엘리먼트 선택\n",
    "# css-selector -> .wrap > p:nth-child(2) -> kt1\n"
   ]
  },
  {
   "cell_type": "code",
   "execution_count": 55,
   "metadata": {},
   "outputs": [
    {
     "data": {
      "text/html": [
       "<div class=\"wrap\">\n",
       "    <span>kt0</span>\n",
       "    <p>kt1</p>\n",
       "    <p>kt2</p>\n",
       "    <p>kt3</p>\n",
       "</div>\n"
      ],
      "text/plain": [
       "<IPython.core.display.HTML object>"
      ]
     },
     "metadata": {},
     "output_type": "display_data"
    }
   ],
   "source": [
    "%%html\n",
    "<div class=\"wrap\">\n",
    "    <span>kt0</span>\n",
    "    <p>kt1</p>\n",
    "    <p>kt2</p>\n",
    "    <p>kt3</p>\n",
    "</div>"
   ]
  },
  {
   "cell_type": "code",
   "execution_count": null,
   "metadata": {},
   "outputs": [],
   "source": []
  }
 ],
 "metadata": {
  "interpreter": {
   "hash": "6d88e6a86dad8dc767a58725cb179de8adcebd7d752e6f8f503c296f5f3a51f1"
  },
  "kernelspec": {
   "display_name": "Python 3.10.0 64-bit",
   "language": "python",
   "name": "python3"
  },
  "language_info": {
   "codemirror_mode": {
    "name": "ipython",
    "version": 3
   },
   "file_extension": ".py",
   "mimetype": "text/x-python",
   "name": "python",
   "nbconvert_exporter": "python",
   "pygments_lexer": "ipython3",
   "version": "3.10.0"
  },
  "orig_nbformat": 4
 },
 "nbformat": 4,
 "nbformat_minor": 2
}
