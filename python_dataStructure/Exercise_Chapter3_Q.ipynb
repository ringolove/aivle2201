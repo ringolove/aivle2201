{
  "cells": [
    {
      "cell_type": "markdown",
      "metadata": {
        "id": "JA_bv2G5_jxg"
      },
      "source": [
        "## Chapter 3."
      ]
    },
    {
      "cell_type": "markdown",
      "metadata": {
        "id": "6cq3-Hkp_jxj"
      },
      "source": [
        "### Q0 (https://www.acmicpc.net/problem/2108)\n",
        "### 수를 처리하는 것은 통계학에서 상당히 중요한 일이다. 통계학에서 N개의 수를 대표하는 기본 통계값에는 다음과 같은 것들이 있다. 단, N은 홀수라고 가정하자.\n",
        "\n",
        "- 산술평균 : N개의 수들의 합을 N으로 나눈 값\n",
        "- 중앙값 : N개의 수들을 증가하는 순서로 나열했을 경우 그 중앙에 위치하는 값\n",
        "- 최빈값 : N개의 수들 중 가장 많이 나타나는 값 (여기서는 제외하자.)\n",
        "- 범위 : N개의 수들 중 최댓값과 최솟값의 차이\n",
        "- N개의 수가 주어졌을 때, 네 가지 기본 통계값을 구하는 프로그램을 작성하시오.\n",
        "\n",
        "### 입력\n",
        "- 첫째 줄에 수의 개수 N(1 ≤ N ≤ 500,000)이 주어진다. 단, N은 홀수이다. 그 다음 N개의 줄에는 정수들이 주어진다. 입력되는 정수의 절댓값은 4,000을 넘지 않는다.\n",
        "\n",
        "### 출력\n",
        "- 첫째 줄에는 산술평균을 출력한다. 소수점 이하 첫째 자리에서 반올림한 값을 출력한다.\n",
        "\n",
        "- 둘째 줄에는 중앙값을 출력한다.\n",
        "\n",
        "- 셋째 줄에는 범위를 출력한다.\n",
        "\n",
        "### 입출력예제\n",
        "|입력      |출력\n",
        "|---------|-------\n",
        "|5 <br> 1 <br> 3 <br> -2 <br> 2 | 2 <br> 2 <br> 10\n",
        "|1 <br> 4000 | 4000 <br> 4000 <br> 0\n",
        "|5 <br> -1 <br> -2 <br> -3 <br> -1 <br> -2 | -2 <br> -2 <br> 2\n",
        "\n",
        "\n",
        "### 반올림 \n",
        "- int(round(3.14, 0)) # round() 의 두 번째 인수는 반올림하는 위치이며 0은 소수점 이하 첫째 자리에서 반올림하라는 뜻임"
      ]
    },
    {
      "cell_type": "code",
      "execution_count": null,
      "metadata": {
        "colab": {
          "base_uri": "https://localhost:8080/"
        },
        "id": "yVqNix1Z_jxl",
        "outputId": "dd1a07c8-011b-431e-d5a2-82b39af7cace"
      },
      "outputs": [
        {
          "output_type": "stream",
          "name": "stdout",
          "text": [
            "3\n",
            "1\n",
            "2\n",
            "3\n",
            "[1, 2, 3]\n"
          ]
        }
      ],
      "source": [
        "# Q0 Answer template\n",
        "\n",
        "n = int(input())\n",
        "data = []\n",
        "for i in range(n):\n",
        "    data.append(int(input()))\n",
        "\n",
        "answer = 0\n",
        "print(answer)"
      ]
    },
    {
      "cell_type": "code",
      "source": [
        "n = int(input())\n",
        "data = []\n",
        "for i in range(n):\n",
        "  data.append(int(input()))\n",
        "  \n",
        "data.sort()\n",
        "\n",
        "print(round(sum(data)/n))\n",
        "print(data[n//2])\n",
        "print(data[n-1]-data[0])"
      ],
      "metadata": {
        "colab": {
          "base_uri": "https://localhost:8080/"
        },
        "id": "CFQaIAaUI5FZ",
        "outputId": "e21e3fc5-f574-401f-b040-7fd7b4dffc75"
      },
      "execution_count": 1,
      "outputs": [
        {
          "output_type": "stream",
          "name": "stdout",
          "text": [
            "3\n",
            "1\n",
            "2\n",
            "3\n",
            "2\n",
            "2\n",
            "2\n"
          ]
        }
      ]
    },
    {
      "cell_type": "markdown",
      "metadata": {
        "id": "JEiYLfWv_jxn"
      },
      "source": [
        "### Q1 \n",
        "\n",
        "### 피보나치 수는 F(0) = 0, F(1) = 1일 때, 1 이상의 n에 대하여 F(n) = F(n-1) + F(n-2) 가 적용되는 수 입니다.\n",
        "\n",
        "### 예를들어\n",
        "\n",
        "- F(2) = F(0) + F(1) = 0 + 1 = 1\n",
        "- F(3) = F(1) + F(2) = 1 + 1 = 2\n",
        "- F(4) = F(2) + F(3) = 1 + 2 = 3\n",
        "- F(5) = F(3) + F(4) = 2 + 3 = 5\n",
        "- 와 같이 이어집니다.\n",
        "\n",
        "### 2 이상의 n이 입력되었을 때, n번째 피보나치 수를 리턴하는 함수, solution을 완성해 주세요.\n",
        "\n",
        "### 제한 사항\n",
        "- n은 2 이상 100 이하인 자연수입니다.\n",
        "\n",
        "### 입출력 예\n",
        "|n|return\n",
        "|-|-\n",
        "|3|2\n",
        "|5|5"
      ]
    },
    {
      "cell_type": "code",
      "execution_count": null,
      "metadata": {
        "id": "lEQ31-Bk_jxo"
      },
      "outputs": [],
      "source": [
        "# Q1 Answer template\n",
        "\n",
        "def solution(n):\n",
        "    answer = 0\n",
        "    return answer\n",
        "\n",
        "answer = solution(n)\n",
        "print(answer)"
      ]
    },
    {
      "cell_type": "code",
      "execution_count": null,
      "metadata": {
        "id": "V19MAtji_jxp",
        "colab": {
          "base_uri": "https://localhost:8080/"
        },
        "outputId": "dd2f0c29-2483-4abf-a694-7d75281dbb95"
      },
      "outputs": [
        {
          "output_type": "stream",
          "name": "stdout",
          "text": [
            "5\n"
          ]
        }
      ],
      "source": [
        "def f(n):\n",
        "  if n==0:\n",
        "    ans = 0\n",
        "  elif n==1:\n",
        "    ans = 1\n",
        "  else:\n",
        "    ans = f(n-1)+f(n-2)\n",
        "  return ans\n",
        "\n",
        "print(f(5))"
      ]
    },
    {
      "cell_type": "code",
      "source": [
        "def f(n):\n",
        "  ans = [0,1]\n",
        "  while n>1:\n",
        "    ans.append(ans[-1]+ans[-2])\n",
        "    n -= 1\n",
        "  return ans[-1]\n",
        "\n",
        "print(f(5))"
      ],
      "metadata": {
        "colab": {
          "base_uri": "https://localhost:8080/"
        },
        "id": "yzh19P8aJc0t",
        "outputId": "ca6ff865-6d24-488a-a403-8cbb0028b481"
      },
      "execution_count": null,
      "outputs": [
        {
          "output_type": "stream",
          "name": "stdout",
          "text": [
            "5\n"
          ]
        }
      ]
    },
    {
      "cell_type": "markdown",
      "metadata": {
        "id": "-9F1ewfY_jxp"
      },
      "source": [
        "### Q2 (https://programmers.co.kr/learn/courses/30/lessons/68644)\n",
        "\n",
        "### 정수 리스트 numbers가 주어집니다. numbers에서 서로 다른 인덱스에 있는 두 개의 수를 뽑아 더해서 만들 수 있는 모든 수를 리스트에 오름차순으로 담아 return 하도록 solution 함수를 완성해주세요.\n",
        "\n",
        "### 제한사항\n",
        "- numbers의 길이는 2 이상 100 이하입니다.\n",
        "- numbers의 모든 수는 0 이상 100 이하입니다.\n",
        "- 결과값에 중복되는 값은 한번만 포함되어야 합니다.\n",
        "\n",
        "### 입출력 예\n",
        "|numbers |result\n",
        "|--------|-------\n",
        "|[2,1,3,4,1]|[2,3,4,5,6,7]\n",
        "|[5,0,2,7]|[2,5,7,9,12]"
      ]
    },
    {
      "cell_type": "code",
      "execution_count": null,
      "metadata": {
        "id": "UP-hdkrU_jxq",
        "outputId": "7a4af785-0cee-45aa-a6dd-23067569c247"
      },
      "outputs": [
        {
          "name": "stdout",
          "output_type": "stream",
          "text": [
            "[]\n"
          ]
        }
      ],
      "source": [
        "# Q2 Answer template\n",
        "\n",
        "def solution(numbers):\n",
        "    answer = []\n",
        "    return answer\n",
        "\n",
        "numbers = []\n",
        "answer = solution(numbers)\n",
        "print(answer)"
      ]
    },
    {
      "cell_type": "code",
      "execution_count": 2,
      "metadata": {
        "id": "8SsUvr5P_jxr",
        "colab": {
          "base_uri": "https://localhost:8080/"
        },
        "outputId": "836dc23c-d5f8-4b19-836f-48dcc8864c30"
      },
      "outputs": [
        {
          "output_type": "stream",
          "name": "stdout",
          "text": [
            "[2, 5, 7, 9, 12]\n"
          ]
        }
      ],
      "source": [
        "# def bub(a):\n",
        "#   n = len(a)\n",
        "#   for i in range(n-1):\n",
        "#     for j in range(n-1,i,-1):\n",
        "#       if a[j-1]>a[j]:\n",
        "#         a[j-1], a[j] = a[j], a[j-1]\n",
        "\n",
        "def s(n):\n",
        "  ans = []\n",
        "\n",
        "  for i in range(len(n),0,-1):\n",
        "    j = i\n",
        "    while j>1:\n",
        "      s = n[i-1] + n[i-j]\n",
        "      if s not in ans:\n",
        "        ans.append(s)\n",
        "      j -= 1\n",
        "  \n",
        "  ans = list(set(ans))\n",
        "  return sorted(ans)\n",
        "\n",
        "print(s([5,0,2,7]))"
      ]
    },
    {
      "cell_type": "markdown",
      "metadata": {
        "id": "OMWETA51_jxr"
      },
      "source": [
        "### Q3 \n",
        "\n",
        "### 리스트의 각 element 중 divisor로 나누어 떨어지는 값을 오름차순으로 정렬한 리스트를 반환하는 함수, solution을 작성해주세요. divisor로 나누어 떨어지는 element가 하나도 없다면 리스트에 -1을 담아 반환하세요.\n",
        "\n",
        "### 제한사항\n",
        "- arr은 자연수를 담은 리스트입니다.\n",
        "- 정수 i, j에 대해 i ≠ j 이면 arr[i] ≠ arr[j] 입니다.\n",
        "- divisor는 자연수입니다.\n",
        "- array는 길이 1 이상인 리스트입니다.\n",
        "\n",
        "### 입출력 예\n",
        "|arr  |divisor  |return\n",
        "|-----|---------|-------\n",
        "|[5, 9, 7, 10] |5 |[5, 10]\n",
        "|[2, 36, 1, 3] |1 |[1, 2, 3, 36]\n",
        "|[3,2,6] |10 |[-1]"
      ]
    },
    {
      "cell_type": "code",
      "execution_count": null,
      "metadata": {
        "id": "tCwbGP85_jxs"
      },
      "outputs": [],
      "source": [
        "# Q3 answer template\n",
        "\n",
        "def solution(arr, divisor):\n",
        "    answer = []\n",
        "    return answer\n",
        "\n",
        "arr = []\n",
        "divisor = 5\n",
        "answer = solution(arr, divisor)\n",
        "print(answer)"
      ]
    },
    {
      "cell_type": "code",
      "execution_count": null,
      "metadata": {
        "id": "9NqWXcUm_jxt",
        "colab": {
          "base_uri": "https://localhost:8080/"
        },
        "outputId": "0758fc89-6be9-4e46-febe-89f979c45f8d"
      },
      "outputs": [
        {
          "output_type": "stream",
          "name": "stdout",
          "text": [
            "[5, 10]\n"
          ]
        }
      ],
      "source": [
        "def s(a,d):\n",
        "  ans = []\n",
        "\n",
        "  for i in a:\n",
        "    if i%d == 0:\n",
        "      ans.append(i)\n",
        "  \n",
        "  if len(ans) == 0:\n",
        "    ans.append(-1)\n",
        "  \n",
        "  return sorted(ans)\n",
        "\n",
        "print(s([5, 9, 7, 10],5))\n"
      ]
    },
    {
      "cell_type": "markdown",
      "metadata": {
        "id": "BMnjd8i__jxt"
      },
      "source": [
        "### Q4 \n",
        "\n",
        "### 동일한 갯수의 원소로 구성된 두 개의 리스트 a와 b를 입력 받는다. 리스트의 원소는 모두 자연수이다. k 를 입력받아 k의 값만큼 리스트 a에 있는 원소 하나와 리스트 b에 있는 원소 하나를 골라서 두 원소를 서로 바꾸어라. 다만, 원소 교환의 목표는 교환 후 리스트 a의 모든 원소의 합이 최대가 되도록 하는 것이다.\n",
        "\n",
        "### k, 리스트 a와 b가 주어졌을 때, 최대 k번의 바꿔치기 연산을 수행하여 만들 수 있는 리스트 a의 모든 원소의 합의 최댓값을 출력하는 프로그램을 작성하시오. \n",
        "\n",
        "### 입출력 예\n",
        "| k | a | b | answer\n",
        "|---|---|---|-------\n",
        "| 3 |[1,2,5,4,3]|[5,5,6,6,5]|26\n",
        "\n"
      ]
    },
    {
      "cell_type": "code",
      "execution_count": null,
      "metadata": {
        "id": "fzLbxIwL_jxu",
        "outputId": "78e72f1e-2239-462f-e111-137bed3d491e",
        "colab": {
          "base_uri": "https://localhost:8080/"
        }
      },
      "outputs": [
        {
          "output_type": "stream",
          "name": "stdout",
          "text": [
            "0\n"
          ]
        }
      ],
      "source": [
        "# Q4 answer template\n",
        "\n",
        "def solution(k, a, b):\n",
        "    answer = 0\n",
        "    return answer\n",
        "\n",
        "k = 3\n",
        "a = [1,2,5,4,3]\n",
        "b = [5,5,6,6,5]\n",
        "answer = solution(k, a, b)\n",
        "print(answer)"
      ]
    },
    {
      "cell_type": "code",
      "execution_count": 3,
      "metadata": {
        "id": "eGrcnR1G_jxu",
        "colab": {
          "base_uri": "https://localhost:8080/"
        },
        "outputId": "9646bc25-cf5f-4dc4-f306-06d2682b18dd"
      },
      "outputs": [
        {
          "output_type": "stream",
          "name": "stdout",
          "text": [
            "26\n"
          ]
        }
      ],
      "source": [
        "def s(k,a,b):\n",
        "  for i in range(k):\n",
        "    if min(a) <= max(b):\n",
        "      del a[a.index(min(a))]\n",
        "      a.append(max(b))\n",
        "      del b[b.index(max(b))]\n",
        "  \n",
        "  return sum(a)\n",
        "\n",
        "print(s(3,[1,2,5,4,3],[5,5,6,6,5]))"
      ]
    },
    {
      "cell_type": "markdown",
      "metadata": {
        "id": "pE1ctL0y_jxv"
      },
      "source": [
        "### Q5 (https://www.acmicpc.net/problem/18310)\n",
        "\n",
        "### 일직선 상의 마을에 여러 채의 집이 위치해 있다. 이중에서 특정 위치의 집에 특별히 한 개의 안테나를 설치하기로 결정했다. 효율성을 위해 안테나로부터 모든 집까지의 거리의 총 합이 최소가 되도록 설치하려고 한다. 이 때 안테나는 집이 위치한 곳에만 설치할 수 있고, 논리적으로 동일한 위치에 여러 개의 집이 존재하는 것이 가능하다.\n",
        "### 집들의 위치 값이 주어질 때, 안테나를 설치할 위치를 선택하는 프로그램을 작성하시오.\n",
        "### 예를 들어 N=4이고, 각 위치가 1, 5, 7, 9일 때를 가정하자.\n",
        "\n",
        "<img src=\"preview.jpeg\" />\n",
        "\n",
        "### 이 경우 5의 위치에 설치했을 때, 안테나로부터 모든 집까지의 거리의 총 합이 (4+0+2+4)=10으로, 최소가 된다.\n",
        "\n",
        "### 입력\n",
        "- 집의 수 N의 범위는 1≤N≤200,000이며, N채의 집에 위치가 공백을 기준으로 구분되어 1이상 100,000이하의 자연수로 주어진다.\n",
        "\n",
        "### 출력\n",
        "- 첫째 줄에 안테나를 설치할 위치의 값을 출력한다. 단, 안테나를 설치할 수 있는 위치 값으로 여러 개의 값이 도출될 경우 가장 작은 값을 출력한다.\n",
        "\n",
        "### 입출력 예\n",
        "|입력 | 출력\n",
        "|----|----\n",
        "|[1,5,7,9]| 5"
      ]
    },
    {
      "cell_type": "code",
      "execution_count": null,
      "metadata": {
        "id": "zU2tmTcE_jxv"
      },
      "outputs": [],
      "source": [
        "# Q5 Answer template\n",
        "\n",
        "def solution(numbers):\n",
        "    \n",
        "    return answer\n",
        "\n",
        "numbers = [1, 5, 7, 9]\n",
        "answer = solution(numbers)\n",
        "print(answer)"
      ]
    },
    {
      "cell_type": "code",
      "source": [
        "def solution(numbers):\n",
        "  n = len(numbers)\n",
        "  numbers.sort()\n",
        "  distance = [None]*n\n",
        "\n",
        "  "
      ],
      "metadata": {
        "id": "zvYVo-J9h2XK"
      },
      "execution_count": null,
      "outputs": []
    },
    {
      "cell_type": "code",
      "execution_count": 4,
      "metadata": {
        "id": "RMBoJ2W7_jxv",
        "colab": {
          "base_uri": "https://localhost:8080/"
        },
        "outputId": "c7e49681-1d9a-421c-c84a-88c652a4a911"
      },
      "outputs": [
        {
          "output_type": "stream",
          "name": "stdout",
          "text": [
            "[1, 5, 7, 9]\n",
            "[18, 10, 10, 14]\n",
            "5\n"
          ]
        }
      ],
      "source": [
        "def ssearch(a, key):\n",
        "  i = 0\n",
        "    \n",
        "  while True:\n",
        "      if i == len(a):\n",
        "          return -1\n",
        "      if a[i] == key:\n",
        "          return i\n",
        "      i += 1\n",
        "\n",
        "def s(numbers):\n",
        "  n = len(numbers)\n",
        "  numbers.sort()\n",
        "  d = [None]*n\n",
        "  for i in range(n):\n",
        "    d[i] = 0\n",
        "\n",
        "    if i == 0:\n",
        "      for j in range(i+1, n):\n",
        "        d[i] = d[i]+abs(numbers[i]-numbers[j])\n",
        "    else:\n",
        "      for j in range(i-1,-1,-1):\n",
        "        d[i] = d[i]+abs(numbers[i]-numbers[j])\n",
        "      for j in range(i+1,n):\n",
        "        d[i] = d[i]+abs(numbers[i]-numbers[j])\n",
        "  print(numbers)\n",
        "  print(d)\n",
        "  index = ssearch(d, min(d))\n",
        "\n",
        "  return numbers[index]\n",
        "\n",
        "numbers=[1,5,7,9]\n",
        "ans = s(numbers)\n",
        "print(ans)"
      ]
    },
    {
      "cell_type": "code",
      "source": [
        "def s(nams):\n",
        "  n = len(nams)\n",
        "  nams.sort()\n",
        "  return nams[(n-1)//2]\n",
        "\n",
        "houses = [1,5,7,9]\n",
        "print(s(houses))"
      ],
      "metadata": {
        "colab": {
          "base_uri": "https://localhost:8080/"
        },
        "id": "0S1Dqvoqf8FB",
        "outputId": "89f05c3f-7015-42c3-b925-0c92c588c6d3"
      },
      "execution_count": null,
      "outputs": [
        {
          "output_type": "stream",
          "name": "stdout",
          "text": [
            "5\n"
          ]
        }
      ]
    },
    {
      "cell_type": "markdown",
      "metadata": {
        "id": "RWNSq6rV_jxv"
      },
      "source": [
        "### Q6 (https://programmers.co.kr/learn/courses/30/lessons/42889)\n",
        "\n",
        "### 슈퍼 게임 개발자 오렐리는 큰 고민에 빠졌다. 그녀가 만든 프랜즈 오천성이 대성공을 거뒀지만, 요즘 신규 사용자의 수가 급감한 것이다. 원인은 신규 사용자와 기존 사용자 사이에 스테이지 차이가 너무 큰 것이 문제였다.\n",
        "### 이 문제를 어떻게 할까 고민 한 그녀는 동적으로 게임 시간을 늘려서 난이도를 조절하기로 했다. 역시 슈퍼 개발자라 대부분의 로직은 쉽게 구현했지만, 실패율을 구하는 부분에서 위기에 빠지고 말았다. 오렐리를 위해 실패율을 구하는 코드를 완성하라.\n",
        "### 실패율은 다음과 같이 정의한다.\n",
        "\n",
        "- 스테이지에 도달했으나 아직 클리어하지 못한 플레이어의 수 / 스테이지에 도달한 플레이어 수\n",
        "\n",
        "### 전체 스테이지의 개수 N, 게임을 이용하는 사용자가 현재 멈춰있는 스테이지의 번호가 담긴 배열 stages가 매개변수로 주어질 때, 실패율이 높은 스테이지부터 내림차순으로 스테이지의 번호가 담겨있는 배열을 return 하도록 solution 함수를 완성하라.\n",
        "\n",
        "### 제한사항\n",
        "- 스테이지의 개수 N은 1 이상 500 이하의 자연수이다.\n",
        "- stages의 길이는 1 이상 200,000 이하이다.\n",
        "- stages에는 1 이상 N + 1 이하의 자연수가 담겨있다.\n",
        "- 각 자연수는 사용자가 현재 도전 중인 스테이지의 번호를 나타낸다.\n",
        "- 단, N + 1 은 마지막 스테이지(N 번째 스테이지) 까지 클리어 한 사용자를 나타낸다.\n",
        "- 만약 실패율이 같은 스테이지가 있다면 작은 번호의 스테이지가 먼저 오도록 하면 된다.\n",
        "- 스테이지에 도달한 유저가 없는 경우 해당 스테이지의 실패율은 0 으로 정의한다.\n",
        "\n",
        "### 입출력 예\n",
        "|N |stages  |result\n",
        "|--|--------|------\n",
        "|5 |[2, 1, 2, 6, 2, 4, 3, 3] |[3,4,2,1,5]\n",
        "|4 |[4,4,4,4,4] |[4,1,2,3]\n",
        "\n",
        "### 입출력 예 설명\n",
        "\n",
        "### 입출력 예 #1\n",
        "- 1번 스테이지에는 총 8명의 사용자가 도전했으며, 이 중 1명의 사용자가 아직 클리어하지 못했다. 따라서 1번 스테이지의 실패율은 다음과 같다.\n",
        "- 1 번 스테이지 실패율 : 1/8\n",
        "- 2번 스테이지에는 총 7명의 사용자가 도전했으며, 이 중 3명의 사용자가 아직 클리어하지 못했다. 따라서 2번 스테이지의 실패율은 다음과 같다.\n",
        "- 2 번 스테이지 실패율 : 3/7\n",
        "- 마찬가지로 나머지 스테이지의 실패율은 다음과 같다.\n",
        "- 3 번 스테이지 실패율 : 2/4\n",
        "- 4번 스테이지 실패율 : 1/2\n",
        "- 5번 스테이지 실패율 : 0/1\n",
        "- 각 스테이지의 번호를 실패율의 내림차순으로 정렬하면 다음과 같다.\n",
        "- [3,4,2,1,5]\n",
        "\n",
        "### 입출력 예 #2\n",
        "- 모든 사용자가 마지막 스테이지에 있으므로 4번 스테이지의 실패율은 1이며 나머지 스테이지의 실패율은 0이다.\n",
        "- [4,1,2,3]"
      ]
    },
    {
      "cell_type": "code",
      "execution_count": null,
      "metadata": {
        "id": "tznj2Ckh_jxw"
      },
      "outputs": [],
      "source": [
        "# Q6 Answer template\n",
        "\n",
        "def solution(N, stages):\n",
        "    answer = []\n",
        "    return answer\n",
        "\n",
        "N = 5\n",
        "stages = [2, 1, 2, 6, 2, 4, 3, 3]\n",
        "answer = solution(N, stages)\n",
        "print(answer)"
      ]
    },
    {
      "cell_type": "code",
      "execution_count": 5,
      "metadata": {
        "id": "Cg_w_Pny_jxw",
        "colab": {
          "base_uri": "https://localhost:8080/"
        },
        "outputId": "c27376c9-be08-4d50-94b5-bb63adf1944e"
      },
      "outputs": [
        {
          "output_type": "stream",
          "name": "stdout",
          "text": [
            "[3, 4, 2, 1, 5]\n"
          ]
        }
      ],
      "source": [
        "def s(n, stages):\n",
        "  total = len(stages)\n",
        "  ans = []\n",
        "  for i in range(1, n+1):\n",
        "    c = 0\n",
        "    for j in stages:\n",
        "      if j == i:\n",
        "        c += 1\n",
        "    \n",
        "    if total == 0:\n",
        "      fail = 0\n",
        "    else:\n",
        "      fail = c/total\n",
        "    \n",
        "    total = total - c\n",
        "    ans.append((i, fail))\n",
        "\n",
        "  ans = sorted(ans, key=lambda x: x[1], reverse=True)\n",
        "\n",
        "  ans = [i[0] for i in ans]\n",
        "\n",
        "  return ans\n",
        "\n",
        "print(s(5,[2,1,2,6,2,4,3,3]))\n",
        "\n"
      ]
    }
  ],
  "metadata": {
    "kernelspec": {
      "display_name": "Python 3",
      "language": "python",
      "name": "python3"
    },
    "language_info": {
      "codemirror_mode": {
        "name": "ipython",
        "version": 3
      },
      "file_extension": ".py",
      "mimetype": "text/x-python",
      "name": "python",
      "nbconvert_exporter": "python",
      "pygments_lexer": "ipython3",
      "version": "3.6.7"
    },
    "colab": {
      "name": "Exercise-Chapter3-Q.ipynb",
      "provenance": [],
      "collapsed_sections": []
    }
  },
  "nbformat": 4,
  "nbformat_minor": 0
}