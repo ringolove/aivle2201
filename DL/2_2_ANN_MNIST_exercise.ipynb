{
  "nbformat": 4,
  "nbformat_minor": 0,
  "metadata": {
    "colab": {
      "name": "2_2_ANN_MNIST_exercise.ipynb",
      "provenance": [],
      "collapsed_sections": []
    },
    "kernelspec": {
      "name": "python3",
      "display_name": "Python 3"
    }
  },
  "cells": [
    {
      "cell_type": "markdown",
      "metadata": {
        "id": "UdrP_vI3QcNd"
      },
      "source": [
        "# ANN & MNIST : exercise"
      ]
    },
    {
      "cell_type": "markdown",
      "source": [
        "## 라이브러리 불러오기"
      ],
      "metadata": {
        "id": "QEyK7WODzFZA"
      }
    },
    {
      "cell_type": "code",
      "metadata": {
        "id": "2At3z2IdQew-"
      },
      "source": [
        "import tensorflow as tf\n",
        "from tensorflow import keras\n",
        "\n",
        "import numpy as np\n",
        "import pandas as pd\n",
        "import matplotlib.pyplot as plt\n",
        "\n",
        "import random as rd\n",
        "\n",
        "from sklearn.metrics import accuracy_score"
      ],
      "execution_count": null,
      "outputs": []
    },
    {
      "cell_type": "markdown",
      "metadata": {
        "id": "F7A8vUrQRpPd"
      },
      "source": [
        "## 데이터 불러오기"
      ]
    },
    {
      "cell_type": "code",
      "metadata": {
        "id": "gBQdcFgkRiv-"
      },
      "source": [
        "(train_x, train_y), (test_x, test_y) = tf.keras.datasets.mnist.load_data()"
      ],
      "execution_count": null,
      "outputs": []
    },
    {
      "cell_type": "code",
      "metadata": {
        "id": "_GKNGA5qRnf-",
        "colab": {
          "base_uri": "https://localhost:8080/"
        },
        "outputId": "3236ca31-4e60-4008-d536-a53337ccaf51"
      },
      "source": [
        "train_x.shape, train_y.shape, test_x.shape, test_y.shape"
      ],
      "execution_count": null,
      "outputs": [
        {
          "output_type": "execute_result",
          "data": {
            "text/plain": [
              "((60000, 28, 28), (60000,), (10000, 28, 28), (10000,))"
            ]
          },
          "metadata": {},
          "execution_count": 87
        }
      ]
    },
    {
      "cell_type": "code",
      "metadata": {
        "id": "-rOBjv_HMZT9",
        "colab": {
          "base_uri": "https://localhost:8080/"
        },
        "outputId": "05bd29c4-e27e-44a1-df33-c2a006bf2373"
      },
      "source": [
        "train_x[0]"
      ],
      "execution_count": null,
      "outputs": [
        {
          "output_type": "execute_result",
          "data": {
            "text/plain": [
              "array([[  0,   0,   0,   0,   0,   0,   0,   0,   0,   0,   0,   0,   0,\n",
              "          0,   0,   0,   0,   0,   0,   0,   0,   0,   0,   0,   0,   0,\n",
              "          0,   0],\n",
              "       [  0,   0,   0,   0,   0,   0,   0,   0,   0,   0,   0,   0,   0,\n",
              "          0,   0,   0,   0,   0,   0,   0,   0,   0,   0,   0,   0,   0,\n",
              "          0,   0],\n",
              "       [  0,   0,   0,   0,   0,   0,   0,   0,   0,   0,   0,   0,   0,\n",
              "          0,   0,   0,   0,   0,   0,   0,   0,   0,   0,   0,   0,   0,\n",
              "          0,   0],\n",
              "       [  0,   0,   0,   0,   0,   0,   0,   0,   0,   0,   0,   0,   0,\n",
              "          0,   0,   0,   0,   0,   0,   0,   0,   0,   0,   0,   0,   0,\n",
              "          0,   0],\n",
              "       [  0,   0,   0,   0,   0,   0,   0,   0,   0,   0,   0,   0,   0,\n",
              "          0,   0,   0,   0,   0,   0,   0,   0,   0,   0,   0,   0,   0,\n",
              "          0,   0],\n",
              "       [  0,   0,   0,   0,   0,   0,   0,   0,   0,   0,   0,   0,   3,\n",
              "         18,  18,  18, 126, 136, 175,  26, 166, 255, 247, 127,   0,   0,\n",
              "          0,   0],\n",
              "       [  0,   0,   0,   0,   0,   0,   0,   0,  30,  36,  94, 154, 170,\n",
              "        253, 253, 253, 253, 253, 225, 172, 253, 242, 195,  64,   0,   0,\n",
              "          0,   0],\n",
              "       [  0,   0,   0,   0,   0,   0,   0,  49, 238, 253, 253, 253, 253,\n",
              "        253, 253, 253, 253, 251,  93,  82,  82,  56,  39,   0,   0,   0,\n",
              "          0,   0],\n",
              "       [  0,   0,   0,   0,   0,   0,   0,  18, 219, 253, 253, 253, 253,\n",
              "        253, 198, 182, 247, 241,   0,   0,   0,   0,   0,   0,   0,   0,\n",
              "          0,   0],\n",
              "       [  0,   0,   0,   0,   0,   0,   0,   0,  80, 156, 107, 253, 253,\n",
              "        205,  11,   0,  43, 154,   0,   0,   0,   0,   0,   0,   0,   0,\n",
              "          0,   0],\n",
              "       [  0,   0,   0,   0,   0,   0,   0,   0,   0,  14,   1, 154, 253,\n",
              "         90,   0,   0,   0,   0,   0,   0,   0,   0,   0,   0,   0,   0,\n",
              "          0,   0],\n",
              "       [  0,   0,   0,   0,   0,   0,   0,   0,   0,   0,   0, 139, 253,\n",
              "        190,   2,   0,   0,   0,   0,   0,   0,   0,   0,   0,   0,   0,\n",
              "          0,   0],\n",
              "       [  0,   0,   0,   0,   0,   0,   0,   0,   0,   0,   0,  11, 190,\n",
              "        253,  70,   0,   0,   0,   0,   0,   0,   0,   0,   0,   0,   0,\n",
              "          0,   0],\n",
              "       [  0,   0,   0,   0,   0,   0,   0,   0,   0,   0,   0,   0,  35,\n",
              "        241, 225, 160, 108,   1,   0,   0,   0,   0,   0,   0,   0,   0,\n",
              "          0,   0],\n",
              "       [  0,   0,   0,   0,   0,   0,   0,   0,   0,   0,   0,   0,   0,\n",
              "         81, 240, 253, 253, 119,  25,   0,   0,   0,   0,   0,   0,   0,\n",
              "          0,   0],\n",
              "       [  0,   0,   0,   0,   0,   0,   0,   0,   0,   0,   0,   0,   0,\n",
              "          0,  45, 186, 253, 253, 150,  27,   0,   0,   0,   0,   0,   0,\n",
              "          0,   0],\n",
              "       [  0,   0,   0,   0,   0,   0,   0,   0,   0,   0,   0,   0,   0,\n",
              "          0,   0,  16,  93, 252, 253, 187,   0,   0,   0,   0,   0,   0,\n",
              "          0,   0],\n",
              "       [  0,   0,   0,   0,   0,   0,   0,   0,   0,   0,   0,   0,   0,\n",
              "          0,   0,   0,   0, 249, 253, 249,  64,   0,   0,   0,   0,   0,\n",
              "          0,   0],\n",
              "       [  0,   0,   0,   0,   0,   0,   0,   0,   0,   0,   0,   0,   0,\n",
              "          0,  46, 130, 183, 253, 253, 207,   2,   0,   0,   0,   0,   0,\n",
              "          0,   0],\n",
              "       [  0,   0,   0,   0,   0,   0,   0,   0,   0,   0,   0,   0,  39,\n",
              "        148, 229, 253, 253, 253, 250, 182,   0,   0,   0,   0,   0,   0,\n",
              "          0,   0],\n",
              "       [  0,   0,   0,   0,   0,   0,   0,   0,   0,   0,  24, 114, 221,\n",
              "        253, 253, 253, 253, 201,  78,   0,   0,   0,   0,   0,   0,   0,\n",
              "          0,   0],\n",
              "       [  0,   0,   0,   0,   0,   0,   0,   0,  23,  66, 213, 253, 253,\n",
              "        253, 253, 198,  81,   2,   0,   0,   0,   0,   0,   0,   0,   0,\n",
              "          0,   0],\n",
              "       [  0,   0,   0,   0,   0,   0,  18, 171, 219, 253, 253, 253, 253,\n",
              "        195,  80,   9,   0,   0,   0,   0,   0,   0,   0,   0,   0,   0,\n",
              "          0,   0],\n",
              "       [  0,   0,   0,   0,  55, 172, 226, 253, 253, 253, 253, 244, 133,\n",
              "         11,   0,   0,   0,   0,   0,   0,   0,   0,   0,   0,   0,   0,\n",
              "          0,   0],\n",
              "       [  0,   0,   0,   0, 136, 253, 253, 253, 212, 135, 132,  16,   0,\n",
              "          0,   0,   0,   0,   0,   0,   0,   0,   0,   0,   0,   0,   0,\n",
              "          0,   0],\n",
              "       [  0,   0,   0,   0,   0,   0,   0,   0,   0,   0,   0,   0,   0,\n",
              "          0,   0,   0,   0,   0,   0,   0,   0,   0,   0,   0,   0,   0,\n",
              "          0,   0],\n",
              "       [  0,   0,   0,   0,   0,   0,   0,   0,   0,   0,   0,   0,   0,\n",
              "          0,   0,   0,   0,   0,   0,   0,   0,   0,   0,   0,   0,   0,\n",
              "          0,   0],\n",
              "       [  0,   0,   0,   0,   0,   0,   0,   0,   0,   0,   0,   0,   0,\n",
              "          0,   0,   0,   0,   0,   0,   0,   0,   0,   0,   0,   0,   0,\n",
              "          0,   0]], dtype=uint8)"
            ]
          },
          "metadata": {},
          "execution_count": 88
        }
      ]
    },
    {
      "cell_type": "code",
      "metadata": {
        "id": "qW4ZeZcNRouf",
        "colab": {
          "base_uri": "https://localhost:8080/",
          "height": 300
        },
        "outputId": "779ab588-b4e0-4186-d97d-4d1bcecbc609"
      },
      "source": [
        "'''\n",
        "Ctrl+Enter를 이용하여\n",
        "반복 실행 해보자!\n",
        "'''\n",
        "\n",
        "id = rd.randrange(0,10000)\n",
        "#id = 0\n",
        "\n",
        "print(f'id = {id}')\n",
        "print(f'다음 그림은 숫자 {train_y[id]} 입니다.')\n",
        "\n",
        "plt.imshow(train_x[id], cmap='gray')\n",
        "plt.show()"
      ],
      "execution_count": null,
      "outputs": [
        {
          "output_type": "stream",
          "name": "stdout",
          "text": [
            "id = 3018\n",
            "다음 그림은 숫자 4 입니다.\n"
          ]
        },
        {
          "output_type": "display_data",
          "data": {
            "text/plain": [
              "<Figure size 432x288 with 1 Axes>"
            ],
            "image/png": "[encoded data removed]"
          },
          "metadata": {
            "needs_background": "light"
          }
        }
      ]
    },
    {
      "cell_type": "markdown",
      "source": [
        "## 데이터 전처리"
      ],
      "metadata": {
        "id": "UcckuQyK2Hj9"
      }
    },
    {
      "cell_type": "markdown",
      "source": [
        "* reshape"
      ],
      "metadata": {
        "id": "IrZCdbKY3UKp"
      }
    },
    {
      "cell_type": "code",
      "source": [
        "# train_x = train_x.reshape([train_x.shape[0],-1])\n",
        "# test_x = test_x.reshape([test_x.shape[0],-1])"
      ],
      "metadata": {
        "id": "r5cuGyf_QjQ2"
      },
      "execution_count": null,
      "outputs": []
    },
    {
      "cell_type": "markdown",
      "source": [
        "* min-max scaling"
      ],
      "metadata": {
        "id": "EWhadGmn3dWI"
      }
    },
    {
      "cell_type": "code",
      "source": [
        "max_n = train_x.max()"
      ],
      "metadata": {
        "id": "6bRjerNCQl0_"
      },
      "execution_count": null,
      "outputs": []
    },
    {
      "cell_type": "code",
      "source": [
        "train_x = train_x/max_n\n",
        "test_x = test_x/max_n"
      ],
      "metadata": {
        "id": "jxLQw2FhEH7H"
      },
      "execution_count": null,
      "outputs": []
    },
    {
      "cell_type": "code",
      "source": [
        "train_x.max(), train_x.min()"
      ],
      "metadata": {
        "colab": {
          "base_uri": "https://localhost:8080/"
        },
        "id": "7QCRfyxUESeZ",
        "outputId": "6821792e-4a7e-4409-fa8f-1fe2c254f43e"
      },
      "execution_count": null,
      "outputs": [
        {
          "output_type": "execute_result",
          "data": {
            "text/plain": [
              "(1.0, 0.0)"
            ]
          },
          "metadata": {},
          "execution_count": 93
        }
      ]
    },
    {
      "cell_type": "markdown",
      "source": [
        "* target feature : One-hot Encoding"
      ],
      "metadata": {
        "id": "vAAvHQol3jKy"
      }
    },
    {
      "cell_type": "code",
      "source": [
        "from tensorflow.keras.utils import to_categorical\n",
        "\n",
        "y_len = len(set(train_y))"
      ],
      "metadata": {
        "id": "p_NtVhofQm-K"
      },
      "execution_count": null,
      "outputs": []
    },
    {
      "cell_type": "code",
      "source": [
        "train_y = to_categorical(train_y, y_len)\n",
        "test_y = to_categorical(test_y, y_len)"
      ],
      "metadata": {
        "id": "decZskiM9HFx"
      },
      "execution_count": null,
      "outputs": []
    },
    {
      "cell_type": "code",
      "source": [
        "train_x.shape, train_y.shape"
      ],
      "metadata": {
        "id": "10Cw84Tv7TfY",
        "colab": {
          "base_uri": "https://localhost:8080/"
        },
        "outputId": "0c4b6ee2-cdf4-4b5b-9294-05d79b87be3e"
      },
      "execution_count": null,
      "outputs": [
        {
          "output_type": "execute_result",
          "data": {
            "text/plain": [
              "((60000, 28, 28), (60000, 10))"
            ]
          },
          "metadata": {},
          "execution_count": 96
        }
      ]
    },
    {
      "cell_type": "markdown",
      "metadata": {
        "id": "mQ_FTTj7XAtC"
      },
      "source": [
        "## 모델링 I\n",
        "\n",
        "1. Sequential, Functional 아무 것이나!\n",
        "2. 히든레이어 없이 epochs=50 으로 성능 관찰.\n",
        "3. activation, loss 설정\n",
        "4. Early Stopping"
      ]
    },
    {
      "cell_type": "code",
      "source": [
        "########################\n",
        "# 모델링 I : .fit( ) 까지!\n",
        "########################\n",
        "keras.backend.clear_session()\n",
        "\n",
        "model = keras.models.Sequential()\n",
        "\n",
        "model.add(keras.layers.Input(shape=(28,28)))\n",
        "model.add(keras.layers.Flatten()) # 인풋 레이어를 평평하게\n",
        "model.add(keras.layers.Dense(10, activation='softmax'))\n",
        "\n",
        "model.compile(loss='categorical_crossentropy', metrics=['accuracy'], optimizer='adam')\n",
        "\n",
        "model.summary()"
      ],
      "metadata": {
        "id": "jKqN4AY1Qt36",
        "colab": {
          "base_uri": "https://localhost:8080/"
        },
        "outputId": "3e12e5e1-e241-4a1b-9935-a6fb013ad196"
      },
      "execution_count": null,
      "outputs": [
        {
          "output_type": "stream",
          "name": "stdout",
          "text": [
            "Model: \"sequential\"\n",
            "_________________________________________________________________\n",
            " Layer (type)                Output Shape              Param #   \n",
            "=================================================================\n",
            " flatten (Flatten)           (None, 784)               0         \n",
            "                                                                 \n",
            " dense (Dense)               (None, 10)                7850      \n",
            "                                                                 \n",
            "=================================================================\n",
            "Total params: 7,850\n",
            "Trainable params: 7,850\n",
            "Non-trainable params: 0\n",
            "_________________________________________________________________\n"
          ]
        }
      ]
    },
    {
      "cell_type": "code",
      "source": [
        "from tensorflow.keras.callbacks import EarlyStopping"
      ],
      "metadata": {
        "id": "5_-aj44k9n7F"
      },
      "execution_count": null,
      "outputs": []
    },
    {
      "cell_type": "code",
      "source": [
        "es = EarlyStopping(monitor='val_loss', min_delta=0, patience=5, verbose=1, restore_best_weights=True)"
      ],
      "metadata": {
        "id": "5ijjhaRn9rX-"
      },
      "execution_count": null,
      "outputs": []
    },
    {
      "cell_type": "code",
      "source": [
        "model.fit(train_x, train_y, validation_split=0.2, callbacks=[es], verbose=1, epochs=50)"
      ],
      "metadata": {
        "colab": {
          "base_uri": "https://localhost:8080/"
        },
        "id": "gjiTdoit9rRE",
        "outputId": "26cf9eb9-acbb-4d26-af6c-44a000e64fba"
      },
      "execution_count": null,
      "outputs": [
        {
          "output_type": "stream",
          "name": "stdout",
          "text": [
            "Epoch 1/50\n",
            "1500/1500 [==============================] - 3s 2ms/step - loss: 0.5125 - accuracy: 0.8685 - val_loss: 0.3184 - val_accuracy: 0.9112\n",
            "Epoch 2/50\n",
            "1500/1500 [==============================] - 3s 2ms/step - loss: 0.3182 - accuracy: 0.9115 - val_loss: 0.2878 - val_accuracy: 0.9191\n",
            "Epoch 3/50\n",
            "1500/1500 [==============================] - 3s 2ms/step - loss: 0.2937 - accuracy: 0.9179 - val_loss: 0.2768 - val_accuracy: 0.9234\n",
            "Epoch 4/50\n",
            "1500/1500 [==============================] - 3s 2ms/step - loss: 0.2816 - accuracy: 0.9205 - val_loss: 0.2721 - val_accuracy: 0.9245\n",
            "Epoch 5/50\n",
            "1500/1500 [==============================] - 3s 2ms/step - loss: 0.2736 - accuracy: 0.9232 - val_loss: 0.2679 - val_accuracy: 0.9265\n",
            "Epoch 6/50\n",
            "1500/1500 [==============================] - 3s 2ms/step - loss: 0.2687 - accuracy: 0.9247 - val_loss: 0.2667 - val_accuracy: 0.9272\n",
            "Epoch 7/50\n",
            "1500/1500 [==============================] - 3s 2ms/step - loss: 0.2645 - accuracy: 0.9268 - val_loss: 0.2669 - val_accuracy: 0.9263\n",
            "Epoch 8/50\n",
            "1500/1500 [==============================] - 3s 2ms/step - loss: 0.2608 - accuracy: 0.9267 - val_loss: 0.2631 - val_accuracy: 0.9298\n",
            "Epoch 9/50\n",
            "1500/1500 [==============================] - 3s 2ms/step - loss: 0.2581 - accuracy: 0.9278 - val_loss: 0.2594 - val_accuracy: 0.9298\n",
            "Epoch 10/50\n",
            "1500/1500 [==============================] - 3s 2ms/step - loss: 0.2553 - accuracy: 0.9288 - val_loss: 0.2630 - val_accuracy: 0.9287\n",
            "Epoch 11/50\n",
            "1500/1500 [==============================] - 3s 2ms/step - loss: 0.2532 - accuracy: 0.9290 - val_loss: 0.2658 - val_accuracy: 0.9281\n",
            "Epoch 12/50\n",
            "1500/1500 [==============================] - 3s 2ms/step - loss: 0.2514 - accuracy: 0.9301 - val_loss: 0.2602 - val_accuracy: 0.9297\n",
            "Epoch 13/50\n",
            "1500/1500 [==============================] - 3s 2ms/step - loss: 0.2496 - accuracy: 0.9310 - val_loss: 0.2645 - val_accuracy: 0.9278\n",
            "Epoch 14/50\n",
            "1497/1500 [============================>.] - ETA: 0s - loss: 0.2482 - accuracy: 0.9304Restoring model weights from the end of the best epoch: 9.\n",
            "1500/1500 [==============================] - 3s 2ms/step - loss: 0.2482 - accuracy: 0.9304 - val_loss: 0.2642 - val_accuracy: 0.9284\n",
            "Epoch 14: early stopping\n"
          ]
        },
        {
          "output_type": "execute_result",
          "data": {
            "text/plain": [
              "<keras.callbacks.History at 0x7fee11b31950>"
            ]
          },
          "metadata": {},
          "execution_count": 100
        }
      ]
    },
    {
      "cell_type": "code",
      "metadata": {
        "id": "3LZQpXA01gEE",
        "colab": {
          "base_uri": "https://localhost:8080/"
        },
        "outputId": "c26a9f1a-452b-4c24-abf0-0a599bdb6031"
      },
      "source": [
        "pred_train = model.predict(train_x)\n",
        "pred_test = model.predict(test_x)\n",
        "\n",
        "single_pred_train = pred_train.argmax(axis=1)\n",
        "single_pred_test = pred_test.argmax(axis=1)\n",
        "\n",
        "logi_train_accuracy = accuracy_score(train_y.argmax(axis=1), single_pred_train)\n",
        "logi_test_accuracy = accuracy_score(test_y.argmax(axis=1), single_pred_test)\n",
        "\n",
        "print('트레이닝 정확도 : {:.2f}%'.format(logi_train_accuracy*100))\n",
        "print('테스트 정확도 : {:.2f}%'.format(logi_test_accuracy*100))"
      ],
      "execution_count": null,
      "outputs": [
        {
          "output_type": "stream",
          "name": "stdout",
          "text": [
            "트레이닝 정확도 : 93.11%\n",
            "테스트 정확도 : 92.74%\n"
          ]
        }
      ]
    },
    {
      "cell_type": "code",
      "source": [
        "mnist_labels = ['0', '1', '2', '3', '4', '5', '6', '7', '8', '9']\n",
        "\n",
        "figure = plt.figure(figsize=(20, 10))\n",
        "\n",
        "for i, index in enumerate(np.random.choice(test_x.shape[0], size=15, replace=False)):\n",
        "    ax = figure.add_subplot(3, 5, i + 1, xticks=[], yticks=[])\n",
        "    # Display each image\n",
        "    ax.imshow(np.squeeze(test_x[index].reshape([28,-1])), cmap='gray' )\n",
        "    \n",
        "    predict_index = pred_test[index].argmax(axis=0)\n",
        "    true_index = test_y[index].argmax(axis=0)\n",
        "    # Set the title for each image\n",
        "    ax.set_title(f\"{mnist_labels[predict_index]} ({mnist_labels[true_index]})\",\n",
        "                 color=(\"green\" if predict_index == true_index else \"red\"))"
      ],
      "metadata": {
        "id": "qpc22yPV2ojZ",
        "colab": {
          "base_uri": "https://localhost:8080/",
          "height": 453
        },
        "outputId": "cd210f75-7133-439f-b4f3-64f90452fd17"
      },
      "execution_count": null,
      "outputs": [
        {
          "output_type": "display_data",
          "data": {
            "text/plain": [
              "<Figure size 1440x720 with 15 Axes>"
            ],
            "image/png": "[encoded data removed]"
          },
          "metadata": {}
        }
      ]
    },
    {
      "cell_type": "code",
      "metadata": {
        "id": "LWYzgkHh1gEM",
        "colab": {
          "base_uri": "https://localhost:8080/",
          "height": 387
        },
        "outputId": "dde709cf-b440-4be7-d2d5-8461728117c7"
      },
      "source": [
        "'''\n",
        "틀린 것만 관찰해보자!\n",
        "\n",
        "Ctrl+Enter를 이용하여\n",
        "반복 실행 해보자!\n",
        "'''\n",
        "\n",
        "true_false = (test_y.argmax(axis=1) == single_pred_test)\n",
        "f_id = np.where(true_false == False)[0]\n",
        "f_n = len(f_id)\n",
        "\n",
        "id = f_id[rd.randrange(0,f_n)]\n",
        "\n",
        "print(f'id = {id}' )\n",
        "print(f'다음 그림은 숫자 {test_y.argmax(axis=1)[id]} 입니다.')\n",
        "print(f'모델의 예측 : {single_pred_test[id]}')\n",
        "print(f'모델의 카테고리별 확률 : {np.floor(pred_test[id]*100)}')\n",
        "\n",
        "if test_y.argmax(axis=1)[id] == single_pred_test[id] :\n",
        "    print('===============')\n",
        "    print('정답입니다')\n",
        "    print('===============')\n",
        "else : \n",
        "    print('===============')\n",
        "    print('틀렸어요')\n",
        "    print('===============')\n",
        "\n",
        "plt.imshow(test_x[id].reshape([28,-1]), cmap='gray')\n",
        "plt.show()"
      ],
      "execution_count": null,
      "outputs": [
        {
          "output_type": "stream",
          "name": "stdout",
          "text": [
            "id = 3558\n",
            "다음 그림은 숫자 5 입니다.\n",
            "모델의 예측 : 0\n",
            "모델의 카테고리별 확률 : [89.  0.  0.  0.  0.  6.  2.  0.  0.  0.]\n",
            "===============\n",
            "틀렸어요\n",
            "===============\n"
          ]
        },
        {
          "output_type": "display_data",
          "data": {
            "text/plain": [
              "<Figure size 432x288 with 1 Axes>"
            ],
            "image/png": "[encoded data removed]"
          },
          "metadata": {
            "needs_background": "light"
          }
        }
      ]
    },
    {
      "cell_type": "code",
      "source": [
        "model.evaluate(test_x, test_y)"
      ],
      "metadata": {
        "id": "NFpmX8rrP0T9",
        "colab": {
          "base_uri": "https://localhost:8080/"
        },
        "outputId": "f5531af7-951e-4308-aaee-842884091cf0"
      },
      "execution_count": null,
      "outputs": [
        {
          "output_type": "stream",
          "name": "stdout",
          "text": [
            "313/313 [==============================] - 1s 2ms/step - loss: 0.2646 - accuracy: 0.9274\n"
          ]
        },
        {
          "output_type": "execute_result",
          "data": {
            "text/plain": [
              "[0.2645686864852905, 0.9273999929428101]"
            ]
          },
          "metadata": {},
          "execution_count": 104
        }
      ]
    },
    {
      "cell_type": "markdown",
      "metadata": {
        "id": "Zf8Kd1vj4J_q"
      },
      "source": [
        "\n",
        "\n",
        "---\n",
        "\n"
      ]
    },
    {
      "cell_type": "markdown",
      "metadata": {
        "id": "X0oixpzuOken"
      },
      "source": [
        "## 모델링 II\n",
        "\n",
        "1. Sequential, Functional 아무 것이나!\n",
        "2. 히든레이어 3개 이상 쌓고, epochs=50 으로 성능 관찰.\n",
        "3. activation, loss 설정\n",
        "4. Early Stopping"
      ]
    },
    {
      "cell_type": "code",
      "source": [
        "#########################\n",
        "# 모델링 II : .fit( ) 까지!\n",
        "#########################\n",
        "keras.backend.clear_session()\n",
        "\n",
        "a = keras.layers.Input(shape=(28,28))\n",
        "fl = keras.layers.Flatten()(a)\n",
        "h = keras.layers.Dense(256, activation='relu')(fl)\n",
        "h = keras.layers.Dense(128, activation='relu')(h)\n",
        "h = keras.layers.Dense(64, activation='relu')(h)\n",
        "b = keras.layers.Dense(10, activation='softmax')(h)\n",
        "\n",
        "model2 = keras.models.Model(a,b)\n",
        "\n",
        "model2.compile(loss='categorical_crossentropy', metrics=['accuracy'], optimizer='adam')\n",
        "\n",
        "model2.summary()"
      ],
      "metadata": {
        "id": "igqds2zPQ7pu",
        "colab": {
          "base_uri": "https://localhost:8080/"
        },
        "outputId": "7678534b-1a19-49e2-b055-75e5bbc049df"
      },
      "execution_count": null,
      "outputs": [
        {
          "output_type": "stream",
          "name": "stdout",
          "text": [
            "Model: \"model\"\n",
            "_________________________________________________________________\n",
            " Layer (type)                Output Shape              Param #   \n",
            "=================================================================\n",
            " input_1 (InputLayer)        [(None, 28, 28)]          0         \n",
            "                                                                 \n",
            " flatten (Flatten)           (None, 784)               0         \n",
            "                                                                 \n",
            " dense (Dense)               (None, 256)               200960    \n",
            "                                                                 \n",
            " dense_1 (Dense)             (None, 128)               32896     \n",
            "                                                                 \n",
            " dense_2 (Dense)             (None, 64)                8256      \n",
            "                                                                 \n",
            " dense_3 (Dense)             (None, 10)                650       \n",
            "                                                                 \n",
            "=================================================================\n",
            "Total params: 242,762\n",
            "Trainable params: 242,762\n",
            "Non-trainable params: 0\n",
            "_________________________________________________________________\n"
          ]
        }
      ]
    },
    {
      "cell_type": "code",
      "source": [
        "from tensorflow.keras.callbacks import EarlyStopping\n",
        "\n",
        "es = EarlyStopping(monitor='val_loss', min_delta=0, patience=5, verbose=1, restore_best_weights=True)"
      ],
      "metadata": {
        "id": "ts3UzNAyCllF"
      },
      "execution_count": null,
      "outputs": []
    },
    {
      "cell_type": "code",
      "source": [
        "model.fit(train_x, train_y, validation_split=0.2, callbacks=[es], verbose=1, epochs=50)"
      ],
      "metadata": {
        "colab": {
          "base_uri": "https://localhost:8080/"
        },
        "id": "MMrN1hUqCtTd",
        "outputId": "9462f67e-71df-403a-b301-22b4dc6290ae"
      },
      "execution_count": null,
      "outputs": [
        {
          "output_type": "stream",
          "name": "stdout",
          "text": [
            "Epoch 1/50\n",
            "1500/1500 [==============================] - 3s 2ms/step - loss: 0.2500 - accuracy: 0.9301 - val_loss: 0.2613 - val_accuracy: 0.9302\n",
            "Epoch 2/50\n",
            "1500/1500 [==============================] - 3s 2ms/step - loss: 0.2482 - accuracy: 0.9312 - val_loss: 0.2605 - val_accuracy: 0.9308\n",
            "Epoch 3/50\n",
            "1500/1500 [==============================] - 3s 2ms/step - loss: 0.2467 - accuracy: 0.9314 - val_loss: 0.2691 - val_accuracy: 0.9271\n",
            "Epoch 4/50\n",
            "1500/1500 [==============================] - 3s 2ms/step - loss: 0.2457 - accuracy: 0.9317 - val_loss: 0.2623 - val_accuracy: 0.9297\n",
            "Epoch 5/50\n",
            "1500/1500 [==============================] - 3s 2ms/step - loss: 0.2447 - accuracy: 0.9317 - val_loss: 0.2598 - val_accuracy: 0.9302\n",
            "Epoch 6/50\n",
            "1500/1500 [==============================] - 3s 2ms/step - loss: 0.2433 - accuracy: 0.9326 - val_loss: 0.2638 - val_accuracy: 0.9300\n",
            "Epoch 7/50\n",
            "1500/1500 [==============================] - 3s 2ms/step - loss: 0.2425 - accuracy: 0.9328 - val_loss: 0.2653 - val_accuracy: 0.9291\n",
            "Epoch 8/50\n",
            "1500/1500 [==============================] - 3s 2ms/step - loss: 0.2414 - accuracy: 0.9326 - val_loss: 0.2631 - val_accuracy: 0.9310\n",
            "Epoch 9/50\n",
            "1500/1500 [==============================] - 3s 2ms/step - loss: 0.2406 - accuracy: 0.9326 - val_loss: 0.2640 - val_accuracy: 0.9305\n",
            "Epoch 10/50\n",
            "1467/1500 [============================>.] - ETA: 0s - loss: 0.2396 - accuracy: 0.9334Restoring model weights from the end of the best epoch: 5.\n",
            "1500/1500 [==============================] - 3s 2ms/step - loss: 0.2396 - accuracy: 0.9333 - val_loss: 0.2625 - val_accuracy: 0.9312\n",
            "Epoch 10: early stopping\n"
          ]
        },
        {
          "output_type": "execute_result",
          "data": {
            "text/plain": [
              "<keras.callbacks.History at 0x7fee11c03090>"
            ]
          },
          "metadata": {},
          "execution_count": 115
        }
      ]
    },
    {
      "cell_type": "code",
      "metadata": {
        "id": "RK1KSAYBOkep",
        "colab": {
          "base_uri": "https://localhost:8080/"
        },
        "outputId": "46728677-aadc-420d-d53f-1862564d47d4"
      },
      "source": [
        "pred_train = model.predict(train_x)\n",
        "pred_test = model.predict(test_x)\n",
        "\n",
        "single_pred_train = pred_train.argmax(axis=1)\n",
        "single_pred_test = pred_test.argmax(axis=1)\n",
        "\n",
        "logi_train_accuracy = accuracy_score(train_y.argmax(axis=1), single_pred_train)\n",
        "logi_test_accuracy = accuracy_score(test_y.argmax(axis=1), single_pred_test)\n",
        "\n",
        "print('트레이닝 정확도 : {:.2f}%'.format(logi_train_accuracy*100))\n",
        "print('테스트 정확도 : {:.2f}%'.format(logi_test_accuracy*100))"
      ],
      "execution_count": null,
      "outputs": [
        {
          "output_type": "stream",
          "name": "stdout",
          "text": [
            "트레이닝 정확도 : 93.23%\n",
            "테스트 정확도 : 92.86%\n"
          ]
        }
      ]
    },
    {
      "cell_type": "code",
      "source": [
        "mnist_labels = ['0', '1', '2', '3', '4', '5', '6', '7', '8', '9']\n",
        "\n",
        "figure = plt.figure(figsize=(20, 10))\n",
        "\n",
        "for i, index in enumerate(np.random.choice(test_x.shape[0], size=15, replace=False)):\n",
        "    ax = figure.add_subplot(3, 5, i + 1, xticks=[], yticks=[])\n",
        "    # Display each image\n",
        "    ax.imshow(np.squeeze(test_x[index].reshape([28,-1])), cmap='gray' )\n",
        "    \n",
        "    predict_index = pred_test[index].argmax(axis=0)\n",
        "    true_index = test_y[index].argmax(axis=0)\n",
        "    # Set the title for each image\n",
        "    ax.set_title(f\"{mnist_labels[predict_index]} ({mnist_labels[true_index]})\",\n",
        "                 color=(\"green\" if predict_index == true_index else \"red\"))"
      ],
      "metadata": {
        "id": "oaqGP_11Okep",
        "colab": {
          "base_uri": "https://localhost:8080/",
          "height": 453
        },
        "outputId": "f2c37544-f15e-4cd9-a2a8-4f75cc0adf77"
      },
      "execution_count": null,
      "outputs": [
        {
          "output_type": "display_data",
          "data": {
            "text/plain": [
              "<Figure size 1440x720 with 15 Axes>"
            ],
            "image/png": "[encoded data removed]"
          },
          "metadata": {}
        }
      ]
    },
    {
      "cell_type": "code",
      "metadata": {
        "id": "VMYH5ksPOkep",
        "colab": {
          "base_uri": "https://localhost:8080/",
          "height": 387
        },
        "outputId": "41b6889b-f36e-4314-b186-f976cadc633c"
      },
      "source": [
        "'''\n",
        "틀린 것만 관찰해보자!\n",
        "\n",
        "Ctrl+Enter를 이용하여\n",
        "반복 실행 해보자!\n",
        "'''\n",
        "\n",
        "true_false = (test_y.argmax(axis=1) == single_pred_test)\n",
        "f_id = np.where(true_false == False)[0]\n",
        "f_n = len(f_id)\n",
        "\n",
        "id = f_id[rd.randrange(0,f_n)]\n",
        "\n",
        "print(f'id = {id}' )\n",
        "print(f'다음 그림은 숫자 {test_y.argmax(axis=1)[id]} 입니다.')\n",
        "print(f'모델의 예측 : {single_pred_test[id]}')\n",
        "print(f'모델의 카테고리별 확률 : {np.floor(pred_test[id]*100)}')\n",
        "\n",
        "if test_y.argmax(axis=1)[id] == single_pred_test[id] :\n",
        "    print('===============')\n",
        "    print('정답입니다')\n",
        "    print('===============')\n",
        "else : \n",
        "    print('===============')\n",
        "    print('틀렸어요')\n",
        "    print('===============')\n",
        "\n",
        "plt.imshow(test_x[id].reshape([28,-1]), cmap='gray')\n",
        "plt.show()"
      ],
      "execution_count": null,
      "outputs": [
        {
          "output_type": "stream",
          "name": "stdout",
          "text": [
            "id = 7459\n",
            "다음 그림은 숫자 9 입니다.\n",
            "모델의 예측 : 5\n",
            "모델의 카테고리별 확률 : [ 0.  0.  0.  0.  2. 52.  0.  0. 20. 24.]\n",
            "===============\n",
            "틀렸어요\n",
            "===============\n"
          ]
        },
        {
          "output_type": "display_data",
          "data": {
            "text/plain": [
              "<Figure size 432x288 with 1 Axes>"
            ],
            "image/png": "[encoded data removed]"
          },
          "metadata": {
            "needs_background": "light"
          }
        }
      ]
    },
    {
      "cell_type": "code",
      "source": [
        "model.evaluate(test_x, test_y)"
      ],
      "metadata": {
        "id": "Tdq81PdoO66-",
        "colab": {
          "base_uri": "https://localhost:8080/"
        },
        "outputId": "54211766-ae6c-476c-a0af-bbe84e6f8bd7"
      },
      "execution_count": null,
      "outputs": [
        {
          "output_type": "stream",
          "name": "stdout",
          "text": [
            "313/313 [==============================] - 1s 2ms/step - loss: 0.2658 - accuracy: 0.9286\n"
          ]
        },
        {
          "output_type": "execute_result",
          "data": {
            "text/plain": [
              "[0.26584339141845703, 0.928600013256073]"
            ]
          },
          "metadata": {},
          "execution_count": 111
        }
      ]
    }
  ]
}