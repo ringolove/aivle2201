{
 "cells": [
  {
   "cell_type": "markdown",
   "metadata": {},
   "source": [
    "### 크롤링 정책\n",
    "- robots.txt: 크롤링 정책을 설명한 페이지\n",
    "- 과도한 크롤링으로 서비스에 영향을 주면 법적 문제가 있을 수 있다\n",
    "- 사람인, 잡코리아: 2008년~2018년\n",
    "- api 사용 > robots.txt > 서비스에 피해가 가지 않는 선에서 수집\n",
    "- 서비스 피해\n",
    "    - 지적재산권\n",
    "    - 서비스 과부화\n",
    "    - 데이터 사용 표준"
   ]
  },
  {
   "cell_type": "markdown",
   "metadata": {},
   "source": [
    "### API 서비스를 이용한 데이터 수집\n",
    "- kakao api(application programing interface)\n",
    "- application 등록: app_key\n",
    "- document 확인: url\n",
    "- request(url, app_key, data) > response(json(str))\n",
    "- json(str) > list, dict"
   ]
  },
  {
   "cell_type": "code",
   "execution_count": 27,
   "metadata": {},
   "outputs": [],
   "source": [
    "import json\n",
    "import requests\n",
    "import pandas as pd"
   ]
  },
  {
   "cell_type": "code",
   "execution_count": 5,
   "metadata": {},
   "outputs": [],
   "source": [
    "# 1. application 등록: app_key\n",
    "APP_KEY = \"240f0b690989c3fab6e972f20c28e671\""
   ]
  },
  {
   "cell_type": "code",
   "execution_count": 13,
   "metadata": {},
   "outputs": [],
   "source": [
    "# 2. document 확인: url\n",
    "# post: url, params, headers\n",
    "url = \"https://dapi.kakao.com/v2/translation/translate\"\n",
    "params = {\"query\": \"파이썬 웹크롤링 수업 입니다.\", \"src_lang\": \"kr\", \"target_lang\": \"en\"}\n",
    "headers = {\"Authorization\": f\"KakaoAK {APP_KEY}\"}"
   ]
  },
  {
   "cell_type": "code",
   "execution_count": 17,
   "metadata": {},
   "outputs": [
    {
     "data": {
      "text/plain": [
       "<Response [200]>"
      ]
     },
     "execution_count": 17,
     "metadata": {},
     "output_type": "execute_result"
    }
   ],
   "source": [
    "# 3. request(url, app_key, data) > response(json(str))\n",
    "response = requests.post(url, params, headers=headers)\n",
    "response"
   ]
  },
  {
   "cell_type": "code",
   "execution_count": 20,
   "metadata": {},
   "outputs": [
    {
     "data": {
      "text/plain": [
       "{'translated_text': [['Python Webcrolling class.']]}"
      ]
     },
     "execution_count": 20,
     "metadata": {},
     "output_type": "execute_result"
    }
   ],
   "source": [
    "response.json()"
   ]
  },
  {
   "cell_type": "code",
   "execution_count": 18,
   "metadata": {},
   "outputs": [
    {
     "data": {
      "text/plain": [
       "'{\"translated_text\":[[\"Python Webcrolling class.\"]]}'"
      ]
     },
     "execution_count": 18,
     "metadata": {},
     "output_type": "execute_result"
    }
   ],
   "source": [
    "response.text"
   ]
  },
  {
   "cell_type": "code",
   "execution_count": 19,
   "metadata": {},
   "outputs": [
    {
     "data": {
      "text/plain": [
       "'Python Webcrolling class.'"
      ]
     },
     "execution_count": 19,
     "metadata": {},
     "output_type": "execute_result"
    }
   ],
   "source": [
    "# 4. json(str) > list, dict\n",
    "en_txt = response.json()[\"translated_text\"][0][0]\n",
    "en_txt"
   ]
  },
  {
   "cell_type": "code",
   "execution_count": 22,
   "metadata": {},
   "outputs": [
    {
     "data": {
      "text/plain": [
       "'Python programming is fun'"
      ]
     },
     "execution_count": 22,
     "metadata": {},
     "output_type": "execute_result"
    }
   ],
   "source": [
    "# 5. function\n",
    "def translate(text, src=\"kr\", target=\"en\"):\n",
    "    APP_KEY = \"240f0b690989c3fab6e972f20c28e671\"\n",
    "    \n",
    "    url = \"https://dapi.kakao.com/v2/translation/translate\"\n",
    "    params = {\"query\": text, \"src_lang\": src, \"target_lang\": target}\n",
    "    headers = {\"Authorization\": f\"KakaoAK {APP_KEY}\"}\n",
    "    \n",
    "    response = requests.post(url, params, headers=headers)\n",
    "    return response.json()[\"translated_text\"][0][0]\n",
    "\n",
    "text = \"파이썬 프로그래밍은 재밌..습니다\"\n",
    "en_text = translate(text)\n",
    "en_text"
   ]
  },
  {
   "cell_type": "code",
   "execution_count": 24,
   "metadata": {},
   "outputs": [
    {
     "data": {
      "text/html": [
       "<div>\n",
       "<style scoped>\n",
       "    .dataframe tbody tr th:only-of-type {\n",
       "        vertical-align: middle;\n",
       "    }\n",
       "\n",
       "    .dataframe tbody tr th {\n",
       "        vertical-align: top;\n",
       "    }\n",
       "\n",
       "    .dataframe thead th {\n",
       "        text-align: right;\n",
       "    }\n",
       "</style>\n",
       "<table border=\"1\" class=\"dataframe\">\n",
       "  <thead>\n",
       "    <tr style=\"text-align: right;\">\n",
       "      <th></th>\n",
       "      <th>id</th>\n",
       "      <th>title</th>\n",
       "    </tr>\n",
       "  </thead>\n",
       "  <tbody>\n",
       "    <tr>\n",
       "      <th>0</th>\n",
       "      <td>1</td>\n",
       "      <td>파이썬은 재밌..습니다</td>\n",
       "    </tr>\n",
       "    <tr>\n",
       "      <th>1</th>\n",
       "      <td>2</td>\n",
       "      <td>웹크롤링은.. 재밌습니다</td>\n",
       "    </tr>\n",
       "  </tbody>\n",
       "</table>\n",
       "</div>"
      ],
      "text/plain": [
       "   id          title\n",
       "0   1   파이썬은 재밌..습니다\n",
       "1   2  웹크롤링은.. 재밌습니다"
      ]
     },
     "execution_count": 24,
     "metadata": {},
     "output_type": "execute_result"
    }
   ],
   "source": [
    "df = pd.DataFrame(\n",
    "    [{\"id\":1, \"title\": \"파이썬은 재밌..습니다\"},\n",
    "     {\"id\":2, \"title\": \"웹크롤링은.. 재밌습니다\"}]\n",
    ")\n",
    "df"
   ]
  },
  {
   "cell_type": "code",
   "execution_count": 28,
   "metadata": {},
   "outputs": [
    {
     "data": {
      "text/html": [
       "<div>\n",
       "<style scoped>\n",
       "    .dataframe tbody tr th:only-of-type {\n",
       "        vertical-align: middle;\n",
       "    }\n",
       "\n",
       "    .dataframe tbody tr th {\n",
       "        vertical-align: top;\n",
       "    }\n",
       "\n",
       "    .dataframe thead th {\n",
       "        text-align: right;\n",
       "    }\n",
       "</style>\n",
       "<table border=\"1\" class=\"dataframe\">\n",
       "  <thead>\n",
       "    <tr style=\"text-align: right;\">\n",
       "      <th></th>\n",
       "      <th>id</th>\n",
       "      <th>title</th>\n",
       "      <th>en_title</th>\n",
       "    </tr>\n",
       "  </thead>\n",
       "  <tbody>\n",
       "    <tr>\n",
       "      <th>0</th>\n",
       "      <td>1</td>\n",
       "      <td>파이썬은 재밌..습니다</td>\n",
       "      <td>Python is fun</td>\n",
       "    </tr>\n",
       "    <tr>\n",
       "      <th>1</th>\n",
       "      <td>2</td>\n",
       "      <td>웹크롤링은.. 재밌습니다</td>\n",
       "      <td>Web crawling is...fun</td>\n",
       "    </tr>\n",
       "  </tbody>\n",
       "</table>\n",
       "</div>"
      ],
      "text/plain": [
       "   id          title               en_title\n",
       "0   1   파이썬은 재밌..습니다          Python is fun\n",
       "1   2  웹크롤링은.. 재밌습니다  Web crawling is...fun"
      ]
     },
     "execution_count": 28,
     "metadata": {},
     "output_type": "execute_result"
    }
   ],
   "source": [
    "df[\"en_title\"] = df[\"title\"].apply(translate)\n",
    "df"
   ]
  }
 ],
 "metadata": {
  "interpreter": {
   "hash": "6d88e6a86dad8dc767a58725cb179de8adcebd7d752e6f8f503c296f5f3a51f1"
  },
  "kernelspec": {
   "display_name": "Python 3.10.0 64-bit",
   "language": "python",
   "name": "python3"
  },
  "language_info": {
   "codemirror_mode": {
    "name": "ipython",
    "version": 3
   },
   "file_extension": ".py",
   "mimetype": "text/x-python",
   "name": "python",
   "nbconvert_exporter": "python",
   "pygments_lexer": "ipython3",
   "version": "3.10.0"
  },
  "orig_nbformat": 4
 },
 "nbformat": 4,
 "nbformat_minor": 2
}
