{
 "cells": [
  {
   "cell_type": "markdown",
   "metadata": {},
   "source": [
    "### 웹크롤링 방법\n",
    "- 동적 페이지: json -> response.json() ->dict, list -> DataFrame\n",
    "- 정적 페이지: html -> bs -> css-selector -> text -> DataFrame\n",
    "- selenium을 이용한 크롤링\n",
    "    - 동적 페이지, 정적 페이지, API의 방법으로 데이터를 수집할 수 없을 때 사용\n",
    "    - 파이썬 코드로 컨트롤할 수 있는 자동화된 브라우저를 띄워 크롤링할 페이지로 이동한 후에 브라우저에 있는 정보를 수집\n",
    "    - 웹서비스 테스트 자동화를 목적으로 만들어진 패키지, 다양한 언어 및 브라우저 지원\n",
    "\n",
    "- 크롤링 방식에 따른 속도\n",
    "    - 동적 페이지(json, api) > 정적 페이지(html) >>> selenium(browser)\n",
    "\n",
    "- 설정\n",
    "    - 패키지 인스톨: !pip install selenium\n",
    "    - 크롬 드라이버 다운로드\n",
    "    - 압축해제\n",
    "    - 현재 디렉토리로 파일 이동"
   ]
  },
  {
   "cell_type": "code",
   "execution_count": 1,
   "metadata": {},
   "outputs": [],
   "source": [
    "import pandas as pd\n",
    "from selenium import webdriver"
   ]
  },
  {
   "cell_type": "code",
   "execution_count": 5,
   "metadata": {},
   "outputs": [],
   "source": [
    "# 브라우저 열기\n",
    "driver = webdriver.Chrome()"
   ]
  },
  {
   "cell_type": "code",
   "execution_count": 6,
   "metadata": {},
   "outputs": [],
   "source": [
    "# 페이지 이동\n",
    "driver.get(\"https://daum.net\")"
   ]
  },
  {
   "cell_type": "code",
   "execution_count": 7,
   "metadata": {},
   "outputs": [],
   "source": [
    "# 브라우저 사이즈 조절\n",
    "driver.set_window_size(900,1000)"
   ]
  },
  {
   "cell_type": "code",
   "execution_count": null,
   "metadata": {},
   "outputs": [],
   "source": [
    "# 브라우저 종료: 메모리 100M 절약\n",
    "driver.quit()"
   ]
  },
  {
   "cell_type": "markdown",
   "metadata": {},
   "source": [
    "### ted 사이트에서 영상 목록 데이터 수집"
   ]
  },
  {
   "cell_type": "code",
   "execution_count": 19,
   "metadata": {},
   "outputs": [],
   "source": [
    "# 1. 브라우저 열기\n",
    "driver = webdriver.Chrome()"
   ]
  },
  {
   "cell_type": "code",
   "execution_count": 20,
   "metadata": {},
   "outputs": [],
   "source": [
    "# 2. 테드 사이트로 이동\n",
    "driver.get(\"https://ted.com/talks\")"
   ]
  },
  {
   "cell_type": "code",
   "execution_count": 26,
   "metadata": {},
   "outputs": [
    {
     "name": "stderr",
     "output_type": "stream",
     "text": [
      "C:\\Users\\myblo\\AppData\\Local\\Temp\\ipykernel_12672\\4218043759.py:5: DeprecationWarning: find_element_by_* commands are deprecated. Please use find_element() instead\n",
      "  driver.find_element_by_css_selector(\"#banner-secondary\").text\n"
     ]
    },
    {
     "data": {
      "text/plain": [
       "'Join TED Recommends to get the best ideas, selected just for you'"
      ]
     },
     "execution_count": 26,
     "metadata": {},
     "output_type": "execute_result"
    }
   ],
   "source": [
    "# 3. 타이틀 문자열 데이터 수집\n",
    "\n",
    "# select = find_element_by_css_selector\n",
    "# select_one = find_element_by_css_selector\n",
    "driver.find_element_by_css_selector(\"#banner-secondary\").text"
   ]
  },
  {
   "cell_type": "code",
   "execution_count": 25,
   "metadata": {},
   "outputs": [],
   "source": [
    "# import warnings\n",
    "# warnings.filterwarnings(\"ignore\")"
   ]
  },
  {
   "cell_type": "code",
   "execution_count": 30,
   "metadata": {},
   "outputs": [
    {
     "name": "stderr",
     "output_type": "stream",
     "text": [
      "C:\\Users\\myblo\\AppData\\Local\\Temp\\ipykernel_12672\\1367580822.py:5: DeprecationWarning: find_elements_by_* commands are deprecated. Please use find_elements() instead\n",
      "  elements = driver.find_elements_by_css_selector(selector)\n"
     ]
    },
    {
     "data": {
      "text/plain": [
       "36"
      ]
     },
     "execution_count": 30,
     "metadata": {},
     "output_type": "execute_result"
    }
   ],
   "source": [
    "# 4. 영상의 제목 데이터 수집\n",
    "\n",
    "# 여러개의 영상 elements 선택\n",
    "selector = \"#browse-results > div.row > div\"\n",
    "elements = driver.find_elements_by_css_selector(selector)\n",
    "len(elements)"
   ]
  },
  {
   "cell_type": "code",
   "execution_count": 38,
   "metadata": {},
   "outputs": [
    {
     "name": "stderr",
     "output_type": "stream",
     "text": [
      "C:\\Users\\myblo\\AppData\\Local\\Programs\\Python\\Python310\\lib\\site-packages\\selenium\\webdriver\\remote\\webelement.py:484: UserWarning: find_element_by_* commands are deprecated. Please use find_element() instead\n",
      "  warnings.warn(\"find_element_by_* commands are deprecated. Please use find_element() instead\")\n"
     ]
    },
    {
     "data": {
      "text/plain": [
       "{'title': 'Climate action needs new frontline leadership',\n",
       " 'link': 'https://www.ted.com/talks/ozawa_bineshi_albert_climate_action_needs_new_frontline_leadership'}"
      ]
     },
     "execution_count": 38,
     "metadata": {},
     "output_type": "execute_result"
    }
   ],
   "source": [
    "# 하나의 element에서 필요한 데이터 수집\n",
    "\n",
    "# bs: attr -> .get(\"href\")\n",
    "# selenium: .get_attribute(\"href\")\n",
    "element = elements[0]\n",
    "datum = {\n",
    "    \"title\": element.find_element_by_css_selector(\"h4 > .ga-link\").text,\n",
    "    \"link\": element.find_element_by_css_selector(\"h4 > .ga-link\").get_attribute(\"href\")\n",
    "}\n",
    "datum"
   ]
  },
  {
   "cell_type": "code",
   "execution_count": 42,
   "metadata": {},
   "outputs": [
    {
     "name": "stderr",
     "output_type": "stream",
     "text": [
      "C:\\Users\\myblo\\AppData\\Local\\Programs\\Python\\Python310\\lib\\site-packages\\selenium\\webdriver\\remote\\webelement.py:484: UserWarning: find_element_by_* commands are deprecated. Please use find_element() instead\n",
      "  warnings.warn(\"find_element_by_* commands are deprecated. Please use find_element() instead\")\n"
     ]
    },
    {
     "name": "stdout",
     "output_type": "stream",
     "text": [
      "CPU times: total: 172 ms\n",
      "Wall time: 1.17 s\n"
     ]
    },
    {
     "data": {
      "text/html": [
       "<div>\n",
       "<style scoped>\n",
       "    .dataframe tbody tr th:only-of-type {\n",
       "        vertical-align: middle;\n",
       "    }\n",
       "\n",
       "    .dataframe tbody tr th {\n",
       "        vertical-align: top;\n",
       "    }\n",
       "\n",
       "    .dataframe thead th {\n",
       "        text-align: right;\n",
       "    }\n",
       "</style>\n",
       "<table border=\"1\" class=\"dataframe\">\n",
       "  <thead>\n",
       "    <tr style=\"text-align: right;\">\n",
       "      <th></th>\n",
       "      <th>title</th>\n",
       "      <th>link</th>\n",
       "    </tr>\n",
       "  </thead>\n",
       "  <tbody>\n",
       "    <tr>\n",
       "      <th>31</th>\n",
       "      <td>The myth of Anansi, the trickster spider</td>\n",
       "      <td>https://www.ted.com/talks/emily_zobel_marshall...</td>\n",
       "    </tr>\n",
       "    <tr>\n",
       "      <th>32</th>\n",
       "      <td>A different understanding of American patriotism</td>\n",
       "      <td>https://www.ted.com/talks/deval_patrick_a_diff...</td>\n",
       "    </tr>\n",
       "    <tr>\n",
       "      <th>33</th>\n",
       "      <td>4 ways to redefine power at work to include wo...</td>\n",
       "      <td>https://www.ted.com/talks/rha_goddess_and_deep...</td>\n",
       "    </tr>\n",
       "    <tr>\n",
       "      <th>34</th>\n",
       "      <td>How to boost nature-based solutions to climate...</td>\n",
       "      <td>https://www.ted.com/talks/zac_goldsmith_how_to...</td>\n",
       "    </tr>\n",
       "    <tr>\n",
       "      <th>35</th>\n",
       "      <td>Which animal has the best eyesight?</td>\n",
       "      <td>https://www.ted.com/talks/thomas_w_cronin_whic...</td>\n",
       "    </tr>\n",
       "  </tbody>\n",
       "</table>\n",
       "</div>"
      ],
      "text/plain": [
       "                                                title  \\\n",
       "31           The myth of Anansi, the trickster spider   \n",
       "32   A different understanding of American patriotism   \n",
       "33  4 ways to redefine power at work to include wo...   \n",
       "34  How to boost nature-based solutions to climate...   \n",
       "35                Which animal has the best eyesight?   \n",
       "\n",
       "                                                 link  \n",
       "31  https://www.ted.com/talks/emily_zobel_marshall...  \n",
       "32  https://www.ted.com/talks/deval_patrick_a_diff...  \n",
       "33  https://www.ted.com/talks/rha_goddess_and_deep...  \n",
       "34  https://www.ted.com/talks/zac_goldsmith_how_to...  \n",
       "35  https://www.ted.com/talks/thomas_w_cronin_whic...  "
      ]
     },
     "execution_count": 42,
     "metadata": {},
     "output_type": "execute_result"
    }
   ],
   "source": [
    "%%time\n",
    "data = []\n",
    "for element in elements:\n",
    "    data.append({\n",
    "        \"title\": element.find_element_by_css_selector(\"h4 > .ga-link\").text,\n",
    "    \"link\": element.find_element_by_css_selector(\"h4 > .ga-link\").get_attribute(\"href\")\n",
    "    })\n",
    "df = pd.DataFrame(data)\n",
    "df.tail()"
   ]
  },
  {
   "cell_type": "code",
   "execution_count": 48,
   "metadata": {},
   "outputs": [
    {
     "name": "stderr",
     "output_type": "stream",
     "text": [
      "C:\\Users\\myblo\\AppData\\Local\\Temp\\ipykernel_12672\\3241010039.py:2: DeprecationWarning: find_element_by_* commands are deprecated. Please use find_element() instead\n",
      "  driver.find_element_by_css_selector('[lang=\"ko\"]').click()\n",
      "C:\\Users\\myblo\\AppData\\Local\\Temp\\ipykernel_12672\\3241010039.py:6: DeprecationWarning: find_elements_by_* commands are deprecated. Please use find_elements() instead\n",
      "  elements = driver.find_elements_by_css_selector(selector)\n",
      "C:\\Users\\myblo\\AppData\\Local\\Programs\\Python\\Python310\\lib\\site-packages\\selenium\\webdriver\\remote\\webelement.py:484: UserWarning: find_element_by_* commands are deprecated. Please use find_element() instead\n",
      "  warnings.warn(\"find_element_by_* commands are deprecated. Please use find_element() instead\")\n"
     ]
    },
    {
     "data": {
      "text/html": [
       "<div>\n",
       "<style scoped>\n",
       "    .dataframe tbody tr th:only-of-type {\n",
       "        vertical-align: middle;\n",
       "    }\n",
       "\n",
       "    .dataframe tbody tr th {\n",
       "        vertical-align: top;\n",
       "    }\n",
       "\n",
       "    .dataframe thead th {\n",
       "        text-align: right;\n",
       "    }\n",
       "</style>\n",
       "<table border=\"1\" class=\"dataframe\">\n",
       "  <thead>\n",
       "    <tr style=\"text-align: right;\">\n",
       "      <th></th>\n",
       "      <th>title</th>\n",
       "      <th>link</th>\n",
       "    </tr>\n",
       "  </thead>\n",
       "  <tbody>\n",
       "    <tr>\n",
       "      <th>31</th>\n",
       "      <td>일기 예보는 얼마나 정확할까요?</td>\n",
       "      <td>https://www.ted.com/talks/mona_chalabi_how_acc...</td>\n",
       "    </tr>\n",
       "    <tr>\n",
       "      <th>32</th>\n",
       "      <td>시력 보존의 과학</td>\n",
       "      <td>https://www.ted.com/talks/joshua_chu_tan_the_s...</td>\n",
       "    </tr>\n",
       "    <tr>\n",
       "      <th>33</th>\n",
       "      <td>자율주행 택시 시대가 다가오고 있습니다</td>\n",
       "      <td>https://www.ted.com/talks/aicha_evans_your_sel...</td>\n",
       "    </tr>\n",
       "    <tr>\n",
       "      <th>34</th>\n",
       "      <td>자연의 요새: 선인장은 어떻게 수분을 유지하고 포식자를 쫓아내는가 - 루카스 C. ...</td>\n",
       "      <td>https://www.ted.com/talks/lucas_c_majure_natur...</td>\n",
       "    </tr>\n",
       "    <tr>\n",
       "      <th>35</th>\n",
       "      <td>슬픈 이야기를 재밌게 만드는 법 - 조디 홀스턴 라우</td>\n",
       "      <td>https://www.ted.com/talks/jodie_houlston_lau_h...</td>\n",
       "    </tr>\n",
       "  </tbody>\n",
       "</table>\n",
       "</div>"
      ],
      "text/plain": [
       "                                                title  \\\n",
       "31                                  일기 예보는 얼마나 정확할까요?   \n",
       "32                                          시력 보존의 과학   \n",
       "33                              자율주행 택시 시대가 다가오고 있습니다   \n",
       "34  자연의 요새: 선인장은 어떻게 수분을 유지하고 포식자를 쫓아내는가 - 루카스 C. ...   \n",
       "35                      슬픈 이야기를 재밌게 만드는 법 - 조디 홀스턴 라우   \n",
       "\n",
       "                                                 link  \n",
       "31  https://www.ted.com/talks/mona_chalabi_how_acc...  \n",
       "32  https://www.ted.com/talks/joshua_chu_tan_the_s...  \n",
       "33  https://www.ted.com/talks/aicha_evans_your_sel...  \n",
       "34  https://www.ted.com/talks/lucas_c_majure_natur...  \n",
       "35  https://www.ted.com/talks/jodie_houlston_lau_h...  "
      ]
     },
     "execution_count": 48,
     "metadata": {},
     "output_type": "execute_result"
    }
   ],
   "source": [
    "# 5. 셀렉트 박스의 한국어 클릭\n",
    "driver.find_element_by_css_selector('[lang=\"ko\"]').click()\n",
    "\n",
    "# 6. 출력된 영상의 제목 데이터 수집\n",
    "selector = \"#browse-results > div.row > div\"\n",
    "elements = driver.find_elements_by_css_selector(selector)\n",
    "data = []\n",
    "for element in elements:\n",
    "    data.append({\n",
    "        \"title\": element.find_element_by_css_selector(\"h4 > .ga-link\").text,\n",
    "    \"link\": element.find_element_by_css_selector(\"h4 > .ga-link\").get_attribute(\"href\")\n",
    "    })\n",
    "df = pd.DataFrame(data)\n",
    "df.tail()"
   ]
  },
  {
   "cell_type": "code",
   "execution_count": 49,
   "metadata": {},
   "outputs": [],
   "source": [
    "# 페이지 이동\n",
    "driver.get(\"https://daum.net\")"
   ]
  },
  {
   "cell_type": "code",
   "execution_count": 52,
   "metadata": {},
   "outputs": [
    {
     "name": "stderr",
     "output_type": "stream",
     "text": [
      "C:\\Users\\myblo\\AppData\\Local\\Temp\\ipykernel_12672\\2813358102.py:1: DeprecationWarning: find_element_by_* commands are deprecated. Please use find_element() instead\n",
      "  driver.find_element_by_css_selector(\"#q\").send_keys(\"kt\")\n"
     ]
    }
   ],
   "source": [
    "driver.find_element_by_css_selector(\"#q\").send_keys(\"kt\")"
   ]
  },
  {
   "cell_type": "code",
   "execution_count": 54,
   "metadata": {},
   "outputs": [
    {
     "name": "stderr",
     "output_type": "stream",
     "text": [
      "C:\\Users\\myblo\\AppData\\Local\\Temp\\ipykernel_12672\\498396993.py:1: DeprecationWarning: find_element_by_* commands are deprecated. Please use find_element() instead\n",
      "  driver.find_element_by_css_selector(\".ico_pctop.btn_search\").click()\n"
     ]
    }
   ],
   "source": [
    "driver.find_element_by_css_selector(\".ico_pctop.btn_search\").click()"
   ]
  },
  {
   "cell_type": "code",
   "execution_count": 55,
   "metadata": {},
   "outputs": [],
   "source": [
    "driver.quit()"
   ]
  },
  {
   "cell_type": "markdown",
   "metadata": {},
   "source": [
    "### summary\n",
    "- web: client-server > url\n",
    "- status code: 200, 300, 400, 500\n",
    "- 동적 페이지: json, api\n",
    "- 정적 페이지: html > css-selector\n",
    "    - 이미지 데이터 수집\n",
    "- selenium: 브라우저를 띄워 데이터를 수집\n",
    "- api > 동적 페이지(json) > 정적 페이지 >>> selenium"
   ]
  },
  {
   "cell_type": "code",
   "execution_count": null,
   "metadata": {},
   "outputs": [],
   "source": []
  }
 ],
 "metadata": {
  "interpreter": {
   "hash": "6d88e6a86dad8dc767a58725cb179de8adcebd7d752e6f8f503c296f5f3a51f1"
  },
  "kernelspec": {
   "display_name": "Python 3.10.0 64-bit",
   "language": "python",
   "name": "python3"
  },
  "language_info": {
   "codemirror_mode": {
    "name": "ipython",
    "version": 3
   },
   "file_extension": ".py",
   "mimetype": "text/x-python",
   "name": "python",
   "nbconvert_exporter": "python",
   "pygments_lexer": "ipython3",
   "version": "3.10.0"
  },
  "orig_nbformat": 4
 },
 "nbformat": 4,
 "nbformat_minor": 2
}
