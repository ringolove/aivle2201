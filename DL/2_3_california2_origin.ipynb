{
  "nbformat": 4,
  "nbformat_minor": 0,
  "metadata": {
    "colab": {
      "name": "california-origin",
      "provenance": [],
      "collapsed_sections": []
    },
    "kernelspec": {
      "name": "python3",
      "display_name": "Python 3"
    },
    "language_info": {
      "name": "python"
    }
  },
  "cells": [
    {
      "cell_type": "code",
      "execution_count": 46,
      "metadata": {
        "id": "HBkrvEvgdBSO"
      },
      "outputs": [],
      "source": [
        "from sklearn.datasets import fetch_california_housing"
      ]
    },
    {
      "cell_type": "code",
      "source": [
        "california = fetch_california_housing()"
      ],
      "metadata": {
        "id": "qeiRfp-6dGDS"
      },
      "execution_count": 47,
      "outputs": []
    },
    {
      "cell_type": "code",
      "source": [
        "x = california.data\n",
        "y = california.target\n",
        "\n",
        "x.shape, y.shape"
      ],
      "metadata": {
        "colab": {
          "base_uri": "https://localhost:8080/"
        },
        "id": "Pcq7P9UdeSaS",
        "outputId": "e280dd4d-c13b-426a-d360-2aa763261a04"
      },
      "execution_count": 48,
      "outputs": [
        {
          "output_type": "execute_result",
          "data": {
            "text/plain": [
              "((20640, 8), (20640,))"
            ]
          },
          "metadata": {},
          "execution_count": 48
        }
      ]
    },
    {
      "cell_type": "code",
      "source": [
        "from sklearn.model_selection import *\n",
        "x_train, x_test, y_train, y_test = train_test_split(x, y, test_size=0.2, random_state=2022)"
      ],
      "metadata": {
        "id": "krgCaAdwFCRV"
      },
      "execution_count": 49,
      "outputs": []
    },
    {
      "cell_type": "code",
      "source": [
        "x_train.shape, y_train.shape"
      ],
      "metadata": {
        "colab": {
          "base_uri": "https://localhost:8080/"
        },
        "id": "3xLON4yVFD0A",
        "outputId": "8051fecd-21da-4bdd-c459-3ba6a2a3d258"
      },
      "execution_count": 50,
      "outputs": [
        {
          "output_type": "execute_result",
          "data": {
            "text/plain": [
              "((16512, 8), (16512,))"
            ]
          },
          "metadata": {},
          "execution_count": 50
        }
      ]
    },
    {
      "cell_type": "code",
      "source": [
        "max = x_train.max()\n",
        "x_train = (x_train-x_train.min())/(max-x_train.min())\n",
        "x_test = (x_test-x_train.min())/(max-x_train.min())\n",
        "\n",
        "# column 별로 스케일링을 따로 할 필요가 있음\n",
        "x_train.max(), x_train.min()"
      ],
      "metadata": {
        "colab": {
          "base_uri": "https://localhost:8080/"
        },
        "id": "1n7IScFyFHYK",
        "outputId": "3c707de4-3eb0-4cc3-b6a6-a1fed1bda22d"
      },
      "execution_count": 51,
      "outputs": [
        {
          "output_type": "execute_result",
          "data": {
            "text/plain": [
              "(1.0, 0.0)"
            ]
          },
          "metadata": {},
          "execution_count": 51
        }
      ]
    },
    {
      "cell_type": "code",
      "source": [
        "x[1].shape"
      ],
      "metadata": {
        "colab": {
          "base_uri": "https://localhost:8080/"
        },
        "id": "DiqXOu9KJwQb",
        "outputId": "4b13974a-57f5-4792-9f52-719015b3a54d"
      },
      "execution_count": 52,
      "outputs": [
        {
          "output_type": "execute_result",
          "data": {
            "text/plain": [
              "(8,)"
            ]
          },
          "metadata": {},
          "execution_count": 52
        }
      ]
    },
    {
      "cell_type": "code",
      "source": [
        "import pandas as pd\n",
        "pd.DataFrame(x_train, columns=california.feature_names).describe()"
      ],
      "metadata": {
        "colab": {
          "base_uri": "https://localhost:8080/",
          "height": 364
        },
        "id": "YemTrdClLpym",
        "outputId": "5cab9c81-977e-4505-bb0e-b3d6102782a3"
      },
      "execution_count": 53,
      "outputs": [
        {
          "output_type": "execute_result",
          "data": {
            "text/plain": [
              "             MedInc      HouseAge      AveRooms     AveBedrms    Population  \\\n",
              "count  16512.000000  16512.000000  16512.000000  16512.000000  16512.000000   \n",
              "mean       0.003581      0.004274      0.003624      0.003503      0.043359   \n",
              "std        0.000053      0.000352      0.000065      0.000013      0.032062   \n",
              "min        0.003487      0.003501      0.003496      0.003482      0.003557   \n",
              "25%        0.003545      0.003976      0.003597      0.003501      0.025452   \n",
              "50%        0.003572      0.004283      0.003619      0.003502      0.036023   \n",
              "75%        0.003606      0.004506      0.003642      0.003504      0.051760   \n",
              "max        0.003892      0.004925      0.007174      0.004424      1.000000   \n",
              "\n",
              "           AveOccup      Latitude     Longitude  \n",
              "count  16512.000000  16512.000000  16512.000000  \n",
              "mean       0.003556      0.004468      0.000134  \n",
              "std        0.000134      0.000059      0.000056  \n",
              "min        0.003492      0.004382      0.000000  \n",
              "25%        0.003541      0.004420      0.000071  \n",
              "50%        0.003552      0.004429      0.000164  \n",
              "75%        0.003565      0.004526      0.000177  \n",
              "max        0.020222      0.004644      0.000280  "
            ],
            "text/html": [
              "\n",
              "  <div id=\"df-ee1b9f98-43dd-4259-b52e-79450cd66f98\">\n",
              "    <div class=\"colab-df-container\">\n",
              "      <div>\n",
              "<style scoped>\n",
              "    .dataframe tbody tr th:only-of-type {\n",
              "        vertical-align: middle;\n",
              "    }\n",
              "\n",
              "    .dataframe tbody tr th {\n",
              "        vertical-align: top;\n",
              "    }\n",
              "\n",
              "    .dataframe thead th {\n",
              "        text-align: right;\n",
              "    }\n",
              "</style>\n",
              "<table border=\"1\" class=\"dataframe\">\n",
              "  <thead>\n",
              "    <tr style=\"text-align: right;\">\n",
              "      <th></th>\n",
              "      <th>MedInc</th>\n",
              "      <th>HouseAge</th>\n",
              "      <th>AveRooms</th>\n",
              "      <th>AveBedrms</th>\n",
              "      <th>Population</th>\n",
              "      <th>AveOccup</th>\n",
              "      <th>Latitude</th>\n",
              "      <th>Longitude</th>\n",
              "    </tr>\n",
              "  </thead>\n",
              "  <tbody>\n",
              "    <tr>\n",
              "      <th>count</th>\n",
              "      <td>16512.000000</td>\n",
              "      <td>16512.000000</td>\n",
              "      <td>16512.000000</td>\n",
              "      <td>16512.000000</td>\n",
              "      <td>16512.000000</td>\n",
              "      <td>16512.000000</td>\n",
              "      <td>16512.000000</td>\n",
              "      <td>16512.000000</td>\n",
              "    </tr>\n",
              "    <tr>\n",
              "      <th>mean</th>\n",
              "      <td>0.003581</td>\n",
              "      <td>0.004274</td>\n",
              "      <td>0.003624</td>\n",
              "      <td>0.003503</td>\n",
              "      <td>0.043359</td>\n",
              "      <td>0.003556</td>\n",
              "      <td>0.004468</td>\n",
              "      <td>0.000134</td>\n",
              "    </tr>\n",
              "    <tr>\n",
              "      <th>std</th>\n",
              "      <td>0.000053</td>\n",
              "      <td>0.000352</td>\n",
              "      <td>0.000065</td>\n",
              "      <td>0.000013</td>\n",
              "      <td>0.032062</td>\n",
              "      <td>0.000134</td>\n",
              "      <td>0.000059</td>\n",
              "      <td>0.000056</td>\n",
              "    </tr>\n",
              "    <tr>\n",
              "      <th>min</th>\n",
              "      <td>0.003487</td>\n",
              "      <td>0.003501</td>\n",
              "      <td>0.003496</td>\n",
              "      <td>0.003482</td>\n",
              "      <td>0.003557</td>\n",
              "      <td>0.003492</td>\n",
              "      <td>0.004382</td>\n",
              "      <td>0.000000</td>\n",
              "    </tr>\n",
              "    <tr>\n",
              "      <th>25%</th>\n",
              "      <td>0.003545</td>\n",
              "      <td>0.003976</td>\n",
              "      <td>0.003597</td>\n",
              "      <td>0.003501</td>\n",
              "      <td>0.025452</td>\n",
              "      <td>0.003541</td>\n",
              "      <td>0.004420</td>\n",
              "      <td>0.000071</td>\n",
              "    </tr>\n",
              "    <tr>\n",
              "      <th>50%</th>\n",
              "      <td>0.003572</td>\n",
              "      <td>0.004283</td>\n",
              "      <td>0.003619</td>\n",
              "      <td>0.003502</td>\n",
              "      <td>0.036023</td>\n",
              "      <td>0.003552</td>\n",
              "      <td>0.004429</td>\n",
              "      <td>0.000164</td>\n",
              "    </tr>\n",
              "    <tr>\n",
              "      <th>75%</th>\n",
              "      <td>0.003606</td>\n",
              "      <td>0.004506</td>\n",
              "      <td>0.003642</td>\n",
              "      <td>0.003504</td>\n",
              "      <td>0.051760</td>\n",
              "      <td>0.003565</td>\n",
              "      <td>0.004526</td>\n",
              "      <td>0.000177</td>\n",
              "    </tr>\n",
              "    <tr>\n",
              "      <th>max</th>\n",
              "      <td>0.003892</td>\n",
              "      <td>0.004925</td>\n",
              "      <td>0.007174</td>\n",
              "      <td>0.004424</td>\n",
              "      <td>1.000000</td>\n",
              "      <td>0.020222</td>\n",
              "      <td>0.004644</td>\n",
              "      <td>0.000280</td>\n",
              "    </tr>\n",
              "  </tbody>\n",
              "</table>\n",
              "</div>\n",
              "      <button class=\"colab-df-convert\" onclick=\"convertToInteractive('df-ee1b9f98-43dd-4259-b52e-79450cd66f98')\"\n",
              "              title=\"Convert this dataframe to an interactive table.\"\n",
              "              style=\"display:none;\">\n",
              "        \n",
              "  <svg xmlns=\"http://www.w3.org/2000/svg\" height=\"24px\"viewBox=\"0 0 24 24\"\n",
              "       width=\"24px\">\n",
              "    <path d=\"M0 0h24v24H0V0z\" fill=\"none\"/>\n",
              "    <path d=\"M18.56 5.44l.94 2.06.94-2.06 2.06-.94-2.06-.94-.94-2.06-.94 2.06-2.06.94zm-11 1L8.5 8.5l.94-2.06 2.06-.94-2.06-.94L8.5 2.5l-.94 2.06-2.06.94zm10 10l.94 2.06.94-2.06 2.06-.94-2.06-.94-.94-2.06-.94 2.06-2.06.94z\"/><path d=\"M17.41 7.96l-1.37-1.37c-.4-.4-.92-.59-1.43-.59-.52 0-1.04.2-1.43.59L10.3 9.45l-7.72 7.72c-.78.78-.78 2.05 0 2.83L4 21.41c.39.39.9.59 1.41.59.51 0 1.02-.2 1.41-.59l7.78-7.78 2.81-2.81c.8-.78.8-2.07 0-2.86zM5.41 20L4 18.59l7.72-7.72 1.47 1.35L5.41 20z\"/>\n",
              "  </svg>\n",
              "      </button>\n",
              "      \n",
              "  <style>\n",
              "    .colab-df-container {\n",
              "      display:flex;\n",
              "      flex-wrap:wrap;\n",
              "      gap: 12px;\n",
              "    }\n",
              "\n",
              "    .colab-df-convert {\n",
              "      background-color: #E8F0FE;\n",
              "      border: none;\n",
              "      border-radius: 50%;\n",
              "      cursor: pointer;\n",
              "      display: none;\n",
              "      fill: #1967D2;\n",
              "      height: 32px;\n",
              "      padding: 0 0 0 0;\n",
              "      width: 32px;\n",
              "    }\n",
              "\n",
              "    .colab-df-convert:hover {\n",
              "      background-color: #E2EBFA;\n",
              "      box-shadow: 0px 1px 2px rgba(60, 64, 67, 0.3), 0px 1px 3px 1px rgba(60, 64, 67, 0.15);\n",
              "      fill: #174EA6;\n",
              "    }\n",
              "\n",
              "    [theme=dark] .colab-df-convert {\n",
              "      background-color: #3B4455;\n",
              "      fill: #D2E3FC;\n",
              "    }\n",
              "\n",
              "    [theme=dark] .colab-df-convert:hover {\n",
              "      background-color: #434B5C;\n",
              "      box-shadow: 0px 1px 3px 1px rgba(0, 0, 0, 0.15);\n",
              "      filter: drop-shadow(0px 1px 2px rgba(0, 0, 0, 0.3));\n",
              "      fill: #FFFFFF;\n",
              "    }\n",
              "  </style>\n",
              "\n",
              "      <script>\n",
              "        const buttonEl =\n",
              "          document.querySelector('#df-ee1b9f98-43dd-4259-b52e-79450cd66f98 button.colab-df-convert');\n",
              "        buttonEl.style.display =\n",
              "          google.colab.kernel.accessAllowed ? 'block' : 'none';\n",
              "\n",
              "        async function convertToInteractive(key) {\n",
              "          const element = document.querySelector('#df-ee1b9f98-43dd-4259-b52e-79450cd66f98');\n",
              "          const dataTable =\n",
              "            await google.colab.kernel.invokeFunction('convertToInteractive',\n",
              "                                                     [key], {});\n",
              "          if (!dataTable) return;\n",
              "\n",
              "          const docLinkHtml = 'Like what you see? Visit the ' +\n",
              "            '<a target=\"_blank\" href=https://colab.research.google.com/notebooks/data_table.ipynb>data table notebook</a>'\n",
              "            + ' to learn more about interactive tables.';\n",
              "          element.innerHTML = '';\n",
              "          dataTable['output_type'] = 'display_data';\n",
              "          await google.colab.output.renderOutput(dataTable, element);\n",
              "          const docLink = document.createElement('div');\n",
              "          docLink.innerHTML = docLinkHtml;\n",
              "          element.appendChild(docLink);\n",
              "        }\n",
              "      </script>\n",
              "    </div>\n",
              "  </div>\n",
              "  "
            ]
          },
          "metadata": {},
          "execution_count": 53
        }
      ]
    },
    {
      "cell_type": "code",
      "source": [
        "import tensorflow as tf\n",
        "from tensorflow import keras\n",
        "\n",
        "keras.backend.clear_session()\n",
        "\n",
        "model = keras.models.Sequential()\n",
        "\n",
        "model.add(keras.layers.Input(shape=(8,)))\n",
        "# keras.layers.Input(shape=(x.shape[1]))\n",
        "model.add(keras.layers.Dense(32, activation='relu'))\n",
        "model.add(keras.layers.Dense(32, activation='relu'))\n",
        "model.add(keras.layers.Dense(1))\n",
        "\n",
        "model.compile(loss=keras.losses.mse, optimizer=keras.optimizers.Adam(0.001))\n",
        "# lr이 작아질수록 속도가 느려짐(0.1 > 0.01)\n",
        "\n",
        "model.summary()\n",
        "tf.keras.utils.plot_model(model, show_shapes=True)"
      ],
      "metadata": {
        "colab": {
          "base_uri": "https://localhost:8080/",
          "height": 682
        },
        "id": "5eRCQJ7XgpRg",
        "outputId": "734efb4f-1729-4723-c0ab-d35f7842d5e0"
      },
      "execution_count": 54,
      "outputs": [
        {
          "output_type": "stream",
          "name": "stdout",
          "text": [
            "Model: \"sequential\"\n",
            "_________________________________________________________________\n",
            " Layer (type)                Output Shape              Param #   \n",
            "=================================================================\n",
            " dense (Dense)               (None, 32)                288       \n",
            "                                                                 \n",
            " dense_1 (Dense)             (None, 32)                1056      \n",
            "                                                                 \n",
            " dense_2 (Dense)             (None, 1)                 33        \n",
            "                                                                 \n",
            "=================================================================\n",
            "Total params: 1,377\n",
            "Trainable params: 1,377\n",
            "Non-trainable params: 0\n",
            "_________________________________________________________________\n"
          ]
        },
        {
          "output_type": "execute_result",
          "data": {
            "text/plain": [
              "<IPython.core.display.Image object>"
            ],
            "image/png": "[encoded data removed]"
          },
          "metadata": {},
          "execution_count": 54
        }
      ]
    },
    {
      "cell_type": "code",
      "source": [
        "from tensorflow.keras.callbacks import EarlyStopping\n",
        "es = EarlyStopping(monitor='val_loss', min_delta=0, patience=5, verbose=1, restore_best_weights=True)"
      ],
      "metadata": {
        "id": "9jzWfPFzFpMw"
      },
      "execution_count": 55,
      "outputs": []
    },
    {
      "cell_type": "code",
      "source": [
        "model.fit(x, y, validation_split=0.2, callbacks=[es], batch_size=128, verbose=1, epochs=50)"
      ],
      "metadata": {
        "colab": {
          "base_uri": "https://localhost:8080/"
        },
        "id": "AxndjtlMh8z_",
        "outputId": "8ac0f9f4-e628-41c9-ae66-9cc4610cad6b"
      },
      "execution_count": 56,
      "outputs": [
        {
          "output_type": "stream",
          "name": "stdout",
          "text": [
            "Epoch 1/50\n",
            "129/129 [==============================] - 1s 3ms/step - loss: 41.5032 - val_loss: 1.8838\n",
            "Epoch 2/50\n",
            "129/129 [==============================] - 0s 2ms/step - loss: 1.5091 - val_loss: 1.5555\n",
            "Epoch 3/50\n",
            "129/129 [==============================] - 0s 3ms/step - loss: 1.3821 - val_loss: 1.3352\n",
            "Epoch 4/50\n",
            "129/129 [==============================] - 0s 2ms/step - loss: 1.4363 - val_loss: 1.2271\n",
            "Epoch 5/50\n",
            "129/129 [==============================] - 0s 2ms/step - loss: 2.0693 - val_loss: 1.0915\n",
            "Epoch 6/50\n",
            "129/129 [==============================] - 0s 2ms/step - loss: 2.4201 - val_loss: 0.9985\n",
            "Epoch 7/50\n",
            "129/129 [==============================] - 0s 2ms/step - loss: 1.5716 - val_loss: 1.0308\n",
            "Epoch 8/50\n",
            "129/129 [==============================] - 0s 2ms/step - loss: 0.9914 - val_loss: 1.4608\n",
            "Epoch 9/50\n",
            "129/129 [==============================] - 0s 2ms/step - loss: 1.6994 - val_loss: 0.9067\n",
            "Epoch 10/50\n",
            "129/129 [==============================] - 0s 2ms/step - loss: 1.3356 - val_loss: 1.2122\n",
            "Epoch 11/50\n",
            "129/129 [==============================] - 0s 2ms/step - loss: 1.2040 - val_loss: 1.0555\n",
            "Epoch 12/50\n",
            "129/129 [==============================] - 0s 2ms/step - loss: 15.4248 - val_loss: 31.6636\n",
            "Epoch 13/50\n",
            "129/129 [==============================] - 0s 2ms/step - loss: 3.6096 - val_loss: 0.8478\n",
            "Epoch 14/50\n",
            "129/129 [==============================] - 0s 2ms/step - loss: 1.1153 - val_loss: 0.7955\n",
            "Epoch 15/50\n",
            "129/129 [==============================] - 0s 2ms/step - loss: 0.8714 - val_loss: 0.9721\n",
            "Epoch 16/50\n",
            "129/129 [==============================] - 0s 2ms/step - loss: 1.9263 - val_loss: 0.7381\n",
            "Epoch 17/50\n",
            "129/129 [==============================] - 0s 2ms/step - loss: 0.8725 - val_loss: 0.8713\n",
            "Epoch 18/50\n",
            "129/129 [==============================] - 0s 2ms/step - loss: 1.1488 - val_loss: 0.7132\n",
            "Epoch 19/50\n",
            "129/129 [==============================] - 0s 2ms/step - loss: 1.6814 - val_loss: 1.2346\n",
            "Epoch 20/50\n",
            "129/129 [==============================] - 0s 2ms/step - loss: 15.3153 - val_loss: 1.7256\n",
            "Epoch 21/50\n",
            "129/129 [==============================] - 0s 2ms/step - loss: 10.3473 - val_loss: 18.7828\n",
            "Epoch 22/50\n",
            "129/129 [==============================] - 0s 2ms/step - loss: 1.6073 - val_loss: 0.8128\n",
            "Epoch 23/50\n",
            "122/129 [===========================>..] - ETA: 0s - loss: 1.2359Restoring model weights from the end of the best epoch: 18.\n",
            "129/129 [==============================] - 0s 2ms/step - loss: 1.3364 - val_loss: 3.8351\n",
            "Epoch 23: early stopping\n"
          ]
        },
        {
          "output_type": "execute_result",
          "data": {
            "text/plain": [
              "<keras.callbacks.History at 0x7fbd5d30f090>"
            ]
          },
          "metadata": {},
          "execution_count": 56
        }
      ]
    },
    {
      "cell_type": "code",
      "source": [
        "y_pred = model.predict(x_test)\n",
        "y_pred[:5].reshape(-1)"
      ],
      "metadata": {
        "colab": {
          "base_uri": "https://localhost:8080/"
        },
        "id": "68o69A2TiDhP",
        "outputId": "66bcb9d9-ac4f-49e0-ad1b-829fd516ccfd"
      },
      "execution_count": 57,
      "outputs": [
        {
          "output_type": "execute_result",
          "data": {
            "text/plain": [
              "array([-0.05983652, -0.05238958, -0.06816423, -0.05208138, -0.05104798],\n",
              "      dtype=float32)"
            ]
          },
          "metadata": {},
          "execution_count": 57
        }
      ]
    },
    {
      "cell_type": "code",
      "source": [
        "y_test[:5]"
      ],
      "metadata": {
        "colab": {
          "base_uri": "https://localhost:8080/"
        },
        "id": "vAgZrVCzjMb8",
        "outputId": "19526b3d-cfb3-49fd-aec9-9338c856c7b8"
      },
      "execution_count": 58,
      "outputs": [
        {
          "output_type": "execute_result",
          "data": {
            "text/plain": [
              "array([4.771, 1.371, 1.233, 0.938, 3.26 ])"
            ]
          },
          "metadata": {},
          "execution_count": 58
        }
      ]
    }
  ]
}