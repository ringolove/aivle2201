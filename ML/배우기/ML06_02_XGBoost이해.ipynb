{
 "cells": [
  {
   "cell_type": "markdown",
   "metadata": {
    "id": "y1J78TFSRrSA"
   },
   "source": [
    "<center><img src='https://raw.githubusercontent.com/Jangrae/img/master/ml_python.png' width=600/></center>"
   ]
  },
  {
   "cell_type": "markdown",
   "metadata": {
    "id": "elUlK1gCJHGh"
   },
   "source": [
    "# 실습 내용\n",
    "\n",
    "- Sample 데이터를 만들어 Random Forest에 대해 이해합니다."
   ]
  },
  {
   "cell_type": "code",
   "execution_count": 1,
   "metadata": {
    "id": "jB0l6oqDsG8B"
   },
   "outputs": [],
   "source": [
    "# 라이브러리 불러오기\n",
    "import numpy as np\n",
    "import pandas as pd\n",
    "import matplotlib.pyplot as plt\n",
    "import seaborn as sns\n",
    "import warnings\n",
    "\n",
    "warnings.filterwarnings(action='ignore')\n",
    "%config InlineBackend.figure_format='retina'"
   ]
  },
  {
   "cell_type": "markdown",
   "metadata": {
    "id": "IciCQGJy5PO-"
   },
   "source": [
    "# 1.데이터 준비\n",
    "\n",
    "- 기본 라이브러리와 대상 데이터를 가져와 이후 과정을 준비합니다."
   ]
  },
  {
   "cell_type": "code",
   "execution_count": 2,
   "metadata": {
    "id": "PXqyu_0LsG8C",
    "scrolled": false
   },
   "outputs": [],
   "source": [
    "# 데이터 만들기\n",
    "from sklearn.datasets import make_classification\n",
    "x, y = make_classification(n_samples=10000,\n",
    "                           n_features=12, \n",
    "                           n_classes=3,\n",
    "                           n_informative=12,\n",
    "                           n_redundant=0, \n",
    "                           n_clusters_per_class=1, \n",
    "                           random_state=3)"
   ]
  },
  {
   "cell_type": "code",
   "execution_count": 3,
   "metadata": {},
   "outputs": [
    {
     "name": "stdout",
     "output_type": "stream",
     "text": [
      "{0: 3336, 1: 3337, 2: 3327}\n"
     ]
    }
   ],
   "source": [
    "# y 값 확인\n",
    "unique, counts = np.unique(y, return_counts=True)\n",
    "print(dict(zip(unique, counts)))"
   ]
  },
  {
   "cell_type": "code",
   "execution_count": 4,
   "metadata": {
    "id": "xqBY-KATsG8F"
   },
   "outputs": [],
   "source": [
    "# 데이터 분리\n",
    "from sklearn.model_selection import train_test_split\n",
    "\n",
    "x_train, x_test, y_train, y_test = train_test_split(x, y, test_size=0.3, random_state=2022)"
   ]
  },
  {
   "cell_type": "markdown",
   "metadata": {},
   "source": [
    "# 2.모델링"
   ]
  },
  {
   "cell_type": "code",
   "execution_count": 5,
   "metadata": {},
   "outputs": [],
   "source": [
    "# xgboost 설치\n",
    "# pip install xgboost"
   ]
  },
  {
   "cell_type": "code",
   "execution_count": 14,
   "metadata": {
    "id": "rDIWKc6-ygXk"
   },
   "outputs": [],
   "source": [
    "# 1단계: 불러오기\n",
    "from xgboost import XGBClassifier\n",
    "from sklearn.metrics import *"
   ]
  },
  {
   "cell_type": "code",
   "execution_count": 17,
   "metadata": {
    "id": "xZg_rN23ygXk"
   },
   "outputs": [],
   "source": [
    "# 2단계: 선언하기\n",
    "model = XGBClassifier(eval_metric='mlogloss')"
   ]
  },
  {
   "cell_type": "code",
   "execution_count": 18,
   "metadata": {
    "colab": {
     "base_uri": "https://localhost:8080/"
    },
    "executionInfo": {
     "elapsed": 18,
     "status": "ok",
     "timestamp": 1641475869554,
     "user": {
      "displayName": "Jangrae Lee",
      "photoUrl": "https://lh3.googleusercontent.com/a-/AOh14Gh1Pd8OuWJU2cv7uTt-fURrgvty7atx_Wtarmx0-A=s64",
      "userId": "08475661575434032088"
     },
     "user_tz": -540
    },
    "id": "_8Z1CkvgygXl",
    "outputId": "dc552f55-d94c-4eb6-9d15-174423e4fa97"
   },
   "outputs": [
    {
     "data": {
      "text/plain": [
       "XGBClassifier(base_score=0.5, booster='gbtree', colsample_bylevel=1,\n",
       "              colsample_bynode=1, colsample_bytree=1, enable_categorical=False,\n",
       "              eval_metric='mlogloss', gamma=0, gpu_id=-1, importance_type=None,\n",
       "              interaction_constraints='', learning_rate=0.300000012,\n",
       "              max_delta_step=0, max_depth=6, min_child_weight=1, missing=nan,\n",
       "              monotone_constraints='()', n_estimators=100, n_jobs=8,\n",
       "              num_parallel_tree=1, objective='multi:softprob', predictor='auto',\n",
       "              random_state=0, reg_alpha=0, reg_lambda=1, scale_pos_weight=None,\n",
       "              subsample=1, tree_method='exact', validate_parameters=1,\n",
       "              verbosity=None)"
      ]
     },
     "execution_count": 18,
     "metadata": {},
     "output_type": "execute_result"
    }
   ],
   "source": [
    "# 3단계: 학습하기\n",
    "model.fit(x_train, y_train)\n",
    "\n",
    "# eval_metrics\n",
    "# rmse – root mean square error\n",
    "# mae – mean absolute error\n",
    "# logloss – negative log-likelihood\n",
    "# error – Binary classification error rate (0.5 threshold)\n",
    "# merror – Multiclass classification error rate\n",
    "# mlogloss – Multiclass logloss\n",
    "# auc: Area under the curve"
   ]
  },
  {
   "cell_type": "code",
   "execution_count": 19,
   "metadata": {},
   "outputs": [],
   "source": [
    "# 4단계: 예측하기\n",
    "y_pred = model.predict(x_test)"
   ]
  },
  {
   "cell_type": "code",
   "execution_count": 20,
   "metadata": {
    "scrolled": true
   },
   "outputs": [
    {
     "name": "stdout",
     "output_type": "stream",
     "text": [
      "[[976  17  16]\n",
      " [  8 992  19]\n",
      " [ 21  14 937]]\n",
      "              precision    recall  f1-score   support\n",
      "\n",
      "           0       0.97      0.97      0.97      1009\n",
      "           1       0.97      0.97      0.97      1019\n",
      "           2       0.96      0.96      0.96       972\n",
      "\n",
      "    accuracy                           0.97      3000\n",
      "   macro avg       0.97      0.97      0.97      3000\n",
      "weighted avg       0.97      0.97      0.97      3000\n",
      "\n"
     ]
    }
   ],
   "source": [
    "# 5단계: 평가하기\n",
    "print(confusion_matrix(y_test, y_pred))\n",
    "print(classification_report(y_test, y_pred))"
   ]
  },
  {
   "cell_type": "code",
   "execution_count": 21,
   "metadata": {},
   "outputs": [
    {
     "data": {
      "text/plain": [
       "array([0.06073856, 0.035944  , 0.06584124, 0.10560562, 0.14140497,\n",
       "       0.09936617, 0.07325762, 0.03241667, 0.09671476, 0.08674704,\n",
       "       0.08779317, 0.11417012], dtype=float32)"
      ]
     },
     "execution_count": 21,
     "metadata": {},
     "output_type": "execute_result"
    }
   ],
   "source": [
    "# 변수 중요도 확인\n",
    "model.feature_importances_"
   ]
  },
  {
   "cell_type": "markdown",
   "metadata": {},
   "source": [
    "# 3.다양한 옵션들\n",
    "\n",
    "- 설정 가능한 하이퍼파라미터가 정말 많습니다."
   ]
  },
  {
   "cell_type": "code",
   "execution_count": 22,
   "metadata": {
    "scrolled": false
   },
   "outputs": [
    {
     "data": {
      "text/plain": [
       "{'objective': 'multi:softprob',\n",
       " 'use_label_encoder': True,\n",
       " 'base_score': 0.5,\n",
       " 'booster': 'gbtree',\n",
       " 'colsample_bylevel': 1,\n",
       " 'colsample_bynode': 1,\n",
       " 'colsample_bytree': 1,\n",
       " 'enable_categorical': False,\n",
       " 'gamma': 0,\n",
       " 'gpu_id': -1,\n",
       " 'importance_type': None,\n",
       " 'interaction_constraints': '',\n",
       " 'learning_rate': 0.300000012,\n",
       " 'max_delta_step': 0,\n",
       " 'max_depth': 6,\n",
       " 'min_child_weight': 1,\n",
       " 'missing': nan,\n",
       " 'monotone_constraints': '()',\n",
       " 'n_estimators': 100,\n",
       " 'n_jobs': 8,\n",
       " 'num_parallel_tree': 1,\n",
       " 'predictor': 'auto',\n",
       " 'random_state': 0,\n",
       " 'reg_alpha': 0,\n",
       " 'reg_lambda': 1,\n",
       " 'scale_pos_weight': None,\n",
       " 'subsample': 1,\n",
       " 'tree_method': 'exact',\n",
       " 'validate_parameters': 1,\n",
       " 'verbosity': None,\n",
       " 'eval_metric': 'mlogloss'}"
      ]
     },
     "execution_count": 22,
     "metadata": {},
     "output_type": "execute_result"
    }
   ],
   "source": [
    "# 다양한 옵션 확인\n",
    "model.get_params()"
   ]
  },
  {
   "cell_type": "markdown",
   "metadata": {},
   "source": [
    "## 3.1.early_stopping_rounds"
   ]
  },
  {
   "cell_type": "code",
   "execution_count": 23,
   "metadata": {
    "id": "PXqyu_0LsG8C",
    "scrolled": false
   },
   "outputs": [],
   "source": [
    "# 데이터 만들기\n",
    "from sklearn.datasets import make_classification\n",
    "x, y = make_classification(n_samples=20000,\n",
    "                           n_features=12, \n",
    "                           n_classes=3,\n",
    "                           n_informative=12,\n",
    "                           n_redundant=0, \n",
    "                           n_clusters_per_class=1, \n",
    "                           random_state=3)"
   ]
  },
  {
   "cell_type": "code",
   "execution_count": 24,
   "metadata": {},
   "outputs": [
    {
     "name": "stdout",
     "output_type": "stream",
     "text": [
      "[0]\tvalidation_0-mlogloss:0.50643\tvalidation_1-mlogloss:0.52558\n",
      "[1]\tvalidation_0-mlogloss:0.32767\tvalidation_1-mlogloss:0.35660\n",
      "[2]\tvalidation_0-mlogloss:0.24541\tvalidation_1-mlogloss:0.28123\n",
      "[3]\tvalidation_0-mlogloss:0.19404\tvalidation_1-mlogloss:0.23259\n",
      "[4]\tvalidation_0-mlogloss:0.16194\tvalidation_1-mlogloss:0.20335\n",
      "[5]\tvalidation_0-mlogloss:0.13662\tvalidation_1-mlogloss:0.18397\n",
      "[6]\tvalidation_0-mlogloss:0.12184\tvalidation_1-mlogloss:0.17290\n",
      "[7]\tvalidation_0-mlogloss:0.11024\tvalidation_1-mlogloss:0.16288\n",
      "[8]\tvalidation_0-mlogloss:0.10268\tvalidation_1-mlogloss:0.15992\n",
      "[9]\tvalidation_0-mlogloss:0.09633\tvalidation_1-mlogloss:0.15562\n",
      "[10]\tvalidation_0-mlogloss:0.08883\tvalidation_1-mlogloss:0.15052\n",
      "[11]\tvalidation_0-mlogloss:0.08125\tvalidation_1-mlogloss:0.14545\n",
      "[12]\tvalidation_0-mlogloss:0.07436\tvalidation_1-mlogloss:0.14209\n",
      "[13]\tvalidation_0-mlogloss:0.06684\tvalidation_1-mlogloss:0.13982\n",
      "[14]\tvalidation_0-mlogloss:0.05996\tvalidation_1-mlogloss:0.13613\n",
      "[15]\tvalidation_0-mlogloss:0.05562\tvalidation_1-mlogloss:0.13446\n",
      "[16]\tvalidation_0-mlogloss:0.05200\tvalidation_1-mlogloss:0.13351\n",
      "[17]\tvalidation_0-mlogloss:0.04721\tvalidation_1-mlogloss:0.13393\n",
      "[18]\tvalidation_0-mlogloss:0.04395\tvalidation_1-mlogloss:0.13269\n",
      "[19]\tvalidation_0-mlogloss:0.04078\tvalidation_1-mlogloss:0.13180\n",
      "[20]\tvalidation_0-mlogloss:0.03708\tvalidation_1-mlogloss:0.12846\n",
      "[21]\tvalidation_0-mlogloss:0.03329\tvalidation_1-mlogloss:0.12606\n",
      "[22]\tvalidation_0-mlogloss:0.03147\tvalidation_1-mlogloss:0.12699\n",
      "[23]\tvalidation_0-mlogloss:0.03000\tvalidation_1-mlogloss:0.12645\n",
      "[24]\tvalidation_0-mlogloss:0.02736\tvalidation_1-mlogloss:0.12547\n",
      "[25]\tvalidation_0-mlogloss:0.02633\tvalidation_1-mlogloss:0.12623\n",
      "[26]\tvalidation_0-mlogloss:0.02384\tvalidation_1-mlogloss:0.12637\n",
      "[27]\tvalidation_0-mlogloss:0.02167\tvalidation_1-mlogloss:0.12498\n",
      "[28]\tvalidation_0-mlogloss:0.02007\tvalidation_1-mlogloss:0.12476\n",
      "[29]\tvalidation_0-mlogloss:0.01884\tvalidation_1-mlogloss:0.12400\n",
      "[30]\tvalidation_0-mlogloss:0.01722\tvalidation_1-mlogloss:0.12316\n",
      "[31]\tvalidation_0-mlogloss:0.01585\tvalidation_1-mlogloss:0.12402\n",
      "[32]\tvalidation_0-mlogloss:0.01482\tvalidation_1-mlogloss:0.12293\n",
      "[33]\tvalidation_0-mlogloss:0.01365\tvalidation_1-mlogloss:0.12305\n",
      "[34]\tvalidation_0-mlogloss:0.01236\tvalidation_1-mlogloss:0.12264\n",
      "[35]\tvalidation_0-mlogloss:0.01135\tvalidation_1-mlogloss:0.12368\n",
      "[36]\tvalidation_0-mlogloss:0.01056\tvalidation_1-mlogloss:0.12321\n",
      "[37]\tvalidation_0-mlogloss:0.00973\tvalidation_1-mlogloss:0.12368\n",
      "[38]\tvalidation_0-mlogloss:0.00928\tvalidation_1-mlogloss:0.12383\n",
      "[39]\tvalidation_0-mlogloss:0.00891\tvalidation_1-mlogloss:0.12372\n",
      "[40]\tvalidation_0-mlogloss:0.00828\tvalidation_1-mlogloss:0.12336\n",
      "[41]\tvalidation_0-mlogloss:0.00762\tvalidation_1-mlogloss:0.12280\n",
      "[42]\tvalidation_0-mlogloss:0.00723\tvalidation_1-mlogloss:0.12251\n",
      "[43]\tvalidation_0-mlogloss:0.00666\tvalidation_1-mlogloss:0.12259\n",
      "[44]\tvalidation_0-mlogloss:0.00622\tvalidation_1-mlogloss:0.12262\n",
      "[45]\tvalidation_0-mlogloss:0.00582\tvalidation_1-mlogloss:0.12369\n",
      "[46]\tvalidation_0-mlogloss:0.00558\tvalidation_1-mlogloss:0.12411\n",
      "[47]\tvalidation_0-mlogloss:0.00533\tvalidation_1-mlogloss:0.12498\n",
      "[48]\tvalidation_0-mlogloss:0.00510\tvalidation_1-mlogloss:0.12520\n",
      "[49]\tvalidation_0-mlogloss:0.00471\tvalidation_1-mlogloss:0.12553\n",
      "[50]\tvalidation_0-mlogloss:0.00440\tvalidation_1-mlogloss:0.12613\n",
      "[51]\tvalidation_0-mlogloss:0.00421\tvalidation_1-mlogloss:0.12704\n"
     ]
    },
    {
     "data": {
      "text/plain": [
       "XGBClassifier(base_score=0.5, booster='gbtree', colsample_bylevel=1,\n",
       "              colsample_bynode=1, colsample_bytree=1, enable_categorical=False,\n",
       "              gamma=0, gpu_id=-1, importance_type=None,\n",
       "              interaction_constraints='', learning_rate=1, max_delta_step=0,\n",
       "              max_depth=5, min_child_weight=1, missing=nan,\n",
       "              monotone_constraints='()', n_estimators=100, n_jobs=8,\n",
       "              num_parallel_tree=1, objective='multi:softprob', predictor='auto',\n",
       "              random_state=2022, reg_alpha=0, reg_lambda=1,\n",
       "              scale_pos_weight=None, subsample=1, tree_method='exact',\n",
       "              use_label_encoder=False, validate_parameters=1, verbosity=None)"
      ]
     },
     "execution_count": 24,
     "metadata": {},
     "output_type": "execute_result"
    }
   ],
   "source": [
    "# 학습용, 평가용 데이터 분리\n",
    "x_train, x_test, y_train, y_test = train_test_split(x, y, test_size=0.3, random_state=2022)\n",
    "\n",
    "# 학습용, 검증용 데이터 분리\n",
    "x_train, x_val, y_train, y_val = train_test_split(x_train, y_train, test_size=0.2, random_state=2022)\n",
    "\n",
    "# 선언하기\n",
    "model = XGBClassifier(max_depth=5, \n",
    "                      learning_rate=1, \n",
    "                      use_label_encoder=False,\n",
    "                      random_state=2022)\n",
    "\n",
    "# 학습하기\n",
    "model.fit(x_train, y_train, \n",
    "          eval_set=[(x_train, y_train),(x_val, y_val)], \n",
    "          eval_metric='mlogloss', \n",
    "          early_stopping_rounds=10)"
   ]
  },
  {
   "cell_type": "code",
   "execution_count": 25,
   "metadata": {},
   "outputs": [
    {
     "data": {
      "text/html": [
       "<div>\n",
       "<style scoped>\n",
       "    .dataframe tbody tr th:only-of-type {\n",
       "        vertical-align: middle;\n",
       "    }\n",
       "\n",
       "    .dataframe tbody tr th {\n",
       "        vertical-align: top;\n",
       "    }\n",
       "\n",
       "    .dataframe thead th {\n",
       "        text-align: right;\n",
       "    }\n",
       "</style>\n",
       "<table border=\"1\" class=\"dataframe\">\n",
       "  <thead>\n",
       "    <tr style=\"text-align: right;\">\n",
       "      <th></th>\n",
       "      <th>validation_0</th>\n",
       "      <th>validation_1</th>\n",
       "    </tr>\n",
       "  </thead>\n",
       "  <tbody>\n",
       "    <tr>\n",
       "      <th>mlogloss</th>\n",
       "      <td>[0.506433, 0.327669, 0.245407, 0.19404, 0.1619...</td>\n",
       "      <td>[0.525578, 0.356596, 0.281233, 0.232589, 0.203...</td>\n",
       "    </tr>\n",
       "  </tbody>\n",
       "</table>\n",
       "</div>"
      ],
      "text/plain": [
       "                                               validation_0  \\\n",
       "mlogloss  [0.506433, 0.327669, 0.245407, 0.19404, 0.1619...   \n",
       "\n",
       "                                               validation_1  \n",
       "mlogloss  [0.525578, 0.356596, 0.281233, 0.232589, 0.203...  "
      ]
     },
     "execution_count": 25,
     "metadata": {},
     "output_type": "execute_result"
    }
   ],
   "source": [
    "df = pd.DataFrame(model.evals_result())\n",
    "df"
   ]
  },
  {
   "cell_type": "code",
   "execution_count": 26,
   "metadata": {},
   "outputs": [
    {
     "name": "stdout",
     "output_type": "stream",
     "text": [
      "43\n"
     ]
    },
    {
     "data": {
      "image/png": "[encoded data removed]",
      "text/plain": [
       "<Figure size 576x360 with 1 Axes>"
      ]
     },
     "metadata": {
      "image/png": {
       "height": 316,
       "width": 497
      },
      "needs_background": "light"
     },
     "output_type": "display_data"
    }
   ],
   "source": [
    "# 학습 결과 시각화\n",
    "results = model.evals_result()\n",
    "print(model.best_ntree_limit)\n",
    "plt.figure(figsize=(8, 5))\n",
    "plt.plot(results[\"validation_0\"]['mlogloss'], label='Training loss')\n",
    "plt.plot(results[\"validation_1\"]['mlogloss'], label='Validation loss')\n",
    "plt.axvline(model.best_ntree_limit, color='r', label='Optimal Tree Number')\n",
    "plt.xlabel('Number of Trees')\n",
    "plt.ylabel('Loss')\n",
    "plt.legend()\n",
    "plt.show()"
   ]
  },
  {
   "cell_type": "code",
   "execution_count": 27,
   "metadata": {},
   "outputs": [],
   "source": [
    "# 예측하기\n",
    "y_pred = model.predict(x_test)"
   ]
  },
  {
   "cell_type": "code",
   "execution_count": 28,
   "metadata": {
    "scrolled": true
   },
   "outputs": [
    {
     "name": "stdout",
     "output_type": "stream",
     "text": [
      "[[1928   32   16]\n",
      " [  39 1870   65]\n",
      " [  31   41 1978]]\n",
      "              precision    recall  f1-score   support\n",
      "\n",
      "           0       0.96      0.98      0.97      1976\n",
      "           1       0.96      0.95      0.95      1974\n",
      "           2       0.96      0.96      0.96      2050\n",
      "\n",
      "    accuracy                           0.96      6000\n",
      "   macro avg       0.96      0.96      0.96      6000\n",
      "weighted avg       0.96      0.96      0.96      6000\n",
      "\n"
     ]
    }
   ],
   "source": [
    "# 평가하기\n",
    "print(confusion_matrix(y_test, y_pred))\n",
    "print(classification_report(y_test, y_pred))"
   ]
  },
  {
   "cell_type": "markdown",
   "metadata": {},
   "source": [
    "## 3.2.objective"
   ]
  },
  {
   "cell_type": "markdown",
   "metadata": {},
   "source": [
    "### 3.2.1.Multi-Class"
   ]
  },
  {
   "cell_type": "markdown",
   "metadata": {},
   "source": [
    "**1) multi:softprob**"
   ]
  },
  {
   "cell_type": "code",
   "execution_count": 29,
   "metadata": {},
   "outputs": [
    {
     "data": {
      "text/plain": [
       "XGBClassifier(base_score=0.5, booster='gbtree', colsample_bylevel=1,\n",
       "              colsample_bynode=1, colsample_bytree=1, enable_categorical=False,\n",
       "              gamma=0, gpu_id=-1, importance_type=None,\n",
       "              interaction_constraints='', learning_rate=1, max_delta_step=0,\n",
       "              max_depth=5, min_child_weight=1, missing=nan,\n",
       "              monotone_constraints='()', n_estimators=100, n_jobs=8,\n",
       "              num_parallel_tree=1, objective='multi:softprob', predictor='auto',\n",
       "              random_state=2022, reg_alpha=0, reg_lambda=1,\n",
       "              scale_pos_weight=None, subsample=1, tree_method='exact',\n",
       "              use_label_encoder=False, validate_parameters=1, verbosity=None)"
      ]
     },
     "execution_count": 29,
     "metadata": {},
     "output_type": "execute_result"
    }
   ],
   "source": [
    "# multi:softprob(기본값)\n",
    "model.set_params(objective='multi:softprob')"
   ]
  },
  {
   "cell_type": "code",
   "execution_count": 30,
   "metadata": {},
   "outputs": [
    {
     "data": {
      "text/plain": [
       "'multi:softprob'"
      ]
     },
     "execution_count": 30,
     "metadata": {},
     "output_type": "execute_result"
    }
   ],
   "source": [
    "# objective 확인\n",
    "model.objective"
   ]
  },
  {
   "cell_type": "code",
   "execution_count": 31,
   "metadata": {},
   "outputs": [
    {
     "name": "stdout",
     "output_type": "stream",
     "text": [
      "[1 2 0 2 2 2 0 0 1 0]\n",
      "----------------------\n",
      "[[0.   1.   0.  ]\n",
      " [0.   0.   1.  ]\n",
      " [1.   0.   0.  ]\n",
      " [0.   0.07 0.93]\n",
      " [0.   0.02 0.98]\n",
      " [0.   0.   1.  ]\n",
      " [1.   0.   0.  ]\n",
      " [0.88 0.06 0.06]\n",
      " [0.   1.   0.  ]\n",
      " [1.   0.   0.  ]]\n",
      "----------------------\n",
      "[1 2 0 2 2 2 0 0 1 0]\n"
     ]
    }
   ],
   "source": [
    "# 예측값 확인\n",
    "print(y_pred[:10])\n",
    "print('-' * 22)\n",
    "\n",
    "# predict_proba 확인\n",
    "proba = model.predict_proba(x_test).round(2)\n",
    "\n",
    "print(proba[:10])\n",
    "print('-' * 22)\n",
    "\n",
    "# 최댓값의 인덱스 확인\n",
    "print(proba.argmax(axis=1)[:10])"
   ]
  },
  {
   "cell_type": "markdown",
   "metadata": {},
   "source": [
    "**2) multi:softmax**"
   ]
  },
  {
   "cell_type": "code",
   "execution_count": 32,
   "metadata": {},
   "outputs": [
    {
     "data": {
      "text/plain": [
       "XGBClassifier(base_score=0, booster='gbtree', colsample_bylevel=1,\n",
       "              colsample_bynode=1, colsample_bytree=1, enable_categorical=False,\n",
       "              gamma=0, gpu_id=-1, importance_type=None,\n",
       "              interaction_constraints='', learning_rate=1, max_delta_step=0,\n",
       "              max_depth=5, min_child_weight=1, missing=nan,\n",
       "              monotone_constraints='()', n_estimators=100, n_jobs=8,\n",
       "              num_parallel_tree=1, objective='multi:softmax', predictor='auto',\n",
       "              random_state=2022, reg_alpha=0, reg_lambda=1,\n",
       "              scale_pos_weight=None, subsample=1, tree_method='exact',\n",
       "              use_label_encoder=False, validate_parameters=1, verbosity=None)"
      ]
     },
     "execution_count": 32,
     "metadata": {},
     "output_type": "execute_result"
    }
   ],
   "source": [
    "# multi:softmax\n",
    "model.set_params(objective='multi:softmax', base_score=0)"
   ]
  },
  {
   "cell_type": "code",
   "execution_count": 33,
   "metadata": {},
   "outputs": [
    {
     "data": {
      "text/plain": [
       "'multi:softmax'"
      ]
     },
     "execution_count": 33,
     "metadata": {},
     "output_type": "execute_result"
    }
   ],
   "source": [
    "# objective 확인\n",
    "model.objective"
   ]
  },
  {
   "cell_type": "code",
   "execution_count": 34,
   "metadata": {},
   "outputs": [
    {
     "name": "stdout",
     "output_type": "stream",
     "text": [
      "[1 2 0 2 2 2 0 0 1 0]\n",
      "----------------------\n",
      "[[-4.13  3.43 -4.77]\n",
      " [-3.82 -3.22  3.53]\n",
      " [ 4.93 -3.63 -6.56]\n",
      " [-6.19  0.01  2.57]\n",
      " [-3.35 -0.9   3.18]\n",
      " [-7.46 -0.55  5.65]\n",
      " [ 7.33 -3.42 -5.64]\n",
      " [ 1.68 -1.06 -0.99]\n",
      " [-5.87  7.61 -8.97]\n",
      " [ 5.2  -3.19 -2.3 ]]\n",
      "----------------------\n",
      "[1 2 0 2 2 2 0 0 1 0]\n"
     ]
    }
   ],
   "source": [
    "# 예측값 확인\n",
    "print(y_pred[:10])\n",
    "print('-' * 22)\n",
    "\n",
    "# predict_proba 확인\n",
    "proba = model.predict_proba(x_test).round(2)\n",
    "\n",
    "print(proba[:10])\n",
    "print('-' * 22)\n",
    "\n",
    "# 최댓값의 인덱스 확인\n",
    "print(proba.argmax(axis=1)[:10])"
   ]
  },
  {
   "cell_type": "markdown",
   "metadata": {},
   "source": [
    "## 3.2.2.Binary-Class"
   ]
  },
  {
   "cell_type": "code",
   "execution_count": 35,
   "metadata": {
    "id": "PXqyu_0LsG8C",
    "scrolled": false
   },
   "outputs": [],
   "source": [
    "# 데이터 만들기\n",
    "from sklearn.datasets import make_classification\n",
    "x, y = make_classification(n_samples=1000,\n",
    "                           n_features=12, \n",
    "                           n_classes=2,\n",
    "                           n_informative=12,\n",
    "                           n_redundant=0, \n",
    "                           n_clusters_per_class=1, \n",
    "                           random_state=3,)"
   ]
  },
  {
   "cell_type": "code",
   "execution_count": 36,
   "metadata": {},
   "outputs": [
    {
     "name": "stdout",
     "output_type": "stream",
     "text": [
      "{0: 497, 1: 503}\n"
     ]
    }
   ],
   "source": [
    "# y 값 확인\n",
    "unique, counts = np.unique(y, return_counts=True)\n",
    "print(dict(zip(unique, counts)))"
   ]
  },
  {
   "cell_type": "code",
   "execution_count": 37,
   "metadata": {},
   "outputs": [
    {
     "data": {
      "text/plain": [
       "XGBClassifier(base_score=0.5, booster='gbtree', colsample_bylevel=1,\n",
       "              colsample_bynode=1, colsample_bytree=1, enable_categorical=False,\n",
       "              gamma=0, gpu_id=-1, importance_type=None,\n",
       "              interaction_constraints='', learning_rate=0.300000012,\n",
       "              max_delta_step=0, max_depth=5, min_child_weight=1, missing=nan,\n",
       "              monotone_constraints='()', n_estimators=100, n_jobs=8,\n",
       "              num_parallel_tree=1, predictor='auto', random_state=2022,\n",
       "              reg_alpha=0, reg_lambda=1, scale_pos_weight=1, subsample=1,\n",
       "              tree_method='exact', use_label_encoder=False,\n",
       "              validate_parameters=1, verbosity=None)"
      ]
     },
     "execution_count": 37,
     "metadata": {},
     "output_type": "execute_result"
    }
   ],
   "source": [
    "# 데이터 분리\n",
    "x_train, x_test, y_train, y_test = train_test_split(x, y, test_size=0.3, random_state=2022)\n",
    "\n",
    "# 선언하기\n",
    "model = XGBClassifier(max_depth=5, \n",
    "                      use_label_encoder=False,\n",
    "                      random_state=2022)\n",
    "\n",
    "                      \n",
    "# 학습하기\n",
    "model.fit(x_train, y_train, eval_metric='logloss')"
   ]
  },
  {
   "cell_type": "code",
   "execution_count": 38,
   "metadata": {},
   "outputs": [
    {
     "data": {
      "text/plain": [
       "'binary:logistic'"
      ]
     },
     "execution_count": 38,
     "metadata": {},
     "output_type": "execute_result"
    }
   ],
   "source": [
    "# objective 확인\n",
    "model.objective"
   ]
  },
  {
   "cell_type": "code",
   "execution_count": 39,
   "metadata": {
    "scrolled": false
   },
   "outputs": [
    {
     "data": {
      "text/plain": [
       "array([[0.01, 0.99],\n",
       "       [0.  , 1.  ],\n",
       "       [1.  , 0.  ],\n",
       "       [0.1 , 0.9 ],\n",
       "       [0.98, 0.02],\n",
       "       [1.  , 0.  ],\n",
       "       [0.99, 0.01],\n",
       "       [1.  , 0.  ],\n",
       "       [1.  , 0.  ],\n",
       "       [1.  , 0.  ]], dtype=float32)"
      ]
     },
     "execution_count": 39,
     "metadata": {},
     "output_type": "execute_result"
    }
   ],
   "source": [
    "# predict_proba 확인\n",
    "model.predict_proba(x_test)[:10].round(2)"
   ]
  }
 ],
 "metadata": {
  "colab": {
   "collapsed_sections": [],
   "name": "ML06_01_앙상블(Admission).ipynb",
   "provenance": []
  },
  "kernelspec": {
   "display_name": "Python 3 (ipykernel)",
   "language": "python",
   "name": "python3"
  },
  "language_info": {
   "codemirror_mode": {
    "name": "ipython",
    "version": 3
   },
   "file_extension": ".py",
   "mimetype": "text/x-python",
   "name": "python",
   "nbconvert_exporter": "python",
   "pygments_lexer": "ipython3",
   "version": "3.10.0"
  }
 },
 "nbformat": 4,
 "nbformat_minor": 1
}
