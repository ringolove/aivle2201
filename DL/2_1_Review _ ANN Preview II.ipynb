{
  "nbformat": 4,
  "nbformat_minor": 0,
  "metadata": {
    "colab": {
      "name": "2_1_Review _ ANN Preview II.ipynb",
      "provenance": [],
      "collapsed_sections": []
    },
    "kernelspec": {
      "name": "python3",
      "display_name": "Python 3"
    },
    "language_info": {
      "name": "python"
    }
  },
  "cells": [
    {
      "cell_type": "markdown",
      "metadata": {
        "id": "T7kdgJptO50L"
      },
      "source": [
        "# 1일차 Review : 같은 문제 다시 풀어보기\n",
        "\n",
        "    학습은 10번으로!"
      ]
    },
    {
      "cell_type": "code",
      "metadata": {
        "id": "tcpM1yMBXPMV"
      },
      "source": [
        "from sklearn.datasets import load_breast_cancer"
      ],
      "execution_count": 60,
      "outputs": []
    },
    {
      "cell_type": "code",
      "metadata": {
        "id": "kywnQJlHXZCg"
      },
      "source": [
        "cancer = load_breast_cancer()"
      ],
      "execution_count": 61,
      "outputs": []
    },
    {
      "cell_type": "code",
      "metadata": {
        "id": "Fbgs4YZrXcCB"
      },
      "source": [
        "x = cancer.data\n",
        "y = cancer.target"
      ],
      "execution_count": 62,
      "outputs": []
    },
    {
      "cell_type": "code",
      "metadata": {
        "id": "kVvDsvptQyQ_",
        "colab": {
          "base_uri": "https://localhost:8080/"
        },
        "outputId": "ced57872-e8b7-4d18-bd1a-0cca4f013abd"
      },
      "source": [
        "x.shape, y.shape"
      ],
      "execution_count": 63,
      "outputs": [
        {
          "output_type": "execute_result",
          "data": {
            "text/plain": [
              "((569, 30), (569,))"
            ]
          },
          "metadata": {},
          "execution_count": 63
        }
      ]
    },
    {
      "cell_type": "code",
      "metadata": {
        "id": "puqIL3FCRBs6"
      },
      "source": [
        "#####################\n",
        "# 라이브러리 불러오기\n",
        "#####################\n",
        "import tensorflow as tf\n",
        "from tensorflow import keras\n",
        "from sklearn.model_selection import *"
      ],
      "execution_count": 64,
      "outputs": []
    },
    {
      "cell_type": "code",
      "source": [
        "x_train, x_test, y_train, y_test = train_test_split(x, y, test_size=0.2, random_state=2022)"
      ],
      "metadata": {
        "id": "Vn2FcVfAa5wU"
      },
      "execution_count": 65,
      "outputs": []
    },
    {
      "cell_type": "code",
      "source": [
        "x_train.shape, y_train.shape"
      ],
      "metadata": {
        "colab": {
          "base_uri": "https://localhost:8080/"
        },
        "id": "HhISW92BcuYZ",
        "outputId": "94db43f1-f558-4844-929a-efbea04691df"
      },
      "execution_count": 66,
      "outputs": [
        {
          "output_type": "execute_result",
          "data": {
            "text/plain": [
              "((455, 30), (455,))"
            ]
          },
          "metadata": {},
          "execution_count": 66
        }
      ]
    },
    {
      "cell_type": "code",
      "metadata": {
        "id": "broVdGpGbqrC",
        "colab": {
          "base_uri": "https://localhost:8080/",
          "height": 427
        },
        "outputId": "21f61ee8-8572-4a25-b9c1-98491f5ed75d"
      },
      "source": [
        "########\n",
        "# 모델링\n",
        "########\n",
        "keras.backend.clear_session()\n",
        "\n",
        "a = keras.layers.Input(shape=(30,))\n",
        "b = keras.layers.Dense(1, activation='sigmoid')(a)\n",
        "\n",
        "model = keras.models.Model(a,b)\n",
        "\n",
        "model.compile(loss='binary_crossentropy', optimizer='adam', metrics=['accuracy'])\n",
        "\n",
        "model.summary()\n",
        "tf.keras.utils.plot_model(model, show_shapes=True)"
      ],
      "execution_count": 67,
      "outputs": [
        {
          "output_type": "stream",
          "name": "stdout",
          "text": [
            "Model: \"model\"\n",
            "_________________________________________________________________\n",
            " Layer (type)                Output Shape              Param #   \n",
            "=================================================================\n",
            " input_1 (InputLayer)        [(None, 30)]              0         \n",
            "                                                                 \n",
            " dense (Dense)               (None, 1)                 31        \n",
            "                                                                 \n",
            "=================================================================\n",
            "Total params: 31\n",
            "Trainable params: 31\n",
            "Non-trainable params: 0\n",
            "_________________________________________________________________\n"
          ]
        },
        {
          "output_type": "execute_result",
          "data": {
            "image/png": "[encoded data removed]",
            "text/plain": [
              "<IPython.core.display.Image object>"
            ]
          },
          "metadata": {},
          "execution_count": 67
        }
      ]
    },
    {
      "cell_type": "code",
      "metadata": {
        "id": "4U3tZ7PvbljS",
        "colab": {
          "base_uri": "https://localhost:8080/"
        },
        "outputId": "125ad294-d522-4790-d48a-5e6e51dbe9ed"
      },
      "source": [
        "###########\n",
        "# 모델 학습\n",
        "###########\n",
        "model.fit(x_train, y_train, validation_split=0.2, epochs=10, verbose=1)"
      ],
      "execution_count": 68,
      "outputs": [
        {
          "output_type": "stream",
          "name": "stdout",
          "text": [
            "Epoch 1/10\n",
            "12/12 [==============================] - 1s 20ms/step - loss: 10.9616 - accuracy: 0.3187 - val_loss: 10.2838 - val_accuracy: 0.2527\n",
            "Epoch 2/10\n",
            "12/12 [==============================] - 0s 6ms/step - loss: 7.7507 - accuracy: 0.3516 - val_loss: 9.2745 - val_accuracy: 0.4505\n",
            "Epoch 3/10\n",
            "12/12 [==============================] - 0s 4ms/step - loss: 7.4224 - accuracy: 0.4011 - val_loss: 8.9834 - val_accuracy: 0.4066\n",
            "Epoch 4/10\n",
            "12/12 [==============================] - 0s 5ms/step - loss: 6.9447 - accuracy: 0.3901 - val_loss: 8.6584 - val_accuracy: 0.4066\n",
            "Epoch 5/10\n",
            "12/12 [==============================] - 0s 4ms/step - loss: 6.5938 - accuracy: 0.3819 - val_loss: 8.5210 - val_accuracy: 0.3956\n",
            "Epoch 6/10\n",
            "12/12 [==============================] - 0s 5ms/step - loss: 6.3403 - accuracy: 0.3874 - val_loss: 8.0557 - val_accuracy: 0.4396\n",
            "Epoch 7/10\n",
            "12/12 [==============================] - 0s 5ms/step - loss: 5.9730 - accuracy: 0.4231 - val_loss: 7.6763 - val_accuracy: 0.4615\n",
            "Epoch 8/10\n",
            "12/12 [==============================] - 0s 4ms/step - loss: 5.7031 - accuracy: 0.4286 - val_loss: 7.4089 - val_accuracy: 0.4615\n",
            "Epoch 9/10\n",
            "12/12 [==============================] - 0s 4ms/step - loss: 5.4479 - accuracy: 0.4423 - val_loss: 7.0775 - val_accuracy: 0.4835\n",
            "Epoch 10/10\n",
            "12/12 [==============================] - 0s 5ms/step - loss: 5.1827 - accuracy: 0.4780 - val_loss: 6.7942 - val_accuracy: 0.4945\n"
          ]
        },
        {
          "output_type": "execute_result",
          "data": {
            "text/plain": [
              "<keras.callbacks.History at 0x7efbd42db550>"
            ]
          },
          "metadata": {},
          "execution_count": 68
        }
      ]
    },
    {
      "cell_type": "code",
      "metadata": {
        "id": "prSYRU-_AlYz",
        "colab": {
          "base_uri": "https://localhost:8080/"
        },
        "outputId": "0c97b163-87c1-4b9e-dc0a-3216888fbb05"
      },
      "source": [
        "###########\n",
        "# 모델 예측\n",
        "###########\n",
        "y_pred = model.predict(x_test)\n",
        "y_pred[:5]"
      ],
      "execution_count": 69,
      "outputs": [
        {
          "output_type": "execute_result",
          "data": {
            "text/plain": [
              "array([[1.6344053e-05],\n",
              "       [4.1697472e-01],\n",
              "       [9.9377317e-08],\n",
              "       [5.9510583e-01],\n",
              "       [6.8073369e-08]], dtype=float32)"
            ]
          },
          "metadata": {},
          "execution_count": 69
        }
      ]
    },
    {
      "cell_type": "code",
      "source": [
        "y_test[:5]"
      ],
      "metadata": {
        "colab": {
          "base_uri": "https://localhost:8080/"
        },
        "id": "84fAytjHbylm",
        "outputId": "aec6e8ff-46f4-4e78-e7af-144da7704726"
      },
      "execution_count": 70,
      "outputs": [
        {
          "output_type": "execute_result",
          "data": {
            "text/plain": [
              "array([1, 1, 0, 1, 1])"
            ]
          },
          "metadata": {},
          "execution_count": 70
        }
      ]
    },
    {
      "cell_type": "markdown",
      "metadata": {
        "id": "0xVNQT9V-Iev"
      },
      "source": [
        "# 히든 레이어 추가하여 모델링!\n",
        "\n",
        "    히든 레이어 2개를 추가하여 다시 모델링!\n",
        "    히든 레이어 노드 수 : 32\n",
        "    히든 레이어 activation = 'relu'"
      ]
    },
    {
      "cell_type": "code",
      "metadata": {
        "id": "y3PTU3m--xMa",
        "colab": {
          "base_uri": "https://localhost:8080/",
          "height": 717
        },
        "outputId": "a9000b79-1811-4e39-c594-2cf2a75c81ad"
      },
      "source": [
        "########\n",
        "# 모델링\n",
        "########\n",
        "keras.backend.clear_session()\n",
        "\n",
        "a = keras.layers.Input(shape=(30,))\n",
        "h = keras.layers.Dense(32, activation='relu')(a)\n",
        "h = keras.layers.Dense(32, activation='relu')(h)\n",
        "b = keras.layers.Dense(1, activation='sigmoid')(h)\n",
        "\n",
        "model = keras.models.Model(a,b)\n",
        "\n",
        "model.compile(loss='binary_crossentropy', optimizer='adam', metrics=['accuracy'])\n",
        "\n",
        "model.summary()\n",
        "tf.keras.utils.plot_model(model, show_shapes=True)"
      ],
      "execution_count": 71,
      "outputs": [
        {
          "output_type": "stream",
          "name": "stdout",
          "text": [
            "Model: \"model\"\n",
            "_________________________________________________________________\n",
            " Layer (type)                Output Shape              Param #   \n",
            "=================================================================\n",
            " input_1 (InputLayer)        [(None, 30)]              0         \n",
            "                                                                 \n",
            " dense (Dense)               (None, 32)                992       \n",
            "                                                                 \n",
            " dense_1 (Dense)             (None, 32)                1056      \n",
            "                                                                 \n",
            " dense_2 (Dense)             (None, 1)                 33        \n",
            "                                                                 \n",
            "=================================================================\n",
            "Total params: 2,081\n",
            "Trainable params: 2,081\n",
            "Non-trainable params: 0\n",
            "_________________________________________________________________\n"
          ]
        },
        {
          "output_type": "execute_result",
          "data": {
            "image/png": "[encoded data removed]",
            "text/plain": [
              "<IPython.core.display.Image object>"
            ]
          },
          "metadata": {},
          "execution_count": 71
        }
      ]
    },
    {
      "cell_type": "code",
      "metadata": {
        "id": "HbvMea71-xMb",
        "colab": {
          "base_uri": "https://localhost:8080/"
        },
        "outputId": "3a4ae8f7-35e4-42da-d1df-4f38f1aaaf03"
      },
      "source": [
        "###########\n",
        "# 모델 학습\n",
        "###########\n",
        "model.fit(x_train, y_train, epochs=10, verbose=1, validation_split=0.2)"
      ],
      "execution_count": 72,
      "outputs": [
        {
          "output_type": "stream",
          "name": "stdout",
          "text": [
            "Epoch 1/10\n",
            "12/12 [==============================] - 1s 16ms/step - loss: 12.6670 - accuracy: 0.5962 - val_loss: 4.5530 - val_accuracy: 0.5165\n",
            "Epoch 2/10\n",
            "12/12 [==============================] - 0s 4ms/step - loss: 2.3727 - accuracy: 0.7610 - val_loss: 1.2170 - val_accuracy: 0.7582\n",
            "Epoch 3/10\n",
            "12/12 [==============================] - 0s 4ms/step - loss: 1.5581 - accuracy: 0.7473 - val_loss: 0.9942 - val_accuracy: 0.8901\n",
            "Epoch 4/10\n",
            "12/12 [==============================] - 0s 5ms/step - loss: 1.0315 - accuracy: 0.8352 - val_loss: 0.3369 - val_accuracy: 0.9011\n",
            "Epoch 5/10\n",
            "12/12 [==============================] - 0s 5ms/step - loss: 1.1416 - accuracy: 0.8462 - val_loss: 0.7702 - val_accuracy: 0.7802\n",
            "Epoch 6/10\n",
            "12/12 [==============================] - 0s 4ms/step - loss: 1.0073 - accuracy: 0.8104 - val_loss: 0.3894 - val_accuracy: 0.9121\n",
            "Epoch 7/10\n",
            "12/12 [==============================] - 0s 4ms/step - loss: 0.7850 - accuracy: 0.8626 - val_loss: 0.2281 - val_accuracy: 0.9341\n",
            "Epoch 8/10\n",
            "12/12 [==============================] - 0s 5ms/step - loss: 0.5751 - accuracy: 0.8681 - val_loss: 0.2543 - val_accuracy: 0.9451\n",
            "Epoch 9/10\n",
            "12/12 [==============================] - 0s 4ms/step - loss: 0.5570 - accuracy: 0.8874 - val_loss: 0.2133 - val_accuracy: 0.9451\n",
            "Epoch 10/10\n",
            "12/12 [==============================] - 0s 5ms/step - loss: 0.5184 - accuracy: 0.8901 - val_loss: 0.1851 - val_accuracy: 0.9560\n"
          ]
        },
        {
          "output_type": "execute_result",
          "data": {
            "text/plain": [
              "<keras.callbacks.History at 0x7efbd3f63c50>"
            ]
          },
          "metadata": {},
          "execution_count": 72
        }
      ]
    },
    {
      "cell_type": "code",
      "metadata": {
        "id": "_BZMmR5--xMb",
        "colab": {
          "base_uri": "https://localhost:8080/"
        },
        "outputId": "536cc4e0-1e67-4a3b-efc8-10612c5bd351"
      },
      "source": [
        "###########\n",
        "# 모델 예측\n",
        "###########\n",
        "y_pred = model.predict(x_test)\n",
        "y_pred[:5]"
      ],
      "execution_count": 73,
      "outputs": [
        {
          "output_type": "execute_result",
          "data": {
            "text/plain": [
              "array([[0.97833145],\n",
              "       [0.9999658 ],\n",
              "       [0.9992388 ],\n",
              "       [0.9999882 ],\n",
              "       [0.9997077 ]], dtype=float32)"
            ]
          },
          "metadata": {},
          "execution_count": 73
        }
      ]
    },
    {
      "cell_type": "code",
      "source": [
        "y_test[:5]"
      ],
      "metadata": {
        "colab": {
          "base_uri": "https://localhost:8080/"
        },
        "id": "p8zyexosfKEc",
        "outputId": "94a8af47-6aa8-4727-e3cc-840dbc30afa8"
      },
      "execution_count": 74,
      "outputs": [
        {
          "output_type": "execute_result",
          "data": {
            "text/plain": [
              "array([1, 1, 0, 1, 1])"
            ]
          },
          "metadata": {},
          "execution_count": 74
        }
      ]
    },
    {
      "cell_type": "code",
      "source": [
        ""
      ],
      "metadata": {
        "id": "la7WBMAEfLOi"
      },
      "execution_count": 74,
      "outputs": []
    }
  ]
}