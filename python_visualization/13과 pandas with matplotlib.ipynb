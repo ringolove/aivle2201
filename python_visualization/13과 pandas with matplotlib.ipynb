{
 "cells": [
  {
   "cell_type": "markdown",
   "id": "60779a9b",
   "metadata": {
    "id": "60779a9b"
   },
   "source": [
    "# 13과 pandas with matplotlib"
   ]
  },
  {
   "cell_type": "markdown",
   "id": "SH-60ukNriwB",
   "metadata": {
    "id": "SH-60ukNriwB"
   },
   "source": [
    "## 1.환경준비"
   ]
  },
  {
   "cell_type": "markdown",
   "id": "rFTbmtyjriwB",
   "metadata": {
    "id": "rFTbmtyjriwB"
   },
   "source": [
    "* 라이브러리 불러오기"
   ]
  },
  {
   "cell_type": "code",
   "execution_count": null,
   "id": "we02iCtbriwC",
   "metadata": {
    "id": "we02iCtbriwC"
   },
   "outputs": [],
   "source": [
    "import pandas as pd\n",
    "import numpy as np\n",
    "\n",
    "import matplotlib.pyplot as plt\n",
    "import seaborn as sns"
   ]
  },
  {
   "cell_type": "markdown",
   "id": "lzMY8z_eriwD",
   "metadata": {
    "id": "lzMY8z_eriwD"
   },
   "source": [
    "* 데이터 불러오기 : 다음의 예제 데이터를 사용합니다.\n",
    "> ① 타이타닉 생존자  \n",
    "② 뉴욕 공기 오염도"
   ]
  },
  {
   "cell_type": "code",
   "execution_count": null,
   "id": "FHxS_L_AriwE",
   "metadata": {
    "id": "FHxS_L_AriwE"
   },
   "outputs": [],
   "source": [
    "# 타이타닉 데이터\n",
    "titanic = pd.read_csv('https://raw.githubusercontent.com/DA4BAM/dataset/master/titanic.0.csv')\n",
    "titanic.head()"
   ]
  },
  {
   "cell_type": "code",
   "execution_count": null,
   "id": "5v8lT-m7W7dK",
   "metadata": {
    "id": "5v8lT-m7W7dK"
   },
   "outputs": [],
   "source": [
    "# air\n",
    "air = pd.read_csv('https://raw.githubusercontent.com/DA4BAM/dataset/master/airquality_simple.csv')\n",
    "air.head()"
   ]
  },
  {
   "cell_type": "markdown",
   "id": "J9FmCxFFrbfL",
   "metadata": {
    "id": "J9FmCxFFrbfL"
   },
   "source": [
    "## 2.pandas with matplotlib\n",
    "\n",
    "* 기본문법\n",
    "    * 단변량 차트 : Series.plot(kind = '  ' )\n",
    "    * 이변량 차트 : Dataframe.plot(kind = '  ', x= , y= )\n",
    "* 추가\n",
    "    * pandas.plot.그래프\n",
    "    * padas.그래프"
   ]
  },
  {
   "cell_type": "markdown",
   "id": "PEo8V9RJCbSR",
   "metadata": {
    "id": "PEo8V9RJCbSR"
   },
   "source": [
    "### 1) 히스토그램"
   ]
  },
  {
   "cell_type": "code",
   "execution_count": null,
   "id": "mRkaidvqCbtY",
   "metadata": {
    "id": "mRkaidvqCbtY"
   },
   "outputs": [],
   "source": [
    "titanic['Age'].plot(kind = 'hist', bins = 20\n",
    "                    , edgecolor = 'grey', figsize = (12,8), title = 'Age')\n",
    "plt.show()"
   ]
  },
  {
   "cell_type": "markdown",
   "id": "mMR4xlCJDLN9",
   "metadata": {
    "id": "mMR4xlCJDLN9"
   },
   "source": [
    "### 2) Density plot"
   ]
  },
  {
   "cell_type": "code",
   "execution_count": null,
   "id": "tSn8CxdpDLN_",
   "metadata": {
    "id": "tSn8CxdpDLN_"
   },
   "outputs": [],
   "source": [
    "titanic['Age'].plot(kind = 'kde'\n",
    "                    , figsize = (12,8), title = 'Age')\n",
    "plt.show()"
   ]
  },
  {
   "cell_type": "markdown",
   "id": "RqUBcAyPDZE_",
   "metadata": {
    "id": "RqUBcAyPDZE_"
   },
   "source": [
    "### 3) Boxplot"
   ]
  },
  {
   "cell_type": "code",
   "execution_count": null,
   "id": "XzqGUNcODZE_",
   "metadata": {
    "id": "XzqGUNcODZE_"
   },
   "outputs": [],
   "source": [
    "titanic['Age'].plot(kind = 'box', vert = False\n",
    "                    , figsize = (12,8), title = 'Age')\n",
    "plt.show()"
   ]
  },
  {
   "cell_type": "markdown",
   "id": "y3dwyYQDDqbm",
   "metadata": {
    "id": "y3dwyYQDDqbm"
   },
   "source": [
    "### 4) scatter"
   ]
  },
  {
   "cell_type": "code",
   "execution_count": null,
   "id": "9YidOytUDqbm",
   "metadata": {
    "id": "9YidOytUDqbm"
   },
   "outputs": [],
   "source": [
    "boston.plot(kind = 'scatter', x = 'crim', y = 'medv', figsize = (12,8))\n",
    "plt.show()"
   ]
  },
  {
   "cell_type": "markdown",
   "id": "EeEg8pQ5KaYb",
   "metadata": {
    "id": "EeEg8pQ5KaYb"
   },
   "source": [
    "### 5) 추가로..."
   ]
  },
  {
   "cell_type": "code",
   "execution_count": null,
   "id": "RvYbCL5EKjSH",
   "metadata": {
    "id": "RvYbCL5EKjSH"
   },
   "outputs": [],
   "source": [
    "titanic.boxplot('Age', by = 'Survived', figsize = (12,8))\n",
    "plt.show()"
   ]
  },
  {
   "cell_type": "code",
   "execution_count": null,
   "id": "ShKK8z9fLIOA",
   "metadata": {
    "id": "ShKK8z9fLIOA"
   },
   "outputs": [],
   "source": [
    "boston.plot.scatter(x = 'crim', y = 'medv', figsize = (12,8))\n",
    "plt.show()"
   ]
  },
  {
   "cell_type": "code",
   "execution_count": null,
   "id": "fdxeprTMXbwH",
   "metadata": {
    "id": "fdxeprTMXbwH"
   },
   "outputs": [],
   "source": [
    "air.loc[:,['Ozone','Temp']].plot(figsize = (12,8))\n",
    "plt.show()"
   ]
  },
  {
   "cell_type": "markdown",
   "id": "EsmjIPo_1-eN",
   "metadata": {
    "id": "EsmjIPo_1-eN"
   },
   "source": [
    "# 종합실습"
   ]
  },
  {
   "cell_type": "markdown",
   "id": "K9-mOzw81-eN",
   "metadata": {
    "id": "K9-mOzw81-eN"
   },
   "source": [
    "## 1.환경준비"
   ]
  },
  {
   "cell_type": "markdown",
   "id": "nY2bXZIv1-eO",
   "metadata": {
    "id": "nY2bXZIv1-eO"
   },
   "source": [
    "* 라이브러리 불러오기"
   ]
  },
  {
   "cell_type": "code",
   "execution_count": null,
   "id": "-JsEcY_H1-eO",
   "metadata": {
    "id": "-JsEcY_H1-eO"
   },
   "outputs": [],
   "source": [
    "import pandas as pd\n",
    "import numpy as np\n",
    "\n",
    "import matplotlib.pyplot as plt\n",
    "import seaborn as sns"
   ]
  },
  {
   "cell_type": "markdown",
   "id": "PWDszyC-1-eO",
   "metadata": {
    "id": "PWDszyC-1-eO"
   },
   "source": [
    "* 데이터 불러오기 : 다음의 예제 데이터를 사용합니다.\n",
    "> ① 타이타닉 생존자  \n",
    "② 보스톤 시, 타운별 집값  \n",
    "③ 아이리스 꽃 분류  \n",
    "④ 뉴욕 공기 오염도\n"
   ]
  },
  {
   "cell_type": "code",
   "execution_count": null,
   "id": "iHxda7X41-eO",
   "metadata": {
    "id": "iHxda7X41-eO",
    "outputId": "d3b15b1a-8c4e-4172-cd1f-9723a1b1ae85"
   },
   "outputs": [],
   "source": [
    "# 타이타닉 데이터\n",
    "titanic = pd.read_csv('https://raw.githubusercontent.com/DA4BAM/dataset/master/titanic.0.csv')\n",
    "titanic.head()"
   ]
  },
  {
   "cell_type": "code",
   "execution_count": null,
   "id": "3OTmPylt1-eP",
   "metadata": {
    "id": "3OTmPylt1-eP",
    "outputId": "8e9d7a5c-2706-452a-f5dc-4faebcf9e1f1"
   },
   "outputs": [],
   "source": [
    "# 보스톤 집값 데이터\n",
    "boston = pd.read_csv('https://raw.githubusercontent.com/DA4BAM/dataset/master/boston2_NA.csv')\n",
    "boston.head()"
   ]
  },
  {
   "cell_type": "code",
   "execution_count": null,
   "id": "rhcpSsui1-eP",
   "metadata": {
    "id": "rhcpSsui1-eP",
    "outputId": "67061ac8-e1cc-4793-9d8e-dc35e4fc1815"
   },
   "outputs": [],
   "source": [
    "# 아이리스 꽃 분류\n",
    "iris = pd.read_csv('https://raw.githubusercontent.com/DA4BAM/dataset/master/iris.csv')\n",
    "iris.head()"
   ]
  },
  {
   "cell_type": "code",
   "execution_count": null,
   "id": "QzF3Rv_S1-eP",
   "metadata": {
    "id": "QzF3Rv_S1-eP",
    "outputId": "3e9e12eb-5bbf-4c91-cffb-64b2d95a10a8"
   },
   "outputs": [],
   "source": [
    "# air\n",
    "air = pd.read_csv('https://raw.githubusercontent.com/DA4BAM/dataset/master/airquality_simple.csv')\n",
    "air.head()"
   ]
  },
  {
   "cell_type": "markdown",
   "id": "69V_tcXx1-eQ",
   "metadata": {
    "id": "69V_tcXx1-eQ"
   },
   "source": [
    "## 2.pandas with matplotlib\n",
    "\n",
    "* 기본문법\n",
    "    * 단변량 차트 : Series.plot(kind = '  ' )\n",
    "    * 이변량 차트 : Dataframe.plot(kind = '  ', x= , y= )\n",
    "* 추가\n",
    "    * pandas.plot.그래프\n",
    "    * padas.그래프"
   ]
  },
  {
   "cell_type": "markdown",
   "id": "TSF4n2oq1-eQ",
   "metadata": {
    "id": "TSF4n2oq1-eQ"
   },
   "source": [
    "### 1) 히스토그램"
   ]
  },
  {
   "cell_type": "markdown",
   "id": "d6yjXgoVNRcI",
   "metadata": {
    "id": "d6yjXgoVNRcI"
   },
   "source": [
    "① 타이타닉의 Age 변수에 대해서 히스토그램을 그려 봅시다."
   ]
  },
  {
   "cell_type": "code",
   "execution_count": null,
   "id": "kWePh1ZX1-eQ",
   "metadata": {
    "id": "kWePh1ZX1-eQ",
    "outputId": "92a13e34-296a-4058-ab80-709e9cacbc54",
    "scrolled": true
   },
   "outputs": [],
   "source": [
    "titanic['Age'].plot(kind = 'hist', bins = 20\n",
    "                    , edgecolor = 'grey', figsize = (8,6), title = 'Age')\n",
    "plt.show()"
   ]
  },
  {
   "cell_type": "markdown",
   "id": "TOxtBmZaNRcI",
   "metadata": {
    "id": "TOxtBmZaNRcI"
   },
   "source": [
    "② boston 데이터의 medv(집값)에 대해서 히스토그램을 그려봅시다."
   ]
  },
  {
   "cell_type": "code",
   "execution_count": null,
   "id": "JS-oA3dTNRcI",
   "metadata": {
    "id": "JS-oA3dTNRcI",
    "outputId": "14a72592-3e82-4d1a-abf9-880137f0cac9",
    "scrolled": true
   },
   "outputs": [],
   "source": [
    "boston['medv'].plot(kind = 'hist', bins = 20\n",
    "                    , edgecolor = 'grey', figsize = (8,6), title = 'medv')\n",
    "plt.show()"
   ]
  },
  {
   "cell_type": "markdown",
   "id": "29xsnVYz1-eR",
   "metadata": {
    "id": "29xsnVYz1-eR"
   },
   "source": [
    "### 2) Density plot"
   ]
  },
  {
   "cell_type": "markdown",
   "id": "zwIHaQbNNRcJ",
   "metadata": {
    "id": "zwIHaQbNNRcJ"
   },
   "source": [
    "① iris의 Petal.Length에 대해 밀도함수 그래프를 그려봅시다."
   ]
  },
  {
   "cell_type": "code",
   "execution_count": null,
   "id": "7zSx9XYUNRcJ",
   "metadata": {
    "id": "7zSx9XYUNRcJ",
    "outputId": "025f022d-2b4c-49db-9b4b-7c002455d94d"
   },
   "outputs": [],
   "source": [
    "iris['Petal.Length'].plot(kind = 'kde'\n",
    "                    , figsize = (8,6), title = ' Petal.Length')\n",
    "plt.show()"
   ]
  },
  {
   "cell_type": "markdown",
   "id": "VpOuou2vNRcJ",
   "metadata": {
    "id": "VpOuou2vNRcJ"
   },
   "source": [
    "② airquality의 wind에 대해 밀도함수 그래프를 그려봅시다."
   ]
  },
  {
   "cell_type": "code",
   "execution_count": null,
   "id": "lw0feUAZ1-eR",
   "metadata": {
    "id": "lw0feUAZ1-eR",
    "outputId": "90cd4dc7-8383-49b5-983d-e7f796ef8c2c"
   },
   "outputs": [],
   "source": [
    "air['Wind'].plot(kind = 'kde'\n",
    "                    , figsize = (8,6), title = 'Age')\n",
    "plt.show()"
   ]
  },
  {
   "cell_type": "markdown",
   "id": "OP2EvQ-G1-eR",
   "metadata": {
    "id": "OP2EvQ-G1-eR"
   },
   "source": [
    "### 3) Boxplot"
   ]
  },
  {
   "cell_type": "markdown",
   "id": "caYXzWb7NRcK",
   "metadata": {
    "id": "caYXzWb7NRcK"
   },
   "source": [
    "① 타이타닉의 Fare 변수에 대해서 boxplot을 그려 봅시다."
   ]
  },
  {
   "cell_type": "code",
   "execution_count": null,
   "id": "jbAcg_zMNRcK",
   "metadata": {
    "id": "jbAcg_zMNRcK",
    "outputId": "b42c81d4-04d4-4d41-b63a-1f075707ad39"
   },
   "outputs": [],
   "source": [
    "titanic['Fare'].plot(kind = 'box', figsize = (8,6), title = 'Fare', vert = False)\n",
    "plt.show()"
   ]
  },
  {
   "cell_type": "markdown",
   "id": "-Naot3Y5NRcK",
   "metadata": {
    "id": "-Naot3Y5NRcK"
   },
   "source": [
    "② boston 데이터의 crim(범죄율)에 대해 boxplot을 그려봅시다."
   ]
  },
  {
   "cell_type": "code",
   "execution_count": null,
   "id": "OmRz5kgANRcK",
   "metadata": {
    "id": "OmRz5kgANRcK",
    "outputId": "4e6a0039-b6b2-4b51-b13c-0b87de201c0a"
   },
   "outputs": [],
   "source": [
    "boston['crim'].plot(kind = 'box', figsize = (8,6), title = 'crim')\n",
    "plt.show()"
   ]
  },
  {
   "cell_type": "markdown",
   "id": "AlQBn2PT1-eS",
   "metadata": {
    "id": "AlQBn2PT1-eS"
   },
   "source": [
    "### 4) scatter"
   ]
  },
  {
   "cell_type": "markdown",
   "id": "TVbpJ3p0NRcL",
   "metadata": {
    "id": "TVbpJ3p0NRcL"
   },
   "source": [
    "① boston 데이터에서 교사학생 비율(ptratio)에 따른 집값을 비교해 봅시다."
   ]
  },
  {
   "cell_type": "code",
   "execution_count": null,
   "id": "EktMwMXF1-eT",
   "metadata": {
    "id": "EktMwMXF1-eT",
    "outputId": "1dc3344e-4f74-4a64-98b8-ef1d17d9d91e",
    "scrolled": false
   },
   "outputs": [],
   "source": [
    "boston.plot(kind = 'scatter', x = 'ptratio', y = 'medv', figsize = (8,6))\n",
    "plt.show()"
   ]
  },
  {
   "cell_type": "markdown",
   "id": "kWCSRWvlNRcL",
   "metadata": {
    "id": "kWCSRWvlNRcL"
   },
   "source": [
    "② iris 데이터에서 Sepal.Length와 Petal.Length의 관계를 비교해 봅시다."
   ]
  },
  {
   "cell_type": "code",
   "execution_count": null,
   "id": "ZasIjoTHNRcL",
   "metadata": {
    "id": "ZasIjoTHNRcL",
    "outputId": "a4499cda-0137-465e-ec40-e22162d78b0d",
    "scrolled": false
   },
   "outputs": [],
   "source": [
    "iris.plot(kind = 'scatter', x = 'Sepal.Length', y = 'Petal.Length', figsize = (8,6))\n",
    "plt.show()"
   ]
  }
 ],
 "metadata": {
  "colab": {
   "collapsed_sections": [],
   "name": "13과 pandas with matplotlib.ipynb",
   "provenance": [],
   "toc_visible": true
  },
  "kernelspec": {
   "display_name": "Python 3",
   "language": "python",
   "name": "python3"
  },
  "language_info": {
   "codemirror_mode": {
    "name": "ipython",
    "version": 3
   },
   "file_extension": ".py",
   "mimetype": "text/x-python",
   "name": "python",
   "nbconvert_exporter": "python",
   "pygments_lexer": "ipython3",
   "version": "3.8.8"
  }
 },
 "nbformat": 4,
 "nbformat_minor": 5
}
