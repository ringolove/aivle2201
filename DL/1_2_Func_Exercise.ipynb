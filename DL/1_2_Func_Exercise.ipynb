{
  "nbformat": 4,
  "nbformat_minor": 0,
  "metadata": {
    "colab": {
      "name": "1_2_Func_Exercise.ipynb",
      "provenance": [],
      "collapsed_sections": []
    },
    "kernelspec": {
      "name": "python3",
      "display_name": "Python 3"
    }
  },
  "cells": [
    {
      "cell_type": "markdown",
      "metadata": {
        "id": "keUh6GP3UUZK"
      },
      "source": [
        "# Keras로 Linear&Logistic Regression 조금 더 맛보기"
      ]
    },
    {
      "cell_type": "code",
      "metadata": {
        "id": "hHMVH_IRUffh"
      },
      "source": [
        "import tensorflow as tf\n",
        "from tensorflow import keras\n",
        "\n",
        "import numpy as np\n",
        "import pandas as pd"
      ],
      "execution_count": 1,
      "outputs": []
    },
    {
      "cell_type": "markdown",
      "metadata": {
        "id": "usKNktcHU7Ey"
      },
      "source": [
        "# Linear Regression on 쬐금 더 어려운 데이터"
      ]
    },
    {
      "cell_type": "code",
      "metadata": {
        "id": "BVEo_dbtWYRw"
      },
      "source": [
        "from sklearn.datasets import load_boston"
      ],
      "execution_count": 2,
      "outputs": []
    },
    {
      "cell_type": "code",
      "metadata": {
        "id": "bfEYfAjuWfYV",
        "colab": {
          "base_uri": "https://localhost:8080/"
        },
        "outputId": "8ec57dda-7521-48b8-dc3c-9968159cc899"
      },
      "source": [
        "boston = load_boston()"
      ],
      "execution_count": 7,
      "outputs": [
        {
          "output_type": "stream",
          "name": "stderr",
          "text": [
            "/usr/local/lib/python3.7/dist-packages/sklearn/utils/deprecation.py:87: FutureWarning: Function load_boston is deprecated; `load_boston` is deprecated in 1.0 and will be removed in 1.2.\n",
            "\n",
            "    The Boston housing prices dataset has an ethical problem. You can refer to\n",
            "    the documentation of this function for further details.\n",
            "\n",
            "    The scikit-learn maintainers therefore strongly discourage the use of this\n",
            "    dataset unless the purpose of the code is to study and educate about\n",
            "    ethical issues in data science and machine learning.\n",
            "\n",
            "    In this special case, you can fetch the dataset from the original\n",
            "    source::\n",
            "\n",
            "        import pandas as pd\n",
            "        import numpy as np\n",
            "\n",
            "\n",
            "        data_url = \"http://lib.stat.cmu.edu/datasets/boston\"\n",
            "        raw_df = pd.read_csv(data_url, sep=\"\\s+\", skiprows=22, header=None)\n",
            "        data = np.hstack([raw_df.values[::2, :], raw_df.values[1::2, :2]])\n",
            "        target = raw_df.values[1::2, 2]\n",
            "\n",
            "    Alternative datasets include the California housing dataset (i.e.\n",
            "    :func:`~sklearn.datasets.fetch_california_housing`) and the Ames housing\n",
            "    dataset. You can load the datasets as follows::\n",
            "\n",
            "        from sklearn.datasets import fetch_california_housing\n",
            "        housing = fetch_california_housing()\n",
            "\n",
            "    for the California housing dataset and::\n",
            "\n",
            "        from sklearn.datasets import fetch_openml\n",
            "        housing = fetch_openml(name=\"house_prices\", as_frame=True)\n",
            "\n",
            "    for the Ames housing dataset.\n",
            "    \n",
            "  warnings.warn(msg, category=FutureWarning)\n"
          ]
        }
      ]
    },
    {
      "cell_type": "code",
      "metadata": {
        "id": "kIYkQ9CmWglQ",
        "colab": {
          "base_uri": "https://localhost:8080/"
        },
        "outputId": "949618e5-6a35-4bec-e766-2a0fa08433b4"
      },
      "source": [
        "x = boston.data\n",
        "y = boston.target\n",
        "\n",
        "x.shape, y.shape"
      ],
      "execution_count": 8,
      "outputs": [
        {
          "output_type": "execute_result",
          "data": {
            "text/plain": [
              "((506, 13), (506,))"
            ]
          },
          "metadata": {},
          "execution_count": 8
        }
      ]
    },
    {
      "cell_type": "code",
      "metadata": {
        "id": "wcp6Y_5LWiFz"
      },
      "source": [
        "keras.backend.clear_session()\n",
        "\n",
        "a = keras.layers.Input(shape=(13,))\n",
        "b = keras.layers.Dense(1)(a)\n",
        "\n",
        "model = keras.models.Model(a,b)\n",
        "\n",
        "model.compile(loss='mse', optimizer='adam')"
      ],
      "execution_count": 9,
      "outputs": []
    },
    {
      "cell_type": "code",
      "metadata": {
        "id": "txzwhxFlWoxF",
        "colab": {
          "base_uri": "https://localhost:8080/"
        },
        "outputId": "bbadec65-6a8b-4bcb-911e-1b1ca2553e7f"
      },
      "source": [
        "model.fit(x, y, epochs=20, verbose=1)"
      ],
      "execution_count": 10,
      "outputs": [
        {
          "output_type": "stream",
          "name": "stdout",
          "text": [
            "Epoch 1/20\n",
            "16/16 [==============================] - 0s 2ms/step - loss: 15442.4287\n",
            "Epoch 2/20\n",
            "16/16 [==============================] - 0s 2ms/step - loss: 12472.3105\n",
            "Epoch 3/20\n",
            "16/16 [==============================] - 0s 2ms/step - loss: 10056.1719\n",
            "Epoch 4/20\n",
            "16/16 [==============================] - 0s 2ms/step - loss: 8125.7935\n",
            "Epoch 5/20\n",
            "16/16 [==============================] - 0s 2ms/step - loss: 6671.7310\n",
            "Epoch 6/20\n",
            "16/16 [==============================] - 0s 2ms/step - loss: 5567.4443\n",
            "Epoch 7/20\n",
            "16/16 [==============================] - 0s 2ms/step - loss: 4783.4307\n",
            "Epoch 8/20\n",
            "16/16 [==============================] - 0s 2ms/step - loss: 4221.6738\n",
            "Epoch 9/20\n",
            "16/16 [==============================] - 0s 2ms/step - loss: 3797.0212\n",
            "Epoch 10/20\n",
            "16/16 [==============================] - 0s 2ms/step - loss: 3487.8870\n",
            "Epoch 11/20\n",
            "16/16 [==============================] - 0s 2ms/step - loss: 3271.1877\n",
            "Epoch 12/20\n",
            "16/16 [==============================] - 0s 2ms/step - loss: 3092.3340\n",
            "Epoch 13/20\n",
            "16/16 [==============================] - 0s 2ms/step - loss: 2948.9753\n",
            "Epoch 14/20\n",
            "16/16 [==============================] - 0s 3ms/step - loss: 2828.4226\n",
            "Epoch 15/20\n",
            "16/16 [==============================] - 0s 2ms/step - loss: 2704.2827\n",
            "Epoch 16/20\n",
            "16/16 [==============================] - 0s 2ms/step - loss: 2598.0964\n",
            "Epoch 17/20\n",
            "16/16 [==============================] - 0s 2ms/step - loss: 2497.6506\n",
            "Epoch 18/20\n",
            "16/16 [==============================] - 0s 2ms/step - loss: 2397.1218\n",
            "Epoch 19/20\n",
            "16/16 [==============================] - 0s 2ms/step - loss: 2300.1829\n",
            "Epoch 20/20\n",
            "16/16 [==============================] - 0s 2ms/step - loss: 2205.4919\n"
          ]
        },
        {
          "output_type": "execute_result",
          "data": {
            "text/plain": [
              "<keras.callbacks.History at 0x7f5533a20e50>"
            ]
          },
          "metadata": {},
          "execution_count": 10
        }
      ]
    },
    {
      "cell_type": "code",
      "source": [
        "y_pred = model.predict(x)\n",
        "print(y_pred[:5])"
      ],
      "metadata": {
        "colab": {
          "base_uri": "https://localhost:8080/"
        },
        "id": "vdVBnUZ8mq77",
        "outputId": "069c5a26-219f-44d2-9822-2705770b4f12"
      },
      "execution_count": 11,
      "outputs": [
        {
          "output_type": "stream",
          "name": "stdout",
          "text": [
            "[[55.68037 ]\n",
            " [79.85142 ]\n",
            " [67.01542 ]\n",
            " [63.666374]\n",
            " [69.94189 ]]\n"
          ]
        }
      ]
    },
    {
      "cell_type": "code",
      "source": [
        "y[:5]"
      ],
      "metadata": {
        "colab": {
          "base_uri": "https://localhost:8080/"
        },
        "id": "phBmu7Jom7yk",
        "outputId": "a27d1782-4390-4257-8219-8fa848d8b861"
      },
      "execution_count": 12,
      "outputs": [
        {
          "output_type": "execute_result",
          "data": {
            "text/plain": [
              "array([24. , 21.6, 34.7, 33.4, 36.2])"
            ]
          },
          "metadata": {},
          "execution_count": 12
        }
      ]
    },
    {
      "cell_type": "markdown",
      "metadata": {
        "id": "2WKWxkFcWuIS"
      },
      "source": [
        "# Logistic Regression 쬐금 더 어려운 데이터"
      ]
    },
    {
      "cell_type": "code",
      "metadata": {
        "id": "tcpM1yMBXPMV"
      },
      "source": [
        "from sklearn.datasets import load_breast_cancer"
      ],
      "execution_count": 13,
      "outputs": []
    },
    {
      "cell_type": "code",
      "metadata": {
        "id": "kywnQJlHXZCg"
      },
      "source": [
        "cancer = load_breast_cancer()"
      ],
      "execution_count": 14,
      "outputs": []
    },
    {
      "cell_type": "code",
      "metadata": {
        "id": "Fbgs4YZrXcCB",
        "colab": {
          "base_uri": "https://localhost:8080/"
        },
        "outputId": "b8eefe8a-6f26-4d62-c808-b883f2631c4b"
      },
      "source": [
        "x = cancer.data\n",
        "y = cancer.target\n",
        "\n",
        "# 모양 확인해볼 것\n",
        "x.shape, y.shape"
      ],
      "execution_count": 15,
      "outputs": [
        {
          "output_type": "execute_result",
          "data": {
            "text/plain": [
              "((569, 30), (569,))"
            ]
          },
          "metadata": {},
          "execution_count": 15
        }
      ]
    },
    {
      "cell_type": "code",
      "metadata": {
        "id": "8VXrsX4_Xgrl"
      },
      "source": [
        "keras.backend.clear_session()\n",
        "\n",
        "a = keras.layers.Input(shape=(30,))\n",
        "b = keras.layers.Dense(1, activation='sigmoid')(a)\n",
        "\n",
        "model = keras.models.Model(a,b)\n",
        "\n",
        "model.compile(loss='binary_crossentropy', optimizer='adam', metrics=['accuracy'])"
      ],
      "execution_count": 16,
      "outputs": []
    },
    {
      "cell_type": "code",
      "metadata": {
        "id": "QWWM_b7UXhQT",
        "colab": {
          "base_uri": "https://localhost:8080/"
        },
        "outputId": "1aaed0fe-0d8a-4991-84a8-18903ee18f12"
      },
      "source": [
        "model.fit(x, y, epochs=10, verbose=1)"
      ],
      "execution_count": 17,
      "outputs": [
        {
          "output_type": "stream",
          "name": "stdout",
          "text": [
            "Epoch 1/10\n",
            "18/18 [==============================] - 1s 3ms/step - loss: 137.2931 - accuracy: 0.6274\n",
            "Epoch 2/10\n",
            "18/18 [==============================] - 0s 4ms/step - loss: 118.3995 - accuracy: 0.6274\n",
            "Epoch 3/10\n",
            "18/18 [==============================] - 0s 3ms/step - loss: 99.8149 - accuracy: 0.6274\n",
            "Epoch 4/10\n",
            "18/18 [==============================] - 0s 3ms/step - loss: 81.2927 - accuracy: 0.6274\n",
            "Epoch 5/10\n",
            "18/18 [==============================] - 0s 3ms/step - loss: 62.6559 - accuracy: 0.6274\n",
            "Epoch 6/10\n",
            "18/18 [==============================] - 0s 3ms/step - loss: 44.5933 - accuracy: 0.6186\n",
            "Epoch 7/10\n",
            "18/18 [==============================] - 0s 3ms/step - loss: 28.9266 - accuracy: 0.3884\n",
            "Epoch 8/10\n",
            "18/18 [==============================] - 0s 3ms/step - loss: 21.3185 - accuracy: 0.1213\n",
            "Epoch 9/10\n",
            "18/18 [==============================] - 0s 3ms/step - loss: 19.9684 - accuracy: 0.1213\n",
            "Epoch 10/10\n",
            "18/18 [==============================] - 0s 3ms/step - loss: 19.3152 - accuracy: 0.1230\n"
          ]
        },
        {
          "output_type": "execute_result",
          "data": {
            "text/plain": [
              "<keras.callbacks.History at 0x7f552ca94250>"
            ]
          },
          "metadata": {},
          "execution_count": 17
        }
      ]
    },
    {
      "cell_type": "code",
      "source": [
        "y_pred = model.predict(x)\n",
        "for i, j in enumerate(y_pred):\n",
        "  if j >= 0.5:\n",
        "    y_pred[i] = 1\n",
        "  else:\n",
        "    y_pred[i] = 0\n",
        "y_pred[:5]"
      ],
      "metadata": {
        "colab": {
          "base_uri": "https://localhost:8080/"
        },
        "id": "DjbXL388neqR",
        "outputId": "ff14ea66-ccb5-4687-8c41-1ee96310b623"
      },
      "execution_count": 19,
      "outputs": [
        {
          "output_type": "execute_result",
          "data": {
            "text/plain": [
              "array([[1.],\n",
              "       [1.],\n",
              "       [1.],\n",
              "       [0.],\n",
              "       [0.]], dtype=float32)"
            ]
          },
          "metadata": {},
          "execution_count": 19
        }
      ]
    },
    {
      "cell_type": "code",
      "source": [
        "y[:5]"
      ],
      "metadata": {
        "colab": {
          "base_uri": "https://localhost:8080/"
        },
        "id": "Nx1HcaW-njyt",
        "outputId": "8295a38c-d575-4e6b-bdfc-7dc34a638863"
      },
      "execution_count": 20,
      "outputs": [
        {
          "output_type": "execute_result",
          "data": {
            "text/plain": [
              "array([0, 0, 0, 0, 0])"
            ]
          },
          "metadata": {},
          "execution_count": 20
        }
      ]
    },
    {
      "cell_type": "code",
      "source": [
        ""
      ],
      "metadata": {
        "id": "CuXcIwxon0Kp"
      },
      "execution_count": null,
      "outputs": []
    }
  ]
}