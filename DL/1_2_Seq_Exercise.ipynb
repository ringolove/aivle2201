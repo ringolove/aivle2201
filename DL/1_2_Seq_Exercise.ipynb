{
  "nbformat": 4,
  "nbformat_minor": 0,
  "metadata": {
    "colab": {
      "name": "1_2_Seq_Exercise.ipynb",
      "provenance": [],
      "collapsed_sections": []
    },
    "kernelspec": {
      "name": "python3",
      "display_name": "Python 3"
    }
  },
  "cells": [
    {
      "cell_type": "markdown",
      "metadata": {
        "id": "keUh6GP3UUZK"
      },
      "source": [
        "# Keras로 Linear&Logistic Regression 조금 더 맛보기"
      ]
    },
    {
      "cell_type": "code",
      "metadata": {
        "id": "hHMVH_IRUffh"
      },
      "source": [
        "import tensorflow as tf\n",
        "from tensorflow import keras\n",
        "\n",
        "import numpy as np\n",
        "import pandas as pd"
      ],
      "execution_count": null,
      "outputs": []
    },
    {
      "cell_type": "markdown",
      "metadata": {
        "id": "usKNktcHU7Ey"
      },
      "source": [
        "# Linear Regression on 쬐금 더 어려운 데이터"
      ]
    },
    {
      "cell_type": "code",
      "metadata": {
        "id": "BVEo_dbtWYRw"
      },
      "source": [
        "from sklearn.datasets import load_boston"
      ],
      "execution_count": null,
      "outputs": []
    },
    {
      "cell_type": "code",
      "metadata": {
        "id": "bfEYfAjuWfYV",
        "colab": {
          "base_uri": "https://localhost:8080/"
        },
        "outputId": "f6eb1454-efe7-477a-da3c-c08a35c4421b"
      },
      "source": [
        "boston = load_boston()"
      ],
      "execution_count": null,
      "outputs": [
        {
          "output_type": "stream",
          "name": "stderr",
          "text": [
            "/usr/local/lib/python3.7/dist-packages/sklearn/utils/deprecation.py:87: FutureWarning: Function load_boston is deprecated; `load_boston` is deprecated in 1.0 and will be removed in 1.2.\n",
            "\n",
            "    The Boston housing prices dataset has an ethical problem. You can refer to\n",
            "    the documentation of this function for further details.\n",
            "\n",
            "    The scikit-learn maintainers therefore strongly discourage the use of this\n",
            "    dataset unless the purpose of the code is to study and educate about\n",
            "    ethical issues in data science and machine learning.\n",
            "\n",
            "    In this special case, you can fetch the dataset from the original\n",
            "    source::\n",
            "\n",
            "        import pandas as pd\n",
            "        import numpy as np\n",
            "\n",
            "\n",
            "        data_url = \"http://lib.stat.cmu.edu/datasets/boston\"\n",
            "        raw_df = pd.read_csv(data_url, sep=\"\\s+\", skiprows=22, header=None)\n",
            "        data = np.hstack([raw_df.values[::2, :], raw_df.values[1::2, :2]])\n",
            "        target = raw_df.values[1::2, 2]\n",
            "\n",
            "    Alternative datasets include the California housing dataset (i.e.\n",
            "    :func:`~sklearn.datasets.fetch_california_housing`) and the Ames housing\n",
            "    dataset. You can load the datasets as follows::\n",
            "\n",
            "        from sklearn.datasets import fetch_california_housing\n",
            "        housing = fetch_california_housing()\n",
            "\n",
            "    for the California housing dataset and::\n",
            "\n",
            "        from sklearn.datasets import fetch_openml\n",
            "        housing = fetch_openml(name=\"house_prices\", as_frame=True)\n",
            "\n",
            "    for the Ames housing dataset.\n",
            "    \n",
            "  warnings.warn(msg, category=FutureWarning)\n"
          ]
        }
      ]
    },
    {
      "cell_type": "code",
      "metadata": {
        "id": "kIYkQ9CmWglQ",
        "colab": {
          "base_uri": "https://localhost:8080/"
        },
        "outputId": "8e49e832-3815-4edf-cbe0-f35e5eea6e4e"
      },
      "source": [
        "x = boston.data\n",
        "y = boston.target\n",
        "\n",
        "x.shape, y.shape"
      ],
      "execution_count": null,
      "outputs": [
        {
          "output_type": "execute_result",
          "data": {
            "text/plain": [
              "((506, 13), (506,))"
            ]
          },
          "metadata": {},
          "execution_count": 31
        }
      ]
    },
    {
      "cell_type": "code",
      "metadata": {
        "id": "wcp6Y_5LWiFz"
      },
      "source": [
        "# 모델링: Sequential API\n",
        "\n",
        "# 1. 세션 클리어\n",
        "keras.backend.clear_session()\n",
        "\n",
        "# 2. 모델 선언\n",
        "model = keras.models.Sequential()\n",
        "\n",
        "# 3. 레이어 조립\n",
        "model.add(keras.layers.Input(shape=(13,)))\n",
        "model.add(keras.layers.Dense(1))\n",
        "\n",
        "# Original Sequential API\n",
        "# model.add(keras.layers.Dense(1, input_shape=(13,)))\n",
        "\n",
        "# 4. 컴파일\n",
        "model.compile(loss = 'mse', optimizer = 'adam')\n",
        "# model.compile(loss=keras.losses.mean_squared_error, optimizer=keras.optimizers.Adam())"
      ],
      "execution_count": null,
      "outputs": []
    },
    {
      "cell_type": "code",
      "source": [
        "model.summary()\n",
        "tf.keras.utils.plot_model(model, show_shapes=True)"
      ],
      "metadata": {
        "colab": {
          "base_uri": "https://localhost:8080/",
          "height": 392
        },
        "id": "OqrxReiysoV4",
        "outputId": "9a755067-05dd-470f-a9c3-a2d4112b061c"
      },
      "execution_count": null,
      "outputs": [
        {
          "output_type": "stream",
          "name": "stdout",
          "text": [
            "Model: \"sequential\"\n",
            "_________________________________________________________________\n",
            " Layer (type)                Output Shape              Param #   \n",
            "=================================================================\n",
            " dense (Dense)               (None, 1)                 14        \n",
            "                                                                 \n",
            "=================================================================\n",
            "Total params: 14\n",
            "Trainable params: 14\n",
            "Non-trainable params: 0\n",
            "_________________________________________________________________\n"
          ]
        },
        {
          "output_type": "execute_result",
          "data": {
            "image/png": "[encoded data removed]",
            "text/plain": [
              "<IPython.core.display.Image object>"
            ]
          },
          "metadata": {},
          "execution_count": 33
        }
      ]
    },
    {
      "cell_type": "code",
      "source": [
        "hist = model.fit(x, y, epochs=20, verbose=1)"
      ],
      "metadata": {
        "colab": {
          "base_uri": "https://localhost:8080/"
        },
        "id": "64o4HA6UrQ_X",
        "outputId": "d8ecc1d4-5827-4812-d788-321924779e9f"
      },
      "execution_count": null,
      "outputs": [
        {
          "output_type": "stream",
          "name": "stdout",
          "text": [
            "Epoch 1/20\n",
            "16/16 [==============================] - 0s 2ms/step - loss: 43515.1758\n",
            "Epoch 2/20\n",
            "16/16 [==============================] - 0s 2ms/step - loss: 37676.5742\n",
            "Epoch 3/20\n",
            "16/16 [==============================] - 0s 2ms/step - loss: 32330.7930\n",
            "Epoch 4/20\n",
            "16/16 [==============================] - 0s 2ms/step - loss: 27680.0176\n",
            "Epoch 5/20\n",
            "16/16 [==============================] - 0s 2ms/step - loss: 23480.5098\n",
            "Epoch 6/20\n",
            "16/16 [==============================] - 0s 2ms/step - loss: 19857.8184\n",
            "Epoch 7/20\n",
            "16/16 [==============================] - 0s 2ms/step - loss: 16656.8223\n",
            "Epoch 8/20\n",
            "16/16 [==============================] - 0s 2ms/step - loss: 13932.2773\n",
            "Epoch 9/20\n",
            "16/16 [==============================] - 0s 2ms/step - loss: 11571.2822\n",
            "Epoch 10/20\n",
            "16/16 [==============================] - 0s 2ms/step - loss: 9558.9678\n",
            "Epoch 11/20\n",
            "16/16 [==============================] - 0s 2ms/step - loss: 7854.0391\n",
            "Epoch 12/20\n",
            "16/16 [==============================] - 0s 2ms/step - loss: 6452.1475\n",
            "Epoch 13/20\n",
            "16/16 [==============================] - 0s 2ms/step - loss: 5256.4316\n",
            "Epoch 14/20\n",
            "16/16 [==============================] - 0s 2ms/step - loss: 4271.4819\n",
            "Epoch 15/20\n",
            "16/16 [==============================] - 0s 2ms/step - loss: 3487.3562\n",
            "Epoch 16/20\n",
            "16/16 [==============================] - 0s 2ms/step - loss: 2834.2031\n",
            "Epoch 17/20\n",
            "16/16 [==============================] - 0s 2ms/step - loss: 2314.3872\n",
            "Epoch 18/20\n",
            "16/16 [==============================] - 0s 2ms/step - loss: 1894.2703\n",
            "Epoch 19/20\n",
            "16/16 [==============================] - 0s 2ms/step - loss: 1576.1588\n",
            "Epoch 20/20\n",
            "16/16 [==============================] - 0s 2ms/step - loss: 1316.5964\n"
          ]
        }
      ]
    },
    {
      "cell_type": "code",
      "source": [
        "y_pred = model.predict(x)\n",
        "y_pred[:10].reshape(-1)"
      ],
      "metadata": {
        "colab": {
          "base_uri": "https://localhost:8080/"
        },
        "id": "ZcgqDdm_rW4_",
        "outputId": "9d063ddf-dc42-4524-a343-71387b1afe72"
      },
      "execution_count": null,
      "outputs": [
        {
          "output_type": "execute_result",
          "data": {
            "text/plain": [
              "array([15.540306, 27.70649 , 25.403137, 28.873901, 29.896137, 29.884947,\n",
              "       15.803351, 18.243685, 18.13101 , 15.946961], dtype=float32)"
            ]
          },
          "metadata": {},
          "execution_count": 35
        }
      ]
    },
    {
      "cell_type": "code",
      "metadata": {
        "id": "txzwhxFlWoxF",
        "colab": {
          "base_uri": "https://localhost:8080/"
        },
        "outputId": "9f50d068-0022-48dc-fe19-d48b9a4f63ab"
      },
      "source": [
        "y[:10]"
      ],
      "execution_count": null,
      "outputs": [
        {
          "output_type": "execute_result",
          "data": {
            "text/plain": [
              "array([24. , 21.6, 34.7, 33.4, 36.2, 28.7, 22.9, 27.1, 16.5, 18.9])"
            ]
          },
          "metadata": {},
          "execution_count": 36
        }
      ]
    },
    {
      "cell_type": "code",
      "source": [
        "model.get_weights()"
      ],
      "metadata": {
        "colab": {
          "base_uri": "https://localhost:8080/"
        },
        "id": "JIc3q3-itH8q",
        "outputId": "ba445f10-8692-4ef6-8874-18e064ed86e7"
      },
      "execution_count": null,
      "outputs": [
        {
          "output_type": "execute_result",
          "data": {
            "text/plain": [
              "[array([[ 0.6248556 ],\n",
              "        [-0.08032687],\n",
              "        [-0.05235374],\n",
              "        [-0.23682882],\n",
              "        [ 0.20933856],\n",
              "        [-0.27134818],\n",
              "        [ 0.05548428],\n",
              "        [-0.08869493],\n",
              "        [ 0.4802529 ],\n",
              "        [-0.1641201 ],\n",
              "        [ 0.20055677],\n",
              "        [ 0.15083477],\n",
              "        [ 0.09677284]], dtype=float32), array([0.20238107], dtype=float32)]"
            ]
          },
          "metadata": {},
          "execution_count": 37
        }
      ]
    },
    {
      "cell_type": "markdown",
      "metadata": {
        "id": "2WKWxkFcWuIS"
      },
      "source": [
        "# Logistic Regression 쬐금 더 어려운 데이터"
      ]
    },
    {
      "cell_type": "code",
      "metadata": {
        "id": "tcpM1yMBXPMV"
      },
      "source": [
        "from sklearn.datasets import load_breast_cancer"
      ],
      "execution_count": 67,
      "outputs": []
    },
    {
      "cell_type": "code",
      "metadata": {
        "id": "kywnQJlHXZCg"
      },
      "source": [
        "cancer = load_breast_cancer()"
      ],
      "execution_count": 68,
      "outputs": []
    },
    {
      "cell_type": "code",
      "metadata": {
        "id": "Fbgs4YZrXcCB",
        "colab": {
          "base_uri": "https://localhost:8080/"
        },
        "outputId": "fa21dfdf-49ec-4f26-8dd7-74992ee9693c"
      },
      "source": [
        "x = cancer.data\n",
        "y = cancer.target\n",
        "\n",
        "# 모양 확인\n",
        "x.shape, y.shape"
      ],
      "execution_count": 69,
      "outputs": [
        {
          "output_type": "execute_result",
          "data": {
            "text/plain": [
              "((569, 30), (569,))"
            ]
          },
          "metadata": {},
          "execution_count": 69
        }
      ]
    },
    {
      "cell_type": "code",
      "metadata": {
        "id": "8VXrsX4_Xgrl"
      },
      "source": [
        "# 모델링: Sequential API\n",
        "\n",
        "# 1. 세션 클리어\n",
        "keras.backend.clear_session()\n",
        "\n",
        "# 2. 모델 선언\n",
        "model = keras.models.Sequential()\n",
        "\n",
        "# 3. 레이어 조립\n",
        "model.add(keras.layers.Input(shape=(30,)))\n",
        "model.add(keras.layers.Dense(1, activation='sigmoid'))\n",
        "\n",
        "# 4. 컴파일\n",
        "model.compile(loss='binary_crossentropy', optimizer='adam', metrics=['accuracy'])"
      ],
      "execution_count": 83,
      "outputs": []
    },
    {
      "cell_type": "code",
      "source": [
        "model.summary()\n",
        "tf.keras.utils.plot_model(model, show_shapes=True)"
      ],
      "metadata": {
        "colab": {
          "base_uri": "https://localhost:8080/",
          "height": 392
        },
        "id": "rmy97A5tT5AA",
        "outputId": "67924525-6031-40c5-f990-86ef58eae2b8"
      },
      "execution_count": 84,
      "outputs": [
        {
          "output_type": "stream",
          "name": "stdout",
          "text": [
            "Model: \"sequential\"\n",
            "_________________________________________________________________\n",
            " Layer (type)                Output Shape              Param #   \n",
            "=================================================================\n",
            " dense (Dense)               (None, 1)                 31        \n",
            "                                                                 \n",
            "=================================================================\n",
            "Total params: 31\n",
            "Trainable params: 31\n",
            "Non-trainable params: 0\n",
            "_________________________________________________________________\n"
          ]
        },
        {
          "output_type": "execute_result",
          "data": {
            "image/png": "[encoded data removed]",
            "text/plain": [
              "<IPython.core.display.Image object>"
            ]
          },
          "metadata": {},
          "execution_count": 84
        }
      ]
    },
    {
      "cell_type": "code",
      "metadata": {
        "id": "QWWM_b7UXhQT",
        "colab": {
          "base_uri": "https://localhost:8080/"
        },
        "outputId": "f63284f4-e205-4b88-ec13-de8e32796e82"
      },
      "source": [
        "model.fit(x, y, epochs=10, verbose=1)"
      ],
      "execution_count": 85,
      "outputs": [
        {
          "output_type": "stream",
          "name": "stdout",
          "text": [
            "Epoch 1/10\n",
            "18/18 [==============================] - 0s 2ms/step - loss: 105.7946 - accuracy: 0.6274\n",
            "Epoch 2/10\n",
            "18/18 [==============================] - 0s 1ms/step - loss: 87.3092 - accuracy: 0.6274\n",
            "Epoch 3/10\n",
            "18/18 [==============================] - 0s 2ms/step - loss: 69.6855 - accuracy: 0.6274\n",
            "Epoch 4/10\n",
            "18/18 [==============================] - 0s 2ms/step - loss: 51.3174 - accuracy: 0.6257\n",
            "Epoch 5/10\n",
            "18/18 [==============================] - 0s 2ms/step - loss: 32.8597 - accuracy: 0.6063\n",
            "Epoch 6/10\n",
            "18/18 [==============================] - 0s 2ms/step - loss: 17.4704 - accuracy: 0.3603\n",
            "Epoch 7/10\n",
            "18/18 [==============================] - 0s 2ms/step - loss: 12.3610 - accuracy: 0.1757\n",
            "Epoch 8/10\n",
            "18/18 [==============================] - 0s 2ms/step - loss: 11.6446 - accuracy: 0.1775\n",
            "Epoch 9/10\n",
            "18/18 [==============================] - 0s 2ms/step - loss: 10.8941 - accuracy: 0.1863\n",
            "Epoch 10/10\n",
            "18/18 [==============================] - 0s 2ms/step - loss: 10.1508 - accuracy: 0.1898\n"
          ]
        },
        {
          "output_type": "execute_result",
          "data": {
            "text/plain": [
              "<keras.callbacks.History at 0x7f17f7c36810>"
            ]
          },
          "metadata": {},
          "execution_count": 85
        }
      ]
    },
    {
      "cell_type": "code",
      "source": [
        "y_pred = model.predict(x)"
      ],
      "metadata": {
        "id": "5SpKgWveTdxz"
      },
      "execution_count": 86,
      "outputs": []
    },
    {
      "cell_type": "code",
      "source": [
        "for idx, val in enumerate(y_pred):\n",
        "  if val >= 0.5:\n",
        "    y_pred[idx] = 1\n",
        "  else:\n",
        "    y_pred[idx] = 0\n",
        "y_pred[:5]"
      ],
      "metadata": {
        "colab": {
          "base_uri": "https://localhost:8080/"
        },
        "id": "yTZwSYZuTqVm",
        "outputId": "a946d46f-da86-4fa1-b364-2882d91d5036"
      },
      "execution_count": 87,
      "outputs": [
        {
          "output_type": "execute_result",
          "data": {
            "text/plain": [
              "array([[1.],\n",
              "       [1.],\n",
              "       [1.],\n",
              "       [0.],\n",
              "       [1.]], dtype=float32)"
            ]
          },
          "metadata": {},
          "execution_count": 87
        }
      ]
    },
    {
      "cell_type": "code",
      "source": [
        "y[:5]"
      ],
      "metadata": {
        "colab": {
          "base_uri": "https://localhost:8080/"
        },
        "id": "wC9PtwGbTlOv",
        "outputId": "327bb55a-ab7b-4369-f8db-ca69689ab14d"
      },
      "execution_count": 88,
      "outputs": [
        {
          "output_type": "execute_result",
          "data": {
            "text/plain": [
              "array([0, 0, 0, 0, 0])"
            ]
          },
          "metadata": {},
          "execution_count": 88
        }
      ]
    },
    {
      "cell_type": "code",
      "source": [
        ""
      ],
      "metadata": {
        "id": "rRwKvztwTmbN"
      },
      "execution_count": null,
      "outputs": []
    }
  ]
}