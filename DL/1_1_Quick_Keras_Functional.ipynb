{
  "cells": [
    {
      "cell_type": "markdown",
      "metadata": {
        "id": "HZc219MFFibh"
      },
      "source": [
        "# Keras로 Linear&Logistic Regression 맛보기!\n",
        "\n",
        "### Kaggle Link for exercise :\n",
        "* [Digit Recognizer](https://www.kaggle.com/c/digit-recognizer) : \n",
        "\n",
        "#### 실습목표<br>\n",
        "1. keras의 모델링 아이디어를 이해한다.\n",
        "2. 모든 코드를 이해한다."
      ]
    },
    {
      "cell_type": "markdown",
      "metadata": {
        "id": "dwEdLgZpFibi"
      },
      "source": [
        "## Quick Linear Regression!"
      ]
    },
    {
      "cell_type": "code",
      "execution_count": 5,
      "metadata": {
        "id": "Lbold6iIS8E1"
      },
      "outputs": [],
      "source": [
        "import tensorflow as tf\n",
        "from tensorflow import keras\n",
        "\n",
        "import numpy as np"
      ]
    },
    {
      "cell_type": "code",
      "execution_count": 7,
      "metadata": {
        "id": "QvObzQ1MFibj",
        "colab": {
          "base_uri": "https://localhost:8080/"
        },
        "outputId": "4c97c743-4090-451b-ea17-394937baa383"
      },
      "outputs": [
        {
          "output_type": "stream",
          "name": "stdout",
          "text": [
            "[ 0  1  2  3  4  5  6  7  8  9 10 11 12 13 14 15 16 17 18 19]\n",
            "[-1  1  3  5  7  9 11 13 15 17 19 21 23 25 27 29 31 33 35 37]\n"
          ]
        }
      ],
      "source": [
        "x = np.array(range(0,20))\n",
        "y = x * 2 -1\n",
        "\n",
        "print(x)\n",
        "print(y)"
      ]
    },
    {
      "cell_type": "code",
      "source": [
        "x.shape, y.shape"
      ],
      "metadata": {
        "colab": {
          "base_uri": "https://localhost:8080/"
        },
        "id": "G_PE9YrxbNQM",
        "outputId": "9f6b5e88-24fb-4a52-9e92-fbc0d9197545"
      },
      "execution_count": 8,
      "outputs": [
        {
          "output_type": "execute_result",
          "data": {
            "text/plain": [
              "((20,), (20,))"
            ]
          },
          "metadata": {},
          "execution_count": 8
        }
      ]
    },
    {
      "cell_type": "code",
      "execution_count": 10,
      "metadata": {
        "id": "iUqZACd2IRcn"
      },
      "outputs": [],
      "source": [
        "# 모델링: Funtional API\n",
        "\n",
        "# 1. 세션 클리어\n",
        "keras.backend.clear_session()\n",
        "\n",
        "# 2. 레이어를 사슬처럼 엮기\n",
        "il = keras.layers.Input(shape=(1,))\n",
        "ol = keras.layers.Dense(1, activation='linear')(il)\n",
        "\n",
        "# 3. 레이어 지정\n",
        "model = keras.models.Model(il, ol)\n",
        "\n",
        "# 4. 컴파일\n",
        "model.compile(loss = 'mse', optimizer = 'adam')"
      ]
    },
    {
      "cell_type": "code",
      "execution_count": 11,
      "metadata": {
        "id": "s1UM3mOzLTeb",
        "colab": {
          "base_uri": "https://localhost:8080/"
        },
        "outputId": "f56b3441-ec10-41bb-a914-93ba93e2b8ce"
      },
      "outputs": [
        {
          "output_type": "stream",
          "name": "stdout",
          "text": [
            "Epoch 1/10\n",
            "1/1 [==============================] - 1s 645ms/step - loss: 521.2106\n",
            "Epoch 2/10\n",
            "1/1 [==============================] - 0s 9ms/step - loss: 520.6650\n",
            "Epoch 3/10\n",
            "1/1 [==============================] - 0s 11ms/step - loss: 520.1197\n",
            "Epoch 4/10\n",
            "1/1 [==============================] - 0s 8ms/step - loss: 519.5746\n",
            "Epoch 5/10\n",
            "1/1 [==============================] - 0s 8ms/step - loss: 519.0299\n",
            "Epoch 6/10\n",
            "1/1 [==============================] - 0s 8ms/step - loss: 518.4855\n",
            "Epoch 7/10\n",
            "1/1 [==============================] - 0s 11ms/step - loss: 517.9413\n",
            "Epoch 8/10\n",
            "1/1 [==============================] - 0s 8ms/step - loss: 517.3976\n",
            "Epoch 9/10\n",
            "1/1 [==============================] - 0s 12ms/step - loss: 516.8541\n",
            "Epoch 10/10\n",
            "1/1 [==============================] - 0s 7ms/step - loss: 516.3109\n"
          ]
        },
        {
          "output_type": "execute_result",
          "data": {
            "text/plain": [
              "<keras.callbacks.History at 0x7f534158ee90>"
            ]
          },
          "metadata": {},
          "execution_count": 11
        }
      ],
      "source": [
        "# 학습\n",
        "model.fit(x, y, epochs=10, verbose=1)"
      ]
    },
    {
      "cell_type": "code",
      "execution_count": 12,
      "metadata": {
        "id": "FZH5RHQivTiJ",
        "colab": {
          "base_uri": "https://localhost:8080/"
        },
        "outputId": "3f46dedf-0a39-4d6c-d12f-ecdedf458bee"
      },
      "outputs": [
        {
          "output_type": "stream",
          "name": "stdout",
          "text": [
            "[ 0.00999823 -0.11073983 -0.23147787 -0.35221592 -0.47295398]\n"
          ]
        }
      ],
      "source": [
        "# 예측\n",
        "y_pred = model.predict(x)\n",
        "print(y_pred[:5].reshape(-1,) )"
      ]
    },
    {
      "cell_type": "code",
      "source": [
        "y[:5].reshape(-1)"
      ],
      "metadata": {
        "colab": {
          "base_uri": "https://localhost:8080/"
        },
        "id": "errxqlVDfZ9m",
        "outputId": "62536155-9927-48aa-a9dd-afb7f7d9bb9f"
      },
      "execution_count": 13,
      "outputs": [
        {
          "output_type": "execute_result",
          "data": {
            "text/plain": [
              "array([-1,  1,  3,  5,  7])"
            ]
          },
          "metadata": {},
          "execution_count": 13
        }
      ]
    },
    {
      "cell_type": "markdown",
      "metadata": {
        "id": "zvqPQxmgFibo"
      },
      "source": [
        "## Now, Your turn!"
      ]
    },
    {
      "cell_type": "code",
      "execution_count": 24,
      "metadata": {
        "id": "xlxFydqCva9k"
      },
      "outputs": [],
      "source": [
        "# 라이브러리 불러오기\n",
        "import tensorflow as tf\n",
        "from tensorflow import keras\n",
        "import numpy as np"
      ]
    },
    {
      "cell_type": "code",
      "execution_count": 25,
      "metadata": {
        "id": "wIFzEwY2PWpX",
        "colab": {
          "base_uri": "https://localhost:8080/"
        },
        "outputId": "5e82fd2b-84b9-4bde-8b89-900f9ba72bdb"
      },
      "outputs": [
        {
          "output_type": "stream",
          "name": "stdout",
          "text": [
            "[ 0  1  2  3  4  5  6  7  8  9 10 11 12 13 14 15 16 17 18 19]\n",
            "[ 10   7   4   1  -2  -5  -8 -11 -14 -17 -20 -23 -26 -29 -32 -35 -38 -41\n",
            " -44 -47]\n"
          ]
        }
      ],
      "source": [
        "x = np.array(range(0,20)) \n",
        "y = x * (-3) + 10\n",
        "\n",
        "print(x)\n",
        "print(y)"
      ]
    },
    {
      "cell_type": "code",
      "execution_count": 26,
      "metadata": {
        "id": "pNul2_K5PhGi",
        "colab": {
          "base_uri": "https://localhost:8080/"
        },
        "outputId": "b55492f1-b0dd-4695-c10f-6734c85f55c1"
      },
      "outputs": [
        {
          "output_type": "execute_result",
          "data": {
            "text/plain": [
              "((20,), (20,))"
            ]
          },
          "metadata": {},
          "execution_count": 26
        }
      ],
      "source": [
        "x.shape, y.shape"
      ]
    },
    {
      "cell_type": "code",
      "execution_count": 46,
      "metadata": {
        "id": "zhr1VsJzQcGI"
      },
      "outputs": [],
      "source": [
        "# 모델링: Funtional API\n",
        "\n",
        "# 1. 세션 클리어(기존 모델 제거)\n",
        "keras.backend.clear_session()\n",
        "\n",
        "# 2. 레이어를 사슬처럼 엮기\n",
        "il = keras.layers.Input(shape=(1,))\n",
        "ol = keras.layers.Dense(1)(il)\n",
        "\n",
        "# 3. 모델의 시작과 끝 지정(레이어 지정)\n",
        "model = keras.models.Model(il, ol)\n",
        "\n",
        "# 4. 컴파일\n",
        "model.compile(loss = 'mse', optimizer = 'adam')"
      ]
    },
    {
      "cell_type": "code",
      "source": [
        "model.fit(x, y, epochs=10, verbose=1)"
      ],
      "metadata": {
        "colab": {
          "base_uri": "https://localhost:8080/"
        },
        "id": "aiUbSFtQgSN8",
        "outputId": "a38c77c7-922f-46cb-b0ba-ea188e0da8f8"
      },
      "execution_count": 28,
      "outputs": [
        {
          "output_type": "stream",
          "name": "stdout",
          "text": [
            "Epoch 1/10\n",
            "1/1 [==============================] - 0s 310ms/step - loss: 1257.7361\n",
            "Epoch 2/10\n",
            "1/1 [==============================] - 0s 11ms/step - loss: 1256.9020\n",
            "Epoch 3/10\n",
            "1/1 [==============================] - 0s 9ms/step - loss: 1256.0681\n",
            "Epoch 4/10\n",
            "1/1 [==============================] - 0s 9ms/step - loss: 1255.2345\n",
            "Epoch 5/10\n",
            "1/1 [==============================] - 0s 9ms/step - loss: 1254.4011\n",
            "Epoch 6/10\n",
            "1/1 [==============================] - 0s 8ms/step - loss: 1253.5681\n",
            "Epoch 7/10\n",
            "1/1 [==============================] - 0s 7ms/step - loss: 1252.7355\n",
            "Epoch 8/10\n",
            "1/1 [==============================] - 0s 7ms/step - loss: 1251.9031\n",
            "Epoch 9/10\n",
            "1/1 [==============================] - 0s 7ms/step - loss: 1251.0709\n",
            "Epoch 10/10\n",
            "1/1 [==============================] - 0s 9ms/step - loss: 1250.2394\n"
          ]
        },
        {
          "output_type": "execute_result",
          "data": {
            "text/plain": [
              "<keras.callbacks.History at 0x7f5341460c90>"
            ]
          },
          "metadata": {},
          "execution_count": 28
        }
      ]
    },
    {
      "cell_type": "code",
      "source": [
        "# 예측값 생성\n",
        "y_pred = model.predict(x)\n",
        "y_pred[:5]"
      ],
      "metadata": {
        "colab": {
          "base_uri": "https://localhost:8080/"
        },
        "id": "gsrDSYLxgdIZ",
        "outputId": "3d18e0ab-b565-44fd-f1f1-9201dff55d86"
      },
      "execution_count": 29,
      "outputs": [
        {
          "output_type": "execute_result",
          "data": {
            "text/plain": [
              "array([[-0.00999875],\n",
              "       [ 0.90614593],\n",
              "       [ 1.8222905 ],\n",
              "       [ 2.7384353 ],\n",
              "       [ 3.6545799 ]], dtype=float32)"
            ]
          },
          "metadata": {},
          "execution_count": 29
        }
      ]
    },
    {
      "cell_type": "code",
      "source": [
        "y[:5]"
      ],
      "metadata": {
        "colab": {
          "base_uri": "https://localhost:8080/"
        },
        "id": "9ZZRarx_gezz",
        "outputId": "a091b10c-0a2b-45de-b8d3-6cb3bf7f599b"
      },
      "execution_count": 30,
      "outputs": [
        {
          "output_type": "execute_result",
          "data": {
            "text/plain": [
              "array([10,  7,  4,  1, -2])"
            ]
          },
          "metadata": {},
          "execution_count": 30
        }
      ]
    },
    {
      "cell_type": "code",
      "source": [
        "model.add(keras.layers.Input(shape=(2,)))\n",
        "model.add(keras.layers.Dense(1,))"
      ],
      "metadata": {
        "id": "BTyzD5rT59JA"
      },
      "execution_count": null,
      "outputs": []
    },
    {
      "cell_type": "markdown",
      "metadata": {
        "id": "CMfaYMFCTz2d"
      },
      "source": [
        "## Quick Logistic Regression!"
      ]
    },
    {
      "cell_type": "code",
      "execution_count": 31,
      "metadata": {
        "id": "OmGKbCiATz2e"
      },
      "outputs": [],
      "source": [
        "import tensorflow as tf\n",
        "from tensorflow import keras\n",
        "\n",
        "import numpy as np"
      ]
    },
    {
      "cell_type": "code",
      "execution_count": 32,
      "metadata": {
        "id": "yzweU4sRTz2g",
        "colab": {
          "base_uri": "https://localhost:8080/"
        },
        "outputId": "1bc4a0e9-e82f-4b2f-e691-64076daf51c7"
      },
      "outputs": [
        {
          "output_type": "stream",
          "name": "stdout",
          "text": [
            "[ 0  1  2  3  4  5  6  7  8  9 10 11 12 13 14 15 16 17 18 19]\n",
            "[0 0 0 0 0 0 0 0 0 0 1 1 1 1 1 1 1 1 1 1]\n"
          ]
        }
      ],
      "source": [
        "x = np.array(range(0,20)) \n",
        "y = np.array([0]*10 + [1]*10)\n",
        "\n",
        "print(x)\n",
        "print(y)"
      ]
    },
    {
      "cell_type": "code",
      "source": [
        "x.shape, y.shape"
      ],
      "metadata": {
        "colab": {
          "base_uri": "https://localhost:8080/"
        },
        "id": "cXzo0nnKGhvr",
        "outputId": "f00c044d-86d3-4f93-d4a3-91691fe3f19e"
      },
      "execution_count": 33,
      "outputs": [
        {
          "output_type": "execute_result",
          "data": {
            "text/plain": [
              "((20,), (20,))"
            ]
          },
          "metadata": {},
          "execution_count": 33
        }
      ]
    },
    {
      "cell_type": "code",
      "execution_count": 34,
      "metadata": {
        "id": "wiQzDaBzTz2j"
      },
      "outputs": [],
      "source": [
        "# 모델링: Functional API\n",
        "\n",
        "# 1. 세션 클리어\n",
        "keras.backend.clear_session()\n",
        "\n",
        "# 2. 레이어를 사슬처럼 엮기\n",
        "a = keras.layers.Input(shape=(1,))\n",
        "b = keras.layers.Dense(1, activation='sigmoid')(a)\n",
        "\n",
        "# 3. 레이어 지정\n",
        "model = keras.models.Model(a, b)\n",
        "\n",
        "# 4. 컴파일\n",
        "model.compile(loss = 'binary_crossentropy', optimizer = 'adam', metrics=['accuracy'])"
      ]
    },
    {
      "cell_type": "code",
      "execution_count": 35,
      "metadata": {
        "id": "b_FXYQ7fTz2l",
        "colab": {
          "base_uri": "https://localhost:8080/"
        },
        "outputId": "6e176575-a292-418e-c583-c96829c5f797"
      },
      "outputs": [
        {
          "output_type": "stream",
          "name": "stdout",
          "text": [
            "Epoch 1/10\n",
            "1/1 [==============================] - 0s 461ms/step - loss: 11.4051 - accuracy: 0.5000\n",
            "Epoch 2/10\n",
            "1/1 [==============================] - 0s 9ms/step - loss: 11.3974 - accuracy: 0.4500\n",
            "Epoch 3/10\n",
            "1/1 [==============================] - 0s 10ms/step - loss: 11.3897 - accuracy: 0.4500\n",
            "Epoch 4/10\n",
            "1/1 [==============================] - 0s 9ms/step - loss: 11.3820 - accuracy: 0.4500\n",
            "Epoch 5/10\n",
            "1/1 [==============================] - 0s 16ms/step - loss: 11.3743 - accuracy: 0.4500\n",
            "Epoch 6/10\n",
            "1/1 [==============================] - 0s 12ms/step - loss: 11.3666 - accuracy: 0.4500\n",
            "Epoch 7/10\n",
            "1/1 [==============================] - 0s 10ms/step - loss: 11.3589 - accuracy: 0.4500\n",
            "Epoch 8/10\n",
            "1/1 [==============================] - 0s 7ms/step - loss: 11.3512 - accuracy: 0.4500\n",
            "Epoch 9/10\n",
            "1/1 [==============================] - 0s 11ms/step - loss: 11.3435 - accuracy: 0.4500\n",
            "Epoch 10/10\n",
            "1/1 [==============================] - 0s 9ms/step - loss: 11.3358 - accuracy: 0.4500\n"
          ]
        },
        {
          "output_type": "execute_result",
          "data": {
            "text/plain": [
              "<keras.callbacks.History at 0x7f534034c9d0>"
            ]
          },
          "metadata": {},
          "execution_count": 35
        }
      ],
      "source": [
        "# 학습\n",
        "model.fit(x, y, epochs=10, verbose=1)"
      ]
    },
    {
      "cell_type": "code",
      "source": [
        "# 예측\n",
        "y_pred = model.predict(x)\n",
        "y_pred[:5].reshape(-1)"
      ],
      "metadata": {
        "colab": {
          "base_uri": "https://localhost:8080/"
        },
        "id": "HAPxGhekImdm",
        "outputId": "02d43243-ea00-4ac4-ffbb-96b4a9b6cb66"
      },
      "execution_count": 36,
      "outputs": [
        {
          "output_type": "execute_result",
          "data": {
            "text/plain": [
              "array([0.5024999 , 0.17556992, 0.0429709 , 0.00937799, 0.00199202],\n",
              "      dtype=float32)"
            ]
          },
          "metadata": {},
          "execution_count": 36
        }
      ]
    },
    {
      "cell_type": "code",
      "source": [
        "y[:5]"
      ],
      "metadata": {
        "colab": {
          "base_uri": "https://localhost:8080/"
        },
        "id": "0R7iDcmNI36U",
        "outputId": "4efd055f-c11f-44b6-aa44-256db2c1c5e3"
      },
      "execution_count": 37,
      "outputs": [
        {
          "output_type": "execute_result",
          "data": {
            "text/plain": [
              "array([0, 0, 0, 0, 0])"
            ]
          },
          "metadata": {},
          "execution_count": 37
        }
      ]
    },
    {
      "cell_type": "markdown",
      "metadata": {
        "id": "bqJtsDjtTz2n"
      },
      "source": [
        "## Now, Your turn!"
      ]
    },
    {
      "cell_type": "code",
      "execution_count": 38,
      "metadata": {
        "id": "-ihUgWzFvkPL"
      },
      "outputs": [],
      "source": [
        "# 라이브러리 불러오기\n",
        "import tensorflow as tf\n",
        "from tensorflow import keras\n",
        "import numpy as np"
      ]
    },
    {
      "cell_type": "code",
      "execution_count": 39,
      "metadata": {
        "id": "IGSN3QAPTz2o",
        "colab": {
          "base_uri": "https://localhost:8080/"
        },
        "outputId": "c29420fc-57e5-407a-91b3-cf913dce1025"
      },
      "outputs": [
        {
          "output_type": "stream",
          "name": "stdout",
          "text": [
            "[ 0  1  2  3  4  5  6  7  8  9 10 11 12 13 14 15 16 17 18 19 20 21 22 23\n",
            " 24 25 26 27 28 29 30 31 32 33 34 35 36 37 38 39]\n",
            "[0 0 0 0 0 0 0 0 0 0 0 0 0 0 0 0 0 0 0 0 1 1 1 1 1 1 1 1 1 1 1 1 1 1 1 1 1\n",
            " 1 1 1]\n"
          ]
        }
      ],
      "source": [
        "x = np.array(range(0,40)) \n",
        "y = np.array([0]*20 + [1]*20)\n",
        "print(x)\n",
        "print(y)"
      ]
    },
    {
      "cell_type": "code",
      "execution_count": 40,
      "metadata": {
        "id": "Ma61XgWYUMPi"
      },
      "outputs": [],
      "source": [
        "# 1. 세션 클리어\n",
        "keras.backend.clear_session()\n",
        "\n",
        "# 2. 레이어 설정\n",
        "a = keras.layers.Input(shape=(1,))\n",
        "b = keras.layers.Dense(1, activation='sigmoid')(a)\n",
        "\n",
        "# 3. 레이어 지정\n",
        "model = keras.models.Model(a, b)\n",
        "\n",
        "# 4. 컴파일\n",
        "model.compile(loss='binary_crossentropy', optimizer='adam', metrics=['accuracy'])"
      ]
    },
    {
      "cell_type": "code",
      "execution_count": 41,
      "metadata": {
        "id": "nniSdDU1UM29",
        "colab": {
          "base_uri": "https://localhost:8080/"
        },
        "outputId": "81bb3054-7505-4108-db00-88fd401b4ef5"
      },
      "outputs": [
        {
          "output_type": "stream",
          "name": "stdout",
          "text": [
            "Epoch 1/10\n",
            "2/2 [==============================] - 0s 7ms/step - loss: 6.1090 - accuracy: 0.5250\n",
            "Epoch 2/10\n",
            "2/2 [==============================] - 0s 8ms/step - loss: 6.0988 - accuracy: 0.5250\n",
            "Epoch 3/10\n",
            "2/2 [==============================] - 0s 5ms/step - loss: 6.0884 - accuracy: 0.5250\n",
            "Epoch 4/10\n",
            "2/2 [==============================] - 0s 9ms/step - loss: 6.0785 - accuracy: 0.5250\n",
            "Epoch 5/10\n",
            "2/2 [==============================] - 0s 5ms/step - loss: 6.0686 - accuracy: 0.5250\n",
            "Epoch 6/10\n",
            "2/2 [==============================] - 0s 6ms/step - loss: 6.0590 - accuracy: 0.5250\n",
            "Epoch 7/10\n",
            "2/2 [==============================] - 0s 6ms/step - loss: 6.0484 - accuracy: 0.5250\n",
            "Epoch 8/10\n",
            "2/2 [==============================] - 0s 7ms/step - loss: 6.0395 - accuracy: 0.5250\n",
            "Epoch 9/10\n",
            "2/2 [==============================] - 0s 6ms/step - loss: 6.0296 - accuracy: 0.5250\n",
            "Epoch 10/10\n",
            "2/2 [==============================] - 0s 12ms/step - loss: 6.0195 - accuracy: 0.5250\n"
          ]
        },
        {
          "output_type": "execute_result",
          "data": {
            "text/plain": [
              "<keras.callbacks.History at 0x7f534129a650>"
            ]
          },
          "metadata": {},
          "execution_count": 41
        }
      ],
      "source": [
        "model.fit(x, y, epochs=10, verbose=1)"
      ]
    },
    {
      "cell_type": "code",
      "execution_count": 42,
      "metadata": {
        "id": "BNKQQzy5UNFm"
      },
      "outputs": [],
      "source": [
        "y_pred = model.predict(x)"
      ]
    },
    {
      "cell_type": "code",
      "source": [
        "for idx, val in enumerate(y_pred):\n",
        "  if val >= 0.5:\n",
        "    y_pred[idx] = 1\n",
        "  else:\n",
        "    y_pred[idx] = 0"
      ],
      "metadata": {
        "id": "28I0iPf6RQre"
      },
      "execution_count": 43,
      "outputs": []
    },
    {
      "cell_type": "code",
      "source": [
        "y_pred[:5]"
      ],
      "metadata": {
        "colab": {
          "base_uri": "https://localhost:8080/"
        },
        "id": "oSVm6XX_Rc4V",
        "outputId": "18954999-488e-416a-c643-22e119c62dc2"
      },
      "execution_count": 44,
      "outputs": [
        {
          "output_type": "execute_result",
          "data": {
            "text/plain": [
              "array([[0.],\n",
              "       [1.],\n",
              "       [1.],\n",
              "       [1.],\n",
              "       [1.]], dtype=float32)"
            ]
          },
          "metadata": {},
          "execution_count": 44
        }
      ]
    },
    {
      "cell_type": "code",
      "source": [
        "y[:5]"
      ],
      "metadata": {
        "colab": {
          "base_uri": "https://localhost:8080/"
        },
        "id": "_WGC-FtmNwyX",
        "outputId": "931f6131-f105-4853-c863-19b7a7f1cf50"
      },
      "execution_count": 45,
      "outputs": [
        {
          "output_type": "execute_result",
          "data": {
            "text/plain": [
              "array([0, 0, 0, 0, 0])"
            ]
          },
          "metadata": {},
          "execution_count": 45
        }
      ]
    },
    {
      "cell_type": "code",
      "source": [
        ""
      ],
      "metadata": {
        "id": "vbJ_emYCztu5"
      },
      "execution_count": null,
      "outputs": []
    }
  ],
  "metadata": {
    "colab": {
      "collapsed_sections": [],
      "name": "1_1_Quick_Keras_Functional.ipynb",
      "provenance": []
    },
    "kernelspec": {
      "display_name": "Python 3 (ipykernel)",
      "language": "python",
      "name": "python3"
    },
    "language_info": {
      "codemirror_mode": {
        "name": "ipython",
        "version": 3
      },
      "file_extension": ".py",
      "mimetype": "text/x-python",
      "name": "python",
      "nbconvert_exporter": "python",
      "pygments_lexer": "ipython3",
      "version": "3.9.7"
    }
  },
  "nbformat": 4,
  "nbformat_minor": 0
}