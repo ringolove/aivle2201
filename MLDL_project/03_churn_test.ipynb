{
  "cells": [
    {
      "cell_type": "markdown",
      "metadata": {
        "id": "mTt7qGUTCcFs"
      },
      "source": [
        "# 과제#3. [평가] 이동통신 고객 이탈 예측"
      ]
    },
    {
      "cell_type": "markdown",
      "metadata": {
        "id": "cdQaCT5I0IL_"
      },
      "source": [
        "* 여러분은 OO 통신회사 데이터분석가 입니다.\n",
        "* 00 통신회사의 올해 고객 목표는, **현재 고객수를 유지**하는 것입니다.\n",
        "* 더욱 치열해진 경쟁 상황에서 고객수를 유지하는 것은 굉장히 도전적인 목표 입니다.\n",
        "* 이를 위해 회사는 약정기간이 끝난 고객이 번호이동(이탈)해 가는 문제를 해결하고자 합니다.\n",
        "* 그래서 에이블러 여러분에게, 어떤 고객이 번호이동(이탈)해 가는지 예측 모델링을 의뢰하였습니다."
      ]
    },
    {
      "cell_type": "markdown",
      "metadata": {
        "id": "ExPzmVxJGvxq"
      },
      "source": [
        "![](https://d18lkz4dllo6v2.cloudfront.net/cumulus_uploads/entry/23964/mobile%20phones.png)"
      ]
    },
    {
      "cell_type": "markdown",
      "metadata": {
        "id": "AHmt88Q5EVsj"
      },
      "source": [
        "## 0.환경설정"
      ]
    },
    {
      "cell_type": "markdown",
      "metadata": {
        "id": "KnzVh2LmkLDU"
      },
      "source": [
        "### 1) 라이브러리 로딩"
      ]
    },
    {
      "cell_type": "code",
      "execution_count": 134,
      "metadata": {
        "id": "3tWsgb_wG3EU"
      },
      "outputs": [],
      "source": [
        "import pandas as pd\n",
        "import numpy as np\n",
        "import matplotlib.pyplot as plt\n",
        "import seaborn as sns\n",
        "\n",
        "from sklearn.model_selection import train_test_split"
      ]
    },
    {
      "cell_type": "markdown",
      "metadata": {
        "id": "kcMdP5WtG3EV"
      },
      "source": [
        "### 2) 데이터 로딩"
      ]
    },
    {
      "cell_type": "code",
      "execution_count": 135,
      "metadata": {
        "id": "AC_65VsoG3EV",
        "colab": {
          "base_uri": "https://localhost:8080/",
          "height": 270
        },
        "outputId": "f3dee821-c67e-46fa-ceef-d7e6575d4950"
      },
      "outputs": [
        {
          "output_type": "execute_result",
          "data": {
            "text/plain": [
              "      id  COLLEGE  INCOME  OVERAGE  LEFTOVER     HOUSE  HANDSET_PRICE  \\\n",
              "0    544        1   47711      183        17  730589.0            192   \n",
              "1    689        0   74132      191        43  535092.0            349   \n",
              "2   3134        1  150419        0        14  204004.0            682   \n",
              "3  12523        0  159567        0        58  281969.0            634   \n",
              "4   2374        1   23392        0         0  216707.0            233   \n",
              "\n",
              "   OVER_15MINS_CALLS_PER_MONTH  AVERAGE_CALL_DURATION REPORTED_SATISFACTION  \\\n",
              "0                           19                      5                 unsat   \n",
              "1                           15                      2                 unsat   \n",
              "2                            0                      6                 unsat   \n",
              "3                            1                      1            very_unsat   \n",
              "4                            0                     15                 unsat   \n",
              "\n",
              "  REPORTED_USAGE_LEVEL CONSIDERING_CHANGE_OF_PLAN  CHURN  \n",
              "0               little                considering      0  \n",
              "1          very_little                         no      1  \n",
              "2            very_high                considering      0  \n",
              "3            very_high              never_thought      0  \n",
              "4          very_little                         no      1  "
            ],
            "text/html": [
              "\n",
              "  <div id=\"df-e8503a46-e85f-440b-81be-96022394b168\">\n",
              "    <div class=\"colab-df-container\">\n",
              "      <div>\n",
              "<style scoped>\n",
              "    .dataframe tbody tr th:only-of-type {\n",
              "        vertical-align: middle;\n",
              "    }\n",
              "\n",
              "    .dataframe tbody tr th {\n",
              "        vertical-align: top;\n",
              "    }\n",
              "\n",
              "    .dataframe thead th {\n",
              "        text-align: right;\n",
              "    }\n",
              "</style>\n",
              "<table border=\"1\" class=\"dataframe\">\n",
              "  <thead>\n",
              "    <tr style=\"text-align: right;\">\n",
              "      <th></th>\n",
              "      <th>id</th>\n",
              "      <th>COLLEGE</th>\n",
              "      <th>INCOME</th>\n",
              "      <th>OVERAGE</th>\n",
              "      <th>LEFTOVER</th>\n",
              "      <th>HOUSE</th>\n",
              "      <th>HANDSET_PRICE</th>\n",
              "      <th>OVER_15MINS_CALLS_PER_MONTH</th>\n",
              "      <th>AVERAGE_CALL_DURATION</th>\n",
              "      <th>REPORTED_SATISFACTION</th>\n",
              "      <th>REPORTED_USAGE_LEVEL</th>\n",
              "      <th>CONSIDERING_CHANGE_OF_PLAN</th>\n",
              "      <th>CHURN</th>\n",
              "    </tr>\n",
              "  </thead>\n",
              "  <tbody>\n",
              "    <tr>\n",
              "      <th>0</th>\n",
              "      <td>544</td>\n",
              "      <td>1</td>\n",
              "      <td>47711</td>\n",
              "      <td>183</td>\n",
              "      <td>17</td>\n",
              "      <td>730589.0</td>\n",
              "      <td>192</td>\n",
              "      <td>19</td>\n",
              "      <td>5</td>\n",
              "      <td>unsat</td>\n",
              "      <td>little</td>\n",
              "      <td>considering</td>\n",
              "      <td>0</td>\n",
              "    </tr>\n",
              "    <tr>\n",
              "      <th>1</th>\n",
              "      <td>689</td>\n",
              "      <td>0</td>\n",
              "      <td>74132</td>\n",
              "      <td>191</td>\n",
              "      <td>43</td>\n",
              "      <td>535092.0</td>\n",
              "      <td>349</td>\n",
              "      <td>15</td>\n",
              "      <td>2</td>\n",
              "      <td>unsat</td>\n",
              "      <td>very_little</td>\n",
              "      <td>no</td>\n",
              "      <td>1</td>\n",
              "    </tr>\n",
              "    <tr>\n",
              "      <th>2</th>\n",
              "      <td>3134</td>\n",
              "      <td>1</td>\n",
              "      <td>150419</td>\n",
              "      <td>0</td>\n",
              "      <td>14</td>\n",
              "      <td>204004.0</td>\n",
              "      <td>682</td>\n",
              "      <td>0</td>\n",
              "      <td>6</td>\n",
              "      <td>unsat</td>\n",
              "      <td>very_high</td>\n",
              "      <td>considering</td>\n",
              "      <td>0</td>\n",
              "    </tr>\n",
              "    <tr>\n",
              "      <th>3</th>\n",
              "      <td>12523</td>\n",
              "      <td>0</td>\n",
              "      <td>159567</td>\n",
              "      <td>0</td>\n",
              "      <td>58</td>\n",
              "      <td>281969.0</td>\n",
              "      <td>634</td>\n",
              "      <td>1</td>\n",
              "      <td>1</td>\n",
              "      <td>very_unsat</td>\n",
              "      <td>very_high</td>\n",
              "      <td>never_thought</td>\n",
              "      <td>0</td>\n",
              "    </tr>\n",
              "    <tr>\n",
              "      <th>4</th>\n",
              "      <td>2374</td>\n",
              "      <td>1</td>\n",
              "      <td>23392</td>\n",
              "      <td>0</td>\n",
              "      <td>0</td>\n",
              "      <td>216707.0</td>\n",
              "      <td>233</td>\n",
              "      <td>0</td>\n",
              "      <td>15</td>\n",
              "      <td>unsat</td>\n",
              "      <td>very_little</td>\n",
              "      <td>no</td>\n",
              "      <td>1</td>\n",
              "    </tr>\n",
              "  </tbody>\n",
              "</table>\n",
              "</div>\n",
              "      <button class=\"colab-df-convert\" onclick=\"convertToInteractive('df-e8503a46-e85f-440b-81be-96022394b168')\"\n",
              "              title=\"Convert this dataframe to an interactive table.\"\n",
              "              style=\"display:none;\">\n",
              "        \n",
              "  <svg xmlns=\"http://www.w3.org/2000/svg\" height=\"24px\"viewBox=\"0 0 24 24\"\n",
              "       width=\"24px\">\n",
              "    <path d=\"M0 0h24v24H0V0z\" fill=\"none\"/>\n",
              "    <path d=\"M18.56 5.44l.94 2.06.94-2.06 2.06-.94-2.06-.94-.94-2.06-.94 2.06-2.06.94zm-11 1L8.5 8.5l.94-2.06 2.06-.94-2.06-.94L8.5 2.5l-.94 2.06-2.06.94zm10 10l.94 2.06.94-2.06 2.06-.94-2.06-.94-.94-2.06-.94 2.06-2.06.94z\"/><path d=\"M17.41 7.96l-1.37-1.37c-.4-.4-.92-.59-1.43-.59-.52 0-1.04.2-1.43.59L10.3 9.45l-7.72 7.72c-.78.78-.78 2.05 0 2.83L4 21.41c.39.39.9.59 1.41.59.51 0 1.02-.2 1.41-.59l7.78-7.78 2.81-2.81c.8-.78.8-2.07 0-2.86zM5.41 20L4 18.59l7.72-7.72 1.47 1.35L5.41 20z\"/>\n",
              "  </svg>\n",
              "      </button>\n",
              "      \n",
              "  <style>\n",
              "    .colab-df-container {\n",
              "      display:flex;\n",
              "      flex-wrap:wrap;\n",
              "      gap: 12px;\n",
              "    }\n",
              "\n",
              "    .colab-df-convert {\n",
              "      background-color: #E8F0FE;\n",
              "      border: none;\n",
              "      border-radius: 50%;\n",
              "      cursor: pointer;\n",
              "      display: none;\n",
              "      fill: #1967D2;\n",
              "      height: 32px;\n",
              "      padding: 0 0 0 0;\n",
              "      width: 32px;\n",
              "    }\n",
              "\n",
              "    .colab-df-convert:hover {\n",
              "      background-color: #E2EBFA;\n",
              "      box-shadow: 0px 1px 2px rgba(60, 64, 67, 0.3), 0px 1px 3px 1px rgba(60, 64, 67, 0.15);\n",
              "      fill: #174EA6;\n",
              "    }\n",
              "\n",
              "    [theme=dark] .colab-df-convert {\n",
              "      background-color: #3B4455;\n",
              "      fill: #D2E3FC;\n",
              "    }\n",
              "\n",
              "    [theme=dark] .colab-df-convert:hover {\n",
              "      background-color: #434B5C;\n",
              "      box-shadow: 0px 1px 3px 1px rgba(0, 0, 0, 0.15);\n",
              "      filter: drop-shadow(0px 1px 2px rgba(0, 0, 0, 0.3));\n",
              "      fill: #FFFFFF;\n",
              "    }\n",
              "  </style>\n",
              "\n",
              "      <script>\n",
              "        const buttonEl =\n",
              "          document.querySelector('#df-e8503a46-e85f-440b-81be-96022394b168 button.colab-df-convert');\n",
              "        buttonEl.style.display =\n",
              "          google.colab.kernel.accessAllowed ? 'block' : 'none';\n",
              "\n",
              "        async function convertToInteractive(key) {\n",
              "          const element = document.querySelector('#df-e8503a46-e85f-440b-81be-96022394b168');\n",
              "          const dataTable =\n",
              "            await google.colab.kernel.invokeFunction('convertToInteractive',\n",
              "                                                     [key], {});\n",
              "          if (!dataTable) return;\n",
              "\n",
              "          const docLinkHtml = 'Like what you see? Visit the ' +\n",
              "            '<a target=\"_blank\" href=https://colab.research.google.com/notebooks/data_table.ipynb>data table notebook</a>'\n",
              "            + ' to learn more about interactive tables.';\n",
              "          element.innerHTML = '';\n",
              "          dataTable['output_type'] = 'display_data';\n",
              "          await google.colab.output.renderOutput(dataTable, element);\n",
              "          const docLink = document.createElement('div');\n",
              "          docLink.innerHTML = docLinkHtml;\n",
              "          element.appendChild(docLink);\n",
              "        }\n",
              "      </script>\n",
              "    </div>\n",
              "  </div>\n",
              "  "
            ]
          },
          "metadata": {},
          "execution_count": 135
        }
      ],
      "source": [
        "# mobile data\n",
        "data_path = \"https://raw.githubusercontent.com/DA4BAM/dataset/master/mobile_NA2.csv\"\n",
        "data = pd.read_csv(data_path)\n",
        "data.head()"
      ]
    },
    {
      "cell_type": "markdown",
      "metadata": {
        "id": "2VGIfdrXAvw_"
      },
      "source": [
        "|변수 명|내용|구분|\n",
        "|\t----\t|\t----\t|\t----\t|\n",
        "|\tCOLLEGE\t|\t대학졸업 여부(1,0) - 범주\t|\t\t|\n",
        "|\tINCOME\t|\t연 수입액(달러)\t|\t\t|\n",
        "|\tOVERAGE\t|\t월 초과사용 시간(분)\t|\t\t|\n",
        "|\tLEFTOVER\t|\t월 사용 잔여시간비율(%)\t|\t\t|\n",
        "|\tHOUSE\t|\t집 가격(달러)\t|\t\t|\n",
        "|\tHANDSET_PRICE\t|\t핸드폰 가격(달러)\t|\t\t|\n",
        "|\tOVER_15MINS_CALLS_PER_MONTH\t|\t 평균 장기통화(15분 이상) 횟수\t|\t\t|\n",
        "|\tAVERAGE_CALL_DURATION\t|\t평균 통화시간(분)\t|\t\t|\n",
        "|\tREPORTED_SATISFACTION\t|\t만족도 설문('very_unsat', 'unsat', 'avg', 'sat', 'very_sat' ) - 범주\t|\t\t|\n",
        "|\tREPORTED_USAGE_LEVEL\t|\t사용 수준 설문('very_little', 'little', 'avg', 'high', 'very_high') - 범주\t|\t\t|\n",
        "|\tCONSIDERING_CHANGE_OF_PLAN\t|\t변경 계획 설문('never_thought', 'no', 'perhaps', 'considering',   'actively_looking_into_it') - 범주\t|\t\t|\n",
        "|\t**CHURN**\t|\t이탈여부(1 : 이탈, 0 : 잔류)\t|\t**Target**\t|\n"
      ]
    },
    {
      "cell_type": "markdown",
      "metadata": {
        "id": "bKimk8qVm8oC"
      },
      "source": [
        "----"
      ]
    },
    {
      "cell_type": "code",
      "source": [
        "data.info()"
      ],
      "metadata": {
        "colab": {
          "base_uri": "https://localhost:8080/"
        },
        "id": "GHPXkqZhdZHU",
        "outputId": "be4050bd-2c56-43ba-aba2-630bedd33910"
      },
      "execution_count": 136,
      "outputs": [
        {
          "output_type": "stream",
          "name": "stdout",
          "text": [
            "<class 'pandas.core.frame.DataFrame'>\n",
            "RangeIndex: 18000 entries, 0 to 17999\n",
            "Data columns (total 13 columns):\n",
            " #   Column                       Non-Null Count  Dtype  \n",
            "---  ------                       --------------  -----  \n",
            " 0   id                           18000 non-null  int64  \n",
            " 1   COLLEGE                      18000 non-null  int64  \n",
            " 2   INCOME                       18000 non-null  int64  \n",
            " 3   OVERAGE                      18000 non-null  int64  \n",
            " 4   LEFTOVER                     18000 non-null  int64  \n",
            " 5   HOUSE                        17785 non-null  float64\n",
            " 6   HANDSET_PRICE                18000 non-null  int64  \n",
            " 7   OVER_15MINS_CALLS_PER_MONTH  18000 non-null  int64  \n",
            " 8   AVERAGE_CALL_DURATION        18000 non-null  int64  \n",
            " 9   REPORTED_SATISFACTION        17962 non-null  object \n",
            " 10  REPORTED_USAGE_LEVEL         18000 non-null  object \n",
            " 11  CONSIDERING_CHANGE_OF_PLAN   18000 non-null  object \n",
            " 12  CHURN                        18000 non-null  int64  \n",
            "dtypes: float64(1), int64(9), object(3)\n",
            "memory usage: 1.8+ MB\n"
          ]
        }
      ]
    },
    {
      "cell_type": "markdown",
      "metadata": {
        "id": "0bouXLxGkSSd"
      },
      "source": [
        "## 1.데이터 탐색"
      ]
    },
    {
      "cell_type": "markdown",
      "metadata": {
        "id": "PRXJWyibZTJN"
      },
      "source": [
        "## 2.데이터 전처리 "
      ]
    },
    {
      "cell_type": "code",
      "execution_count": 137,
      "metadata": {
        "id": "vtn0hI98urCt"
      },
      "outputs": [],
      "source": [
        "target = 'CHURN'"
      ]
    },
    {
      "cell_type": "markdown",
      "metadata": {
        "id": "OftPNXa1EPeV"
      },
      "source": [
        "### 2.1 데이터 정리"
      ]
    },
    {
      "cell_type": "markdown",
      "metadata": {
        "id": "mk_WSjzdnLLE"
      },
      "source": [
        "* feature와 , target으로 분할"
      ]
    },
    {
      "cell_type": "code",
      "execution_count": 138,
      "metadata": {
        "id": "hKx1tqpEEPeV"
      },
      "outputs": [],
      "source": [
        "x = data.drop(target, axis = 1)\n",
        "y = data.loc[:, target]"
      ]
    },
    {
      "cell_type": "markdown",
      "metadata": {
        "id": "a_EtSMDQnMQ5"
      },
      "source": [
        "* 불필요한 feature 제거\n",
        "    * 제거해야 할 feature를 선정하고 제거하시오. 제거 이유를 주석으로 기술합니다."
      ]
    },
    {
      "cell_type": "markdown",
      "source": [
        "- 데이터 분석과 상관없는 고객 id를 제거하고 시작"
      ],
      "metadata": {
        "id": "MzZgEvS8oMkF"
      }
    },
    {
      "cell_type": "code",
      "source": [
        "x = x.drop(['id'], axis=1)"
      ],
      "metadata": {
        "id": "cGQdSqHCoLAN"
      },
      "execution_count": 139,
      "outputs": []
    },
    {
      "cell_type": "code",
      "execution_count": 140,
      "metadata": {
        "id": "86yIoNg7nNuu",
        "colab": {
          "base_uri": "https://localhost:8080/",
          "height": 607
        },
        "outputId": "1a51027d-6475-48c0-a93a-c2b53211b95c"
      },
      "outputs": [
        {
          "output_type": "display_data",
          "data": {
            "text/plain": [
              "<Figure size 864x576 with 2 Axes>"
            ],
            "image/png": "[encoded data removed]"
          },
          "metadata": {
            "needs_background": "light"
          }
        }
      ],
      "source": [
        "plt.figure(figsize=(12, 8))\n",
        "sns.heatmap(data.corr(), annot=True, cmap='rocket', fmt='.2f')\n",
        "plt.xticks(rotation=45)\n",
        "plt.show()"
      ]
    },
    {
      "cell_type": "code",
      "source": [
        "plt.figure(figsize=(8,5))\n",
        "sns.countplot(x='COLLEGE',hue=target, data=data, palette='rocket')\n",
        "plt.title(\"COLLEGE\")\n",
        "plt.show()"
      ],
      "metadata": {
        "colab": {
          "base_uri": "https://localhost:8080/",
          "height": 350
        },
        "id": "o9HbUdagbCN6",
        "outputId": "c33c5a0d-ffbe-4b6e-d2b2-0c4ecafe9455"
      },
      "execution_count": 141,
      "outputs": [
        {
          "output_type": "display_data",
          "data": {
            "text/plain": [
              "<Figure size 576x360 with 1 Axes>"
            ],
            "image/png": "[encoded data removed]"
          },
          "metadata": {
            "needs_background": "light"
          }
        }
      ]
    },
    {
      "cell_type": "code",
      "source": [
        "sns.barplot(x=\"CHURN\", y=\"INCOME\", data=data)\n",
        "plt.title(\"INCOME\")\n",
        "plt.show()"
      ],
      "metadata": {
        "colab": {
          "base_uri": "https://localhost:8080/",
          "height": 295
        },
        "id": "obFN0l63c-YQ",
        "outputId": "6bdb879b-0998-4ead-e553-ae3265bc5d06"
      },
      "execution_count": 142,
      "outputs": [
        {
          "output_type": "display_data",
          "data": {
            "text/plain": [
              "<Figure size 432x288 with 1 Axes>"
            ],
            "image/png": "[encoded data removed]"
          },
          "metadata": {
            "needs_background": "light"
          }
        }
      ]
    },
    {
      "cell_type": "code",
      "source": [
        "plt.figure(figsize=(15,15))\n",
        "plt.subplot(6,3,1)\n",
        "sns.barplot(x=\"CHURN\", y=\"OVERAGE\", data=data)\n",
        "plt.title(\"OVERAGE\")\n",
        "plt.subplot(6,3,2)\n",
        "sns.barplot(x=\"CHURN\", y=\"LEFTOVER\", data=data)\n",
        "plt.title(\"LEFTOVER\")\n",
        "plt.subplot(6,3,3)\n",
        "sns.barplot(x=\"CHURN\", y=\"HOUSE\", data=data)\n",
        "plt.title(\"HOUSE\")\n",
        "plt.subplot(6,3,4)\n",
        "sns.barplot(x=\"CHURN\", y=\"HANDSET_PRICE\", data=data)\n",
        "plt.title(\"HANDSET_PRICE\")\n",
        "plt.subplot(6,3,5)\n",
        "sns.barplot(x=\"CHURN\", y=\"OVER_15MINS_CALLS_PER_MONTH\", data=data)\n",
        "plt.title(\"OVER_15MINS_CALLS_PER_MONTH\")\n",
        "plt.subplot(6,3,6)\n",
        "sns.barplot(x=\"CHURN\", y=\"AVERAGE_CALL_DURATION\", data=data)\n",
        "plt.title(\"AVERAGE_CALL_DURATION\")\n",
        "plt.tight_layout()\n",
        "plt.show()"
      ],
      "metadata": {
        "colab": {
          "base_uri": "https://localhost:8080/",
          "height": 379
        },
        "id": "yNBFaOdjdN7W",
        "outputId": "4290f502-8860-49be-f05f-8f354995c3e1"
      },
      "execution_count": 143,
      "outputs": [
        {
          "output_type": "display_data",
          "data": {
            "text/plain": [
              "<Figure size 1080x1080 with 6 Axes>"
            ],
            "image/png": "[encoded data removed]"
          },
          "metadata": {
            "needs_background": "light"
          }
        }
      ]
    },
    {
      "cell_type": "code",
      "source": [
        "plt.figure(figsize=(8,5))\n",
        "sns.countplot(x='REPORTED_SATISFACTION',hue=target, data=data, palette='rocket')\n",
        "plt.title(\"REPORTED_SATISFACTION\")\n",
        "plt.show()"
      ],
      "metadata": {
        "colab": {
          "base_uri": "https://localhost:8080/",
          "height": 351
        },
        "id": "Tgp_IWskeMAd",
        "outputId": "4f863c3a-e345-42ce-921b-560fdb9053f0"
      },
      "execution_count": 144,
      "outputs": [
        {
          "output_type": "display_data",
          "data": {
            "text/plain": [
              "<Figure size 576x360 with 1 Axes>"
            ],
            "image/png": "[encoded data removed]"
          },
          "metadata": {
            "needs_background": "light"
          }
        }
      ]
    },
    {
      "cell_type": "code",
      "source": [
        "plt.figure(figsize=(8,5))\n",
        "sns.countplot(x='REPORTED_USAGE_LEVEL',hue=target, data=data, palette='rocket')\n",
        "plt.title(\"REPORTED_USAGE_LEVEL\")\n",
        "plt.show()"
      ],
      "metadata": {
        "colab": {
          "base_uri": "https://localhost:8080/",
          "height": 352
        },
        "id": "o9q4EfMGgB3g",
        "outputId": "93936419-397e-40b5-baaa-53f532af51bf"
      },
      "execution_count": 145,
      "outputs": [
        {
          "output_type": "display_data",
          "data": {
            "text/plain": [
              "<Figure size 576x360 with 1 Axes>"
            ],
            "image/png": "[encoded data removed]"
          },
          "metadata": {
            "needs_background": "light"
          }
        }
      ]
    },
    {
      "cell_type": "code",
      "source": [
        "plt.figure(figsize=(8,5))\n",
        "sns.countplot(x='CONSIDERING_CHANGE_OF_PLAN',hue=target, data=data, palette='rocket')\n",
        "plt.title(\"CONSIDERING_CHANGE_OF_PLAN\")\n",
        "plt.xticks(rotation=45)\n",
        "plt.show()"
      ],
      "metadata": {
        "colab": {
          "base_uri": "https://localhost:8080/",
          "height": 431
        },
        "id": "OrMCzgWbgLwD",
        "outputId": "625ac98b-3528-4ac6-ff69-41870716693f"
      },
      "execution_count": 146,
      "outputs": [
        {
          "output_type": "display_data",
          "data": {
            "text/plain": [
              "<Figure size 576x360 with 1 Axes>"
            ],
            "image/png": "[encoded data removed]"
          },
          "metadata": {
            "needs_background": "light"
          }
        }
      ]
    },
    {
      "cell_type": "code",
      "source": [
        "x = x.drop(['COLLEGE', 'AVERAGE_CALL_DURATION'], axis=1)"
      ],
      "metadata": {
        "id": "dRUdpvPIjdnU"
      },
      "execution_count": 147,
      "outputs": []
    },
    {
      "cell_type": "markdown",
      "source": [
        "target과의 상관관계가 절댓값 0.05 보다 적고 시각화 했을때도 크게 연관성이 확인이 되지 않는\n",
        "\n",
        "COLLEGE와 AVERAGE_CALL_DURATION을 삭제함"
      ],
      "metadata": {
        "id": "zxqQZrJbkA0C"
      }
    },
    {
      "cell_type": "markdown",
      "metadata": {
        "id": "umpv1ug6ZTJO"
      },
      "source": [
        "### 2.2 NaN에 대한 조치\n",
        "* 데이터에 포함된 NaN에 대해서 조치 방법을 결정하고 적용합니다.\n",
        "* **조치방법을 결정한 이유**를 주석으로 기술합니다."
      ]
    },
    {
      "cell_type": "code",
      "execution_count": 148,
      "metadata": {
        "id": "sYVnI6HJOloF",
        "colab": {
          "base_uri": "https://localhost:8080/"
        },
        "outputId": "cc5cdf0e-9110-4171-f98c-6ac4902815e5"
      },
      "outputs": [
        {
          "output_type": "execute_result",
          "data": {
            "text/plain": [
              "INCOME                           0\n",
              "OVERAGE                          0\n",
              "LEFTOVER                         0\n",
              "HOUSE                          215\n",
              "HANDSET_PRICE                    0\n",
              "OVER_15MINS_CALLS_PER_MONTH      0\n",
              "REPORTED_SATISFACTION           38\n",
              "REPORTED_USAGE_LEVEL             0\n",
              "CONSIDERING_CHANGE_OF_PLAN       0\n",
              "dtype: int64"
            ]
          },
          "metadata": {},
          "execution_count": 148
        }
      ],
      "source": [
        "x.isna().sum()"
      ]
    },
    {
      "cell_type": "code",
      "execution_count": 149,
      "metadata": {
        "id": "WZWY8B5YOlkS",
        "colab": {
          "base_uri": "https://localhost:8080/",
          "height": 279
        },
        "outputId": "9ef3b8c0-c950-4712-f8e4-1eedb2d5fde9"
      },
      "outputs": [
        {
          "output_type": "display_data",
          "data": {
            "text/plain": [
              "<Figure size 432x288 with 1 Axes>"
            ],
            "image/png": "[encoded data removed]"
          },
          "metadata": {
            "needs_background": "light"
          }
        }
      ],
      "source": [
        "sns.histplot(data['HOUSE'])\n",
        "plt.show()"
      ]
    },
    {
      "cell_type": "code",
      "execution_count": 150,
      "metadata": {
        "id": "Z3s8KPvBOlgd",
        "colab": {
          "base_uri": "https://localhost:8080/",
          "height": 281
        },
        "outputId": "451ac0b9-ed22-4516-919e-6be0f8c99ebe"
      },
      "outputs": [
        {
          "output_type": "display_data",
          "data": {
            "text/plain": [
              "<Figure size 432x288 with 1 Axes>"
            ],
            "image/png": "[encoded data removed]"
          },
          "metadata": {
            "needs_background": "light"
          }
        }
      ],
      "source": [
        "sns.histplot(data['REPORTED_SATISFACTION'])\n",
        "plt.show()"
      ]
    },
    {
      "cell_type": "markdown",
      "source": [
        "- NaN값이 포함된 두 feature 모두 삭제를 제외한 일반적인 방법(평균, 중앙값 등)으로 조치를 하기에 복잡한 형태임\n",
        "\n",
        "- House는 분포가 한쪽에 치우쳐져있고 SATISFACTIONI은 설문조사의 특성상 추가적인 데이터 없이 임의로 채워넣기가 어려움\n",
        "\n",
        "- 가변수화 후 KNNImputer를 이용해 결측치를 처리하려고 함"
      ],
      "metadata": {
        "id": "304TpIAvmSPd"
      }
    },
    {
      "cell_type": "markdown",
      "metadata": {
        "id": "NC48TbT7FoYM"
      },
      "source": [
        "### 2.3 (옵션) 추가변수 도출\n",
        "* 기존 데이터셋의 변수를 이용하여 추가로 도출할 수 있는 변수가 있다면 수행합니다.\n",
        "* 추가변수 생성시, 이유에 대해서 **주석**으로 기술합니다."
      ]
    },
    {
      "cell_type": "code",
      "execution_count": 150,
      "metadata": {
        "id": "eEi54e5ZFnU1"
      },
      "outputs": [],
      "source": [
        ""
      ]
    },
    {
      "cell_type": "code",
      "execution_count": 150,
      "metadata": {
        "id": "WDiZkMCkU1Bf"
      },
      "outputs": [],
      "source": [
        ""
      ]
    },
    {
      "cell_type": "markdown",
      "metadata": {
        "id": "zFJ23LikV8A_"
      },
      "source": [
        "### 2.4 가변수화\n",
        "* 범주형 데이터이면서 값이 0,1 로 되어 있는 것이 아니라면, 가변수화를 수행해야 합니다.\n",
        "* 대상이 되는 변수에 대해서 가변수화를 수행해주세요."
      ]
    },
    {
      "cell_type": "code",
      "execution_count": 151,
      "metadata": {
        "id": "1AAfzPjeOm8x",
        "colab": {
          "base_uri": "https://localhost:8080/"
        },
        "outputId": "03e2ad88-16ea-4089-fc98-81837c144b6c"
      },
      "outputs": [
        {
          "output_type": "stream",
          "name": "stdout",
          "text": [
            "<class 'pandas.core.frame.DataFrame'>\n",
            "RangeIndex: 18000 entries, 0 to 17999\n",
            "Data columns (total 9 columns):\n",
            " #   Column                       Non-Null Count  Dtype  \n",
            "---  ------                       --------------  -----  \n",
            " 0   INCOME                       18000 non-null  int64  \n",
            " 1   OVERAGE                      18000 non-null  int64  \n",
            " 2   LEFTOVER                     18000 non-null  int64  \n",
            " 3   HOUSE                        17785 non-null  float64\n",
            " 4   HANDSET_PRICE                18000 non-null  int64  \n",
            " 5   OVER_15MINS_CALLS_PER_MONTH  18000 non-null  int64  \n",
            " 6   REPORTED_SATISFACTION        17962 non-null  object \n",
            " 7   REPORTED_USAGE_LEVEL         18000 non-null  object \n",
            " 8   CONSIDERING_CHANGE_OF_PLAN   18000 non-null  object \n",
            "dtypes: float64(1), int64(5), object(3)\n",
            "memory usage: 1.2+ MB\n"
          ]
        }
      ],
      "source": [
        "x.info()"
      ]
    },
    {
      "cell_type": "code",
      "execution_count": 152,
      "metadata": {
        "id": "UzJw24AWOm4v",
        "colab": {
          "base_uri": "https://localhost:8080/",
          "height": 270
        },
        "outputId": "ff85fb12-2154-4aee-9516-213530ee727c"
      },
      "outputs": [
        {
          "output_type": "execute_result",
          "data": {
            "text/plain": [
              "       INCOME  OVERAGE  LEFTOVER  HOUSE  HANDSET_PRICE  \\\n",
              "17995   31079      200        40    NaN            181   \n",
              "17996  137194       63         0    NaN            787   \n",
              "17997   82931        0        77    NaN            232   \n",
              "17998  124391        0        19    NaN            862   \n",
              "17999  104849      223         5    NaN            463   \n",
              "\n",
              "       OVER_15MINS_CALLS_PER_MONTH  REPORTED_SATISFACTION_sat  \\\n",
              "17995                           20                          0   \n",
              "17996                            3                          0   \n",
              "17997                            0                          0   \n",
              "17998                            0                          0   \n",
              "17999                           21                          0   \n",
              "\n",
              "       REPORTED_SATISFACTION_unsat  REPORTED_SATISFACTION_very_sat  \\\n",
              "17995                            1                               0   \n",
              "17996                            0                               0   \n",
              "17997                            0                               0   \n",
              "17998                            1                               0   \n",
              "17999                            0                               0   \n",
              "\n",
              "       REPORTED_SATISFACTION_very_unsat  REPORTED_USAGE_LEVEL_high  \\\n",
              "17995                                 0                          0   \n",
              "17996                                 1                          0   \n",
              "17997                                 1                          0   \n",
              "17998                                 0                          0   \n",
              "17999                                 1                          0   \n",
              "\n",
              "       REPORTED_USAGE_LEVEL_little  REPORTED_USAGE_LEVEL_very_high  \\\n",
              "17995                            1                               0   \n",
              "17996                            1                               0   \n",
              "17997                            0                               0   \n",
              "17998                            0                               1   \n",
              "17999                            1                               0   \n",
              "\n",
              "       REPORTED_USAGE_LEVEL_very_little  \\\n",
              "17995                                 0   \n",
              "17996                                 0   \n",
              "17997                                 1   \n",
              "17998                                 0   \n",
              "17999                                 0   \n",
              "\n",
              "       CONSIDERING_CHANGE_OF_PLAN_considering  \\\n",
              "17995                                       0   \n",
              "17996                                       0   \n",
              "17997                                       0   \n",
              "17998                                       0   \n",
              "17999                                       1   \n",
              "\n",
              "       CONSIDERING_CHANGE_OF_PLAN_never_thought  \\\n",
              "17995                                         0   \n",
              "17996                                         0   \n",
              "17997                                         1   \n",
              "17998                                         0   \n",
              "17999                                         0   \n",
              "\n",
              "       CONSIDERING_CHANGE_OF_PLAN_no  CONSIDERING_CHANGE_OF_PLAN_perhaps  \n",
              "17995                              0                                   0  \n",
              "17996                              1                                   0  \n",
              "17997                              0                                   0  \n",
              "17998                              1                                   0  \n",
              "17999                              0                                   0  "
            ],
            "text/html": [
              "\n",
              "  <div id=\"df-6f4d815a-26d6-4ac2-a036-bbef02244e1a\">\n",
              "    <div class=\"colab-df-container\">\n",
              "      <div>\n",
              "<style scoped>\n",
              "    .dataframe tbody tr th:only-of-type {\n",
              "        vertical-align: middle;\n",
              "    }\n",
              "\n",
              "    .dataframe tbody tr th {\n",
              "        vertical-align: top;\n",
              "    }\n",
              "\n",
              "    .dataframe thead th {\n",
              "        text-align: right;\n",
              "    }\n",
              "</style>\n",
              "<table border=\"1\" class=\"dataframe\">\n",
              "  <thead>\n",
              "    <tr style=\"text-align: right;\">\n",
              "      <th></th>\n",
              "      <th>INCOME</th>\n",
              "      <th>OVERAGE</th>\n",
              "      <th>LEFTOVER</th>\n",
              "      <th>HOUSE</th>\n",
              "      <th>HANDSET_PRICE</th>\n",
              "      <th>OVER_15MINS_CALLS_PER_MONTH</th>\n",
              "      <th>REPORTED_SATISFACTION_sat</th>\n",
              "      <th>REPORTED_SATISFACTION_unsat</th>\n",
              "      <th>REPORTED_SATISFACTION_very_sat</th>\n",
              "      <th>REPORTED_SATISFACTION_very_unsat</th>\n",
              "      <th>REPORTED_USAGE_LEVEL_high</th>\n",
              "      <th>REPORTED_USAGE_LEVEL_little</th>\n",
              "      <th>REPORTED_USAGE_LEVEL_very_high</th>\n",
              "      <th>REPORTED_USAGE_LEVEL_very_little</th>\n",
              "      <th>CONSIDERING_CHANGE_OF_PLAN_considering</th>\n",
              "      <th>CONSIDERING_CHANGE_OF_PLAN_never_thought</th>\n",
              "      <th>CONSIDERING_CHANGE_OF_PLAN_no</th>\n",
              "      <th>CONSIDERING_CHANGE_OF_PLAN_perhaps</th>\n",
              "    </tr>\n",
              "  </thead>\n",
              "  <tbody>\n",
              "    <tr>\n",
              "      <th>17995</th>\n",
              "      <td>31079</td>\n",
              "      <td>200</td>\n",
              "      <td>40</td>\n",
              "      <td>NaN</td>\n",
              "      <td>181</td>\n",
              "      <td>20</td>\n",
              "      <td>0</td>\n",
              "      <td>1</td>\n",
              "      <td>0</td>\n",
              "      <td>0</td>\n",
              "      <td>0</td>\n",
              "      <td>1</td>\n",
              "      <td>0</td>\n",
              "      <td>0</td>\n",
              "      <td>0</td>\n",
              "      <td>0</td>\n",
              "      <td>0</td>\n",
              "      <td>0</td>\n",
              "    </tr>\n",
              "    <tr>\n",
              "      <th>17996</th>\n",
              "      <td>137194</td>\n",
              "      <td>63</td>\n",
              "      <td>0</td>\n",
              "      <td>NaN</td>\n",
              "      <td>787</td>\n",
              "      <td>3</td>\n",
              "      <td>0</td>\n",
              "      <td>0</td>\n",
              "      <td>0</td>\n",
              "      <td>1</td>\n",
              "      <td>0</td>\n",
              "      <td>1</td>\n",
              "      <td>0</td>\n",
              "      <td>0</td>\n",
              "      <td>0</td>\n",
              "      <td>0</td>\n",
              "      <td>1</td>\n",
              "      <td>0</td>\n",
              "    </tr>\n",
              "    <tr>\n",
              "      <th>17997</th>\n",
              "      <td>82931</td>\n",
              "      <td>0</td>\n",
              "      <td>77</td>\n",
              "      <td>NaN</td>\n",
              "      <td>232</td>\n",
              "      <td>0</td>\n",
              "      <td>0</td>\n",
              "      <td>0</td>\n",
              "      <td>0</td>\n",
              "      <td>1</td>\n",
              "      <td>0</td>\n",
              "      <td>0</td>\n",
              "      <td>0</td>\n",
              "      <td>1</td>\n",
              "      <td>0</td>\n",
              "      <td>1</td>\n",
              "      <td>0</td>\n",
              "      <td>0</td>\n",
              "    </tr>\n",
              "    <tr>\n",
              "      <th>17998</th>\n",
              "      <td>124391</td>\n",
              "      <td>0</td>\n",
              "      <td>19</td>\n",
              "      <td>NaN</td>\n",
              "      <td>862</td>\n",
              "      <td>0</td>\n",
              "      <td>0</td>\n",
              "      <td>1</td>\n",
              "      <td>0</td>\n",
              "      <td>0</td>\n",
              "      <td>0</td>\n",
              "      <td>0</td>\n",
              "      <td>1</td>\n",
              "      <td>0</td>\n",
              "      <td>0</td>\n",
              "      <td>0</td>\n",
              "      <td>1</td>\n",
              "      <td>0</td>\n",
              "    </tr>\n",
              "    <tr>\n",
              "      <th>17999</th>\n",
              "      <td>104849</td>\n",
              "      <td>223</td>\n",
              "      <td>5</td>\n",
              "      <td>NaN</td>\n",
              "      <td>463</td>\n",
              "      <td>21</td>\n",
              "      <td>0</td>\n",
              "      <td>0</td>\n",
              "      <td>0</td>\n",
              "      <td>1</td>\n",
              "      <td>0</td>\n",
              "      <td>1</td>\n",
              "      <td>0</td>\n",
              "      <td>0</td>\n",
              "      <td>1</td>\n",
              "      <td>0</td>\n",
              "      <td>0</td>\n",
              "      <td>0</td>\n",
              "    </tr>\n",
              "  </tbody>\n",
              "</table>\n",
              "</div>\n",
              "      <button class=\"colab-df-convert\" onclick=\"convertToInteractive('df-6f4d815a-26d6-4ac2-a036-bbef02244e1a')\"\n",
              "              title=\"Convert this dataframe to an interactive table.\"\n",
              "              style=\"display:none;\">\n",
              "        \n",
              "  <svg xmlns=\"http://www.w3.org/2000/svg\" height=\"24px\"viewBox=\"0 0 24 24\"\n",
              "       width=\"24px\">\n",
              "    <path d=\"M0 0h24v24H0V0z\" fill=\"none\"/>\n",
              "    <path d=\"M18.56 5.44l.94 2.06.94-2.06 2.06-.94-2.06-.94-.94-2.06-.94 2.06-2.06.94zm-11 1L8.5 8.5l.94-2.06 2.06-.94-2.06-.94L8.5 2.5l-.94 2.06-2.06.94zm10 10l.94 2.06.94-2.06 2.06-.94-2.06-.94-.94-2.06-.94 2.06-2.06.94z\"/><path d=\"M17.41 7.96l-1.37-1.37c-.4-.4-.92-.59-1.43-.59-.52 0-1.04.2-1.43.59L10.3 9.45l-7.72 7.72c-.78.78-.78 2.05 0 2.83L4 21.41c.39.39.9.59 1.41.59.51 0 1.02-.2 1.41-.59l7.78-7.78 2.81-2.81c.8-.78.8-2.07 0-2.86zM5.41 20L4 18.59l7.72-7.72 1.47 1.35L5.41 20z\"/>\n",
              "  </svg>\n",
              "      </button>\n",
              "      \n",
              "  <style>\n",
              "    .colab-df-container {\n",
              "      display:flex;\n",
              "      flex-wrap:wrap;\n",
              "      gap: 12px;\n",
              "    }\n",
              "\n",
              "    .colab-df-convert {\n",
              "      background-color: #E8F0FE;\n",
              "      border: none;\n",
              "      border-radius: 50%;\n",
              "      cursor: pointer;\n",
              "      display: none;\n",
              "      fill: #1967D2;\n",
              "      height: 32px;\n",
              "      padding: 0 0 0 0;\n",
              "      width: 32px;\n",
              "    }\n",
              "\n",
              "    .colab-df-convert:hover {\n",
              "      background-color: #E2EBFA;\n",
              "      box-shadow: 0px 1px 2px rgba(60, 64, 67, 0.3), 0px 1px 3px 1px rgba(60, 64, 67, 0.15);\n",
              "      fill: #174EA6;\n",
              "    }\n",
              "\n",
              "    [theme=dark] .colab-df-convert {\n",
              "      background-color: #3B4455;\n",
              "      fill: #D2E3FC;\n",
              "    }\n",
              "\n",
              "    [theme=dark] .colab-df-convert:hover {\n",
              "      background-color: #434B5C;\n",
              "      box-shadow: 0px 1px 3px 1px rgba(0, 0, 0, 0.15);\n",
              "      filter: drop-shadow(0px 1px 2px rgba(0, 0, 0, 0.3));\n",
              "      fill: #FFFFFF;\n",
              "    }\n",
              "  </style>\n",
              "\n",
              "      <script>\n",
              "        const buttonEl =\n",
              "          document.querySelector('#df-6f4d815a-26d6-4ac2-a036-bbef02244e1a button.colab-df-convert');\n",
              "        buttonEl.style.display =\n",
              "          google.colab.kernel.accessAllowed ? 'block' : 'none';\n",
              "\n",
              "        async function convertToInteractive(key) {\n",
              "          const element = document.querySelector('#df-6f4d815a-26d6-4ac2-a036-bbef02244e1a');\n",
              "          const dataTable =\n",
              "            await google.colab.kernel.invokeFunction('convertToInteractive',\n",
              "                                                     [key], {});\n",
              "          if (!dataTable) return;\n",
              "\n",
              "          const docLinkHtml = 'Like what you see? Visit the ' +\n",
              "            '<a target=\"_blank\" href=https://colab.research.google.com/notebooks/data_table.ipynb>data table notebook</a>'\n",
              "            + ' to learn more about interactive tables.';\n",
              "          element.innerHTML = '';\n",
              "          dataTable['output_type'] = 'display_data';\n",
              "          await google.colab.output.renderOutput(dataTable, element);\n",
              "          const docLink = document.createElement('div');\n",
              "          docLink.innerHTML = docLinkHtml;\n",
              "          element.appendChild(docLink);\n",
              "        }\n",
              "      </script>\n",
              "    </div>\n",
              "  </div>\n",
              "  "
            ]
          },
          "metadata": {},
          "execution_count": 152
        }
      ],
      "source": [
        "cols = ['REPORTED_SATISFACTION', 'REPORTED_USAGE_LEVEL', 'CONSIDERING_CHANGE_OF_PLAN']\n",
        "\n",
        "x = pd.get_dummies(x, columns=cols, drop_first=True)\n",
        "x.tail()"
      ]
    },
    {
      "cell_type": "markdown",
      "source": [
        "- 결측치 제거 진행"
      ],
      "metadata": {
        "id": "UM9037PhojiI"
      }
    },
    {
      "cell_type": "code",
      "source": [
        "from sklearn.impute import KNNImputer\n",
        "\n",
        "imputer = KNNImputer(n_neighbors=3)\n",
        "imputed = imputer.fit_transform(x)\n",
        "\n",
        "x = pd.DataFrame(imputed, columns=x.columns)\n",
        "x.isna().sum()"
      ],
      "metadata": {
        "colab": {
          "base_uri": "https://localhost:8080/"
        },
        "id": "L3z_ePyenjcp",
        "outputId": "2dc9a0d8-9768-49c0-8087-9d892048db54"
      },
      "execution_count": 153,
      "outputs": [
        {
          "output_type": "execute_result",
          "data": {
            "text/plain": [
              "INCOME                                      0\n",
              "OVERAGE                                     0\n",
              "LEFTOVER                                    0\n",
              "HOUSE                                       0\n",
              "HANDSET_PRICE                               0\n",
              "OVER_15MINS_CALLS_PER_MONTH                 0\n",
              "REPORTED_SATISFACTION_sat                   0\n",
              "REPORTED_SATISFACTION_unsat                 0\n",
              "REPORTED_SATISFACTION_very_sat              0\n",
              "REPORTED_SATISFACTION_very_unsat            0\n",
              "REPORTED_USAGE_LEVEL_high                   0\n",
              "REPORTED_USAGE_LEVEL_little                 0\n",
              "REPORTED_USAGE_LEVEL_very_high              0\n",
              "REPORTED_USAGE_LEVEL_very_little            0\n",
              "CONSIDERING_CHANGE_OF_PLAN_considering      0\n",
              "CONSIDERING_CHANGE_OF_PLAN_never_thought    0\n",
              "CONSIDERING_CHANGE_OF_PLAN_no               0\n",
              "CONSIDERING_CHANGE_OF_PLAN_perhaps          0\n",
              "dtype: int64"
            ]
          },
          "metadata": {},
          "execution_count": 153
        }
      ]
    },
    {
      "cell_type": "markdown",
      "metadata": {
        "id": "aODppuvooQzl"
      },
      "source": [
        "### 2.5 데이터 분할\n",
        "\n",
        "* test 3000건(test_size = 3000), random_state = 2022\n",
        "* val 3000건(test_size = 3000), random_state = 2022\n",
        "* train 나머지."
      ]
    },
    {
      "cell_type": "code",
      "execution_count": 154,
      "metadata": {
        "id": "SmHfm-Z8OoC3"
      },
      "outputs": [],
      "source": [
        "from sklearn.model_selection import train_test_split"
      ]
    },
    {
      "cell_type": "code",
      "execution_count": 155,
      "metadata": {
        "id": "f-nWCy8QOn_P"
      },
      "outputs": [],
      "source": [
        "x_origin, x_test, y_origin, y_test = train_test_split(x, y, test_size=3000, random_state=2022)\n",
        "x_train, x_val, y_train, y_val = train_test_split(x_origin, y_origin, test_size=3000, random_state=2022)"
      ]
    },
    {
      "cell_type": "markdown",
      "metadata": {
        "id": "2Lwk03PSZTJP"
      },
      "source": [
        "### 2.6 (옵션)스케일링 \n",
        "* 스케일링을 필요로 하는 알고리즘이 있습니다. \n",
        "* 필요하다고 판단될때 수행합니다."
      ]
    },
    {
      "cell_type": "code",
      "execution_count": 156,
      "metadata": {
        "id": "oAVSU7XucCvn"
      },
      "outputs": [],
      "source": [
        "from sklearn.preprocessing import MinMaxScaler\n",
        "scaler = MinMaxScaler()"
      ]
    },
    {
      "cell_type": "code",
      "source": [
        "x_train_s = pd.DataFrame(scaler.fit_transform(x_train), columns=x_train.columns)\n",
        "x_val_s = pd.DataFrame(scaler.fit_transform(x_val), columns=x_train.columns)\n",
        "x_test_s = pd.DataFrame(scaler.fit_transform(x_test), columns=x_train.columns)"
      ],
      "metadata": {
        "id": "6dZPSBzro_LS"
      },
      "execution_count": 157,
      "outputs": []
    },
    {
      "cell_type": "code",
      "source": [
        "x_train_s.min(), x_train_s.max()"
      ],
      "metadata": {
        "colab": {
          "base_uri": "https://localhost:8080/"
        },
        "id": "y-vdGsx9pSHo",
        "outputId": "a5de4c57-4987-4fc9-fda4-2ac826bdaa05"
      },
      "execution_count": 158,
      "outputs": [
        {
          "output_type": "execute_result",
          "data": {
            "text/plain": [
              "(INCOME                                      0.0\n",
              " OVERAGE                                     0.0\n",
              " LEFTOVER                                    0.0\n",
              " HOUSE                                       0.0\n",
              " HANDSET_PRICE                               0.0\n",
              " OVER_15MINS_CALLS_PER_MONTH                 0.0\n",
              " REPORTED_SATISFACTION_sat                   0.0\n",
              " REPORTED_SATISFACTION_unsat                 0.0\n",
              " REPORTED_SATISFACTION_very_sat              0.0\n",
              " REPORTED_SATISFACTION_very_unsat            0.0\n",
              " REPORTED_USAGE_LEVEL_high                   0.0\n",
              " REPORTED_USAGE_LEVEL_little                 0.0\n",
              " REPORTED_USAGE_LEVEL_very_high              0.0\n",
              " REPORTED_USAGE_LEVEL_very_little            0.0\n",
              " CONSIDERING_CHANGE_OF_PLAN_considering      0.0\n",
              " CONSIDERING_CHANGE_OF_PLAN_never_thought    0.0\n",
              " CONSIDERING_CHANGE_OF_PLAN_no               0.0\n",
              " CONSIDERING_CHANGE_OF_PLAN_perhaps          0.0\n",
              " dtype: float64, INCOME                                      1.0\n",
              " OVERAGE                                     1.0\n",
              " LEFTOVER                                    1.0\n",
              " HOUSE                                       1.0\n",
              " HANDSET_PRICE                               1.0\n",
              " OVER_15MINS_CALLS_PER_MONTH                 1.0\n",
              " REPORTED_SATISFACTION_sat                   1.0\n",
              " REPORTED_SATISFACTION_unsat                 1.0\n",
              " REPORTED_SATISFACTION_very_sat              1.0\n",
              " REPORTED_SATISFACTION_very_unsat            1.0\n",
              " REPORTED_USAGE_LEVEL_high                   1.0\n",
              " REPORTED_USAGE_LEVEL_little                 1.0\n",
              " REPORTED_USAGE_LEVEL_very_high              1.0\n",
              " REPORTED_USAGE_LEVEL_very_little            1.0\n",
              " CONSIDERING_CHANGE_OF_PLAN_considering      1.0\n",
              " CONSIDERING_CHANGE_OF_PLAN_never_thought    1.0\n",
              " CONSIDERING_CHANGE_OF_PLAN_no               1.0\n",
              " CONSIDERING_CHANGE_OF_PLAN_perhaps          1.0\n",
              " dtype: float64)"
            ]
          },
          "metadata": {},
          "execution_count": 158
        }
      ]
    },
    {
      "cell_type": "markdown",
      "metadata": {
        "id": "ZghJJ7yLEpDA"
      },
      "source": [
        "## 3.모델링1 : 머신러닝"
      ]
    },
    {
      "cell_type": "markdown",
      "metadata": {
        "id": "NFDAfi7-5Xhu"
      },
      "source": [
        "### 3.1 모델링을 위한 함수 불러오기\n",
        "\n",
        "* **꼭 필요한 라이브러리 혹은 함수**만 불러옵니다. 무조건 다 불러오는 것은 지양해주세요."
      ]
    },
    {
      "cell_type": "code",
      "execution_count": 159,
      "metadata": {
        "id": "zlHHnr2-5cwD"
      },
      "outputs": [],
      "source": [
        "from sklearn.tree import DecisionTreeClassifier\n",
        "from sklearn.svm import SVC\n",
        "from sklearn.ensemble import RandomForestClassifier\n",
        "from xgboost import XGBClassifier\n",
        "from sklearn.model_selection import GridSearchCV\n",
        "from sklearn.metrics import accuracy_score, recall_score, confusion_matrix, classification_report"
      ]
    },
    {
      "cell_type": "markdown",
      "metadata": {
        "id": "6K1mZKlXByLy"
      },
      "source": [
        "### 3.2 모델링\n",
        "* 최소 3개 이상의 알고리즘을 선정합니다.(알고리즘에는 최소 1개 이상의 앙상블 기법을 포함)\n",
        "    * 아래 주어진 목록 이외의 알고리즘을 선정해도 좋습니다.\n",
        "* 각 알고리즘별 튜닝을 수행하여 최적의 모델을 생성합니다.\n",
        "    * 튜닝 방식은 GridSearchCV, RandomizedSearchCV 혹은 for loop 로 직접\n",
        "    * 단, 선형회귀, 로지스틱 회귀의는 입력 변수(feature)를 조절하여 튜닝을 합니다.\n",
        "    * 튜닝 과정에 대해서 주석으로 기술합니다.\n",
        "* 모델링, 튜닝만 수행하는데 그치지 말고, 모델의 내용을 파악하기 위한 분석을 시도합니다. 코드 결과에 대한 분석 의견을 주석으로 기술합니다.\n",
        "    * 예 : 모델 시각화 및 내용 파악, 튜닝 결과 분석 및 시각화"
      ]
    },
    {
      "cell_type": "code",
      "source": [
        "result = {}"
      ],
      "metadata": {
        "id": "e4UJUob3qiVG"
      },
      "execution_count": 160,
      "outputs": []
    },
    {
      "cell_type": "markdown",
      "metadata": {
        "id": "VBBpa7BjL6Lj"
      },
      "source": [
        "#### (1) 알고리즘1 - Decision Tree"
      ]
    },
    {
      "cell_type": "code",
      "execution_count": 161,
      "metadata": {
        "id": "qvry7Ns-OtqH",
        "colab": {
          "base_uri": "https://localhost:8080/"
        },
        "outputId": "25defbcf-59de-42b7-a164-1ba7903b03ed"
      },
      "outputs": [
        {
          "output_type": "stream",
          "name": "stdout",
          "text": [
            "0.624 0.801\n"
          ]
        }
      ],
      "source": [
        "model_dt = DecisionTreeClassifier(random_state=2022)\n",
        "param = {'max_depth': range(1, 21)}\n",
        "model_dt = GridSearchCV(model_dt, param, scoring='recall')\n",
        "model_dt.fit(x_train, y_train)\n",
        "y_pred = model_dt.predict(x_val)\n",
        "score1 = accuracy_score(y_val, y_pred).round(3)\n",
        "score2 = recall_score(y_val, y_pred).round(3)\n",
        "print(score1, score2)\n",
        "result['Decision Tree ac'] = score1\n",
        "result['Decision Tree re'] = score2"
      ]
    },
    {
      "cell_type": "code",
      "execution_count": 162,
      "metadata": {
        "id": "W3kInz1eOuL_",
        "colab": {
          "base_uri": "https://localhost:8080/"
        },
        "outputId": "9d0e0dc6-3af8-420f-e7c7-5b6753ec927c"
      },
      "outputs": [
        {
          "output_type": "stream",
          "name": "stdout",
          "text": [
            "{'max_depth': 1}\n"
          ]
        }
      ],
      "source": [
        "print(model_dt.best_params_)"
      ]
    },
    {
      "cell_type": "code",
      "execution_count": 163,
      "metadata": {
        "id": "k2ZVWhqqOti_",
        "colab": {
          "base_uri": "https://localhost:8080/",
          "height": 265
        },
        "outputId": "ffa34b17-8b67-4f9c-9ef7-7186f6ed5a1d"
      },
      "outputs": [
        {
          "output_type": "display_data",
          "data": {
            "text/plain": [
              "<Figure size 432x288 with 2 Axes>"
            ],
            "image/png": "[encoded data removed]"
          },
          "metadata": {
            "needs_background": "light"
          }
        }
      ],
      "source": [
        "sns.heatmap(confusion_matrix(y_val, y_pred), annot=True, cmap='rocket', fmt = 'g')\n",
        "plt.show()"
      ]
    },
    {
      "cell_type": "markdown",
      "metadata": {
        "id": "79nC_1brOw_d"
      },
      "source": [
        "#### (2) 알고리즘2 - Random Forest"
      ]
    },
    {
      "cell_type": "code",
      "execution_count": 164,
      "metadata": {
        "id": "OWrO87LaOw_d",
        "colab": {
          "base_uri": "https://localhost:8080/"
        },
        "outputId": "ea5a9fc2-41ae-49eb-80b2-a4fdc46b7e32"
      },
      "outputs": [
        {
          "output_type": "stream",
          "name": "stdout",
          "text": [
            "0.698 0.704\n"
          ]
        }
      ],
      "source": [
        "model_rf = RandomForestClassifier(random_state=2022)\n",
        "model_rf.fit(x_train, y_train)\n",
        "y_pred = model_rf.predict(x_val)\n",
        "score1 = accuracy_score(y_val, y_pred).round(3)\n",
        "score2 = recall_score(y_val, y_pred).round(3)\n",
        "print(score1, score2)\n",
        "result['Randon Forest ac'] = score1\n",
        "result['Randon Forest re'] = score2"
      ]
    },
    {
      "cell_type": "code",
      "execution_count": 165,
      "metadata": {
        "id": "Gu9S_e8HOw_e",
        "colab": {
          "base_uri": "https://localhost:8080/",
          "height": 265
        },
        "outputId": "7263743c-27a2-4ce9-a80c-643cc681d41b"
      },
      "outputs": [
        {
          "output_type": "display_data",
          "data": {
            "text/plain": [
              "<Figure size 432x288 with 2 Axes>"
            ],
            "image/png": "[encoded data removed]"
          },
          "metadata": {
            "needs_background": "light"
          }
        }
      ],
      "source": [
        "sns.heatmap(confusion_matrix(y_val, y_pred), annot=True, cmap='rocket', fmt = 'g')\n",
        "plt.show()"
      ]
    },
    {
      "cell_type": "markdown",
      "metadata": {
        "id": "yIm4n8jAOytN"
      },
      "source": [
        "#### (3) 알고리즘3 - XGBoost"
      ]
    },
    {
      "cell_type": "code",
      "execution_count": 166,
      "metadata": {
        "id": "I08wZzKSOytN",
        "colab": {
          "base_uri": "https://localhost:8080/"
        },
        "outputId": "ecf73e36-e2db-4c31-8989-5f165d1091f4"
      },
      "outputs": [
        {
          "output_type": "stream",
          "name": "stdout",
          "text": [
            "0.624 0.801\n"
          ]
        }
      ],
      "source": [
        "model_xgb = XGBClassifier(eval_metric='logloss')\n",
        "param = {'max_depth': range(1,10), 'n_estimators': range(1, 50, 10), 'learning_rate':[0.01, 0.3]}\n",
        "model_xgb = GridSearchCV(model_xgb, param, scoring='recall')\n",
        "model_xgb.fit(x_train, y_train)\n",
        "y_pred = model_xgb.predict(x_val)\n",
        "score1 = accuracy_score(y_val, y_pred).round(3)\n",
        "score2 = recall_score(y_val, y_pred).round(3)\n",
        "print(score1, score2)\n",
        "result['XGBoost ac'] = score1\n",
        "result['XGBoost re'] = score2"
      ]
    },
    {
      "cell_type": "code",
      "execution_count": 167,
      "metadata": {
        "id": "uwNjvnz6OytO",
        "colab": {
          "base_uri": "https://localhost:8080/"
        },
        "outputId": "7c151308-59c8-4b65-8f6d-ff1e8c57b61f"
      },
      "outputs": [
        {
          "output_type": "stream",
          "name": "stdout",
          "text": [
            "{'learning_rate': 0.01, 'max_depth': 1, 'n_estimators': 1}\n",
            "0.7790500992592908\n"
          ]
        }
      ],
      "source": [
        "print(model_xgb.best_params_)\n",
        "print(model_xgb.best_score_)"
      ]
    },
    {
      "cell_type": "code",
      "execution_count": 168,
      "metadata": {
        "id": "5xoWtpIhOytO",
        "colab": {
          "base_uri": "https://localhost:8080/"
        },
        "outputId": "b026f8ff-d9f3-4ae7-ac97-69b10a538bec"
      },
      "outputs": [
        {
          "output_type": "stream",
          "name": "stdout",
          "text": [
            "              precision    recall  f1-score   support\n",
            "\n",
            "           0       0.70      0.45      0.55      1520\n",
            "           1       0.59      0.80      0.68      1480\n",
            "\n",
            "    accuracy                           0.62      3000\n",
            "   macro avg       0.64      0.63      0.61      3000\n",
            "weighted avg       0.64      0.62      0.61      3000\n",
            "\n"
          ]
        }
      ],
      "source": [
        "print(classification_report(y_val, y_pred))"
      ]
    },
    {
      "cell_type": "code",
      "execution_count": 169,
      "metadata": {
        "id": "GS0fsPLsOytO",
        "colab": {
          "base_uri": "https://localhost:8080/",
          "height": 265
        },
        "outputId": "3116dc09-e9d4-45a5-ac57-ebd5ed4897eb"
      },
      "outputs": [
        {
          "output_type": "display_data",
          "data": {
            "text/plain": [
              "<Figure size 432x288 with 2 Axes>"
            ],
            "image/png": "[encoded data removed]"
          },
          "metadata": {
            "needs_background": "light"
          }
        }
      ],
      "source": [
        "sns.heatmap(confusion_matrix(y_val, y_pred), annot=True, cmap='rocket', fmt = 'g')\n",
        "plt.show()"
      ]
    },
    {
      "cell_type": "markdown",
      "metadata": {
        "id": "95r7i5gXL6Lx"
      },
      "source": [
        "## 4.모델링2 : DL"
      ]
    },
    {
      "cell_type": "markdown",
      "metadata": {
        "id": "b9kRyQ6K6CIW"
      },
      "source": [
        "### 4.1 모델링을 위한 함수 불러오기"
      ]
    },
    {
      "cell_type": "code",
      "source": [
        "# pip install eli5"
      ],
      "metadata": {
        "id": "p0jMhbArvpy3"
      },
      "execution_count": 170,
      "outputs": []
    },
    {
      "cell_type": "code",
      "execution_count": 171,
      "metadata": {
        "id": "_BDNB7hM9_hz"
      },
      "outputs": [],
      "source": [
        "# pip install scikeras"
      ]
    },
    {
      "cell_type": "code",
      "source": [
        "import tensorflow as tf\n",
        "from tensorflow import keras\n",
        "from scikeras.wrappers import KerasClassifier, KerasRegressor\n",
        "import eli5\n",
        "from eli5.sklearn import PermutationImportance\n",
        "from tensorflow.keras.callbacks import EarlyStopping\n",
        "from tensorflow.keras.utils import to_categorical"
      ],
      "metadata": {
        "id": "R-SlWyW9vs4H"
      },
      "execution_count": 172,
      "outputs": []
    },
    {
      "cell_type": "markdown",
      "metadata": {
        "id": "lL9BeX00MLgt"
      },
      "source": [
        "### 4.2 모델링\n",
        "\n",
        "* 딥러닝 모델을 3개 이상 생성하시오\n",
        "    * 다양한 구조의 모델 3개 이상을 설계하시오. (히든레이어, 노드 수 조절)\n",
        "    * 각 모델은 구조가 달라야 합니다.\n",
        "    * 구조를 그렇게 구성한 이유를 주석으로 기술해 봅시다.\n",
        "* 각 모델마다 \n",
        "    * 구조를 summary 혹은 plot model로 확인\n",
        "    * 학습 후 history plot 그리고 적절하게 학습이 되었는지 확인    "
      ]
    },
    {
      "cell_type": "code",
      "source": [
        "x_train.shape"
      ],
      "metadata": {
        "colab": {
          "base_uri": "https://localhost:8080/"
        },
        "id": "0wUiMVHQvvKz",
        "outputId": "ced593d4-c8ae-4c3a-9a57-8c3a153baa4c"
      },
      "execution_count": 173,
      "outputs": [
        {
          "output_type": "execute_result",
          "data": {
            "text/plain": [
              "(12000, 18)"
            ]
          },
          "metadata": {},
          "execution_count": 173
        }
      ]
    },
    {
      "cell_type": "code",
      "source": [
        "y_train_tg = to_categorical(y_train, 2)\n",
        "y_val_tg = to_categorical(y_val, 2)\n",
        "y_test_tg = to_categorical(y_test, 2)"
      ],
      "metadata": {
        "id": "FcCWE192v0Vt"
      },
      "execution_count": 174,
      "outputs": []
    },
    {
      "cell_type": "markdown",
      "metadata": {
        "id": "yAaMF07mHz_q"
      },
      "source": [
        "#### (1) 모델1"
      ]
    },
    {
      "cell_type": "code",
      "execution_count": 175,
      "metadata": {
        "id": "aA1Pm1oXMLgv",
        "colab": {
          "base_uri": "https://localhost:8080/",
          "height": 392
        },
        "outputId": "8ae374c3-72a0-4074-c769-bb57bddb0f47"
      },
      "outputs": [
        {
          "output_type": "stream",
          "name": "stdout",
          "text": [
            "Model: \"sequential\"\n",
            "_________________________________________________________________\n",
            " Layer (type)                Output Shape              Param #   \n",
            "=================================================================\n",
            " dense (Dense)               (None, 2)                 38        \n",
            "                                                                 \n",
            "=================================================================\n",
            "Total params: 38\n",
            "Trainable params: 38\n",
            "Non-trainable params: 0\n",
            "_________________________________________________________________\n"
          ]
        },
        {
          "output_type": "execute_result",
          "data": {
            "text/plain": [
              "<IPython.core.display.Image object>"
            ],
            "image/png": "[encoded data removed]"
          },
          "metadata": {},
          "execution_count": 175
        }
      ],
      "source": [
        "keras.backend.clear_session()\n",
        "\n",
        "model_dl1 = keras.models.Sequential()\n",
        "\n",
        "model_dl1.add(keras.layers.Input(shape=(18,)))\n",
        "model_dl1.add(keras.layers.Dense(2, activation='sigmoid'))\n",
        "\n",
        "model_dl1.compile(loss=keras.losses.binary_crossentropy, optimizer='nadam', metrics=['accuracy'])\n",
        "model_dl1.summary()\n",
        "keras.utils.plot_model(model_dl1, show_shapes=True)"
      ]
    },
    {
      "cell_type": "code",
      "execution_count": 176,
      "metadata": {
        "id": "MuKTjR9pZ_cw"
      },
      "outputs": [],
      "source": [
        "es = EarlyStopping(monitor='val_loss', min_delta=0, patience=5, verbose=1, restore_best_weights=True)"
      ]
    },
    {
      "cell_type": "code",
      "execution_count": 177,
      "metadata": {
        "colab": {
          "base_uri": "https://localhost:8080/"
        },
        "id": "6pngHqRpZ_cw",
        "outputId": "77f56d63-27f9-441a-8fa5-053561642e58"
      },
      "outputs": [
        {
          "output_type": "stream",
          "name": "stdout",
          "text": [
            "Epoch 1/1000\n",
            "300/300 [==============================] - 1s 2ms/step - loss: 0.7089 - accuracy: 0.5435 - val_loss: 0.6870 - val_accuracy: 0.5604\n",
            "Epoch 2/1000\n",
            "300/300 [==============================] - 1s 2ms/step - loss: 0.6784 - accuracy: 0.5881 - val_loss: 0.6712 - val_accuracy: 0.5925\n",
            "Epoch 3/1000\n",
            "300/300 [==============================] - 1s 2ms/step - loss: 0.6641 - accuracy: 0.6087 - val_loss: 0.6615 - val_accuracy: 0.6054\n",
            "Epoch 4/1000\n",
            "300/300 [==============================] - 1s 2ms/step - loss: 0.6546 - accuracy: 0.6175 - val_loss: 0.6552 - val_accuracy: 0.6129\n",
            "Epoch 5/1000\n",
            "300/300 [==============================] - 1s 2ms/step - loss: 0.6482 - accuracy: 0.6216 - val_loss: 0.6510 - val_accuracy: 0.6162\n",
            "Epoch 6/1000\n",
            "300/300 [==============================] - 1s 2ms/step - loss: 0.6438 - accuracy: 0.6279 - val_loss: 0.6483 - val_accuracy: 0.6142\n",
            "Epoch 7/1000\n",
            "300/300 [==============================] - 1s 2ms/step - loss: 0.6406 - accuracy: 0.6317 - val_loss: 0.6465 - val_accuracy: 0.6137\n",
            "Epoch 8/1000\n",
            "300/300 [==============================] - 1s 2ms/step - loss: 0.6384 - accuracy: 0.6328 - val_loss: 0.6452 - val_accuracy: 0.6146\n",
            "Epoch 9/1000\n",
            "300/300 [==============================] - 1s 2ms/step - loss: 0.6367 - accuracy: 0.6335 - val_loss: 0.6445 - val_accuracy: 0.6162\n",
            "Epoch 10/1000\n",
            "300/300 [==============================] - 1s 2ms/step - loss: 0.6355 - accuracy: 0.6344 - val_loss: 0.6440 - val_accuracy: 0.6183\n",
            "Epoch 11/1000\n",
            "300/300 [==============================] - 0s 2ms/step - loss: 0.6345 - accuracy: 0.6342 - val_loss: 0.6435 - val_accuracy: 0.6175\n",
            "Epoch 12/1000\n",
            "300/300 [==============================] - 1s 2ms/step - loss: 0.6338 - accuracy: 0.6365 - val_loss: 0.6433 - val_accuracy: 0.6179\n",
            "Epoch 13/1000\n",
            "300/300 [==============================] - 0s 2ms/step - loss: 0.6334 - accuracy: 0.6348 - val_loss: 0.6431 - val_accuracy: 0.6179\n",
            "Epoch 14/1000\n",
            "300/300 [==============================] - 1s 2ms/step - loss: 0.6329 - accuracy: 0.6359 - val_loss: 0.6430 - val_accuracy: 0.6183\n",
            "Epoch 15/1000\n",
            "300/300 [==============================] - 1s 2ms/step - loss: 0.6326 - accuracy: 0.6385 - val_loss: 0.6430 - val_accuracy: 0.6196\n",
            "Epoch 16/1000\n",
            "300/300 [==============================] - 1s 2ms/step - loss: 0.6323 - accuracy: 0.6392 - val_loss: 0.6430 - val_accuracy: 0.6204\n",
            "Epoch 17/1000\n",
            "300/300 [==============================] - 1s 2ms/step - loss: 0.6322 - accuracy: 0.6393 - val_loss: 0.6431 - val_accuracy: 0.6179\n",
            "Epoch 18/1000\n",
            "300/300 [==============================] - 1s 2ms/step - loss: 0.6320 - accuracy: 0.6392 - val_loss: 0.6429 - val_accuracy: 0.6200\n",
            "Epoch 19/1000\n",
            "300/300 [==============================] - 1s 2ms/step - loss: 0.6319 - accuracy: 0.6413 - val_loss: 0.6429 - val_accuracy: 0.6208\n",
            "Epoch 20/1000\n",
            "300/300 [==============================] - 1s 2ms/step - loss: 0.6317 - accuracy: 0.6418 - val_loss: 0.6432 - val_accuracy: 0.6158\n",
            "Epoch 21/1000\n",
            "300/300 [==============================] - 1s 2ms/step - loss: 0.6316 - accuracy: 0.6396 - val_loss: 0.6429 - val_accuracy: 0.6212\n",
            "Epoch 22/1000\n",
            "300/300 [==============================] - 1s 2ms/step - loss: 0.6316 - accuracy: 0.6406 - val_loss: 0.6430 - val_accuracy: 0.6204\n",
            "Epoch 23/1000\n",
            "300/300 [==============================] - 1s 2ms/step - loss: 0.6315 - accuracy: 0.6402 - val_loss: 0.6429 - val_accuracy: 0.6217\n",
            "Epoch 24/1000\n",
            "300/300 [==============================] - 1s 2ms/step - loss: 0.6314 - accuracy: 0.6413 - val_loss: 0.6432 - val_accuracy: 0.6167\n",
            "Epoch 25/1000\n",
            "300/300 [==============================] - 1s 2ms/step - loss: 0.6314 - accuracy: 0.6417 - val_loss: 0.6432 - val_accuracy: 0.6150\n",
            "Epoch 26/1000\n",
            "299/300 [============================>.] - ETA: 0s - loss: 0.6314 - accuracy: 0.6414Restoring model weights from the end of the best epoch: 21.\n",
            "300/300 [==============================] - 1s 2ms/step - loss: 0.6314 - accuracy: 0.6414 - val_loss: 0.6431 - val_accuracy: 0.6154\n",
            "Epoch 26: early stopping\n"
          ]
        }
      ],
      "source": [
        "hist1 = model_dl1.fit(x_train_s, y_train_tg, epochs=1000, verbose=1, validation_split=0.2, callbacks=[es])"
      ]
    },
    {
      "cell_type": "code",
      "source": [
        "plt.figure(figsize=(12,5))\n",
        "plt.plot(hist1.history['accuracy'], label='acc')\n",
        "plt.plot(hist1.history['val_accuracy'], label='val_acc')\n",
        "plt.legend()\n",
        "plt.show()"
      ],
      "metadata": {
        "colab": {
          "base_uri": "https://localhost:8080/",
          "height": 320
        },
        "id": "8LuYWvYEyeau",
        "outputId": "632269ed-8b5a-4386-bf2a-8ed17ca7403f"
      },
      "execution_count": 178,
      "outputs": [
        {
          "output_type": "display_data",
          "data": {
            "text/plain": [
              "<Figure size 864x360 with 1 Axes>"
            ],
            "image/png": "[encoded data removed]"
          },
          "metadata": {
            "needs_background": "light"
          }
        }
      ]
    },
    {
      "cell_type": "markdown",
      "metadata": {
        "id": "ankGeHxqZ_cx"
      },
      "source": [
        "#### (2) 모델2"
      ]
    },
    {
      "cell_type": "code",
      "execution_count": 179,
      "metadata": {
        "colab": {
          "base_uri": "https://localhost:8080/",
          "height": 1000
        },
        "id": "enGokYAkZ_cx",
        "outputId": "dbb5c7dd-420c-4632-9bdc-c2fca7ff11a7"
      },
      "outputs": [
        {
          "output_type": "stream",
          "name": "stdout",
          "text": [
            "Model: \"model\"\n",
            "_________________________________________________________________\n",
            " Layer (type)                Output Shape              Param #   \n",
            "=================================================================\n",
            " input_1 (InputLayer)        [(None, 18)]              0         \n",
            "                                                                 \n",
            " dense (Dense)               (None, 128)               2432      \n",
            "                                                                 \n",
            " dense_1 (Dense)             (None, 64)                8256      \n",
            "                                                                 \n",
            " dense_2 (Dense)             (None, 32)                2080      \n",
            "                                                                 \n",
            " dense_3 (Dense)             (None, 16)                528       \n",
            "                                                                 \n",
            " dense_4 (Dense)             (None, 2)                 34        \n",
            "                                                                 \n",
            "=================================================================\n",
            "Total params: 13,330\n",
            "Trainable params: 13,330\n",
            "Non-trainable params: 0\n",
            "_________________________________________________________________\n"
          ]
        },
        {
          "output_type": "execute_result",
          "data": {
            "text/plain": [
              "<IPython.core.display.Image object>"
            ],
            "image/png": "[encoded data removed]"
          },
          "metadata": {},
          "execution_count": 179
        }
      ],
      "source": [
        "keras.backend.clear_session()\n",
        "\n",
        "il = keras.layers.Input(shape=(18,))\n",
        "hl = keras.layers.Dense(128, activation='relu')(il)\n",
        "hl = keras.layers.Dense(64, activation='relu')(hl)\n",
        "hl = keras.layers.Dense(32, activation='relu')(hl)\n",
        "hl = keras.layers.Dense(16, activation='relu')(hl)\n",
        "ol = keras.layers.Dense(2, activation='sigmoid')(hl)\n",
        "\n",
        "model_dl2 = keras.models.Model(il, ol)\n",
        "\n",
        "model_dl2.compile(loss=keras.losses.binary_crossentropy, optimizer='nadam', metrics=['accuracy'])\n",
        "model_dl2.summary()\n",
        "keras.utils.plot_model(model_dl2, show_shapes=True)"
      ]
    },
    {
      "cell_type": "code",
      "execution_count": 180,
      "metadata": {
        "colab": {
          "base_uri": "https://localhost:8080/"
        },
        "id": "gLL6sNA8Z_cx",
        "outputId": "f261887d-9fc8-4ac0-e942-305b969a9bd7"
      },
      "outputs": [
        {
          "output_type": "stream",
          "name": "stdout",
          "text": [
            "Epoch 1/1000\n",
            "300/300 [==============================] - 2s 3ms/step - loss: 0.6475 - accuracy: 0.6266 - val_loss: 0.6373 - val_accuracy: 0.6404\n",
            "Epoch 2/1000\n",
            "300/300 [==============================] - 1s 2ms/step - loss: 0.6226 - accuracy: 0.6542 - val_loss: 0.6338 - val_accuracy: 0.6417\n",
            "Epoch 3/1000\n",
            "300/300 [==============================] - 1s 2ms/step - loss: 0.6152 - accuracy: 0.6635 - val_loss: 0.6373 - val_accuracy: 0.6500\n",
            "Epoch 4/1000\n",
            "300/300 [==============================] - 1s 2ms/step - loss: 0.6108 - accuracy: 0.6672 - val_loss: 0.6205 - val_accuracy: 0.6704\n",
            "Epoch 5/1000\n",
            "300/300 [==============================] - 1s 2ms/step - loss: 0.6069 - accuracy: 0.6710 - val_loss: 0.6255 - val_accuracy: 0.6621\n",
            "Epoch 6/1000\n",
            "300/300 [==============================] - 1s 2ms/step - loss: 0.6044 - accuracy: 0.6766 - val_loss: 0.6194 - val_accuracy: 0.6737\n",
            "Epoch 7/1000\n",
            "300/300 [==============================] - 1s 2ms/step - loss: 0.6026 - accuracy: 0.6752 - val_loss: 0.6244 - val_accuracy: 0.6629\n",
            "Epoch 8/1000\n",
            "300/300 [==============================] - 1s 2ms/step - loss: 0.5986 - accuracy: 0.6822 - val_loss: 0.6243 - val_accuracy: 0.6717\n",
            "Epoch 9/1000\n",
            "300/300 [==============================] - 1s 2ms/step - loss: 0.5959 - accuracy: 0.6844 - val_loss: 0.6224 - val_accuracy: 0.6733\n",
            "Epoch 10/1000\n",
            "300/300 [==============================] - 1s 2ms/step - loss: 0.5931 - accuracy: 0.6885 - val_loss: 0.6195 - val_accuracy: 0.6671\n",
            "Epoch 11/1000\n",
            "300/300 [==============================] - 1s 2ms/step - loss: 0.5895 - accuracy: 0.6889 - val_loss: 0.6174 - val_accuracy: 0.6771\n",
            "Epoch 12/1000\n",
            "300/300 [==============================] - 1s 2ms/step - loss: 0.5863 - accuracy: 0.6919 - val_loss: 0.6178 - val_accuracy: 0.6754\n",
            "Epoch 13/1000\n",
            "300/300 [==============================] - 1s 2ms/step - loss: 0.5831 - accuracy: 0.6950 - val_loss: 0.6201 - val_accuracy: 0.6717\n",
            "Epoch 14/1000\n",
            "300/300 [==============================] - 1s 2ms/step - loss: 0.5785 - accuracy: 0.7007 - val_loss: 0.6250 - val_accuracy: 0.6654\n",
            "Epoch 15/1000\n",
            "300/300 [==============================] - 1s 2ms/step - loss: 0.5746 - accuracy: 0.7028 - val_loss: 0.6178 - val_accuracy: 0.6658\n",
            "Epoch 16/1000\n",
            "299/300 [============================>.] - ETA: 0s - loss: 0.5712 - accuracy: 0.7021Restoring model weights from the end of the best epoch: 11.\n",
            "300/300 [==============================] - 1s 2ms/step - loss: 0.5709 - accuracy: 0.7025 - val_loss: 0.6222 - val_accuracy: 0.6629\n",
            "Epoch 16: early stopping\n"
          ]
        }
      ],
      "source": [
        "hist2 = model_dl2.fit(x_train_s, y_train_tg, epochs=1000, verbose=1, validation_split=0.2, callbacks=[es])"
      ]
    },
    {
      "cell_type": "code",
      "execution_count": 181,
      "metadata": {
        "colab": {
          "base_uri": "https://localhost:8080/",
          "height": 320
        },
        "id": "3JVJ2zV3Z_cx",
        "outputId": "e47a7fab-f279-4fc7-b8e9-6513083fc9dc"
      },
      "outputs": [
        {
          "output_type": "display_data",
          "data": {
            "text/plain": [
              "<Figure size 864x360 with 1 Axes>"
            ],
            "image/png": "[encoded data removed]"
          },
          "metadata": {
            "needs_background": "light"
          }
        }
      ],
      "source": [
        "plt.figure(figsize=(12,5))\n",
        "plt.plot(hist2.history['accuracy'], label='acc')\n",
        "plt.plot(hist2.history['val_accuracy'], label='val_acc')\n",
        "plt.legend()\n",
        "plt.show()"
      ]
    },
    {
      "cell_type": "markdown",
      "metadata": {
        "id": "gv9zzj-kZ_cy"
      },
      "source": [
        "#### (3) 모델3"
      ]
    },
    {
      "cell_type": "code",
      "execution_count": 182,
      "metadata": {
        "colab": {
          "base_uri": "https://localhost:8080/",
          "height": 1000
        },
        "id": "ahs4nuNhZ_cy",
        "outputId": "10360f3a-4574-4bdf-bb7c-42380bf9d5eb"
      },
      "outputs": [
        {
          "output_type": "stream",
          "name": "stdout",
          "text": [
            "Model: \"model\"\n",
            "_________________________________________________________________\n",
            " Layer (type)                Output Shape              Param #   \n",
            "=================================================================\n",
            " input_1 (InputLayer)        [(None, 18)]              0         \n",
            "                                                                 \n",
            " dense (Dense)               (None, 256)               4864      \n",
            "                                                                 \n",
            " dense_1 (Dense)             (None, 128)               32896     \n",
            "                                                                 \n",
            " dense_2 (Dense)             (None, 64)                8256      \n",
            "                                                                 \n",
            " dense_3 (Dense)             (None, 32)                2080      \n",
            "                                                                 \n",
            " dense_4 (Dense)             (None, 16)                528       \n",
            "                                                                 \n",
            " dense_5 (Dense)             (None, 2)                 34        \n",
            "                                                                 \n",
            "=================================================================\n",
            "Total params: 48,658\n",
            "Trainable params: 48,658\n",
            "Non-trainable params: 0\n",
            "_________________________________________________________________\n"
          ]
        },
        {
          "output_type": "execute_result",
          "data": {
            "text/plain": [
              "<IPython.core.display.Image object>"
            ],
            "image/png": "[encoded data removed]"
          },
          "metadata": {},
          "execution_count": 182
        }
      ],
      "source": [
        "keras.backend.clear_session()\n",
        "\n",
        "il = keras.layers.Input(shape=(18,))\n",
        "hl = keras.layers.Dense(256, activation='swish')(il)\n",
        "hl = keras.layers.Dense(128, activation='swish')(hl)\n",
        "hl = keras.layers.Dense(64, activation='swish')(hl)\n",
        "hl = keras.layers.Dense(32, activation='swish')(hl)\n",
        "hl = keras.layers.Dense(16, activation='swish')(hl)\n",
        "ol = keras.layers.Dense(2, activation='sigmoid')(hl)\n",
        "\n",
        "model_dl3 = keras.models.Model(il, ol)\n",
        "\n",
        "model_dl3.compile(loss=keras.losses.binary_crossentropy, optimizer='nadam', metrics=['accuracy'])\n",
        "model_dl3.summary()\n",
        "keras.utils.plot_model(model_dl3, show_shapes=True)"
      ]
    },
    {
      "cell_type": "code",
      "execution_count": 183,
      "metadata": {
        "colab": {
          "base_uri": "https://localhost:8080/"
        },
        "id": "YowxVKK2Z_cy",
        "outputId": "71225bcc-97c2-47fc-b2f6-f2a424410332"
      },
      "outputs": [
        {
          "output_type": "stream",
          "name": "stdout",
          "text": [
            "Epoch 1/1000\n",
            "300/300 [==============================] - 3s 4ms/step - loss: 0.6442 - accuracy: 0.6269 - val_loss: 0.6422 - val_accuracy: 0.6279\n",
            "Epoch 2/1000\n",
            "300/300 [==============================] - 1s 3ms/step - loss: 0.6333 - accuracy: 0.6391 - val_loss: 0.6445 - val_accuracy: 0.6283\n",
            "Epoch 3/1000\n",
            "300/300 [==============================] - 1s 3ms/step - loss: 0.6252 - accuracy: 0.6504 - val_loss: 0.6244 - val_accuracy: 0.6546\n",
            "Epoch 4/1000\n",
            "300/300 [==============================] - 1s 3ms/step - loss: 0.6194 - accuracy: 0.6584 - val_loss: 0.6197 - val_accuracy: 0.6629\n",
            "Epoch 5/1000\n",
            "300/300 [==============================] - 1s 3ms/step - loss: 0.6162 - accuracy: 0.6572 - val_loss: 0.6194 - val_accuracy: 0.6658\n",
            "Epoch 6/1000\n",
            "300/300 [==============================] - 1s 3ms/step - loss: 0.6142 - accuracy: 0.6636 - val_loss: 0.6178 - val_accuracy: 0.6725\n",
            "Epoch 7/1000\n",
            "300/300 [==============================] - 1s 3ms/step - loss: 0.6112 - accuracy: 0.6624 - val_loss: 0.6269 - val_accuracy: 0.6600\n",
            "Epoch 8/1000\n",
            "300/300 [==============================] - 1s 3ms/step - loss: 0.6122 - accuracy: 0.6625 - val_loss: 0.6229 - val_accuracy: 0.6633\n",
            "Epoch 9/1000\n",
            "300/300 [==============================] - 1s 3ms/step - loss: 0.6101 - accuracy: 0.6678 - val_loss: 0.6200 - val_accuracy: 0.6654\n",
            "Epoch 10/1000\n",
            "300/300 [==============================] - 1s 3ms/step - loss: 0.6099 - accuracy: 0.6696 - val_loss: 0.6216 - val_accuracy: 0.6600\n",
            "Epoch 11/1000\n",
            "300/300 [==============================] - 1s 3ms/step - loss: 0.6088 - accuracy: 0.6717 - val_loss: 0.6173 - val_accuracy: 0.6679\n",
            "Epoch 12/1000\n",
            "300/300 [==============================] - 1s 3ms/step - loss: 0.6088 - accuracy: 0.6680 - val_loss: 0.6214 - val_accuracy: 0.6646\n",
            "Epoch 13/1000\n",
            "300/300 [==============================] - 1s 3ms/step - loss: 0.6077 - accuracy: 0.6720 - val_loss: 0.6228 - val_accuracy: 0.6671\n",
            "Epoch 14/1000\n",
            "300/300 [==============================] - 1s 3ms/step - loss: 0.6068 - accuracy: 0.6721 - val_loss: 0.6154 - val_accuracy: 0.6675\n",
            "Epoch 15/1000\n",
            "300/300 [==============================] - 1s 3ms/step - loss: 0.6042 - accuracy: 0.6750 - val_loss: 0.6201 - val_accuracy: 0.6587\n",
            "Epoch 16/1000\n",
            "300/300 [==============================] - 1s 3ms/step - loss: 0.6018 - accuracy: 0.6781 - val_loss: 0.6104 - val_accuracy: 0.6679\n",
            "Epoch 17/1000\n",
            "300/300 [==============================] - 1s 3ms/step - loss: 0.5968 - accuracy: 0.6807 - val_loss: 0.6107 - val_accuracy: 0.6612\n",
            "Epoch 18/1000\n",
            "300/300 [==============================] - 1s 3ms/step - loss: 0.5906 - accuracy: 0.6865 - val_loss: 0.6000 - val_accuracy: 0.6787\n",
            "Epoch 19/1000\n",
            "300/300 [==============================] - 1s 3ms/step - loss: 0.5875 - accuracy: 0.6896 - val_loss: 0.6002 - val_accuracy: 0.6800\n",
            "Epoch 20/1000\n",
            "300/300 [==============================] - 1s 3ms/step - loss: 0.5841 - accuracy: 0.6956 - val_loss: 0.6011 - val_accuracy: 0.6779\n",
            "Epoch 21/1000\n",
            "300/300 [==============================] - 1s 3ms/step - loss: 0.5835 - accuracy: 0.6968 - val_loss: 0.5974 - val_accuracy: 0.6837\n",
            "Epoch 22/1000\n",
            "300/300 [==============================] - 1s 3ms/step - loss: 0.5815 - accuracy: 0.6917 - val_loss: 0.6028 - val_accuracy: 0.6821\n",
            "Epoch 23/1000\n",
            "300/300 [==============================] - 1s 3ms/step - loss: 0.5804 - accuracy: 0.6984 - val_loss: 0.6048 - val_accuracy: 0.6762\n",
            "Epoch 24/1000\n",
            "300/300 [==============================] - 1s 3ms/step - loss: 0.5791 - accuracy: 0.6983 - val_loss: 0.6014 - val_accuracy: 0.6750\n",
            "Epoch 25/1000\n",
            "300/300 [==============================] - 1s 3ms/step - loss: 0.5761 - accuracy: 0.7011 - val_loss: 0.6028 - val_accuracy: 0.6746\n",
            "Epoch 26/1000\n",
            "292/300 [============================>.] - ETA: 0s - loss: 0.5743 - accuracy: 0.7042Restoring model weights from the end of the best epoch: 21.\n",
            "300/300 [==============================] - 1s 3ms/step - loss: 0.5752 - accuracy: 0.7034 - val_loss: 0.5995 - val_accuracy: 0.6812\n",
            "Epoch 26: early stopping\n"
          ]
        }
      ],
      "source": [
        "hist3 = model_dl3.fit(x_train_s, y_train_tg, epochs=1000, verbose=1, validation_split=0.2, callbacks=[es])"
      ]
    },
    {
      "cell_type": "code",
      "execution_count": 184,
      "metadata": {
        "colab": {
          "base_uri": "https://localhost:8080/",
          "height": 320
        },
        "id": "wuiGmGfMZ_cz",
        "outputId": "17425260-d159-4c45-c4cf-5e7cf9919526"
      },
      "outputs": [
        {
          "output_type": "display_data",
          "data": {
            "text/plain": [
              "<Figure size 864x360 with 1 Axes>"
            ],
            "image/png": "[encoded data removed]"
          },
          "metadata": {
            "needs_background": "light"
          }
        }
      ],
      "source": [
        "plt.figure(figsize=(12, 5))\n",
        "\n",
        "plt.plot(hist3.history['accuracy'], label='acc')\n",
        "plt.plot(hist3.history['val_accuracy'], label='val_acc')\n",
        "plt.legend()\n",
        "plt.show()"
      ]
    },
    {
      "cell_type": "markdown",
      "metadata": {
        "id": "uEFoY7iXZ_cz"
      },
      "source": [
        "#### (4) 딥러닝 모델 성능 비교"
      ]
    },
    {
      "cell_type": "code",
      "execution_count": 198,
      "metadata": {
        "colab": {
          "base_uri": "https://localhost:8080/"
        },
        "id": "NAGaTnwIZ_cz",
        "outputId": "b019d84e-d5a7-4746-9e38-581047bf0c3a"
      },
      "outputs": [
        {
          "output_type": "stream",
          "name": "stdout",
          "text": [
            "              precision    recall  f1-score   support\n",
            "\n",
            "           0       0.53      0.50      0.51      1540\n",
            "           1       0.50      0.52      0.51      1460\n",
            "\n",
            "    accuracy                           0.51      3000\n",
            "   macro avg       0.51      0.51      0.51      3000\n",
            "weighted avg       0.51      0.51      0.51      3000\n",
            "\n"
          ]
        }
      ],
      "source": [
        "y_pred_dl1 = model_dl1.predict(x_val_s)\n",
        "\n",
        "pred_test1 = np.argmax(y_pred_dl1, axis=1)\n",
        "y_test_dl1 = np.argmax(y_test_tg, axis=1)\n",
        "\n",
        "print(classification_report(y_test_dl1, pred_test1))"
      ]
    },
    {
      "cell_type": "code",
      "execution_count": 199,
      "metadata": {
        "colab": {
          "base_uri": "https://localhost:8080/"
        },
        "id": "mhWlHacpZ_cz",
        "outputId": "b20d42fb-f9ab-40a2-dc5c-76ae2927fbad"
      },
      "outputs": [
        {
          "output_type": "stream",
          "name": "stdout",
          "text": [
            "              precision    recall  f1-score   support\n",
            "\n",
            "           0       0.52      0.53      0.53      1540\n",
            "           1       0.50      0.49      0.49      1460\n",
            "\n",
            "    accuracy                           0.51      3000\n",
            "   macro avg       0.51      0.51      0.51      3000\n",
            "weighted avg       0.51      0.51      0.51      3000\n",
            "\n"
          ]
        }
      ],
      "source": [
        "y_pred_dl2 = model_dl2.predict(x_val_s)\n",
        "\n",
        "pred_test2 = np.argmax(y_pred_dl2, axis=1)\n",
        "y_test_dl2 = np.argmax(y_test_tg, axis=1)\n",
        "\n",
        "print(classification_report(y_test_dl2, pred_test2))"
      ]
    },
    {
      "cell_type": "code",
      "execution_count": 200,
      "metadata": {
        "colab": {
          "base_uri": "https://localhost:8080/"
        },
        "id": "4UA18mnYZ_c0",
        "outputId": "5989b83d-8837-49b0-9588-74b13ff83729"
      },
      "outputs": [
        {
          "output_type": "stream",
          "name": "stdout",
          "text": [
            "              precision    recall  f1-score   support\n",
            "\n",
            "           0       0.53      0.52      0.52      1540\n",
            "           1       0.50      0.50      0.50      1460\n",
            "\n",
            "    accuracy                           0.51      3000\n",
            "   macro avg       0.51      0.51      0.51      3000\n",
            "weighted avg       0.51      0.51      0.51      3000\n",
            "\n"
          ]
        }
      ],
      "source": [
        "y_pred_dl3 = model_dl3.predict(x_val_s)\n",
        "\n",
        "pred_test3 = np.argmax(y_pred_dl3, axis=1)\n",
        "y_test_dl3 = np.argmax(y_test_tg, axis=1)\n",
        "\n",
        "print(classification_report(y_test_dl3, pred_test3))"
      ]
    },
    {
      "cell_type": "markdown",
      "metadata": {
        "id": "U4UL4ynYL6Ly"
      },
      "source": [
        "## 5.성능 비교\n",
        "* 총 모델이 최소한 ML 3가지, DL 3가지 입니다. 이에 대해 성능을 평가합니다.\n",
        "* 평가를 위한 적절한 지표(metric)을 결정하고 비교합니다.\n",
        "    * **평가지표 선정 이유**를 주석으로 기술하시오.\n",
        "* 최종 모델을 **선정하게 된 근거**를 주석으로 기술하시오."
      ]
    },
    {
      "cell_type": "markdown",
      "metadata": {
        "id": "lKA2UyB6HXfF"
      },
      "source": [
        "### 5.1 평가지표 결정\n",
        "\n",
        "* 어떤 지표로 성능을 비교할지 결정합니다.\n",
        "* 결정 이유를 기술합니다."
      ]
    },
    {
      "cell_type": "markdown",
      "source": [
        "> 제시된 목표는 현재 고객수 유지를 위해 고객 이탈을 막는 것\n",
        "\n",
        "> 고객 이탈 여부를 정확히 아는 것이 필요함\n",
        "\n",
        "> 그러므로 모델을 설계했을 때 실제 이탈 고객을 True(번호이동을 함)라고 정확히 인식하는 것이 중요함\n",
        "\n",
        "> 따라서 평가지표로 Recall을 사용하기로 결정함"
      ],
      "metadata": {
        "id": "lhaiHp4u5bOy"
      }
    },
    {
      "cell_type": "markdown",
      "metadata": {
        "id": "-hOx7i2sHi1U"
      },
      "source": [
        "### 5.2 성능 비교\n",
        "\n",
        "* 성능을 비교하고, 최적의 모델을 선정하시오.\n",
        "* 선정 근거를 주석으로 기술하시오."
      ]
    },
    {
      "cell_type": "markdown",
      "source": [
        "> 머신러닝 모델들의 실제 성능(y_test 활용)"
      ],
      "metadata": {
        "id": "5in8W7sA9LGS"
      }
    },
    {
      "cell_type": "code",
      "execution_count": 188,
      "metadata": {
        "id": "-5u35plvO9lg",
        "colab": {
          "base_uri": "https://localhost:8080/"
        },
        "outputId": "5b30934a-e703-489e-d895-1237d9eced79"
      },
      "outputs": [
        {
          "output_type": "stream",
          "name": "stdout",
          "text": [
            "              precision    recall  f1-score   support\n",
            "\n",
            "           0       0.33      0.52      0.40       979\n",
            "           1       0.68      0.49      0.57      2021\n",
            "\n",
            "    accuracy                           0.50      3000\n",
            "   macro avg       0.50      0.50      0.49      3000\n",
            "weighted avg       0.56      0.50      0.51      3000\n",
            "\n"
          ]
        }
      ],
      "source": [
        "y_pred_dt = model_dt.predict(x_val)\n",
        "print(classification_report(y_pred_dt, y_test))"
      ]
    },
    {
      "cell_type": "code",
      "execution_count": 189,
      "metadata": {
        "id": "PGDTpeunO9ce",
        "colab": {
          "base_uri": "https://localhost:8080/"
        },
        "outputId": "d3f41111-11e5-48b9-b594-d3f1ccf1f4e1"
      },
      "outputs": [
        {
          "output_type": "stream",
          "name": "stdout",
          "text": [
            "              precision    recall  f1-score   support\n",
            "\n",
            "           0       0.50      0.52      0.51      1491\n",
            "           1       0.51      0.49      0.50      1509\n",
            "\n",
            "    accuracy                           0.50      3000\n",
            "   macro avg       0.50      0.50      0.50      3000\n",
            "weighted avg       0.50      0.50      0.50      3000\n",
            "\n"
          ]
        }
      ],
      "source": [
        "y_pred_rf = model_rf.predict(x_val)\n",
        "print(classification_report(y_pred_rf, y_test))"
      ]
    },
    {
      "cell_type": "code",
      "execution_count": 190,
      "metadata": {
        "id": "pD7PsU9sO9Zo",
        "colab": {
          "base_uri": "https://localhost:8080/"
        },
        "outputId": "62731776-465b-494b-c275-5080713c8169"
      },
      "outputs": [
        {
          "output_type": "stream",
          "name": "stdout",
          "text": [
            "              precision    recall  f1-score   support\n",
            "\n",
            "           0       0.33      0.52      0.40       979\n",
            "           1       0.68      0.49      0.57      2021\n",
            "\n",
            "    accuracy                           0.50      3000\n",
            "   macro avg       0.50      0.50      0.49      3000\n",
            "weighted avg       0.56      0.50      0.51      3000\n",
            "\n"
          ]
        }
      ],
      "source": [
        "y_pred_xgb = model_xgb.predict(x_val)\n",
        "print(classification_report(y_pred_xgb, y_test))"
      ]
    },
    {
      "cell_type": "markdown",
      "source": [
        "> 1(이탈) 의 recall값을 비교해봤을 때 딥러닝 모델 3의 recall값이 가장 높게 나옴\n",
        "\n",
        "> 평가지표로 recall을 결정했기 때문에 결과값이 가장 높은 모델이 성능이 좋을 것이라고 판단\n",
        "\n",
        "> 따라서 현재까지 설계한 6개의 모델 중에서 딥러닝 모델 3을 채택함"
      ],
      "metadata": {
        "id": "btN_V_xT-HLL"
      }
    },
    {
      "cell_type": "markdown",
      "metadata": {
        "id": "MI56PR0BZ_c1"
      },
      "source": [
        "### 5.3 추가 분석 및 의견"
      ]
    },
    {
      "cell_type": "markdown",
      "metadata": {
        "id": "kXk1f3TEH77-"
      },
      "source": [
        "* 성능을 한눈에 비교할 수 있는 방법을 고안해서 수행해 봅시다."
      ]
    },
    {
      "cell_type": "code",
      "execution_count": 201,
      "metadata": {
        "id": "lSzMy95DPwOl"
      },
      "outputs": [],
      "source": [
        "score3 = recall_score(y_test_dl1, pred_test1).round(3)\n",
        "score4 = recall_score(y_test_dl2, pred_test2).round(3)\n",
        "score5 = recall_score(y_test_dl3, pred_test3).round(3)\n",
        "\n",
        "result['Deep Learning 1 re'] = score3\n",
        "result['Deep Learning 2 re'] = score4\n",
        "result['Deep Learning 3 re'] = score5"
      ]
    },
    {
      "cell_type": "code",
      "source": [
        "result"
      ],
      "metadata": {
        "colab": {
          "base_uri": "https://localhost:8080/"
        },
        "id": "XQx8c6YzAdVm",
        "outputId": "c247fe8e-0969-49cc-89ec-cc18e8b9dc62"
      },
      "execution_count": 202,
      "outputs": [
        {
          "output_type": "execute_result",
          "data": {
            "text/plain": [
              "{'Decision Tree ac': 0.624,\n",
              " 'Decision Tree re': 0.801,\n",
              " 'Deep Learning 1 re': 0.519,\n",
              " 'Deep Learning 2 re': 0.487,\n",
              " 'Deep Learning 3 re': 0.501,\n",
              " 'Randon Forest ac': 0.698,\n",
              " 'Randon Forest re': 0.704,\n",
              " 'XGBoost ac': 0.624,\n",
              " 'XGBoost re': 0.801}"
            ]
          },
          "metadata": {},
          "execution_count": 202
        }
      ]
    },
    {
      "cell_type": "markdown",
      "metadata": {
        "id": "sTGn4JaQPC6W"
      },
      "source": [
        "* 여러분의 선정한 모델로 비즈니스 문제를 해결할 수 있을까요? 여러분의 의견을 적어 봅시다."
      ]
    },
    {
      "cell_type": "markdown",
      "source": [
        "> 모델 성능을 좀 더 개선해 recall값을 높히면 사용할 수 있을 것이라고 생각함"
      ],
      "metadata": {
        "id": "Lh6NtxQzDcM9"
      }
    },
    {
      "cell_type": "markdown",
      "metadata": {
        "id": "hTm1XJYkZ_c2"
      },
      "source": [
        "* 비즈니스 문제 해결을 위해서 더 해볼 수 있는 것은 무엇인가요?"
      ]
    },
    {
      "cell_type": "code",
      "execution_count": 204,
      "metadata": {
        "colab": {
          "base_uri": "https://localhost:8080/",
          "height": 1000
        },
        "id": "Ys_UlRUiZ_c2",
        "outputId": "601e0537-c633-400e-e8e9-09561a21fc3f"
      },
      "outputs": [
        {
          "output_type": "stream",
          "name": "stdout",
          "text": [
            "Model: \"model\"\n",
            "_________________________________________________________________\n",
            " Layer (type)                Output Shape              Param #   \n",
            "=================================================================\n",
            " input_1 (InputLayer)        [(None, 18)]              0         \n",
            "                                                                 \n",
            " dense (Dense)               (None, 512)               9728      \n",
            "                                                                 \n",
            " dense_1 (Dense)             (None, 256)               131328    \n",
            "                                                                 \n",
            " dense_2 (Dense)             (None, 128)               32896     \n",
            "                                                                 \n",
            " dense_3 (Dense)             (None, 64)                8256      \n",
            "                                                                 \n",
            " dense_4 (Dense)             (None, 32)                2080      \n",
            "                                                                 \n",
            " dense_5 (Dense)             (None, 16)                528       \n",
            "                                                                 \n",
            " dense_6 (Dense)             (None, 8)                 136       \n",
            "                                                                 \n",
            " dense_7 (Dense)             (None, 2)                 18        \n",
            "                                                                 \n",
            "=================================================================\n",
            "Total params: 184,970\n",
            "Trainable params: 184,970\n",
            "Non-trainable params: 0\n",
            "_________________________________________________________________\n"
          ]
        },
        {
          "output_type": "execute_result",
          "data": {
            "text/plain": [
              "<IPython.core.display.Image object>"
            ],
            "image/png": "[encoded data removed]"
          },
          "metadata": {},
          "execution_count": 204
        }
      ],
      "source": [
        "# 딥러닝 3번 모델 추가 개선\n",
        "keras.backend.clear_session()\n",
        "\n",
        "il = keras.layers.Input(shape=(18,))\n",
        "hl = keras.layers.Dense(512, activation='swish')(il)\n",
        "hl = keras.layers.Dense(256, activation='swish')(hl)\n",
        "hl = keras.layers.Dense(128, activation='swish')(hl)\n",
        "hl = keras.layers.Dense(64, activation='swish')(hl)\n",
        "hl = keras.layers.Dense(32, activation='swish')(hl)\n",
        "hl = keras.layers.Dense(16, activation='swish')(hl)\n",
        "hl = keras.layers.Dense(8, activation='swish')(hl)\n",
        "ol = keras.layers.Dense(2, activation='sigmoid')(hl)\n",
        "\n",
        "model_dl4 = keras.models.Model(il, ol)\n",
        "\n",
        "model_dl4.compile(loss=keras.losses.binary_crossentropy, optimizer='nadam', metrics=['accuracy'])\n",
        "model_dl4.summary()\n",
        "keras.utils.plot_model(model_dl4, show_shapes=True)"
      ]
    },
    {
      "cell_type": "code",
      "source": [
        "hist4 = model_dl4.fit(x_train_s, y_train_tg, epochs=1000, verbose=1, validation_split=0.2, callbacks=[es])"
      ],
      "metadata": {
        "colab": {
          "base_uri": "https://localhost:8080/"
        },
        "id": "Yub_g-D5DuaQ",
        "outputId": "25ef878e-82d6-449f-9aa7-af597c7b25d3"
      },
      "execution_count": 205,
      "outputs": [
        {
          "output_type": "stream",
          "name": "stdout",
          "text": [
            "Epoch 1/1000\n",
            "300/300 [==============================] - 5s 8ms/step - loss: 0.6454 - accuracy: 0.6251 - val_loss: 0.6431 - val_accuracy: 0.6233\n",
            "Epoch 2/1000\n",
            "300/300 [==============================] - 2s 6ms/step - loss: 0.6306 - accuracy: 0.6388 - val_loss: 0.6372 - val_accuracy: 0.6404\n",
            "Epoch 3/1000\n",
            "300/300 [==============================] - 2s 6ms/step - loss: 0.6215 - accuracy: 0.6541 - val_loss: 0.6206 - val_accuracy: 0.6633\n",
            "Epoch 4/1000\n",
            "300/300 [==============================] - 2s 6ms/step - loss: 0.6180 - accuracy: 0.6567 - val_loss: 0.6190 - val_accuracy: 0.6612\n",
            "Epoch 5/1000\n",
            "300/300 [==============================] - 2s 6ms/step - loss: 0.6144 - accuracy: 0.6610 - val_loss: 0.6224 - val_accuracy: 0.6612\n",
            "Epoch 6/1000\n",
            "300/300 [==============================] - 2s 6ms/step - loss: 0.6134 - accuracy: 0.6650 - val_loss: 0.6227 - val_accuracy: 0.6571\n",
            "Epoch 7/1000\n",
            "300/300 [==============================] - 2s 6ms/step - loss: 0.6134 - accuracy: 0.6647 - val_loss: 0.6146 - val_accuracy: 0.6704\n",
            "Epoch 8/1000\n",
            "300/300 [==============================] - 2s 6ms/step - loss: 0.6109 - accuracy: 0.6702 - val_loss: 0.6158 - val_accuracy: 0.6629\n",
            "Epoch 9/1000\n",
            "300/300 [==============================] - 2s 6ms/step - loss: 0.6101 - accuracy: 0.6717 - val_loss: 0.6146 - val_accuracy: 0.6671\n",
            "Epoch 10/1000\n",
            "300/300 [==============================] - 2s 6ms/step - loss: 0.6081 - accuracy: 0.6667 - val_loss: 0.6164 - val_accuracy: 0.6667\n",
            "Epoch 11/1000\n",
            "300/300 [==============================] - 2s 6ms/step - loss: 0.6068 - accuracy: 0.6723 - val_loss: 0.6162 - val_accuracy: 0.6646\n",
            "Epoch 12/1000\n",
            "300/300 [==============================] - 2s 6ms/step - loss: 0.6033 - accuracy: 0.6757 - val_loss: 0.6112 - val_accuracy: 0.6667\n",
            "Epoch 13/1000\n",
            "300/300 [==============================] - 2s 6ms/step - loss: 0.6005 - accuracy: 0.6769 - val_loss: 0.6068 - val_accuracy: 0.6729\n",
            "Epoch 14/1000\n",
            "300/300 [==============================] - 2s 6ms/step - loss: 0.6011 - accuracy: 0.6781 - val_loss: 0.6020 - val_accuracy: 0.6721\n",
            "Epoch 15/1000\n",
            "300/300 [==============================] - 2s 6ms/step - loss: 0.5982 - accuracy: 0.6776 - val_loss: 0.6040 - val_accuracy: 0.6733\n",
            "Epoch 16/1000\n",
            "300/300 [==============================] - 2s 6ms/step - loss: 0.5961 - accuracy: 0.6736 - val_loss: 0.6049 - val_accuracy: 0.6658\n",
            "Epoch 17/1000\n",
            "300/300 [==============================] - 2s 6ms/step - loss: 0.5947 - accuracy: 0.6794 - val_loss: 0.6044 - val_accuracy: 0.6650\n",
            "Epoch 18/1000\n",
            "300/300 [==============================] - 2s 6ms/step - loss: 0.5941 - accuracy: 0.6787 - val_loss: 0.6046 - val_accuracy: 0.6729\n",
            "Epoch 19/1000\n",
            "300/300 [==============================] - 2s 6ms/step - loss: 0.5928 - accuracy: 0.6830 - val_loss: 0.5983 - val_accuracy: 0.6733\n",
            "Epoch 20/1000\n",
            "300/300 [==============================] - 2s 6ms/step - loss: 0.5918 - accuracy: 0.6847 - val_loss: 0.6000 - val_accuracy: 0.6725\n",
            "Epoch 21/1000\n",
            "300/300 [==============================] - 2s 6ms/step - loss: 0.5917 - accuracy: 0.6807 - val_loss: 0.6035 - val_accuracy: 0.6696\n",
            "Epoch 22/1000\n",
            "300/300 [==============================] - 2s 6ms/step - loss: 0.5907 - accuracy: 0.6794 - val_loss: 0.5998 - val_accuracy: 0.6725\n",
            "Epoch 23/1000\n",
            "300/300 [==============================] - 2s 6ms/step - loss: 0.5899 - accuracy: 0.6831 - val_loss: 0.6020 - val_accuracy: 0.6742\n",
            "Epoch 24/1000\n",
            "297/300 [============================>.] - ETA: 0s - loss: 0.5858 - accuracy: 0.6870Restoring model weights from the end of the best epoch: 19.\n",
            "300/300 [==============================] - 2s 6ms/step - loss: 0.5860 - accuracy: 0.6870 - val_loss: 0.6081 - val_accuracy: 0.6596\n",
            "Epoch 24: early stopping\n"
          ]
        }
      ]
    },
    {
      "cell_type": "code",
      "source": [
        "y_pred_dl4 = model_dl4.predict(x_val_s)\n",
        "\n",
        "pred_test4 = np.argmax(y_pred_dl4, axis=1)\n",
        "y_test_dl4 = np.argmax(y_test_tg, axis=1)\n",
        "\n",
        "print(classification_report(y_test_dl4, pred_test4))"
      ],
      "metadata": {
        "colab": {
          "base_uri": "https://localhost:8080/"
        },
        "id": "lT1XYswRDz9r",
        "outputId": "84c42cc2-5f5a-4743-a1d6-b9e9c0e2294a"
      },
      "execution_count": 206,
      "outputs": [
        {
          "output_type": "stream",
          "name": "stdout",
          "text": [
            "              precision    recall  f1-score   support\n",
            "\n",
            "           0       0.51      0.48      0.50      1540\n",
            "           1       0.49      0.52      0.50      1460\n",
            "\n",
            "    accuracy                           0.50      3000\n",
            "   macro avg       0.50      0.50      0.50      3000\n",
            "weighted avg       0.50      0.50      0.50      3000\n",
            "\n"
          ]
        }
      ]
    },
    {
      "cell_type": "markdown",
      "source": [
        "> 성능이 조금 더 개선됨을 확인"
      ],
      "metadata": {
        "id": "1V7nq4bjEL7b"
      }
    }
  ],
  "metadata": {
    "colab": {
      "collapsed_sections": [],
      "name": "과제3. 이동통신 고객 이탈 예측.ipynb",
      "provenance": [],
      "toc_visible": true
    },
    "kernelspec": {
      "display_name": "Python 3",
      "language": "python",
      "name": "python3"
    },
    "language_info": {
      "codemirror_mode": {
        "name": "ipython",
        "version": 3
      },
      "file_extension": ".py",
      "mimetype": "text/x-python",
      "name": "python",
      "nbconvert_exporter": "python",
      "pygments_lexer": "ipython3",
      "version": "3.8.8"
    }
  },
  "nbformat": 4,
  "nbformat_minor": 0
}