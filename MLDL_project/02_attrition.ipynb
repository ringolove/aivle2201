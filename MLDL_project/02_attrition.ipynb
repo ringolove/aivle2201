{
  "cells": [
    {
      "cell_type": "markdown",
      "metadata": {
        "id": "mTt7qGUTCcFs"
      },
      "source": [
        "# 과제#2. 직원 이직 예측"
      ]
    },
    {
      "cell_type": "markdown",
      "metadata": {
        "id": "t42CZ_o2iHvT"
      },
      "source": [
        "* 회사 인사팀에서는 AIVLER 들에게 직원의 이직여부과 관련해서 분석을 요청하였습니다.\n",
        "* 최근 이직율이 증가하는 것에 대해 우려를 갖고 있기에, 이직여부에 영향을 주는 요인에 대해 분석하여, 이직할 것으로 보이는 직원들에 대해 회사를 떠나지 않도록 인사 프로그램을 준비하려고 합니다.\n",
        "* 어떤 직원이 이직할지 예측해 봅시다."
      ]
    },
    {
      "cell_type": "markdown",
      "metadata": {
        "id": "0wuYJKZHjA3d"
      },
      "source": [
        "![](https://adoptostaging.blob.core.windows.net/media/employee-attrition-reasons-9LIqMv.jpg)"
      ]
    },
    {
      "cell_type": "markdown",
      "metadata": {
        "id": "AHmt88Q5EVsj"
      },
      "source": [
        "## 0.환경설정"
      ]
    },
    {
      "cell_type": "markdown",
      "metadata": {
        "id": "KnzVh2LmkLDU"
      },
      "source": [
        "### 1) 라이브러리 로딩"
      ]
    },
    {
      "cell_type": "code",
      "execution_count": 493,
      "metadata": {
        "id": "3rsQerEaELwI"
      },
      "outputs": [],
      "source": [
        "# 기본 라이브러리 가져오기\n",
        "import pandas as pd\n",
        "import numpy as np\n",
        "\n",
        "import matplotlib.pyplot as plt\n",
        "import seaborn as sns\n",
        "\n",
        "from sklearn.model_selection import train_test_split    "
      ]
    },
    {
      "cell_type": "markdown",
      "metadata": {
        "id": "5Qh5KYWokO_N"
      },
      "source": [
        "### 2) 데이터 로딩"
      ]
    },
    {
      "cell_type": "code",
      "execution_count": 494,
      "metadata": {
        "id": "Bw5yZwT0MJKx",
        "colab": {
          "base_uri": "https://localhost:8080/",
          "height": 595
        },
        "outputId": "d41d3dcd-3672-4989-ad5b-f6c7da805ba9"
      },
      "outputs": [
        {
          "output_type": "execute_result",
          "data": {
            "text/plain": [
              "   Attrition  Age     BusinessTravel              Department  \\\n",
              "0          0   33      Travel_Rarely  Research & Development   \n",
              "1          0   35  Travel_Frequently  Research & Development   \n",
              "2          0   42      Travel_Rarely  Research & Development   \n",
              "3          0   46      Travel_Rarely                   Sales   \n",
              "4          0   39  Travel_Frequently                   Sales   \n",
              "5          1   22  Travel_Frequently  Research & Development   \n",
              "6          0   24      Travel_Rarely  Research & Development   \n",
              "7          0   34      Travel_Rarely  Research & Development   \n",
              "8          0   30      Travel_Rarely  Research & Development   \n",
              "9          0   26      Travel_Rarely  Research & Development   \n",
              "\n",
              "   DistanceFromHome  Education    EducationField  EmployeeNumber  \\\n",
              "0               7.0          3           Medical             817   \n",
              "1              18.0          2     Life Sciences            1412   \n",
              "2               6.0          3           Medical            1911   \n",
              "3               2.0          3         Marketing            1204   \n",
              "4               NaN          3     Life Sciences            1812   \n",
              "5               4.0          1  Technical Degree             593   \n",
              "6              21.0          2  Technical Degree            1551   \n",
              "7               8.0          3           Medical            2068   \n",
              "8              20.0          3             Other            1084   \n",
              "9               6.0          3     Life Sciences             686   \n",
              "\n",
              "   EnvironmentSatisfaction  Gender  ...  OverTime PercentSalaryHike  \\\n",
              "0                        3    Male  ...        No                11   \n",
              "1                        3    Male  ...        No                11   \n",
              "2                        3    Male  ...        No                13   \n",
              "3                        3  Female  ...        No                23   \n",
              "4                        3    Male  ...        No                18   \n",
              "5                        3    Male  ...        No                16   \n",
              "6                        3    Male  ...        No                14   \n",
              "7                        2    Male  ...        No                12   \n",
              "8                        3    Male  ...        No                15   \n",
              "9                        3  Female  ...       Yes                13   \n",
              "\n",
              "   RelationshipSatisfaction StockOptionLevel  TotalWorkingYears  \\\n",
              "0                         4                0                 14   \n",
              "1                         3                0                 10   \n",
              "2                         2                1                 18   \n",
              "3                         1                0                 28   \n",
              "4                         4                1                  7   \n",
              "5                         3                0                  4   \n",
              "6                         2                3                  2   \n",
              "7                         1                0                  6   \n",
              "8                         3                1                  7   \n",
              "9                         3                1                  3   \n",
              "\n",
              "   TrainingTimesLastYear WorkLifeBalance  YearsAtCompany  YearsInCurrentRole  \\\n",
              "0                      3               4              13                   9   \n",
              "1                      2               3               2                   2   \n",
              "2                      3               4              13                   7   \n",
              "3                      2               3              26                  15   \n",
              "4                      6               3               2                   1   \n",
              "5                      3               3               2                   2   \n",
              "6                      3               3               1                   1   \n",
              "7                      3               4               4                   3   \n",
              "8                      1               2               6                   2   \n",
              "9                      2               3               3                   2   \n",
              "\n",
              "   YearsWithCurrManager  \n",
              "0                     7  \n",
              "1                     2  \n",
              "2                     7  \n",
              "3                     9  \n",
              "4                     2  \n",
              "5                     2  \n",
              "6                     0  \n",
              "7                     2  \n",
              "8                     2  \n",
              "9                     2  \n",
              "\n",
              "[10 rows x 26 columns]"
            ],
            "text/html": [
              "\n",
              "  <div id=\"df-d1232755-b10a-4724-969f-4a6894979718\">\n",
              "    <div class=\"colab-df-container\">\n",
              "      <div>\n",
              "<style scoped>\n",
              "    .dataframe tbody tr th:only-of-type {\n",
              "        vertical-align: middle;\n",
              "    }\n",
              "\n",
              "    .dataframe tbody tr th {\n",
              "        vertical-align: top;\n",
              "    }\n",
              "\n",
              "    .dataframe thead th {\n",
              "        text-align: right;\n",
              "    }\n",
              "</style>\n",
              "<table border=\"1\" class=\"dataframe\">\n",
              "  <thead>\n",
              "    <tr style=\"text-align: right;\">\n",
              "      <th></th>\n",
              "      <th>Attrition</th>\n",
              "      <th>Age</th>\n",
              "      <th>BusinessTravel</th>\n",
              "      <th>Department</th>\n",
              "      <th>DistanceFromHome</th>\n",
              "      <th>Education</th>\n",
              "      <th>EducationField</th>\n",
              "      <th>EmployeeNumber</th>\n",
              "      <th>EnvironmentSatisfaction</th>\n",
              "      <th>Gender</th>\n",
              "      <th>...</th>\n",
              "      <th>OverTime</th>\n",
              "      <th>PercentSalaryHike</th>\n",
              "      <th>RelationshipSatisfaction</th>\n",
              "      <th>StockOptionLevel</th>\n",
              "      <th>TotalWorkingYears</th>\n",
              "      <th>TrainingTimesLastYear</th>\n",
              "      <th>WorkLifeBalance</th>\n",
              "      <th>YearsAtCompany</th>\n",
              "      <th>YearsInCurrentRole</th>\n",
              "      <th>YearsWithCurrManager</th>\n",
              "    </tr>\n",
              "  </thead>\n",
              "  <tbody>\n",
              "    <tr>\n",
              "      <th>0</th>\n",
              "      <td>0</td>\n",
              "      <td>33</td>\n",
              "      <td>Travel_Rarely</td>\n",
              "      <td>Research &amp; Development</td>\n",
              "      <td>7.0</td>\n",
              "      <td>3</td>\n",
              "      <td>Medical</td>\n",
              "      <td>817</td>\n",
              "      <td>3</td>\n",
              "      <td>Male</td>\n",
              "      <td>...</td>\n",
              "      <td>No</td>\n",
              "      <td>11</td>\n",
              "      <td>4</td>\n",
              "      <td>0</td>\n",
              "      <td>14</td>\n",
              "      <td>3</td>\n",
              "      <td>4</td>\n",
              "      <td>13</td>\n",
              "      <td>9</td>\n",
              "      <td>7</td>\n",
              "    </tr>\n",
              "    <tr>\n",
              "      <th>1</th>\n",
              "      <td>0</td>\n",
              "      <td>35</td>\n",
              "      <td>Travel_Frequently</td>\n",
              "      <td>Research &amp; Development</td>\n",
              "      <td>18.0</td>\n",
              "      <td>2</td>\n",
              "      <td>Life Sciences</td>\n",
              "      <td>1412</td>\n",
              "      <td>3</td>\n",
              "      <td>Male</td>\n",
              "      <td>...</td>\n",
              "      <td>No</td>\n",
              "      <td>11</td>\n",
              "      <td>3</td>\n",
              "      <td>0</td>\n",
              "      <td>10</td>\n",
              "      <td>2</td>\n",
              "      <td>3</td>\n",
              "      <td>2</td>\n",
              "      <td>2</td>\n",
              "      <td>2</td>\n",
              "    </tr>\n",
              "    <tr>\n",
              "      <th>2</th>\n",
              "      <td>0</td>\n",
              "      <td>42</td>\n",
              "      <td>Travel_Rarely</td>\n",
              "      <td>Research &amp; Development</td>\n",
              "      <td>6.0</td>\n",
              "      <td>3</td>\n",
              "      <td>Medical</td>\n",
              "      <td>1911</td>\n",
              "      <td>3</td>\n",
              "      <td>Male</td>\n",
              "      <td>...</td>\n",
              "      <td>No</td>\n",
              "      <td>13</td>\n",
              "      <td>2</td>\n",
              "      <td>1</td>\n",
              "      <td>18</td>\n",
              "      <td>3</td>\n",
              "      <td>4</td>\n",
              "      <td>13</td>\n",
              "      <td>7</td>\n",
              "      <td>7</td>\n",
              "    </tr>\n",
              "    <tr>\n",
              "      <th>3</th>\n",
              "      <td>0</td>\n",
              "      <td>46</td>\n",
              "      <td>Travel_Rarely</td>\n",
              "      <td>Sales</td>\n",
              "      <td>2.0</td>\n",
              "      <td>3</td>\n",
              "      <td>Marketing</td>\n",
              "      <td>1204</td>\n",
              "      <td>3</td>\n",
              "      <td>Female</td>\n",
              "      <td>...</td>\n",
              "      <td>No</td>\n",
              "      <td>23</td>\n",
              "      <td>1</td>\n",
              "      <td>0</td>\n",
              "      <td>28</td>\n",
              "      <td>2</td>\n",
              "      <td>3</td>\n",
              "      <td>26</td>\n",
              "      <td>15</td>\n",
              "      <td>9</td>\n",
              "    </tr>\n",
              "    <tr>\n",
              "      <th>4</th>\n",
              "      <td>0</td>\n",
              "      <td>39</td>\n",
              "      <td>Travel_Frequently</td>\n",
              "      <td>Sales</td>\n",
              "      <td>NaN</td>\n",
              "      <td>3</td>\n",
              "      <td>Life Sciences</td>\n",
              "      <td>1812</td>\n",
              "      <td>3</td>\n",
              "      <td>Male</td>\n",
              "      <td>...</td>\n",
              "      <td>No</td>\n",
              "      <td>18</td>\n",
              "      <td>4</td>\n",
              "      <td>1</td>\n",
              "      <td>7</td>\n",
              "      <td>6</td>\n",
              "      <td>3</td>\n",
              "      <td>2</td>\n",
              "      <td>1</td>\n",
              "      <td>2</td>\n",
              "    </tr>\n",
              "    <tr>\n",
              "      <th>5</th>\n",
              "      <td>1</td>\n",
              "      <td>22</td>\n",
              "      <td>Travel_Frequently</td>\n",
              "      <td>Research &amp; Development</td>\n",
              "      <td>4.0</td>\n",
              "      <td>1</td>\n",
              "      <td>Technical Degree</td>\n",
              "      <td>593</td>\n",
              "      <td>3</td>\n",
              "      <td>Male</td>\n",
              "      <td>...</td>\n",
              "      <td>No</td>\n",
              "      <td>16</td>\n",
              "      <td>3</td>\n",
              "      <td>0</td>\n",
              "      <td>4</td>\n",
              "      <td>3</td>\n",
              "      <td>3</td>\n",
              "      <td>2</td>\n",
              "      <td>2</td>\n",
              "      <td>2</td>\n",
              "    </tr>\n",
              "    <tr>\n",
              "      <th>6</th>\n",
              "      <td>0</td>\n",
              "      <td>24</td>\n",
              "      <td>Travel_Rarely</td>\n",
              "      <td>Research &amp; Development</td>\n",
              "      <td>21.0</td>\n",
              "      <td>2</td>\n",
              "      <td>Technical Degree</td>\n",
              "      <td>1551</td>\n",
              "      <td>3</td>\n",
              "      <td>Male</td>\n",
              "      <td>...</td>\n",
              "      <td>No</td>\n",
              "      <td>14</td>\n",
              "      <td>2</td>\n",
              "      <td>3</td>\n",
              "      <td>2</td>\n",
              "      <td>3</td>\n",
              "      <td>3</td>\n",
              "      <td>1</td>\n",
              "      <td>1</td>\n",
              "      <td>0</td>\n",
              "    </tr>\n",
              "    <tr>\n",
              "      <th>7</th>\n",
              "      <td>0</td>\n",
              "      <td>34</td>\n",
              "      <td>Travel_Rarely</td>\n",
              "      <td>Research &amp; Development</td>\n",
              "      <td>8.0</td>\n",
              "      <td>3</td>\n",
              "      <td>Medical</td>\n",
              "      <td>2068</td>\n",
              "      <td>2</td>\n",
              "      <td>Male</td>\n",
              "      <td>...</td>\n",
              "      <td>No</td>\n",
              "      <td>12</td>\n",
              "      <td>1</td>\n",
              "      <td>0</td>\n",
              "      <td>6</td>\n",
              "      <td>3</td>\n",
              "      <td>4</td>\n",
              "      <td>4</td>\n",
              "      <td>3</td>\n",
              "      <td>2</td>\n",
              "    </tr>\n",
              "    <tr>\n",
              "      <th>8</th>\n",
              "      <td>0</td>\n",
              "      <td>30</td>\n",
              "      <td>Travel_Rarely</td>\n",
              "      <td>Research &amp; Development</td>\n",
              "      <td>20.0</td>\n",
              "      <td>3</td>\n",
              "      <td>Other</td>\n",
              "      <td>1084</td>\n",
              "      <td>3</td>\n",
              "      <td>Male</td>\n",
              "      <td>...</td>\n",
              "      <td>No</td>\n",
              "      <td>15</td>\n",
              "      <td>3</td>\n",
              "      <td>1</td>\n",
              "      <td>7</td>\n",
              "      <td>1</td>\n",
              "      <td>2</td>\n",
              "      <td>6</td>\n",
              "      <td>2</td>\n",
              "      <td>2</td>\n",
              "    </tr>\n",
              "    <tr>\n",
              "      <th>9</th>\n",
              "      <td>0</td>\n",
              "      <td>26</td>\n",
              "      <td>Travel_Rarely</td>\n",
              "      <td>Research &amp; Development</td>\n",
              "      <td>6.0</td>\n",
              "      <td>3</td>\n",
              "      <td>Life Sciences</td>\n",
              "      <td>686</td>\n",
              "      <td>3</td>\n",
              "      <td>Female</td>\n",
              "      <td>...</td>\n",
              "      <td>Yes</td>\n",
              "      <td>13</td>\n",
              "      <td>3</td>\n",
              "      <td>1</td>\n",
              "      <td>3</td>\n",
              "      <td>2</td>\n",
              "      <td>3</td>\n",
              "      <td>3</td>\n",
              "      <td>2</td>\n",
              "      <td>2</td>\n",
              "    </tr>\n",
              "  </tbody>\n",
              "</table>\n",
              "<p>10 rows × 26 columns</p>\n",
              "</div>\n",
              "      <button class=\"colab-df-convert\" onclick=\"convertToInteractive('df-d1232755-b10a-4724-969f-4a6894979718')\"\n",
              "              title=\"Convert this dataframe to an interactive table.\"\n",
              "              style=\"display:none;\">\n",
              "        \n",
              "  <svg xmlns=\"http://www.w3.org/2000/svg\" height=\"24px\"viewBox=\"0 0 24 24\"\n",
              "       width=\"24px\">\n",
              "    <path d=\"M0 0h24v24H0V0z\" fill=\"none\"/>\n",
              "    <path d=\"M18.56 5.44l.94 2.06.94-2.06 2.06-.94-2.06-.94-.94-2.06-.94 2.06-2.06.94zm-11 1L8.5 8.5l.94-2.06 2.06-.94-2.06-.94L8.5 2.5l-.94 2.06-2.06.94zm10 10l.94 2.06.94-2.06 2.06-.94-2.06-.94-.94-2.06-.94 2.06-2.06.94z\"/><path d=\"M17.41 7.96l-1.37-1.37c-.4-.4-.92-.59-1.43-.59-.52 0-1.04.2-1.43.59L10.3 9.45l-7.72 7.72c-.78.78-.78 2.05 0 2.83L4 21.41c.39.39.9.59 1.41.59.51 0 1.02-.2 1.41-.59l7.78-7.78 2.81-2.81c.8-.78.8-2.07 0-2.86zM5.41 20L4 18.59l7.72-7.72 1.47 1.35L5.41 20z\"/>\n",
              "  </svg>\n",
              "      </button>\n",
              "      \n",
              "  <style>\n",
              "    .colab-df-container {\n",
              "      display:flex;\n",
              "      flex-wrap:wrap;\n",
              "      gap: 12px;\n",
              "    }\n",
              "\n",
              "    .colab-df-convert {\n",
              "      background-color: #E8F0FE;\n",
              "      border: none;\n",
              "      border-radius: 50%;\n",
              "      cursor: pointer;\n",
              "      display: none;\n",
              "      fill: #1967D2;\n",
              "      height: 32px;\n",
              "      padding: 0 0 0 0;\n",
              "      width: 32px;\n",
              "    }\n",
              "\n",
              "    .colab-df-convert:hover {\n",
              "      background-color: #E2EBFA;\n",
              "      box-shadow: 0px 1px 2px rgba(60, 64, 67, 0.3), 0px 1px 3px 1px rgba(60, 64, 67, 0.15);\n",
              "      fill: #174EA6;\n",
              "    }\n",
              "\n",
              "    [theme=dark] .colab-df-convert {\n",
              "      background-color: #3B4455;\n",
              "      fill: #D2E3FC;\n",
              "    }\n",
              "\n",
              "    [theme=dark] .colab-df-convert:hover {\n",
              "      background-color: #434B5C;\n",
              "      box-shadow: 0px 1px 3px 1px rgba(0, 0, 0, 0.15);\n",
              "      filter: drop-shadow(0px 1px 2px rgba(0, 0, 0, 0.3));\n",
              "      fill: #FFFFFF;\n",
              "    }\n",
              "  </style>\n",
              "\n",
              "      <script>\n",
              "        const buttonEl =\n",
              "          document.querySelector('#df-d1232755-b10a-4724-969f-4a6894979718 button.colab-df-convert');\n",
              "        buttonEl.style.display =\n",
              "          google.colab.kernel.accessAllowed ? 'block' : 'none';\n",
              "\n",
              "        async function convertToInteractive(key) {\n",
              "          const element = document.querySelector('#df-d1232755-b10a-4724-969f-4a6894979718');\n",
              "          const dataTable =\n",
              "            await google.colab.kernel.invokeFunction('convertToInteractive',\n",
              "                                                     [key], {});\n",
              "          if (!dataTable) return;\n",
              "\n",
              "          const docLinkHtml = 'Like what you see? Visit the ' +\n",
              "            '<a target=\"_blank\" href=https://colab.research.google.com/notebooks/data_table.ipynb>data table notebook</a>'\n",
              "            + ' to learn more about interactive tables.';\n",
              "          element.innerHTML = '';\n",
              "          dataTable['output_type'] = 'display_data';\n",
              "          await google.colab.output.renderOutput(dataTable, element);\n",
              "          const docLink = document.createElement('div');\n",
              "          docLink.innerHTML = docLinkHtml;\n",
              "          element.appendChild(docLink);\n",
              "        }\n",
              "      </script>\n",
              "    </div>\n",
              "  </div>\n",
              "  "
            ]
          },
          "metadata": {},
          "execution_count": 494
        }
      ],
      "source": [
        "# data data\n",
        "path = \"https://raw.githubusercontent.com/DA4BAM/dataset/master/Attrition_NA.CSV\"\n",
        "data = pd.read_csv(path)\n",
        "data['Attrition'] = np.where(data['Attrition']=='Yes', 1, 0)\n",
        "data.head(10)"
      ]
    },
    {
      "cell_type": "markdown",
      "metadata": {
        "id": "v50TP8BhMJKx"
      },
      "source": [
        "|\t변수 명\t|\t내용\t|\t구분\t|\n",
        "|\t----\t|\t----\t|\t----\t|\n",
        "|\t**Attrition**\t|\t이직여부, Yes = 1 , No = 0\t|\t**Target**\t|\n",
        "|\tAge\t|\t나이\t|\t숫자\t|\n",
        "|\tBusinessTravel\t|\t출장 빈도(범주)\t|\t\t|\n",
        "|\tDepartment\t|\t현 부서\t|\t\t|\n",
        "|\tDistanceFromHome\t|\t집-직장 거리(마일)\t|\t숫자\t|\n",
        "|\tEducation\t|\t교육수준(범주)\t|\t1 Below College, 2 College, 3 Bachelor, 4 Master, 5 Doctor\t|\n",
        "|\tEducationField\t|\t전공\t|\t\t|\n",
        "|\tEmployeeNumber\t|\t사번\t|\t\t|\n",
        "|\tEnvironmentSatisfaction\t|\t근무환경에 대한 만족도(범주)\t|\t1 Low, 2 Good, 3 Excellent, 4 Outstanding\t|\n",
        "|\tGender\t|\t성별\t|\t\t|\n",
        "|\tJobInvolvement\t|\t직무 적극성(참여도)\t|\t1 Low, 2 Medium, 3 High, 4 Very High\t|\n",
        "|\tJobRole\t|\t직무\t|\t\t|\n",
        "|\tJobSatisfaction\t|\t직무 만족도\t|\t1 Low, 2 Medium, 3 High, 4 Very High\t|\n",
        "|\tMaritalStatus\t|\t결혼상태\t|\t\t|\n",
        "|\tMonthlyIncome\t|\t월급\t|\t숫자\t|\n",
        "|\tNumCompaniesWorked\t|\t현재까지 근무한 회사 수\t|\t숫자\t|\n",
        "|\tOverTime\t|\t야근여부\t|\t범주\t|\n",
        "|\tPercentSalaryHike\t|\t전년대비 급여인상율(%)\t|\t숫자\t|\n",
        "|\tRelationshipSatisfaction\t|\t동료와의 관계 만족도\t|\t1 Low, 2 Medium, 3 High, 4 Very High\t|\n",
        "|\tStockOptionLevel\t|\t스톡옵션 수준 0~3\t|\t범주\t|\n",
        "|\tTotalWorkingYears\t|\t총 근무 연수\t|\t숫자\t|\n",
        "|\tTrainingTimesLastYear\t|\t전년 교육훈련 횟수\t|\t숫자\t|\n",
        "|\tWorkLifeBalance\t|\t워라밸. 일-삶 균형도\t|\t1 Bad, 2 Good, 3 Better, 4 Best\t|\n",
        "|\tYearsAtCompany\t|\t현직장 근무 연수\t|\t숫자\t|\n",
        "|\tYearsInCurrentRole\t|\t현직무 연수\t|\t숫자\t|\n",
        "|\tYearsWithCurrManager\t|\t현 팀장과 근무한 연수\t|\t숫자\t|\n"
      ]
    },
    {
      "cell_type": "markdown",
      "metadata": {
        "id": "bKimk8qVm8oC"
      },
      "source": [
        "----"
      ]
    },
    {
      "cell_type": "markdown",
      "metadata": {
        "id": "0bouXLxGkSSd"
      },
      "source": [
        "## 1.데이터 탐색"
      ]
    },
    {
      "cell_type": "markdown",
      "metadata": {
        "id": "PRXJWyibZTJN"
      },
      "source": [
        "## 2.데이터 전처리 "
      ]
    },
    {
      "cell_type": "code",
      "execution_count": 495,
      "metadata": {
        "id": "vtn0hI98urCt"
      },
      "outputs": [],
      "source": [
        "target = 'Attrition'"
      ]
    },
    {
      "cell_type": "markdown",
      "metadata": {
        "id": "OftPNXa1EPeV"
      },
      "source": [
        "### 2.1 데이터 정리"
      ]
    },
    {
      "cell_type": "markdown",
      "metadata": {
        "id": "mk_WSjzdnLLE"
      },
      "source": [
        "* feature와 , target으로 분할"
      ]
    },
    {
      "cell_type": "code",
      "execution_count": 496,
      "metadata": {
        "id": "hKx1tqpEEPeV"
      },
      "outputs": [],
      "source": [
        "x = data.drop(target, axis = 1)\n",
        "y = data.loc[:, target]"
      ]
    },
    {
      "cell_type": "markdown",
      "metadata": {
        "id": "a_EtSMDQnMQ5"
      },
      "source": [
        "* 불필요한 feature 제거\n",
        "    * 제거해야 할 feature를 선정하고 제거하시오. 제거 이유를 주석으로 기술합니다."
      ]
    },
    {
      "cell_type": "code",
      "source": [
        "# data 원본 조회\n",
        "plt.figure(figsize=(20, 12))\n",
        "sns.heatmap(data.loc[:, 'Attrition':'YearsWithCurrManager'].corr(), annot=True, cmap='Blues')\n",
        "plt.show()"
      ],
      "metadata": {
        "colab": {
          "base_uri": "https://localhost:8080/",
          "height": 817
        },
        "id": "u8ZQp8VjZVVw",
        "outputId": "6a9cc535-e38d-49e5-e97f-ebc85a5a955e"
      },
      "execution_count": 497,
      "outputs": [
        {
          "output_type": "display_data",
          "data": {
            "text/plain": [
              "<Figure size 1440x864 with 2 Axes>"
            ],
            "image/png": "[encoded data removed]"
          },
          "metadata": {
            "needs_background": "light"
          }
        }
      ]
    },
    {
      "cell_type": "code",
      "execution_count": 498,
      "metadata": {
        "id": "86yIoNg7nNuu",
        "colab": {
          "base_uri": "https://localhost:8080/",
          "height": 270
        },
        "outputId": "6489cb70-8c5f-43f1-f9c6-88b61f1da674"
      },
      "outputs": [
        {
          "output_type": "execute_result",
          "data": {
            "text/plain": [
              "   Age     BusinessTravel  DistanceFromHome  Education  \\\n",
              "0   33      Travel_Rarely               7.0          3   \n",
              "1   35  Travel_Frequently              18.0          2   \n",
              "2   42      Travel_Rarely               6.0          3   \n",
              "3   46      Travel_Rarely               2.0          3   \n",
              "4   39  Travel_Frequently               NaN          3   \n",
              "\n",
              "   EnvironmentSatisfaction  Gender  JobInvolvement  JobSatisfaction  \\\n",
              "0                        3    Male               3                3   \n",
              "1                        3    Male               3                4   \n",
              "2                        3    Male               3                1   \n",
              "3                        3  Female               3                1   \n",
              "4                        3    Male               3                4   \n",
              "\n",
              "  MaritalStatus  MonthlyIncome OverTime  PercentSalaryHike  \\\n",
              "0       Married          11691       No                 11   \n",
              "1        Single           9362       No                 11   \n",
              "2       Married          13348       No                 13   \n",
              "3       Married          17048       No                 23   \n",
              "4      Divorced           4127       No                 18   \n",
              "\n",
              "   RelationshipSatisfaction  StockOptionLevel  TotalWorkingYears  \\\n",
              "0                         4                 0                 14   \n",
              "1                         3                 0                 10   \n",
              "2                         2                 1                 18   \n",
              "3                         1                 0                 28   \n",
              "4                         4                 1                  7   \n",
              "\n",
              "   WorkLifeBalance  YearsAtCompany  YearsInCurrentRole  YearsWithCurrManager  \n",
              "0                4              13                   9                     7  \n",
              "1                3               2                   2                     2  \n",
              "2                4              13                   7                     7  \n",
              "3                3              26                  15                     9  \n",
              "4                3               2                   1                     2  "
            ],
            "text/html": [
              "\n",
              "  <div id=\"df-cda27ded-b358-4c42-9568-37b343cb97f1\">\n",
              "    <div class=\"colab-df-container\">\n",
              "      <div>\n",
              "<style scoped>\n",
              "    .dataframe tbody tr th:only-of-type {\n",
              "        vertical-align: middle;\n",
              "    }\n",
              "\n",
              "    .dataframe tbody tr th {\n",
              "        vertical-align: top;\n",
              "    }\n",
              "\n",
              "    .dataframe thead th {\n",
              "        text-align: right;\n",
              "    }\n",
              "</style>\n",
              "<table border=\"1\" class=\"dataframe\">\n",
              "  <thead>\n",
              "    <tr style=\"text-align: right;\">\n",
              "      <th></th>\n",
              "      <th>Age</th>\n",
              "      <th>BusinessTravel</th>\n",
              "      <th>DistanceFromHome</th>\n",
              "      <th>Education</th>\n",
              "      <th>EnvironmentSatisfaction</th>\n",
              "      <th>Gender</th>\n",
              "      <th>JobInvolvement</th>\n",
              "      <th>JobSatisfaction</th>\n",
              "      <th>MaritalStatus</th>\n",
              "      <th>MonthlyIncome</th>\n",
              "      <th>OverTime</th>\n",
              "      <th>PercentSalaryHike</th>\n",
              "      <th>RelationshipSatisfaction</th>\n",
              "      <th>StockOptionLevel</th>\n",
              "      <th>TotalWorkingYears</th>\n",
              "      <th>WorkLifeBalance</th>\n",
              "      <th>YearsAtCompany</th>\n",
              "      <th>YearsInCurrentRole</th>\n",
              "      <th>YearsWithCurrManager</th>\n",
              "    </tr>\n",
              "  </thead>\n",
              "  <tbody>\n",
              "    <tr>\n",
              "      <th>0</th>\n",
              "      <td>33</td>\n",
              "      <td>Travel_Rarely</td>\n",
              "      <td>7.0</td>\n",
              "      <td>3</td>\n",
              "      <td>3</td>\n",
              "      <td>Male</td>\n",
              "      <td>3</td>\n",
              "      <td>3</td>\n",
              "      <td>Married</td>\n",
              "      <td>11691</td>\n",
              "      <td>No</td>\n",
              "      <td>11</td>\n",
              "      <td>4</td>\n",
              "      <td>0</td>\n",
              "      <td>14</td>\n",
              "      <td>4</td>\n",
              "      <td>13</td>\n",
              "      <td>9</td>\n",
              "      <td>7</td>\n",
              "    </tr>\n",
              "    <tr>\n",
              "      <th>1</th>\n",
              "      <td>35</td>\n",
              "      <td>Travel_Frequently</td>\n",
              "      <td>18.0</td>\n",
              "      <td>2</td>\n",
              "      <td>3</td>\n",
              "      <td>Male</td>\n",
              "      <td>3</td>\n",
              "      <td>4</td>\n",
              "      <td>Single</td>\n",
              "      <td>9362</td>\n",
              "      <td>No</td>\n",
              "      <td>11</td>\n",
              "      <td>3</td>\n",
              "      <td>0</td>\n",
              "      <td>10</td>\n",
              "      <td>3</td>\n",
              "      <td>2</td>\n",
              "      <td>2</td>\n",
              "      <td>2</td>\n",
              "    </tr>\n",
              "    <tr>\n",
              "      <th>2</th>\n",
              "      <td>42</td>\n",
              "      <td>Travel_Rarely</td>\n",
              "      <td>6.0</td>\n",
              "      <td>3</td>\n",
              "      <td>3</td>\n",
              "      <td>Male</td>\n",
              "      <td>3</td>\n",
              "      <td>1</td>\n",
              "      <td>Married</td>\n",
              "      <td>13348</td>\n",
              "      <td>No</td>\n",
              "      <td>13</td>\n",
              "      <td>2</td>\n",
              "      <td>1</td>\n",
              "      <td>18</td>\n",
              "      <td>4</td>\n",
              "      <td>13</td>\n",
              "      <td>7</td>\n",
              "      <td>7</td>\n",
              "    </tr>\n",
              "    <tr>\n",
              "      <th>3</th>\n",
              "      <td>46</td>\n",
              "      <td>Travel_Rarely</td>\n",
              "      <td>2.0</td>\n",
              "      <td>3</td>\n",
              "      <td>3</td>\n",
              "      <td>Female</td>\n",
              "      <td>3</td>\n",
              "      <td>1</td>\n",
              "      <td>Married</td>\n",
              "      <td>17048</td>\n",
              "      <td>No</td>\n",
              "      <td>23</td>\n",
              "      <td>1</td>\n",
              "      <td>0</td>\n",
              "      <td>28</td>\n",
              "      <td>3</td>\n",
              "      <td>26</td>\n",
              "      <td>15</td>\n",
              "      <td>9</td>\n",
              "    </tr>\n",
              "    <tr>\n",
              "      <th>4</th>\n",
              "      <td>39</td>\n",
              "      <td>Travel_Frequently</td>\n",
              "      <td>NaN</td>\n",
              "      <td>3</td>\n",
              "      <td>3</td>\n",
              "      <td>Male</td>\n",
              "      <td>3</td>\n",
              "      <td>4</td>\n",
              "      <td>Divorced</td>\n",
              "      <td>4127</td>\n",
              "      <td>No</td>\n",
              "      <td>18</td>\n",
              "      <td>4</td>\n",
              "      <td>1</td>\n",
              "      <td>7</td>\n",
              "      <td>3</td>\n",
              "      <td>2</td>\n",
              "      <td>1</td>\n",
              "      <td>2</td>\n",
              "    </tr>\n",
              "  </tbody>\n",
              "</table>\n",
              "</div>\n",
              "      <button class=\"colab-df-convert\" onclick=\"convertToInteractive('df-cda27ded-b358-4c42-9568-37b343cb97f1')\"\n",
              "              title=\"Convert this dataframe to an interactive table.\"\n",
              "              style=\"display:none;\">\n",
              "        \n",
              "  <svg xmlns=\"http://www.w3.org/2000/svg\" height=\"24px\"viewBox=\"0 0 24 24\"\n",
              "       width=\"24px\">\n",
              "    <path d=\"M0 0h24v24H0V0z\" fill=\"none\"/>\n",
              "    <path d=\"M18.56 5.44l.94 2.06.94-2.06 2.06-.94-2.06-.94-.94-2.06-.94 2.06-2.06.94zm-11 1L8.5 8.5l.94-2.06 2.06-.94-2.06-.94L8.5 2.5l-.94 2.06-2.06.94zm10 10l.94 2.06.94-2.06 2.06-.94-2.06-.94-.94-2.06-.94 2.06-2.06.94z\"/><path d=\"M17.41 7.96l-1.37-1.37c-.4-.4-.92-.59-1.43-.59-.52 0-1.04.2-1.43.59L10.3 9.45l-7.72 7.72c-.78.78-.78 2.05 0 2.83L4 21.41c.39.39.9.59 1.41.59.51 0 1.02-.2 1.41-.59l7.78-7.78 2.81-2.81c.8-.78.8-2.07 0-2.86zM5.41 20L4 18.59l7.72-7.72 1.47 1.35L5.41 20z\"/>\n",
              "  </svg>\n",
              "      </button>\n",
              "      \n",
              "  <style>\n",
              "    .colab-df-container {\n",
              "      display:flex;\n",
              "      flex-wrap:wrap;\n",
              "      gap: 12px;\n",
              "    }\n",
              "\n",
              "    .colab-df-convert {\n",
              "      background-color: #E8F0FE;\n",
              "      border: none;\n",
              "      border-radius: 50%;\n",
              "      cursor: pointer;\n",
              "      display: none;\n",
              "      fill: #1967D2;\n",
              "      height: 32px;\n",
              "      padding: 0 0 0 0;\n",
              "      width: 32px;\n",
              "    }\n",
              "\n",
              "    .colab-df-convert:hover {\n",
              "      background-color: #E2EBFA;\n",
              "      box-shadow: 0px 1px 2px rgba(60, 64, 67, 0.3), 0px 1px 3px 1px rgba(60, 64, 67, 0.15);\n",
              "      fill: #174EA6;\n",
              "    }\n",
              "\n",
              "    [theme=dark] .colab-df-convert {\n",
              "      background-color: #3B4455;\n",
              "      fill: #D2E3FC;\n",
              "    }\n",
              "\n",
              "    [theme=dark] .colab-df-convert:hover {\n",
              "      background-color: #434B5C;\n",
              "      box-shadow: 0px 1px 3px 1px rgba(0, 0, 0, 0.15);\n",
              "      filter: drop-shadow(0px 1px 2px rgba(0, 0, 0, 0.3));\n",
              "      fill: #FFFFFF;\n",
              "    }\n",
              "  </style>\n",
              "\n",
              "      <script>\n",
              "        const buttonEl =\n",
              "          document.querySelector('#df-cda27ded-b358-4c42-9568-37b343cb97f1 button.colab-df-convert');\n",
              "        buttonEl.style.display =\n",
              "          google.colab.kernel.accessAllowed ? 'block' : 'none';\n",
              "\n",
              "        async function convertToInteractive(key) {\n",
              "          const element = document.querySelector('#df-cda27ded-b358-4c42-9568-37b343cb97f1');\n",
              "          const dataTable =\n",
              "            await google.colab.kernel.invokeFunction('convertToInteractive',\n",
              "                                                     [key], {});\n",
              "          if (!dataTable) return;\n",
              "\n",
              "          const docLinkHtml = 'Like what you see? Visit the ' +\n",
              "            '<a target=\"_blank\" href=https://colab.research.google.com/notebooks/data_table.ipynb>data table notebook</a>'\n",
              "            + ' to learn more about interactive tables.';\n",
              "          element.innerHTML = '';\n",
              "          dataTable['output_type'] = 'display_data';\n",
              "          await google.colab.output.renderOutput(dataTable, element);\n",
              "          const docLink = document.createElement('div');\n",
              "          docLink.innerHTML = docLinkHtml;\n",
              "          element.appendChild(docLink);\n",
              "        }\n",
              "      </script>\n",
              "    </div>\n",
              "  </div>\n",
              "  "
            ]
          },
          "metadata": {},
          "execution_count": 498
        }
      ],
      "source": [
        "x.drop(['Department', 'EducationField', 'EmployeeNumber', 'JobRole', 'NumCompaniesWorked', 'TrainingTimesLastYear'], axis=1, inplace=True)\n",
        "x.head()"
      ]
    },
    {
      "cell_type": "markdown",
      "source": [
        "- Department, EducationField, EmployeeNumber, JobRole, TrainingTimesLastYear는 target과 큰 연관성이 없다고 생각되어 제외\n",
        "- NumCompaniesWorked는 근무 연수와 관련된 다른 feature들과 중복되는 부분이 있다고 생각되어 제외\n",
        "- TrainingTimesLastYear 또한 교육훈련 횟수가 이직 여부를 판단하는데 큰 비율을 차지하지 않을 것이라고 생각되어 제외"
      ],
      "metadata": {
        "id": "7_i0YW3pYUcS"
      }
    },
    {
      "cell_type": "markdown",
      "metadata": {
        "id": "ScpJ5uNrGjIw"
      },
      "source": [
        "### 2.2 NaN에 대한 조치\n",
        "* 데이터에 포함된 NaN에 대해서 조치 방법을 결정하고 적용합니다.\n",
        "* 조치방법을 결정한 이유를 주석으로 기술합니다."
      ]
    },
    {
      "cell_type": "code",
      "execution_count": 499,
      "metadata": {
        "id": "8epD0jT6vL51",
        "colab": {
          "base_uri": "https://localhost:8080/"
        },
        "outputId": "4a19e25c-c633-40e4-d12a-7aa4a21821ce"
      },
      "outputs": [
        {
          "output_type": "execute_result",
          "data": {
            "text/plain": [
              "Age                          0\n",
              "BusinessTravel               0\n",
              "DistanceFromHome            54\n",
              "Education                    0\n",
              "EnvironmentSatisfaction      0\n",
              "Gender                       0\n",
              "JobInvolvement               0\n",
              "JobSatisfaction              0\n",
              "MaritalStatus                0\n",
              "MonthlyIncome                0\n",
              "OverTime                     0\n",
              "PercentSalaryHike            0\n",
              "RelationshipSatisfaction     0\n",
              "StockOptionLevel             0\n",
              "TotalWorkingYears            0\n",
              "WorkLifeBalance              0\n",
              "YearsAtCompany               0\n",
              "YearsInCurrentRole           0\n",
              "YearsWithCurrManager         0\n",
              "dtype: int64"
            ]
          },
          "metadata": {},
          "execution_count": 499
        }
      ],
      "source": [
        "x.isna().sum()"
      ]
    },
    {
      "cell_type": "code",
      "execution_count": 500,
      "metadata": {
        "id": "PERdF7IjNy2X",
        "colab": {
          "base_uri": "https://localhost:8080/",
          "height": 621
        },
        "outputId": "7d8f761e-9fa7-4357-ea3a-5651cc6e48f5"
      },
      "outputs": [
        {
          "output_type": "display_data",
          "data": {
            "text/plain": [
              "<Figure size 1440x720 with 3 Axes>"
            ],
            "image/png": "[encoded data removed]"
          },
          "metadata": {
            "needs_background": "light"
          }
        }
      ],
      "source": [
        "plt.figure(figsize=(20, 10))\n",
        "\n",
        "plt.subplot(1,3,1)\n",
        "sns.histplot(x['DistanceFromHome'].fillna(x['DistanceFromHome']), bins=20)\n",
        "plt.title('original')\n",
        "\n",
        "plt.subplot(1,3,2)\n",
        "sns.histplot(x['DistanceFromHome'].fillna(x['DistanceFromHome'].median()), bins=20)\n",
        "plt.title('median')\n",
        "\n",
        "plt.subplot(1,3,3)\n",
        "sns.histplot(x['DistanceFromHome'].fillna(x['DistanceFromHome'].mean()), bins=20)\n",
        "plt.title('mean')\n",
        "\n",
        "plt.show()"
      ]
    },
    {
      "cell_type": "code",
      "execution_count": 501,
      "metadata": {
        "id": "Oq-35S_DNyg6"
      },
      "outputs": [],
      "source": [
        "x['DistanceFromHome'] = x['DistanceFromHome'].fillna(x['DistanceFromHome'].median())"
      ]
    },
    {
      "cell_type": "code",
      "source": [
        "x.info()"
      ],
      "metadata": {
        "colab": {
          "base_uri": "https://localhost:8080/"
        },
        "id": "Qm1ClG0FblBg",
        "outputId": "438d76ea-5475-4369-d6bf-e5fea9063e11"
      },
      "execution_count": 502,
      "outputs": [
        {
          "output_type": "stream",
          "name": "stdout",
          "text": [
            "<class 'pandas.core.frame.DataFrame'>\n",
            "RangeIndex: 1250 entries, 0 to 1249\n",
            "Data columns (total 19 columns):\n",
            " #   Column                    Non-Null Count  Dtype  \n",
            "---  ------                    --------------  -----  \n",
            " 0   Age                       1250 non-null   int64  \n",
            " 1   BusinessTravel            1250 non-null   object \n",
            " 2   DistanceFromHome          1250 non-null   float64\n",
            " 3   Education                 1250 non-null   int64  \n",
            " 4   EnvironmentSatisfaction   1250 non-null   int64  \n",
            " 5   Gender                    1250 non-null   object \n",
            " 6   JobInvolvement            1250 non-null   int64  \n",
            " 7   JobSatisfaction           1250 non-null   int64  \n",
            " 8   MaritalStatus             1250 non-null   object \n",
            " 9   MonthlyIncome             1250 non-null   int64  \n",
            " 10  OverTime                  1250 non-null   object \n",
            " 11  PercentSalaryHike         1250 non-null   int64  \n",
            " 12  RelationshipSatisfaction  1250 non-null   int64  \n",
            " 13  StockOptionLevel          1250 non-null   int64  \n",
            " 14  TotalWorkingYears         1250 non-null   int64  \n",
            " 15  WorkLifeBalance           1250 non-null   int64  \n",
            " 16  YearsAtCompany            1250 non-null   int64  \n",
            " 17  YearsInCurrentRole        1250 non-null   int64  \n",
            " 18  YearsWithCurrManager      1250 non-null   int64  \n",
            "dtypes: float64(1), int64(14), object(4)\n",
            "memory usage: 185.7+ KB\n"
          ]
        }
      ]
    },
    {
      "cell_type": "markdown",
      "source": [
        "- 중앙값, 평균으로 nan을 대체했을 경우를 가정했고 원본 상태의 분포를 가장 잘 유지하고 있는 중앙값을 최종적으로 선정"
      ],
      "metadata": {
        "id": "nQQPnKCub0Oo"
      }
    },
    {
      "cell_type": "markdown",
      "metadata": {
        "id": "HfqkeUD2GjI6"
      },
      "source": [
        "### 2.3 가변수화\n",
        "* 범주형 데이터이면서 값이 0,1 로 되어 있는 것이 아니라면, 가변수화를 수행해야 합니다.\n",
        "* 대상이 되는 변수에 대해서 가변수화를 수행해주세요."
      ]
    },
    {
      "cell_type": "code",
      "source": [
        "x['Gender'].unique()"
      ],
      "metadata": {
        "colab": {
          "base_uri": "https://localhost:8080/"
        },
        "id": "J-yRndO-db-P",
        "outputId": "8e4c9699-d9fa-4315-d6f9-7d0fe263cf85"
      },
      "execution_count": 503,
      "outputs": [
        {
          "output_type": "execute_result",
          "data": {
            "text/plain": [
              "array(['Male', 'Female'], dtype=object)"
            ]
          },
          "metadata": {},
          "execution_count": 503
        }
      ]
    },
    {
      "cell_type": "code",
      "source": [
        "x['BusinessTravel'].unique()"
      ],
      "metadata": {
        "colab": {
          "base_uri": "https://localhost:8080/"
        },
        "id": "Sgtxx-isc4E9",
        "outputId": "266f434c-7b1a-4930-a24c-07a6deb38324"
      },
      "execution_count": 504,
      "outputs": [
        {
          "output_type": "execute_result",
          "data": {
            "text/plain": [
              "array(['Travel_Rarely', 'Travel_Frequently', 'Non-Travel'], dtype=object)"
            ]
          },
          "metadata": {},
          "execution_count": 504
        }
      ]
    },
    {
      "cell_type": "markdown",
      "source": [
        "- Gender와 OverTime의 경우 0과 1로만 가변수화를 진행하면 되기 때문에 직접 데이터를 변경해주고 나머지는 get_dummies로 변경"
      ],
      "metadata": {
        "id": "OwUcVbLIeuWg"
      }
    },
    {
      "cell_type": "code",
      "execution_count": 505,
      "metadata": {
        "id": "U_wLpFFTN01P"
      },
      "outputs": [],
      "source": [
        "x['Gender'] = x['Gender'].map({'Male': 1, 'Female': 0})"
      ]
    },
    {
      "cell_type": "code",
      "execution_count": 506,
      "metadata": {
        "id": "AzROtY0XISxN"
      },
      "outputs": [],
      "source": [
        "x['OverTime'] = np.where(x['OverTime']=='Yes', 1, 0)"
      ]
    },
    {
      "cell_type": "code",
      "source": [
        "x = pd.get_dummies(x, drop_first=True)"
      ],
      "metadata": {
        "id": "scPp_jhsd_Ll"
      },
      "execution_count": 507,
      "outputs": []
    },
    {
      "cell_type": "code",
      "source": [
        "x.head()"
      ],
      "metadata": {
        "colab": {
          "base_uri": "https://localhost:8080/",
          "height": 300
        },
        "id": "cXp7FdupeWyx",
        "outputId": "cd9be702-9c4f-4a80-9584-f46dd57c1ea3"
      },
      "execution_count": 508,
      "outputs": [
        {
          "output_type": "execute_result",
          "data": {
            "text/plain": [
              "   Age  DistanceFromHome  Education  EnvironmentSatisfaction  Gender  \\\n",
              "0   33               7.0          3                        3       1   \n",
              "1   35              18.0          2                        3       1   \n",
              "2   42               6.0          3                        3       1   \n",
              "3   46               2.0          3                        3       0   \n",
              "4   39               7.0          3                        3       1   \n",
              "\n",
              "   JobInvolvement  JobSatisfaction  MonthlyIncome  OverTime  \\\n",
              "0               3                3          11691         0   \n",
              "1               3                4           9362         0   \n",
              "2               3                1          13348         0   \n",
              "3               3                1          17048         0   \n",
              "4               3                4           4127         0   \n",
              "\n",
              "   PercentSalaryHike  ...  StockOptionLevel  TotalWorkingYears  \\\n",
              "0                 11  ...                 0                 14   \n",
              "1                 11  ...                 0                 10   \n",
              "2                 13  ...                 1                 18   \n",
              "3                 23  ...                 0                 28   \n",
              "4                 18  ...                 1                  7   \n",
              "\n",
              "   WorkLifeBalance  YearsAtCompany  YearsInCurrentRole  YearsWithCurrManager  \\\n",
              "0                4              13                   9                     7   \n",
              "1                3               2                   2                     2   \n",
              "2                4              13                   7                     7   \n",
              "3                3              26                  15                     9   \n",
              "4                3               2                   1                     2   \n",
              "\n",
              "   BusinessTravel_Travel_Frequently  BusinessTravel_Travel_Rarely  \\\n",
              "0                                 0                             1   \n",
              "1                                 1                             0   \n",
              "2                                 0                             1   \n",
              "3                                 0                             1   \n",
              "4                                 1                             0   \n",
              "\n",
              "   MaritalStatus_Married  MaritalStatus_Single  \n",
              "0                      1                     0  \n",
              "1                      0                     1  \n",
              "2                      1                     0  \n",
              "3                      1                     0  \n",
              "4                      0                     0  \n",
              "\n",
              "[5 rows x 21 columns]"
            ],
            "text/html": [
              "\n",
              "  <div id=\"df-b1c3fd7e-c0b6-4f19-9642-4c8e47cbec4c\">\n",
              "    <div class=\"colab-df-container\">\n",
              "      <div>\n",
              "<style scoped>\n",
              "    .dataframe tbody tr th:only-of-type {\n",
              "        vertical-align: middle;\n",
              "    }\n",
              "\n",
              "    .dataframe tbody tr th {\n",
              "        vertical-align: top;\n",
              "    }\n",
              "\n",
              "    .dataframe thead th {\n",
              "        text-align: right;\n",
              "    }\n",
              "</style>\n",
              "<table border=\"1\" class=\"dataframe\">\n",
              "  <thead>\n",
              "    <tr style=\"text-align: right;\">\n",
              "      <th></th>\n",
              "      <th>Age</th>\n",
              "      <th>DistanceFromHome</th>\n",
              "      <th>Education</th>\n",
              "      <th>EnvironmentSatisfaction</th>\n",
              "      <th>Gender</th>\n",
              "      <th>JobInvolvement</th>\n",
              "      <th>JobSatisfaction</th>\n",
              "      <th>MonthlyIncome</th>\n",
              "      <th>OverTime</th>\n",
              "      <th>PercentSalaryHike</th>\n",
              "      <th>...</th>\n",
              "      <th>StockOptionLevel</th>\n",
              "      <th>TotalWorkingYears</th>\n",
              "      <th>WorkLifeBalance</th>\n",
              "      <th>YearsAtCompany</th>\n",
              "      <th>YearsInCurrentRole</th>\n",
              "      <th>YearsWithCurrManager</th>\n",
              "      <th>BusinessTravel_Travel_Frequently</th>\n",
              "      <th>BusinessTravel_Travel_Rarely</th>\n",
              "      <th>MaritalStatus_Married</th>\n",
              "      <th>MaritalStatus_Single</th>\n",
              "    </tr>\n",
              "  </thead>\n",
              "  <tbody>\n",
              "    <tr>\n",
              "      <th>0</th>\n",
              "      <td>33</td>\n",
              "      <td>7.0</td>\n",
              "      <td>3</td>\n",
              "      <td>3</td>\n",
              "      <td>1</td>\n",
              "      <td>3</td>\n",
              "      <td>3</td>\n",
              "      <td>11691</td>\n",
              "      <td>0</td>\n",
              "      <td>11</td>\n",
              "      <td>...</td>\n",
              "      <td>0</td>\n",
              "      <td>14</td>\n",
              "      <td>4</td>\n",
              "      <td>13</td>\n",
              "      <td>9</td>\n",
              "      <td>7</td>\n",
              "      <td>0</td>\n",
              "      <td>1</td>\n",
              "      <td>1</td>\n",
              "      <td>0</td>\n",
              "    </tr>\n",
              "    <tr>\n",
              "      <th>1</th>\n",
              "      <td>35</td>\n",
              "      <td>18.0</td>\n",
              "      <td>2</td>\n",
              "      <td>3</td>\n",
              "      <td>1</td>\n",
              "      <td>3</td>\n",
              "      <td>4</td>\n",
              "      <td>9362</td>\n",
              "      <td>0</td>\n",
              "      <td>11</td>\n",
              "      <td>...</td>\n",
              "      <td>0</td>\n",
              "      <td>10</td>\n",
              "      <td>3</td>\n",
              "      <td>2</td>\n",
              "      <td>2</td>\n",
              "      <td>2</td>\n",
              "      <td>1</td>\n",
              "      <td>0</td>\n",
              "      <td>0</td>\n",
              "      <td>1</td>\n",
              "    </tr>\n",
              "    <tr>\n",
              "      <th>2</th>\n",
              "      <td>42</td>\n",
              "      <td>6.0</td>\n",
              "      <td>3</td>\n",
              "      <td>3</td>\n",
              "      <td>1</td>\n",
              "      <td>3</td>\n",
              "      <td>1</td>\n",
              "      <td>13348</td>\n",
              "      <td>0</td>\n",
              "      <td>13</td>\n",
              "      <td>...</td>\n",
              "      <td>1</td>\n",
              "      <td>18</td>\n",
              "      <td>4</td>\n",
              "      <td>13</td>\n",
              "      <td>7</td>\n",
              "      <td>7</td>\n",
              "      <td>0</td>\n",
              "      <td>1</td>\n",
              "      <td>1</td>\n",
              "      <td>0</td>\n",
              "    </tr>\n",
              "    <tr>\n",
              "      <th>3</th>\n",
              "      <td>46</td>\n",
              "      <td>2.0</td>\n",
              "      <td>3</td>\n",
              "      <td>3</td>\n",
              "      <td>0</td>\n",
              "      <td>3</td>\n",
              "      <td>1</td>\n",
              "      <td>17048</td>\n",
              "      <td>0</td>\n",
              "      <td>23</td>\n",
              "      <td>...</td>\n",
              "      <td>0</td>\n",
              "      <td>28</td>\n",
              "      <td>3</td>\n",
              "      <td>26</td>\n",
              "      <td>15</td>\n",
              "      <td>9</td>\n",
              "      <td>0</td>\n",
              "      <td>1</td>\n",
              "      <td>1</td>\n",
              "      <td>0</td>\n",
              "    </tr>\n",
              "    <tr>\n",
              "      <th>4</th>\n",
              "      <td>39</td>\n",
              "      <td>7.0</td>\n",
              "      <td>3</td>\n",
              "      <td>3</td>\n",
              "      <td>1</td>\n",
              "      <td>3</td>\n",
              "      <td>4</td>\n",
              "      <td>4127</td>\n",
              "      <td>0</td>\n",
              "      <td>18</td>\n",
              "      <td>...</td>\n",
              "      <td>1</td>\n",
              "      <td>7</td>\n",
              "      <td>3</td>\n",
              "      <td>2</td>\n",
              "      <td>1</td>\n",
              "      <td>2</td>\n",
              "      <td>1</td>\n",
              "      <td>0</td>\n",
              "      <td>0</td>\n",
              "      <td>0</td>\n",
              "    </tr>\n",
              "  </tbody>\n",
              "</table>\n",
              "<p>5 rows × 21 columns</p>\n",
              "</div>\n",
              "      <button class=\"colab-df-convert\" onclick=\"convertToInteractive('df-b1c3fd7e-c0b6-4f19-9642-4c8e47cbec4c')\"\n",
              "              title=\"Convert this dataframe to an interactive table.\"\n",
              "              style=\"display:none;\">\n",
              "        \n",
              "  <svg xmlns=\"http://www.w3.org/2000/svg\" height=\"24px\"viewBox=\"0 0 24 24\"\n",
              "       width=\"24px\">\n",
              "    <path d=\"M0 0h24v24H0V0z\" fill=\"none\"/>\n",
              "    <path d=\"M18.56 5.44l.94 2.06.94-2.06 2.06-.94-2.06-.94-.94-2.06-.94 2.06-2.06.94zm-11 1L8.5 8.5l.94-2.06 2.06-.94-2.06-.94L8.5 2.5l-.94 2.06-2.06.94zm10 10l.94 2.06.94-2.06 2.06-.94-2.06-.94-.94-2.06-.94 2.06-2.06.94z\"/><path d=\"M17.41 7.96l-1.37-1.37c-.4-.4-.92-.59-1.43-.59-.52 0-1.04.2-1.43.59L10.3 9.45l-7.72 7.72c-.78.78-.78 2.05 0 2.83L4 21.41c.39.39.9.59 1.41.59.51 0 1.02-.2 1.41-.59l7.78-7.78 2.81-2.81c.8-.78.8-2.07 0-2.86zM5.41 20L4 18.59l7.72-7.72 1.47 1.35L5.41 20z\"/>\n",
              "  </svg>\n",
              "      </button>\n",
              "      \n",
              "  <style>\n",
              "    .colab-df-container {\n",
              "      display:flex;\n",
              "      flex-wrap:wrap;\n",
              "      gap: 12px;\n",
              "    }\n",
              "\n",
              "    .colab-df-convert {\n",
              "      background-color: #E8F0FE;\n",
              "      border: none;\n",
              "      border-radius: 50%;\n",
              "      cursor: pointer;\n",
              "      display: none;\n",
              "      fill: #1967D2;\n",
              "      height: 32px;\n",
              "      padding: 0 0 0 0;\n",
              "      width: 32px;\n",
              "    }\n",
              "\n",
              "    .colab-df-convert:hover {\n",
              "      background-color: #E2EBFA;\n",
              "      box-shadow: 0px 1px 2px rgba(60, 64, 67, 0.3), 0px 1px 3px 1px rgba(60, 64, 67, 0.15);\n",
              "      fill: #174EA6;\n",
              "    }\n",
              "\n",
              "    [theme=dark] .colab-df-convert {\n",
              "      background-color: #3B4455;\n",
              "      fill: #D2E3FC;\n",
              "    }\n",
              "\n",
              "    [theme=dark] .colab-df-convert:hover {\n",
              "      background-color: #434B5C;\n",
              "      box-shadow: 0px 1px 3px 1px rgba(0, 0, 0, 0.15);\n",
              "      filter: drop-shadow(0px 1px 2px rgba(0, 0, 0, 0.3));\n",
              "      fill: #FFFFFF;\n",
              "    }\n",
              "  </style>\n",
              "\n",
              "      <script>\n",
              "        const buttonEl =\n",
              "          document.querySelector('#df-b1c3fd7e-c0b6-4f19-9642-4c8e47cbec4c button.colab-df-convert');\n",
              "        buttonEl.style.display =\n",
              "          google.colab.kernel.accessAllowed ? 'block' : 'none';\n",
              "\n",
              "        async function convertToInteractive(key) {\n",
              "          const element = document.querySelector('#df-b1c3fd7e-c0b6-4f19-9642-4c8e47cbec4c');\n",
              "          const dataTable =\n",
              "            await google.colab.kernel.invokeFunction('convertToInteractive',\n",
              "                                                     [key], {});\n",
              "          if (!dataTable) return;\n",
              "\n",
              "          const docLinkHtml = 'Like what you see? Visit the ' +\n",
              "            '<a target=\"_blank\" href=https://colab.research.google.com/notebooks/data_table.ipynb>data table notebook</a>'\n",
              "            + ' to learn more about interactive tables.';\n",
              "          element.innerHTML = '';\n",
              "          dataTable['output_type'] = 'display_data';\n",
              "          await google.colab.output.renderOutput(dataTable, element);\n",
              "          const docLink = document.createElement('div');\n",
              "          docLink.innerHTML = docLinkHtml;\n",
              "          element.appendChild(docLink);\n",
              "        }\n",
              "      </script>\n",
              "    </div>\n",
              "  </div>\n",
              "  "
            ]
          },
          "metadata": {},
          "execution_count": 508
        }
      ]
    },
    {
      "cell_type": "markdown",
      "source": [
        ""
      ],
      "metadata": {
        "id": "NNcYwzm8ej6p"
      }
    },
    {
      "cell_type": "markdown",
      "metadata": {
        "id": "eO9PZwR3GjI7"
      },
      "source": [
        "### 2.4 (옵션) 추가변수 도출\n",
        "* 기존 데이터셋의 변수를 이용하여 추가로 도출할 수 있는 변수가 있다면 수행합니다.\n",
        "* 추가변수에 대해서 주석으로 설명하시오."
      ]
    },
    {
      "cell_type": "code",
      "execution_count": 508,
      "metadata": {
        "id": "rsHIYqZwGjI8"
      },
      "outputs": [],
      "source": [
        ""
      ]
    },
    {
      "cell_type": "markdown",
      "metadata": {
        "id": "-dgcE6vBZTJQ"
      },
      "source": [
        "### 2.5 데이터 분할\n",
        "\n",
        "* test 200건(test_size = 200), random_state = 2022\n",
        "* val 200건(test_size = 200), random_state = 2022\n",
        "* train 나머지."
      ]
    },
    {
      "cell_type": "code",
      "source": [
        "x.info()"
      ],
      "metadata": {
        "colab": {
          "base_uri": "https://localhost:8080/"
        },
        "id": "FHIyVyCofwEC",
        "outputId": "8ccc3217-b0b1-46e6-e113-c7765e5aaf80"
      },
      "execution_count": 509,
      "outputs": [
        {
          "output_type": "stream",
          "name": "stdout",
          "text": [
            "<class 'pandas.core.frame.DataFrame'>\n",
            "RangeIndex: 1250 entries, 0 to 1249\n",
            "Data columns (total 21 columns):\n",
            " #   Column                            Non-Null Count  Dtype  \n",
            "---  ------                            --------------  -----  \n",
            " 0   Age                               1250 non-null   int64  \n",
            " 1   DistanceFromHome                  1250 non-null   float64\n",
            " 2   Education                         1250 non-null   int64  \n",
            " 3   EnvironmentSatisfaction           1250 non-null   int64  \n",
            " 4   Gender                            1250 non-null   int64  \n",
            " 5   JobInvolvement                    1250 non-null   int64  \n",
            " 6   JobSatisfaction                   1250 non-null   int64  \n",
            " 7   MonthlyIncome                     1250 non-null   int64  \n",
            " 8   OverTime                          1250 non-null   int64  \n",
            " 9   PercentSalaryHike                 1250 non-null   int64  \n",
            " 10  RelationshipSatisfaction          1250 non-null   int64  \n",
            " 11  StockOptionLevel                  1250 non-null   int64  \n",
            " 12  TotalWorkingYears                 1250 non-null   int64  \n",
            " 13  WorkLifeBalance                   1250 non-null   int64  \n",
            " 14  YearsAtCompany                    1250 non-null   int64  \n",
            " 15  YearsInCurrentRole                1250 non-null   int64  \n",
            " 16  YearsWithCurrManager              1250 non-null   int64  \n",
            " 17  BusinessTravel_Travel_Frequently  1250 non-null   uint8  \n",
            " 18  BusinessTravel_Travel_Rarely      1250 non-null   uint8  \n",
            " 19  MaritalStatus_Married             1250 non-null   uint8  \n",
            " 20  MaritalStatus_Single              1250 non-null   uint8  \n",
            "dtypes: float64(1), int64(16), uint8(4)\n",
            "memory usage: 171.0 KB\n"
          ]
        }
      ]
    },
    {
      "cell_type": "code",
      "execution_count": 510,
      "metadata": {
        "id": "rrJdDjMiIa1d",
        "colab": {
          "base_uri": "https://localhost:8080/"
        },
        "outputId": "aec8103f-d04f-40fc-e176-5207f5d28350"
      },
      "outputs": [
        {
          "output_type": "execute_result",
          "data": {
            "text/plain": [
              "((1250, 21), (1250,))"
            ]
          },
          "metadata": {},
          "execution_count": 510
        }
      ],
      "source": [
        "x.shape, y.shape"
      ]
    },
    {
      "cell_type": "code",
      "execution_count": 511,
      "metadata": {
        "id": "cXsn5rf0JDVL"
      },
      "outputs": [],
      "source": [
        "from sklearn.model_selection import train_test_split\n",
        "x_origin, x_test, y_origin, y_test = train_test_split(x, y, test_size=200, random_state=2022)"
      ]
    },
    {
      "cell_type": "code",
      "source": [
        "x_train, x_val, y_train, y_val = train_test_split(x_origin, y_origin, test_size=200, random_state=2022)"
      ],
      "metadata": {
        "id": "NTskFtvEidnR"
      },
      "execution_count": 512,
      "outputs": []
    },
    {
      "cell_type": "markdown",
      "metadata": {
        "id": "2Lwk03PSZTJP"
      },
      "source": [
        "### 2.6 (옵션)스케일링 \n",
        "* 스케일링을 필요로 하는 알고리즘이 있습니다. \n",
        "* 필요하다고 판단될때 수행합니다."
      ]
    },
    {
      "cell_type": "code",
      "execution_count": 513,
      "metadata": {
        "id": "oAVSU7XucCvn"
      },
      "outputs": [],
      "source": [
        "from sklearn.preprocessing import MinMaxScaler\n",
        "scaler = MinMaxScaler()"
      ]
    },
    {
      "cell_type": "code",
      "source": [
        "x_trainsc = pd.DataFrame(scaler.fit_transform(x_train), columns=x_train.columns)\n",
        "x_valsc = pd.DataFrame(scaler.fit_transform(x_val), columns=x_train.columns)"
      ],
      "metadata": {
        "id": "GmaTZyC2i2fG"
      },
      "execution_count": 514,
      "outputs": []
    },
    {
      "cell_type": "code",
      "source": [
        "x_trainsc.describe()"
      ],
      "metadata": {
        "colab": {
          "base_uri": "https://localhost:8080/",
          "height": 394
        },
        "id": "CqOQV9C-jEJe",
        "outputId": "193e6f0b-b6a0-4f0a-9d8e-a2dcbd573552"
      },
      "execution_count": 515,
      "outputs": [
        {
          "output_type": "execute_result",
          "data": {
            "text/plain": [
              "              Age  DistanceFromHome   Education  EnvironmentSatisfaction  \\\n",
              "count  850.000000        850.000000  850.000000               850.000000   \n",
              "mean     0.450728          0.288109    0.477647                 0.585490   \n",
              "std      0.217665          0.284896    0.254986                 0.366542   \n",
              "min      0.000000          0.000000    0.000000                 0.000000   \n",
              "25%      0.285714          0.035714    0.250000                 0.333333   \n",
              "50%      0.404762          0.214286    0.500000                 0.666667   \n",
              "75%      0.595238          0.455357    0.750000                 1.000000   \n",
              "max      1.000000          1.000000    1.000000                 1.000000   \n",
              "\n",
              "           Gender  JobInvolvement  JobSatisfaction  MonthlyIncome    OverTime  \\\n",
              "count  850.000000      850.000000       850.000000     850.000000  850.000000   \n",
              "mean     0.612941        0.573333         0.575686       0.284923    0.284706   \n",
              "std      0.487364        0.239246         0.374679       0.243468    0.451540   \n",
              "min      0.000000        0.000000         0.000000       0.000000    0.000000   \n",
              "25%      0.000000        0.333333         0.333333       0.098058    0.000000   \n",
              "50%      1.000000        0.666667         0.666667       0.204877    0.000000   \n",
              "75%      1.000000        0.666667         1.000000       0.384671    1.000000   \n",
              "max      1.000000        1.000000         1.000000       1.000000    1.000000   \n",
              "\n",
              "       PercentSalaryHike  ...  StockOptionLevel  TotalWorkingYears  \\\n",
              "count         850.000000  ...        850.000000         850.000000   \n",
              "mean            0.298319  ...          0.267843           0.284765   \n",
              "std             0.258663  ...          0.284437           0.196967   \n",
              "min             0.000000  ...          0.000000           0.000000   \n",
              "25%             0.071429  ...          0.000000           0.150000   \n",
              "50%             0.214286  ...          0.333333           0.250000   \n",
              "75%             0.500000  ...          0.333333           0.400000   \n",
              "max             1.000000  ...          1.000000           1.000000   \n",
              "\n",
              "       WorkLifeBalance  YearsAtCompany  YearsInCurrentRole  \\\n",
              "count       850.000000      850.000000          850.000000   \n",
              "mean          0.587843        0.177235            0.238758   \n",
              "std           0.239822        0.154714            0.204873   \n",
              "min           0.000000        0.000000            0.000000   \n",
              "25%           0.333333        0.075000            0.111111   \n",
              "50%           0.666667        0.125000            0.166667   \n",
              "75%           0.666667        0.250000            0.388889   \n",
              "max           1.000000        1.000000            1.000000   \n",
              "\n",
              "       YearsWithCurrManager  BusinessTravel_Travel_Frequently  \\\n",
              "count            850.000000                        850.000000   \n",
              "mean               0.241315                          0.194118   \n",
              "std                0.209453                          0.395753   \n",
              "min                0.000000                          0.000000   \n",
              "25%                0.117647                          0.000000   \n",
              "50%                0.176471                          0.000000   \n",
              "75%                0.411765                          0.000000   \n",
              "max                1.000000                          1.000000   \n",
              "\n",
              "       BusinessTravel_Travel_Rarely  MaritalStatus_Married  \\\n",
              "count                    850.000000             850.000000   \n",
              "mean                       0.695294               0.436471   \n",
              "std                        0.460554               0.496240   \n",
              "min                        0.000000               0.000000   \n",
              "25%                        0.000000               0.000000   \n",
              "50%                        1.000000               0.000000   \n",
              "75%                        1.000000               1.000000   \n",
              "max                        1.000000               1.000000   \n",
              "\n",
              "       MaritalStatus_Single  \n",
              "count            850.000000  \n",
              "mean               0.327059  \n",
              "std                0.469415  \n",
              "min                0.000000  \n",
              "25%                0.000000  \n",
              "50%                0.000000  \n",
              "75%                1.000000  \n",
              "max                1.000000  \n",
              "\n",
              "[8 rows x 21 columns]"
            ],
            "text/html": [
              "\n",
              "  <div id=\"df-42529fb8-440c-4ce2-a9b1-99ef6cbb65f8\">\n",
              "    <div class=\"colab-df-container\">\n",
              "      <div>\n",
              "<style scoped>\n",
              "    .dataframe tbody tr th:only-of-type {\n",
              "        vertical-align: middle;\n",
              "    }\n",
              "\n",
              "    .dataframe tbody tr th {\n",
              "        vertical-align: top;\n",
              "    }\n",
              "\n",
              "    .dataframe thead th {\n",
              "        text-align: right;\n",
              "    }\n",
              "</style>\n",
              "<table border=\"1\" class=\"dataframe\">\n",
              "  <thead>\n",
              "    <tr style=\"text-align: right;\">\n",
              "      <th></th>\n",
              "      <th>Age</th>\n",
              "      <th>DistanceFromHome</th>\n",
              "      <th>Education</th>\n",
              "      <th>EnvironmentSatisfaction</th>\n",
              "      <th>Gender</th>\n",
              "      <th>JobInvolvement</th>\n",
              "      <th>JobSatisfaction</th>\n",
              "      <th>MonthlyIncome</th>\n",
              "      <th>OverTime</th>\n",
              "      <th>PercentSalaryHike</th>\n",
              "      <th>...</th>\n",
              "      <th>StockOptionLevel</th>\n",
              "      <th>TotalWorkingYears</th>\n",
              "      <th>WorkLifeBalance</th>\n",
              "      <th>YearsAtCompany</th>\n",
              "      <th>YearsInCurrentRole</th>\n",
              "      <th>YearsWithCurrManager</th>\n",
              "      <th>BusinessTravel_Travel_Frequently</th>\n",
              "      <th>BusinessTravel_Travel_Rarely</th>\n",
              "      <th>MaritalStatus_Married</th>\n",
              "      <th>MaritalStatus_Single</th>\n",
              "    </tr>\n",
              "  </thead>\n",
              "  <tbody>\n",
              "    <tr>\n",
              "      <th>count</th>\n",
              "      <td>850.000000</td>\n",
              "      <td>850.000000</td>\n",
              "      <td>850.000000</td>\n",
              "      <td>850.000000</td>\n",
              "      <td>850.000000</td>\n",
              "      <td>850.000000</td>\n",
              "      <td>850.000000</td>\n",
              "      <td>850.000000</td>\n",
              "      <td>850.000000</td>\n",
              "      <td>850.000000</td>\n",
              "      <td>...</td>\n",
              "      <td>850.000000</td>\n",
              "      <td>850.000000</td>\n",
              "      <td>850.000000</td>\n",
              "      <td>850.000000</td>\n",
              "      <td>850.000000</td>\n",
              "      <td>850.000000</td>\n",
              "      <td>850.000000</td>\n",
              "      <td>850.000000</td>\n",
              "      <td>850.000000</td>\n",
              "      <td>850.000000</td>\n",
              "    </tr>\n",
              "    <tr>\n",
              "      <th>mean</th>\n",
              "      <td>0.450728</td>\n",
              "      <td>0.288109</td>\n",
              "      <td>0.477647</td>\n",
              "      <td>0.585490</td>\n",
              "      <td>0.612941</td>\n",
              "      <td>0.573333</td>\n",
              "      <td>0.575686</td>\n",
              "      <td>0.284923</td>\n",
              "      <td>0.284706</td>\n",
              "      <td>0.298319</td>\n",
              "      <td>...</td>\n",
              "      <td>0.267843</td>\n",
              "      <td>0.284765</td>\n",
              "      <td>0.587843</td>\n",
              "      <td>0.177235</td>\n",
              "      <td>0.238758</td>\n",
              "      <td>0.241315</td>\n",
              "      <td>0.194118</td>\n",
              "      <td>0.695294</td>\n",
              "      <td>0.436471</td>\n",
              "      <td>0.327059</td>\n",
              "    </tr>\n",
              "    <tr>\n",
              "      <th>std</th>\n",
              "      <td>0.217665</td>\n",
              "      <td>0.284896</td>\n",
              "      <td>0.254986</td>\n",
              "      <td>0.366542</td>\n",
              "      <td>0.487364</td>\n",
              "      <td>0.239246</td>\n",
              "      <td>0.374679</td>\n",
              "      <td>0.243468</td>\n",
              "      <td>0.451540</td>\n",
              "      <td>0.258663</td>\n",
              "      <td>...</td>\n",
              "      <td>0.284437</td>\n",
              "      <td>0.196967</td>\n",
              "      <td>0.239822</td>\n",
              "      <td>0.154714</td>\n",
              "      <td>0.204873</td>\n",
              "      <td>0.209453</td>\n",
              "      <td>0.395753</td>\n",
              "      <td>0.460554</td>\n",
              "      <td>0.496240</td>\n",
              "      <td>0.469415</td>\n",
              "    </tr>\n",
              "    <tr>\n",
              "      <th>min</th>\n",
              "      <td>0.000000</td>\n",
              "      <td>0.000000</td>\n",
              "      <td>0.000000</td>\n",
              "      <td>0.000000</td>\n",
              "      <td>0.000000</td>\n",
              "      <td>0.000000</td>\n",
              "      <td>0.000000</td>\n",
              "      <td>0.000000</td>\n",
              "      <td>0.000000</td>\n",
              "      <td>0.000000</td>\n",
              "      <td>...</td>\n",
              "      <td>0.000000</td>\n",
              "      <td>0.000000</td>\n",
              "      <td>0.000000</td>\n",
              "      <td>0.000000</td>\n",
              "      <td>0.000000</td>\n",
              "      <td>0.000000</td>\n",
              "      <td>0.000000</td>\n",
              "      <td>0.000000</td>\n",
              "      <td>0.000000</td>\n",
              "      <td>0.000000</td>\n",
              "    </tr>\n",
              "    <tr>\n",
              "      <th>25%</th>\n",
              "      <td>0.285714</td>\n",
              "      <td>0.035714</td>\n",
              "      <td>0.250000</td>\n",
              "      <td>0.333333</td>\n",
              "      <td>0.000000</td>\n",
              "      <td>0.333333</td>\n",
              "      <td>0.333333</td>\n",
              "      <td>0.098058</td>\n",
              "      <td>0.000000</td>\n",
              "      <td>0.071429</td>\n",
              "      <td>...</td>\n",
              "      <td>0.000000</td>\n",
              "      <td>0.150000</td>\n",
              "      <td>0.333333</td>\n",
              "      <td>0.075000</td>\n",
              "      <td>0.111111</td>\n",
              "      <td>0.117647</td>\n",
              "      <td>0.000000</td>\n",
              "      <td>0.000000</td>\n",
              "      <td>0.000000</td>\n",
              "      <td>0.000000</td>\n",
              "    </tr>\n",
              "    <tr>\n",
              "      <th>50%</th>\n",
              "      <td>0.404762</td>\n",
              "      <td>0.214286</td>\n",
              "      <td>0.500000</td>\n",
              "      <td>0.666667</td>\n",
              "      <td>1.000000</td>\n",
              "      <td>0.666667</td>\n",
              "      <td>0.666667</td>\n",
              "      <td>0.204877</td>\n",
              "      <td>0.000000</td>\n",
              "      <td>0.214286</td>\n",
              "      <td>...</td>\n",
              "      <td>0.333333</td>\n",
              "      <td>0.250000</td>\n",
              "      <td>0.666667</td>\n",
              "      <td>0.125000</td>\n",
              "      <td>0.166667</td>\n",
              "      <td>0.176471</td>\n",
              "      <td>0.000000</td>\n",
              "      <td>1.000000</td>\n",
              "      <td>0.000000</td>\n",
              "      <td>0.000000</td>\n",
              "    </tr>\n",
              "    <tr>\n",
              "      <th>75%</th>\n",
              "      <td>0.595238</td>\n",
              "      <td>0.455357</td>\n",
              "      <td>0.750000</td>\n",
              "      <td>1.000000</td>\n",
              "      <td>1.000000</td>\n",
              "      <td>0.666667</td>\n",
              "      <td>1.000000</td>\n",
              "      <td>0.384671</td>\n",
              "      <td>1.000000</td>\n",
              "      <td>0.500000</td>\n",
              "      <td>...</td>\n",
              "      <td>0.333333</td>\n",
              "      <td>0.400000</td>\n",
              "      <td>0.666667</td>\n",
              "      <td>0.250000</td>\n",
              "      <td>0.388889</td>\n",
              "      <td>0.411765</td>\n",
              "      <td>0.000000</td>\n",
              "      <td>1.000000</td>\n",
              "      <td>1.000000</td>\n",
              "      <td>1.000000</td>\n",
              "    </tr>\n",
              "    <tr>\n",
              "      <th>max</th>\n",
              "      <td>1.000000</td>\n",
              "      <td>1.000000</td>\n",
              "      <td>1.000000</td>\n",
              "      <td>1.000000</td>\n",
              "      <td>1.000000</td>\n",
              "      <td>1.000000</td>\n",
              "      <td>1.000000</td>\n",
              "      <td>1.000000</td>\n",
              "      <td>1.000000</td>\n",
              "      <td>1.000000</td>\n",
              "      <td>...</td>\n",
              "      <td>1.000000</td>\n",
              "      <td>1.000000</td>\n",
              "      <td>1.000000</td>\n",
              "      <td>1.000000</td>\n",
              "      <td>1.000000</td>\n",
              "      <td>1.000000</td>\n",
              "      <td>1.000000</td>\n",
              "      <td>1.000000</td>\n",
              "      <td>1.000000</td>\n",
              "      <td>1.000000</td>\n",
              "    </tr>\n",
              "  </tbody>\n",
              "</table>\n",
              "<p>8 rows × 21 columns</p>\n",
              "</div>\n",
              "      <button class=\"colab-df-convert\" onclick=\"convertToInteractive('df-42529fb8-440c-4ce2-a9b1-99ef6cbb65f8')\"\n",
              "              title=\"Convert this dataframe to an interactive table.\"\n",
              "              style=\"display:none;\">\n",
              "        \n",
              "  <svg xmlns=\"http://www.w3.org/2000/svg\" height=\"24px\"viewBox=\"0 0 24 24\"\n",
              "       width=\"24px\">\n",
              "    <path d=\"M0 0h24v24H0V0z\" fill=\"none\"/>\n",
              "    <path d=\"M18.56 5.44l.94 2.06.94-2.06 2.06-.94-2.06-.94-.94-2.06-.94 2.06-2.06.94zm-11 1L8.5 8.5l.94-2.06 2.06-.94-2.06-.94L8.5 2.5l-.94 2.06-2.06.94zm10 10l.94 2.06.94-2.06 2.06-.94-2.06-.94-.94-2.06-.94 2.06-2.06.94z\"/><path d=\"M17.41 7.96l-1.37-1.37c-.4-.4-.92-.59-1.43-.59-.52 0-1.04.2-1.43.59L10.3 9.45l-7.72 7.72c-.78.78-.78 2.05 0 2.83L4 21.41c.39.39.9.59 1.41.59.51 0 1.02-.2 1.41-.59l7.78-7.78 2.81-2.81c.8-.78.8-2.07 0-2.86zM5.41 20L4 18.59l7.72-7.72 1.47 1.35L5.41 20z\"/>\n",
              "  </svg>\n",
              "      </button>\n",
              "      \n",
              "  <style>\n",
              "    .colab-df-container {\n",
              "      display:flex;\n",
              "      flex-wrap:wrap;\n",
              "      gap: 12px;\n",
              "    }\n",
              "\n",
              "    .colab-df-convert {\n",
              "      background-color: #E8F0FE;\n",
              "      border: none;\n",
              "      border-radius: 50%;\n",
              "      cursor: pointer;\n",
              "      display: none;\n",
              "      fill: #1967D2;\n",
              "      height: 32px;\n",
              "      padding: 0 0 0 0;\n",
              "      width: 32px;\n",
              "    }\n",
              "\n",
              "    .colab-df-convert:hover {\n",
              "      background-color: #E2EBFA;\n",
              "      box-shadow: 0px 1px 2px rgba(60, 64, 67, 0.3), 0px 1px 3px 1px rgba(60, 64, 67, 0.15);\n",
              "      fill: #174EA6;\n",
              "    }\n",
              "\n",
              "    [theme=dark] .colab-df-convert {\n",
              "      background-color: #3B4455;\n",
              "      fill: #D2E3FC;\n",
              "    }\n",
              "\n",
              "    [theme=dark] .colab-df-convert:hover {\n",
              "      background-color: #434B5C;\n",
              "      box-shadow: 0px 1px 3px 1px rgba(0, 0, 0, 0.15);\n",
              "      filter: drop-shadow(0px 1px 2px rgba(0, 0, 0, 0.3));\n",
              "      fill: #FFFFFF;\n",
              "    }\n",
              "  </style>\n",
              "\n",
              "      <script>\n",
              "        const buttonEl =\n",
              "          document.querySelector('#df-42529fb8-440c-4ce2-a9b1-99ef6cbb65f8 button.colab-df-convert');\n",
              "        buttonEl.style.display =\n",
              "          google.colab.kernel.accessAllowed ? 'block' : 'none';\n",
              "\n",
              "        async function convertToInteractive(key) {\n",
              "          const element = document.querySelector('#df-42529fb8-440c-4ce2-a9b1-99ef6cbb65f8');\n",
              "          const dataTable =\n",
              "            await google.colab.kernel.invokeFunction('convertToInteractive',\n",
              "                                                     [key], {});\n",
              "          if (!dataTable) return;\n",
              "\n",
              "          const docLinkHtml = 'Like what you see? Visit the ' +\n",
              "            '<a target=\"_blank\" href=https://colab.research.google.com/notebooks/data_table.ipynb>data table notebook</a>'\n",
              "            + ' to learn more about interactive tables.';\n",
              "          element.innerHTML = '';\n",
              "          dataTable['output_type'] = 'display_data';\n",
              "          await google.colab.output.renderOutput(dataTable, element);\n",
              "          const docLink = document.createElement('div');\n",
              "          docLink.innerHTML = docLinkHtml;\n",
              "          element.appendChild(docLink);\n",
              "        }\n",
              "      </script>\n",
              "    </div>\n",
              "  </div>\n",
              "  "
            ]
          },
          "metadata": {},
          "execution_count": 515
        }
      ]
    },
    {
      "cell_type": "code",
      "source": [
        "x_valsc.describe()"
      ],
      "metadata": {
        "colab": {
          "base_uri": "https://localhost:8080/",
          "height": 394
        },
        "id": "SMFTmzNYjHQA",
        "outputId": "984350f9-e90a-47ee-d8a1-424c6b2531b9"
      },
      "execution_count": 516,
      "outputs": [
        {
          "output_type": "execute_result",
          "data": {
            "text/plain": [
              "              Age  DistanceFromHome   Education  EnvironmentSatisfaction  \\\n",
              "count  200.000000        200.000000  200.000000               200.000000   \n",
              "mean     0.449643          0.276964    0.486250                 0.581667   \n",
              "std      0.223445          0.276282    0.271324                 0.361456   \n",
              "min      0.000000          0.000000    0.000000                 0.000000   \n",
              "25%      0.285714          0.062500    0.250000                 0.333333   \n",
              "50%      0.416667          0.214286    0.500000                 0.666667   \n",
              "75%      0.619048          0.357143    0.750000                 1.000000   \n",
              "max      1.000000          1.000000    1.000000                 1.000000   \n",
              "\n",
              "           Gender  JobInvolvement  JobSatisfaction  MonthlyIncome    OverTime  \\\n",
              "count  200.000000      200.000000       200.000000     200.000000  200.000000   \n",
              "mean     0.585000        0.598333         0.570000       0.314631    0.270000   \n",
              "std      0.493958        0.222411         0.365439       0.265122    0.445074   \n",
              "min      0.000000        0.000000         0.000000       0.000000    0.000000   \n",
              "25%      0.000000        0.333333         0.333333       0.114862    0.000000   \n",
              "50%      1.000000        0.666667         0.666667       0.214792    0.000000   \n",
              "75%      1.000000        0.666667         1.000000       0.465652    1.000000   \n",
              "max      1.000000        1.000000         1.000000       1.000000    1.000000   \n",
              "\n",
              "       PercentSalaryHike  ...  StockOptionLevel  TotalWorkingYears  \\\n",
              "count         200.000000  ...        200.000000         200.000000   \n",
              "mean            0.301429  ...          0.258333           0.308514   \n",
              "std             0.268330  ...          0.278461           0.202384   \n",
              "min             0.000000  ...          0.000000           0.000000   \n",
              "25%             0.071429  ...          0.000000           0.162162   \n",
              "50%             0.214286  ...          0.333333           0.256757   \n",
              "75%             0.500000  ...          0.333333           0.405405   \n",
              "max             1.000000  ...          1.000000           1.000000   \n",
              "\n",
              "       WorkLifeBalance  YearsAtCompany  YearsInCurrentRole  \\\n",
              "count       200.000000      200.000000          200.000000   \n",
              "mean          0.601667        0.207917            0.246111   \n",
              "std           0.220900        0.184109            0.202772   \n",
              "min           0.000000        0.000000            0.000000   \n",
              "25%           0.333333        0.083333            0.111111   \n",
              "50%           0.666667        0.166667            0.222222   \n",
              "75%           0.666667        0.277778            0.388889   \n",
              "max           1.000000        1.000000            1.000000   \n",
              "\n",
              "       YearsWithCurrManager  BusinessTravel_Travel_Frequently  \\\n",
              "count            200.000000                        200.000000   \n",
              "mean               0.282500                          0.140000   \n",
              "std                0.241287                          0.347858   \n",
              "min                0.000000                          0.000000   \n",
              "25%                0.125000                          0.000000   \n",
              "50%                0.187500                          0.000000   \n",
              "75%                0.437500                          0.000000   \n",
              "max                1.000000                          1.000000   \n",
              "\n",
              "       BusinessTravel_Travel_Rarely  MaritalStatus_Married  \\\n",
              "count                    200.000000             200.000000   \n",
              "mean                       0.805000               0.510000   \n",
              "std                        0.397195               0.501154   \n",
              "min                        0.000000               0.000000   \n",
              "25%                        1.000000               0.000000   \n",
              "50%                        1.000000               1.000000   \n",
              "75%                        1.000000               1.000000   \n",
              "max                        1.000000               1.000000   \n",
              "\n",
              "       MaritalStatus_Single  \n",
              "count             200.00000  \n",
              "mean                0.32500  \n",
              "std                 0.46955  \n",
              "min                 0.00000  \n",
              "25%                 0.00000  \n",
              "50%                 0.00000  \n",
              "75%                 1.00000  \n",
              "max                 1.00000  \n",
              "\n",
              "[8 rows x 21 columns]"
            ],
            "text/html": [
              "\n",
              "  <div id=\"df-8cf20608-744c-48a0-8336-d13a85b91be5\">\n",
              "    <div class=\"colab-df-container\">\n",
              "      <div>\n",
              "<style scoped>\n",
              "    .dataframe tbody tr th:only-of-type {\n",
              "        vertical-align: middle;\n",
              "    }\n",
              "\n",
              "    .dataframe tbody tr th {\n",
              "        vertical-align: top;\n",
              "    }\n",
              "\n",
              "    .dataframe thead th {\n",
              "        text-align: right;\n",
              "    }\n",
              "</style>\n",
              "<table border=\"1\" class=\"dataframe\">\n",
              "  <thead>\n",
              "    <tr style=\"text-align: right;\">\n",
              "      <th></th>\n",
              "      <th>Age</th>\n",
              "      <th>DistanceFromHome</th>\n",
              "      <th>Education</th>\n",
              "      <th>EnvironmentSatisfaction</th>\n",
              "      <th>Gender</th>\n",
              "      <th>JobInvolvement</th>\n",
              "      <th>JobSatisfaction</th>\n",
              "      <th>MonthlyIncome</th>\n",
              "      <th>OverTime</th>\n",
              "      <th>PercentSalaryHike</th>\n",
              "      <th>...</th>\n",
              "      <th>StockOptionLevel</th>\n",
              "      <th>TotalWorkingYears</th>\n",
              "      <th>WorkLifeBalance</th>\n",
              "      <th>YearsAtCompany</th>\n",
              "      <th>YearsInCurrentRole</th>\n",
              "      <th>YearsWithCurrManager</th>\n",
              "      <th>BusinessTravel_Travel_Frequently</th>\n",
              "      <th>BusinessTravel_Travel_Rarely</th>\n",
              "      <th>MaritalStatus_Married</th>\n",
              "      <th>MaritalStatus_Single</th>\n",
              "    </tr>\n",
              "  </thead>\n",
              "  <tbody>\n",
              "    <tr>\n",
              "      <th>count</th>\n",
              "      <td>200.000000</td>\n",
              "      <td>200.000000</td>\n",
              "      <td>200.000000</td>\n",
              "      <td>200.000000</td>\n",
              "      <td>200.000000</td>\n",
              "      <td>200.000000</td>\n",
              "      <td>200.000000</td>\n",
              "      <td>200.000000</td>\n",
              "      <td>200.000000</td>\n",
              "      <td>200.000000</td>\n",
              "      <td>...</td>\n",
              "      <td>200.000000</td>\n",
              "      <td>200.000000</td>\n",
              "      <td>200.000000</td>\n",
              "      <td>200.000000</td>\n",
              "      <td>200.000000</td>\n",
              "      <td>200.000000</td>\n",
              "      <td>200.000000</td>\n",
              "      <td>200.000000</td>\n",
              "      <td>200.000000</td>\n",
              "      <td>200.00000</td>\n",
              "    </tr>\n",
              "    <tr>\n",
              "      <th>mean</th>\n",
              "      <td>0.449643</td>\n",
              "      <td>0.276964</td>\n",
              "      <td>0.486250</td>\n",
              "      <td>0.581667</td>\n",
              "      <td>0.585000</td>\n",
              "      <td>0.598333</td>\n",
              "      <td>0.570000</td>\n",
              "      <td>0.314631</td>\n",
              "      <td>0.270000</td>\n",
              "      <td>0.301429</td>\n",
              "      <td>...</td>\n",
              "      <td>0.258333</td>\n",
              "      <td>0.308514</td>\n",
              "      <td>0.601667</td>\n",
              "      <td>0.207917</td>\n",
              "      <td>0.246111</td>\n",
              "      <td>0.282500</td>\n",
              "      <td>0.140000</td>\n",
              "      <td>0.805000</td>\n",
              "      <td>0.510000</td>\n",
              "      <td>0.32500</td>\n",
              "    </tr>\n",
              "    <tr>\n",
              "      <th>std</th>\n",
              "      <td>0.223445</td>\n",
              "      <td>0.276282</td>\n",
              "      <td>0.271324</td>\n",
              "      <td>0.361456</td>\n",
              "      <td>0.493958</td>\n",
              "      <td>0.222411</td>\n",
              "      <td>0.365439</td>\n",
              "      <td>0.265122</td>\n",
              "      <td>0.445074</td>\n",
              "      <td>0.268330</td>\n",
              "      <td>...</td>\n",
              "      <td>0.278461</td>\n",
              "      <td>0.202384</td>\n",
              "      <td>0.220900</td>\n",
              "      <td>0.184109</td>\n",
              "      <td>0.202772</td>\n",
              "      <td>0.241287</td>\n",
              "      <td>0.347858</td>\n",
              "      <td>0.397195</td>\n",
              "      <td>0.501154</td>\n",
              "      <td>0.46955</td>\n",
              "    </tr>\n",
              "    <tr>\n",
              "      <th>min</th>\n",
              "      <td>0.000000</td>\n",
              "      <td>0.000000</td>\n",
              "      <td>0.000000</td>\n",
              "      <td>0.000000</td>\n",
              "      <td>0.000000</td>\n",
              "      <td>0.000000</td>\n",
              "      <td>0.000000</td>\n",
              "      <td>0.000000</td>\n",
              "      <td>0.000000</td>\n",
              "      <td>0.000000</td>\n",
              "      <td>...</td>\n",
              "      <td>0.000000</td>\n",
              "      <td>0.000000</td>\n",
              "      <td>0.000000</td>\n",
              "      <td>0.000000</td>\n",
              "      <td>0.000000</td>\n",
              "      <td>0.000000</td>\n",
              "      <td>0.000000</td>\n",
              "      <td>0.000000</td>\n",
              "      <td>0.000000</td>\n",
              "      <td>0.00000</td>\n",
              "    </tr>\n",
              "    <tr>\n",
              "      <th>25%</th>\n",
              "      <td>0.285714</td>\n",
              "      <td>0.062500</td>\n",
              "      <td>0.250000</td>\n",
              "      <td>0.333333</td>\n",
              "      <td>0.000000</td>\n",
              "      <td>0.333333</td>\n",
              "      <td>0.333333</td>\n",
              "      <td>0.114862</td>\n",
              "      <td>0.000000</td>\n",
              "      <td>0.071429</td>\n",
              "      <td>...</td>\n",
              "      <td>0.000000</td>\n",
              "      <td>0.162162</td>\n",
              "      <td>0.333333</td>\n",
              "      <td>0.083333</td>\n",
              "      <td>0.111111</td>\n",
              "      <td>0.125000</td>\n",
              "      <td>0.000000</td>\n",
              "      <td>1.000000</td>\n",
              "      <td>0.000000</td>\n",
              "      <td>0.00000</td>\n",
              "    </tr>\n",
              "    <tr>\n",
              "      <th>50%</th>\n",
              "      <td>0.416667</td>\n",
              "      <td>0.214286</td>\n",
              "      <td>0.500000</td>\n",
              "      <td>0.666667</td>\n",
              "      <td>1.000000</td>\n",
              "      <td>0.666667</td>\n",
              "      <td>0.666667</td>\n",
              "      <td>0.214792</td>\n",
              "      <td>0.000000</td>\n",
              "      <td>0.214286</td>\n",
              "      <td>...</td>\n",
              "      <td>0.333333</td>\n",
              "      <td>0.256757</td>\n",
              "      <td>0.666667</td>\n",
              "      <td>0.166667</td>\n",
              "      <td>0.222222</td>\n",
              "      <td>0.187500</td>\n",
              "      <td>0.000000</td>\n",
              "      <td>1.000000</td>\n",
              "      <td>1.000000</td>\n",
              "      <td>0.00000</td>\n",
              "    </tr>\n",
              "    <tr>\n",
              "      <th>75%</th>\n",
              "      <td>0.619048</td>\n",
              "      <td>0.357143</td>\n",
              "      <td>0.750000</td>\n",
              "      <td>1.000000</td>\n",
              "      <td>1.000000</td>\n",
              "      <td>0.666667</td>\n",
              "      <td>1.000000</td>\n",
              "      <td>0.465652</td>\n",
              "      <td>1.000000</td>\n",
              "      <td>0.500000</td>\n",
              "      <td>...</td>\n",
              "      <td>0.333333</td>\n",
              "      <td>0.405405</td>\n",
              "      <td>0.666667</td>\n",
              "      <td>0.277778</td>\n",
              "      <td>0.388889</td>\n",
              "      <td>0.437500</td>\n",
              "      <td>0.000000</td>\n",
              "      <td>1.000000</td>\n",
              "      <td>1.000000</td>\n",
              "      <td>1.00000</td>\n",
              "    </tr>\n",
              "    <tr>\n",
              "      <th>max</th>\n",
              "      <td>1.000000</td>\n",
              "      <td>1.000000</td>\n",
              "      <td>1.000000</td>\n",
              "      <td>1.000000</td>\n",
              "      <td>1.000000</td>\n",
              "      <td>1.000000</td>\n",
              "      <td>1.000000</td>\n",
              "      <td>1.000000</td>\n",
              "      <td>1.000000</td>\n",
              "      <td>1.000000</td>\n",
              "      <td>...</td>\n",
              "      <td>1.000000</td>\n",
              "      <td>1.000000</td>\n",
              "      <td>1.000000</td>\n",
              "      <td>1.000000</td>\n",
              "      <td>1.000000</td>\n",
              "      <td>1.000000</td>\n",
              "      <td>1.000000</td>\n",
              "      <td>1.000000</td>\n",
              "      <td>1.000000</td>\n",
              "      <td>1.00000</td>\n",
              "    </tr>\n",
              "  </tbody>\n",
              "</table>\n",
              "<p>8 rows × 21 columns</p>\n",
              "</div>\n",
              "      <button class=\"colab-df-convert\" onclick=\"convertToInteractive('df-8cf20608-744c-48a0-8336-d13a85b91be5')\"\n",
              "              title=\"Convert this dataframe to an interactive table.\"\n",
              "              style=\"display:none;\">\n",
              "        \n",
              "  <svg xmlns=\"http://www.w3.org/2000/svg\" height=\"24px\"viewBox=\"0 0 24 24\"\n",
              "       width=\"24px\">\n",
              "    <path d=\"M0 0h24v24H0V0z\" fill=\"none\"/>\n",
              "    <path d=\"M18.56 5.44l.94 2.06.94-2.06 2.06-.94-2.06-.94-.94-2.06-.94 2.06-2.06.94zm-11 1L8.5 8.5l.94-2.06 2.06-.94-2.06-.94L8.5 2.5l-.94 2.06-2.06.94zm10 10l.94 2.06.94-2.06 2.06-.94-2.06-.94-.94-2.06-.94 2.06-2.06.94z\"/><path d=\"M17.41 7.96l-1.37-1.37c-.4-.4-.92-.59-1.43-.59-.52 0-1.04.2-1.43.59L10.3 9.45l-7.72 7.72c-.78.78-.78 2.05 0 2.83L4 21.41c.39.39.9.59 1.41.59.51 0 1.02-.2 1.41-.59l7.78-7.78 2.81-2.81c.8-.78.8-2.07 0-2.86zM5.41 20L4 18.59l7.72-7.72 1.47 1.35L5.41 20z\"/>\n",
              "  </svg>\n",
              "      </button>\n",
              "      \n",
              "  <style>\n",
              "    .colab-df-container {\n",
              "      display:flex;\n",
              "      flex-wrap:wrap;\n",
              "      gap: 12px;\n",
              "    }\n",
              "\n",
              "    .colab-df-convert {\n",
              "      background-color: #E8F0FE;\n",
              "      border: none;\n",
              "      border-radius: 50%;\n",
              "      cursor: pointer;\n",
              "      display: none;\n",
              "      fill: #1967D2;\n",
              "      height: 32px;\n",
              "      padding: 0 0 0 0;\n",
              "      width: 32px;\n",
              "    }\n",
              "\n",
              "    .colab-df-convert:hover {\n",
              "      background-color: #E2EBFA;\n",
              "      box-shadow: 0px 1px 2px rgba(60, 64, 67, 0.3), 0px 1px 3px 1px rgba(60, 64, 67, 0.15);\n",
              "      fill: #174EA6;\n",
              "    }\n",
              "\n",
              "    [theme=dark] .colab-df-convert {\n",
              "      background-color: #3B4455;\n",
              "      fill: #D2E3FC;\n",
              "    }\n",
              "\n",
              "    [theme=dark] .colab-df-convert:hover {\n",
              "      background-color: #434B5C;\n",
              "      box-shadow: 0px 1px 3px 1px rgba(0, 0, 0, 0.15);\n",
              "      filter: drop-shadow(0px 1px 2px rgba(0, 0, 0, 0.3));\n",
              "      fill: #FFFFFF;\n",
              "    }\n",
              "  </style>\n",
              "\n",
              "      <script>\n",
              "        const buttonEl =\n",
              "          document.querySelector('#df-8cf20608-744c-48a0-8336-d13a85b91be5 button.colab-df-convert');\n",
              "        buttonEl.style.display =\n",
              "          google.colab.kernel.accessAllowed ? 'block' : 'none';\n",
              "\n",
              "        async function convertToInteractive(key) {\n",
              "          const element = document.querySelector('#df-8cf20608-744c-48a0-8336-d13a85b91be5');\n",
              "          const dataTable =\n",
              "            await google.colab.kernel.invokeFunction('convertToInteractive',\n",
              "                                                     [key], {});\n",
              "          if (!dataTable) return;\n",
              "\n",
              "          const docLinkHtml = 'Like what you see? Visit the ' +\n",
              "            '<a target=\"_blank\" href=https://colab.research.google.com/notebooks/data_table.ipynb>data table notebook</a>'\n",
              "            + ' to learn more about interactive tables.';\n",
              "          element.innerHTML = '';\n",
              "          dataTable['output_type'] = 'display_data';\n",
              "          await google.colab.output.renderOutput(dataTable, element);\n",
              "          const docLink = document.createElement('div');\n",
              "          docLink.innerHTML = docLinkHtml;\n",
              "          element.appendChild(docLink);\n",
              "        }\n",
              "      </script>\n",
              "    </div>\n",
              "  </div>\n",
              "  "
            ]
          },
          "metadata": {},
          "execution_count": 516
        }
      ]
    },
    {
      "cell_type": "markdown",
      "metadata": {
        "id": "ZghJJ7yLEpDA"
      },
      "source": [
        "## 3.모델링1 : 머신러닝"
      ]
    },
    {
      "cell_type": "markdown",
      "metadata": {
        "id": "NFDAfi7-5Xhu"
      },
      "source": [
        "### 3.1 모델링을 위한 함수 불러오기\n",
        "\n",
        "* 꼭 필요한 함수만 불러옵니다. 무조건 다 불러오는 것은 지양해주세요."
      ]
    },
    {
      "cell_type": "code",
      "execution_count": 517,
      "metadata": {
        "id": "zlHHnr2-5cwD"
      },
      "outputs": [],
      "source": [
        "from sklearn.metrics import *\n",
        "from sklearn.linear_model import LogisticRegression\n",
        "from sklearn.tree import DecisionTreeClassifier\n",
        "from sklearn.neighbors import KNeighborsClassifier\n",
        "from sklearn.ensemble import RandomForestClassifier\n",
        "from xgboost import XGBClassifier\n",
        "from sklearn.svm import SVC\n",
        "\n",
        "from sklearn.model_selection import GridSearchCV, RandomizedSearchCV"
      ]
    },
    {
      "cell_type": "markdown",
      "metadata": {
        "id": "6K1mZKlXByLy"
      },
      "source": [
        "### 3.2 모델링\n",
        "* 최소 3개 이상의 알고리즘을 선정합니다.(알고리즘에는 최소 1개 이상의 앙상블 기법을 포함)\n",
        "    * 아래 주어진 목록 이외의 알고리즘을 선정해도 좋습니다.\n",
        "* 각 알고리즘별 튜닝을 수행하여 최적의 모델을 생성합니다.\n",
        "    * 튜닝 방식은 GridSearchCV, RandomizedSearchCV 혹은 for loop 로 직접\n",
        "    * 단, 선형회귀, 로지스틱 회귀의는 입력 변수(feature)를 조절하여 튜닝을 합니다.\n",
        "    * 튜닝 과정에 대해서 주석으로 기술합니다.\n",
        "* 모델링, 튜닝만 수행하는데 그치지 말고, 모델의 내용을 파악하기 위한 분석을 시도합니다. 코드 결과에 대한 분석 의견을 주석으로 기술합니다.\n",
        "    * 예 : 모델 시각화 및 내용 파악, 튜닝 결과 분석 및 시각화"
      ]
    },
    {
      "cell_type": "markdown",
      "metadata": {
        "id": "1j8zehMIIqpv"
      },
      "source": [
        "#### (1) Logistic Regression 모델링"
      ]
    },
    {
      "cell_type": "code",
      "execution_count": 518,
      "metadata": {
        "id": "Y9zuNT45N9ba",
        "colab": {
          "base_uri": "https://localhost:8080/"
        },
        "outputId": "bbb25609-72a0-4c6a-9685-8717c623523e"
      },
      "outputs": [
        {
          "output_type": "execute_result",
          "data": {
            "text/plain": [
              "LogisticRegression(solver='liblinear')"
            ]
          },
          "metadata": {},
          "execution_count": 518
        }
      ],
      "source": [
        "model1 = LogisticRegression(solver='liblinear')\n",
        "model1.fit(x_train, y_train)"
      ]
    },
    {
      "cell_type": "code",
      "execution_count": 519,
      "metadata": {
        "id": "3f99QdhTN9W6"
      },
      "outputs": [],
      "source": [
        "val_pred1 = model1.predict(x_val)"
      ]
    },
    {
      "cell_type": "code",
      "source": [
        "print(confusion_matrix(y_val, val_pred1))\n",
        "print(classification_report(y_val, val_pred1))"
      ],
      "metadata": {
        "colab": {
          "base_uri": "https://localhost:8080/"
        },
        "id": "tVLaNPB6ogfj",
        "outputId": "ca4f4fdc-2cdf-43f1-9f84-f385c1d3cc53"
      },
      "execution_count": 520,
      "outputs": [
        {
          "output_type": "stream",
          "name": "stdout",
          "text": [
            "[[173   3]\n",
            " [ 17   7]]\n",
            "              precision    recall  f1-score   support\n",
            "\n",
            "           0       0.91      0.98      0.95       176\n",
            "           1       0.70      0.29      0.41        24\n",
            "\n",
            "    accuracy                           0.90       200\n",
            "   macro avg       0.81      0.64      0.68       200\n",
            "weighted avg       0.89      0.90      0.88       200\n",
            "\n"
          ]
        }
      ]
    },
    {
      "cell_type": "markdown",
      "metadata": {
        "id": "ZwstDzzpe5Rg"
      },
      "source": [
        "#### (2) Decision Tree 모델링"
      ]
    },
    {
      "cell_type": "code",
      "execution_count": 521,
      "metadata": {
        "id": "Cu17HFZ-N_sH"
      },
      "outputs": [],
      "source": [
        "# model2 = DecisionTreeClassifier(max_depth=5)\n",
        "# model2.fit(x_train, y_train)"
      ]
    },
    {
      "cell_type": "code",
      "execution_count": 522,
      "metadata": {
        "id": "lEDr52yLN_b3"
      },
      "outputs": [],
      "source": [
        "model_dt = DecisionTreeClassifier(random_state=2022)\n",
        "\n",
        "param = {'max_depth': range(3, 25)}\n",
        "\n",
        "model2 = GridSearchCV(model_dt, param, cv=5, scoring='accuracy', verbose=1)"
      ]
    },
    {
      "cell_type": "code",
      "source": [
        "model2.fit(x_train, y_train)"
      ],
      "metadata": {
        "colab": {
          "base_uri": "https://localhost:8080/"
        },
        "id": "D4Ik6syUncqA",
        "outputId": "80dc53ec-51f7-49b9-b128-3f821875e25b"
      },
      "execution_count": 523,
      "outputs": [
        {
          "output_type": "stream",
          "name": "stdout",
          "text": [
            "Fitting 5 folds for each of 22 candidates, totalling 110 fits\n"
          ]
        },
        {
          "output_type": "execute_result",
          "data": {
            "text/plain": [
              "GridSearchCV(cv=5, estimator=DecisionTreeClassifier(random_state=2022),\n",
              "             param_grid={'max_depth': range(3, 25)}, scoring='accuracy',\n",
              "             verbose=1)"
            ]
          },
          "metadata": {},
          "execution_count": 523
        }
      ]
    },
    {
      "cell_type": "code",
      "source": [
        "print('최적 파라미터값: ', model2.best_params_)\n",
        "print('성능: ', model2.best_score_)"
      ],
      "metadata": {
        "colab": {
          "base_uri": "https://localhost:8080/"
        },
        "id": "wk-XqvXMoWSR",
        "outputId": "9c8cc854-5c78-4e66-ce30-275cbeb60f7f"
      },
      "execution_count": 524,
      "outputs": [
        {
          "output_type": "stream",
          "name": "stdout",
          "text": [
            "최적 파라미터값:  {'max_depth': 4}\n",
            "성능:  0.8341176470588234\n"
          ]
        }
      ]
    },
    {
      "cell_type": "code",
      "source": [
        "# from sklearn.tree import export_graphviz\n",
        "\n",
        "# export_graphviz(model2, out_file='tree.dot', feature_names=x_train.columns, rounded=True, precision=4, filled=True)\n",
        "# !dot -Tpng tree.dot -o dtree.png -Gdpi=100\n",
        "# from IPython.display import Image\n",
        "# Image(filename='dtree.png', width=1000)"
      ],
      "metadata": {
        "id": "1iYHHislphxh"
      },
      "execution_count": 525,
      "outputs": []
    },
    {
      "cell_type": "code",
      "source": [
        "val_pred2 = model2.predict(x_val)"
      ],
      "metadata": {
        "id": "MCy1q5Y1oo8n"
      },
      "execution_count": 526,
      "outputs": []
    },
    {
      "cell_type": "code",
      "source": [
        "print(confusion_matrix(y_val, val_pred2))\n",
        "print(classification_report(y_val, val_pred2))"
      ],
      "metadata": {
        "colab": {
          "base_uri": "https://localhost:8080/"
        },
        "id": "be073NLeoojW",
        "outputId": "00e05365-3be4-4bd2-c053-3b4eb78a10e4"
      },
      "execution_count": 527,
      "outputs": [
        {
          "output_type": "stream",
          "name": "stdout",
          "text": [
            "[[167   9]\n",
            " [ 20   4]]\n",
            "              precision    recall  f1-score   support\n",
            "\n",
            "           0       0.89      0.95      0.92       176\n",
            "           1       0.31      0.17      0.22        24\n",
            "\n",
            "    accuracy                           0.85       200\n",
            "   macro avg       0.60      0.56      0.57       200\n",
            "weighted avg       0.82      0.85      0.84       200\n",
            "\n"
          ]
        }
      ]
    },
    {
      "cell_type": "markdown",
      "metadata": {
        "id": "b7sweeGMWYO1"
      },
      "source": [
        "#### (3) KNN 모델링"
      ]
    },
    {
      "cell_type": "code",
      "execution_count": 528,
      "metadata": {
        "id": "K_ZcYkoxOBRu"
      },
      "outputs": [],
      "source": [
        "model_knn = KNeighborsClassifier()\n",
        "\n",
        "param = {'n_neighbors': range(3, 30)}\n",
        "\n",
        "model3 = GridSearchCV(model_knn, param, cv=10, scoring='accuracy')"
      ]
    },
    {
      "cell_type": "code",
      "execution_count": 529,
      "metadata": {
        "id": "rl-0mddnOBON",
        "colab": {
          "base_uri": "https://localhost:8080/"
        },
        "outputId": "63d7e146-0d3e-431d-8c2b-30ef602323e0"
      },
      "outputs": [
        {
          "output_type": "execute_result",
          "data": {
            "text/plain": [
              "GridSearchCV(cv=10, estimator=KNeighborsClassifier(),\n",
              "             param_grid={'n_neighbors': range(3, 30)}, scoring='accuracy')"
            ]
          },
          "metadata": {},
          "execution_count": 529
        }
      ],
      "source": [
        "model3.fit(x_train, y_train)"
      ]
    },
    {
      "cell_type": "code",
      "execution_count": 530,
      "metadata": {
        "id": "ddZKCiOrOBJX",
        "colab": {
          "base_uri": "https://localhost:8080/"
        },
        "outputId": "ae9c0605-43c4-41d8-dabc-bb5f310e18b2"
      },
      "outputs": [
        {
          "output_type": "stream",
          "name": "stdout",
          "text": [
            "최적 파라미터값:  {'n_neighbors': 26}\n",
            "성능:  0.8294117647058823\n"
          ]
        }
      ],
      "source": [
        "print('최적 파라미터값: ', model3.best_params_)\n",
        "print('성능: ', model3.best_score_)"
      ]
    },
    {
      "cell_type": "code",
      "source": [
        "val_pred3 = model3.predict(x_val)"
      ],
      "metadata": {
        "id": "pF9uxDsOqWjj"
      },
      "execution_count": 531,
      "outputs": []
    },
    {
      "cell_type": "code",
      "source": [
        "print(confusion_matrix(y_val, val_pred3))\n",
        "print(classification_report(y_val, val_pred3))"
      ],
      "metadata": {
        "colab": {
          "base_uri": "https://localhost:8080/"
        },
        "id": "gN3oylZYqyyU",
        "outputId": "fc591138-4d22-4e51-cde6-876b5f7a05dd"
      },
      "execution_count": 532,
      "outputs": [
        {
          "output_type": "stream",
          "name": "stdout",
          "text": [
            "[[176   0]\n",
            " [ 24   0]]\n",
            "              precision    recall  f1-score   support\n",
            "\n",
            "           0       0.88      1.00      0.94       176\n",
            "           1       0.00      0.00      0.00        24\n",
            "\n",
            "    accuracy                           0.88       200\n",
            "   macro avg       0.44      0.50      0.47       200\n",
            "weighted avg       0.77      0.88      0.82       200\n",
            "\n"
          ]
        },
        {
          "output_type": "stream",
          "name": "stderr",
          "text": [
            "/usr/local/lib/python3.7/dist-packages/sklearn/metrics/_classification.py:1318: UndefinedMetricWarning: Precision and F-score are ill-defined and being set to 0.0 in labels with no predicted samples. Use `zero_division` parameter to control this behavior.\n",
            "  _warn_prf(average, modifier, msg_start, len(result))\n",
            "/usr/local/lib/python3.7/dist-packages/sklearn/metrics/_classification.py:1318: UndefinedMetricWarning: Precision and F-score are ill-defined and being set to 0.0 in labels with no predicted samples. Use `zero_division` parameter to control this behavior.\n",
            "  _warn_prf(average, modifier, msg_start, len(result))\n",
            "/usr/local/lib/python3.7/dist-packages/sklearn/metrics/_classification.py:1318: UndefinedMetricWarning: Precision and F-score are ill-defined and being set to 0.0 in labels with no predicted samples. Use `zero_division` parameter to control this behavior.\n",
            "  _warn_prf(average, modifier, msg_start, len(result))\n"
          ]
        }
      ]
    },
    {
      "cell_type": "markdown",
      "metadata": {
        "id": "JB7CrBcM3j4g"
      },
      "source": [
        "#### (4) SVM 모델링"
      ]
    },
    {
      "cell_type": "code",
      "execution_count": 532,
      "metadata": {
        "id": "E9JfGcpqOCzS"
      },
      "outputs": [],
      "source": [
        ""
      ]
    },
    {
      "cell_type": "code",
      "execution_count": 532,
      "metadata": {
        "id": "oVnsL29DOCuv"
      },
      "outputs": [],
      "source": [
        ""
      ]
    },
    {
      "cell_type": "code",
      "execution_count": 532,
      "metadata": {
        "id": "N2m-Bz0TOCq7"
      },
      "outputs": [],
      "source": [
        ""
      ]
    },
    {
      "cell_type": "markdown",
      "metadata": {
        "id": "FNAN5h5ZjxET"
      },
      "source": [
        "#### (5) Random Forest 모델링"
      ]
    },
    {
      "cell_type": "code",
      "execution_count": 532,
      "metadata": {
        "id": "W7b9ksZ_OEeZ"
      },
      "outputs": [],
      "source": [
        ""
      ]
    },
    {
      "cell_type": "code",
      "execution_count": 532,
      "metadata": {
        "id": "J1CbulryOEXC"
      },
      "outputs": [],
      "source": [
        ""
      ]
    },
    {
      "cell_type": "code",
      "execution_count": 532,
      "metadata": {
        "id": "E0Dqu8ivOESY"
      },
      "outputs": [],
      "source": [
        ""
      ]
    },
    {
      "cell_type": "markdown",
      "metadata": {
        "id": "EuRaZc7OkRJN"
      },
      "source": [
        "#### (6) XGB 모델링"
      ]
    },
    {
      "cell_type": "code",
      "execution_count": 532,
      "metadata": {
        "id": "-ABB1_GdOF9j"
      },
      "outputs": [],
      "source": [
        ""
      ]
    },
    {
      "cell_type": "code",
      "execution_count": 532,
      "metadata": {
        "id": "WutnLut4OF5D"
      },
      "outputs": [],
      "source": [
        ""
      ]
    },
    {
      "cell_type": "code",
      "execution_count": 532,
      "metadata": {
        "id": "JnuXLUkZOF1H"
      },
      "outputs": [],
      "source": [
        ""
      ]
    },
    {
      "cell_type": "markdown",
      "metadata": {
        "id": "IRsH_UjrXNiW"
      },
      "source": [
        "## 4.모델링2 : 딥러닝"
      ]
    },
    {
      "cell_type": "markdown",
      "metadata": {
        "id": "b9kRyQ6K6CIW"
      },
      "source": [
        "### 4.1 모델링을 위한 함수 불러오기"
      ]
    },
    {
      "cell_type": "code",
      "execution_count": 533,
      "metadata": {
        "id": "_BDNB7hM9_hz"
      },
      "outputs": [],
      "source": [
        "import tensorflow as tf\n",
        "from tensorflow import keras\n",
        "from tensorflow.keras.callbacks import EarlyStopping"
      ]
    },
    {
      "cell_type": "markdown",
      "metadata": {
        "id": "lL9BeX00MLgt"
      },
      "source": [
        "### 4.2 모델 설계\n",
        "* 다양한 구조의 모델 3개 이상을 설계하시오. (히든레이어, 노드 수 조절)"
      ]
    },
    {
      "cell_type": "code",
      "source": [
        "x_trainsc.shape, y_train.shape"
      ],
      "metadata": {
        "colab": {
          "base_uri": "https://localhost:8080/"
        },
        "id": "qs-pNcrCscB5",
        "outputId": "794d4e63-5ea8-4d51-9223-fc2663992791"
      },
      "execution_count": 534,
      "outputs": [
        {
          "output_type": "execute_result",
          "data": {
            "text/plain": [
              "((850, 21), (850,))"
            ]
          },
          "metadata": {},
          "execution_count": 534
        }
      ]
    },
    {
      "cell_type": "markdown",
      "metadata": {
        "id": "yAaMF07mHz_q"
      },
      "source": [
        "* 모델1 "
      ]
    },
    {
      "cell_type": "code",
      "execution_count": 535,
      "metadata": {
        "id": "aA1Pm1oXMLgv",
        "colab": {
          "base_uri": "https://localhost:8080/"
        },
        "outputId": "d5cbb452-327e-412f-8386-fbbead584ced"
      },
      "outputs": [
        {
          "output_type": "stream",
          "name": "stdout",
          "text": [
            "Model: \"sequential\"\n",
            "_________________________________________________________________\n",
            " Layer (type)                Output Shape              Param #   \n",
            "=================================================================\n",
            " dense (Dense)               (None, 1)                 22        \n",
            "                                                                 \n",
            "=================================================================\n",
            "Total params: 22\n",
            "Trainable params: 22\n",
            "Non-trainable params: 0\n",
            "_________________________________________________________________\n"
          ]
        }
      ],
      "source": [
        "keras.backend.clear_session()\n",
        "\n",
        "model4 = keras.models.Sequential()\n",
        "model4.add(keras.layers.Input(shape=(21,)))\n",
        "model4.add(keras.layers.Dense(1, activation='sigmoid'))\n",
        "\n",
        "model4.compile(loss=keras.losses.binary_crossentropy, optimizer='nadam', metrics=['accuracy'])\n",
        "model4.summary()"
      ]
    },
    {
      "cell_type": "markdown",
      "metadata": {
        "id": "gU1_UtFlH3sY"
      },
      "source": [
        "* 모델2"
      ]
    },
    {
      "cell_type": "code",
      "execution_count": 536,
      "metadata": {
        "id": "bjcO9q9mH3sY",
        "colab": {
          "base_uri": "https://localhost:8080/"
        },
        "outputId": "5d6d9d1a-927b-4524-fd22-f4a88faa028a"
      },
      "outputs": [
        {
          "output_type": "stream",
          "name": "stdout",
          "text": [
            "Model: \"sequential\"\n",
            "_________________________________________________________________\n",
            " Layer (type)                Output Shape              Param #   \n",
            "=================================================================\n",
            " dense (Dense)               (None, 32)                704       \n",
            "                                                                 \n",
            " dense_1 (Dense)             (None, 16)                528       \n",
            "                                                                 \n",
            " dense_2 (Dense)             (None, 8)                 136       \n",
            "                                                                 \n",
            " dense_3 (Dense)             (None, 1)                 9         \n",
            "                                                                 \n",
            "=================================================================\n",
            "Total params: 1,377\n",
            "Trainable params: 1,377\n",
            "Non-trainable params: 0\n",
            "_________________________________________________________________\n"
          ]
        }
      ],
      "source": [
        "keras.backend.clear_session()\n",
        "\n",
        "model5 = keras.models.Sequential()\n",
        "model5.add(keras.layers.Dense(32, input_shape=(21,), activation='swish'))\n",
        "model5.add(keras.layers.Dense(16, activation='swish'))\n",
        "model5.add(keras.layers.Dense(8, activation='swish'))\n",
        "model5.add(keras.layers.Dense(1, activation='sigmoid'))\n",
        "\n",
        "model5.compile(loss=keras.losses.binary_crossentropy, optimizer='nadam', metrics=['accuracy'])\n",
        "model5.summary()"
      ]
    },
    {
      "cell_type": "markdown",
      "metadata": {
        "id": "iXOlv7oSKLlt"
      },
      "source": [
        "* 모델3"
      ]
    },
    {
      "cell_type": "code",
      "execution_count": 537,
      "metadata": {
        "id": "rlTLt04PKLlz",
        "colab": {
          "base_uri": "https://localhost:8080/"
        },
        "outputId": "ec368c23-7aea-49d2-9265-4455c8db2bb4"
      },
      "outputs": [
        {
          "output_type": "stream",
          "name": "stdout",
          "text": [
            "Model: \"sequential\"\n",
            "_________________________________________________________________\n",
            " Layer (type)                Output Shape              Param #   \n",
            "=================================================================\n",
            " dense (Dense)               (None, 128)               2816      \n",
            "                                                                 \n",
            " dense_1 (Dense)             (None, 64)                8256      \n",
            "                                                                 \n",
            " dense_2 (Dense)             (None, 32)                2080      \n",
            "                                                                 \n",
            " dense_3 (Dense)             (None, 16)                528       \n",
            "                                                                 \n",
            " dense_4 (Dense)             (None, 1)                 17        \n",
            "                                                                 \n",
            "=================================================================\n",
            "Total params: 13,697\n",
            "Trainable params: 13,697\n",
            "Non-trainable params: 0\n",
            "_________________________________________________________________\n"
          ]
        }
      ],
      "source": [
        "keras.backend.clear_session()\n",
        "\n",
        "model6 = keras.models.Sequential()\n",
        "model6.add(keras.layers.Dense(128, input_shape=(21,), activation='swish'))\n",
        "model6.add(keras.layers.Dense(64, activation='swish'))\n",
        "model6.add(keras.layers.Dense(32, activation='swish'))\n",
        "model6.add(keras.layers.Dense(16, activation='swish'))\n",
        "model6.add(keras.layers.Dense(1, activation='sigmoid'))\n",
        "\n",
        "model6.compile(loss=keras.losses.binary_crossentropy, optimizer='nadam', metrics=['accuracy'])\n",
        "model6.summary()"
      ]
    },
    {
      "cell_type": "markdown",
      "metadata": {
        "id": "aCwoqa6hMLgx"
      },
      "source": [
        "### 4.3 학습 및 최적화\n",
        "* 다양한 학습조건으로 모델링 수행후 성능을 비교해 봅시다.\n"
      ]
    },
    {
      "cell_type": "code",
      "source": [
        "es = EarlyStopping(monitor='val_loss', min_delta=0, patience=5, verbose=1, restore_best_weights=True)"
      ],
      "metadata": {
        "id": "XurRG-Pvwok4"
      },
      "execution_count": 538,
      "outputs": []
    },
    {
      "cell_type": "code",
      "execution_count": 539,
      "metadata": {
        "id": "rxx4LUwBMLgy",
        "colab": {
          "base_uri": "https://localhost:8080/"
        },
        "outputId": "7a158fcf-e72f-4c02-84b5-f83e3950df91"
      },
      "outputs": [
        {
          "output_type": "stream",
          "name": "stdout",
          "text": [
            "Epoch 1/300\n",
            "22/22 [==============================] - 1s 10ms/step - loss: 0.7322 - accuracy: 0.4353 - val_loss: 0.7096 - val_accuracy: 0.4471\n",
            "Epoch 2/300\n",
            "22/22 [==============================] - 0s 3ms/step - loss: 0.6727 - accuracy: 0.5765 - val_loss: 0.6540 - val_accuracy: 0.6412\n",
            "Epoch 3/300\n",
            "22/22 [==============================] - 0s 3ms/step - loss: 0.6217 - accuracy: 0.6971 - val_loss: 0.6090 - val_accuracy: 0.7353\n",
            "Epoch 4/300\n",
            "22/22 [==============================] - 0s 3ms/step - loss: 0.5817 - accuracy: 0.7765 - val_loss: 0.5727 - val_accuracy: 0.7588\n",
            "Epoch 5/300\n",
            "22/22 [==============================] - 0s 3ms/step - loss: 0.5494 - accuracy: 0.8162 - val_loss: 0.5448 - val_accuracy: 0.8059\n",
            "Epoch 6/300\n",
            "22/22 [==============================] - 0s 2ms/step - loss: 0.5251 - accuracy: 0.8309 - val_loss: 0.5229 - val_accuracy: 0.8176\n",
            "Epoch 7/300\n",
            "22/22 [==============================] - 0s 3ms/step - loss: 0.5059 - accuracy: 0.8324 - val_loss: 0.5058 - val_accuracy: 0.8235\n",
            "Epoch 8/300\n",
            "22/22 [==============================] - 0s 3ms/step - loss: 0.4908 - accuracy: 0.8324 - val_loss: 0.4926 - val_accuracy: 0.8235\n",
            "Epoch 9/300\n",
            "22/22 [==============================] - 0s 3ms/step - loss: 0.4793 - accuracy: 0.8324 - val_loss: 0.4816 - val_accuracy: 0.8235\n",
            "Epoch 10/300\n",
            "22/22 [==============================] - 0s 3ms/step - loss: 0.4701 - accuracy: 0.8294 - val_loss: 0.4731 - val_accuracy: 0.8235\n",
            "Epoch 11/300\n",
            "22/22 [==============================] - 0s 3ms/step - loss: 0.4629 - accuracy: 0.8309 - val_loss: 0.4661 - val_accuracy: 0.8235\n",
            "Epoch 12/300\n",
            "22/22 [==============================] - 0s 3ms/step - loss: 0.4572 - accuracy: 0.8309 - val_loss: 0.4601 - val_accuracy: 0.8235\n",
            "Epoch 13/300\n",
            "22/22 [==============================] - 0s 3ms/step - loss: 0.4521 - accuracy: 0.8309 - val_loss: 0.4552 - val_accuracy: 0.8235\n",
            "Epoch 14/300\n",
            "22/22 [==============================] - 0s 3ms/step - loss: 0.4481 - accuracy: 0.8309 - val_loss: 0.4510 - val_accuracy: 0.8235\n",
            "Epoch 15/300\n",
            "22/22 [==============================] - 0s 3ms/step - loss: 0.4449 - accuracy: 0.8309 - val_loss: 0.4474 - val_accuracy: 0.8235\n",
            "Epoch 16/300\n",
            "22/22 [==============================] - 0s 3ms/step - loss: 0.4420 - accuracy: 0.8309 - val_loss: 0.4442 - val_accuracy: 0.8235\n",
            "Epoch 17/300\n",
            "22/22 [==============================] - 0s 3ms/step - loss: 0.4396 - accuracy: 0.8309 - val_loss: 0.4415 - val_accuracy: 0.8235\n",
            "Epoch 18/300\n",
            "22/22 [==============================] - 0s 3ms/step - loss: 0.4375 - accuracy: 0.8309 - val_loss: 0.4387 - val_accuracy: 0.8235\n",
            "Epoch 19/300\n",
            "22/22 [==============================] - 0s 3ms/step - loss: 0.4353 - accuracy: 0.8309 - val_loss: 0.4362 - val_accuracy: 0.8235\n",
            "Epoch 20/300\n",
            "22/22 [==============================] - 0s 3ms/step - loss: 0.4335 - accuracy: 0.8309 - val_loss: 0.4338 - val_accuracy: 0.8235\n",
            "Epoch 21/300\n",
            "22/22 [==============================] - 0s 3ms/step - loss: 0.4317 - accuracy: 0.8309 - val_loss: 0.4315 - val_accuracy: 0.8235\n",
            "Epoch 22/300\n",
            "22/22 [==============================] - 0s 3ms/step - loss: 0.4300 - accuracy: 0.8309 - val_loss: 0.4293 - val_accuracy: 0.8235\n",
            "Epoch 23/300\n",
            "22/22 [==============================] - 0s 3ms/step - loss: 0.4284 - accuracy: 0.8309 - val_loss: 0.4272 - val_accuracy: 0.8235\n",
            "Epoch 24/300\n",
            "22/22 [==============================] - 0s 3ms/step - loss: 0.4269 - accuracy: 0.8309 - val_loss: 0.4253 - val_accuracy: 0.8235\n",
            "Epoch 25/300\n",
            "22/22 [==============================] - 0s 3ms/step - loss: 0.4255 - accuracy: 0.8309 - val_loss: 0.4233 - val_accuracy: 0.8235\n",
            "Epoch 26/300\n",
            "22/22 [==============================] - 0s 3ms/step - loss: 0.4241 - accuracy: 0.8309 - val_loss: 0.4214 - val_accuracy: 0.8235\n",
            "Epoch 27/300\n",
            "22/22 [==============================] - 0s 3ms/step - loss: 0.4227 - accuracy: 0.8309 - val_loss: 0.4195 - val_accuracy: 0.8235\n",
            "Epoch 28/300\n",
            "22/22 [==============================] - 0s 4ms/step - loss: 0.4213 - accuracy: 0.8309 - val_loss: 0.4177 - val_accuracy: 0.8235\n",
            "Epoch 29/300\n",
            "22/22 [==============================] - 0s 4ms/step - loss: 0.4200 - accuracy: 0.8309 - val_loss: 0.4159 - val_accuracy: 0.8235\n",
            "Epoch 30/300\n",
            "22/22 [==============================] - 0s 4ms/step - loss: 0.4188 - accuracy: 0.8309 - val_loss: 0.4142 - val_accuracy: 0.8235\n",
            "Epoch 31/300\n",
            "22/22 [==============================] - 0s 5ms/step - loss: 0.4177 - accuracy: 0.8309 - val_loss: 0.4126 - val_accuracy: 0.8235\n",
            "Epoch 32/300\n",
            "22/22 [==============================] - 0s 5ms/step - loss: 0.4164 - accuracy: 0.8309 - val_loss: 0.4110 - val_accuracy: 0.8235\n",
            "Epoch 33/300\n",
            "22/22 [==============================] - 0s 6ms/step - loss: 0.4153 - accuracy: 0.8309 - val_loss: 0.4093 - val_accuracy: 0.8235\n",
            "Epoch 34/300\n",
            "22/22 [==============================] - 0s 10ms/step - loss: 0.4141 - accuracy: 0.8309 - val_loss: 0.4077 - val_accuracy: 0.8235\n",
            "Epoch 35/300\n",
            "22/22 [==============================] - 0s 5ms/step - loss: 0.4131 - accuracy: 0.8309 - val_loss: 0.4062 - val_accuracy: 0.8235\n",
            "Epoch 36/300\n",
            "22/22 [==============================] - 0s 8ms/step - loss: 0.4120 - accuracy: 0.8309 - val_loss: 0.4046 - val_accuracy: 0.8235\n",
            "Epoch 37/300\n",
            "22/22 [==============================] - 0s 5ms/step - loss: 0.4109 - accuracy: 0.8309 - val_loss: 0.4031 - val_accuracy: 0.8235\n",
            "Epoch 38/300\n",
            "22/22 [==============================] - 0s 7ms/step - loss: 0.4099 - accuracy: 0.8309 - val_loss: 0.4017 - val_accuracy: 0.8235\n",
            "Epoch 39/300\n",
            "22/22 [==============================] - 0s 6ms/step - loss: 0.4088 - accuracy: 0.8309 - val_loss: 0.4004 - val_accuracy: 0.8235\n",
            "Epoch 40/300\n",
            "22/22 [==============================] - 0s 6ms/step - loss: 0.4079 - accuracy: 0.8309 - val_loss: 0.3991 - val_accuracy: 0.8235\n",
            "Epoch 41/300\n",
            "22/22 [==============================] - 0s 5ms/step - loss: 0.4070 - accuracy: 0.8309 - val_loss: 0.3978 - val_accuracy: 0.8235\n",
            "Epoch 42/300\n",
            "22/22 [==============================] - 0s 9ms/step - loss: 0.4060 - accuracy: 0.8309 - val_loss: 0.3966 - val_accuracy: 0.8235\n",
            "Epoch 43/300\n",
            "22/22 [==============================] - 0s 5ms/step - loss: 0.4052 - accuracy: 0.8309 - val_loss: 0.3953 - val_accuracy: 0.8235\n",
            "Epoch 44/300\n",
            "22/22 [==============================] - 0s 9ms/step - loss: 0.4042 - accuracy: 0.8309 - val_loss: 0.3940 - val_accuracy: 0.8235\n",
            "Epoch 45/300\n",
            "22/22 [==============================] - 0s 8ms/step - loss: 0.4033 - accuracy: 0.8324 - val_loss: 0.3926 - val_accuracy: 0.8294\n",
            "Epoch 46/300\n",
            "22/22 [==============================] - 0s 6ms/step - loss: 0.4024 - accuracy: 0.8324 - val_loss: 0.3914 - val_accuracy: 0.8294\n",
            "Epoch 47/300\n",
            "22/22 [==============================] - 0s 9ms/step - loss: 0.4016 - accuracy: 0.8338 - val_loss: 0.3902 - val_accuracy: 0.8294\n",
            "Epoch 48/300\n",
            "22/22 [==============================] - 0s 6ms/step - loss: 0.4008 - accuracy: 0.8338 - val_loss: 0.3890 - val_accuracy: 0.8294\n",
            "Epoch 49/300\n",
            "22/22 [==============================] - 0s 8ms/step - loss: 0.3998 - accuracy: 0.8353 - val_loss: 0.3877 - val_accuracy: 0.8294\n",
            "Epoch 50/300\n",
            "22/22 [==============================] - 0s 7ms/step - loss: 0.3990 - accuracy: 0.8353 - val_loss: 0.3866 - val_accuracy: 0.8294\n",
            "Epoch 51/300\n",
            "22/22 [==============================] - 0s 7ms/step - loss: 0.3982 - accuracy: 0.8353 - val_loss: 0.3854 - val_accuracy: 0.8294\n",
            "Epoch 52/300\n",
            "22/22 [==============================] - 0s 4ms/step - loss: 0.3974 - accuracy: 0.8353 - val_loss: 0.3844 - val_accuracy: 0.8294\n",
            "Epoch 53/300\n",
            "22/22 [==============================] - 0s 8ms/step - loss: 0.3966 - accuracy: 0.8353 - val_loss: 0.3833 - val_accuracy: 0.8294\n",
            "Epoch 54/300\n",
            "22/22 [==============================] - 0s 5ms/step - loss: 0.3960 - accuracy: 0.8353 - val_loss: 0.3823 - val_accuracy: 0.8294\n",
            "Epoch 55/300\n",
            "22/22 [==============================] - 0s 5ms/step - loss: 0.3952 - accuracy: 0.8353 - val_loss: 0.3812 - val_accuracy: 0.8294\n",
            "Epoch 56/300\n",
            "22/22 [==============================] - 0s 5ms/step - loss: 0.3945 - accuracy: 0.8353 - val_loss: 0.3802 - val_accuracy: 0.8294\n",
            "Epoch 57/300\n",
            "22/22 [==============================] - 0s 4ms/step - loss: 0.3938 - accuracy: 0.8353 - val_loss: 0.3791 - val_accuracy: 0.8294\n",
            "Epoch 58/300\n",
            "22/22 [==============================] - 0s 9ms/step - loss: 0.3930 - accuracy: 0.8353 - val_loss: 0.3781 - val_accuracy: 0.8353\n",
            "Epoch 59/300\n",
            "22/22 [==============================] - 0s 5ms/step - loss: 0.3923 - accuracy: 0.8353 - val_loss: 0.3772 - val_accuracy: 0.8353\n",
            "Epoch 60/300\n",
            "22/22 [==============================] - 0s 5ms/step - loss: 0.3917 - accuracy: 0.8353 - val_loss: 0.3762 - val_accuracy: 0.8353\n",
            "Epoch 61/300\n",
            "22/22 [==============================] - 0s 10ms/step - loss: 0.3911 - accuracy: 0.8353 - val_loss: 0.3753 - val_accuracy: 0.8353\n",
            "Epoch 62/300\n",
            "22/22 [==============================] - 0s 5ms/step - loss: 0.3904 - accuracy: 0.8353 - val_loss: 0.3744 - val_accuracy: 0.8353\n",
            "Epoch 63/300\n",
            "22/22 [==============================] - 0s 4ms/step - loss: 0.3898 - accuracy: 0.8353 - val_loss: 0.3735 - val_accuracy: 0.8353\n",
            "Epoch 64/300\n",
            "22/22 [==============================] - 0s 6ms/step - loss: 0.3892 - accuracy: 0.8353 - val_loss: 0.3727 - val_accuracy: 0.8353\n",
            "Epoch 65/300\n",
            "22/22 [==============================] - 0s 6ms/step - loss: 0.3886 - accuracy: 0.8353 - val_loss: 0.3719 - val_accuracy: 0.8353\n",
            "Epoch 66/300\n",
            "22/22 [==============================] - 0s 4ms/step - loss: 0.3880 - accuracy: 0.8353 - val_loss: 0.3709 - val_accuracy: 0.8353\n",
            "Epoch 67/300\n",
            "22/22 [==============================] - 0s 5ms/step - loss: 0.3874 - accuracy: 0.8382 - val_loss: 0.3700 - val_accuracy: 0.8353\n",
            "Epoch 68/300\n",
            "22/22 [==============================] - 0s 5ms/step - loss: 0.3868 - accuracy: 0.8382 - val_loss: 0.3692 - val_accuracy: 0.8353\n",
            "Epoch 69/300\n",
            "22/22 [==============================] - 0s 7ms/step - loss: 0.3862 - accuracy: 0.8382 - val_loss: 0.3685 - val_accuracy: 0.8353\n",
            "Epoch 70/300\n",
            "22/22 [==============================] - 0s 6ms/step - loss: 0.3857 - accuracy: 0.8382 - val_loss: 0.3677 - val_accuracy: 0.8353\n",
            "Epoch 71/300\n",
            "22/22 [==============================] - 0s 4ms/step - loss: 0.3851 - accuracy: 0.8382 - val_loss: 0.3669 - val_accuracy: 0.8353\n",
            "Epoch 72/300\n",
            "22/22 [==============================] - 0s 5ms/step - loss: 0.3846 - accuracy: 0.8382 - val_loss: 0.3661 - val_accuracy: 0.8353\n",
            "Epoch 73/300\n",
            "22/22 [==============================] - 0s 4ms/step - loss: 0.3841 - accuracy: 0.8382 - val_loss: 0.3654 - val_accuracy: 0.8353\n",
            "Epoch 74/300\n",
            "22/22 [==============================] - 0s 6ms/step - loss: 0.3837 - accuracy: 0.8382 - val_loss: 0.3646 - val_accuracy: 0.8353\n",
            "Epoch 75/300\n",
            "22/22 [==============================] - 0s 7ms/step - loss: 0.3830 - accuracy: 0.8382 - val_loss: 0.3639 - val_accuracy: 0.8353\n",
            "Epoch 76/300\n",
            "22/22 [==============================] - 0s 4ms/step - loss: 0.3827 - accuracy: 0.8382 - val_loss: 0.3633 - val_accuracy: 0.8353\n",
            "Epoch 77/300\n",
            "22/22 [==============================] - 0s 3ms/step - loss: 0.3822 - accuracy: 0.8382 - val_loss: 0.3625 - val_accuracy: 0.8353\n",
            "Epoch 78/300\n",
            "22/22 [==============================] - 0s 3ms/step - loss: 0.3817 - accuracy: 0.8382 - val_loss: 0.3619 - val_accuracy: 0.8353\n",
            "Epoch 79/300\n",
            "22/22 [==============================] - 0s 3ms/step - loss: 0.3812 - accuracy: 0.8382 - val_loss: 0.3612 - val_accuracy: 0.8353\n",
            "Epoch 80/300\n",
            "22/22 [==============================] - 0s 3ms/step - loss: 0.3808 - accuracy: 0.8382 - val_loss: 0.3606 - val_accuracy: 0.8353\n",
            "Epoch 81/300\n",
            "22/22 [==============================] - 0s 3ms/step - loss: 0.3803 - accuracy: 0.8382 - val_loss: 0.3600 - val_accuracy: 0.8353\n",
            "Epoch 82/300\n",
            "22/22 [==============================] - 0s 3ms/step - loss: 0.3800 - accuracy: 0.8382 - val_loss: 0.3593 - val_accuracy: 0.8353\n",
            "Epoch 83/300\n",
            "22/22 [==============================] - 0s 3ms/step - loss: 0.3795 - accuracy: 0.8382 - val_loss: 0.3587 - val_accuracy: 0.8353\n",
            "Epoch 84/300\n",
            "22/22 [==============================] - 0s 3ms/step - loss: 0.3790 - accuracy: 0.8397 - val_loss: 0.3581 - val_accuracy: 0.8353\n",
            "Epoch 85/300\n",
            "22/22 [==============================] - 0s 3ms/step - loss: 0.3786 - accuracy: 0.8412 - val_loss: 0.3575 - val_accuracy: 0.8353\n",
            "Epoch 86/300\n",
            "22/22 [==============================] - 0s 3ms/step - loss: 0.3781 - accuracy: 0.8412 - val_loss: 0.3569 - val_accuracy: 0.8412\n",
            "Epoch 87/300\n",
            "22/22 [==============================] - 0s 3ms/step - loss: 0.3778 - accuracy: 0.8382 - val_loss: 0.3563 - val_accuracy: 0.8471\n",
            "Epoch 88/300\n",
            "22/22 [==============================] - 0s 3ms/step - loss: 0.3775 - accuracy: 0.8368 - val_loss: 0.3558 - val_accuracy: 0.8471\n",
            "Epoch 89/300\n",
            "22/22 [==============================] - 0s 3ms/step - loss: 0.3769 - accuracy: 0.8368 - val_loss: 0.3552 - val_accuracy: 0.8471\n",
            "Epoch 90/300\n",
            "22/22 [==============================] - 0s 3ms/step - loss: 0.3766 - accuracy: 0.8382 - val_loss: 0.3546 - val_accuracy: 0.8471\n",
            "Epoch 91/300\n",
            "22/22 [==============================] - 0s 4ms/step - loss: 0.3764 - accuracy: 0.8368 - val_loss: 0.3541 - val_accuracy: 0.8471\n",
            "Epoch 92/300\n",
            "22/22 [==============================] - 0s 3ms/step - loss: 0.3758 - accuracy: 0.8368 - val_loss: 0.3536 - val_accuracy: 0.8471\n",
            "Epoch 93/300\n",
            "22/22 [==============================] - 0s 3ms/step - loss: 0.3756 - accuracy: 0.8397 - val_loss: 0.3530 - val_accuracy: 0.8471\n",
            "Epoch 94/300\n",
            "22/22 [==============================] - 0s 3ms/step - loss: 0.3751 - accuracy: 0.8397 - val_loss: 0.3525 - val_accuracy: 0.8471\n",
            "Epoch 95/300\n",
            "22/22 [==============================] - 0s 3ms/step - loss: 0.3748 - accuracy: 0.8397 - val_loss: 0.3520 - val_accuracy: 0.8471\n",
            "Epoch 96/300\n",
            "22/22 [==============================] - 0s 3ms/step - loss: 0.3746 - accuracy: 0.8397 - val_loss: 0.3515 - val_accuracy: 0.8471\n",
            "Epoch 97/300\n",
            "22/22 [==============================] - 0s 3ms/step - loss: 0.3741 - accuracy: 0.8397 - val_loss: 0.3510 - val_accuracy: 0.8471\n",
            "Epoch 98/300\n",
            "22/22 [==============================] - 0s 3ms/step - loss: 0.3737 - accuracy: 0.8397 - val_loss: 0.3505 - val_accuracy: 0.8471\n",
            "Epoch 99/300\n",
            "22/22 [==============================] - 0s 3ms/step - loss: 0.3734 - accuracy: 0.8397 - val_loss: 0.3500 - val_accuracy: 0.8529\n",
            "Epoch 100/300\n",
            "22/22 [==============================] - 0s 3ms/step - loss: 0.3731 - accuracy: 0.8412 - val_loss: 0.3494 - val_accuracy: 0.8529\n",
            "Epoch 101/300\n",
            "22/22 [==============================] - 0s 3ms/step - loss: 0.3728 - accuracy: 0.8412 - val_loss: 0.3490 - val_accuracy: 0.8529\n",
            "Epoch 102/300\n",
            "22/22 [==============================] - 0s 3ms/step - loss: 0.3724 - accuracy: 0.8426 - val_loss: 0.3485 - val_accuracy: 0.8529\n",
            "Epoch 103/300\n",
            "22/22 [==============================] - 0s 3ms/step - loss: 0.3721 - accuracy: 0.8426 - val_loss: 0.3481 - val_accuracy: 0.8529\n",
            "Epoch 104/300\n",
            "22/22 [==============================] - 0s 4ms/step - loss: 0.3717 - accuracy: 0.8441 - val_loss: 0.3476 - val_accuracy: 0.8529\n",
            "Epoch 105/300\n",
            "22/22 [==============================] - 0s 3ms/step - loss: 0.3714 - accuracy: 0.8426 - val_loss: 0.3473 - val_accuracy: 0.8529\n",
            "Epoch 106/300\n",
            "22/22 [==============================] - 0s 3ms/step - loss: 0.3712 - accuracy: 0.8456 - val_loss: 0.3469 - val_accuracy: 0.8529\n",
            "Epoch 107/300\n",
            "22/22 [==============================] - 0s 3ms/step - loss: 0.3709 - accuracy: 0.8456 - val_loss: 0.3465 - val_accuracy: 0.8529\n",
            "Epoch 108/300\n",
            "22/22 [==============================] - 0s 3ms/step - loss: 0.3706 - accuracy: 0.8456 - val_loss: 0.3461 - val_accuracy: 0.8529\n",
            "Epoch 109/300\n",
            "22/22 [==============================] - 0s 3ms/step - loss: 0.3704 - accuracy: 0.8456 - val_loss: 0.3457 - val_accuracy: 0.8529\n",
            "Epoch 110/300\n",
            "22/22 [==============================] - 0s 3ms/step - loss: 0.3701 - accuracy: 0.8456 - val_loss: 0.3453 - val_accuracy: 0.8529\n",
            "Epoch 111/300\n",
            "22/22 [==============================] - 0s 3ms/step - loss: 0.3698 - accuracy: 0.8456 - val_loss: 0.3450 - val_accuracy: 0.8529\n",
            "Epoch 112/300\n",
            "22/22 [==============================] - 0s 3ms/step - loss: 0.3696 - accuracy: 0.8456 - val_loss: 0.3446 - val_accuracy: 0.8529\n",
            "Epoch 113/300\n",
            "22/22 [==============================] - 0s 3ms/step - loss: 0.3693 - accuracy: 0.8456 - val_loss: 0.3443 - val_accuracy: 0.8529\n",
            "Epoch 114/300\n",
            "22/22 [==============================] - 0s 3ms/step - loss: 0.3690 - accuracy: 0.8456 - val_loss: 0.3439 - val_accuracy: 0.8529\n",
            "Epoch 115/300\n",
            "22/22 [==============================] - 0s 4ms/step - loss: 0.3688 - accuracy: 0.8441 - val_loss: 0.3434 - val_accuracy: 0.8529\n",
            "Epoch 116/300\n",
            "22/22 [==============================] - 0s 3ms/step - loss: 0.3685 - accuracy: 0.8456 - val_loss: 0.3431 - val_accuracy: 0.8529\n",
            "Epoch 117/300\n",
            "22/22 [==============================] - 0s 3ms/step - loss: 0.3684 - accuracy: 0.8456 - val_loss: 0.3428 - val_accuracy: 0.8529\n",
            "Epoch 118/300\n",
            "22/22 [==============================] - 0s 3ms/step - loss: 0.3680 - accuracy: 0.8456 - val_loss: 0.3425 - val_accuracy: 0.8529\n",
            "Epoch 119/300\n",
            "22/22 [==============================] - 0s 3ms/step - loss: 0.3677 - accuracy: 0.8456 - val_loss: 0.3422 - val_accuracy: 0.8529\n",
            "Epoch 120/300\n",
            "22/22 [==============================] - 0s 3ms/step - loss: 0.3675 - accuracy: 0.8456 - val_loss: 0.3418 - val_accuracy: 0.8529\n",
            "Epoch 121/300\n",
            "22/22 [==============================] - 0s 3ms/step - loss: 0.3673 - accuracy: 0.8456 - val_loss: 0.3415 - val_accuracy: 0.8529\n",
            "Epoch 122/300\n",
            "22/22 [==============================] - 0s 3ms/step - loss: 0.3671 - accuracy: 0.8456 - val_loss: 0.3413 - val_accuracy: 0.8529\n",
            "Epoch 123/300\n",
            "22/22 [==============================] - 0s 3ms/step - loss: 0.3669 - accuracy: 0.8471 - val_loss: 0.3413 - val_accuracy: 0.8529\n",
            "Epoch 124/300\n",
            "22/22 [==============================] - 0s 3ms/step - loss: 0.3666 - accuracy: 0.8471 - val_loss: 0.3410 - val_accuracy: 0.8529\n",
            "Epoch 125/300\n",
            "22/22 [==============================] - 0s 3ms/step - loss: 0.3665 - accuracy: 0.8471 - val_loss: 0.3408 - val_accuracy: 0.8529\n",
            "Epoch 126/300\n",
            "22/22 [==============================] - 0s 3ms/step - loss: 0.3663 - accuracy: 0.8471 - val_loss: 0.3404 - val_accuracy: 0.8529\n",
            "Epoch 127/300\n",
            "22/22 [==============================] - 0s 3ms/step - loss: 0.3661 - accuracy: 0.8485 - val_loss: 0.3402 - val_accuracy: 0.8529\n",
            "Epoch 128/300\n",
            "22/22 [==============================] - 0s 4ms/step - loss: 0.3658 - accuracy: 0.8485 - val_loss: 0.3400 - val_accuracy: 0.8529\n",
            "Epoch 129/300\n",
            "22/22 [==============================] - 0s 3ms/step - loss: 0.3656 - accuracy: 0.8485 - val_loss: 0.3398 - val_accuracy: 0.8529\n",
            "Epoch 130/300\n",
            "22/22 [==============================] - 0s 3ms/step - loss: 0.3654 - accuracy: 0.8485 - val_loss: 0.3394 - val_accuracy: 0.8529\n",
            "Epoch 131/300\n",
            "22/22 [==============================] - 0s 3ms/step - loss: 0.3652 - accuracy: 0.8485 - val_loss: 0.3391 - val_accuracy: 0.8529\n",
            "Epoch 132/300\n",
            "22/22 [==============================] - 0s 3ms/step - loss: 0.3650 - accuracy: 0.8485 - val_loss: 0.3388 - val_accuracy: 0.8529\n",
            "Epoch 133/300\n",
            "22/22 [==============================] - 0s 3ms/step - loss: 0.3648 - accuracy: 0.8485 - val_loss: 0.3386 - val_accuracy: 0.8529\n",
            "Epoch 134/300\n",
            "22/22 [==============================] - 0s 3ms/step - loss: 0.3645 - accuracy: 0.8485 - val_loss: 0.3383 - val_accuracy: 0.8529\n",
            "Epoch 135/300\n",
            "22/22 [==============================] - 0s 3ms/step - loss: 0.3644 - accuracy: 0.8485 - val_loss: 0.3381 - val_accuracy: 0.8529\n",
            "Epoch 136/300\n",
            "22/22 [==============================] - 0s 3ms/step - loss: 0.3641 - accuracy: 0.8485 - val_loss: 0.3378 - val_accuracy: 0.8529\n",
            "Epoch 137/300\n",
            "22/22 [==============================] - 0s 3ms/step - loss: 0.3640 - accuracy: 0.8500 - val_loss: 0.3377 - val_accuracy: 0.8529\n",
            "Epoch 138/300\n",
            "22/22 [==============================] - 0s 3ms/step - loss: 0.3638 - accuracy: 0.8485 - val_loss: 0.3374 - val_accuracy: 0.8529\n",
            "Epoch 139/300\n",
            "22/22 [==============================] - 0s 3ms/step - loss: 0.3638 - accuracy: 0.8485 - val_loss: 0.3371 - val_accuracy: 0.8529\n",
            "Epoch 140/300\n",
            "22/22 [==============================] - 0s 3ms/step - loss: 0.3634 - accuracy: 0.8485 - val_loss: 0.3370 - val_accuracy: 0.8529\n",
            "Epoch 141/300\n",
            "22/22 [==============================] - 0s 3ms/step - loss: 0.3633 - accuracy: 0.8485 - val_loss: 0.3367 - val_accuracy: 0.8529\n",
            "Epoch 142/300\n",
            "22/22 [==============================] - 0s 3ms/step - loss: 0.3632 - accuracy: 0.8515 - val_loss: 0.3365 - val_accuracy: 0.8529\n",
            "Epoch 143/300\n",
            "22/22 [==============================] - 0s 3ms/step - loss: 0.3630 - accuracy: 0.8500 - val_loss: 0.3364 - val_accuracy: 0.8529\n",
            "Epoch 144/300\n",
            "22/22 [==============================] - 0s 3ms/step - loss: 0.3628 - accuracy: 0.8500 - val_loss: 0.3362 - val_accuracy: 0.8529\n",
            "Epoch 145/300\n",
            "22/22 [==============================] - 0s 3ms/step - loss: 0.3624 - accuracy: 0.8500 - val_loss: 0.3362 - val_accuracy: 0.8529\n",
            "Epoch 146/300\n",
            "22/22 [==============================] - 0s 3ms/step - loss: 0.3625 - accuracy: 0.8515 - val_loss: 0.3361 - val_accuracy: 0.8529\n",
            "Epoch 147/300\n",
            "22/22 [==============================] - 0s 3ms/step - loss: 0.3623 - accuracy: 0.8529 - val_loss: 0.3358 - val_accuracy: 0.8529\n",
            "Epoch 148/300\n",
            "22/22 [==============================] - 0s 3ms/step - loss: 0.3621 - accuracy: 0.8529 - val_loss: 0.3356 - val_accuracy: 0.8529\n",
            "Epoch 149/300\n",
            "22/22 [==============================] - 0s 3ms/step - loss: 0.3619 - accuracy: 0.8500 - val_loss: 0.3354 - val_accuracy: 0.8529\n",
            "Epoch 150/300\n",
            "22/22 [==============================] - 0s 3ms/step - loss: 0.3618 - accuracy: 0.8500 - val_loss: 0.3352 - val_accuracy: 0.8529\n",
            "Epoch 151/300\n",
            "22/22 [==============================] - 0s 3ms/step - loss: 0.3616 - accuracy: 0.8500 - val_loss: 0.3351 - val_accuracy: 0.8529\n",
            "Epoch 152/300\n",
            "22/22 [==============================] - 0s 3ms/step - loss: 0.3615 - accuracy: 0.8515 - val_loss: 0.3351 - val_accuracy: 0.8529\n",
            "Epoch 153/300\n",
            "22/22 [==============================] - 0s 3ms/step - loss: 0.3615 - accuracy: 0.8515 - val_loss: 0.3349 - val_accuracy: 0.8529\n",
            "Epoch 154/300\n",
            "22/22 [==============================] - 0s 3ms/step - loss: 0.3611 - accuracy: 0.8529 - val_loss: 0.3348 - val_accuracy: 0.8529\n",
            "Epoch 155/300\n",
            "22/22 [==============================] - 0s 4ms/step - loss: 0.3610 - accuracy: 0.8500 - val_loss: 0.3346 - val_accuracy: 0.8529\n",
            "Epoch 156/300\n",
            "22/22 [==============================] - 0s 3ms/step - loss: 0.3609 - accuracy: 0.8515 - val_loss: 0.3345 - val_accuracy: 0.8529\n",
            "Epoch 157/300\n",
            "22/22 [==============================] - 0s 3ms/step - loss: 0.3608 - accuracy: 0.8515 - val_loss: 0.3343 - val_accuracy: 0.8471\n",
            "Epoch 158/300\n",
            "22/22 [==============================] - 0s 3ms/step - loss: 0.3606 - accuracy: 0.8500 - val_loss: 0.3341 - val_accuracy: 0.8471\n",
            "Epoch 159/300\n",
            "22/22 [==============================] - 0s 3ms/step - loss: 0.3605 - accuracy: 0.8515 - val_loss: 0.3339 - val_accuracy: 0.8471\n",
            "Epoch 160/300\n",
            "22/22 [==============================] - 0s 3ms/step - loss: 0.3603 - accuracy: 0.8500 - val_loss: 0.3337 - val_accuracy: 0.8471\n",
            "Epoch 161/300\n",
            "22/22 [==============================] - 0s 3ms/step - loss: 0.3601 - accuracy: 0.8500 - val_loss: 0.3335 - val_accuracy: 0.8471\n",
            "Epoch 162/300\n",
            "22/22 [==============================] - 0s 3ms/step - loss: 0.3600 - accuracy: 0.8500 - val_loss: 0.3333 - val_accuracy: 0.8471\n",
            "Epoch 163/300\n",
            "22/22 [==============================] - 0s 3ms/step - loss: 0.3599 - accuracy: 0.8485 - val_loss: 0.3332 - val_accuracy: 0.8471\n",
            "Epoch 164/300\n",
            "22/22 [==============================] - 0s 3ms/step - loss: 0.3598 - accuracy: 0.8500 - val_loss: 0.3330 - val_accuracy: 0.8471\n",
            "Epoch 165/300\n",
            "22/22 [==============================] - 0s 3ms/step - loss: 0.3596 - accuracy: 0.8500 - val_loss: 0.3329 - val_accuracy: 0.8471\n",
            "Epoch 166/300\n",
            "22/22 [==============================] - 0s 3ms/step - loss: 0.3596 - accuracy: 0.8500 - val_loss: 0.3327 - val_accuracy: 0.8471\n",
            "Epoch 167/300\n",
            "22/22 [==============================] - 0s 3ms/step - loss: 0.3595 - accuracy: 0.8485 - val_loss: 0.3326 - val_accuracy: 0.8471\n",
            "Epoch 168/300\n",
            "22/22 [==============================] - 0s 3ms/step - loss: 0.3592 - accuracy: 0.8515 - val_loss: 0.3326 - val_accuracy: 0.8529\n",
            "Epoch 169/300\n",
            "22/22 [==============================] - 0s 3ms/step - loss: 0.3592 - accuracy: 0.8515 - val_loss: 0.3325 - val_accuracy: 0.8529\n",
            "Epoch 170/300\n",
            "22/22 [==============================] - 0s 3ms/step - loss: 0.3590 - accuracy: 0.8515 - val_loss: 0.3324 - val_accuracy: 0.8529\n",
            "Epoch 171/300\n",
            "22/22 [==============================] - 0s 3ms/step - loss: 0.3588 - accuracy: 0.8515 - val_loss: 0.3323 - val_accuracy: 0.8529\n",
            "Epoch 172/300\n",
            "22/22 [==============================] - 0s 3ms/step - loss: 0.3588 - accuracy: 0.8515 - val_loss: 0.3321 - val_accuracy: 0.8529\n",
            "Epoch 173/300\n",
            "22/22 [==============================] - 0s 3ms/step - loss: 0.3586 - accuracy: 0.8515 - val_loss: 0.3320 - val_accuracy: 0.8529\n",
            "Epoch 174/300\n",
            "22/22 [==============================] - 0s 3ms/step - loss: 0.3586 - accuracy: 0.8515 - val_loss: 0.3320 - val_accuracy: 0.8471\n",
            "Epoch 175/300\n",
            "22/22 [==============================] - 0s 3ms/step - loss: 0.3585 - accuracy: 0.8515 - val_loss: 0.3318 - val_accuracy: 0.8529\n",
            "Epoch 176/300\n",
            "22/22 [==============================] - 0s 3ms/step - loss: 0.3583 - accuracy: 0.8515 - val_loss: 0.3316 - val_accuracy: 0.8471\n",
            "Epoch 177/300\n",
            "22/22 [==============================] - 0s 3ms/step - loss: 0.3582 - accuracy: 0.8515 - val_loss: 0.3316 - val_accuracy: 0.8529\n",
            "Epoch 178/300\n",
            "22/22 [==============================] - 0s 3ms/step - loss: 0.3581 - accuracy: 0.8515 - val_loss: 0.3317 - val_accuracy: 0.8529\n",
            "Epoch 179/300\n",
            "22/22 [==============================] - 0s 3ms/step - loss: 0.3580 - accuracy: 0.8515 - val_loss: 0.3315 - val_accuracy: 0.8529\n",
            "Epoch 180/300\n",
            "22/22 [==============================] - 0s 3ms/step - loss: 0.3579 - accuracy: 0.8515 - val_loss: 0.3313 - val_accuracy: 0.8471\n",
            "Epoch 181/300\n",
            "22/22 [==============================] - 0s 3ms/step - loss: 0.3579 - accuracy: 0.8515 - val_loss: 0.3311 - val_accuracy: 0.8471\n",
            "Epoch 182/300\n",
            "22/22 [==============================] - 0s 3ms/step - loss: 0.3577 - accuracy: 0.8515 - val_loss: 0.3310 - val_accuracy: 0.8471\n",
            "Epoch 183/300\n",
            "22/22 [==============================] - 0s 3ms/step - loss: 0.3575 - accuracy: 0.8515 - val_loss: 0.3309 - val_accuracy: 0.8529\n",
            "Epoch 184/300\n",
            "22/22 [==============================] - 0s 3ms/step - loss: 0.3574 - accuracy: 0.8529 - val_loss: 0.3308 - val_accuracy: 0.8529\n",
            "Epoch 185/300\n",
            "22/22 [==============================] - 0s 3ms/step - loss: 0.3574 - accuracy: 0.8529 - val_loss: 0.3307 - val_accuracy: 0.8529\n",
            "Epoch 186/300\n",
            "22/22 [==============================] - 0s 3ms/step - loss: 0.3573 - accuracy: 0.8529 - val_loss: 0.3307 - val_accuracy: 0.8529\n",
            "Epoch 187/300\n",
            "22/22 [==============================] - 0s 3ms/step - loss: 0.3572 - accuracy: 0.8515 - val_loss: 0.3306 - val_accuracy: 0.8529\n",
            "Epoch 188/300\n",
            "22/22 [==============================] - 0s 3ms/step - loss: 0.3571 - accuracy: 0.8529 - val_loss: 0.3305 - val_accuracy: 0.8529\n",
            "Epoch 189/300\n",
            "22/22 [==============================] - 0s 4ms/step - loss: 0.3570 - accuracy: 0.8529 - val_loss: 0.3303 - val_accuracy: 0.8529\n",
            "Epoch 190/300\n",
            "22/22 [==============================] - 0s 3ms/step - loss: 0.3569 - accuracy: 0.8529 - val_loss: 0.3302 - val_accuracy: 0.8471\n",
            "Epoch 191/300\n",
            "22/22 [==============================] - 0s 3ms/step - loss: 0.3568 - accuracy: 0.8515 - val_loss: 0.3301 - val_accuracy: 0.8471\n",
            "Epoch 192/300\n",
            "22/22 [==============================] - 0s 3ms/step - loss: 0.3567 - accuracy: 0.8515 - val_loss: 0.3300 - val_accuracy: 0.8471\n",
            "Epoch 193/300\n",
            "22/22 [==============================] - 0s 3ms/step - loss: 0.3566 - accuracy: 0.8515 - val_loss: 0.3299 - val_accuracy: 0.8471\n",
            "Epoch 194/300\n",
            "22/22 [==============================] - 0s 3ms/step - loss: 0.3566 - accuracy: 0.8515 - val_loss: 0.3298 - val_accuracy: 0.8471\n",
            "Epoch 195/300\n",
            "22/22 [==============================] - 0s 3ms/step - loss: 0.3564 - accuracy: 0.8529 - val_loss: 0.3298 - val_accuracy: 0.8471\n",
            "Epoch 196/300\n",
            "22/22 [==============================] - 0s 3ms/step - loss: 0.3563 - accuracy: 0.8544 - val_loss: 0.3296 - val_accuracy: 0.8529\n",
            "Epoch 197/300\n",
            "22/22 [==============================] - 0s 3ms/step - loss: 0.3563 - accuracy: 0.8529 - val_loss: 0.3296 - val_accuracy: 0.8529\n",
            "Epoch 198/300\n",
            "22/22 [==============================] - 0s 3ms/step - loss: 0.3561 - accuracy: 0.8544 - val_loss: 0.3295 - val_accuracy: 0.8471\n",
            "Epoch 199/300\n",
            "22/22 [==============================] - 0s 3ms/step - loss: 0.3561 - accuracy: 0.8544 - val_loss: 0.3294 - val_accuracy: 0.8471\n",
            "Epoch 200/300\n",
            "22/22 [==============================] - 0s 3ms/step - loss: 0.3560 - accuracy: 0.8544 - val_loss: 0.3292 - val_accuracy: 0.8471\n",
            "Epoch 201/300\n",
            "22/22 [==============================] - 0s 4ms/step - loss: 0.3560 - accuracy: 0.8544 - val_loss: 0.3292 - val_accuracy: 0.8471\n",
            "Epoch 202/300\n",
            "22/22 [==============================] - 0s 3ms/step - loss: 0.3558 - accuracy: 0.8544 - val_loss: 0.3291 - val_accuracy: 0.8529\n",
            "Epoch 203/300\n",
            "22/22 [==============================] - 0s 3ms/step - loss: 0.3558 - accuracy: 0.8529 - val_loss: 0.3290 - val_accuracy: 0.8529\n",
            "Epoch 204/300\n",
            "22/22 [==============================] - 0s 3ms/step - loss: 0.3557 - accuracy: 0.8529 - val_loss: 0.3290 - val_accuracy: 0.8529\n",
            "Epoch 205/300\n",
            "22/22 [==============================] - 0s 3ms/step - loss: 0.3556 - accuracy: 0.8544 - val_loss: 0.3291 - val_accuracy: 0.8471\n",
            "Epoch 206/300\n",
            "22/22 [==============================] - 0s 3ms/step - loss: 0.3555 - accuracy: 0.8544 - val_loss: 0.3290 - val_accuracy: 0.8529\n",
            "Epoch 207/300\n",
            "22/22 [==============================] - 0s 4ms/step - loss: 0.3554 - accuracy: 0.8529 - val_loss: 0.3289 - val_accuracy: 0.8529\n",
            "Epoch 208/300\n",
            "22/22 [==============================] - 0s 3ms/step - loss: 0.3554 - accuracy: 0.8544 - val_loss: 0.3289 - val_accuracy: 0.8471\n",
            "Epoch 209/300\n",
            "22/22 [==============================] - 0s 3ms/step - loss: 0.3553 - accuracy: 0.8544 - val_loss: 0.3289 - val_accuracy: 0.8529\n",
            "Epoch 210/300\n",
            "22/22 [==============================] - 0s 3ms/step - loss: 0.3553 - accuracy: 0.8529 - val_loss: 0.3290 - val_accuracy: 0.8588\n",
            "Epoch 211/300\n",
            "22/22 [==============================] - 0s 3ms/step - loss: 0.3551 - accuracy: 0.8529 - val_loss: 0.3289 - val_accuracy: 0.8529\n",
            "Epoch 212/300\n",
            "22/22 [==============================] - 0s 3ms/step - loss: 0.3551 - accuracy: 0.8529 - val_loss: 0.3288 - val_accuracy: 0.8529\n",
            "Epoch 213/300\n",
            "22/22 [==============================] - 0s 3ms/step - loss: 0.3550 - accuracy: 0.8529 - val_loss: 0.3287 - val_accuracy: 0.8529\n",
            "Epoch 214/300\n",
            "22/22 [==============================] - 0s 3ms/step - loss: 0.3550 - accuracy: 0.8529 - val_loss: 0.3287 - val_accuracy: 0.8529\n",
            "Epoch 215/300\n",
            "22/22 [==============================] - 0s 4ms/step - loss: 0.3549 - accuracy: 0.8529 - val_loss: 0.3286 - val_accuracy: 0.8529\n",
            "Epoch 216/300\n",
            "22/22 [==============================] - 0s 3ms/step - loss: 0.3548 - accuracy: 0.8529 - val_loss: 0.3285 - val_accuracy: 0.8529\n",
            "Epoch 217/300\n",
            "22/22 [==============================] - 0s 4ms/step - loss: 0.3547 - accuracy: 0.8529 - val_loss: 0.3285 - val_accuracy: 0.8588\n",
            "Epoch 218/300\n",
            "22/22 [==============================] - 0s 3ms/step - loss: 0.3548 - accuracy: 0.8529 - val_loss: 0.3285 - val_accuracy: 0.8588\n",
            "Epoch 219/300\n",
            "22/22 [==============================] - 0s 3ms/step - loss: 0.3545 - accuracy: 0.8529 - val_loss: 0.3285 - val_accuracy: 0.8588\n",
            "Epoch 220/300\n",
            "22/22 [==============================] - 0s 3ms/step - loss: 0.3546 - accuracy: 0.8529 - val_loss: 0.3284 - val_accuracy: 0.8588\n",
            "Epoch 221/300\n",
            "22/22 [==============================] - 0s 4ms/step - loss: 0.3545 - accuracy: 0.8529 - val_loss: 0.3284 - val_accuracy: 0.8588\n",
            "Epoch 222/300\n",
            "22/22 [==============================] - 0s 3ms/step - loss: 0.3544 - accuracy: 0.8529 - val_loss: 0.3283 - val_accuracy: 0.8588\n",
            "Epoch 223/300\n",
            "22/22 [==============================] - 0s 3ms/step - loss: 0.3544 - accuracy: 0.8544 - val_loss: 0.3283 - val_accuracy: 0.8588\n",
            "Epoch 224/300\n",
            "22/22 [==============================] - 0s 3ms/step - loss: 0.3546 - accuracy: 0.8529 - val_loss: 0.3283 - val_accuracy: 0.8647\n",
            "Epoch 225/300\n",
            "22/22 [==============================] - 0s 3ms/step - loss: 0.3543 - accuracy: 0.8559 - val_loss: 0.3280 - val_accuracy: 0.8588\n",
            "Epoch 226/300\n",
            "22/22 [==============================] - 0s 3ms/step - loss: 0.3542 - accuracy: 0.8529 - val_loss: 0.3279 - val_accuracy: 0.8588\n",
            "Epoch 227/300\n",
            "22/22 [==============================] - 0s 3ms/step - loss: 0.3542 - accuracy: 0.8529 - val_loss: 0.3279 - val_accuracy: 0.8588\n",
            "Epoch 228/300\n",
            "22/22 [==============================] - 0s 3ms/step - loss: 0.3541 - accuracy: 0.8529 - val_loss: 0.3278 - val_accuracy: 0.8588\n",
            "Epoch 229/300\n",
            "22/22 [==============================] - 0s 3ms/step - loss: 0.3540 - accuracy: 0.8515 - val_loss: 0.3278 - val_accuracy: 0.8588\n",
            "Epoch 230/300\n",
            "22/22 [==============================] - 0s 3ms/step - loss: 0.3539 - accuracy: 0.8529 - val_loss: 0.3277 - val_accuracy: 0.8588\n",
            "Epoch 231/300\n",
            "22/22 [==============================] - 0s 3ms/step - loss: 0.3540 - accuracy: 0.8529 - val_loss: 0.3277 - val_accuracy: 0.8588\n",
            "Epoch 232/300\n",
            "22/22 [==============================] - 0s 3ms/step - loss: 0.3538 - accuracy: 0.8544 - val_loss: 0.3277 - val_accuracy: 0.8588\n",
            "Epoch 233/300\n",
            "22/22 [==============================] - 0s 3ms/step - loss: 0.3537 - accuracy: 0.8544 - val_loss: 0.3278 - val_accuracy: 0.8588\n",
            "Epoch 234/300\n",
            "22/22 [==============================] - 0s 3ms/step - loss: 0.3538 - accuracy: 0.8544 - val_loss: 0.3277 - val_accuracy: 0.8588\n",
            "Epoch 235/300\n",
            "22/22 [==============================] - 0s 3ms/step - loss: 0.3537 - accuracy: 0.8544 - val_loss: 0.3276 - val_accuracy: 0.8588\n",
            "Epoch 236/300\n",
            "22/22 [==============================] - 0s 3ms/step - loss: 0.3536 - accuracy: 0.8544 - val_loss: 0.3276 - val_accuracy: 0.8588\n",
            "Epoch 237/300\n",
            "22/22 [==============================] - 0s 3ms/step - loss: 0.3536 - accuracy: 0.8529 - val_loss: 0.3275 - val_accuracy: 0.8588\n",
            "Epoch 238/300\n",
            "22/22 [==============================] - 0s 3ms/step - loss: 0.3535 - accuracy: 0.8544 - val_loss: 0.3274 - val_accuracy: 0.8588\n",
            "Epoch 239/300\n",
            "22/22 [==============================] - 0s 4ms/step - loss: 0.3534 - accuracy: 0.8544 - val_loss: 0.3274 - val_accuracy: 0.8588\n",
            "Epoch 240/300\n",
            "22/22 [==============================] - 0s 3ms/step - loss: 0.3534 - accuracy: 0.8544 - val_loss: 0.3273 - val_accuracy: 0.8588\n",
            "Epoch 241/300\n",
            "22/22 [==============================] - 0s 3ms/step - loss: 0.3533 - accuracy: 0.8529 - val_loss: 0.3274 - val_accuracy: 0.8588\n",
            "Epoch 242/300\n",
            "22/22 [==============================] - 0s 3ms/step - loss: 0.3534 - accuracy: 0.8529 - val_loss: 0.3273 - val_accuracy: 0.8588\n",
            "Epoch 243/300\n",
            "22/22 [==============================] - 0s 3ms/step - loss: 0.3532 - accuracy: 0.8529 - val_loss: 0.3273 - val_accuracy: 0.8588\n",
            "Epoch 244/300\n",
            "22/22 [==============================] - 0s 4ms/step - loss: 0.3532 - accuracy: 0.8529 - val_loss: 0.3273 - val_accuracy: 0.8588\n",
            "Epoch 245/300\n",
            "22/22 [==============================] - 0s 3ms/step - loss: 0.3531 - accuracy: 0.8544 - val_loss: 0.3274 - val_accuracy: 0.8647\n",
            "Epoch 246/300\n",
            "22/22 [==============================] - 0s 3ms/step - loss: 0.3531 - accuracy: 0.8529 - val_loss: 0.3274 - val_accuracy: 0.8647\n",
            "Epoch 247/300\n",
            "22/22 [==============================] - 0s 3ms/step - loss: 0.3530 - accuracy: 0.8529 - val_loss: 0.3273 - val_accuracy: 0.8588\n",
            "Epoch 248/300\n",
            "22/22 [==============================] - 0s 3ms/step - loss: 0.3532 - accuracy: 0.8529 - val_loss: 0.3273 - val_accuracy: 0.8647\n",
            "Epoch 249/300\n",
            "22/22 [==============================] - 0s 3ms/step - loss: 0.3529 - accuracy: 0.8529 - val_loss: 0.3272 - val_accuracy: 0.8588\n",
            "Epoch 250/300\n",
            "22/22 [==============================] - 0s 3ms/step - loss: 0.3529 - accuracy: 0.8529 - val_loss: 0.3273 - val_accuracy: 0.8588\n",
            "Epoch 251/300\n",
            "22/22 [==============================] - 0s 3ms/step - loss: 0.3528 - accuracy: 0.8544 - val_loss: 0.3274 - val_accuracy: 0.8647\n",
            "Epoch 252/300\n",
            "22/22 [==============================] - 0s 3ms/step - loss: 0.3529 - accuracy: 0.8529 - val_loss: 0.3273 - val_accuracy: 0.8647\n",
            "Epoch 253/300\n",
            "22/22 [==============================] - 0s 3ms/step - loss: 0.3528 - accuracy: 0.8529 - val_loss: 0.3271 - val_accuracy: 0.8588\n",
            "Epoch 254/300\n",
            "22/22 [==============================] - 0s 3ms/step - loss: 0.3527 - accuracy: 0.8544 - val_loss: 0.3270 - val_accuracy: 0.8588\n",
            "Epoch 255/300\n",
            "22/22 [==============================] - 0s 3ms/step - loss: 0.3528 - accuracy: 0.8529 - val_loss: 0.3271 - val_accuracy: 0.8647\n",
            "Epoch 256/300\n",
            "22/22 [==============================] - 0s 3ms/step - loss: 0.3526 - accuracy: 0.8529 - val_loss: 0.3270 - val_accuracy: 0.8588\n",
            "Epoch 257/300\n",
            "22/22 [==============================] - 0s 4ms/step - loss: 0.3527 - accuracy: 0.8544 - val_loss: 0.3269 - val_accuracy: 0.8588\n",
            "Epoch 258/300\n",
            "22/22 [==============================] - 0s 4ms/step - loss: 0.3526 - accuracy: 0.8515 - val_loss: 0.3269 - val_accuracy: 0.8588\n",
            "Epoch 259/300\n",
            "22/22 [==============================] - 0s 3ms/step - loss: 0.3525 - accuracy: 0.8529 - val_loss: 0.3270 - val_accuracy: 0.8588\n",
            "Epoch 260/300\n",
            "22/22 [==============================] - 0s 3ms/step - loss: 0.3524 - accuracy: 0.8544 - val_loss: 0.3268 - val_accuracy: 0.8588\n",
            "Epoch 261/300\n",
            "22/22 [==============================] - 0s 4ms/step - loss: 0.3524 - accuracy: 0.8544 - val_loss: 0.3268 - val_accuracy: 0.8588\n",
            "Epoch 262/300\n",
            "22/22 [==============================] - 0s 3ms/step - loss: 0.3524 - accuracy: 0.8515 - val_loss: 0.3267 - val_accuracy: 0.8588\n",
            "Epoch 263/300\n",
            "22/22 [==============================] - 0s 3ms/step - loss: 0.3524 - accuracy: 0.8515 - val_loss: 0.3268 - val_accuracy: 0.8588\n",
            "Epoch 264/300\n",
            "22/22 [==============================] - 0s 3ms/step - loss: 0.3523 - accuracy: 0.8500 - val_loss: 0.3267 - val_accuracy: 0.8588\n",
            "Epoch 265/300\n",
            "22/22 [==============================] - 0s 4ms/step - loss: 0.3522 - accuracy: 0.8515 - val_loss: 0.3268 - val_accuracy: 0.8647\n",
            "Epoch 266/300\n",
            "22/22 [==============================] - 0s 3ms/step - loss: 0.3522 - accuracy: 0.8544 - val_loss: 0.3268 - val_accuracy: 0.8647\n",
            "Epoch 267/300\n",
            " 1/22 [>.............................] - ETA: 0s - loss: 0.3122 - accuracy: 0.8125Restoring model weights from the end of the best epoch: 262.\n",
            "22/22 [==============================] - 0s 3ms/step - loss: 0.3522 - accuracy: 0.8515 - val_loss: 0.3268 - val_accuracy: 0.8588\n",
            "Epoch 267: early stopping\n"
          ]
        }
      ],
      "source": [
        "hist1 = model4.fit(x_trainsc, y_train, epochs=300, validation_split=0.2, callbacks=[es])\n",
        "val_pred4 = model4.predict(x_valsc)"
      ]
    },
    {
      "cell_type": "code",
      "execution_count": 540,
      "metadata": {
        "id": "1LggUbULOTTI",
        "colab": {
          "base_uri": "https://localhost:8080/"
        },
        "outputId": "4f2e92c6-bf82-4559-ea7b-620f21372cd6"
      },
      "outputs": [
        {
          "output_type": "stream",
          "name": "stdout",
          "text": [
            "Epoch 1/300\n",
            "22/22 [==============================] - 1s 11ms/step - loss: 0.6266 - accuracy: 0.7574 - val_loss: 0.5521 - val_accuracy: 0.8235\n",
            "Epoch 2/300\n",
            "22/22 [==============================] - 0s 4ms/step - loss: 0.5005 - accuracy: 0.8309 - val_loss: 0.4556 - val_accuracy: 0.8235\n",
            "Epoch 3/300\n",
            "22/22 [==============================] - 0s 3ms/step - loss: 0.4492 - accuracy: 0.8309 - val_loss: 0.4304 - val_accuracy: 0.8235\n",
            "Epoch 4/300\n",
            "22/22 [==============================] - 0s 3ms/step - loss: 0.4344 - accuracy: 0.8309 - val_loss: 0.4116 - val_accuracy: 0.8235\n",
            "Epoch 5/300\n",
            "22/22 [==============================] - 0s 3ms/step - loss: 0.4193 - accuracy: 0.8309 - val_loss: 0.3972 - val_accuracy: 0.8294\n",
            "Epoch 6/300\n",
            "22/22 [==============================] - 0s 3ms/step - loss: 0.4085 - accuracy: 0.8324 - val_loss: 0.3730 - val_accuracy: 0.8294\n",
            "Epoch 7/300\n",
            "22/22 [==============================] - 0s 3ms/step - loss: 0.3957 - accuracy: 0.8382 - val_loss: 0.3574 - val_accuracy: 0.8529\n",
            "Epoch 8/300\n",
            "22/22 [==============================] - 0s 4ms/step - loss: 0.3860 - accuracy: 0.8426 - val_loss: 0.3505 - val_accuracy: 0.8706\n",
            "Epoch 9/300\n",
            "22/22 [==============================] - 0s 3ms/step - loss: 0.3806 - accuracy: 0.8412 - val_loss: 0.3360 - val_accuracy: 0.8706\n",
            "Epoch 10/300\n",
            "22/22 [==============================] - 0s 3ms/step - loss: 0.3737 - accuracy: 0.8426 - val_loss: 0.3298 - val_accuracy: 0.8706\n",
            "Epoch 11/300\n",
            "22/22 [==============================] - 0s 3ms/step - loss: 0.3671 - accuracy: 0.8485 - val_loss: 0.3261 - val_accuracy: 0.8706\n",
            "Epoch 12/300\n",
            "22/22 [==============================] - 0s 3ms/step - loss: 0.3639 - accuracy: 0.8500 - val_loss: 0.3295 - val_accuracy: 0.8706\n",
            "Epoch 13/300\n",
            "22/22 [==============================] - 0s 3ms/step - loss: 0.3623 - accuracy: 0.8544 - val_loss: 0.3221 - val_accuracy: 0.8706\n",
            "Epoch 14/300\n",
            "22/22 [==============================] - 0s 4ms/step - loss: 0.3572 - accuracy: 0.8515 - val_loss: 0.3192 - val_accuracy: 0.8706\n",
            "Epoch 15/300\n",
            "22/22 [==============================] - 0s 3ms/step - loss: 0.3554 - accuracy: 0.8559 - val_loss: 0.3164 - val_accuracy: 0.8706\n",
            "Epoch 16/300\n",
            "22/22 [==============================] - 0s 4ms/step - loss: 0.3537 - accuracy: 0.8588 - val_loss: 0.3171 - val_accuracy: 0.8706\n",
            "Epoch 17/300\n",
            "22/22 [==============================] - 0s 3ms/step - loss: 0.3506 - accuracy: 0.8529 - val_loss: 0.3153 - val_accuracy: 0.8706\n",
            "Epoch 18/300\n",
            "22/22 [==============================] - 0s 3ms/step - loss: 0.3482 - accuracy: 0.8603 - val_loss: 0.3158 - val_accuracy: 0.8706\n",
            "Epoch 19/300\n",
            "22/22 [==============================] - 0s 3ms/step - loss: 0.3466 - accuracy: 0.8603 - val_loss: 0.3196 - val_accuracy: 0.8765\n",
            "Epoch 20/300\n",
            "22/22 [==============================] - 0s 3ms/step - loss: 0.3444 - accuracy: 0.8574 - val_loss: 0.3170 - val_accuracy: 0.8706\n",
            "Epoch 21/300\n",
            "22/22 [==============================] - 0s 4ms/step - loss: 0.3433 - accuracy: 0.8574 - val_loss: 0.3178 - val_accuracy: 0.8647\n",
            "Epoch 22/300\n",
            "22/22 [==============================] - 0s 3ms/step - loss: 0.3428 - accuracy: 0.8647 - val_loss: 0.3146 - val_accuracy: 0.8706\n",
            "Epoch 23/300\n",
            "22/22 [==============================] - 0s 3ms/step - loss: 0.3406 - accuracy: 0.8588 - val_loss: 0.3140 - val_accuracy: 0.8647\n",
            "Epoch 24/300\n",
            "22/22 [==============================] - 0s 4ms/step - loss: 0.3402 - accuracy: 0.8647 - val_loss: 0.3151 - val_accuracy: 0.8588\n",
            "Epoch 25/300\n",
            "22/22 [==============================] - 0s 4ms/step - loss: 0.3387 - accuracy: 0.8618 - val_loss: 0.3172 - val_accuracy: 0.8706\n",
            "Epoch 26/300\n",
            "22/22 [==============================] - 0s 4ms/step - loss: 0.3370 - accuracy: 0.8706 - val_loss: 0.3134 - val_accuracy: 0.8647\n",
            "Epoch 27/300\n",
            "22/22 [==============================] - 0s 4ms/step - loss: 0.3348 - accuracy: 0.8647 - val_loss: 0.3202 - val_accuracy: 0.8588\n",
            "Epoch 28/300\n",
            "22/22 [==============================] - 0s 3ms/step - loss: 0.3380 - accuracy: 0.8632 - val_loss: 0.3186 - val_accuracy: 0.8765\n",
            "Epoch 29/300\n",
            "22/22 [==============================] - 0s 3ms/step - loss: 0.3338 - accuracy: 0.8647 - val_loss: 0.3150 - val_accuracy: 0.8706\n",
            "Epoch 30/300\n",
            "22/22 [==============================] - 0s 3ms/step - loss: 0.3321 - accuracy: 0.8647 - val_loss: 0.3129 - val_accuracy: 0.8588\n",
            "Epoch 31/300\n",
            "22/22 [==============================] - 0s 4ms/step - loss: 0.3321 - accuracy: 0.8632 - val_loss: 0.3118 - val_accuracy: 0.8588\n",
            "Epoch 32/300\n",
            "22/22 [==============================] - 0s 3ms/step - loss: 0.3312 - accuracy: 0.8603 - val_loss: 0.3120 - val_accuracy: 0.8588\n",
            "Epoch 33/300\n",
            "22/22 [==============================] - 0s 3ms/step - loss: 0.3313 - accuracy: 0.8603 - val_loss: 0.3119 - val_accuracy: 0.8588\n",
            "Epoch 34/300\n",
            "22/22 [==============================] - 0s 4ms/step - loss: 0.3322 - accuracy: 0.8603 - val_loss: 0.3117 - val_accuracy: 0.8647\n",
            "Epoch 35/300\n",
            "22/22 [==============================] - 0s 3ms/step - loss: 0.3285 - accuracy: 0.8662 - val_loss: 0.3169 - val_accuracy: 0.8765\n",
            "Epoch 36/300\n",
            "22/22 [==============================] - 0s 3ms/step - loss: 0.3280 - accuracy: 0.8676 - val_loss: 0.3243 - val_accuracy: 0.8706\n",
            "Epoch 37/300\n",
            "22/22 [==============================] - 0s 3ms/step - loss: 0.3287 - accuracy: 0.8662 - val_loss: 0.3146 - val_accuracy: 0.8588\n",
            "Epoch 38/300\n",
            "22/22 [==============================] - 0s 3ms/step - loss: 0.3262 - accuracy: 0.8691 - val_loss: 0.3137 - val_accuracy: 0.8588\n",
            "Epoch 39/300\n",
            " 1/22 [>.............................] - ETA: 0s - loss: 0.4046 - accuracy: 0.8750Restoring model weights from the end of the best epoch: 34.\n",
            "22/22 [==============================] - 0s 3ms/step - loss: 0.3248 - accuracy: 0.8662 - val_loss: 0.3140 - val_accuracy: 0.8647\n",
            "Epoch 39: early stopping\n"
          ]
        }
      ],
      "source": [
        "hist2 = model5.fit(x_trainsc, y_train, epochs=300, validation_split=0.2, callbacks=[es])\n",
        "val_pred5 = model5.predict(x_valsc)"
      ]
    },
    {
      "cell_type": "code",
      "execution_count": 541,
      "metadata": {
        "id": "tK2N3-3_MLgz",
        "colab": {
          "base_uri": "https://localhost:8080/"
        },
        "outputId": "4ba5d64e-370b-41ae-8970-bcf9244b598f"
      },
      "outputs": [
        {
          "output_type": "stream",
          "name": "stdout",
          "text": [
            "Epoch 1/300\n",
            "22/22 [==============================] - 2s 12ms/step - loss: 0.5581 - accuracy: 0.7985 - val_loss: 0.4322 - val_accuracy: 0.8235\n",
            "Epoch 2/300\n",
            "22/22 [==============================] - 0s 3ms/step - loss: 0.4291 - accuracy: 0.8309 - val_loss: 0.4125 - val_accuracy: 0.8235\n",
            "Epoch 3/300\n",
            "22/22 [==============================] - 0s 4ms/step - loss: 0.4106 - accuracy: 0.8309 - val_loss: 0.3748 - val_accuracy: 0.8235\n",
            "Epoch 4/300\n",
            "22/22 [==============================] - 0s 4ms/step - loss: 0.3869 - accuracy: 0.8368 - val_loss: 0.3515 - val_accuracy: 0.8471\n",
            "Epoch 5/300\n",
            "22/22 [==============================] - 0s 3ms/step - loss: 0.3738 - accuracy: 0.8382 - val_loss: 0.3392 - val_accuracy: 0.8588\n",
            "Epoch 6/300\n",
            "22/22 [==============================] - 0s 3ms/step - loss: 0.3716 - accuracy: 0.8485 - val_loss: 0.3658 - val_accuracy: 0.8529\n",
            "Epoch 7/300\n",
            "22/22 [==============================] - 0s 4ms/step - loss: 0.3654 - accuracy: 0.8500 - val_loss: 0.3446 - val_accuracy: 0.8529\n",
            "Epoch 8/300\n",
            "22/22 [==============================] - 0s 4ms/step - loss: 0.3607 - accuracy: 0.8529 - val_loss: 0.3723 - val_accuracy: 0.8588\n",
            "Epoch 9/300\n",
            "22/22 [==============================] - 0s 4ms/step - loss: 0.3594 - accuracy: 0.8559 - val_loss: 0.3336 - val_accuracy: 0.8529\n",
            "Epoch 10/300\n",
            "22/22 [==============================] - 0s 3ms/step - loss: 0.3494 - accuracy: 0.8574 - val_loss: 0.3499 - val_accuracy: 0.8529\n",
            "Epoch 11/300\n",
            "22/22 [==============================] - 0s 4ms/step - loss: 0.3482 - accuracy: 0.8500 - val_loss: 0.3264 - val_accuracy: 0.8529\n",
            "Epoch 12/300\n",
            "22/22 [==============================] - 0s 4ms/step - loss: 0.3442 - accuracy: 0.8647 - val_loss: 0.3285 - val_accuracy: 0.8471\n",
            "Epoch 13/300\n",
            "22/22 [==============================] - 0s 4ms/step - loss: 0.3398 - accuracy: 0.8632 - val_loss: 0.3272 - val_accuracy: 0.8412\n",
            "Epoch 14/300\n",
            "22/22 [==============================] - 0s 4ms/step - loss: 0.3381 - accuracy: 0.8632 - val_loss: 0.3259 - val_accuracy: 0.8588\n",
            "Epoch 15/300\n",
            "22/22 [==============================] - 0s 4ms/step - loss: 0.3350 - accuracy: 0.8588 - val_loss: 0.3182 - val_accuracy: 0.8588\n",
            "Epoch 16/300\n",
            "22/22 [==============================] - 0s 4ms/step - loss: 0.3340 - accuracy: 0.8632 - val_loss: 0.3245 - val_accuracy: 0.8647\n",
            "Epoch 17/300\n",
            "22/22 [==============================] - 0s 4ms/step - loss: 0.3330 - accuracy: 0.8647 - val_loss: 0.3196 - val_accuracy: 0.8647\n",
            "Epoch 18/300\n",
            "22/22 [==============================] - 0s 4ms/step - loss: 0.3305 - accuracy: 0.8662 - val_loss: 0.3260 - val_accuracy: 0.8647\n",
            "Epoch 19/300\n",
            "22/22 [==============================] - 0s 3ms/step - loss: 0.3271 - accuracy: 0.8662 - val_loss: 0.3169 - val_accuracy: 0.8588\n",
            "Epoch 20/300\n",
            "22/22 [==============================] - 0s 4ms/step - loss: 0.3296 - accuracy: 0.8603 - val_loss: 0.3239 - val_accuracy: 0.8647\n",
            "Epoch 21/300\n",
            "22/22 [==============================] - 0s 3ms/step - loss: 0.3255 - accuracy: 0.8676 - val_loss: 0.3274 - val_accuracy: 0.8588\n",
            "Epoch 22/300\n",
            "22/22 [==============================] - 0s 4ms/step - loss: 0.3244 - accuracy: 0.8647 - val_loss: 0.3207 - val_accuracy: 0.8647\n",
            "Epoch 23/300\n",
            "22/22 [==============================] - 0s 3ms/step - loss: 0.3215 - accuracy: 0.8662 - val_loss: 0.3142 - val_accuracy: 0.8647\n",
            "Epoch 24/300\n",
            "22/22 [==============================] - 0s 3ms/step - loss: 0.3190 - accuracy: 0.8721 - val_loss: 0.3157 - val_accuracy: 0.8706\n",
            "Epoch 25/300\n",
            "22/22 [==============================] - 0s 4ms/step - loss: 0.3183 - accuracy: 0.8706 - val_loss: 0.3186 - val_accuracy: 0.8588\n",
            "Epoch 26/300\n",
            "22/22 [==============================] - 0s 4ms/step - loss: 0.3162 - accuracy: 0.8662 - val_loss: 0.3142 - val_accuracy: 0.8706\n",
            "Epoch 27/300\n",
            "22/22 [==============================] - 0s 4ms/step - loss: 0.3160 - accuracy: 0.8676 - val_loss: 0.3146 - val_accuracy: 0.8706\n",
            "Epoch 28/300\n",
            "22/22 [==============================] - 0s 3ms/step - loss: 0.3157 - accuracy: 0.8647 - val_loss: 0.3143 - val_accuracy: 0.8706\n",
            "Epoch 29/300\n",
            "22/22 [==============================] - 0s 4ms/step - loss: 0.3144 - accuracy: 0.8647 - val_loss: 0.3142 - val_accuracy: 0.8706\n",
            "Epoch 30/300\n",
            "22/22 [==============================] - 0s 3ms/step - loss: 0.3132 - accuracy: 0.8691 - val_loss: 0.3117 - val_accuracy: 0.8647\n",
            "Epoch 31/300\n",
            "22/22 [==============================] - 0s 3ms/step - loss: 0.3135 - accuracy: 0.8706 - val_loss: 0.3128 - val_accuracy: 0.8706\n",
            "Epoch 32/300\n",
            "22/22 [==============================] - 0s 4ms/step - loss: 0.3106 - accuracy: 0.8647 - val_loss: 0.3127 - val_accuracy: 0.8647\n",
            "Epoch 33/300\n",
            "22/22 [==============================] - 0s 3ms/step - loss: 0.3094 - accuracy: 0.8691 - val_loss: 0.3193 - val_accuracy: 0.8588\n",
            "Epoch 34/300\n",
            "22/22 [==============================] - 0s 4ms/step - loss: 0.3089 - accuracy: 0.8662 - val_loss: 0.3260 - val_accuracy: 0.8647\n",
            "Epoch 35/300\n",
            " 1/22 [>.............................] - ETA: 0s - loss: 0.3292 - accuracy: 0.8438Restoring model weights from the end of the best epoch: 30.\n",
            "22/22 [==============================] - 0s 4ms/step - loss: 0.3072 - accuracy: 0.8691 - val_loss: 0.3233 - val_accuracy: 0.8647\n",
            "Epoch 35: early stopping\n"
          ]
        }
      ],
      "source": [
        "hist3 = model6.fit(x_trainsc, y_train, epochs=300, validation_split=0.2, callbacks=[es])\n",
        "val_pred6 = model6.predict(x_valsc)"
      ]
    },
    {
      "cell_type": "markdown",
      "metadata": {
        "id": "U4UL4ynYL6Ly"
      },
      "source": [
        "## 5.성능 비교\n",
        "* 알고리즘별 선정된 모델이 최소 6개 입니다. 이에 대해 성능을 평가합니다.\n",
        "* 평가를 위한 적절한 지표(metric)을 결정하고 비교합니다.\n",
        "    * 평가지표 선정 이유도 주석으로 기술하시오.\n",
        "* 최종 모델을 선정하게 된 근거를 주석으로 기술하시오."
      ]
    },
    {
      "cell_type": "markdown",
      "metadata": {
        "id": "lKA2UyB6HXfF"
      },
      "source": [
        "### 5.1 평가지표 결정\n",
        "\n",
        "* 어떤 지표로 성능을 비교할지 결정합니다.\n",
        "* 결정 이유를 기술합니다."
      ]
    },
    {
      "cell_type": "markdown",
      "source": [
        "- 직원 이직률을 예측하는데 있어 전체 샘플 중 정답을 예측한 가장 기본적인 요소인 정확도를 평가지표로 결정"
      ],
      "metadata": {
        "id": "CCrBH9CX6rTh"
      }
    },
    {
      "cell_type": "markdown",
      "metadata": {
        "id": "-hOx7i2sHi1U"
      },
      "source": [
        "### 5.2 성능 비교"
      ]
    },
    {
      "cell_type": "code",
      "execution_count": 543,
      "metadata": {
        "id": "Ta99Rh0IHarR",
        "colab": {
          "base_uri": "https://localhost:8080/"
        },
        "outputId": "7b8a30b3-e1a3-42ce-90a7-98ebc636c110"
      },
      "outputs": [
        {
          "output_type": "stream",
          "name": "stdout",
          "text": [
            "0.825\n",
            "0.82\n",
            "0.845\n",
            "0.8500000238418579\n",
            "0.8676470518112183\n",
            "0.8705882430076599\n"
          ]
        }
      ],
      "source": [
        "# 전체 모델 accuracy 비교\n",
        "print(accuracy_score(y_test, val_pred1))\n",
        "print(accuracy_score(y_test, val_pred2))\n",
        "print(accuracy_score(y_test, val_pred3))\n",
        "print(hist1.history['accuracy'][263])\n",
        "print(hist2.history['accuracy'][35])\n",
        "print(hist3.history['accuracy'][30])"
      ]
    },
    {
      "cell_type": "code",
      "source": [
        "# 딥러닝 모델별 accuracy 비교\n",
        "\n",
        "if not isinstance(hist1, dict):\n",
        "    history = hist1.history\n",
        "\n",
        "plt.plot(history['accuracy'])\n",
        "plt.plot(history['val_accuracy'])\n",
        "plt.title('Accuracy : Training vs Validation')\n",
        "plt.ylabel('Accuracy')\n",
        "plt.xlabel('Epoch')\n",
        "plt.legend(['Training', 'Validation'], loc=0)\n",
        "plt.show()"
      ],
      "metadata": {
        "colab": {
          "base_uri": "https://localhost:8080/",
          "height": 295
        },
        "id": "C_emL4Z02wiD",
        "outputId": "bf687892-50de-421a-beca-4741c3e2e11b"
      },
      "execution_count": 544,
      "outputs": [
        {
          "output_type": "display_data",
          "data": {
            "text/plain": [
              "<Figure size 432x288 with 1 Axes>"
            ],
            "image/png": "[encoded data removed]"
          },
          "metadata": {
            "needs_background": "light"
          }
        }
      ]
    },
    {
      "cell_type": "code",
      "source": [
        "if not isinstance(hist2, dict):\n",
        "    history = hist2.history\n",
        "\n",
        "plt.plot(history['accuracy'])\n",
        "plt.plot(history['val_accuracy'])\n",
        "plt.title('Accuracy : Training vs Validation')\n",
        "plt.ylabel('Accuracy')\n",
        "plt.xlabel('Epoch')\n",
        "plt.legend(['Training', 'Validation'], loc=0)\n",
        "plt.show()"
      ],
      "metadata": {
        "colab": {
          "base_uri": "https://localhost:8080/",
          "height": 295
        },
        "id": "GiCszlSn4Qkv",
        "outputId": "e14474dc-0428-4e6f-fbb0-948a040a5f7d"
      },
      "execution_count": 545,
      "outputs": [
        {
          "output_type": "display_data",
          "data": {
            "text/plain": [
              "<Figure size 432x288 with 1 Axes>"
            ],
            "image/png": "[encoded data removed]"
          },
          "metadata": {
            "needs_background": "light"
          }
        }
      ]
    },
    {
      "cell_type": "code",
      "source": [
        "if not isinstance(hist3, dict):\n",
        "    history = hist3.history\n",
        "\n",
        "plt.plot(history['accuracy'])\n",
        "plt.plot(history['val_accuracy'])\n",
        "plt.title('Accuracy : Training vs Validation')\n",
        "plt.ylabel('Accuracy')\n",
        "plt.xlabel('Epoch')\n",
        "plt.legend(['Training', 'Validation'], loc=0)\n",
        "plt.show()"
      ],
      "metadata": {
        "colab": {
          "base_uri": "https://localhost:8080/",
          "height": 295
        },
        "id": "0D-IZdGW4VfE",
        "outputId": "4b1387fc-0223-4a1e-9ff0-13a578d3e36b"
      },
      "execution_count": 546,
      "outputs": [
        {
          "output_type": "display_data",
          "data": {
            "text/plain": [
              "<Figure size 432x288 with 1 Axes>"
            ],
            "image/png": "[encoded data removed]"
          },
          "metadata": {
            "needs_background": "light"
          }
        }
      ]
    }
  ],
  "metadata": {
    "colab": {
      "collapsed_sections": [],
      "name": "과제2. 직원 이직 분석.ipynb",
      "provenance": []
    },
    "kernelspec": {
      "display_name": "Python 3",
      "language": "python",
      "name": "python3"
    },
    "language_info": {
      "codemirror_mode": {
        "name": "ipython",
        "version": 3
      },
      "file_extension": ".py",
      "mimetype": "text/x-python",
      "name": "python",
      "nbconvert_exporter": "python",
      "pygments_lexer": "ipython3",
      "version": "3.8.8"
    },
    "accelerator": "GPU"
  },
  "nbformat": 4,
  "nbformat_minor": 0
}