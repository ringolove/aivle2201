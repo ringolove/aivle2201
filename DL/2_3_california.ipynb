{
  "nbformat": 4,
  "nbformat_minor": 0,
  "metadata": {
    "colab": {
      "name": "california",
      "provenance": [],
      "collapsed_sections": []
    },
    "kernelspec": {
      "name": "python3",
      "display_name": "Python 3"
    },
    "language_info": {
      "name": "python"
    }
  },
  "cells": [
    {
      "cell_type": "code",
      "execution_count": 36,
      "metadata": {
        "id": "HBkrvEvgdBSO"
      },
      "outputs": [],
      "source": [
        "from sklearn.datasets import fetch_california_housing"
      ]
    },
    {
      "cell_type": "code",
      "source": [
        "california = fetch_california_housing()"
      ],
      "metadata": {
        "id": "qeiRfp-6dGDS"
      },
      "execution_count": 37,
      "outputs": []
    },
    {
      "cell_type": "code",
      "source": [
        "x = california.data\n",
        "y = california.target\n",
        "\n",
        "x.shape, y.shape"
      ],
      "metadata": {
        "colab": {
          "base_uri": "https://localhost:8080/"
        },
        "id": "Pcq7P9UdeSaS",
        "outputId": "46dad76a-9c2f-4c8e-f22e-b09479538202"
      },
      "execution_count": 38,
      "outputs": [
        {
          "output_type": "execute_result",
          "data": {
            "text/plain": [
              "((20640, 8), (20640,))"
            ]
          },
          "metadata": {},
          "execution_count": 38
        }
      ]
    },
    {
      "cell_type": "code",
      "source": [
        "from sklearn.model_selection import *\n",
        "x_train, x_test, y_train, y_test = train_test_split(x, y, test_size=0.2, random_state=2022)"
      ],
      "metadata": {
        "id": "vybU9ns0gNm1"
      },
      "execution_count": 39,
      "outputs": []
    },
    {
      "cell_type": "code",
      "source": [
        "x_train.shape, y_train.shape"
      ],
      "metadata": {
        "colab": {
          "base_uri": "https://localhost:8080/"
        },
        "id": "mbt7OA97hTKo",
        "outputId": "6897e89b-a43f-492d-abf6-5d1201856acb"
      },
      "execution_count": 40,
      "outputs": [
        {
          "output_type": "execute_result",
          "data": {
            "text/plain": [
              "((16512, 8), (16512,))"
            ]
          },
          "metadata": {},
          "execution_count": 40
        }
      ]
    },
    {
      "cell_type": "code",
      "source": [
        "import tensorflow as tf\n",
        "from tensorflow import keras\n",
        "\n",
        "keras.backend.clear_session()\n",
        "\n",
        "a = keras.layers.Input(shape=(x_train[1].shape))\n",
        "h = keras.layers.Dense(256, activation='relu')(a)\n",
        "h = keras.layers.Dense(128, activation='relu')(h)\n",
        "h = keras.layers.Dense(64, activation='relu')(h)\n",
        "h = keras.layers.Dense(32, activation='relu')(h)\n",
        "b = keras.layers.Dense(1)(h)\n",
        "\n",
        "model = keras.models.Model(a,b)\n",
        "\n",
        "model.compile(loss=keras.losses.mse, optimizer='adam')\n",
        "\n",
        "model.summary()"
      ],
      "metadata": {
        "colab": {
          "base_uri": "https://localhost:8080/"
        },
        "id": "5eRCQJ7XgpRg",
        "outputId": "b79d0bb2-9099-4531-b684-d8963fd68281"
      },
      "execution_count": 41,
      "outputs": [
        {
          "output_type": "stream",
          "name": "stdout",
          "text": [
            "Model: \"model\"\n",
            "_________________________________________________________________\n",
            " Layer (type)                Output Shape              Param #   \n",
            "=================================================================\n",
            " input_1 (InputLayer)        [(None, 8)]               0         \n",
            "                                                                 \n",
            " dense (Dense)               (None, 256)               2304      \n",
            "                                                                 \n",
            " dense_1 (Dense)             (None, 128)               32896     \n",
            "                                                                 \n",
            " dense_2 (Dense)             (None, 64)                8256      \n",
            "                                                                 \n",
            " dense_3 (Dense)             (None, 32)                2080      \n",
            "                                                                 \n",
            " dense_4 (Dense)             (None, 1)                 33        \n",
            "                                                                 \n",
            "=================================================================\n",
            "Total params: 45,569\n",
            "Trainable params: 45,569\n",
            "Non-trainable params: 0\n",
            "_________________________________________________________________\n"
          ]
        }
      ]
    },
    {
      "cell_type": "code",
      "source": [
        "from tensorflow.keras.callbacks import EarlyStopping\n",
        "\n",
        "es = EarlyStopping(monitor='val_loss', min_delta=0, patience=3, verbose=1, restore_best_weights=True)"
      ],
      "metadata": {
        "id": "0XSthwIohylW"
      },
      "execution_count": 42,
      "outputs": []
    },
    {
      "cell_type": "code",
      "source": [
        "model.fit(x_train, y_train, validation_split=0.2, callbacks=[es], verbose=1, epochs=30, batch_size=64)"
      ],
      "metadata": {
        "colab": {
          "base_uri": "https://localhost:8080/"
        },
        "id": "AxndjtlMh8z_",
        "outputId": "fd75656c-e9b0-4cde-af9e-8b4419476116"
      },
      "execution_count": 43,
      "outputs": [
        {
          "output_type": "stream",
          "name": "stdout",
          "text": [
            "Epoch 1/30\n",
            "207/207 [==============================] - 2s 5ms/step - loss: 379.0444 - val_loss: 1.4906\n",
            "Epoch 2/30\n",
            "207/207 [==============================] - 1s 5ms/step - loss: 1.7798 - val_loss: 2.0241\n",
            "Epoch 3/30\n",
            "207/207 [==============================] - 1s 5ms/step - loss: 3.8041 - val_loss: 2.3247\n",
            "Epoch 4/30\n",
            "205/207 [============================>.] - ETA: 0s - loss: 66.5526Restoring model weights from the end of the best epoch: 1.\n",
            "207/207 [==============================] - 1s 4ms/step - loss: 66.1461 - val_loss: 38.8967\n",
            "Epoch 4: early stopping\n"
          ]
        },
        {
          "output_type": "execute_result",
          "data": {
            "text/plain": [
              "<keras.callbacks.History at 0x7f93ae42d2d0>"
            ]
          },
          "metadata": {},
          "execution_count": 43
        }
      ]
    },
    {
      "cell_type": "code",
      "source": [
        "y_pred = model.predict(x_test)\n",
        "y_pred[:5]"
      ],
      "metadata": {
        "colab": {
          "base_uri": "https://localhost:8080/"
        },
        "id": "68o69A2TiDhP",
        "outputId": "b14ce022-0dac-4174-f852-a60abb708b39"
      },
      "execution_count": 46,
      "outputs": [
        {
          "output_type": "execute_result",
          "data": {
            "text/plain": [
              "array([[0.93096936],\n",
              "       [2.0394745 ],\n",
              "       [1.3756868 ],\n",
              "       [1.7336274 ],\n",
              "       [1.9772111 ]], dtype=float32)"
            ]
          },
          "metadata": {},
          "execution_count": 46
        }
      ]
    },
    {
      "cell_type": "code",
      "source": [
        "y_test[:5]"
      ],
      "metadata": {
        "colab": {
          "base_uri": "https://localhost:8080/"
        },
        "id": "vAgZrVCzjMb8",
        "outputId": "26be4f57-22fb-41c9-dc24-7fd5e10dffc2"
      },
      "execution_count": 47,
      "outputs": [
        {
          "output_type": "execute_result",
          "data": {
            "text/plain": [
              "array([4.771, 1.371, 1.233, 0.938, 3.26 ])"
            ]
          },
          "metadata": {},
          "execution_count": 47
        }
      ]
    }
  ]
}