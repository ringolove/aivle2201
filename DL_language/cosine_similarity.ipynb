{
  "nbformat": 4,
  "nbformat_minor": 0,
  "metadata": {
    "colab": {
      "name": "cosine similarity.ipynb",
      "provenance": [],
      "collapsed_sections": []
    },
    "kernelspec": {
      "name": "python3",
      "display_name": "Python 3"
    },
    "language_info": {
      "name": "python"
    }
  },
  "cells": [
    {
      "cell_type": "code",
      "execution_count": 1,
      "metadata": {
        "colab": {
          "base_uri": "https://localhost:8080/"
        },
        "id": "69PraRyFGaHy",
        "outputId": "a8813179-3dfd-4d32-9734-0fd6746457d7"
      },
      "outputs": [
        {
          "output_type": "stream",
          "name": "stdout",
          "text": [
            "Cosine Similarity [1 and 2]: [[1.]]\n",
            "Cosine Similarity [1 and 3]: [[0.07083962]]\n"
          ]
        }
      ],
      "source": [
        "import numpy as np\n",
        "from sklearn.feature_extraction.text import TfidfVectorizer\n",
        "\n",
        "sentence = (\"오늘도 폭염이 이어졌는데요, 내일은 반가운 비 소식이 있습니다.\",\n",
        "            \"오늘도 폭염이 이어졌는데요, 내일은 반가운 비 소식이 있습니다.\",\n",
        "            \"폭염을 피해 놀러왔다가 갑작스런 비로 망연자실하고 있습니다.\")\n",
        "tfidf_vectorizer = TfidfVectorizer()\n",
        "tfidf_matrix = tfidf_vectorizer.fit_transform(sentence) # vectorization\n",
        "from sklearn.metrics.pairwise import cosine_similarity\n",
        "print(\"Cosine Similarity [1 and 2]:\", cosine_similarity(tfidf_matrix[0], tfidf_matrix[1]))\n",
        "print(\"Cosine Similarity [1 and 3]:\", cosine_similarity(tfidf_matrix[0], tfidf_matrix[2]))"
      ]
    }
  ]
}