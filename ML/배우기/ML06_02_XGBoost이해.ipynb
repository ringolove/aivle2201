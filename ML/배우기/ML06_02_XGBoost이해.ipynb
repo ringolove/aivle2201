{
 "cells": [
  {
   "cell_type": "markdown",
   "metadata": {
    "id": "y1J78TFSRrSA"
   },
   "source": [
    "<center><img src='https://raw.githubusercontent.com/Jangrae/img/master/ml_python.png' width=600/></center>"
   ]
  },
  {
   "cell_type": "markdown",
   "metadata": {
    "id": "elUlK1gCJHGh"
   },
   "source": [
    "# 실습 내용\n",
    "\n",
    "- Sample 데이터를 만들어 Random Forest에 대해 이해합니다."
   ]
  },
  {
   "cell_type": "code",
   "execution_count": null,
   "metadata": {
    "id": "jB0l6oqDsG8B"
   },
   "outputs": [],
   "source": [
    "# 라이브러리 불러오기\n",
    "import numpy as np\n",
    "import pandas as pd\n",
    "import matplotlib.pyplot as plt\n",
    "import seaborn as sns\n",
    "import warnings\n",
    "\n",
    "warnings.filterwarnings(action='ignore')\n",
    "%config InlineBackend.figure_format='retina'"
   ]
  },
  {
   "cell_type": "markdown",
   "metadata": {
    "id": "IciCQGJy5PO-"
   },
   "source": [
    "# 1.데이터 준비\n",
    "\n",
    "- 기본 라이브러리와 대상 데이터를 가져와 이후 과정을 준비합니다."
   ]
  },
  {
   "cell_type": "code",
   "execution_count": null,
   "metadata": {
    "id": "PXqyu_0LsG8C",
    "scrolled": false
   },
   "outputs": [],
   "source": [
    "# 데이터 만들기\n",
    "from sklearn.datasets import make_classification\n",
    "x, y = make_classification(n_samples=10000,\n",
    "                           n_features=12, \n",
    "                           n_classes=3,\n",
    "                           n_informative=12,\n",
    "                           n_redundant=0, \n",
    "                           n_clusters_per_class=1, \n",
    "                           random_state=3)"
   ]
  },
  {
   "cell_type": "code",
   "execution_count": null,
   "metadata": {},
   "outputs": [],
   "source": [
    "# y 값 확인\n",
    "unique, counts = np.unique(y, return_counts=True)\n",
    "print(dict(zip(unique, counts)))"
   ]
  },
  {
   "cell_type": "code",
   "execution_count": null,
   "metadata": {
    "id": "xqBY-KATsG8F"
   },
   "outputs": [],
   "source": [
    "# 데이터 분리\n",
    "from sklearn.model_selection import train_test_split\n",
    "\n",
    "x_train, x_test, y_train, y_test = train_test_split(x, y, test_size=0.3, random_state=2022)"
   ]
  },
  {
   "cell_type": "markdown",
   "metadata": {},
   "source": [
    "# 2.모델링"
   ]
  },
  {
   "cell_type": "code",
   "execution_count": null,
   "metadata": {},
   "outputs": [],
   "source": [
    "# xgboost 설치\n",
    "# pip install xgboost"
   ]
  },
  {
   "cell_type": "code",
   "execution_count": null,
   "metadata": {
    "id": "rDIWKc6-ygXk"
   },
   "outputs": [],
   "source": [
    "# 1단계: 불러오기\n",
    "\n"
   ]
  },
  {
   "cell_type": "code",
   "execution_count": null,
   "metadata": {
    "id": "xZg_rN23ygXk"
   },
   "outputs": [],
   "source": [
    "# 2단계: 선언하기\n"
   ]
  },
  {
   "cell_type": "code",
   "execution_count": null,
   "metadata": {
    "colab": {
     "base_uri": "https://localhost:8080/"
    },
    "executionInfo": {
     "elapsed": 18,
     "status": "ok",
     "timestamp": 1641475869554,
     "user": {
      "displayName": "Jangrae Lee",
      "photoUrl": "https://lh3.googleusercontent.com/a-/AOh14Gh1Pd8OuWJU2cv7uTt-fURrgvty7atx_Wtarmx0-A=s64",
      "userId": "08475661575434032088"
     },
     "user_tz": -540
    },
    "id": "_8Z1CkvgygXl",
    "outputId": "dc552f55-d94c-4eb6-9d15-174423e4fa97"
   },
   "outputs": [],
   "source": [
    "# 3단계: 학습하기\n",
    "\n",
    "\n",
    "\n",
    "# eval_metrics\n",
    "# rmse – root mean square error\n",
    "# mae – mean absolute error\n",
    "# logloss – negative log-likelihood\n",
    "# error – Binary classification error rate (0.5 threshold)\n",
    "# merror – Multiclass classification error rate\n",
    "# mlogloss – Multiclass logloss\n",
    "# auc: Area under the curve"
   ]
  },
  {
   "cell_type": "code",
   "execution_count": null,
   "metadata": {},
   "outputs": [],
   "source": [
    "# 4단계: 예측하기\n"
   ]
  },
  {
   "cell_type": "code",
   "execution_count": null,
   "metadata": {
    "scrolled": true
   },
   "outputs": [],
   "source": [
    "# 5단계: 평가하기\n",
    "\n"
   ]
  },
  {
   "cell_type": "code",
   "execution_count": null,
   "metadata": {},
   "outputs": [],
   "source": [
    "# 변수 중요도 확인\n",
    "\n",
    "\n"
   ]
  },
  {
   "cell_type": "markdown",
   "metadata": {},
   "source": [
    "# 3.다양한 옵션들\n",
    "\n",
    "- 설정 가능한 하이퍼파라미터가 정말 많습니다."
   ]
  },
  {
   "cell_type": "code",
   "execution_count": null,
   "metadata": {
    "scrolled": false
   },
   "outputs": [],
   "source": [
    "# 다양한 옵션 확인\n",
    "model.get_params()"
   ]
  },
  {
   "cell_type": "markdown",
   "metadata": {},
   "source": [
    "## 3.1.early_stopping_rounds"
   ]
  },
  {
   "cell_type": "code",
   "execution_count": null,
   "metadata": {
    "id": "PXqyu_0LsG8C",
    "scrolled": false
   },
   "outputs": [],
   "source": [
    "# 데이터 만들기\n",
    "from sklearn.datasets import make_classification\n",
    "x, y = make_classification(n_samples=20000,\n",
    "                           n_features=12, \n",
    "                           n_classes=3,\n",
    "                           n_informative=12,\n",
    "                           n_redundant=0, \n",
    "                           n_clusters_per_class=1, \n",
    "                           random_state=3)"
   ]
  },
  {
   "cell_type": "code",
   "execution_count": null,
   "metadata": {},
   "outputs": [],
   "source": [
    "# 학습용, 평가옹 데이터 분리\n",
    "x_train, x_test, y_train, y_test = train_test_split(x, y, test_size=0.3, random_state=2022)\n",
    "\n",
    "# 학습용, 검증용 데이터 분리\n",
    "x_train, x_val, y_train, y_val = train_test_split(x_train, y_train, test_size=0.2, random_state=2022)\n",
    "\n",
    "# 선언하기\n",
    "model = XGBClassifier(max_depth=5, \n",
    "                      learning_rate=1, \n",
    "                      use_label_encoder=False,\n",
    "                      random_state=2022)\n",
    "\n",
    "# 학습하기\n",
    "model.fit(x_train, y_train, \n",
    "          eval_set=[(x_train, y_train),(x_val, y_val)], \n",
    "          eval_metric='mlogloss', \n",
    "          early_stopping_rounds=10)"
   ]
  },
  {
   "cell_type": "code",
   "execution_count": null,
   "metadata": {},
   "outputs": [],
   "source": [
    "# 학습 결과 시각화\n",
    "results = model.evals_result()\n",
    "\n",
    "plt.figure(figsize=(8, 5))\n",
    "plt.plot(results[\"validation_0\"]['mlogloss'], label='Training loss')\n",
    "plt.plot(results[\"validation_1\"]['mlogloss'], label='Validation loss')\n",
    "plt.axvline(model.best_ntree_limit, color='r', label='Optimal Tree Number')\n",
    "plt.xlabel('Number of Trees')\n",
    "plt.ylabel('Loss')\n",
    "plt.legend()\n",
    "plt.show()"
   ]
  },
  {
   "cell_type": "code",
   "execution_count": null,
   "metadata": {},
   "outputs": [],
   "source": [
    "# 예측하기\n",
    "y_pred = model.predict(x_test)"
   ]
  },
  {
   "cell_type": "code",
   "execution_count": null,
   "metadata": {
    "scrolled": true
   },
   "outputs": [],
   "source": [
    "# 평가하기\n",
    "print(confusion_matrix(y_test, y_pred))\n",
    "print(classification_report(y_test, y_pred))"
   ]
  },
  {
   "cell_type": "markdown",
   "metadata": {},
   "source": [
    "## 3.2.objective"
   ]
  },
  {
   "cell_type": "markdown",
   "metadata": {},
   "source": [
    "### 3.2.1.Multi-Class"
   ]
  },
  {
   "cell_type": "markdown",
   "metadata": {},
   "source": [
    "**1) multi:softprob**"
   ]
  },
  {
   "cell_type": "code",
   "execution_count": null,
   "metadata": {},
   "outputs": [],
   "source": [
    "# multi:softprob(기본값)\n",
    "model.set_params(objective='multi:softprob')"
   ]
  },
  {
   "cell_type": "code",
   "execution_count": null,
   "metadata": {},
   "outputs": [],
   "source": [
    "# objective 확인\n",
    "model.objective"
   ]
  },
  {
   "cell_type": "code",
   "execution_count": null,
   "metadata": {},
   "outputs": [],
   "source": [
    "# 예측값 확인\n",
    "print(y_pred[:10])\n",
    "print('-' * 22)\n",
    "\n",
    "# predict_proba 확인\n",
    "proba = model.predict_proba(x_test).round(2)\n",
    "\n",
    "print(proba[:10])\n",
    "print('-' * 22)\n",
    "\n",
    "# 최댓값의 인덱스 확인\n",
    "print(proba.argmax(axis=1)[:10])"
   ]
  },
  {
   "cell_type": "markdown",
   "metadata": {},
   "source": [
    "**2) multi:softmax**"
   ]
  },
  {
   "cell_type": "code",
   "execution_count": null,
   "metadata": {},
   "outputs": [],
   "source": [
    "# multi:softmax\n",
    "model.set_params(objective='multi:softmax', base_score=0)"
   ]
  },
  {
   "cell_type": "code",
   "execution_count": null,
   "metadata": {},
   "outputs": [],
   "source": [
    "# objective 확인\n",
    "model.objective"
   ]
  },
  {
   "cell_type": "code",
   "execution_count": null,
   "metadata": {},
   "outputs": [],
   "source": [
    "# 예측값 확인\n",
    "print(y_pred[:10])\n",
    "print('-' * 22)\n",
    "\n",
    "# predict_proba 확인\n",
    "proba = model.predict_proba(x_test).round(2)\n",
    "\n",
    "print(proba[:10])\n",
    "print('-' * 22)\n",
    "\n",
    "# 최댓값의 인덱스 확인\n",
    "print(proba.argmax(axis=1)[:10])"
   ]
  },
  {
   "cell_type": "markdown",
   "metadata": {},
   "source": [
    "## 3.2.2.Binary-Class"
   ]
  },
  {
   "cell_type": "code",
   "execution_count": null,
   "metadata": {
    "id": "PXqyu_0LsG8C",
    "scrolled": false
   },
   "outputs": [],
   "source": [
    "# 데이터 만들기\n",
    "from sklearn.datasets import make_classification\n",
    "x, y = make_classification(n_samples=1000,\n",
    "                           n_features=12, \n",
    "                           n_classes=2,\n",
    "                           n_informative=12,\n",
    "                           n_redundant=0, \n",
    "                           n_clusters_per_class=1, \n",
    "                           random_state=3,)"
   ]
  },
  {
   "cell_type": "code",
   "execution_count": null,
   "metadata": {},
   "outputs": [],
   "source": [
    "# y 값 확인\n",
    "unique, counts = np.unique(y, return_counts=True)\n",
    "print(dict(zip(unique, counts)))"
   ]
  },
  {
   "cell_type": "code",
   "execution_count": null,
   "metadata": {},
   "outputs": [],
   "source": [
    "# 데이터 분리\n",
    "x_train, x_test, y_train, y_test = train_test_split(x, y, test_size=0.3, random_state=2022)\n",
    "\n",
    "# 선언하기\n",
    "model = XGBClassifier(max_depth=5, \n",
    "                      use_label_encoder=False,\n",
    "                      random_state=2022)\n",
    "\n",
    "                      \n",
    "# 학습하기\n",
    "model.fit(x_train, y_train, eval_metric='logloss')"
   ]
  },
  {
   "cell_type": "code",
   "execution_count": null,
   "metadata": {},
   "outputs": [],
   "source": [
    "# objective 확인\n",
    "model.objective"
   ]
  },
  {
   "cell_type": "code",
   "execution_count": null,
   "metadata": {
    "scrolled": false
   },
   "outputs": [],
   "source": [
    "# predict_proba 확인\n",
    "model.predict_proba(x_test)[:10].round(2)"
   ]
  }
 ],
 "metadata": {
  "colab": {
   "collapsed_sections": [],
   "name": "ML06_01_앙상블(Admission).ipynb",
   "provenance": []
  },
  "kernelspec": {
   "display_name": "Python 3 (ipykernel)",
   "language": "python",
   "name": "python3"
  },
  "language_info": {
   "codemirror_mode": {
    "name": "ipython",
    "version": 3
   },
   "file_extension": ".py",
   "mimetype": "text/x-python",
   "name": "python",
   "nbconvert_exporter": "python",
   "pygments_lexer": "ipython3",
   "version": "3.9.7"
  }
 },
 "nbformat": 4,
 "nbformat_minor": 1
}
