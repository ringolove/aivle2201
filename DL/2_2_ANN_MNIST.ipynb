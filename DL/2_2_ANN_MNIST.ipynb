{
  "nbformat": 4,
  "nbformat_minor": 0,
  "metadata": {
    "colab": {
      "name": "2_2_ANN_MNIST.ipynb",
      "provenance": [],
      "collapsed_sections": []
    },
    "kernelspec": {
      "name": "python3",
      "display_name": "Python 3"
    }
  },
  "cells": [
    {
      "cell_type": "markdown",
      "metadata": {
        "id": "UdrP_vI3QcNd"
      },
      "source": [
        "# ANN & MNIST"
      ]
    },
    {
      "cell_type": "markdown",
      "source": [
        "## 라이브러리 불러오기"
      ],
      "metadata": {
        "id": "QEyK7WODzFZA"
      }
    },
    {
      "cell_type": "code",
      "metadata": {
        "id": "2At3z2IdQew-"
      },
      "source": [
        "import tensorflow as tf\n",
        "from tensorflow import keras\n",
        "\n",
        "import numpy as np\n",
        "import pandas as pd\n",
        "import matplotlib.pyplot as plt\n",
        "\n",
        "import random as rd\n",
        "\n",
        "from sklearn.metrics import accuracy_score"
      ],
      "execution_count": 1,
      "outputs": []
    },
    {
      "cell_type": "markdown",
      "metadata": {
        "id": "F7A8vUrQRpPd"
      },
      "source": [
        "## 데이터 불러오기"
      ]
    },
    {
      "cell_type": "code",
      "metadata": {
        "id": "gBQdcFgkRiv-",
        "colab": {
          "base_uri": "https://localhost:8080/"
        },
        "outputId": "4b5f467b-df17-4baf-ea31-67da73e21ea3"
      },
      "source": [
        "(train_x, train_y), (test_x, test_y) = tf.keras.datasets.mnist.load_data()"
      ],
      "execution_count": 2,
      "outputs": [
        {
          "output_type": "stream",
          "name": "stdout",
          "text": [
            "Downloading data from https://storage.googleapis.com/tensorflow/tf-keras-datasets/mnist.npz\n",
            "11493376/11490434 [==============================] - 0s 0us/step\n",
            "11501568/11490434 [==============================] - 0s 0us/step\n"
          ]
        }
      ]
    },
    {
      "cell_type": "code",
      "metadata": {
        "id": "_GKNGA5qRnf-",
        "colab": {
          "base_uri": "https://localhost:8080/"
        },
        "outputId": "d4b288eb-728e-4d39-ad71-54334db7ade8"
      },
      "source": [
        "train_x.shape, train_y.shape, test_x.shape, test_y.shape"
      ],
      "execution_count": 3,
      "outputs": [
        {
          "output_type": "execute_result",
          "data": {
            "text/plain": [
              "((60000, 28, 28), (60000,), (10000, 28, 28), (10000,))"
            ]
          },
          "metadata": {},
          "execution_count": 3
        }
      ]
    },
    {
      "cell_type": "code",
      "metadata": {
        "id": "-rOBjv_HMZT9",
        "colab": {
          "base_uri": "https://localhost:8080/"
        },
        "outputId": "b0562470-a8cc-49e4-a094-147c4543cee3"
      },
      "source": [
        "train_x[0]"
      ],
      "execution_count": 4,
      "outputs": [
        {
          "output_type": "execute_result",
          "data": {
            "text/plain": [
              "array([[  0,   0,   0,   0,   0,   0,   0,   0,   0,   0,   0,   0,   0,\n",
              "          0,   0,   0,   0,   0,   0,   0,   0,   0,   0,   0,   0,   0,\n",
              "          0,   0],\n",
              "       [  0,   0,   0,   0,   0,   0,   0,   0,   0,   0,   0,   0,   0,\n",
              "          0,   0,   0,   0,   0,   0,   0,   0,   0,   0,   0,   0,   0,\n",
              "          0,   0],\n",
              "       [  0,   0,   0,   0,   0,   0,   0,   0,   0,   0,   0,   0,   0,\n",
              "          0,   0,   0,   0,   0,   0,   0,   0,   0,   0,   0,   0,   0,\n",
              "          0,   0],\n",
              "       [  0,   0,   0,   0,   0,   0,   0,   0,   0,   0,   0,   0,   0,\n",
              "          0,   0,   0,   0,   0,   0,   0,   0,   0,   0,   0,   0,   0,\n",
              "          0,   0],\n",
              "       [  0,   0,   0,   0,   0,   0,   0,   0,   0,   0,   0,   0,   0,\n",
              "          0,   0,   0,   0,   0,   0,   0,   0,   0,   0,   0,   0,   0,\n",
              "          0,   0],\n",
              "       [  0,   0,   0,   0,   0,   0,   0,   0,   0,   0,   0,   0,   3,\n",
              "         18,  18,  18, 126, 136, 175,  26, 166, 255, 247, 127,   0,   0,\n",
              "          0,   0],\n",
              "       [  0,   0,   0,   0,   0,   0,   0,   0,  30,  36,  94, 154, 170,\n",
              "        253, 253, 253, 253, 253, 225, 172, 253, 242, 195,  64,   0,   0,\n",
              "          0,   0],\n",
              "       [  0,   0,   0,   0,   0,   0,   0,  49, 238, 253, 253, 253, 253,\n",
              "        253, 253, 253, 253, 251,  93,  82,  82,  56,  39,   0,   0,   0,\n",
              "          0,   0],\n",
              "       [  0,   0,   0,   0,   0,   0,   0,  18, 219, 253, 253, 253, 253,\n",
              "        253, 198, 182, 247, 241,   0,   0,   0,   0,   0,   0,   0,   0,\n",
              "          0,   0],\n",
              "       [  0,   0,   0,   0,   0,   0,   0,   0,  80, 156, 107, 253, 253,\n",
              "        205,  11,   0,  43, 154,   0,   0,   0,   0,   0,   0,   0,   0,\n",
              "          0,   0],\n",
              "       [  0,   0,   0,   0,   0,   0,   0,   0,   0,  14,   1, 154, 253,\n",
              "         90,   0,   0,   0,   0,   0,   0,   0,   0,   0,   0,   0,   0,\n",
              "          0,   0],\n",
              "       [  0,   0,   0,   0,   0,   0,   0,   0,   0,   0,   0, 139, 253,\n",
              "        190,   2,   0,   0,   0,   0,   0,   0,   0,   0,   0,   0,   0,\n",
              "          0,   0],\n",
              "       [  0,   0,   0,   0,   0,   0,   0,   0,   0,   0,   0,  11, 190,\n",
              "        253,  70,   0,   0,   0,   0,   0,   0,   0,   0,   0,   0,   0,\n",
              "          0,   0],\n",
              "       [  0,   0,   0,   0,   0,   0,   0,   0,   0,   0,   0,   0,  35,\n",
              "        241, 225, 160, 108,   1,   0,   0,   0,   0,   0,   0,   0,   0,\n",
              "          0,   0],\n",
              "       [  0,   0,   0,   0,   0,   0,   0,   0,   0,   0,   0,   0,   0,\n",
              "         81, 240, 253, 253, 119,  25,   0,   0,   0,   0,   0,   0,   0,\n",
              "          0,   0],\n",
              "       [  0,   0,   0,   0,   0,   0,   0,   0,   0,   0,   0,   0,   0,\n",
              "          0,  45, 186, 253, 253, 150,  27,   0,   0,   0,   0,   0,   0,\n",
              "          0,   0],\n",
              "       [  0,   0,   0,   0,   0,   0,   0,   0,   0,   0,   0,   0,   0,\n",
              "          0,   0,  16,  93, 252, 253, 187,   0,   0,   0,   0,   0,   0,\n",
              "          0,   0],\n",
              "       [  0,   0,   0,   0,   0,   0,   0,   0,   0,   0,   0,   0,   0,\n",
              "          0,   0,   0,   0, 249, 253, 249,  64,   0,   0,   0,   0,   0,\n",
              "          0,   0],\n",
              "       [  0,   0,   0,   0,   0,   0,   0,   0,   0,   0,   0,   0,   0,\n",
              "          0,  46, 130, 183, 253, 253, 207,   2,   0,   0,   0,   0,   0,\n",
              "          0,   0],\n",
              "       [  0,   0,   0,   0,   0,   0,   0,   0,   0,   0,   0,   0,  39,\n",
              "        148, 229, 253, 253, 253, 250, 182,   0,   0,   0,   0,   0,   0,\n",
              "          0,   0],\n",
              "       [  0,   0,   0,   0,   0,   0,   0,   0,   0,   0,  24, 114, 221,\n",
              "        253, 253, 253, 253, 201,  78,   0,   0,   0,   0,   0,   0,   0,\n",
              "          0,   0],\n",
              "       [  0,   0,   0,   0,   0,   0,   0,   0,  23,  66, 213, 253, 253,\n",
              "        253, 253, 198,  81,   2,   0,   0,   0,   0,   0,   0,   0,   0,\n",
              "          0,   0],\n",
              "       [  0,   0,   0,   0,   0,   0,  18, 171, 219, 253, 253, 253, 253,\n",
              "        195,  80,   9,   0,   0,   0,   0,   0,   0,   0,   0,   0,   0,\n",
              "          0,   0],\n",
              "       [  0,   0,   0,   0,  55, 172, 226, 253, 253, 253, 253, 244, 133,\n",
              "         11,   0,   0,   0,   0,   0,   0,   0,   0,   0,   0,   0,   0,\n",
              "          0,   0],\n",
              "       [  0,   0,   0,   0, 136, 253, 253, 253, 212, 135, 132,  16,   0,\n",
              "          0,   0,   0,   0,   0,   0,   0,   0,   0,   0,   0,   0,   0,\n",
              "          0,   0],\n",
              "       [  0,   0,   0,   0,   0,   0,   0,   0,   0,   0,   0,   0,   0,\n",
              "          0,   0,   0,   0,   0,   0,   0,   0,   0,   0,   0,   0,   0,\n",
              "          0,   0],\n",
              "       [  0,   0,   0,   0,   0,   0,   0,   0,   0,   0,   0,   0,   0,\n",
              "          0,   0,   0,   0,   0,   0,   0,   0,   0,   0,   0,   0,   0,\n",
              "          0,   0],\n",
              "       [  0,   0,   0,   0,   0,   0,   0,   0,   0,   0,   0,   0,   0,\n",
              "          0,   0,   0,   0,   0,   0,   0,   0,   0,   0,   0,   0,   0,\n",
              "          0,   0]], dtype=uint8)"
            ]
          },
          "metadata": {},
          "execution_count": 4
        }
      ]
    },
    {
      "cell_type": "code",
      "metadata": {
        "id": "qW4ZeZcNRouf",
        "colab": {
          "base_uri": "https://localhost:8080/",
          "height": 300
        },
        "outputId": "59746af9-d33c-48aa-cb12-494e61ff19fa"
      },
      "source": [
        "'''\n",
        "Ctrl+Enter를 이용하여\n",
        "반복 실행 해보자!\n",
        "'''\n",
        "\n",
        "id = rd.randrange(0,10000)\n",
        "#id = 0\n",
        "\n",
        "print(f'id = {id}')\n",
        "print(f'다음 그림은 숫자 {train_y[id]} 입니다.')\n",
        "\n",
        "plt.imshow(train_x[id], cmap='gray')\n",
        "plt.show()"
      ],
      "execution_count": 6,
      "outputs": [
        {
          "output_type": "stream",
          "name": "stdout",
          "text": [
            "id = 1273\n",
            "다음 그림은 숫자 4 입니다.\n"
          ]
        },
        {
          "output_type": "display_data",
          "data": {
            "text/plain": [
              "<Figure size 432x288 with 1 Axes>"
            ],
            "image/png": "[encoded data removed]"
          },
          "metadata": {
            "needs_background": "light"
          }
        }
      ]
    },
    {
      "cell_type": "markdown",
      "source": [
        "## 데이터 전처리"
      ],
      "metadata": {
        "id": "UcckuQyK2Hj9"
      }
    },
    {
      "cell_type": "markdown",
      "source": [
        "* reshape"
      ],
      "metadata": {
        "id": "IrZCdbKY3UKp"
      }
    },
    {
      "cell_type": "code",
      "source": [
        "train_x.shape"
      ],
      "metadata": {
        "id": "4sJup7hP3GPA",
        "colab": {
          "base_uri": "https://localhost:8080/"
        },
        "outputId": "8efe7649-1fea-4d91-a808-926312409b83"
      },
      "execution_count": 7,
      "outputs": [
        {
          "output_type": "execute_result",
          "data": {
            "text/plain": [
              "(60000, 28, 28)"
            ]
          },
          "metadata": {},
          "execution_count": 7
        }
      ]
    },
    {
      "cell_type": "code",
      "metadata": {
        "id": "m3itgyE_RxbO"
      },
      "source": [
        "train_x = train_x.reshape([train_x.shape[0],-1])\n",
        "test_x = test_x.reshape([test_x.shape[0],-1])"
      ],
      "execution_count": 8,
      "outputs": []
    },
    {
      "cell_type": "code",
      "source": [
        "train_x.shape"
      ],
      "metadata": {
        "id": "2Vuxttua3RHh",
        "colab": {
          "base_uri": "https://localhost:8080/"
        },
        "outputId": "1e8fe0dd-5fe3-4a9b-e9fe-2e5c0b483406"
      },
      "execution_count": 9,
      "outputs": [
        {
          "output_type": "execute_result",
          "data": {
            "text/plain": [
              "(60000, 784)"
            ]
          },
          "metadata": {},
          "execution_count": 9
        }
      ]
    },
    {
      "cell_type": "markdown",
      "source": [
        "* min-max scaling"
      ],
      "metadata": {
        "id": "EWhadGmn3dWI"
      }
    },
    {
      "cell_type": "code",
      "metadata": {
        "id": "cWL_no_LR3U8",
        "colab": {
          "base_uri": "https://localhost:8080/"
        },
        "outputId": "c33e3e73-70c6-42a2-a346-957d580cea40"
      },
      "source": [
        "print(f'max : {train_x.max()} / min : {train_x.min()}')"
      ],
      "execution_count": 11,
      "outputs": [
        {
          "output_type": "stream",
          "name": "stdout",
          "text": [
            "max : 255 / min : 0\n"
          ]
        }
      ]
    },
    {
      "cell_type": "code",
      "metadata": {
        "id": "3An_EZn0R4wM",
        "colab": {
          "base_uri": "https://localhost:8080/"
        },
        "outputId": "54633f92-4a5c-4c14-d99e-eff7171bcc09"
      },
      "source": [
        "max_n, min_n = train_x.max(), train_x.min()\n",
        "max_n, min_n"
      ],
      "execution_count": 12,
      "outputs": [
        {
          "output_type": "execute_result",
          "data": {
            "text/plain": [
              "(255, 0)"
            ]
          },
          "metadata": {},
          "execution_count": 12
        }
      ]
    },
    {
      "cell_type": "code",
      "source": [
        "train_x = (train_x-min_n)/(max_n-min_n)\n",
        "test_x = (test_x-min_n)/(max_n-min_n)"
      ],
      "metadata": {
        "id": "U7iBu2NfuJiY"
      },
      "execution_count": 14,
      "outputs": []
    },
    {
      "cell_type": "code",
      "source": [
        "print(f'max : {train_x.max()} / min : {train_x.min()}')"
      ],
      "metadata": {
        "id": "CHkomLIy07Cd",
        "colab": {
          "base_uri": "https://localhost:8080/"
        },
        "outputId": "f549f29c-f4aa-41e7-aeab-c2af1ed0955e"
      },
      "execution_count": 15,
      "outputs": [
        {
          "output_type": "stream",
          "name": "stdout",
          "text": [
            "max : 1.0 / min : 0.0\n"
          ]
        }
      ]
    },
    {
      "cell_type": "markdown",
      "source": [
        "* target feature : One-hot Encoding"
      ],
      "metadata": {
        "id": "vAAvHQol3jKy"
      }
    },
    {
      "cell_type": "code",
      "metadata": {
        "id": "gNZ25pdaQoVr"
      },
      "source": [
        "from tensorflow.keras.utils import to_categorical"
      ],
      "execution_count": 16,
      "outputs": []
    },
    {
      "cell_type": "code",
      "source": [
        "set(train_y)"
      ],
      "metadata": {
        "id": "x9BJuZrEEKs7",
        "colab": {
          "base_uri": "https://localhost:8080/"
        },
        "outputId": "c8360d27-e30d-4014-f067-fc6ca869712a"
      },
      "execution_count": 17,
      "outputs": [
        {
          "output_type": "execute_result",
          "data": {
            "text/plain": [
              "{0, 1, 2, 3, 4, 5, 6, 7, 8, 9}"
            ]
          },
          "metadata": {},
          "execution_count": 17
        }
      ]
    },
    {
      "cell_type": "code",
      "source": [
        "len_y = len(set(train_y))"
      ],
      "metadata": {
        "id": "Ng7pbGLMEkQW"
      },
      "execution_count": 18,
      "outputs": []
    },
    {
      "cell_type": "code",
      "source": [
        "train_y.shape"
      ],
      "metadata": {
        "id": "zJ4l4d1S3wiU",
        "colab": {
          "base_uri": "https://localhost:8080/"
        },
        "outputId": "beae7530-775f-4c5a-bbf5-5aee59735a14"
      },
      "execution_count": 19,
      "outputs": [
        {
          "output_type": "execute_result",
          "data": {
            "text/plain": [
              "(60000,)"
            ]
          },
          "metadata": {},
          "execution_count": 19
        }
      ]
    },
    {
      "cell_type": "code",
      "metadata": {
        "id": "gNs8-ZziR50H"
      },
      "source": [
        "train_y = to_categorical(train_y, len_y)\n",
        "test_y = to_categorical(test_y, len_y)"
      ],
      "execution_count": 20,
      "outputs": []
    },
    {
      "cell_type": "code",
      "metadata": {
        "id": "R0wVmwf-SGDE",
        "colab": {
          "base_uri": "https://localhost:8080/"
        },
        "outputId": "fc5ef187-5879-453c-b7fa-a83eadfec0c7"
      },
      "source": [
        "train_x.shape, train_y.shape"
      ],
      "execution_count": 21,
      "outputs": [
        {
          "output_type": "execute_result",
          "data": {
            "text/plain": [
              "((60000, 784), (60000, 10))"
            ]
          },
          "metadata": {},
          "execution_count": 21
        }
      ]
    },
    {
      "cell_type": "markdown",
      "metadata": {
        "id": "mQ_FTTj7XAtC"
      },
      "source": [
        "## 모델링 I\n",
        "\n",
        "1. Sequential, Functional 아무 것이나!\n",
        "2. 히든레이어 없이 epochs=50 으로 성능 관찰.\n",
        "3. activation, loss 설정\n",
        "4. Early Stopping"
      ]
    },
    {
      "cell_type": "code",
      "metadata": {
        "id": "rJRWUyZiR8_y",
        "colab": {
          "base_uri": "https://localhost:8080/"
        },
        "outputId": "932508af-0255-4d2b-ab43-89821d995526"
      },
      "source": [
        "keras.backend.clear_session()\n",
        "\n",
        "model = keras.models.Sequential()\n",
        "\n",
        "model.add(keras.layers.Input(shape=(train_x.shape[1])))\n",
        "model.add(keras.layers.Dense(10, activation='softmax'))\n",
        "\n",
        "model.compile(loss=keras.losses.categorical_crossentropy, metrics=['accuracy'], optimizer='adam')\n",
        "\n",
        "model.summary()"
      ],
      "execution_count": 24,
      "outputs": [
        {
          "output_type": "stream",
          "name": "stdout",
          "text": [
            "Model: \"sequential\"\n",
            "_________________________________________________________________\n",
            " Layer (type)                Output Shape              Param #   \n",
            "=================================================================\n",
            " dense (Dense)               (None, 10)                7850      \n",
            "                                                                 \n",
            "=================================================================\n",
            "Total params: 7,850\n",
            "Trainable params: 7,850\n",
            "Non-trainable params: 0\n",
            "_________________________________________________________________\n"
          ]
        }
      ]
    },
    {
      "cell_type": "code",
      "metadata": {
        "id": "55TMUhUmTJxe"
      },
      "source": [
        "from tensorflow.keras.callbacks import EarlyStopping"
      ],
      "execution_count": 25,
      "outputs": []
    },
    {
      "cell_type": "code",
      "source": [
        "es = EarlyStopping(monitor='val_loss',        # 관측 대상\n",
        "                   min_delta=0,               # 기다릴 횟수\n",
        "                   patience=5,                # loss가 현상유지만 되어도 괜찮음\n",
        "                   verbose=1,                 # 어디서 멈췄는지 알려줌\n",
        "                   restore_best_weights=True) # 최적의 가중치를 모델에 넘김"
      ],
      "metadata": {
        "id": "n5sZxHNTGEh2"
      },
      "execution_count": 26,
      "outputs": []
    },
    {
      "cell_type": "code",
      "source": [
        "model.fit(train_x, train_y, validation_split=0.2, callbacks=[es],\n",
        "          verbose=1, epochs=50)"
      ],
      "metadata": {
        "id": "4yTJF59UGQgx",
        "colab": {
          "base_uri": "https://localhost:8080/"
        },
        "outputId": "39e7bee9-33dd-4d35-be96-00532702876e"
      },
      "execution_count": 27,
      "outputs": [
        {
          "output_type": "stream",
          "name": "stdout",
          "text": [
            "Epoch 1/50\n",
            "1500/1500 [==============================] - 4s 3ms/step - loss: 0.5155 - accuracy: 0.8657 - val_loss: 0.3184 - val_accuracy: 0.9121\n",
            "Epoch 2/50\n",
            "1500/1500 [==============================] - 3s 2ms/step - loss: 0.3190 - accuracy: 0.9114 - val_loss: 0.2870 - val_accuracy: 0.9193\n",
            "Epoch 3/50\n",
            "1500/1500 [==============================] - 3s 2ms/step - loss: 0.2937 - accuracy: 0.9180 - val_loss: 0.2769 - val_accuracy: 0.9241\n",
            "Epoch 4/50\n",
            "1500/1500 [==============================] - 3s 2ms/step - loss: 0.2816 - accuracy: 0.9204 - val_loss: 0.2711 - val_accuracy: 0.9254\n",
            "Epoch 5/50\n",
            "1500/1500 [==============================] - 4s 2ms/step - loss: 0.2739 - accuracy: 0.9235 - val_loss: 0.2669 - val_accuracy: 0.9270\n",
            "Epoch 6/50\n",
            "1500/1500 [==============================] - 3s 2ms/step - loss: 0.2676 - accuracy: 0.9254 - val_loss: 0.2689 - val_accuracy: 0.9256\n",
            "Epoch 7/50\n",
            "1500/1500 [==============================] - 3s 2ms/step - loss: 0.2642 - accuracy: 0.9269 - val_loss: 0.2634 - val_accuracy: 0.9273\n",
            "Epoch 8/50\n",
            "1500/1500 [==============================] - 3s 2ms/step - loss: 0.2606 - accuracy: 0.9275 - val_loss: 0.2610 - val_accuracy: 0.9289\n",
            "Epoch 9/50\n",
            "1500/1500 [==============================] - 3s 2ms/step - loss: 0.2579 - accuracy: 0.9286 - val_loss: 0.2604 - val_accuracy: 0.9306\n",
            "Epoch 10/50\n",
            "1500/1500 [==============================] - 3s 2ms/step - loss: 0.2556 - accuracy: 0.9288 - val_loss: 0.2633 - val_accuracy: 0.9279\n",
            "Epoch 11/50\n",
            "1500/1500 [==============================] - 3s 2ms/step - loss: 0.2530 - accuracy: 0.9293 - val_loss: 0.2611 - val_accuracy: 0.9300\n",
            "Epoch 12/50\n",
            "1500/1500 [==============================] - 4s 2ms/step - loss: 0.2510 - accuracy: 0.9299 - val_loss: 0.2600 - val_accuracy: 0.9308\n",
            "Epoch 13/50\n",
            "1500/1500 [==============================] - 3s 2ms/step - loss: 0.2495 - accuracy: 0.9304 - val_loss: 0.2619 - val_accuracy: 0.9299\n",
            "Epoch 14/50\n",
            "1500/1500 [==============================] - 3s 2ms/step - loss: 0.2487 - accuracy: 0.9305 - val_loss: 0.2614 - val_accuracy: 0.9307\n",
            "Epoch 15/50\n",
            "1500/1500 [==============================] - 3s 2ms/step - loss: 0.2468 - accuracy: 0.9308 - val_loss: 0.2627 - val_accuracy: 0.9294\n",
            "Epoch 16/50\n",
            "1500/1500 [==============================] - 3s 2ms/step - loss: 0.2459 - accuracy: 0.9320 - val_loss: 0.2621 - val_accuracy: 0.9295\n",
            "Epoch 17/50\n",
            "1484/1500 [============================>.] - ETA: 0s - loss: 0.2437 - accuracy: 0.9322Restoring model weights from the end of the best epoch: 12.\n",
            "1500/1500 [==============================] - 4s 2ms/step - loss: 0.2439 - accuracy: 0.9320 - val_loss: 0.2617 - val_accuracy: 0.9302\n",
            "Epoch 17: early stopping\n"
          ]
        },
        {
          "output_type": "execute_result",
          "data": {
            "text/plain": [
              "<keras.callbacks.History at 0x7f02289cc890>"
            ]
          },
          "metadata": {},
          "execution_count": 27
        }
      ]
    },
    {
      "cell_type": "code",
      "metadata": {
        "id": "3LZQpXA01gEE",
        "colab": {
          "base_uri": "https://localhost:8080/"
        },
        "outputId": "09f97638-e391-456d-b7ff-09834ad16dbc"
      },
      "source": [
        "pred_train = model.predict(train_x)\n",
        "pred_test = model.predict(test_x)\n",
        "\n",
        "single_pred_train = pred_train.argmax(axis=1)\n",
        "single_pred_test = pred_test.argmax(axis=1)\n",
        "\n",
        "logi_train_accuracy = accuracy_score(train_y.argmax(axis=1), single_pred_train)\n",
        "logi_test_accuracy = accuracy_score(test_y.argmax(axis=1), single_pred_test)\n",
        "\n",
        "print('트레이닝 정확도 : {:.2f}%'.format(logi_train_accuracy*100))\n",
        "print('테스트 정확도 : {:.2f}%'.format(logi_test_accuracy*100))"
      ],
      "execution_count": 28,
      "outputs": [
        {
          "output_type": "stream",
          "name": "stdout",
          "text": [
            "트레이닝 정확도 : 93.23%\n",
            "테스트 정확도 : 92.71%\n"
          ]
        }
      ]
    },
    {
      "cell_type": "code",
      "source": [
        "mnist_labels = ['0', '1', '2', '3', '4', '5', '6', '7', '8', '9']\n",
        "\n",
        "figure = plt.figure(figsize=(20, 10))\n",
        "\n",
        "for i, index in enumerate(np.random.choice(test_x.shape[0], size=15, replace=False)):\n",
        "    ax = figure.add_subplot(3, 5, i + 1, xticks=[], yticks=[])\n",
        "    # Display each image\n",
        "    ax.imshow(np.squeeze(test_x[index].reshape([28,-1])), cmap='gray' )\n",
        "    \n",
        "    predict_index = pred_test[index].argmax(axis=0)\n",
        "    true_index = test_y[index].argmax(axis=0)\n",
        "    # Set the title for each image\n",
        "    ax.set_title(f\"{mnist_labels[predict_index]} ({mnist_labels[true_index]})\",\n",
        "                 color=(\"green\" if predict_index == true_index else \"red\"))"
      ],
      "metadata": {
        "id": "qpc22yPV2ojZ",
        "colab": {
          "base_uri": "https://localhost:8080/",
          "height": 594
        },
        "outputId": "161df956-421f-4820-fed4-500cb189ba5b"
      },
      "execution_count": 29,
      "outputs": [
        {
          "output_type": "display_data",
          "data": {
            "text/plain": [
              "<Figure size 1440x720 with 15 Axes>"
            ],
            "image/png": "[encoded data removed]"
          },
          "metadata": {}
        }
      ]
    },
    {
      "cell_type": "code",
      "metadata": {
        "id": "LWYzgkHh1gEM",
        "colab": {
          "base_uri": "https://localhost:8080/",
          "height": 387
        },
        "outputId": "41011708-5d25-4544-85fc-a5ad3d1e9ca0"
      },
      "source": [
        "'''\n",
        "틀린 것만 관찰해보자!\n",
        "\n",
        "Ctrl+Enter를 이용하여\n",
        "반복 실행 해보자!\n",
        "'''\n",
        "\n",
        "true_false = (test_y.argmax(axis=1) == single_pred_test)\n",
        "f_id = np.where(true_false == False)[0]\n",
        "f_n = len(f_id)\n",
        "\n",
        "id = f_id[rd.randrange(0,f_n)]\n",
        "\n",
        "print(f'id = {id}' )\n",
        "print(f'다음 그림은 숫자 {test_y.argmax(axis=1)[id]} 입니다.')\n",
        "print(f'모델의 예측 : {single_pred_test[id]}')\n",
        "print(f'모델의 카테고리별 확률 : {np.floor(pred_test[id]*100)}')\n",
        "\n",
        "if test_y.argmax(axis=1)[id] == single_pred_test[id] :\n",
        "    print('===============')\n",
        "    print('정답입니다')\n",
        "    print('===============')\n",
        "else : \n",
        "    print('===============')\n",
        "    print('틀렸어요')\n",
        "    print('===============')\n",
        "\n",
        "plt.imshow(test_x[id].reshape([28,-1]), cmap='gray')\n",
        "plt.show()"
      ],
      "execution_count": 33,
      "outputs": [
        {
          "output_type": "stream",
          "name": "stdout",
          "text": [
            "id = 3193\n",
            "다음 그림은 숫자 3 입니다.\n",
            "모델의 예측 : 2\n",
            "모델의 카테고리별 확률 : [ 0.  0. 49. 38.  0.  0.  0.  0. 12.  0.]\n",
            "===============\n",
            "틀렸어요\n",
            "===============\n"
          ]
        },
        {
          "output_type": "display_data",
          "data": {
            "text/plain": [
              "<Figure size 432x288 with 1 Axes>"
            ],
            "image/png": "[encoded data removed]"
          },
          "metadata": {
            "needs_background": "light"
          }
        }
      ]
    },
    {
      "cell_type": "code",
      "source": [
        "model.evaluate(test_x, test_y)"
      ],
      "metadata": {
        "id": "NFpmX8rrP0T9"
      },
      "execution_count": null,
      "outputs": []
    },
    {
      "cell_type": "markdown",
      "metadata": {
        "id": "Zf8Kd1vj4J_q"
      },
      "source": [
        "\n",
        "\n",
        "---\n",
        "\n"
      ]
    },
    {
      "cell_type": "markdown",
      "metadata": {
        "id": "X0oixpzuOken"
      },
      "source": [
        "## 모델링 II\n",
        "\n",
        "1. Sequential, Functional 아무 것이나!\n",
        "2. 히든레이어 3개 이상 쌓고, epochs=50 으로 성능 관찰.\n",
        "3. activation, loss 설정\n",
        "4. Early Stopping"
      ]
    },
    {
      "cell_type": "code",
      "source": [
        "train_x.shape, train_y.shape"
      ],
      "metadata": {
        "id": "1zsOvsgSOkeo",
        "colab": {
          "base_uri": "https://localhost:8080/"
        },
        "outputId": "b5937ecc-8ede-4df6-b320-92759d922fff"
      },
      "execution_count": 34,
      "outputs": [
        {
          "output_type": "execute_result",
          "data": {
            "text/plain": [
              "((60000, 784), (60000, 10))"
            ]
          },
          "metadata": {},
          "execution_count": 34
        }
      ]
    },
    {
      "cell_type": "code",
      "metadata": {
        "id": "HjKAVo88Okeo",
        "colab": {
          "base_uri": "https://localhost:8080/"
        },
        "outputId": "0de8fd89-5b47-4e12-b0d9-6dfa667c0e22"
      },
      "source": [
        "keras.backend.clear_session()\n",
        "\n",
        "model = keras.models.Sequential()\n",
        "\n",
        "model.add(keras.layers.Input(shape=(train_x.shape[1])) )\n",
        "model.add(keras.layers.Dense(256, activation='relu') )\n",
        "model.add(keras.layers.Dense(256, activation='relu') )\n",
        "model.add(keras.layers.Dense(256, activation='relu') )\n",
        "model.add(keras.layers.Dense(10, activation='softmax') )\n",
        "\n",
        "model.compile(loss=keras.losses.categorical_crossentropy, metrics=['accuracy'],\n",
        "               optimizer='adam')\n",
        "\n",
        "model.summary()"
      ],
      "execution_count": 35,
      "outputs": [
        {
          "output_type": "stream",
          "name": "stdout",
          "text": [
            "Model: \"sequential\"\n",
            "_________________________________________________________________\n",
            " Layer (type)                Output Shape              Param #   \n",
            "=================================================================\n",
            " dense (Dense)               (None, 256)               200960    \n",
            "                                                                 \n",
            " dense_1 (Dense)             (None, 256)               65792     \n",
            "                                                                 \n",
            " dense_2 (Dense)             (None, 256)               65792     \n",
            "                                                                 \n",
            " dense_3 (Dense)             (None, 10)                2570      \n",
            "                                                                 \n",
            "=================================================================\n",
            "Total params: 335,114\n",
            "Trainable params: 335,114\n",
            "Non-trainable params: 0\n",
            "_________________________________________________________________\n"
          ]
        }
      ]
    },
    {
      "cell_type": "code",
      "metadata": {
        "id": "zRWyC8cfOkeo"
      },
      "source": [
        "from tensorflow.keras.callbacks import EarlyStopping"
      ],
      "execution_count": 36,
      "outputs": []
    },
    {
      "cell_type": "code",
      "source": [
        "es = EarlyStopping(monitor='val_loss',\n",
        "                   min_delta=0,\n",
        "                   patience=5,\n",
        "                   verbose=1,\n",
        "                   restore_best_weights=True)"
      ],
      "metadata": {
        "id": "j47xDcCJOkeo"
      },
      "execution_count": 37,
      "outputs": []
    },
    {
      "cell_type": "code",
      "source": [
        "model.fit(train_x, train_y, validation_split=0.2, callbacks=[es],\n",
        "          verbose=1, epochs=50)"
      ],
      "metadata": {
        "id": "FBYwoFxSOkep",
        "colab": {
          "base_uri": "https://localhost:8080/"
        },
        "outputId": "f4f24061-2105-413a-9425-335c286696f9"
      },
      "execution_count": 38,
      "outputs": [
        {
          "output_type": "stream",
          "name": "stdout",
          "text": [
            "Epoch 1/50\n",
            "1500/1500 [==============================] - 11s 7ms/step - loss: 0.2297 - accuracy: 0.9304 - val_loss: 0.1239 - val_accuracy: 0.9617\n",
            "Epoch 2/50\n",
            "1500/1500 [==============================] - 11s 7ms/step - loss: 0.1003 - accuracy: 0.9690 - val_loss: 0.1158 - val_accuracy: 0.9647\n",
            "Epoch 3/50\n",
            "1500/1500 [==============================] - 10s 6ms/step - loss: 0.0709 - accuracy: 0.9785 - val_loss: 0.1033 - val_accuracy: 0.9698\n",
            "Epoch 4/50\n",
            "1500/1500 [==============================] - 10s 6ms/step - loss: 0.0538 - accuracy: 0.9831 - val_loss: 0.1346 - val_accuracy: 0.9663\n",
            "Epoch 5/50\n",
            "1500/1500 [==============================] - 10s 7ms/step - loss: 0.0445 - accuracy: 0.9862 - val_loss: 0.0944 - val_accuracy: 0.9737\n",
            "Epoch 6/50\n",
            "1500/1500 [==============================] - 10s 6ms/step - loss: 0.0379 - accuracy: 0.9883 - val_loss: 0.1102 - val_accuracy: 0.9708\n",
            "Epoch 7/50\n",
            "1500/1500 [==============================] - 10s 7ms/step - loss: 0.0329 - accuracy: 0.9895 - val_loss: 0.1132 - val_accuracy: 0.9737\n",
            "Epoch 8/50\n",
            "1500/1500 [==============================] - 10s 7ms/step - loss: 0.0276 - accuracy: 0.9908 - val_loss: 0.1021 - val_accuracy: 0.9772\n",
            "Epoch 9/50\n",
            "1500/1500 [==============================] - 10s 6ms/step - loss: 0.0258 - accuracy: 0.9918 - val_loss: 0.1179 - val_accuracy: 0.9746\n",
            "Epoch 10/50\n",
            "1496/1500 [============================>.] - ETA: 0s - loss: 0.0222 - accuracy: 0.9932Restoring model weights from the end of the best epoch: 5.\n",
            "1500/1500 [==============================] - 10s 7ms/step - loss: 0.0225 - accuracy: 0.9931 - val_loss: 0.0964 - val_accuracy: 0.9797\n",
            "Epoch 10: early stopping\n"
          ]
        },
        {
          "output_type": "execute_result",
          "data": {
            "text/plain": [
              "<keras.callbacks.History at 0x7f02284d7e50>"
            ]
          },
          "metadata": {},
          "execution_count": 38
        }
      ]
    },
    {
      "cell_type": "code",
      "metadata": {
        "id": "RK1KSAYBOkep",
        "colab": {
          "base_uri": "https://localhost:8080/"
        },
        "outputId": "bb510e0a-97b2-4f4e-dfb9-bc1ccda513d7"
      },
      "source": [
        "pred_train = model.predict(train_x)\n",
        "pred_test = model.predict(test_x)\n",
        "\n",
        "single_pred_train = pred_train.argmax(axis=1)\n",
        "single_pred_test = pred_test.argmax(axis=1)\n",
        "\n",
        "logi_train_accuracy = accuracy_score(train_y.argmax(axis=1), single_pred_train)\n",
        "logi_test_accuracy = accuracy_score(test_y.argmax(axis=1), single_pred_test)\n",
        "\n",
        "print('트레이닝 정확도 : {:.2f}%'.format(logi_train_accuracy*100))\n",
        "print('테스트 정확도 : {:.2f}%'.format(logi_test_accuracy*100))"
      ],
      "execution_count": 39,
      "outputs": [
        {
          "output_type": "stream",
          "name": "stdout",
          "text": [
            "트레이닝 정확도 : 98.84%\n",
            "테스트 정확도 : 97.88%\n"
          ]
        }
      ]
    },
    {
      "cell_type": "code",
      "source": [
        "mnist_labels = ['0', '1', '2', '3', '4', '5', '6', '7', '8', '9']\n",
        "\n",
        "figure = plt.figure(figsize=(20, 10))\n",
        "\n",
        "for i, index in enumerate(np.random.choice(test_x.shape[0], size=15, replace=False)):\n",
        "    ax = figure.add_subplot(3, 5, i + 1, xticks=[], yticks=[])\n",
        "    # Display each image\n",
        "    ax.imshow(np.squeeze(test_x[index].reshape([28,-1])), cmap='gray' )\n",
        "    \n",
        "    predict_index = pred_test[index].argmax(axis=0)\n",
        "    true_index = test_y[index].argmax(axis=0)\n",
        "    # Set the title for each image\n",
        "    ax.set_title(f\"{mnist_labels[predict_index]} ({mnist_labels[true_index]})\",\n",
        "                 color=(\"green\" if predict_index == true_index else \"red\"))"
      ],
      "metadata": {
        "id": "oaqGP_11Okep",
        "colab": {
          "base_uri": "https://localhost:8080/",
          "height": 594
        },
        "outputId": "a9b53b84-6aba-4fbf-ea1e-80042f36f73e"
      },
      "execution_count": 40,
      "outputs": [
        {
          "output_type": "display_data",
          "data": {
            "text/plain": [
              "<Figure size 1440x720 with 15 Axes>"
            ],
            "image/png": "[encoded data removed]"
          },
          "metadata": {}
        }
      ]
    },
    {
      "cell_type": "code",
      "metadata": {
        "id": "VMYH5ksPOkep",
        "colab": {
          "base_uri": "https://localhost:8080/",
          "height": 387
        },
        "outputId": "271772ab-d457-4bad-ac2a-daf9f35c3671"
      },
      "source": [
        "'''\n",
        "틀린 것만 관찰해보자!\n",
        "\n",
        "Ctrl+Enter를 이용하여\n",
        "반복 실행 해보자!\n",
        "'''\n",
        "\n",
        "true_false = (test_y.argmax(axis=1) == single_pred_test)\n",
        "f_id = np.where(true_false == False)[0]\n",
        "f_n = len(f_id)\n",
        "\n",
        "id = f_id[rd.randrange(0,f_n)]\n",
        "\n",
        "print(f'id = {id}' )\n",
        "print(f'다음 그림은 숫자 {test_y.argmax(axis=1)[id]} 입니다.')\n",
        "print(f'모델의 예측 : {single_pred_test[id]}')\n",
        "print(f'모델의 카테고리별 확률 : {np.floor(pred_test[id]*100)}')\n",
        "\n",
        "if test_y.argmax(axis=1)[id] == single_pred_test[id] :\n",
        "    print('===============')\n",
        "    print('정답입니다')\n",
        "    print('===============')\n",
        "else : \n",
        "    print('===============')\n",
        "    print('틀렸어요')\n",
        "    print('===============')\n",
        "\n",
        "plt.imshow(test_x[id].reshape([28,-1]), cmap='gray')\n",
        "plt.show()"
      ],
      "execution_count": 42,
      "outputs": [
        {
          "output_type": "stream",
          "name": "stdout",
          "text": [
            "id = 3838\n",
            "다음 그림은 숫자 7 입니다.\n",
            "모델의 예측 : 1\n",
            "모델의 카테고리별 확률 : [ 0. 52.  0.  0.  2.  0.  0. 32.  2.  9.]\n",
            "===============\n",
            "틀렸어요\n",
            "===============\n"
          ]
        },
        {
          "output_type": "display_data",
          "data": {
            "text/plain": [
              "<Figure size 432x288 with 1 Axes>"
            ],
            "image/png": "[encoded data removed]"
          },
          "metadata": {
            "needs_background": "light"
          }
        }
      ]
    },
    {
      "cell_type": "code",
      "source": [
        "model.evaluate(test_x, test_y)"
      ],
      "metadata": {
        "id": "Tdq81PdoO66-",
        "colab": {
          "base_uri": "https://localhost:8080/"
        },
        "outputId": "ab4d5d3c-905f-42de-bf3d-2249ab02f1ea"
      },
      "execution_count": 43,
      "outputs": [
        {
          "output_type": "stream",
          "name": "stdout",
          "text": [
            "313/313 [==============================] - 1s 3ms/step - loss: 0.0745 - accuracy: 0.9788\n"
          ]
        },
        {
          "output_type": "execute_result",
          "data": {
            "text/plain": [
              "[0.074501633644104, 0.9787999987602234]"
            ]
          },
          "metadata": {},
          "execution_count": 43
        }
      ]
    },
    {
      "cell_type": "code",
      "source": [
        ""
      ],
      "metadata": {
        "id": "KlHddjOPcgf2"
      },
      "execution_count": null,
      "outputs": []
    }
  ]
}