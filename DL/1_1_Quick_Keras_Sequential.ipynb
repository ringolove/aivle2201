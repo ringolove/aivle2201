{
  "cells": [
    {
      "cell_type": "markdown",
      "metadata": {
        "id": "HZc219MFFibh"
      },
      "source": [
        "# Keras로 Linear&Logistic Regression 맛보기!\n",
        "\n",
        "### Kaggle Link for exercise :\n",
        "* [Digit Recognizer](https://www.kaggle.com/c/digit-recognizer) : \n",
        "\n",
        "#### 실습목표<br>\n",
        "1. keras의 모델링 아이디어를 이해한다.\n",
        "2. 모든 코드를 이해한다."
      ]
    },
    {
      "cell_type": "markdown",
      "metadata": {
        "id": "dwEdLgZpFibi"
      },
      "source": [
        "## Quick Linear Regression!"
      ]
    },
    {
      "cell_type": "code",
      "execution_count": null,
      "metadata": {
        "id": "Lbold6iIS8E1"
      },
      "outputs": [],
      "source": [
        "import tensorflow as tf\n",
        "from tensorflow import keras\n",
        "\n",
        "import numpy as np"
      ]
    },
    {
      "cell_type": "code",
      "execution_count": null,
      "metadata": {
        "id": "QvObzQ1MFibj",
        "colab": {
          "base_uri": "https://localhost:8080/"
        },
        "outputId": "814feb55-3132-4794-a0a5-6f3a6609af0f"
      },
      "outputs": [
        {
          "output_type": "stream",
          "name": "stdout",
          "text": [
            "[ 0  1  2  3  4  5  6  7  8  9 10 11 12 13 14 15 16 17 18 19]\n",
            "[-1  1  3  5  7  9 11 13 15 17 19 21 23 25 27 29 31 33 35 37]\n"
          ]
        }
      ],
      "source": [
        "x = np.array(range(0,20)) \n",
        "y = x * 2 -1\n",
        "\n",
        "print(x)\n",
        "print(y)"
      ]
    },
    {
      "cell_type": "code",
      "source": [
        "x.shape, y.shape"
      ],
      "metadata": {
        "colab": {
          "base_uri": "https://localhost:8080/"
        },
        "id": "G_PE9YrxbNQM",
        "outputId": "98ad36aa-cf3d-4ecd-ebf9-8b9fefb233d5"
      },
      "execution_count": null,
      "outputs": [
        {
          "output_type": "execute_result",
          "data": {
            "text/plain": [
              "((20,), (20,))"
            ]
          },
          "metadata": {},
          "execution_count": 6
        }
      ]
    },
    {
      "cell_type": "code",
      "execution_count": null,
      "metadata": {
        "id": "iUqZACd2IRcn"
      },
      "outputs": [],
      "source": [
        "# 모델링: Sequential API\n",
        "\n",
        "# 혹시 이미 그려둔 그래프가 있다면 날려줘!\n",
        "keras.backend.clear_session()\n",
        "\n",
        "# 레이어들을 사슬로 연결하 듯이 연결!\n",
        "input_layer = keras.layers.Input(shape=(1,))\n",
        "output_layer = keras.layers.Dense(1)(input_layer)\n",
        "\n",
        "# 모델의 시작과 끝을 지정\n",
        "model = keras.models.Model(inputs=input_layer, outputs=output_layer)\n",
        "\n",
        "# 컴파일\n",
        "model.compile(loss = 'mse', optimizer = 'adam')"
      ]
    },
    {
      "cell_type": "code",
      "execution_count": null,
      "metadata": {
        "id": "s1UM3mOzLTeb",
        "colab": {
          "base_uri": "https://localhost:8080/"
        },
        "outputId": "8d36ef17-f619-464c-e631-15df08fc3a38"
      },
      "outputs": [
        {
          "output_type": "stream",
          "name": "stdout",
          "text": [
            "Epoch 1/10\n",
            "1/1 [==============================] - 1s 553ms/step - loss: 686.9184\n",
            "Epoch 2/10\n",
            "1/1 [==============================] - 0s 11ms/step - loss: 686.2919\n",
            "Epoch 3/10\n",
            "1/1 [==============================] - 0s 19ms/step - loss: 685.6656\n",
            "Epoch 4/10\n",
            "1/1 [==============================] - 0s 11ms/step - loss: 685.0397\n",
            "Epoch 5/10\n",
            "1/1 [==============================] - 0s 10ms/step - loss: 684.4142\n",
            "Epoch 6/10\n",
            "1/1 [==============================] - 0s 16ms/step - loss: 683.7888\n",
            "Epoch 7/10\n",
            "1/1 [==============================] - 0s 21ms/step - loss: 683.1638\n",
            "Epoch 8/10\n",
            "1/1 [==============================] - 0s 21ms/step - loss: 682.5392\n",
            "Epoch 9/10\n",
            "1/1 [==============================] - 0s 9ms/step - loss: 681.9147\n",
            "Epoch 10/10\n",
            "1/1 [==============================] - 0s 11ms/step - loss: 681.2906\n"
          ]
        },
        {
          "output_type": "execute_result",
          "data": {
            "text/plain": [
              "<keras.callbacks.History at 0x7f1f7d5a3250>"
            ]
          },
          "metadata": {},
          "execution_count": 4
        }
      ],
      "source": [
        "# 데이터를 넣어서 학습시키자!\n",
        "model.fit(x, y, epochs=10, verbose=1)"
      ]
    },
    {
      "cell_type": "code",
      "execution_count": null,
      "metadata": {
        "id": "FZH5RHQivTiJ",
        "colab": {
          "base_uri": "https://localhost:8080/"
        },
        "outputId": "7167270b-9dc7-4a92-ff6e-dfd9c9f7fe3a"
      },
      "outputs": [
        {
          "output_type": "stream",
          "name": "stdout",
          "text": [
            "[0.        1.1356283 2.2712567 3.4068851 4.5425134]\n"
          ]
        }
      ],
      "source": [
        "# 결과 출력해줘!\n",
        "y_pred = model.predict(x)\n",
        "print(y_pred[:5].reshape(-1,) )"
      ]
    },
    {
      "cell_type": "code",
      "source": [
        "y[:5].reshape(-1)"
      ],
      "metadata": {
        "colab": {
          "base_uri": "https://localhost:8080/"
        },
        "id": "errxqlVDfZ9m",
        "outputId": "20487fc2-0aa3-42a8-90f0-4900ca6147c1"
      },
      "execution_count": null,
      "outputs": [
        {
          "output_type": "execute_result",
          "data": {
            "text/plain": [
              "array([-1,  1,  3,  5,  7])"
            ]
          },
          "metadata": {},
          "execution_count": 12
        }
      ]
    },
    {
      "cell_type": "markdown",
      "metadata": {
        "id": "zvqPQxmgFibo"
      },
      "source": [
        "## Now, Your turn!"
      ]
    },
    {
      "cell_type": "code",
      "execution_count": null,
      "metadata": {
        "id": "xlxFydqCva9k"
      },
      "outputs": [],
      "source": [
        "# 라이브러리 불러오기\n",
        "import tensorflow as tf\n",
        "from tensorflow import keras\n",
        "import numpy as np"
      ]
    },
    {
      "cell_type": "code",
      "execution_count": null,
      "metadata": {
        "id": "wIFzEwY2PWpX",
        "colab": {
          "base_uri": "https://localhost:8080/"
        },
        "outputId": "40f952e3-b0f0-4976-8f15-5d43348fab65"
      },
      "outputs": [
        {
          "output_type": "stream",
          "name": "stdout",
          "text": [
            "[ 0  1  2  3  4  5  6  7  8  9 10 11 12 13 14 15 16 17 18 19]\n",
            "[ 10   7   4   1  -2  -5  -8 -11 -14 -17 -20 -23 -26 -29 -32 -35 -38 -41\n",
            " -44 -47]\n"
          ]
        }
      ],
      "source": [
        "x = np.array(range(0,20)) \n",
        "y = x * (-3) + 10\n",
        "\n",
        "print(x)\n",
        "print(y)"
      ]
    },
    {
      "cell_type": "code",
      "execution_count": null,
      "metadata": {
        "id": "pNul2_K5PhGi",
        "colab": {
          "base_uri": "https://localhost:8080/"
        },
        "outputId": "e9ac923d-0231-43fb-e6c5-10efad855526"
      },
      "outputs": [
        {
          "output_type": "execute_result",
          "data": {
            "text/plain": [
              "((20,), (20,))"
            ]
          },
          "metadata": {},
          "execution_count": 45
        }
      ],
      "source": [
        "x.shape, y.shape"
      ]
    },
    {
      "cell_type": "code",
      "execution_count": null,
      "metadata": {
        "id": "zhr1VsJzQcGI"
      },
      "outputs": [],
      "source": [
        "# 모델링: Sequential API\n",
        "\n",
        "# 1. 세션 클리어(기존 모델 제거)\n",
        "keras.backend.clear_session()\n",
        "\n",
        "# 2. 레이어를 쌓을 발판(Sequential())\n",
        "model = keras.models.Sequential()\n",
        "\n",
        "# 3. 레이어 블록 조립(.add())\n",
        "model.add(keras.layers.Input(shape=(1,)))\n",
        "model.add(keras.layers.Dense(1))\n",
        "\n",
        "# 4. 컴파일\n",
        "model.compile(loss = 'mse', optimizer = 'adam')"
      ]
    },
    {
      "cell_type": "code",
      "source": [
        "# 학습\n",
        "hist = model.fit(x, y, epochs=10, verbose=1)"
      ],
      "metadata": {
        "colab": {
          "base_uri": "https://localhost:8080/"
        },
        "id": "aiUbSFtQgSN8",
        "outputId": "a20b466b-489c-4747-ffb6-199db6f72327"
      },
      "execution_count": null,
      "outputs": [
        {
          "output_type": "stream",
          "name": "stdout",
          "text": [
            "Epoch 1/10\n",
            "1/1 [==============================] - 0s 499ms/step - loss: 626.9744\n",
            "Epoch 2/10\n",
            "1/1 [==============================] - 0s 8ms/step - loss: 626.3937\n",
            "Epoch 3/10\n",
            "1/1 [==============================] - 0s 7ms/step - loss: 625.8130\n",
            "Epoch 4/10\n",
            "1/1 [==============================] - 0s 6ms/step - loss: 625.2328\n",
            "Epoch 5/10\n",
            "1/1 [==============================] - 0s 6ms/step - loss: 624.6530\n",
            "Epoch 6/10\n",
            "1/1 [==============================] - 0s 6ms/step - loss: 624.0734\n",
            "Epoch 7/10\n",
            "1/1 [==============================] - 0s 6ms/step - loss: 623.4941\n",
            "Epoch 8/10\n",
            "1/1 [==============================] - 0s 6ms/step - loss: 622.9152\n",
            "Epoch 9/10\n",
            "1/1 [==============================] - 0s 5ms/step - loss: 622.3365\n",
            "Epoch 10/10\n",
            "1/1 [==============================] - 0s 6ms/step - loss: 621.7582\n"
          ]
        }
      ]
    },
    {
      "cell_type": "code",
      "source": [
        "#hist.history['loss'][-1]"
      ],
      "metadata": {
        "colab": {
          "base_uri": "https://localhost:8080/"
        },
        "id": "XOfHe05wk-gt",
        "outputId": "82803c84-e6c3-4cfb-e580-cabb0df2d03c"
      },
      "execution_count": null,
      "outputs": [
        {
          "output_type": "execute_result",
          "data": {
            "text/plain": [
              "621.7581787109375"
            ]
          },
          "metadata": {},
          "execution_count": 51
        }
      ]
    },
    {
      "cell_type": "code",
      "source": [
        "#model.evaluate(x, y, verbose=1)"
      ],
      "metadata": {
        "colab": {
          "base_uri": "https://localhost:8080/"
        },
        "id": "BqZNAgcJpq9M",
        "outputId": "a281b182-df04-41e2-9db1-809debd8fe3d"
      },
      "execution_count": null,
      "outputs": [
        {
          "output_type": "stream",
          "name": "stdout",
          "text": [
            "1/1 [==============================] - 0s 105ms/step - loss: 621.1802\n"
          ]
        },
        {
          "output_type": "execute_result",
          "data": {
            "text/plain": [
              "621.1802368164062"
            ]
          },
          "metadata": {},
          "execution_count": 53
        }
      ]
    },
    {
      "cell_type": "code",
      "source": [
        "# 예측값 생성\n",
        "y_pred = model.predict(x)\n",
        "y_pred[:5]"
      ],
      "metadata": {
        "colab": {
          "base_uri": "https://localhost:8080/"
        },
        "id": "gsrDSYLxgdIZ",
        "outputId": "1fa4a7db-c782-4dc3-baac-e2c4721c7d4a"
      },
      "execution_count": null,
      "outputs": [
        {
          "output_type": "execute_result",
          "data": {
            "text/plain": [
              "array([[-0.00999813],\n",
              "       [-0.04651644],\n",
              "       [-0.08303474],\n",
              "       [-0.11955304],\n",
              "       [-0.15607135]], dtype=float32)"
            ]
          },
          "metadata": {},
          "execution_count": 55
        }
      ]
    },
    {
      "cell_type": "code",
      "source": [
        "y[:5]"
      ],
      "metadata": {
        "colab": {
          "base_uri": "https://localhost:8080/"
        },
        "id": "9ZZRarx_gezz",
        "outputId": "6fee48cc-9793-4812-a27a-29d06f00c1a9"
      },
      "execution_count": null,
      "outputs": [
        {
          "output_type": "execute_result",
          "data": {
            "text/plain": [
              "array([10,  7,  4,  1, -2])"
            ]
          },
          "metadata": {},
          "execution_count": 56
        }
      ]
    },
    {
      "cell_type": "markdown",
      "metadata": {
        "id": "CMfaYMFCTz2d"
      },
      "source": [
        "## Quick Logistic Regression!"
      ]
    },
    {
      "cell_type": "code",
      "execution_count": 57,
      "metadata": {
        "id": "OmGKbCiATz2e"
      },
      "outputs": [],
      "source": [
        "import tensorflow as tf\n",
        "from tensorflow import keras\n",
        "\n",
        "import numpy as np"
      ]
    },
    {
      "cell_type": "code",
      "execution_count": 58,
      "metadata": {
        "id": "yzweU4sRTz2g",
        "colab": {
          "base_uri": "https://localhost:8080/"
        },
        "outputId": "1c22f37b-c8fc-4d06-95af-be2e4236542c"
      },
      "outputs": [
        {
          "output_type": "stream",
          "name": "stdout",
          "text": [
            "[ 0  1  2  3  4  5  6  7  8  9 10 11 12 13 14 15 16 17 18 19]\n",
            "[0 0 0 0 0 0 0 0 0 0 1 1 1 1 1 1 1 1 1 1]\n"
          ]
        }
      ],
      "source": [
        "x = np.array(range(0,20)) \n",
        "y = np.array([0]*10 + [1]*10)\n",
        "\n",
        "print(x)\n",
        "print(y)"
      ]
    },
    {
      "cell_type": "code",
      "source": [
        "x.shape, y.shape"
      ],
      "metadata": {
        "colab": {
          "base_uri": "https://localhost:8080/"
        },
        "id": "cXzo0nnKGhvr",
        "outputId": "f6e00584-ae57-4506-a164-e46c06377976"
      },
      "execution_count": 59,
      "outputs": [
        {
          "output_type": "execute_result",
          "data": {
            "text/plain": [
              "((20,), (20,))"
            ]
          },
          "metadata": {},
          "execution_count": 59
        }
      ]
    },
    {
      "cell_type": "code",
      "execution_count": 60,
      "metadata": {
        "id": "wiQzDaBzTz2j"
      },
      "outputs": [],
      "source": [
        "# 모델링: Sequential API\n",
        "\n",
        "# 1. 세션 클리어\n",
        "keras.backend.clear_session()\n",
        "\n",
        "# 2. 모델 선언\n",
        "model = keras.models.Sequential()\n",
        "\n",
        "# 3. 레이어 블록 조립\n",
        "model.add(keras.layers.Input(shape=(1,)))\n",
        "model.add(keras.layers.Dense(1, activation='sigmoid'))\n",
        "\n",
        "# 4. 컴파일\n",
        "model.compile(loss = 'binary_crossentropy', optimizer = 'adam', metrics=['accuracy'])"
      ]
    },
    {
      "cell_type": "code",
      "execution_count": 61,
      "metadata": {
        "id": "b_FXYQ7fTz2l",
        "colab": {
          "base_uri": "https://localhost:8080/"
        },
        "outputId": "1f226473-099d-4f1f-e2e2-64557ca689c4"
      },
      "outputs": [
        {
          "output_type": "stream",
          "name": "stdout",
          "text": [
            "Epoch 1/10\n",
            "1/1 [==============================] - 0s 402ms/step - loss: 3.0700 - accuracy: 0.5500\n",
            "Epoch 2/10\n",
            "1/1 [==============================] - 0s 9ms/step - loss: 3.0673 - accuracy: 0.5500\n",
            "Epoch 3/10\n",
            "1/1 [==============================] - 0s 7ms/step - loss: 3.0646 - accuracy: 0.5500\n",
            "Epoch 4/10\n",
            "1/1 [==============================] - 0s 7ms/step - loss: 3.0619 - accuracy: 0.5500\n",
            "Epoch 5/10\n",
            "1/1 [==============================] - 0s 7ms/step - loss: 3.0592 - accuracy: 0.5500\n",
            "Epoch 6/10\n",
            "1/1 [==============================] - 0s 6ms/step - loss: 3.0565 - accuracy: 0.5500\n",
            "Epoch 7/10\n",
            "1/1 [==============================] - 0s 6ms/step - loss: 3.0538 - accuracy: 0.5500\n",
            "Epoch 8/10\n",
            "1/1 [==============================] - 0s 9ms/step - loss: 3.0511 - accuracy: 0.5500\n",
            "Epoch 9/10\n",
            "1/1 [==============================] - 0s 5ms/step - loss: 3.0484 - accuracy: 0.5500\n",
            "Epoch 10/10\n",
            "1/1 [==============================] - 0s 5ms/step - loss: 3.0458 - accuracy: 0.5500\n"
          ]
        },
        {
          "output_type": "execute_result",
          "data": {
            "text/plain": [
              "<keras.callbacks.History at 0x7f1f7d5a3050>"
            ]
          },
          "metadata": {},
          "execution_count": 61
        }
      ],
      "source": [
        "# 학습\n",
        "model.fit(x, y, epochs=10, verbose=1)"
      ]
    },
    {
      "cell_type": "code",
      "source": [
        "# 예측\n",
        "y_pred = model.predict(x)\n",
        "y_pred[:5].reshape(-1)"
      ],
      "metadata": {
        "colab": {
          "base_uri": "https://localhost:8080/"
        },
        "id": "HAPxGhekImdm",
        "outputId": "37d7106c-57bb-41ad-d838-2f71d9de9034"
      },
      "execution_count": 63,
      "outputs": [
        {
          "output_type": "execute_result",
          "data": {
            "text/plain": [
              "array([0.49750012, 0.78949153, 0.93424034, 0.9817575 , 0.99511874],\n",
              "      dtype=float32)"
            ]
          },
          "metadata": {},
          "execution_count": 63
        }
      ]
    },
    {
      "cell_type": "code",
      "source": [
        "y[:5]"
      ],
      "metadata": {
        "colab": {
          "base_uri": "https://localhost:8080/"
        },
        "id": "0R7iDcmNI36U",
        "outputId": "eb6218db-7ca2-4df1-9d76-974fe1228fd9"
      },
      "execution_count": 64,
      "outputs": [
        {
          "output_type": "execute_result",
          "data": {
            "text/plain": [
              "array([0, 0, 0, 0, 0])"
            ]
          },
          "metadata": {},
          "execution_count": 64
        }
      ]
    },
    {
      "cell_type": "markdown",
      "metadata": {
        "id": "bqJtsDjtTz2n"
      },
      "source": [
        "## Now, Your turn!"
      ]
    },
    {
      "cell_type": "code",
      "execution_count": 70,
      "metadata": {
        "id": "-ihUgWzFvkPL"
      },
      "outputs": [],
      "source": [
        "# 라이브러리 불러오기\n",
        "import tensorflow as tf\n",
        "from tensorflow import keras\n",
        "import numpy as np"
      ]
    },
    {
      "cell_type": "code",
      "execution_count": 72,
      "metadata": {
        "id": "IGSN3QAPTz2o",
        "colab": {
          "base_uri": "https://localhost:8080/"
        },
        "outputId": "b5aafc17-7edc-489a-80ef-54995e29e8a8"
      },
      "outputs": [
        {
          "output_type": "stream",
          "name": "stdout",
          "text": [
            "[ 0  1  2  3  4  5  6  7  8  9 10 11 12 13 14 15 16 17 18 19 20 21 22 23\n",
            " 24 25 26 27 28 29 30 31 32 33 34 35 36 37 38 39]\n",
            "[0 0 0 0 0 0 0 0 0 0 0 0 0 0 0 0 0 0 0 0 1 1 1 1 1 1 1 1 1 1 1 1 1 1 1 1 1\n",
            " 1 1 1]\n"
          ]
        }
      ],
      "source": [
        "x = np.array(range(0,40)) \n",
        "y = np.array([0]*20 + [1]*20)\n",
        "print(x)\n",
        "print(y)"
      ]
    },
    {
      "cell_type": "code",
      "execution_count": 73,
      "metadata": {
        "id": "Ma61XgWYUMPi"
      },
      "outputs": [],
      "source": [
        "# 1. 세션 클리어\n",
        "keras.backend.clear_session()\n",
        "\n",
        "# 2. 모델 선언\n",
        "model = keras.models.Sequential()\n",
        "\n",
        "# 3. 모델 블록 조립\n",
        "model.add(keras.layers.Input(shape=(1,)))\n",
        "model.add(keras.layers.Dense(1, activation='sigmoid'))\n",
        "\n",
        "# 4. 컴파일\n",
        "model.compile(loss='binary_crossentropy', optimizer='adam', metrics=['accuracy'])"
      ]
    },
    {
      "cell_type": "code",
      "execution_count": 74,
      "metadata": {
        "id": "nniSdDU1UM29",
        "colab": {
          "base_uri": "https://localhost:8080/"
        },
        "outputId": "619c6c0c-5835-456b-afbf-e75656b669e0"
      },
      "outputs": [
        {
          "output_type": "stream",
          "name": "stdout",
          "text": [
            "Epoch 1/10\n",
            "2/2 [==============================] - 0s 5ms/step - loss: 7.8248 - accuracy: 0.5250\n",
            "Epoch 2/10\n",
            "2/2 [==============================] - 0s 5ms/step - loss: 7.8146 - accuracy: 0.5250\n",
            "Epoch 3/10\n",
            "2/2 [==============================] - 0s 4ms/step - loss: 7.8051 - accuracy: 0.5250\n",
            "Epoch 4/10\n",
            "2/2 [==============================] - 0s 6ms/step - loss: 7.7947 - accuracy: 0.5250\n",
            "Epoch 5/10\n",
            "2/2 [==============================] - 0s 5ms/step - loss: 7.7845 - accuracy: 0.5250\n",
            "Epoch 6/10\n",
            "2/2 [==============================] - 0s 4ms/step - loss: 7.7738 - accuracy: 0.5250\n",
            "Epoch 7/10\n",
            "2/2 [==============================] - 0s 5ms/step - loss: 7.7642 - accuracy: 0.5250\n",
            "Epoch 8/10\n",
            "2/2 [==============================] - 0s 5ms/step - loss: 7.7545 - accuracy: 0.5250\n",
            "Epoch 9/10\n",
            "2/2 [==============================] - 0s 6ms/step - loss: 7.7444 - accuracy: 0.5250\n",
            "Epoch 10/10\n",
            "2/2 [==============================] - 0s 5ms/step - loss: 7.7335 - accuracy: 0.5250\n"
          ]
        },
        {
          "output_type": "execute_result",
          "data": {
            "text/plain": [
              "<keras.callbacks.History at 0x7f1f7a8c5650>"
            ]
          },
          "metadata": {},
          "execution_count": 74
        }
      ],
      "source": [
        "model.fit(x, y, epochs=10, verbose=1)"
      ]
    },
    {
      "cell_type": "code",
      "execution_count": 75,
      "metadata": {
        "id": "BNKQQzy5UNFm"
      },
      "outputs": [],
      "source": [
        "y_pred = model.predict(x)"
      ]
    },
    {
      "cell_type": "code",
      "source": [
        "for idx, val in enumerate(y_pred):\n",
        "  if val >= 0.5:\n",
        "    y_pred[idx] = 1\n",
        "  else:\n",
        "    y_pred[idx] = 0"
      ],
      "metadata": {
        "id": "28I0iPf6RQre"
      },
      "execution_count": 76,
      "outputs": []
    },
    {
      "cell_type": "code",
      "source": [
        "y_pred[:5]"
      ],
      "metadata": {
        "colab": {
          "base_uri": "https://localhost:8080/"
        },
        "id": "oSVm6XX_Rc4V",
        "outputId": "5baa488d-7b15-4115-90d9-aa0bfc54c7c6"
      },
      "execution_count": 77,
      "outputs": [
        {
          "output_type": "execute_result",
          "data": {
            "text/plain": [
              "array([[0.],\n",
              "       [1.],\n",
              "       [1.],\n",
              "       [1.],\n",
              "       [1.]], dtype=float32)"
            ]
          },
          "metadata": {},
          "execution_count": 77
        }
      ]
    },
    {
      "cell_type": "code",
      "source": [
        "y[:5]"
      ],
      "metadata": {
        "colab": {
          "base_uri": "https://localhost:8080/"
        },
        "id": "_WGC-FtmNwyX",
        "outputId": "4da53b21-440d-4e32-d930-8a07cf626270"
      },
      "execution_count": 78,
      "outputs": [
        {
          "output_type": "execute_result",
          "data": {
            "text/plain": [
              "array([0, 0, 0, 0, 0])"
            ]
          },
          "metadata": {},
          "execution_count": 78
        }
      ]
    }
  ],
  "metadata": {
    "colab": {
      "collapsed_sections": [],
      "name": "1_1_Quick_Keras_Functional.ipynb",
      "provenance": []
    },
    "kernelspec": {
      "display_name": "Python 3 (ipykernel)",
      "language": "python",
      "name": "python3"
    },
    "language_info": {
      "codemirror_mode": {
        "name": "ipython",
        "version": 3
      },
      "file_extension": ".py",
      "mimetype": "text/x-python",
      "name": "python",
      "nbconvert_exporter": "python",
      "pygments_lexer": "ipython3",
      "version": "3.9.7"
    }
  },
  "nbformat": 4,
  "nbformat_minor": 0
}