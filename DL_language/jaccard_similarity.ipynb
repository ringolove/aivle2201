{
  "nbformat": 4,
  "nbformat_minor": 0,
  "metadata": {
    "colab": {
      "name": "jaccard similarity.ipynb",
      "provenance": []
    },
    "kernelspec": {
      "name": "python3",
      "display_name": "Python 3"
    },
    "language_info": {
      "name": "python"
    }
  },
  "cells": [
    {
      "cell_type": "code",
      "execution_count": 1,
      "metadata": {
        "colab": {
          "base_uri": "https://localhost:8080/"
        },
        "id": "gDT_jswUNk2R",
        "outputId": "758bc29a-d4dd-4ff4-ad9f-e3246edb5b02"
      },
      "outputs": [
        {
          "output_type": "stream",
          "name": "stdout",
          "text": [
            "0.3333333333333333\n",
            "0.0\n",
            "0.75\n",
            "0.25\n"
          ]
        }
      ],
      "source": [
        "# jaccard_similarity_score는 sklearn에서 더 이상 지원하지 않음\n",
        "import numpy as np\n",
        "from sklearn.metrics import accuracy_score\n",
        "print(accuracy_score(np.array([1,3,2]), np.array([1,4,5])))\n",
        "print(accuracy_score(np.array([1,3,2]), np.array([4,1,5])))\n",
        "print(accuracy_score(np.array([1,1,0,0]), np.array([1,1,0,2])))\n",
        "print(accuracy_score(np.array([1,0,1,0]), np.array([1,1,0,2])))"
      ]
    }
  ]
}