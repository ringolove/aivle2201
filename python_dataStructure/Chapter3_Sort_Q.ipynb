{
  "cells": [
    {
      "cell_type": "markdown",
      "metadata": {
        "id": "ugBx3yYKEXMG"
      },
      "source": [
        "# Chapter 3.\n",
        "# Unit 1. 재귀 알고리즘"
      ]
    },
    {
      "cell_type": "code",
      "execution_count": null,
      "metadata": {
        "id": "64LFPhJcEXMM"
      },
      "outputs": [],
      "source": [
        "# 양의 정수 n의 팩토리얼 구하기\n",
        "\n",
        "def factorial(n):\n",
        "    if n > 0:\n",
        "        return n * factorial(n-1)\n",
        "    else:\n",
        "        return 1"
      ]
    },
    {
      "cell_type": "code",
      "execution_count": null,
      "metadata": {
        "id": "Ww9xIRKDEXMO",
        "outputId": "2c27f159-0254-49fb-aa98-738d853b8902"
      },
      "outputs": [
        {
          "name": "stdout",
          "output_type": "stream",
          "text": [
            "출력할 팩토리얼 값을 입력하세요.: 3\n",
            "3의 팩토리얼은 6입니다.\n"
          ]
        }
      ],
      "source": [
        "n = int(input('출력할 팩토리얼 값을 입력하세요.: '))\n",
        "print(f'{n}의 팩토리얼은 {factorial(n)}입니다.')"
      ]
    },
    {
      "cell_type": "markdown",
      "metadata": {
        "id": "2UIJDroMEXMP"
      },
      "source": [
        "### 미니 실습 1)\n",
        "\n",
        "### Q) 양의 정수 n의 팩토리얼 구하기를 재귀 알고리즘을 사용하지 말고 구하시오"
      ]
    },
    {
      "cell_type": "code",
      "execution_count": null,
      "metadata": {
        "colab": {
          "base_uri": "https://localhost:8080/"
        },
        "id": "fvwdmI-hEXMQ",
        "outputId": "e579a9a7-cc7a-476b-8a8d-9779424378e4"
      },
      "outputs": [
        {
          "output_type": "stream",
          "name": "stdout",
          "text": [
            "6\n"
          ]
        }
      ],
      "source": [
        "def fac(n):\n",
        "  sentinel = 1\n",
        "  for i in range(1,n+1):\n",
        "    sentinel *= i\n",
        "  return sentinel\n",
        "\n",
        "print(fac(3))"
      ]
    },
    {
      "cell_type": "markdown",
      "metadata": {
        "id": "3QDD8bRaEXMQ"
      },
      "source": [
        "### 미니 실습 2)\n",
        "\n",
        "### Q) 두 정수의 최대 공약수 구하기를 재귀 알고리즘을 사용하지 말고 구현하시오."
      ]
    },
    {
      "cell_type": "code",
      "execution_count": null,
      "metadata": {
        "colab": {
          "base_uri": "https://localhost:8080/"
        },
        "id": "EgeqIOxuEXMQ",
        "outputId": "2dbe24bd-ff6a-4ba4-c69c-836107a6bac0"
      },
      "outputs": [
        {
          "output_type": "stream",
          "name": "stdout",
          "text": [
            "32\n"
          ]
        }
      ],
      "source": [
        "# def gcdnr(m,n):\n",
        "#   while n!=0:\n",
        "#     m,n = n,m%n\n",
        "#   return m\n",
        "\n",
        "def gcd(a,b):\n",
        "  while(b):\n",
        "    a,b=b,a%b\n",
        "  return a\n",
        "print(gcd(128,32))"
      ]
    },
    {
      "cell_type": "markdown",
      "metadata": {
        "id": "SbiCSR2dEXMR"
      },
      "source": [
        "## 정렬"
      ]
    },
    {
      "cell_type": "code",
      "execution_count": null,
      "metadata": {
        "id": "MxmBeyBFEXMS"
      },
      "outputs": [],
      "source": [
        "# 버블 정렬 알고리즘 구현\n",
        "\n",
        "def bubble_sort(a):\n",
        "    n = len(a)\n",
        "    for i in range(n-1):\n",
        "        for j in range(n-1,i,-1):\n",
        "            if a[j-1] > a[j]:\n",
        "                a[j-1], a[j] = a[j], a[j-1]"
      ]
    },
    {
      "cell_type": "code",
      "execution_count": null,
      "metadata": {
        "colab": {
          "base_uri": "https://localhost:8080/"
        },
        "id": "wu3H-A9SEXMS",
        "outputId": "248b32d2-8a53-45ba-9aec-2d4a27c09a92"
      },
      "outputs": [
        {
          "output_type": "stream",
          "name": "stdout",
          "text": [
            "버블 정렬을 수행합니다.\n",
            "원소 수를 입력하세요.: 6\n",
            "x[0]값을 입력하세요.: 1\n",
            "x[1]값을 입력하세요.: 3\n",
            "x[2]값을 입력하세요.: 4\n",
            "x[3]값을 입력하세요.: 6\n",
            "x[4]값을 입력하세요.: 7\n",
            "x[5]값을 입력하세요.: 8\n",
            "오름차순으로 정렬했습니다.\n",
            "[1, 3, 4, 6, 7, 8]\n"
          ]
        }
      ],
      "source": [
        "print('버블 정렬을 수행합니다.')\n",
        "num = int(input('원소 수를 입력하세요.: '))\n",
        "x = [None] * num # 원소 수가 num인 리스트를 생성\n",
        "\n",
        "for i in range(num):\n",
        "    x[i] = int(input(f'x[{i}]값을 입력하세요.: '))\n",
        "\n",
        "bubble_sort(x)\n",
        "\n",
        "print('오름차순으로 정렬했습니다.')\n",
        "print(x)"
      ]
    },
    {
      "cell_type": "code",
      "execution_count": null,
      "metadata": {
        "id": "ZjuI5ywWEXMT"
      },
      "outputs": [],
      "source": [
        "# 버블 정렬 과정 출력 (교환하는 경우 +, 교환하지 않는 경우 -)\n",
        "\n",
        "def bubble_sort_trace(a):\n",
        "    ccnt = 0 # 비교 횟수\n",
        "    scnt = 0 # 교환 횟수\n",
        "    n = len(a)\n",
        "    for i in range(n-1):\n",
        "        print(f'패스 {i+1}') # 패스 번호 출력\n",
        "        for j in range(n-1,i,-1):\n",
        "            for m in range(0, n-1): # 원소값과 교환 여부 출력\n",
        "                print(f'{a[m]:2}' + (' ' if m != j - 1 else\n",
        "                                     ' +' if a[j-1] > a[j] else ' -'),\n",
        "                                     end='')\n",
        "            print(f'{a[n-1]:2}')\n",
        "                \n",
        "            ccnt += 1\n",
        "            if a[j-1] > a[j]:\n",
        "                scnt += 1\n",
        "                a[j-1], a[j] = a[j], a[j-1]\n",
        "        \n",
        "        for m in range(0, n-1):\n",
        "            print(f'{a[m]:2}', end=' ')\n",
        "        print(f'{a[n-1]:2}')\n",
        "        \n",
        "    print(f'비교를 {ccnt}번 했습니다')\n",
        "    print(f'교환을 {scnt}번 했습니다')"
      ]
    },
    {
      "cell_type": "code",
      "execution_count": null,
      "metadata": {
        "id": "C72OqVpGEXMU",
        "outputId": "6aaf3a6d-8745-446f-b8a7-31f48f8b0cf6"
      },
      "outputs": [
        {
          "name": "stdout",
          "output_type": "stream",
          "text": [
            "버블 정렬을 수행합니다.\n",
            "원소 수를 입력하세요.: 7\n",
            "x[0]값을 입력하세요.: 6\n",
            "x[1]값을 입력하세요.: 4\n",
            "x[2]값을 입력하세요.: 3\n",
            "x[3]값을 입력하세요.: 7\n",
            "x[4]값을 입력하세요.: 1\n",
            "x[5]값을 입력하세요.: 9\n",
            "x[6]값을 입력하세요.: 8\n",
            "패스 1\n",
            " 6  4  3  7  1  9 + 8\n",
            " 6  4  3  7  1 - 8  9\n",
            " 6  4  3  7 + 1  8  9\n",
            " 6  4  3 + 1  7  8  9\n",
            " 6  4 + 1  3  7  8  9\n",
            " 6 + 1  4  3  7  8  9\n",
            " 1  6  4  3  7  8  9\n",
            "패스 2\n",
            " 1  6  4  3  7  8 - 9\n",
            " 1  6  4  3  7 - 8  9\n",
            " 1  6  4  3 - 7  8  9\n",
            " 1  6  4 + 3  7  8  9\n",
            " 1  6 + 3  4  7  8  9\n",
            " 1  3  6  4  7  8  9\n",
            "패스 3\n",
            " 1  3  6  4  7  8 - 9\n",
            " 1  3  6  4  7 - 8  9\n",
            " 1  3  6  4 - 7  8  9\n",
            " 1  3  6 + 4  7  8  9\n",
            " 1  3  4  6  7  8  9\n",
            "패스 4\n",
            " 1  3  4  6  7  8 - 9\n",
            " 1  3  4  6  7 - 8  9\n",
            " 1  3  4  6 - 7  8  9\n",
            " 1  3  4  6  7  8  9\n",
            "패스 5\n",
            " 1  3  4  6  7  8 - 9\n",
            " 1  3  4  6  7 - 8  9\n",
            " 1  3  4  6  7  8  9\n",
            "패스 6\n",
            " 1  3  4  6  7  8 - 9\n",
            " 1  3  4  6  7  8  9\n",
            "비교를 21번 했습니다\n",
            "교환을 8번 했습니다\n",
            "오름차순으로 정렬했습니다.\n",
            "[1, 3, 4, 6, 7, 8, 9]\n"
          ]
        }
      ],
      "source": [
        "print('버블 정렬을 수행합니다.')\n",
        "num = int(input('원소 수를 입력하세요.: '))\n",
        "x = [None] * num # 원소 수가 num인 리스트를 생성\n",
        "\n",
        "for i in range(num):\n",
        "    x[i] = int(input(f'x[{i}]값을 입력하세요.: '))\n",
        "\n",
        "bubble_sort_trace(x)\n",
        "\n",
        "print('오름차순으로 정렬했습니다.')\n",
        "print(x)"
      ]
    },
    {
      "cell_type": "code",
      "execution_count": null,
      "metadata": {
        "id": "2JKqKOcGEXMU"
      },
      "outputs": [],
      "source": [
        "# 버블 정렬 개선 1\n",
        "\n",
        "def bubble_sort(a):\n",
        "    n = len(a)\n",
        "    for i in range(n-1):\n",
        "        exchange = 0\n",
        "        for j in range(n-1,i,-1):\n",
        "            if a[j-1] > a[j]:\n",
        "                a[j-1], a[j] = a[j], a[j-1]\n",
        "                exchange += 1\n",
        "        if exchange ==0 :\n",
        "            break"
      ]
    },
    {
      "cell_type": "code",
      "execution_count": null,
      "metadata": {
        "id": "evbWWTuMEXMV"
      },
      "outputs": [],
      "source": [
        "# 버블 정렬 개선 2\n",
        "\n",
        "def bubble_sort(a):\n",
        "    n = len(a)\n",
        "    k = 0\n",
        "    while k < n - 1:\n",
        "        last = n - 1\n",
        "        for j in range(n-1, k, -1):\n",
        "            if a[j-1] > a[j]:\n",
        "                a[j-1], a[j] = a[j], a[j-1]\n",
        "                last = j\n",
        "        k = last"
      ]
    },
    {
      "cell_type": "code",
      "execution_count": null,
      "metadata": {
        "id": "Kmbt2cBhEXMV"
      },
      "outputs": [],
      "source": [
        "# 단순 선택 정렬 pseudo code\n",
        "\n",
        "for i in range(n-1):\n",
        "    min    # 값이 가장 작은 원소의 인덱스\n",
        "    a[i]와 a[min]의 값을 교환"
      ]
    },
    {
      "cell_type": "code",
      "execution_count": null,
      "metadata": {
        "id": "iA4GAwRsEXMW"
      },
      "outputs": [],
      "source": [
        "# 단순 선택 정렬\n",
        "\n",
        "def selection_sort(a):\n",
        "    n = len(a)\n",
        "    for i in range(n - 1):\n",
        "        min = i\n",
        "        for j in range(i + 1, n):\n",
        "            if a[j] < a[min]:\n",
        "                min = j\n",
        "        a[i], a[min] = a[min], a[i]"
      ]
    },
    {
      "cell_type": "code",
      "execution_count": null,
      "metadata": {
        "id": "0-BiTyFuEXMW",
        "outputId": "18399aa6-ba49-4d45-844c-efd81f464926"
      },
      "outputs": [
        {
          "name": "stdout",
          "output_type": "stream",
          "text": [
            "단순 선택 정렬을 수행합니다.\n",
            "원소 수를 입력하세요.: 7\n",
            "x[0]값을 입력하세요.: 6\n",
            "x[1]값을 입력하세요.: 4\n",
            "x[2]값을 입력하세요.: 8\n",
            "x[3]값을 입력하세요.: 3\n",
            "x[4]값을 입력하세요.: 1\n",
            "x[5]값을 입력하세요.: 9\n",
            "x[6]값을 입력하세요.: 7\n",
            "오름차순으로 정렬했습니다.\n",
            "[1, 3, 4, 6, 7, 8, 9]\n"
          ]
        }
      ],
      "source": [
        "print('단순 선택 정렬을 수행합니다.')\n",
        "num = int(input('원소 수를 입력하세요.: '))\n",
        "x = [None] * num # 원소 수가 num인 리스트를 생성\n",
        "\n",
        "for i in range(num):\n",
        "    x[i] = int(input(f'x[{i}]값을 입력하세요.: '))\n",
        "\n",
        "selection_sort(x)\n",
        "\n",
        "print('오름차순으로 정렬했습니다.')\n",
        "print(x)"
      ]
    },
    {
      "cell_type": "code",
      "execution_count": null,
      "metadata": {
        "id": "IrfYCWzpEXMW"
      },
      "outputs": [],
      "source": [
        "# 단순 삽입 정렬 pseudo code\n",
        "\n",
        "for i in range(1, n):\n",
        "    tmp <- a[i]를 넣습니다.\n",
        "    tmp를 a[0], ... , a[i-1] 의 알맞은 위치에 삽입"
      ]
    },
    {
      "cell_type": "code",
      "execution_count": null,
      "metadata": {
        "id": "TlONO_9REXMX"
      },
      "outputs": [],
      "source": [
        "# 단순 삽입 정렬 알고리즘 pseudo code\n",
        "\n",
        "for i in range(1, n):\n",
        "    j = i\n",
        "    tmp = a[i]\n",
        "    while j > 0 and a[j-1] > tmp:\n",
        "        a[j] = a[j-1]\n",
        "        j -= 1\n",
        "    a[j] = tmp"
      ]
    },
    {
      "cell_type": "code",
      "execution_count": null,
      "metadata": {
        "id": "f8a737fpEXMX"
      },
      "outputs": [],
      "source": [
        "# 단순 삽입 정렬\n",
        "\n",
        "def insertion_sort(a):\n",
        "    n = len(a)\n",
        "    for i in range(1, n):\n",
        "        j = i\n",
        "        tmp = a[i]\n",
        "        while j > 0 and a[j-1] > tmp:\n",
        "            a[j] = a[j-1]\n",
        "            j -= 1\n",
        "        a[j] = tmp"
      ]
    },
    {
      "cell_type": "code",
      "execution_count": null,
      "metadata": {
        "id": "jq0tW3GvEXMX",
        "outputId": "4e917781-b231-4bbf-ba19-6195f7c35862"
      },
      "outputs": [
        {
          "name": "stdout",
          "output_type": "stream",
          "text": [
            "단순 선택 정렬을 수행합니다.\n",
            "원소 수를 입력하세요.: 7\n",
            "x[0]값을 입력하세요.: 6\n",
            "x[1]값을 입력하세요.: 4\n",
            "x[2]값을 입력하세요.: 3\n",
            "x[3]값을 입력하세요.: 7\n",
            "x[4]값을 입력하세요.: 1\n",
            "x[5]값을 입력하세요.: 9\n",
            "x[6]값을 입력하세요.: 8\n",
            "오름차순으로 정렬했습니다.\n",
            "[1, 3, 4, 6, 7, 8, 9]\n"
          ]
        }
      ],
      "source": [
        "print('단순 삽입 정렬을 수행합니다.')\n",
        "num = int(input('원소 수를 입력하세요.: '))\n",
        "x = [None] * num # 원소 수가 num인 리스트를 생성\n",
        "\n",
        "for i in range(num):\n",
        "    x[i] = int(input(f'x[{i}]값을 입력하세요.: '))\n",
        "\n",
        "insertion_sort(x)\n",
        "\n",
        "print('오름차순으로 정렬했습니다.')\n",
        "print(x)"
      ]
    },
    {
      "cell_type": "markdown",
      "metadata": {
        "id": "w-cnu_kmEXMY"
      },
      "source": [
        "## 실습 1"
      ]
    },
    {
      "cell_type": "code",
      "execution_count": null,
      "metadata": {
        "colab": {
          "base_uri": "https://localhost:8080/"
        },
        "id": "C6ehTXjvEXMY",
        "outputId": "7f0bfcc1-4230-4488-b945-ca7f222de1f2"
      },
      "outputs": [
        {
          "output_type": "stream",
          "name": "stdout",
          "text": [
            "버블 정렬을 수행합니다.\n",
            "원소 수를 입력하세요.: 7\n",
            "x[0]값을 입력하세요.: 6\n",
            "x[1]값을 입력하세요.: 4\n",
            "x[2]값을 입력하세요.: 3\n",
            "x[3]값을 입력하세요.: 7\n",
            "x[4]값을 입력하세요.: 6\n",
            "x[5]값을 입력하세요.: 8\n",
            "x[6]값을 입력하세요.: 1\n",
            "패스 1\n",
            " 6  4  3  7  6  8 + 1\n",
            " 6  4  3  7  6 + 1  8\n",
            " 6  4  3  7 + 1  6  8\n",
            " 6  4  3 + 1  7  6  8\n",
            " 6  4 + 1  3  7  6  8\n",
            " 6 + 1  4  3  7  6  8\n",
            " 1  6  4  3  7  6  8\n",
            "패스 2\n",
            " 1  6  4  3  7  6 - 8\n",
            " 1  6  4  3  7 + 6  8\n",
            " 1  6  4  3 - 6  7  8\n",
            " 1  6  4 + 3  6  7  8\n",
            " 1  6 + 3  4  6  7  8\n",
            " 1  3  6  4  6  7  8\n",
            "패스 3\n",
            " 1  3  6  4  6  7 - 8\n",
            " 1  3  6  4  6 - 7  8\n",
            " 1  3  6  4 - 6  7  8\n",
            " 1  3  6 + 4  6  7  8\n",
            " 1  3  4  6  6  7  8\n",
            "패스 4\n",
            " 1  3  4  6  6  7 - 8\n",
            " 1  3  4  6  6 - 7  8\n",
            " 1  3  4  6 - 6  7  8\n",
            " 1  3  4  6  6  7  8\n",
            "비교를 18번 했습니다\n",
            "교환을 10번 했습니다\n",
            "오름차순으로 정렬했습니다.\n",
            "[1, 3, 4, 6, 6, 7, 8]\n"
          ]
        }
      ],
      "source": [
        "def bubble_sort_trace(a):\n",
        "    ccnt = 0 # 비교 횟수\n",
        "    scnt = 0 # 교환 횟수\n",
        "    n = len(a)\n",
        "    for i in range(n-1):\n",
        "        print(f'패스 {i+1}') # 패스 번호 출력\n",
        "        exchange = 0\n",
        "        for j in range(n-1,i,-1):\n",
        "            for m in range(0, n-1): # 원소값과 교환 여부 출력\n",
        "                print(f'{a[m]:2}' + (' ' if m != j - 1 else\n",
        "                                     ' +' if a[j-1] > a[j] else ' -'),\n",
        "                                     end='')\n",
        "            print(f'{a[n-1]:2}')\n",
        "                \n",
        "            ccnt += 1\n",
        "            if a[j-1] > a[j]:\n",
        "                scnt += 1\n",
        "                a[j-1], a[j] = a[j], a[j-1]\n",
        "                exchange += 1\n",
        "\n",
        "        for m in range(0, n-1):\n",
        "            print(f'{a[m]:2}', end=' ')\n",
        "        print(f'{a[n-1]:2}')\n",
        "\n",
        "        if exchange == 0:\n",
        "          break\n",
        "        \n",
        "    print(f'비교를 {ccnt}번 했습니다')\n",
        "    print(f'교환을 {scnt}번 했습니다')\n",
        "\n",
        "print('버블 정렬을 수행합니다.')\n",
        "num = int(input('원소 수를 입력하세요.: '))\n",
        "x = [None] * num # 원소 수가 num인 리스트를 생성\n",
        "\n",
        "for i in range(num):\n",
        "    x[i] = int(input(f'x[{i}]값을 입력하세요.: '))\n",
        "\n",
        "bubble_sort_trace(x)\n",
        "\n",
        "print('오름차순으로 정렬했습니다.')\n",
        "print(x)"
      ]
    },
    {
      "cell_type": "markdown",
      "metadata": {
        "id": "WhXX7Z_aEXMY"
      },
      "source": [
        "## 실습 2"
      ]
    },
    {
      "cell_type": "code",
      "execution_count": null,
      "metadata": {
        "colab": {
          "base_uri": "https://localhost:8080/"
        },
        "id": "yxKSoADuEXMY",
        "outputId": "5118c5c1-53ea-4727-b123-2b7ed75bab41"
      },
      "outputs": [
        {
          "output_type": "stream",
          "name": "stdout",
          "text": [
            "버블 정렬을 수행합니다.\n",
            "원소 수를 입력하세요.: 5\n",
            "x[0]값을 입력하세요.: 5\n",
            "x[1]값을 입력하세요.: 1\n",
            "x[2]값을 입력하세요.: 2\n",
            "x[3]값을 입력하세요.: 4\n",
            "x[4]값을 입력하세요.: 3\n",
            "패스 1\n",
            " 5  1  2  4 + 3\n",
            " 5  1  2 - 3  4\n",
            " 5  1 - 2  3  4\n",
            " 5 + 1  2  3  4\n",
            " 1  5  2  3  4\n",
            "패스 2\n",
            " 1  5  2  3 - 4\n",
            " 1  5  2 - 3  4\n",
            " 1  5 + 2  3  4\n",
            " 1  2  5  3  4\n",
            "패스 3\n",
            " 1  2  5  3 - 4\n",
            " 1  2  5 + 3  4\n",
            " 1  2  3  5  4\n",
            "패스 4\n",
            " 1  2  3  5 + 4\n",
            " 1  2  3  4  5\n",
            "비교를 10번 했습니다\n",
            "교환을 5번 했습니다\n",
            "오름차순으로 정렬했습니다.\n",
            "[1, 2, 3, 4, 5]\n"
          ]
        }
      ],
      "source": [
        "def bubble_sort_trace(a):\n",
        "    ccnt = 0 # 비교 횟수\n",
        "    scnt = 0 # 교환 횟수\n",
        "    n = len(a)\n",
        "    k = 0\n",
        "    i = 0\n",
        "    while k < n-1:\n",
        "        print(f'패스 {i+1}') # 패스 번호 출력\n",
        "\n",
        "        for j in range(n-1,i,-1):\n",
        "            for m in range(0, n-1): # 원소값과 교환 여부 출력\n",
        "                print(f'{a[m]:2}' + (' ' if m != j - 1 else\n",
        "                                    ' +' if a[j-1] > a[j] else ' -'),\n",
        "                                    end='')\n",
        "            \n",
        "            print(f'{a[n-1]:2}')    \n",
        "              \n",
        "            ccnt += 1\n",
        "            if a[j-1] > a[j]:\n",
        "                scnt += 1\n",
        "                a[j-1], a[j] = a[j], a[j-1]\n",
        "                last = j\n",
        "        k = last\n",
        "        i += 1\n",
        "\n",
        "        for m in range(0, n-1):\n",
        "            print(f'{a[m]:2}', end=' ')\n",
        "        print(f'{a[n-1]:2}')\n",
        "      \n",
        "    print(f'비교를 {ccnt}번 했습니다')\n",
        "    print(f'교환을 {scnt}번 했습니다')\n",
        "\n",
        "print('버블 정렬을 수행합니다.')\n",
        "num = int(input('원소 수를 입력하세요.: '))\n",
        "x = [None] * num # 원소 수가 num인 리스트를 생성\n",
        "\n",
        "for i in range(num):\n",
        "    x[i] = int(input(f'x[{i}]값을 입력하세요.: '))\n",
        "\n",
        "bubble_sort_trace(x)\n",
        "\n",
        "print('오름차순으로 정렬했습니다.')\n",
        "print(x)"
      ]
    },
    {
      "cell_type": "markdown",
      "metadata": {
        "id": "hSNzyO7oEXMZ"
      },
      "source": [
        "## 실습 3"
      ]
    },
    {
      "cell_type": "code",
      "execution_count": null,
      "metadata": {
        "id": "wXSiqcAuEXMZ"
      },
      "outputs": [],
      "source": [
        "# 실습 1, 2로 대체"
      ]
    },
    {
      "cell_type": "markdown",
      "metadata": {
        "id": "lcfsuOmnEXMZ"
      },
      "source": [
        "## 실습 4"
      ]
    },
    {
      "cell_type": "markdown",
      "metadata": {
        "id": "BarAfQKqEXMZ"
      },
      "source": [
        "### Q) 단순 선택 정렬의 진행 내용을 출력하라."
      ]
    },
    {
      "cell_type": "code",
      "execution_count": null,
      "metadata": {
        "colab": {
          "base_uri": "https://localhost:8080/"
        },
        "id": "xIUhjBcAEXMZ",
        "outputId": "8c93ce4c-0803-4f50-9ecf-f7cc3a3b3c22"
      },
      "outputs": [
        {
          "output_type": "stream",
          "name": "stdout",
          "text": [
            "단순 선택 정렬을 수행합니다.\n",
            "원소 수를 입력하세요.: 4\n",
            "x[0]값을 입력하세요.: 4\n",
            "x[1]값을 입력하세요.: 1\n",
            "x[2]값을 입력하세요.: 3\n",
            "x[3]값을 입력하세요.: 2\n",
            "  4 (1)   3  2\n",
            "  1  4  3 (2) \n",
            "  1  2 (3)   4\n",
            "  1  2  3  4\n",
            "오름차순으로 정렬했습니다.\n",
            "[1, 2, 3, 4]\n"
          ]
        }
      ],
      "source": [
        "# 단순 선택 정렬\n",
        "\n",
        "def selection_sort(a):\n",
        "    n = len(a)\n",
        "    for i in range(n - 1):\n",
        "        min = i\n",
        "        for j in range(i + 1, n):\n",
        "            if a[j] < a[min]:\n",
        "                min = j\n",
        "        for m in range(n):\n",
        "          if m == min:\n",
        "            print(' ('+f'{a[m]:1}'+') ',end='')\n",
        "          else:\n",
        "            print(f'{a[m]:3}',end='')\n",
        "        print()\n",
        "\n",
        "        a[i], a[min] = a[min], a[i]\n",
        "\n",
        "    for m in range(n):\n",
        "      print(f'{a[m]:3}',end='')\n",
        "    print()\n",
        "\n",
        "print('단순 선택 정렬을 수행합니다.')\n",
        "num = int(input('원소 수를 입력하세요.: '))\n",
        "x = [None] * num # 원소 수가 num인 리스트를 생성\n",
        "\n",
        "for i in range(num):\n",
        "    x[i] = int(input(f'x[{i}]값을 입력하세요.: '))\n",
        "\n",
        "selection_sort(x)\n",
        "\n",
        "print('오름차순으로 정렬했습니다.')\n",
        "print(x)"
      ]
    },
    {
      "cell_type": "markdown",
      "metadata": {
        "id": "1M56mmTEEXMa"
      },
      "source": [
        "## 실습 5\n",
        "### Q) 단순 선택 정렬을 내림차순으로 정렬하게 변경하여라."
      ]
    },
    {
      "cell_type": "code",
      "execution_count": null,
      "metadata": {
        "id": "9VWN0PSNEXMa",
        "colab": {
          "base_uri": "https://localhost:8080/"
        },
        "outputId": "52fa6ffb-47d7-406a-ad56-2e287cc99956"
      },
      "outputs": [
        {
          "output_type": "stream",
          "name": "stdout",
          "text": [
            "단순 선택 정렬을 수행합니다.\n",
            "원소 수를 입력하세요.: 4\n",
            "x[0]값을 입력하세요.: 1\n",
            "x[1]값을 입력하세요.: 3\n",
            "x[2]값을 입력하세요.: 2\n",
            "x[3]값을 입력하세요.: 4\n",
            "내림차순으로 정렬했습니다.\n",
            "[4, 3, 2, 1]\n"
          ]
        }
      ],
      "source": [
        "# 단순 선택 정렬\n",
        "\n",
        "def selection_sort(a):\n",
        "    n = len(a)\n",
        "    for i in range(n - 1):\n",
        "        max = i\n",
        "        for j in range(i + 1, n):\n",
        "            if a[j] > a[max]:\n",
        "                max = j\n",
        "        a[i], a[max] = a[max], a[i]\n",
        "\n",
        "    # n = len(a)\n",
        "    # for i in range(n-1,-1,-1):\n",
        "    #   min = i\n",
        "    #   for j in range(i-1,-1,-1):\n",
        "    #     if a[j]<a[min]:\n",
        "    #       min = j\n",
        "    #   a[i], a[min] = a[min], a[i]\n",
        "\n",
        "print('단순 선택 정렬을 수행합니다.')\n",
        "num = int(input('원소 수를 입력하세요.: '))\n",
        "x = [None] * num # 원소 수가 num인 리스트를 생성\n",
        "\n",
        "for i in range(num):\n",
        "    x[i] = int(input(f'x[{i}]값을 입력하세요.: '))\n",
        "\n",
        "selection_sort(x)\n",
        "\n",
        "print('내림차순으로 정렬했습니다.')\n",
        "print(x)"
      ]
    },
    {
      "cell_type": "markdown",
      "metadata": {
        "id": "yd9VOR0qEXMc"
      },
      "source": [
        "## 실습 6\n",
        "### Q) 단순 삽입 정렬을 내림차순으로 정렬하게 변경하라."
      ]
    },
    {
      "cell_type": "code",
      "execution_count": null,
      "metadata": {
        "id": "QRPHLaNAEXMc",
        "colab": {
          "base_uri": "https://localhost:8080/"
        },
        "outputId": "ce104903-fd61-4627-f860-d13f2cb3a25f"
      },
      "outputs": [
        {
          "output_type": "stream",
          "name": "stdout",
          "text": [
            "단순 삽입 정렬을 수행합니다.\n",
            "원소 수를 입력하세요.: 4\n",
            "x[0]값을 입력하세요.: 1\n",
            "x[1]값을 입력하세요.: 4\n",
            "x[2]값을 입력하세요.: 3\n",
            "x[3]값을 입력하세요.: 2\n",
            "내림차순으로 정렬했습니다.\n",
            "[4, 3, 2, 1]\n"
          ]
        }
      ],
      "source": [
        "# 단순 삽입 정렬\n",
        "\n",
        "def insertion_sort(a):\n",
        "    n = len(a)\n",
        "    for i in range(1, n):\n",
        "        j = i\n",
        "        tmp = a[i]\n",
        "        while j > 0 and a[j-1] < tmp:\n",
        "            a[j] = a[j-1]\n",
        "            j -= 1\n",
        "        a[j] = tmp\n",
        "\n",
        "print('단순 삽입 정렬을 수행합니다.')\n",
        "num = int(input('원소 수를 입력하세요.: '))\n",
        "x = [None] * num # 원소 수가 num인 리스트를 생성\n",
        "\n",
        "for i in range(num):\n",
        "    x[i] = int(input(f'x[{i}]값을 입력하세요.: '))\n",
        "\n",
        "insertion_sort(x)\n",
        "\n",
        "print('내림차순으로 정렬했습니다.')\n",
        "print(x)"
      ]
    }
  ],
  "metadata": {
    "kernelspec": {
      "display_name": "Python 3",
      "language": "python",
      "name": "python3"
    },
    "language_info": {
      "codemirror_mode": {
        "name": "ipython",
        "version": 3
      },
      "file_extension": ".py",
      "mimetype": "text/x-python",
      "name": "python",
      "nbconvert_exporter": "python",
      "pygments_lexer": "ipython3",
      "version": "3.8.8"
    },
    "colab": {
      "name": "Chapter3-Sort-Q.ipynb",
      "provenance": []
    }
  },
  "nbformat": 4,
  "nbformat_minor": 0
}