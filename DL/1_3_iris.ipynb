{
  "nbformat": 4,
  "nbformat_minor": 0,
  "metadata": {
    "colab": {
      "name": "1_3_iris.ipynb",
      "provenance": [],
      "collapsed_sections": []
    },
    "kernelspec": {
      "name": "python3",
      "display_name": "Python 3"
    }
  },
  "cells": [
    {
      "cell_type": "markdown",
      "metadata": {
        "id": "P2n_mLirFD6s"
      },
      "source": [
        "# 멀티클래스 분류 연습 (over 2진분류)\n",
        "\n",
        "![iris_flower](https://media.istockphoto.com/photos/purple-iris-flowers-picture-id974833780?k=6&m=974833780&s=612x612&w=0&h=xANkJjTqlLuJUMLE0qNXjRUqXtr3b428xFm0IgZW8Kc=)"
      ]
    },
    {
      "cell_type": "code",
      "metadata": {
        "id": "k-kIj84JQdd3"
      },
      "source": [
        "from sklearn.datasets import load_iris"
      ],
      "execution_count": 1,
      "outputs": []
    },
    {
      "cell_type": "code",
      "metadata": {
        "id": "1F1kZLpEQof_"
      },
      "source": [
        "iris = load_iris()"
      ],
      "execution_count": 2,
      "outputs": []
    },
    {
      "cell_type": "code",
      "metadata": {
        "id": "4uNPvbD_QyUh"
      },
      "source": [
        "x = iris.data\n",
        "y = iris.target"
      ],
      "execution_count": 3,
      "outputs": []
    },
    {
      "cell_type": "code",
      "metadata": {
        "id": "6DfGrWUsQ3WC",
        "colab": {
          "base_uri": "https://localhost:8080/"
        },
        "outputId": "f3625b04-f1df-4fdf-fa2d-b84d8b11dfe2"
      },
      "source": [
        "x.shape, y.shape"
      ],
      "execution_count": 4,
      "outputs": [
        {
          "output_type": "execute_result",
          "data": {
            "text/plain": [
              "((150, 4), (150,))"
            ]
          },
          "metadata": {},
          "execution_count": 4
        }
      ]
    },
    {
      "cell_type": "code",
      "metadata": {
        "id": "TNVycVIzQ4gl",
        "colab": {
          "base_uri": "https://localhost:8080/"
        },
        "outputId": "98eeaa18-b74f-4b38-b442-4294964f66bf"
      },
      "source": [
        "y"
      ],
      "execution_count": 5,
      "outputs": [
        {
          "output_type": "execute_result",
          "data": {
            "text/plain": [
              "array([0, 0, 0, 0, 0, 0, 0, 0, 0, 0, 0, 0, 0, 0, 0, 0, 0, 0, 0, 0, 0, 0,\n",
              "       0, 0, 0, 0, 0, 0, 0, 0, 0, 0, 0, 0, 0, 0, 0, 0, 0, 0, 0, 0, 0, 0,\n",
              "       0, 0, 0, 0, 0, 0, 1, 1, 1, 1, 1, 1, 1, 1, 1, 1, 1, 1, 1, 1, 1, 1,\n",
              "       1, 1, 1, 1, 1, 1, 1, 1, 1, 1, 1, 1, 1, 1, 1, 1, 1, 1, 1, 1, 1, 1,\n",
              "       1, 1, 1, 1, 1, 1, 1, 1, 1, 1, 1, 1, 2, 2, 2, 2, 2, 2, 2, 2, 2, 2,\n",
              "       2, 2, 2, 2, 2, 2, 2, 2, 2, 2, 2, 2, 2, 2, 2, 2, 2, 2, 2, 2, 2, 2,\n",
              "       2, 2, 2, 2, 2, 2, 2, 2, 2, 2, 2, 2, 2, 2, 2, 2, 2, 2])"
            ]
          },
          "metadata": {},
          "execution_count": 5
        }
      ]
    },
    {
      "cell_type": "code",
      "metadata": {
        "id": "98EdXISnGlOB",
        "colab": {
          "base_uri": "https://localhost:8080/"
        },
        "outputId": "867fab77-a6e9-4eb0-805b-5924d20a50b8"
      },
      "source": [
        "iris.target_names"
      ],
      "execution_count": 6,
      "outputs": [
        {
          "output_type": "execute_result",
          "data": {
            "text/plain": [
              "array(['setosa', 'versicolor', 'virginica'], dtype='<U10')"
            ]
          },
          "metadata": {},
          "execution_count": 6
        }
      ]
    },
    {
      "cell_type": "code",
      "metadata": {
        "id": "14BEVhH1RLF9"
      },
      "source": [
        "# One-Hot Encoding\n",
        "from tensorflow.keras.utils import to_categorical"
      ],
      "execution_count": 10,
      "outputs": []
    },
    {
      "cell_type": "code",
      "metadata": {
        "id": "8KsxiLIITAsY"
      },
      "source": [
        "y = to_categorical(y, 3)"
      ],
      "execution_count": 8,
      "outputs": []
    },
    {
      "cell_type": "code",
      "metadata": {
        "id": "EnZVKiLRRuA8",
        "colab": {
          "base_uri": "https://localhost:8080/"
        },
        "outputId": "ac50e0e4-d274-4bfc-e3d6-a441bc2aae01"
      },
      "source": [
        "x.shape, y.shape"
      ],
      "execution_count": 9,
      "outputs": [
        {
          "output_type": "execute_result",
          "data": {
            "text/plain": [
              "((150, 4), (150, 3))"
            ]
          },
          "metadata": {},
          "execution_count": 9
        }
      ]
    },
    {
      "cell_type": "markdown",
      "metadata": {
        "id": "MnwReDCpTTMP"
      },
      "source": [
        "# 1번. Sequential API style로 모델링 하세요\n",
        "\n",
        "    loss = 'categorical_crossentropy' 사용!"
      ]
    },
    {
      "cell_type": "code",
      "metadata": {
        "id": "BS1dDAJITXPT"
      },
      "source": [
        "# 라이브러리 불러오기\n",
        "import tensorflow as tf\n",
        "from tensorflow import keras\n",
        "\n",
        "# 모델링: Sequential API\n",
        "\n",
        "# 1. 세션 클리어\n",
        "keras.backend.clear_session()\n",
        "\n",
        "# 2. 모델 선언\n",
        "model = keras.models.Sequential()\n",
        "\n",
        "# 3. 레이어 블록 조립\n",
        "model.add(keras.layers.Input(shape=(4,)))\n",
        "model.add(keras.layers.Dense(3, activation='softmax'))\n",
        "\n",
        "# 4. 컴파일\n",
        "model.compile(loss='categorical_crossentropy', optimizer='adam', metrics=['accuracy'])"
      ],
      "execution_count": 19,
      "outputs": []
    },
    {
      "cell_type": "code",
      "source": [
        "model.summary()\n",
        "tf.keras.utils.plot_model(model, show_shapes=True)"
      ],
      "metadata": {
        "colab": {
          "base_uri": "https://localhost:8080/",
          "height": 392
        },
        "id": "hd7mi5lyoyVk",
        "outputId": "58fab3d6-2d1d-4801-8454-ada645f4c1a4"
      },
      "execution_count": 15,
      "outputs": [
        {
          "output_type": "stream",
          "name": "stdout",
          "text": [
            "Model: \"sequential\"\n",
            "_________________________________________________________________\n",
            " Layer (type)                Output Shape              Param #   \n",
            "=================================================================\n",
            " dense (Dense)               (None, 3)                 15        \n",
            "                                                                 \n",
            "=================================================================\n",
            "Total params: 15\n",
            "Trainable params: 15\n",
            "Non-trainable params: 0\n",
            "_________________________________________________________________\n"
          ]
        },
        {
          "output_type": "execute_result",
          "data": {
            "image/png": "[encoded data removed]",
            "text/plain": [
              "<IPython.core.display.Image object>"
            ]
          },
          "metadata": {},
          "execution_count": 15
        }
      ]
    },
    {
      "cell_type": "code",
      "metadata": {
        "id": "K-QZKTZr8HZb",
        "colab": {
          "base_uri": "https://localhost:8080/"
        },
        "outputId": "8ced83ed-eed5-485d-d0f3-fb24b7a28f63"
      },
      "source": [
        "model.fit(x, y, epochs=10, verbose=1)"
      ],
      "execution_count": 13,
      "outputs": [
        {
          "output_type": "stream",
          "name": "stdout",
          "text": [
            "Epoch 1/10\n",
            "5/5 [==============================] - 1s 7ms/step - loss: 2.5526 - accuracy: 0.6267\n",
            "Epoch 2/10\n",
            "5/5 [==============================] - 0s 7ms/step - loss: 2.4879 - accuracy: 0.6400\n",
            "Epoch 3/10\n",
            "5/5 [==============================] - 0s 10ms/step - loss: 2.4268 - accuracy: 0.6467\n",
            "Epoch 4/10\n",
            "5/5 [==============================] - 0s 6ms/step - loss: 2.3672 - accuracy: 0.6667\n",
            "Epoch 5/10\n",
            "5/5 [==============================] - 0s 6ms/step - loss: 2.3064 - accuracy: 0.6667\n",
            "Epoch 6/10\n",
            "5/5 [==============================] - 0s 4ms/step - loss: 2.2488 - accuracy: 0.6667\n",
            "Epoch 7/10\n",
            "5/5 [==============================] - 0s 22ms/step - loss: 2.1917 - accuracy: 0.6667\n",
            "Epoch 8/10\n",
            "5/5 [==============================] - 0s 10ms/step - loss: 2.1354 - accuracy: 0.6667\n",
            "Epoch 9/10\n",
            "5/5 [==============================] - 0s 7ms/step - loss: 2.0806 - accuracy: 0.6667\n",
            "Epoch 10/10\n",
            "5/5 [==============================] - 0s 8ms/step - loss: 2.0282 - accuracy: 0.6667\n"
          ]
        },
        {
          "output_type": "execute_result",
          "data": {
            "text/plain": [
              "<keras.callbacks.History at 0x7f0a463f6e10>"
            ]
          },
          "metadata": {},
          "execution_count": 13
        }
      ]
    },
    {
      "cell_type": "code",
      "source": [
        "y_pred = model.predict(x)"
      ],
      "metadata": {
        "id": "wpNCAKYRk69J"
      },
      "execution_count": 14,
      "outputs": []
    },
    {
      "cell_type": "code",
      "source": [
        "y_pred[:5]"
      ],
      "metadata": {
        "colab": {
          "base_uri": "https://localhost:8080/"
        },
        "id": "5ypp6l5Qo5UA",
        "outputId": "7b29eed2-a7b4-4383-9254-d37ee65de8e7"
      },
      "execution_count": 16,
      "outputs": [
        {
          "output_type": "execute_result",
          "data": {
            "text/plain": [
              "array([[0.7888691 , 0.0304503 , 0.1806806 ],\n",
              "       [0.72369057, 0.03865166, 0.23765776],\n",
              "       [0.7589163 , 0.03835605, 0.20272762],\n",
              "       [0.70953363, 0.04104023, 0.24942616],\n",
              "       [0.7968773 , 0.03028892, 0.17283374]], dtype=float32)"
            ]
          },
          "metadata": {},
          "execution_count": 16
        }
      ]
    },
    {
      "cell_type": "code",
      "source": [
        "y[:5]"
      ],
      "metadata": {
        "colab": {
          "base_uri": "https://localhost:8080/"
        },
        "id": "ISuVQzeZo7TW",
        "outputId": "03aac81e-b20f-403b-81f6-c013ac671704"
      },
      "execution_count": 17,
      "outputs": [
        {
          "output_type": "execute_result",
          "data": {
            "text/plain": [
              "array([[1., 0., 0.],\n",
              "       [1., 0., 0.],\n",
              "       [1., 0., 0.],\n",
              "       [1., 0., 0.],\n",
              "       [1., 0., 0.]], dtype=float32)"
            ]
          },
          "metadata": {},
          "execution_count": 17
        }
      ]
    },
    {
      "cell_type": "markdown",
      "metadata": {
        "id": "-20qo3crbLy8"
      },
      "source": [
        "# 2번. Functional API style로 모델링 하세요"
      ]
    },
    {
      "cell_type": "code",
      "metadata": {
        "id": "5aVZkBukdQ8u"
      },
      "source": [
        "x.shape, y.shape"
      ],
      "execution_count": null,
      "outputs": []
    },
    {
      "cell_type": "code",
      "metadata": {
        "id": "YaAA7ytbbOlQ"
      },
      "source": [
        ""
      ],
      "execution_count": null,
      "outputs": []
    },
    {
      "cell_type": "code",
      "metadata": {
        "id": "NNl2wE-3eJ3u"
      },
      "source": [
        ""
      ],
      "execution_count": null,
      "outputs": []
    }
  ]
}