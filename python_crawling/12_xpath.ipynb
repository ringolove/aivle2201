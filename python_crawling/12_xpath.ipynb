{
 "cells": [
  {
   "cell_type": "code",
   "execution_count": null,
   "metadata": {},
   "outputs": [],
   "source": [
    "# xpath: css-selector와 같이 엘리먼트를 선택하는 문법"
   ]
  },
  {
   "cell_type": "code",
   "execution_count": 1,
   "metadata": {},
   "outputs": [],
   "source": [
    "# !pip install scrapy"
   ]
  },
  {
   "cell_type": "code",
   "execution_count": 12,
   "metadata": {},
   "outputs": [],
   "source": [
    "import requests\n",
    "from scrapy.http import TextResponse\n",
    "url = \"https://search.naver.com/search.naver?query=삼성전자\""
   ]
  },
  {
   "cell_type": "code",
   "execution_count": 13,
   "metadata": {},
   "outputs": [],
   "source": [
    "req = requests.get(url)\n",
    "response = TextResponse(req.url, body=req.text, encoding=\"utf-8\")\n",
    "# dom = BeautifulSoup(response.text, \"html.parser\")"
   ]
  },
  {
   "cell_type": "code",
   "execution_count": 7,
   "metadata": {},
   "outputs": [],
   "source": [
    "# 1. elements 선택 > 2. element에서 데이터 추출\n",
    "# //*[@id=\"nx_right_related_keywords\"]/div/div[2]/ul/li[1]/a/div\n",
    "\n",
    "# //: 최상위 엘리먼트\n",
    "# *: 모든 하위 엘리먼트 ex) .wrap span\n",
    "# [@id=\"nx_right_related_keywords\"]: 속성값으로 검색 후 선택\n",
    "# /: 한 단계 하위 엘리먼트\n",
    "# [2]: nth-child(2)와 동일"
   ]
  },
  {
   "cell_type": "code",
   "execution_count": 15,
   "metadata": {},
   "outputs": [
    {
     "data": {
      "text/plain": [
       "['삼성전자 주가',\n",
       " '삼성전자 배당금',\n",
       " '삼성전자 주식',\n",
       " '삼성전자 특별보너스',\n",
       " '삼성전자 배당금 지급일',\n",
       " '오늘 삼성전자 주가',\n",
       " '삼성전자 성과급',\n",
       " '삼성 전자레인지',\n",
       " '삼성전자 채용',\n",
       " '삼성전자 보너스']"
      ]
     },
     "execution_count": 15,
     "metadata": {},
     "output_type": "execute_result"
    }
   ],
   "source": [
    "# xpath는 결과가 항상 list로 return\n",
    "response.xpath('//*[@id=\"nx_right_related_keywords\"]/div/div[2]/ul/li/a/div/text()').extract()"
   ]
  },
  {
   "cell_type": "code",
   "execution_count": null,
   "metadata": {},
   "outputs": [],
   "source": []
  }
 ],
 "metadata": {
  "interpreter": {
   "hash": "6d88e6a86dad8dc767a58725cb179de8adcebd7d752e6f8f503c296f5f3a51f1"
  },
  "kernelspec": {
   "display_name": "Python 3.10.0 64-bit",
   "language": "python",
   "name": "python3"
  },
  "language_info": {
   "codemirror_mode": {
    "name": "ipython",
    "version": 3
   },
   "file_extension": ".py",
   "mimetype": "text/x-python",
   "name": "python",
   "nbconvert_exporter": "python",
   "pygments_lexer": "ipython3",
   "version": "3.10.0"
  },
  "orig_nbformat": 4
 },
 "nbformat": 4,
 "nbformat_minor": 2
}
