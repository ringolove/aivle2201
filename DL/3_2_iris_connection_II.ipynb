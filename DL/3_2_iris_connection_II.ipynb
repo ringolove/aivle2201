{
  "cells": [
    {
      "cell_type": "markdown",
      "metadata": {
        "id": "JR8jlMMPdIn8"
      },
      "source": [
        "# IRIS - Connection II\n",
        "\n",
        "![Add layer](https://github.com/DrKAI/image/blob/main/Add%20Layer.png?raw=true)"
      ]
    },
    {
      "cell_type": "code",
      "execution_count": 89,
      "metadata": {
        "id": "5Ryk5eNOb4-w"
      },
      "outputs": [],
      "source": [
        "import numpy as np\n",
        "import pandas as pd\n",
        "\n",
        "import tensorflow as tf\n",
        "from tensorflow import keras\n",
        "\n",
        "from sklearn.datasets import load_iris"
      ]
    },
    {
      "cell_type": "markdown",
      "metadata": {
        "id": "Y0a0ns5LXhDt"
      },
      "source": [
        "## 데이터 불러오기\n",
        "* iris.feature_names를 이용하여 판다스 데이터 프레임 만들기!"
      ]
    },
    {
      "cell_type": "code",
      "execution_count": 90,
      "metadata": {
        "id": "ZwstpfJnJj_M",
        "colab": {
          "base_uri": "https://localhost:8080/",
          "height": 206
        },
        "outputId": "2fe11af2-b07b-4108-80ba-3a22d74d56c8"
      },
      "outputs": [
        {
          "output_type": "execute_result",
          "data": {
            "text/plain": [
              "   sepal length (cm)  sepal width (cm)  petal length (cm)  petal width (cm)\n",
              "0                5.1               3.5                1.4               0.2\n",
              "1                4.9               3.0                1.4               0.2\n",
              "2                4.7               3.2                1.3               0.2\n",
              "3                4.6               3.1                1.5               0.2\n",
              "4                5.0               3.6                1.4               0.2"
            ],
            "text/html": [
              "\n",
              "  <div id=\"df-81076b88-554d-4dfd-8543-2a34fdbd6a39\">\n",
              "    <div class=\"colab-df-container\">\n",
              "      <div>\n",
              "<style scoped>\n",
              "    .dataframe tbody tr th:only-of-type {\n",
              "        vertical-align: middle;\n",
              "    }\n",
              "\n",
              "    .dataframe tbody tr th {\n",
              "        vertical-align: top;\n",
              "    }\n",
              "\n",
              "    .dataframe thead th {\n",
              "        text-align: right;\n",
              "    }\n",
              "</style>\n",
              "<table border=\"1\" class=\"dataframe\">\n",
              "  <thead>\n",
              "    <tr style=\"text-align: right;\">\n",
              "      <th></th>\n",
              "      <th>sepal length (cm)</th>\n",
              "      <th>sepal width (cm)</th>\n",
              "      <th>petal length (cm)</th>\n",
              "      <th>petal width (cm)</th>\n",
              "    </tr>\n",
              "  </thead>\n",
              "  <tbody>\n",
              "    <tr>\n",
              "      <th>0</th>\n",
              "      <td>5.1</td>\n",
              "      <td>3.5</td>\n",
              "      <td>1.4</td>\n",
              "      <td>0.2</td>\n",
              "    </tr>\n",
              "    <tr>\n",
              "      <th>1</th>\n",
              "      <td>4.9</td>\n",
              "      <td>3.0</td>\n",
              "      <td>1.4</td>\n",
              "      <td>0.2</td>\n",
              "    </tr>\n",
              "    <tr>\n",
              "      <th>2</th>\n",
              "      <td>4.7</td>\n",
              "      <td>3.2</td>\n",
              "      <td>1.3</td>\n",
              "      <td>0.2</td>\n",
              "    </tr>\n",
              "    <tr>\n",
              "      <th>3</th>\n",
              "      <td>4.6</td>\n",
              "      <td>3.1</td>\n",
              "      <td>1.5</td>\n",
              "      <td>0.2</td>\n",
              "    </tr>\n",
              "    <tr>\n",
              "      <th>4</th>\n",
              "      <td>5.0</td>\n",
              "      <td>3.6</td>\n",
              "      <td>1.4</td>\n",
              "      <td>0.2</td>\n",
              "    </tr>\n",
              "  </tbody>\n",
              "</table>\n",
              "</div>\n",
              "      <button class=\"colab-df-convert\" onclick=\"convertToInteractive('df-81076b88-554d-4dfd-8543-2a34fdbd6a39')\"\n",
              "              title=\"Convert this dataframe to an interactive table.\"\n",
              "              style=\"display:none;\">\n",
              "        \n",
              "  <svg xmlns=\"http://www.w3.org/2000/svg\" height=\"24px\"viewBox=\"0 0 24 24\"\n",
              "       width=\"24px\">\n",
              "    <path d=\"M0 0h24v24H0V0z\" fill=\"none\"/>\n",
              "    <path d=\"M18.56 5.44l.94 2.06.94-2.06 2.06-.94-2.06-.94-.94-2.06-.94 2.06-2.06.94zm-11 1L8.5 8.5l.94-2.06 2.06-.94-2.06-.94L8.5 2.5l-.94 2.06-2.06.94zm10 10l.94 2.06.94-2.06 2.06-.94-2.06-.94-.94-2.06-.94 2.06-2.06.94z\"/><path d=\"M17.41 7.96l-1.37-1.37c-.4-.4-.92-.59-1.43-.59-.52 0-1.04.2-1.43.59L10.3 9.45l-7.72 7.72c-.78.78-.78 2.05 0 2.83L4 21.41c.39.39.9.59 1.41.59.51 0 1.02-.2 1.41-.59l7.78-7.78 2.81-2.81c.8-.78.8-2.07 0-2.86zM5.41 20L4 18.59l7.72-7.72 1.47 1.35L5.41 20z\"/>\n",
              "  </svg>\n",
              "      </button>\n",
              "      \n",
              "  <style>\n",
              "    .colab-df-container {\n",
              "      display:flex;\n",
              "      flex-wrap:wrap;\n",
              "      gap: 12px;\n",
              "    }\n",
              "\n",
              "    .colab-df-convert {\n",
              "      background-color: #E8F0FE;\n",
              "      border: none;\n",
              "      border-radius: 50%;\n",
              "      cursor: pointer;\n",
              "      display: none;\n",
              "      fill: #1967D2;\n",
              "      height: 32px;\n",
              "      padding: 0 0 0 0;\n",
              "      width: 32px;\n",
              "    }\n",
              "\n",
              "    .colab-df-convert:hover {\n",
              "      background-color: #E2EBFA;\n",
              "      box-shadow: 0px 1px 2px rgba(60, 64, 67, 0.3), 0px 1px 3px 1px rgba(60, 64, 67, 0.15);\n",
              "      fill: #174EA6;\n",
              "    }\n",
              "\n",
              "    [theme=dark] .colab-df-convert {\n",
              "      background-color: #3B4455;\n",
              "      fill: #D2E3FC;\n",
              "    }\n",
              "\n",
              "    [theme=dark] .colab-df-convert:hover {\n",
              "      background-color: #434B5C;\n",
              "      box-shadow: 0px 1px 3px 1px rgba(0, 0, 0, 0.15);\n",
              "      filter: drop-shadow(0px 1px 2px rgba(0, 0, 0, 0.3));\n",
              "      fill: #FFFFFF;\n",
              "    }\n",
              "  </style>\n",
              "\n",
              "      <script>\n",
              "        const buttonEl =\n",
              "          document.querySelector('#df-81076b88-554d-4dfd-8543-2a34fdbd6a39 button.colab-df-convert');\n",
              "        buttonEl.style.display =\n",
              "          google.colab.kernel.accessAllowed ? 'block' : 'none';\n",
              "\n",
              "        async function convertToInteractive(key) {\n",
              "          const element = document.querySelector('#df-81076b88-554d-4dfd-8543-2a34fdbd6a39');\n",
              "          const dataTable =\n",
              "            await google.colab.kernel.invokeFunction('convertToInteractive',\n",
              "                                                     [key], {});\n",
              "          if (!dataTable) return;\n",
              "\n",
              "          const docLinkHtml = 'Like what you see? Visit the ' +\n",
              "            '<a target=\"_blank\" href=https://colab.research.google.com/notebooks/data_table.ipynb>data table notebook</a>'\n",
              "            + ' to learn more about interactive tables.';\n",
              "          element.innerHTML = '';\n",
              "          dataTable['output_type'] = 'display_data';\n",
              "          await google.colab.output.renderOutput(dataTable, element);\n",
              "          const docLink = document.createElement('div');\n",
              "          docLink.innerHTML = docLinkHtml;\n",
              "          element.appendChild(docLink);\n",
              "        }\n",
              "      </script>\n",
              "    </div>\n",
              "  </div>\n",
              "  "
            ]
          },
          "metadata": {},
          "execution_count": 90
        }
      ],
      "source": [
        "iris = load_iris()\n",
        "dfx = pd.DataFrame(iris.data, columns=iris.feature_names)\n",
        "y = iris.target\n",
        "dfx.head()"
      ]
    },
    {
      "cell_type": "markdown",
      "metadata": {
        "id": "JQb8AGsxgX9D"
      },
      "source": [
        "## train set, test set 구분하기"
      ]
    },
    {
      "cell_type": "code",
      "execution_count": 91,
      "metadata": {
        "id": "CwSPTbtVJiyi"
      },
      "outputs": [],
      "source": [
        "from sklearn.model_selection import *\n",
        "train_x, test_x, train_y, test_y = train_test_split(dfx, y, test_size=0.2, random_state=2022)"
      ]
    },
    {
      "cell_type": "code",
      "source": [
        "train_x.shape, test_x.shape, train_y.shape, test_y.shape"
      ],
      "metadata": {
        "colab": {
          "base_uri": "https://localhost:8080/"
        },
        "id": "P1CnGQL8SWej",
        "outputId": "e795b6cd-80f9-465f-d787-55da5a8a1679"
      },
      "execution_count": 92,
      "outputs": [
        {
          "output_type": "execute_result",
          "data": {
            "text/plain": [
              "((120, 4), (30, 4), (120,), (30,))"
            ]
          },
          "metadata": {},
          "execution_count": 92
        }
      ]
    },
    {
      "cell_type": "markdown",
      "metadata": {
        "id": "vk5ON1iNgHZv"
      },
      "source": [
        "## **sepal끼리, petal끼리**"
      ]
    },
    {
      "cell_type": "code",
      "execution_count": 93,
      "metadata": {
        "id": "sjhmJMjLJhqq",
        "colab": {
          "base_uri": "https://localhost:8080/"
        },
        "outputId": "21d99dbe-07b0-4a37-c31f-dc3a47bfe254"
      },
      "outputs": [
        {
          "output_type": "execute_result",
          "data": {
            "text/plain": [
              "((120, 2), (120, 2))"
            ]
          },
          "metadata": {},
          "execution_count": 93
        }
      ],
      "source": [
        "train_xs = train_x.loc[:, ['sepal length (cm)', 'sepal width (cm)']]\n",
        "train_xp = train_x.loc[:, ['petal length (cm)', 'petal width (cm)']]\n",
        "test_xs = test_x.loc[:, ['sepal length (cm)', 'sepal width (cm)']]\n",
        "test_xp = test_x.loc[:, ['petal length (cm)', 'petal width (cm)']]\n",
        "\n",
        "train_xs.shape, train_xp.shape"
      ]
    },
    {
      "cell_type": "markdown",
      "metadata": {
        "id": "BubbIvpJmZhX"
      },
      "source": [
        "## One-hot Encoding"
      ]
    },
    {
      "cell_type": "code",
      "execution_count": 94,
      "metadata": {
        "id": "qTUl-T5Hmc8F"
      },
      "outputs": [],
      "source": [
        "from tensorflow.keras.utils import to_categorical\n",
        "y_len = len(set(train_y))"
      ]
    },
    {
      "cell_type": "code",
      "source": [
        "train_y = to_categorical(train_y, y_len)\n",
        "test_y = to_categorical(train_y, y_len)\n",
        "\n",
        "train_y.shape"
      ],
      "metadata": {
        "id": "lEEhFOA6TS9u",
        "colab": {
          "base_uri": "https://localhost:8080/"
        },
        "outputId": "e5044eaf-1f43-4cc5-9a79-5947b423f3f8"
      },
      "execution_count": 95,
      "outputs": [
        {
          "output_type": "execute_result",
          "data": {
            "text/plain": [
              "(120, 3)"
            ]
          },
          "metadata": {},
          "execution_count": 95
        }
      ]
    },
    {
      "cell_type": "markdown",
      "metadata": {
        "id": "KJYhtxM3mc_R"
      },
      "source": [
        "## Modeling : multi-input & Add layer"
      ]
    },
    {
      "cell_type": "code",
      "execution_count": 96,
      "metadata": {
        "id": "5celtavonw75",
        "colab": {
          "base_uri": "https://localhost:8080/"
        },
        "outputId": "99cecd11-d6b3-4430-e5dc-fe7c7d85fe8c"
      },
      "outputs": [
        {
          "output_type": "stream",
          "name": "stdout",
          "text": [
            "Model: \"model\"\n",
            "__________________________________________________________________________________________________\n",
            " Layer (type)                   Output Shape         Param #     Connected to                     \n",
            "==================================================================================================\n",
            " sepal_input (InputLayer)       [(None, 2)]          0           []                               \n",
            "                                                                                                  \n",
            " petal_input (InputLayer)       [(None, 2)]          0           []                               \n",
            "                                                                                                  \n",
            " dense (Dense)                  (None, 4)            12          ['sepal_input[0][0]']            \n",
            "                                                                                                  \n",
            " dense_1 (Dense)                (None, 4)            12          ['petal_input[0][0]']            \n",
            "                                                                                                  \n",
            " add_layer (Add)                (None, 4)            0           ['dense[0][0]',                  \n",
            "                                                                  'dense_1[0][0]']                \n",
            "                                                                                                  \n",
            " dense_2 (Dense)                (None, 3)            15          ['add_layer[0][0]']              \n",
            "                                                                                                  \n",
            "==================================================================================================\n",
            "Total params: 39\n",
            "Trainable params: 39\n",
            "Non-trainable params: 0\n",
            "__________________________________________________________________________________________________\n"
          ]
        }
      ],
      "source": [
        "keras.backend.clear_session()\n",
        "\n",
        "a = keras.layers.Input(shape=(2,), name='sepal_input')\n",
        "hl_s = keras.layers.Dense(4, activation='relu')(a)\n",
        "\n",
        "b = keras.layers.Input(shape=(2,), name='petal_input')\n",
        "hl_p = keras.layers.Dense(4, activation='relu')(b)\n",
        "\n",
        "ad = keras.layers.Add(name='add_layer')([hl_s, hl_p])\n",
        "ol = keras.layers.Dense(3, activation='softmax')(ad)\n",
        "\n",
        "model = keras.models.Model([a, b], ol)\n",
        "\n",
        "model.compile(loss=keras.losses.categorical_crossentropy,\n",
        "              optimizer=keras.optimizers.Adam(), metrics=['accuracy'])\n",
        "model.summary()"
      ]
    },
    {
      "cell_type": "markdown",
      "metadata": {
        "id": "qIg-W5eSWhyc"
      },
      "source": [
        "## 모델 시각화"
      ]
    },
    {
      "cell_type": "code",
      "execution_count": 97,
      "metadata": {
        "id": "22HFw8xavgGI",
        "colab": {
          "base_uri": "https://localhost:8080/",
          "height": 418
        },
        "outputId": "1149856f-f112-4ad0-c319-71a0573bb81b"
      },
      "outputs": [
        {
          "output_type": "execute_result",
          "data": {
            "text/plain": [
              "<IPython.core.display.Image object>"
            ],
            "image/png": "[encoded data removed]"
          },
          "metadata": {},
          "execution_count": 97
        }
      ],
      "source": [
        "keras.utils.plot_model(model, show_shapes=True)"
      ]
    },
    {
      "cell_type": "markdown",
      "metadata": {
        "id": "vuJ7eKLkWnm2"
      },
      "source": [
        "## 학습 시켜보기!"
      ]
    },
    {
      "cell_type": "code",
      "execution_count": 98,
      "metadata": {
        "id": "6g05eHJAJdwg"
      },
      "outputs": [],
      "source": [
        "from tensorflow.keras.callbacks import EarlyStopping\n",
        "es = EarlyStopping(monitor='val_loss', min_delta=0, patience=5, verbose=1, restore_best_weights=True)"
      ]
    },
    {
      "cell_type": "code",
      "source": [
        "model.fit([train_xs, train_xp], train_y, validation_split=0.15, epochs=100, verbose=1, callbacks=[es])"
      ],
      "metadata": {
        "colab": {
          "base_uri": "https://localhost:8080/"
        },
        "id": "JxaOemnaUqIO",
        "outputId": "b2f0fbb5-4a72-4006-95ab-f61c52f8ad93"
      },
      "execution_count": 99,
      "outputs": [
        {
          "output_type": "stream",
          "name": "stdout",
          "text": [
            "Epoch 1/100\n",
            "4/4 [==============================] - 1s 64ms/step - loss: 2.0321 - accuracy: 0.3235 - val_loss: 2.1701 - val_accuracy: 0.2222\n",
            "Epoch 2/100\n",
            "4/4 [==============================] - 0s 15ms/step - loss: 1.9591 - accuracy: 0.3235 - val_loss: 2.0866 - val_accuracy: 0.2222\n",
            "Epoch 3/100\n",
            "4/4 [==============================] - 0s 11ms/step - loss: 1.8830 - accuracy: 0.3235 - val_loss: 2.0084 - val_accuracy: 0.2222\n",
            "Epoch 4/100\n",
            "4/4 [==============================] - 0s 11ms/step - loss: 1.8157 - accuracy: 0.3235 - val_loss: 1.9348 - val_accuracy: 0.2222\n",
            "Epoch 5/100\n",
            "4/4 [==============================] - 0s 10ms/step - loss: 1.7496 - accuracy: 0.3235 - val_loss: 1.8660 - val_accuracy: 0.2222\n",
            "Epoch 6/100\n",
            "4/4 [==============================] - 0s 12ms/step - loss: 1.6902 - accuracy: 0.3235 - val_loss: 1.8008 - val_accuracy: 0.2222\n",
            "Epoch 7/100\n",
            "4/4 [==============================] - 0s 10ms/step - loss: 1.6325 - accuracy: 0.3235 - val_loss: 1.7416 - val_accuracy: 0.2222\n",
            "Epoch 8/100\n",
            "4/4 [==============================] - 0s 12ms/step - loss: 1.5759 - accuracy: 0.3235 - val_loss: 1.6878 - val_accuracy: 0.2222\n",
            "Epoch 9/100\n",
            "4/4 [==============================] - 0s 13ms/step - loss: 1.5305 - accuracy: 0.3235 - val_loss: 1.6382 - val_accuracy: 0.2222\n",
            "Epoch 10/100\n",
            "4/4 [==============================] - 0s 11ms/step - loss: 1.4881 - accuracy: 0.3235 - val_loss: 1.5918 - val_accuracy: 0.2222\n",
            "Epoch 11/100\n",
            "4/4 [==============================] - 0s 12ms/step - loss: 1.4483 - accuracy: 0.3235 - val_loss: 1.5516 - val_accuracy: 0.2222\n",
            "Epoch 12/100\n",
            "4/4 [==============================] - 0s 12ms/step - loss: 1.4129 - accuracy: 0.3235 - val_loss: 1.5163 - val_accuracy: 0.2222\n",
            "Epoch 13/100\n",
            "4/4 [==============================] - 0s 11ms/step - loss: 1.3825 - accuracy: 0.3235 - val_loss: 1.4836 - val_accuracy: 0.2222\n",
            "Epoch 14/100\n",
            "4/4 [==============================] - 0s 11ms/step - loss: 1.3549 - accuracy: 0.3235 - val_loss: 1.4519 - val_accuracy: 0.2222\n",
            "Epoch 15/100\n",
            "4/4 [==============================] - 0s 14ms/step - loss: 1.3289 - accuracy: 0.3235 - val_loss: 1.4220 - val_accuracy: 0.2222\n",
            "Epoch 16/100\n",
            "4/4 [==============================] - 0s 10ms/step - loss: 1.3025 - accuracy: 0.3235 - val_loss: 1.3965 - val_accuracy: 0.2222\n",
            "Epoch 17/100\n",
            "4/4 [==============================] - 0s 13ms/step - loss: 1.2840 - accuracy: 0.3235 - val_loss: 1.3722 - val_accuracy: 0.2222\n",
            "Epoch 18/100\n",
            "4/4 [==============================] - 0s 11ms/step - loss: 1.2659 - accuracy: 0.3235 - val_loss: 1.3502 - val_accuracy: 0.2222\n",
            "Epoch 19/100\n",
            "4/4 [==============================] - 0s 10ms/step - loss: 1.2479 - accuracy: 0.3235 - val_loss: 1.3293 - val_accuracy: 0.2222\n",
            "Epoch 20/100\n",
            "4/4 [==============================] - 0s 11ms/step - loss: 1.2346 - accuracy: 0.3235 - val_loss: 1.3102 - val_accuracy: 0.2222\n",
            "Epoch 21/100\n",
            "4/4 [==============================] - 0s 11ms/step - loss: 1.2191 - accuracy: 0.3137 - val_loss: 1.2946 - val_accuracy: 0.2222\n",
            "Epoch 22/100\n",
            "4/4 [==============================] - 0s 12ms/step - loss: 1.2070 - accuracy: 0.3235 - val_loss: 1.2809 - val_accuracy: 0.2222\n",
            "Epoch 23/100\n",
            "4/4 [==============================] - 0s 11ms/step - loss: 1.1972 - accuracy: 0.3235 - val_loss: 1.2678 - val_accuracy: 0.2222\n",
            "Epoch 24/100\n",
            "4/4 [==============================] - 0s 11ms/step - loss: 1.1870 - accuracy: 0.3137 - val_loss: 1.2566 - val_accuracy: 0.2778\n",
            "Epoch 25/100\n",
            "4/4 [==============================] - 0s 11ms/step - loss: 1.1781 - accuracy: 0.3039 - val_loss: 1.2464 - val_accuracy: 0.3333\n",
            "Epoch 26/100\n",
            "4/4 [==============================] - 0s 11ms/step - loss: 1.1706 - accuracy: 0.2941 - val_loss: 1.2349 - val_accuracy: 0.3333\n",
            "Epoch 27/100\n",
            "4/4 [==============================] - 0s 13ms/step - loss: 1.1615 - accuracy: 0.3039 - val_loss: 1.2261 - val_accuracy: 0.3333\n",
            "Epoch 28/100\n",
            "4/4 [==============================] - 0s 11ms/step - loss: 1.1541 - accuracy: 0.3137 - val_loss: 1.2169 - val_accuracy: 0.3889\n",
            "Epoch 29/100\n",
            "4/4 [==============================] - 0s 13ms/step - loss: 1.1477 - accuracy: 0.2941 - val_loss: 1.2075 - val_accuracy: 0.3889\n",
            "Epoch 30/100\n",
            "4/4 [==============================] - 0s 11ms/step - loss: 1.1411 - accuracy: 0.3235 - val_loss: 1.2000 - val_accuracy: 0.3333\n",
            "Epoch 31/100\n",
            "4/4 [==============================] - 0s 12ms/step - loss: 1.1351 - accuracy: 0.3431 - val_loss: 1.1939 - val_accuracy: 0.3333\n",
            "Epoch 32/100\n",
            "4/4 [==============================] - 0s 11ms/step - loss: 1.1292 - accuracy: 0.3725 - val_loss: 1.1876 - val_accuracy: 0.2222\n",
            "Epoch 33/100\n",
            "4/4 [==============================] - 0s 10ms/step - loss: 1.1236 - accuracy: 0.3922 - val_loss: 1.1805 - val_accuracy: 0.2778\n",
            "Epoch 34/100\n",
            "4/4 [==============================] - 0s 11ms/step - loss: 1.1183 - accuracy: 0.3725 - val_loss: 1.1747 - val_accuracy: 0.3333\n",
            "Epoch 35/100\n",
            "4/4 [==============================] - 0s 11ms/step - loss: 1.1131 - accuracy: 0.4020 - val_loss: 1.1696 - val_accuracy: 0.3333\n",
            "Epoch 36/100\n",
            "4/4 [==============================] - 0s 11ms/step - loss: 1.1081 - accuracy: 0.4020 - val_loss: 1.1644 - val_accuracy: 0.3333\n",
            "Epoch 37/100\n",
            "4/4 [==============================] - 0s 11ms/step - loss: 1.1032 - accuracy: 0.4020 - val_loss: 1.1589 - val_accuracy: 0.3333\n",
            "Epoch 38/100\n",
            "4/4 [==============================] - 0s 12ms/step - loss: 1.0980 - accuracy: 0.4118 - val_loss: 1.1529 - val_accuracy: 0.3333\n",
            "Epoch 39/100\n",
            "4/4 [==============================] - 0s 12ms/step - loss: 1.0931 - accuracy: 0.4118 - val_loss: 1.1464 - val_accuracy: 0.3333\n",
            "Epoch 40/100\n",
            "4/4 [==============================] - 0s 14ms/step - loss: 1.0882 - accuracy: 0.4118 - val_loss: 1.1407 - val_accuracy: 0.3333\n",
            "Epoch 41/100\n",
            "4/4 [==============================] - 0s 11ms/step - loss: 1.0833 - accuracy: 0.4216 - val_loss: 1.1356 - val_accuracy: 0.3333\n",
            "Epoch 42/100\n",
            "4/4 [==============================] - 0s 12ms/step - loss: 1.0785 - accuracy: 0.4216 - val_loss: 1.1311 - val_accuracy: 0.3333\n",
            "Epoch 43/100\n",
            "4/4 [==============================] - 0s 13ms/step - loss: 1.0739 - accuracy: 0.4216 - val_loss: 1.1262 - val_accuracy: 0.3333\n",
            "Epoch 44/100\n",
            "4/4 [==============================] - 0s 11ms/step - loss: 1.0694 - accuracy: 0.4216 - val_loss: 1.1208 - val_accuracy: 0.3333\n",
            "Epoch 45/100\n",
            "4/4 [==============================] - 0s 11ms/step - loss: 1.0646 - accuracy: 0.4314 - val_loss: 1.1159 - val_accuracy: 0.3333\n",
            "Epoch 46/100\n",
            "4/4 [==============================] - 0s 11ms/step - loss: 1.0601 - accuracy: 0.4216 - val_loss: 1.1111 - val_accuracy: 0.3333\n",
            "Epoch 47/100\n",
            "4/4 [==============================] - 0s 11ms/step - loss: 1.0557 - accuracy: 0.4216 - val_loss: 1.1067 - val_accuracy: 0.3333\n",
            "Epoch 48/100\n",
            "4/4 [==============================] - 0s 11ms/step - loss: 1.0513 - accuracy: 0.4314 - val_loss: 1.1022 - val_accuracy: 0.3333\n",
            "Epoch 49/100\n",
            "4/4 [==============================] - 0s 10ms/step - loss: 1.0473 - accuracy: 0.4314 - val_loss: 1.0963 - val_accuracy: 0.3333\n",
            "Epoch 50/100\n",
            "4/4 [==============================] - 0s 11ms/step - loss: 1.0437 - accuracy: 0.3922 - val_loss: 1.0903 - val_accuracy: 0.3333\n",
            "Epoch 51/100\n",
            "4/4 [==============================] - 0s 12ms/step - loss: 1.0392 - accuracy: 0.4020 - val_loss: 1.0859 - val_accuracy: 0.3333\n",
            "Epoch 52/100\n",
            "4/4 [==============================] - 0s 10ms/step - loss: 1.0353 - accuracy: 0.4020 - val_loss: 1.0813 - val_accuracy: 0.3333\n",
            "Epoch 53/100\n",
            "4/4 [==============================] - 0s 12ms/step - loss: 1.0313 - accuracy: 0.4020 - val_loss: 1.0762 - val_accuracy: 0.3333\n",
            "Epoch 54/100\n",
            "4/4 [==============================] - 0s 12ms/step - loss: 1.0275 - accuracy: 0.4020 - val_loss: 1.0718 - val_accuracy: 0.3333\n",
            "Epoch 55/100\n",
            "4/4 [==============================] - 0s 11ms/step - loss: 1.0236 - accuracy: 0.4118 - val_loss: 1.0681 - val_accuracy: 0.3333\n",
            "Epoch 56/100\n",
            "4/4 [==============================] - 0s 15ms/step - loss: 1.0198 - accuracy: 0.4314 - val_loss: 1.0649 - val_accuracy: 0.3333\n",
            "Epoch 57/100\n",
            "4/4 [==============================] - 0s 11ms/step - loss: 1.0161 - accuracy: 0.4314 - val_loss: 1.0612 - val_accuracy: 0.3333\n",
            "Epoch 58/100\n",
            "4/4 [==============================] - 0s 12ms/step - loss: 1.0128 - accuracy: 0.4314 - val_loss: 1.0570 - val_accuracy: 0.3333\n",
            "Epoch 59/100\n",
            "4/4 [==============================] - 0s 12ms/step - loss: 1.0091 - accuracy: 0.4314 - val_loss: 1.0535 - val_accuracy: 0.3333\n",
            "Epoch 60/100\n",
            "4/4 [==============================] - 0s 11ms/step - loss: 1.0060 - accuracy: 0.4412 - val_loss: 1.0494 - val_accuracy: 0.3333\n",
            "Epoch 61/100\n",
            "4/4 [==============================] - 0s 12ms/step - loss: 1.0027 - accuracy: 0.4314 - val_loss: 1.0458 - val_accuracy: 0.3333\n",
            "Epoch 62/100\n",
            "4/4 [==============================] - 0s 14ms/step - loss: 0.9997 - accuracy: 0.4510 - val_loss: 1.0430 - val_accuracy: 0.3333\n",
            "Epoch 63/100\n",
            "4/4 [==============================] - 0s 14ms/step - loss: 0.9955 - accuracy: 0.4412 - val_loss: 1.0402 - val_accuracy: 0.3333\n",
            "Epoch 64/100\n",
            "4/4 [==============================] - 0s 11ms/step - loss: 0.9918 - accuracy: 0.4412 - val_loss: 1.0372 - val_accuracy: 0.3333\n",
            "Epoch 65/100\n",
            "4/4 [==============================] - 0s 11ms/step - loss: 0.9885 - accuracy: 0.4706 - val_loss: 1.0340 - val_accuracy: 0.3333\n",
            "Epoch 66/100\n",
            "4/4 [==============================] - 0s 11ms/step - loss: 0.9849 - accuracy: 0.4706 - val_loss: 1.0305 - val_accuracy: 0.3889\n",
            "Epoch 67/100\n",
            "4/4 [==============================] - 0s 11ms/step - loss: 0.9815 - accuracy: 0.4804 - val_loss: 1.0271 - val_accuracy: 0.3889\n",
            "Epoch 68/100\n",
            "4/4 [==============================] - 0s 11ms/step - loss: 0.9781 - accuracy: 0.4804 - val_loss: 1.0237 - val_accuracy: 0.3889\n",
            "Epoch 69/100\n",
            "4/4 [==============================] - 0s 12ms/step - loss: 0.9750 - accuracy: 0.4804 - val_loss: 1.0205 - val_accuracy: 0.3889\n",
            "Epoch 70/100\n",
            "4/4 [==============================] - 0s 12ms/step - loss: 0.9718 - accuracy: 0.4804 - val_loss: 1.0174 - val_accuracy: 0.3889\n",
            "Epoch 71/100\n",
            "4/4 [==============================] - 0s 12ms/step - loss: 0.9686 - accuracy: 0.4804 - val_loss: 1.0154 - val_accuracy: 0.4444\n",
            "Epoch 72/100\n",
            "4/4 [==============================] - 0s 13ms/step - loss: 0.9653 - accuracy: 0.4804 - val_loss: 1.0128 - val_accuracy: 0.5000\n",
            "Epoch 73/100\n",
            "4/4 [==============================] - 0s 12ms/step - loss: 0.9622 - accuracy: 0.4902 - val_loss: 1.0101 - val_accuracy: 0.5000\n",
            "Epoch 74/100\n",
            "4/4 [==============================] - 0s 13ms/step - loss: 0.9592 - accuracy: 0.4608 - val_loss: 1.0067 - val_accuracy: 0.5000\n",
            "Epoch 75/100\n",
            "4/4 [==============================] - 0s 13ms/step - loss: 0.9563 - accuracy: 0.4608 - val_loss: 1.0025 - val_accuracy: 0.5000\n",
            "Epoch 76/100\n",
            "4/4 [==============================] - 0s 11ms/step - loss: 0.9529 - accuracy: 0.4902 - val_loss: 0.9988 - val_accuracy: 0.5000\n",
            "Epoch 77/100\n",
            "4/4 [==============================] - 0s 10ms/step - loss: 0.9500 - accuracy: 0.4902 - val_loss: 0.9953 - val_accuracy: 0.4444\n",
            "Epoch 78/100\n",
            "4/4 [==============================] - 0s 11ms/step - loss: 0.9470 - accuracy: 0.4902 - val_loss: 0.9918 - val_accuracy: 0.4444\n",
            "Epoch 79/100\n",
            "4/4 [==============================] - 0s 11ms/step - loss: 0.9440 - accuracy: 0.4804 - val_loss: 0.9880 - val_accuracy: 0.3889\n",
            "Epoch 80/100\n",
            "4/4 [==============================] - 0s 11ms/step - loss: 0.9414 - accuracy: 0.4804 - val_loss: 0.9839 - val_accuracy: 0.3889\n",
            "Epoch 81/100\n",
            "4/4 [==============================] - 0s 13ms/step - loss: 0.9384 - accuracy: 0.5000 - val_loss: 0.9804 - val_accuracy: 0.3889\n",
            "Epoch 82/100\n",
            "4/4 [==============================] - 0s 12ms/step - loss: 0.9354 - accuracy: 0.5000 - val_loss: 0.9775 - val_accuracy: 0.4444\n",
            "Epoch 83/100\n",
            "4/4 [==============================] - 0s 14ms/step - loss: 0.9323 - accuracy: 0.4902 - val_loss: 0.9753 - val_accuracy: 0.5000\n",
            "Epoch 84/100\n",
            "4/4 [==============================] - 0s 11ms/step - loss: 0.9294 - accuracy: 0.4902 - val_loss: 0.9729 - val_accuracy: 0.5000\n",
            "Epoch 85/100\n",
            "4/4 [==============================] - 0s 12ms/step - loss: 0.9267 - accuracy: 0.4902 - val_loss: 0.9696 - val_accuracy: 0.5000\n",
            "Epoch 86/100\n",
            "4/4 [==============================] - 0s 13ms/step - loss: 0.9239 - accuracy: 0.5000 - val_loss: 0.9662 - val_accuracy: 0.5000\n",
            "Epoch 87/100\n",
            "4/4 [==============================] - 0s 11ms/step - loss: 0.9208 - accuracy: 0.5000 - val_loss: 0.9633 - val_accuracy: 0.5000\n",
            "Epoch 88/100\n",
            "4/4 [==============================] - 0s 11ms/step - loss: 0.9182 - accuracy: 0.5000 - val_loss: 0.9605 - val_accuracy: 0.5000\n",
            "Epoch 89/100\n",
            "4/4 [==============================] - 0s 12ms/step - loss: 0.9152 - accuracy: 0.5000 - val_loss: 0.9571 - val_accuracy: 0.5000\n",
            "Epoch 90/100\n",
            "4/4 [==============================] - 0s 12ms/step - loss: 0.9128 - accuracy: 0.5000 - val_loss: 0.9540 - val_accuracy: 0.5000\n",
            "Epoch 91/100\n",
            "4/4 [==============================] - 0s 12ms/step - loss: 0.9103 - accuracy: 0.5196 - val_loss: 0.9507 - val_accuracy: 0.3889\n",
            "Epoch 92/100\n",
            "4/4 [==============================] - 0s 11ms/step - loss: 0.9080 - accuracy: 0.5294 - val_loss: 0.9473 - val_accuracy: 0.3889\n",
            "Epoch 93/100\n",
            "4/4 [==============================] - 0s 11ms/step - loss: 0.9058 - accuracy: 0.5196 - val_loss: 0.9445 - val_accuracy: 0.3889\n",
            "Epoch 94/100\n",
            "4/4 [==============================] - 0s 11ms/step - loss: 0.9033 - accuracy: 0.5294 - val_loss: 0.9422 - val_accuracy: 0.3889\n",
            "Epoch 95/100\n",
            "4/4 [==============================] - 0s 12ms/step - loss: 0.9005 - accuracy: 0.5392 - val_loss: 0.9397 - val_accuracy: 0.3889\n",
            "Epoch 96/100\n",
            "4/4 [==============================] - 0s 12ms/step - loss: 0.8980 - accuracy: 0.5490 - val_loss: 0.9368 - val_accuracy: 0.3889\n",
            "Epoch 97/100\n",
            "4/4 [==============================] - 0s 12ms/step - loss: 0.8953 - accuracy: 0.5490 - val_loss: 0.9333 - val_accuracy: 0.3889\n",
            "Epoch 98/100\n",
            "4/4 [==============================] - 0s 11ms/step - loss: 0.8932 - accuracy: 0.5490 - val_loss: 0.9294 - val_accuracy: 0.3889\n",
            "Epoch 99/100\n",
            "4/4 [==============================] - 0s 12ms/step - loss: 0.8906 - accuracy: 0.5686 - val_loss: 0.9261 - val_accuracy: 0.3889\n",
            "Epoch 100/100\n",
            "4/4 [==============================] - 0s 12ms/step - loss: 0.8877 - accuracy: 0.5784 - val_loss: 0.9234 - val_accuracy: 0.3889\n"
          ]
        },
        {
          "output_type": "execute_result",
          "data": {
            "text/plain": [
              "<keras.callbacks.History at 0x7fba8d783b50>"
            ]
          },
          "metadata": {},
          "execution_count": 99
        }
      ]
    }
  ],
  "metadata": {
    "colab": {
      "collapsed_sections": [],
      "name": "3_2_iris_connection_II.ipynb",
      "provenance": []
    },
    "kernelspec": {
      "display_name": "Python 3",
      "language": "python",
      "name": "python3"
    },
    "language_info": {
      "codemirror_mode": {
        "name": "ipython",
        "version": 3
      },
      "file_extension": ".py",
      "mimetype": "text/x-python",
      "name": "python",
      "nbconvert_exporter": "python",
      "pygments_lexer": "ipython3",
      "version": "3.8.8"
    }
  },
  "nbformat": 4,
  "nbformat_minor": 0
}