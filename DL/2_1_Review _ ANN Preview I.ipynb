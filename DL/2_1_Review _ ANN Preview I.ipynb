{
  "nbformat": 4,
  "nbformat_minor": 0,
  "metadata": {
    "colab": {
      "name": "2_1_Review _ ANN Preview I.ipynb",
      "provenance": [],
      "collapsed_sections": []
    },
    "kernelspec": {
      "name": "python3",
      "display_name": "Python 3"
    }
  },
  "cells": [
    {
      "cell_type": "markdown",
      "metadata": {
        "id": "T7kdgJptO50L"
      },
      "source": [
        "# 1일차 Review : 같은 문제 다시 풀어보기\n",
        "\n",
        "    학습은 10번으로!"
      ]
    },
    {
      "cell_type": "code",
      "metadata": {
        "id": "3-aSPBeFQViu"
      },
      "source": [
        "from sklearn.datasets import load_boston"
      ],
      "execution_count": null,
      "outputs": []
    },
    {
      "cell_type": "code",
      "metadata": {
        "id": "Ke9zTQOpQo3R",
        "colab": {
          "base_uri": "https://localhost:8080/"
        },
        "outputId": "d43863b5-2b7e-407d-8646-df8ecec9ff4d"
      },
      "source": [
        "boston = load_boston()"
      ],
      "execution_count": null,
      "outputs": [
        {
          "output_type": "stream",
          "name": "stderr",
          "text": [
            "/usr/local/lib/python3.7/dist-packages/sklearn/utils/deprecation.py:87: FutureWarning: Function load_boston is deprecated; `load_boston` is deprecated in 1.0 and will be removed in 1.2.\n",
            "\n",
            "    The Boston housing prices dataset has an ethical problem. You can refer to\n",
            "    the documentation of this function for further details.\n",
            "\n",
            "    The scikit-learn maintainers therefore strongly discourage the use of this\n",
            "    dataset unless the purpose of the code is to study and educate about\n",
            "    ethical issues in data science and machine learning.\n",
            "\n",
            "    In this special case, you can fetch the dataset from the original\n",
            "    source::\n",
            "\n",
            "        import pandas as pd\n",
            "        import numpy as np\n",
            "\n",
            "\n",
            "        data_url = \"http://lib.stat.cmu.edu/datasets/boston\"\n",
            "        raw_df = pd.read_csv(data_url, sep=\"\\s+\", skiprows=22, header=None)\n",
            "        data = np.hstack([raw_df.values[::2, :], raw_df.values[1::2, :2]])\n",
            "        target = raw_df.values[1::2, 2]\n",
            "\n",
            "    Alternative datasets include the California housing dataset (i.e.\n",
            "    :func:`~sklearn.datasets.fetch_california_housing`) and the Ames housing\n",
            "    dataset. You can load the datasets as follows::\n",
            "\n",
            "        from sklearn.datasets import fetch_california_housing\n",
            "        housing = fetch_california_housing()\n",
            "\n",
            "    for the California housing dataset and::\n",
            "\n",
            "        from sklearn.datasets import fetch_openml\n",
            "        housing = fetch_openml(name=\"house_prices\", as_frame=True)\n",
            "\n",
            "    for the Ames housing dataset.\n",
            "    \n",
            "  warnings.warn(msg, category=FutureWarning)\n"
          ]
        }
      ]
    },
    {
      "cell_type": "code",
      "metadata": {
        "id": "VElJM9LJQrdf"
      },
      "source": [
        "x = boston.data\n",
        "y = boston.target"
      ],
      "execution_count": null,
      "outputs": []
    },
    {
      "cell_type": "code",
      "metadata": {
        "id": "kVvDsvptQyQ_",
        "colab": {
          "base_uri": "https://localhost:8080/"
        },
        "outputId": "21f81e31-f62a-4640-c41b-6cf0e3ab9028"
      },
      "source": [
        "x.shape, y.shape"
      ],
      "execution_count": null,
      "outputs": [
        {
          "output_type": "execute_result",
          "data": {
            "text/plain": [
              "((506, 13), (506,))"
            ]
          },
          "metadata": {},
          "execution_count": 32
        }
      ]
    },
    {
      "cell_type": "code",
      "metadata": {
        "id": "puqIL3FCRBs6"
      },
      "source": [
        "#####################\n",
        "# 라이브러리 불러오기\n",
        "#####################\n",
        "import tensorflow as tf\n",
        "from tensorflow import keras\n",
        "from sklearn.model_selection import *"
      ],
      "execution_count": null,
      "outputs": []
    },
    {
      "cell_type": "code",
      "source": [
        "x_train, x_test, y_train, y_test = train_test_split(x, y, test_size=0.2, random_state=2022)"
      ],
      "metadata": {
        "id": "hVn3b0dXLHOP"
      },
      "execution_count": null,
      "outputs": []
    },
    {
      "cell_type": "code",
      "source": [
        "x_train.shape, y_train.shape"
      ],
      "metadata": {
        "colab": {
          "base_uri": "https://localhost:8080/"
        },
        "id": "IfIY5X_4Lj6h",
        "outputId": "6ff1ed17-ce54-4431-9e13-5234f0ce16f1"
      },
      "execution_count": null,
      "outputs": [
        {
          "output_type": "execute_result",
          "data": {
            "text/plain": [
              "((404, 13), (404,))"
            ]
          },
          "metadata": {},
          "execution_count": 35
        }
      ]
    },
    {
      "cell_type": "code",
      "metadata": {
        "id": "broVdGpGbqrC",
        "colab": {
          "base_uri": "https://localhost:8080/"
        },
        "outputId": "4491b64a-eb86-4dfe-ee99-0a6e82d2b1c5"
      },
      "source": [
        "########\n",
        "# 모델링\n",
        "########\n",
        "keras.backend.clear_session()\n",
        "\n",
        "model = keras.models.Sequential()\n",
        "\n",
        "model.add(keras.layers.Input(shape=(13,)))\n",
        "model.add(keras.layers.Dense(1))\n",
        "\n",
        "model.compile(loss='mse', optimizer=keras.optimizers.Adam(learning_rate=0.01))\n",
        "\n",
        "model.summary()"
      ],
      "execution_count": null,
      "outputs": [
        {
          "output_type": "stream",
          "name": "stdout",
          "text": [
            "Model: \"sequential\"\n",
            "_________________________________________________________________\n",
            " Layer (type)                Output Shape              Param #   \n",
            "=================================================================\n",
            " dense (Dense)               (None, 1)                 14        \n",
            "                                                                 \n",
            "=================================================================\n",
            "Total params: 14\n",
            "Trainable params: 14\n",
            "Non-trainable params: 0\n",
            "_________________________________________________________________\n"
          ]
        }
      ]
    },
    {
      "cell_type": "code",
      "metadata": {
        "id": "4U3tZ7PvbljS",
        "colab": {
          "base_uri": "https://localhost:8080/"
        },
        "outputId": "79d09cf4-69d4-4b1a-95a6-f0d039c415fa"
      },
      "source": [
        "###########\n",
        "# 모델 학습\n",
        "###########\n",
        "model.fit(x_train, y_train, epochs=10, verbose=1)"
      ],
      "execution_count": null,
      "outputs": [
        {
          "output_type": "stream",
          "name": "stdout",
          "text": [
            "Epoch 1/10\n",
            "13/13 [==============================] - 0s 2ms/step - loss: 13969.4209\n",
            "Epoch 2/10\n",
            "13/13 [==============================] - 0s 2ms/step - loss: 8788.9102\n",
            "Epoch 3/10\n",
            "13/13 [==============================] - 0s 2ms/step - loss: 5299.7910\n",
            "Epoch 4/10\n",
            "13/13 [==============================] - 0s 2ms/step - loss: 3125.4177\n",
            "Epoch 5/10\n",
            "13/13 [==============================] - 0s 2ms/step - loss: 1852.3662\n",
            "Epoch 6/10\n",
            "13/13 [==============================] - 0s 2ms/step - loss: 1125.7449\n",
            "Epoch 7/10\n",
            "13/13 [==============================] - 0s 2ms/step - loss: 762.4797\n",
            "Epoch 8/10\n",
            "13/13 [==============================] - 0s 2ms/step - loss: 527.6066\n",
            "Epoch 9/10\n",
            "13/13 [==============================] - 0s 2ms/step - loss: 394.3465\n",
            "Epoch 10/10\n",
            "13/13 [==============================] - 0s 2ms/step - loss: 301.4944\n"
          ]
        },
        {
          "output_type": "execute_result",
          "data": {
            "text/plain": [
              "<keras.callbacks.History at 0x7fb36b1b8910>"
            ]
          },
          "metadata": {},
          "execution_count": 37
        }
      ]
    },
    {
      "cell_type": "code",
      "metadata": {
        "id": "prSYRU-_AlYz",
        "colab": {
          "base_uri": "https://localhost:8080/"
        },
        "outputId": "7563f878-a25f-41a3-fa0f-62bb6d464e1c"
      },
      "source": [
        "###########\n",
        "# 모델 예측\n",
        "###########\n",
        "y_pred = model.predict(x_test)\n",
        "y_pred[:5]"
      ],
      "execution_count": null,
      "outputs": [
        {
          "output_type": "execute_result",
          "data": {
            "text/plain": [
              "array([[13.36656 ],\n",
              "       [ 8.124081],\n",
              "       [43.613823],\n",
              "       [27.611181],\n",
              "       [24.621756]], dtype=float32)"
            ]
          },
          "metadata": {},
          "execution_count": 38
        }
      ]
    },
    {
      "cell_type": "code",
      "source": [
        "y[:5]"
      ],
      "metadata": {
        "colab": {
          "base_uri": "https://localhost:8080/"
        },
        "id": "lXNvlUAIL_kv",
        "outputId": "bc0c858f-32a2-4356-8df6-e5db87b25334"
      },
      "execution_count": null,
      "outputs": [
        {
          "output_type": "execute_result",
          "data": {
            "text/plain": [
              "array([24. , 21.6, 34.7, 33.4, 36.2])"
            ]
          },
          "metadata": {},
          "execution_count": 43
        }
      ]
    },
    {
      "cell_type": "markdown",
      "metadata": {
        "id": "0xVNQT9V-Iev"
      },
      "source": [
        "# 히든 레이어 추가하여 모델링!\n",
        "\n",
        "    히든 레이어 2개를 추가하여 다시 모델링!\n",
        "    히든 레이어 노드 수 : 32\n",
        "    히든 레이어 activation = 'relu'"
      ]
    },
    {
      "cell_type": "code",
      "metadata": {
        "id": "y3PTU3m--xMa",
        "colab": {
          "base_uri": "https://localhost:8080/",
          "height": 682
        },
        "outputId": "b7e3f40f-f88d-4279-ba97-d6ee0ebc8636"
      },
      "source": [
        "########\n",
        "# 모델링\n",
        "########\n",
        "keras.backend.clear_session()\n",
        "\n",
        "model = keras.models.Sequential()\n",
        "\n",
        "model.add(keras.layers.Input(shape=(13,)))\n",
        "model.add(keras.layers.Dense(32, activation='relu'))\n",
        "model.add(keras.layers.Dense(32, activation='relu'))\n",
        "model.add(keras.layers.Dense(1))\n",
        "\n",
        "model.compile(loss='mse', optimizer=keras.optimizers.Adam(learning_rate=0.01))\n",
        "\n",
        "model.summary()\n",
        "tf.keras.utils.plot_model(model, show_shapes=True)"
      ],
      "execution_count": null,
      "outputs": [
        {
          "output_type": "stream",
          "name": "stdout",
          "text": [
            "Model: \"sequential\"\n",
            "_________________________________________________________________\n",
            " Layer (type)                Output Shape              Param #   \n",
            "=================================================================\n",
            " dense (Dense)               (None, 32)                448       \n",
            "                                                                 \n",
            " dense_1 (Dense)             (None, 32)                1056      \n",
            "                                                                 \n",
            " dense_2 (Dense)             (None, 1)                 33        \n",
            "                                                                 \n",
            "=================================================================\n",
            "Total params: 1,537\n",
            "Trainable params: 1,537\n",
            "Non-trainable params: 0\n",
            "_________________________________________________________________\n"
          ]
        },
        {
          "output_type": "execute_result",
          "data": {
            "image/png": "[encoded data removed]",
            "text/plain": [
              "<IPython.core.display.Image object>"
            ]
          },
          "metadata": {},
          "execution_count": 49
        }
      ]
    },
    {
      "cell_type": "code",
      "metadata": {
        "id": "HbvMea71-xMb",
        "colab": {
          "base_uri": "https://localhost:8080/"
        },
        "outputId": "b2d3932f-d20e-4697-8f8f-449ab321bf0b"
      },
      "source": [
        "###########\n",
        "# 모델 학습\n",
        "###########\n",
        "model.fit(x_train, y_train, epochs=10, verbose=1)"
      ],
      "execution_count": null,
      "outputs": [
        {
          "output_type": "stream",
          "name": "stdout",
          "text": [
            "Epoch 1/10\n",
            "13/13 [==============================] - 0s 2ms/step - loss: 3912.9583\n",
            "Epoch 2/10\n",
            "13/13 [==============================] - 0s 2ms/step - loss: 298.6395\n",
            "Epoch 3/10\n",
            "13/13 [==============================] - 0s 2ms/step - loss: 140.8153\n",
            "Epoch 4/10\n",
            "13/13 [==============================] - 0s 2ms/step - loss: 80.7354\n",
            "Epoch 5/10\n",
            "13/13 [==============================] - 0s 2ms/step - loss: 67.6459\n",
            "Epoch 6/10\n",
            "13/13 [==============================] - 0s 2ms/step - loss: 65.7690\n",
            "Epoch 7/10\n",
            "13/13 [==============================] - 0s 2ms/step - loss: 66.6598\n",
            "Epoch 8/10\n",
            "13/13 [==============================] - 0s 2ms/step - loss: 64.0466\n",
            "Epoch 9/10\n",
            "13/13 [==============================] - 0s 2ms/step - loss: 64.9336\n",
            "Epoch 10/10\n",
            "13/13 [==============================] - 0s 2ms/step - loss: 61.8652\n"
          ]
        },
        {
          "output_type": "execute_result",
          "data": {
            "text/plain": [
              "<keras.callbacks.History at 0x7fb36c7d8110>"
            ]
          },
          "metadata": {},
          "execution_count": 46
        }
      ]
    },
    {
      "cell_type": "code",
      "metadata": {
        "id": "_BZMmR5--xMb",
        "colab": {
          "base_uri": "https://localhost:8080/"
        },
        "outputId": "2ab7f443-d5fc-414a-dd2b-bf435c0a69ee"
      },
      "source": [
        "###########\n",
        "# 모델 예측\n",
        "###########\n",
        "y_pred = model.predict(x_test)\n",
        "y_pred[:5]"
      ],
      "execution_count": null,
      "outputs": [
        {
          "output_type": "execute_result",
          "data": {
            "text/plain": [
              "array([[21.718254],\n",
              "       [15.965277],\n",
              "       [14.382782],\n",
              "       [27.374979],\n",
              "       [14.621272]], dtype=float32)"
            ]
          },
          "metadata": {},
          "execution_count": 47
        }
      ]
    },
    {
      "cell_type": "code",
      "source": [
        "y_test[:5]"
      ],
      "metadata": {
        "colab": {
          "base_uri": "https://localhost:8080/"
        },
        "id": "klzgh-VrQW-e",
        "outputId": "cc29261f-87b6-4520-fadc-8933fab10f4f"
      },
      "execution_count": null,
      "outputs": [
        {
          "output_type": "execute_result",
          "data": {
            "text/plain": [
              "array([20.1, 11.9, 20.6, 33.2, 20.8])"
            ]
          },
          "metadata": {},
          "execution_count": 50
        }
      ]
    },
    {
      "cell_type": "code",
      "source": [
        ""
      ],
      "metadata": {
        "id": "x3btnUITQYoq"
      },
      "execution_count": null,
      "outputs": []
    }
  ]
}