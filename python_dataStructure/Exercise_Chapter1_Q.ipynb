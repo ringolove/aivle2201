{
  "cells": [
    {
      "cell_type": "markdown",
      "metadata": {
        "id": "lo3GcgqfxsEK"
      },
      "source": [
        "## Chapter 1."
      ]
    },
    {
      "cell_type": "markdown",
      "metadata": {
        "id": "A6q-PG7jxsEQ"
      },
      "source": [
        "### Q0\n",
        "\n",
        "### 두 정수의 최대공약수를 구하라. 최대공약수는 두 정수를 나머지가 0이 되게 나누는 공통된 약수 중 최대값을 가진 수이다. \n",
        "\n",
        "### 예\n",
        "- 12, 16의 최대공약수 4\n",
        "- 2, 4의 최대공약수 2\n",
        "\n",
        "### tips\n",
        "- if 문에 조건이 두 개인 경우는 and 또는 or 논리연산자 사용\n",
        "\n",
        "### 제한사항 \n",
        "- 두 정수는 서로 다른 수이다."
      ]
    },
    {
      "cell_type": "code",
      "execution_count": null,
      "metadata": {
        "id": "HThjVTgSxsER"
      },
      "outputs": [],
      "source": [
        "# Q0 Answer template\n",
        "\n",
        "def solution(a, b):\n",
        "    answer = -1\n",
        "    return answer\n",
        "\n",
        "c = solution(a,b)\n",
        "print(c)"
      ]
    },
    {
      "cell_type": "code",
      "execution_count": null,
      "metadata": {
        "colab": {
          "base_uri": "https://localhost:8080/"
        },
        "id": "iOk0zdRdxsES",
        "outputId": "8c7ccad0-aaf2-4220-e250-f4bcca56f5c0"
      },
      "outputs": [
        {
          "output_type": "stream",
          "name": "stdout",
          "text": [
            "4\n"
          ]
        }
      ],
      "source": [
        "def gcd(a,b):\n",
        "  while(b):\n",
        "    a,b=b,a%b\n",
        "  return a\n",
        "print(gcd(10,12))\n",
        "\n",
        "# def gcd(a,b):\n",
        "#   if a<b:\n",
        "#     min = a\n",
        "#   else:\n",
        "#     min = b\n",
        "#   for i in range(min,0,-1):\n",
        "#     if a%i == 0 and b%i == 0:\n",
        "#       ans = i\n",
        "#       break\n",
        "#   return ans\n",
        "\n",
        "# a, b = 12, 16\n",
        "# c = gcd(a,b)\n",
        "# print(c)"
      ]
    },
    {
      "cell_type": "markdown",
      "metadata": {
        "id": "fU_eqWwjxsET"
      },
      "source": [
        "### Q1\n",
        "\n",
        "### 두 정수의 최소공배수를 구하라. 최소공배수는 두 정수의 배수인 수 중 최솟값을 가진 값을 수이다.\n",
        "\n",
        "### 예\n",
        "- 12, 16의 최소공배수 48\n",
        "- 2, 4의 최소공배수 4\n",
        "\n",
        "### tips\n",
        "- if 문에 조건이 두 개인 경우는 and 또는 or 논리연산자 사용\n",
        "\n",
        "\n",
        "### 제한사항 \n",
        "- 두 정수는 서로 다른 수이다."
      ]
    },
    {
      "cell_type": "code",
      "execution_count": null,
      "metadata": {
        "id": "w0DX02j_xsET"
      },
      "outputs": [],
      "source": [
        "# Q1 Answer template\n",
        "\n",
        "def solution(a, b):\n",
        "    answer = -1\n",
        "    return answer\n",
        "\n",
        "c = solution(a,b)\n",
        "print(c)"
      ]
    },
    {
      "cell_type": "code",
      "execution_count": null,
      "metadata": {
        "colab": {
          "base_uri": "https://localhost:8080/"
        },
        "id": "av6hK3p2xsEU",
        "outputId": "6375d558-023a-44cf-c5ee-12e6c46f4c64"
      },
      "outputs": [
        {
          "output_type": "stream",
          "name": "stdout",
          "text": [
            "60\n"
          ]
        }
      ],
      "source": [
        "def lcm(a,b):\n",
        "    return (a*b)//gcd(a,b)\n",
        "print(lcm(10,12))\n",
        "\n",
        "# def lcm(a,b):\n",
        "#   if a>b:\n",
        "#     max = a\n",
        "#   else:\n",
        "#     max = b\n",
        "#   for i in range(max,a*b+1):\n",
        "#     if a%i == 0 and b%i == 0:\n",
        "#       ans = i\n",
        "#       break\n",
        "#   return ans\n",
        "\n",
        "# a, b = 2, 4\n",
        "# c = lcm(a,b)\n",
        "# print(c)"
      ]
    },
    {
      "cell_type": "markdown",
      "metadata": {
        "id": "vQLKiztlxsEU"
      },
      "source": [
        "### Q2 (https://www.acmicpc.net/problem/1110)\n",
        "\n",
        "### 0보다 크거나 같고, 99보다 작거나 같은 정수가 주어질 때 다음과 같은 연산을 할 수 있다. 먼저 주어진 수가 10보다 작다면 앞에 0을 붙여 두 자리 수로 만들고, 각 자리의 숫자를 더한다. 그 다음, 주어진 수의 가장 오른쪽 자리 수와 앞에서 구한 합의 가장 오른쪽 자리 수를 이어 붙이면 새로운 수를 만들 수 있다. 다음 예를 보자.\n",
        "### 26부터 시작한다. 2+6 = 8이다. 새로운 수는 68이다. 6+8 = 14이다. 새로운 수는 84이다. 8+4 = 12이다. 새로운 수는 42이다. 4+2 = 6이다. 새로운 수는 26이다.\n",
        "### 위의 예는 4번만에 원래 수로 돌아올 수 있다. 따라서 26의 사이클의 길이는 4이다.\n",
        "### N이 주어졌을 때, N의 사이클의 길이를 구하는 프로그램을 작성하시오.\n",
        "\n",
        "### 입력\n",
        "- 첫째 줄에 N이 주어진다. N은 0보다 크거나 같고, 99보다 작거나 같은 정수이다.\n",
        "### 출력\n",
        "- 첫째 줄에 N의 사이클 길이를 출력한다.\n",
        "\n",
        "### 입출력 예\n",
        "|입력 |출력\n",
        "|----|----\n",
        "|26|4\n",
        "|55|3\n",
        "|1|60\n",
        "|0|1\n",
        "|71|12\n"
      ]
    },
    {
      "cell_type": "code",
      "execution_count": null,
      "metadata": {
        "id": "v_LIYwAyxsEV"
      },
      "outputs": [],
      "source": [
        "# Q2 Answer template\n",
        "\n",
        "N = input()\n",
        "\n",
        "count = 0\n",
        "\n",
        "print(count)"
      ]
    },
    {
      "cell_type": "code",
      "execution_count": null,
      "metadata": {
        "colab": {
          "base_uri": "https://localhost:8080/"
        },
        "id": "LIzosJn9xsEW",
        "outputId": "81a08b91-1fc2-46ec-9550-33f47614bdab"
      },
      "outputs": [
        {
          "output_type": "stream",
          "name": "stdout",
          "text": [
            "5\n",
            "3\n"
          ]
        }
      ],
      "source": [
        "n = int(input())\n",
        "num = n\n",
        "count = 0\n",
        "while True:\n",
        "  a = num//10\n",
        "  b = num%10\n",
        "  c = (a+b)%10\n",
        "  num = (b*10) + c\n",
        "\n",
        "  count += 1\n",
        "  if num == n:\n",
        "    break\n",
        "\n",
        "print(count)\n",
        "\n",
        "# n = input()\n",
        "# i = n\n",
        "# cnt = 0\n",
        "\n",
        "# while True:\n",
        "#   if int(j) < 10:\n",
        "#     j = '0' + j\n",
        "\n",
        "#   i = int(j[0]+int(j[1]))\n",
        "#   j = int(j[1]+str(i)[-1])\n",
        "#   j = str(j)\n",
        "\n",
        "#   cnt += 1\n",
        "#   if j==n:\n",
        "#     break\n",
        "# print(cnt)"
      ]
    },
    {
      "cell_type": "markdown",
      "metadata": {
        "id": "dLRoVadHxsEW"
      },
      "source": [
        "### Q3 (https://programmers.co.kr/learn/courses/30/lessons/77884)\n",
        "\n",
        "### 두 정수 left와 right가 매개변수로 주어집니다. left부터 right까지의 모든 수들 중에서, 약수의 개수가 짝수인 수는 더하고, 약수의 개수가 홀수인 수는 뺀 수를 return 하도록 solution 함수를 완성해주세요.\n",
        "\n",
        "### 제한사항\n",
        "- 1 ≤ left ≤ right ≤ 1,000\n",
        "\n",
        "### 입출력 예\n",
        "|left |right |result\n",
        "|-----|------|------\n",
        "|13 |17 |43\n",
        "|24 |27 |52\n",
        "\n",
        "### 입출력 예 left 13, right 17\n",
        "\n",
        "- 다음 표는 13부터 17까지의 수들의 약수를 모두 나타낸 것입니다.\n",
        "|수\t|약수\t|약수의 개수\n",
        "|---|-----|-------\n",
        "|13\t|1, 13\t|2\n",
        "|14\t|1, 2, 7, 14\t|4\n",
        "|15\t|1, 3, 5, 15\t|4\n",
        "|16\t|1, 2, 4, 8, 16\t|5\n",
        "|17\t|1, 17\t|2\n",
        "- 따라서, 13 + 14 + 15 - 16 + 17 = 43을 return 해야 합니다."
      ]
    },
    {
      "cell_type": "code",
      "execution_count": null,
      "metadata": {
        "id": "ijO6WTmdxsEX"
      },
      "outputs": [],
      "source": [
        "# Q3 Answer template\n",
        "\n",
        "def solution(left, right):\n",
        "    answer = 0\n",
        "    return answer\n",
        "\n",
        "left = 13\n",
        "right = 17\n",
        "c = solution(left, right)\n",
        "print(c)"
      ]
    },
    {
      "cell_type": "code",
      "execution_count": null,
      "metadata": {
        "colab": {
          "base_uri": "https://localhost:8080/"
        },
        "id": "fdGL4SK1xsEY",
        "outputId": "85194e54-52db-4857-e594-c24229a99284"
      },
      "outputs": [
        {
          "output_type": "stream",
          "name": "stdout",
          "text": [
            "2\n",
            "4\n",
            "4\n",
            "5\n",
            "2\n"
          ]
        },
        {
          "output_type": "execute_result",
          "data": {
            "text/plain": [
              "43"
            ]
          },
          "metadata": {},
          "execution_count": 27
        }
      ],
      "source": [
        "def solution(left, right):\n",
        "    answer = 0\n",
        "    for i in range(left, right+1):\n",
        "        cnt = 0\n",
        "        for j in range(1,i+1):\n",
        "            if i%j == 0:\n",
        "              cnt += 1\n",
        "        print(cnt)      \n",
        "        if cnt%2 == 0:\n",
        "            answer += i\n",
        "        else:\n",
        "            answer -= i\n",
        "    return answer;\n",
        "\n",
        "solution(13,17)"
      ]
    },
    {
      "cell_type": "markdown",
      "metadata": {
        "id": "FzvuGXI_xsEY"
      },
      "source": [
        "### Q4 \n",
        "\n",
        "### 각 자리가 숫자(0부터 9)로만 이루어진 문자열을 사용자로 부터 입력받아, 왼쪽부터 오른쪽으로 하나씩 모든 숫자를 확인하며 숫자 사이에 곱하기(x) 혹은 더하기(+) 연산자를 넣어 결과적으로 만들어질 수 있는 가장 큰 수를 구하는 프로그램을 작성하세요. \n",
        "\n",
        "### 단, + 보다 x 를 먼저 계산하는 일반적인 방식과 달리 모든 연산은 왼쪽에서부터 순서대로 이루어진다고 가정합니다.\n",
        "\n",
        "### 입출력 예\n",
        "### 숫자로 이루어진 문자열을 입력하세요. 02984\n",
        "### 0 + 2 x 9 x 8 x 4  = 576\n",
        "\n",
        "### 숫자로 이루어진 문자열을 입력하세요. 567\n",
        "### 5 x 6 x 7  = 210\n"
      ]
    },
    {
      "cell_type": "code",
      "execution_count": null,
      "metadata": {
        "id": "Ds8TS-JjxsEZ",
        "outputId": "eaa9139e-82e3-4d33-970b-6d62ec244b05"
      },
      "outputs": [
        {
          "name": "stdout",
          "output_type": "stream",
          "text": [
            "숫자로 이루어진 문자열을 입력하세요. 1\n",
            "1\n"
          ]
        }
      ],
      "source": [
        "# Q4 Answer Template\n",
        "data = input('숫자로 이루어진 문자열을 입력하세요. ')\n",
        "\n",
        "result = data\n",
        "\n",
        "print(result)"
      ]
    },
    {
      "cell_type": "code",
      "execution_count": null,
      "metadata": {
        "colab": {
          "base_uri": "https://localhost:8080/"
        },
        "id": "MuNQ5wVsxsEa",
        "outputId": "54f4e918-f290-47e9-fe18-7f7ccef48f86"
      },
      "outputs": [
        {
          "output_type": "stream",
          "name": "stdout",
          "text": [
            "숫자열 입력 02984\n",
            "576\n"
          ]
        }
      ],
      "source": [
        "dadda = input('숫자열 입력 ')\n",
        "s = 0\n",
        "for i in range(len(dadda)):\n",
        "  if int(dadda[i]) == 0 or s == 0:\n",
        "    s += int(dadda[i])\n",
        "  else:\n",
        "    s *= int(dadda[i])\n",
        "print(s)"
      ]
    },
    {
      "cell_type": "markdown",
      "metadata": {
        "id": "dGexOXIbxsEa"
      },
      "source": [
        "### Q5 (https://www.acmicpc.net/problem/18406)\n",
        "\n",
        "### 어떤 게임의 아웃복서 캐릭터에게는 럭키 스트레이트라는 기술이 존재한다. 이 기술은 매우 강력한 대신에 항상 사용할 수는 없으며, 현재 게임 내에서 점수가 특정 조건을 만족할 때만 사용할 수 있다.\n",
        "### 특정 조건이란 현재 캐릭터의 점수를 N이라고 할 때 점수 N을 자릿수를 기준으로 반으로 나누어 왼쪽 부분의 각 자릿수의 합과 오른쪽 부분의 각 자릿수의 합을 더한 값이 동일한 상황을 의미한다. 예를 들어 현재 점수가 123,402라면 왼쪽 부분의 각 자릿수의 합은 1+2+3, 오른쪽 부분의 각 자릿수의 합은 4+0+2이므로 두 합이 6으로 동일하여 럭키 스트레이트를 사용할 수 있다.\n",
        "### 현재 점수 N이 주어졌을 때, 럭키 스트레이트를 사용할 수 있는 상태인지 아닌지를 알려주는 프로그램을 작성하시오. 럭키 스트레이트를 사용할 수 있다면 \"LUCKY\"를, 사용할 수 없다면 \"READY\"라는 단어를 출력한다. 또한 점수 N의 자릿수는 항상 짝수 형태로만 주어진다. 예를 들어 자릿수가 5인 12,345와 같은 수는 입력으로 들어오지 않는다.\n",
        "\n",
        "### 입력\n",
        "- 첫째 줄에 점수 N이 정수로 주어진다. (10 ≤ N ≤ 99,999,999) 단, 점수 N의 자릿수는 항상 짝수 형태로만 주어진다.\n",
        "\n",
        "### 출력\n",
        "- 첫째 줄에 럭키 스트레이트를 사용할 수 있다면 \"LUCKY\"를, 사용할 수 없다면 \"READY\"라는 단어를 출력한다.\n",
        "\n",
        "### 입출력 예\n",
        "\n",
        "|입력 |출력\n",
        "|----|----\n",
        "|숫자를 입력하세요. 123402|LUCKY\n",
        "|숫자를 입력하세요. 7755|READY"
      ]
    },
    {
      "cell_type": "code",
      "execution_count": null,
      "metadata": {
        "id": "87K71hCbxsEb"
      },
      "outputs": [],
      "source": [
        "# Q5 Answer Template\n",
        "\n",
        "n = input('숫자를 입력하세요. ')\n",
        "\n",
        "print(\"LUCKY\")"
      ]
    },
    {
      "cell_type": "code",
      "execution_count": null,
      "metadata": {
        "colab": {
          "base_uri": "https://localhost:8080/"
        },
        "id": "Y90DUT_AxsEb",
        "outputId": "5a85f4d1-4fb8-4b4f-97e0-81e521c90dc6"
      },
      "outputs": [
        {
          "output_type": "stream",
          "name": "stdout",
          "text": [
            "숫자 입력 7755\n",
            "READY\n"
          ]
        }
      ],
      "source": [
        "n = input('숫자 입력 ')\n",
        "n1 = n[:len(n)//2]\n",
        "n2 = n[len(n)//2:]\n",
        "left = 0\n",
        "right = 0\n",
        "for i in range(len(n1)):\n",
        "  left += int(n1[i])\n",
        "for j in range(len(n2)):\n",
        "  right += int(n2[j])\n",
        "if left == right:\n",
        "  print('LUCKY')\n",
        "else:\n",
        "  print('READY')\n",
        "\n",
        "# n = input('숫자 입력 ')\n",
        "# length = len(n)\n",
        "# left, right = 0, 0\n",
        "\n",
        "# for i in range(length//2):\n",
        "#   left += int(n[i])\n",
        "# for i in range(length//2, length):\n",
        "#   right += int(n[i])\n",
        "\n",
        "# if left == right:\n",
        "#   print('LUCKY')\n",
        "# else:\n",
        "#   print('READY')"
      ]
    },
    {
      "cell_type": "markdown",
      "metadata": {
        "id": "jCAXv1vnxsEb"
      },
      "source": [
        "### Q6 (https://programmers.co.kr/learn/courses/30/lessons/12934)\n",
        "\n",
        "### 임의의 양의 정수 n에 대해, n이 어떤 양의 정수 x의 제곱인지 아닌지 판단하려 합니다.\n",
        "### n이 양의 정수 x의 제곱이라면 x+1의 제곱을 리턴하고, n이 양의 정수 x의 제곱이 아니라면 -1을 리턴하는 함수를 완성하세요.\n",
        "\n",
        "### 제한 사항\n",
        "- n은 1이상, 50000000000000 이하인 양의 정수입니다.\n",
        "\n",
        "### 입출력 예\n",
        "|n |return\n",
        "|--|--\n",
        "|121|144\n",
        "|3|-1\n",
        "\n",
        "### 입출력 예 설명\n",
        "\n",
        "### 입출력 예#1\n",
        "- 121은 양의 정수 11의 제곱이므로, (11+1)를 제곱한 144를 리턴합니다.\n",
        "\n",
        "### 입출력 예#2\n",
        "- 3은 양의 정수의 제곱이 아니므로, -1을 리턴합니다."
      ]
    },
    {
      "cell_type": "code",
      "execution_count": null,
      "metadata": {
        "id": "76TuI1p7xsEc"
      },
      "outputs": [],
      "source": [
        "# Q6 Answer template\n",
        "\n",
        "def solution(n):\n",
        "    answer = 0\n",
        "    return answer"
      ]
    },
    {
      "cell_type": "code",
      "execution_count": null,
      "metadata": {
        "colab": {
          "base_uri": "https://localhost:8080/"
        },
        "id": "CqcQEXLgxsEc",
        "outputId": "18d24611-80ef-4d6d-ada5-e57e9de883ef"
      },
      "outputs": [
        {
          "output_type": "execute_result",
          "data": {
            "text/plain": [
              "144"
            ]
          },
          "metadata": {},
          "execution_count": 100
        }
      ],
      "source": [
        "def solution(n):\n",
        "    answer = 0\n",
        "    if (n**0.5)-int(n**0.5) > 0:\n",
        "      answer = -1\n",
        "      return answer\n",
        "    else:\n",
        "      answer = int((n**0.5)+1)**2\n",
        "      return answer\n",
        "\n",
        "    # if (n**0.5)%1==0:\n",
        "    #   return int((n**0.5)+1)**2\n",
        "    # return -1\n",
        "\n",
        "solution(121)\n",
        "\n",
        "# def solution(n):\n",
        "#   ans = 0\n",
        "#   flag = 0\n",
        "#   for i in range(1,n+1):\n",
        "#     if n==i**2:\n",
        "#       flag=i\n",
        "#       break\n",
        "#   if flag==0:\n",
        "#     ans -= 1\n",
        "#   else:\n",
        "#     ans = (flag+1)**2\n",
        "# ans = solution(1)\n",
        "# print(ans)\n",
        "    "
      ]
    }
  ],
  "metadata": {
    "kernelspec": {
      "display_name": "Python 3",
      "language": "python",
      "name": "python3"
    },
    "language_info": {
      "codemirror_mode": {
        "name": "ipython",
        "version": 3
      },
      "file_extension": ".py",
      "mimetype": "text/x-python",
      "name": "python",
      "nbconvert_exporter": "python",
      "pygments_lexer": "ipython3",
      "version": "3.6.7"
    },
    "colab": {
      "name": "Exercise-Chapter1-Q.ipynb",
      "provenance": []
    }
  },
  "nbformat": 4,
  "nbformat_minor": 0
}