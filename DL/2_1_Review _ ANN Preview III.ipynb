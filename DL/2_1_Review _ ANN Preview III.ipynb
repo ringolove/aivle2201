{
  "nbformat": 4,
  "nbformat_minor": 0,
  "metadata": {
    "colab": {
      "name": "2_1_Review _ ANN Preview III.ipynb",
      "provenance": [],
      "collapsed_sections": []
    },
    "kernelspec": {
      "name": "python3",
      "display_name": "Python 3"
    },
    "language_info": {
      "name": "python"
    }
  },
  "cells": [
    {
      "cell_type": "markdown",
      "metadata": {
        "id": "T7kdgJptO50L"
      },
      "source": [
        "# 1일차 Review : 같은 문제 다시 풀어보기\n",
        "\n",
        "    학습은 10번으로!"
      ]
    },
    {
      "cell_type": "code",
      "metadata": {
        "id": "k-kIj84JQdd3"
      },
      "source": [
        "from sklearn.datasets import load_iris"
      ],
      "execution_count": 68,
      "outputs": []
    },
    {
      "cell_type": "code",
      "metadata": {
        "id": "1F1kZLpEQof_"
      },
      "source": [
        "iris = load_iris()"
      ],
      "execution_count": 69,
      "outputs": []
    },
    {
      "cell_type": "code",
      "metadata": {
        "id": "4uNPvbD_QyUh"
      },
      "source": [
        "x = iris.data\n",
        "y = iris.target"
      ],
      "execution_count": 70,
      "outputs": []
    },
    {
      "cell_type": "code",
      "source": [
        "x_train, x_test, y_train, y_test = train_test_split(x, y, test_size = 0.2, random_state=2022)"
      ],
      "metadata": {
        "id": "DaKnJqHHDj1N"
      },
      "execution_count": 71,
      "outputs": []
    },
    {
      "cell_type": "code",
      "source": [
        "x_train.shape, y_train.shape"
      ],
      "metadata": {
        "colab": {
          "base_uri": "https://localhost:8080/"
        },
        "id": "wvbbFUGQDrT8",
        "outputId": "484d5389-2c8a-409a-d611-b314d939f629"
      },
      "execution_count": 72,
      "outputs": [
        {
          "output_type": "execute_result",
          "data": {
            "text/plain": [
              "((120, 4), (120,))"
            ]
          },
          "metadata": {},
          "execution_count": 72
        }
      ]
    },
    {
      "cell_type": "code",
      "metadata": {
        "id": "puqIL3FCRBs6"
      },
      "source": [
        "#####################\n",
        "# 라이브러리 불러오기\n",
        "#####################\n",
        "import tensorflow as tf\n",
        "from tensorflow import keras\n",
        "from sklearn.model_selection import *"
      ],
      "execution_count": 73,
      "outputs": []
    },
    {
      "cell_type": "code",
      "metadata": {
        "id": "TY0leKum_owG"
      },
      "source": [
        "#######################\n",
        "# 어떤 전처리 작업 필요\n",
        "# Hint : y.shape\n",
        "#######################\n",
        "from tensorflow.keras.utils import to_categorical\n",
        "\n",
        "y_len = len(set(y_train))\n",
        "y_train = to_categorical(y_train, y_len)\n",
        "y_test = to_categorical(y_test, y_len)"
      ],
      "execution_count": 74,
      "outputs": []
    },
    {
      "cell_type": "code",
      "metadata": {
        "id": "broVdGpGbqrC"
      },
      "source": [
        "########\n",
        "# 모델링 (Sequential)\n",
        "########\n",
        "keras.backend.clear_session()\n",
        "\n",
        "model = keras.models.Sequential()\n",
        "\n",
        "model.add(keras.layers.Input(shape=(4,)))\n",
        "model.add(keras.layers.Dense(3, activation='softmax'))\n",
        "\n",
        "model.compile(loss='categorical_crossentropy', optimizer='adam', metrics=['accuracy'])"
      ],
      "execution_count": 75,
      "outputs": []
    },
    {
      "cell_type": "code",
      "source": [
        "model.summary()\n",
        "tf.keras.utils.plot_model(model, show_shapes=True)"
      ],
      "metadata": {
        "colab": {
          "base_uri": "https://localhost:8080/",
          "height": 392
        },
        "id": "VzU_oKlN7hzv",
        "outputId": "9bb6dcee-fc9b-4b0f-cc0d-fba71534c69a"
      },
      "execution_count": 76,
      "outputs": [
        {
          "output_type": "stream",
          "name": "stdout",
          "text": [
            "Model: \"sequential\"\n",
            "_________________________________________________________________\n",
            " Layer (type)                Output Shape              Param #   \n",
            "=================================================================\n",
            " dense (Dense)               (None, 3)                 15        \n",
            "                                                                 \n",
            "=================================================================\n",
            "Total params: 15\n",
            "Trainable params: 15\n",
            "Non-trainable params: 0\n",
            "_________________________________________________________________\n"
          ]
        },
        {
          "output_type": "execute_result",
          "data": {
            "text/plain": [
              "<IPython.core.display.Image object>"
            ],
            "image/png": "[encoded data removed]"
          },
          "metadata": {},
          "execution_count": 76
        }
      ]
    },
    {
      "cell_type": "code",
      "source": [
        "########\n",
        "# 모델링 (Sequential)\n",
        "########\n",
        "from tensorflow.keras.backend import clear_session\n",
        "from tensorflow.keras.models import Model\n",
        "from tensorflow.keras.layers import Input, Dense\n",
        "from tensorflow.keras.losses import categorical_crossentropy\n",
        "from tensorflow.keras.activations import softmax\n",
        "\n",
        "clear_session()\n",
        "\n",
        "a = Input(shape=(4,), name='input_layer')\n",
        "b = Dense(3, softmax, name='softmax_layer')(a)\n",
        "\n",
        "model2 = Model(a,b)\n",
        "\n",
        "model2.compile(loss=categorical_crossentropy, metrics=['accuracy'], optimizer='adam')\n",
        "\n",
        "model2.summary()\n",
        "tf.keras.utils.plot_model(model, show_shapes=True)"
      ],
      "metadata": {
        "colab": {
          "base_uri": "https://localhost:8080/",
          "height": 427
        },
        "id": "-0o8Ggo2EVys",
        "outputId": "d88ab2e5-76b9-4aa1-9ac6-fd4a0481b146"
      },
      "execution_count": 77,
      "outputs": [
        {
          "output_type": "stream",
          "name": "stdout",
          "text": [
            "Model: \"model\"\n",
            "_________________________________________________________________\n",
            " Layer (type)                Output Shape              Param #   \n",
            "=================================================================\n",
            " input_layer (InputLayer)    [(None, 4)]               0         \n",
            "                                                                 \n",
            " softmax_layer (Dense)       (None, 3)                 15        \n",
            "                                                                 \n",
            "=================================================================\n",
            "Total params: 15\n",
            "Trainable params: 15\n",
            "Non-trainable params: 0\n",
            "_________________________________________________________________\n"
          ]
        },
        {
          "output_type": "execute_result",
          "data": {
            "text/plain": [
              "<IPython.core.display.Image object>"
            ],
            "image/png": "[encoded data removed]"
          },
          "metadata": {},
          "execution_count": 77
        }
      ]
    },
    {
      "cell_type": "code",
      "metadata": {
        "id": "4U3tZ7PvbljS",
        "colab": {
          "base_uri": "https://localhost:8080/"
        },
        "outputId": "b4eaf156-0779-4956-a884-eb29626faf2c"
      },
      "source": [
        "###########\n",
        "# 모델 학습\n",
        "###########\n",
        "model.fit(x_train, y_train, epochs=10, verbose=1, validation_split=0.2)"
      ],
      "execution_count": 78,
      "outputs": [
        {
          "output_type": "stream",
          "name": "stdout",
          "text": [
            "Epoch 1/10\n",
            "3/3 [==============================] - 1s 93ms/step - loss: 3.2850 - accuracy: 0.0000e+00 - val_loss: 3.3374 - val_accuracy: 0.0000e+00\n",
            "Epoch 2/10\n",
            "3/3 [==============================] - 0s 15ms/step - loss: 3.2467 - accuracy: 0.0000e+00 - val_loss: 3.3081 - val_accuracy: 0.0000e+00\n",
            "Epoch 3/10\n",
            "3/3 [==============================] - 0s 14ms/step - loss: 3.2118 - accuracy: 0.0000e+00 - val_loss: 3.2803 - val_accuracy: 0.0000e+00\n",
            "Epoch 4/10\n",
            "3/3 [==============================] - 0s 17ms/step - loss: 3.1759 - accuracy: 0.0000e+00 - val_loss: 3.2524 - val_accuracy: 0.0000e+00\n",
            "Epoch 5/10\n",
            "3/3 [==============================] - 0s 13ms/step - loss: 3.1386 - accuracy: 0.0000e+00 - val_loss: 3.2241 - val_accuracy: 0.0000e+00\n",
            "Epoch 6/10\n",
            "3/3 [==============================] - 0s 13ms/step - loss: 3.1052 - accuracy: 0.0000e+00 - val_loss: 3.1960 - val_accuracy: 0.0000e+00\n",
            "Epoch 7/10\n",
            "3/3 [==============================] - 0s 14ms/step - loss: 3.0706 - accuracy: 0.0000e+00 - val_loss: 3.1676 - val_accuracy: 0.0000e+00\n",
            "Epoch 8/10\n",
            "3/3 [==============================] - 0s 13ms/step - loss: 3.0359 - accuracy: 0.0000e+00 - val_loss: 3.1389 - val_accuracy: 0.0000e+00\n",
            "Epoch 9/10\n",
            "3/3 [==============================] - 0s 17ms/step - loss: 3.0033 - accuracy: 0.0000e+00 - val_loss: 3.1098 - val_accuracy: 0.0000e+00\n",
            "Epoch 10/10\n",
            "3/3 [==============================] - 0s 17ms/step - loss: 2.9690 - accuracy: 0.0000e+00 - val_loss: 3.0805 - val_accuracy: 0.0000e+00\n"
          ]
        },
        {
          "output_type": "execute_result",
          "data": {
            "text/plain": [
              "<keras.callbacks.History at 0x7ffbcd90ef50>"
            ]
          },
          "metadata": {},
          "execution_count": 78
        }
      ]
    },
    {
      "cell_type": "code",
      "source": [
        "model2.fit(x_train, y_train, epochs=10, verbose=1, validation_split=0.2)"
      ],
      "metadata": {
        "colab": {
          "base_uri": "https://localhost:8080/"
        },
        "id": "B5LBBlg5Fqid",
        "outputId": "be32a881-ca05-405b-d0fd-58169ab98af2"
      },
      "execution_count": 79,
      "outputs": [
        {
          "output_type": "stream",
          "name": "stdout",
          "text": [
            "Epoch 1/10\n",
            "3/3 [==============================] - 1s 90ms/step - loss: 8.1920 - accuracy: 0.3438 - val_loss: 6.7883 - val_accuracy: 0.3750\n",
            "Epoch 2/10\n",
            "3/3 [==============================] - 0s 14ms/step - loss: 8.1362 - accuracy: 0.3438 - val_loss: 6.7368 - val_accuracy: 0.3750\n",
            "Epoch 3/10\n",
            "3/3 [==============================] - 0s 15ms/step - loss: 8.0805 - accuracy: 0.3438 - val_loss: 6.6856 - val_accuracy: 0.3750\n",
            "Epoch 4/10\n",
            "3/3 [==============================] - 0s 14ms/step - loss: 8.0212 - accuracy: 0.3438 - val_loss: 6.6347 - val_accuracy: 0.3750\n",
            "Epoch 5/10\n",
            "3/3 [==============================] - 0s 16ms/step - loss: 7.9665 - accuracy: 0.3438 - val_loss: 6.5836 - val_accuracy: 0.3750\n",
            "Epoch 6/10\n",
            "3/3 [==============================] - 0s 14ms/step - loss: 7.9094 - accuracy: 0.3438 - val_loss: 6.5326 - val_accuracy: 0.3750\n",
            "Epoch 7/10\n",
            "3/3 [==============================] - 0s 13ms/step - loss: 7.8548 - accuracy: 0.3438 - val_loss: 6.4813 - val_accuracy: 0.3750\n",
            "Epoch 8/10\n",
            "3/3 [==============================] - 0s 15ms/step - loss: 7.7970 - accuracy: 0.3438 - val_loss: 6.4303 - val_accuracy: 0.3750\n",
            "Epoch 9/10\n",
            "3/3 [==============================] - 0s 14ms/step - loss: 7.7440 - accuracy: 0.3438 - val_loss: 6.3789 - val_accuracy: 0.3750\n",
            "Epoch 10/10\n",
            "3/3 [==============================] - 0s 14ms/step - loss: 7.6859 - accuracy: 0.3438 - val_loss: 6.3278 - val_accuracy: 0.3750\n"
          ]
        },
        {
          "output_type": "execute_result",
          "data": {
            "text/plain": [
              "<keras.callbacks.History at 0x7ffbcd4ba4d0>"
            ]
          },
          "metadata": {},
          "execution_count": 79
        }
      ]
    },
    {
      "cell_type": "code",
      "metadata": {
        "id": "prSYRU-_AlYz",
        "colab": {
          "base_uri": "https://localhost:8080/"
        },
        "outputId": "9b025bf5-b2e4-4365-95d1-066509dbf3a5"
      },
      "source": [
        "###########\n",
        "# 모델 예측\n",
        "###########\n",
        "y_pred1 = model.predict(x_test)\n",
        "y_pred1[:5]"
      ],
      "execution_count": 80,
      "outputs": [
        {
          "output_type": "execute_result",
          "data": {
            "text/plain": [
              "array([[7.8410721e-01, 1.5854354e-03, 2.1430734e-01],\n",
              "       [8.6409414e-01, 5.6539732e-04, 1.3534044e-01],\n",
              "       [2.2658311e-01, 1.5233932e-02, 7.5818294e-01],\n",
              "       [7.6540613e-01, 1.5802159e-03, 2.3301357e-01],\n",
              "       [1.5314838e-01, 1.0961848e-02, 8.3588982e-01]], dtype=float32)"
            ]
          },
          "metadata": {},
          "execution_count": 80
        }
      ]
    },
    {
      "cell_type": "code",
      "source": [
        "y_pred1[:5].argmax(axis=1)"
      ],
      "metadata": {
        "colab": {
          "base_uri": "https://localhost:8080/"
        },
        "id": "Hi5bGFV_8EoN",
        "outputId": "daa0faa8-b311-40b4-895f-660fab615b08"
      },
      "execution_count": 81,
      "outputs": [
        {
          "output_type": "execute_result",
          "data": {
            "text/plain": [
              "array([0, 0, 2, 0, 2])"
            ]
          },
          "metadata": {},
          "execution_count": 81
        }
      ]
    },
    {
      "cell_type": "code",
      "source": [
        "y_test[:5]"
      ],
      "metadata": {
        "colab": {
          "base_uri": "https://localhost:8080/"
        },
        "id": "l2Foiix_G-aP",
        "outputId": "aa08c48f-a3d0-4689-8a4e-d086da4723b9"
      },
      "execution_count": 85,
      "outputs": [
        {
          "output_type": "execute_result",
          "data": {
            "text/plain": [
              "array([[0., 0., 1.],\n",
              "       [0., 0., 1.],\n",
              "       [1., 0., 0.],\n",
              "       [0., 0., 1.],\n",
              "       [1., 0., 0.]], dtype=float32)"
            ]
          },
          "metadata": {},
          "execution_count": 85
        }
      ]
    },
    {
      "cell_type": "markdown",
      "metadata": {
        "id": "0xVNQT9V-Iev"
      },
      "source": [
        "# 히든 레이어 추가하여 모델링! (Functional API)\n",
        "\n",
        "    히든 레이어 2개를 추가하여 다시 모델링!\n",
        "    히든 레이어 노드 수 : 32\n",
        "    히든 레이어 activation = 'relu'"
      ]
    },
    {
      "cell_type": "code",
      "metadata": {
        "id": "y3PTU3m--xMa",
        "colab": {
          "base_uri": "https://localhost:8080/",
          "height": 496
        },
        "outputId": "de8130f3-7c69-43e2-cc44-89bfbd4642d8"
      },
      "source": [
        "########\n",
        "# 모델링\n",
        "########\n",
        "clear_session()\n",
        "\n",
        "a = Input(shape=(4,), name='input_layer')\n",
        "h = Dense(32, activation='relu', name='hidden_layer1')(a)\n",
        "h = Dense(32, activation='relu', name='hidden_layer2')(h)\n",
        "b = Dense(3, softmax, name='softmax_layer')(h)\n",
        "\n",
        "model3 = Model(a,b)\n",
        "\n",
        "model3.compile(loss=categorical_crossentropy, metrics=['accuracy'], optimizer='adam')\n",
        "\n",
        "model3.summary()\n",
        "tf.keras.utils.plot_model(model, show_shapes=True)"
      ],
      "execution_count": 96,
      "outputs": [
        {
          "output_type": "stream",
          "name": "stdout",
          "text": [
            "Model: \"model\"\n",
            "_________________________________________________________________\n",
            " Layer (type)                Output Shape              Param #   \n",
            "=================================================================\n",
            " input_layer (InputLayer)    [(None, 4)]               0         \n",
            "                                                                 \n",
            " hidden_layer1 (Dense)       (None, 32)                160       \n",
            "                                                                 \n",
            " hidden_layer2 (Dense)       (None, 32)                1056      \n",
            "                                                                 \n",
            " softmax_layer (Dense)       (None, 3)                 99        \n",
            "                                                                 \n",
            "=================================================================\n",
            "Total params: 1,315\n",
            "Trainable params: 1,315\n",
            "Non-trainable params: 0\n",
            "_________________________________________________________________\n"
          ]
        },
        {
          "output_type": "execute_result",
          "data": {
            "text/plain": [
              "<IPython.core.display.Image object>"
            ],
            "image/png": "[encoded data removed]"
          },
          "metadata": {},
          "execution_count": 96
        }
      ]
    },
    {
      "cell_type": "code",
      "source": [
        "## Early Stopping\n",
        "from tensorflow.keras.callbacks import EarlyStopping\n",
        "es = EarlyStopping(monitor='val_loss',         # 관찰 대상\n",
        "                   min_delta=0,                # 0일 경우 최소한 나빠지지만 않으면 괜찮다는 의미\n",
        "                   patience=3,                 # monitor가 개선되지 않는 경우를 참는 횟수\n",
        "                   verbose=1,                  # Early Stopping 된 것을 보여줌\n",
        "                   restore_best_weights=True)  # 최적의 학습 가중치를 모델에 전달"
      ],
      "metadata": {
        "id": "D_yOh8xYQzFx"
      },
      "execution_count": 97,
      "outputs": []
    },
    {
      "cell_type": "code",
      "metadata": {
        "id": "HbvMea71-xMb",
        "colab": {
          "base_uri": "https://localhost:8080/"
        },
        "outputId": "827abf19-2973-4d2f-cc0a-e5ead318291d"
      },
      "source": [
        "###########\n",
        "# 모델 학습\n",
        "###########\n",
        "hist = model3.fit(x_train, y_train, epochs=500, verbose=1, validation_split=0.2, callbacks=[es])"
      ],
      "execution_count": 98,
      "outputs": [
        {
          "output_type": "stream",
          "name": "stdout",
          "text": [
            "Epoch 1/500\n",
            "3/3 [==============================] - 1s 185ms/step - loss: 2.2006 - accuracy: 0.3229 - val_loss: 1.8062 - val_accuracy: 0.4167\n",
            "Epoch 2/500\n",
            "3/3 [==============================] - 0s 32ms/step - loss: 1.8938 - accuracy: 0.3229 - val_loss: 1.5863 - val_accuracy: 0.4167\n",
            "Epoch 3/500\n",
            "3/3 [==============================] - 0s 48ms/step - loss: 1.6355 - accuracy: 0.3229 - val_loss: 1.4129 - val_accuracy: 0.4167\n",
            "Epoch 4/500\n",
            "3/3 [==============================] - 0s 33ms/step - loss: 1.4343 - accuracy: 0.3229 - val_loss: 1.2759 - val_accuracy: 0.4167\n",
            "Epoch 5/500\n",
            "3/3 [==============================] - 0s 32ms/step - loss: 1.2704 - accuracy: 0.3229 - val_loss: 1.1808 - val_accuracy: 0.4167\n",
            "Epoch 6/500\n",
            "3/3 [==============================] - 0s 56ms/step - loss: 1.1553 - accuracy: 0.4062 - val_loss: 1.1187 - val_accuracy: 0.6250\n",
            "Epoch 7/500\n",
            "3/3 [==============================] - 0s 35ms/step - loss: 1.0836 - accuracy: 0.6458 - val_loss: 1.0752 - val_accuracy: 0.5417\n",
            "Epoch 8/500\n",
            "3/3 [==============================] - 0s 57ms/step - loss: 1.0343 - accuracy: 0.6354 - val_loss: 1.0371 - val_accuracy: 0.5417\n",
            "Epoch 9/500\n",
            "3/3 [==============================] - 0s 33ms/step - loss: 0.9951 - accuracy: 0.5417 - val_loss: 1.0064 - val_accuracy: 0.3333\n",
            "Epoch 10/500\n",
            "3/3 [==============================] - 0s 34ms/step - loss: 0.9667 - accuracy: 0.3646 - val_loss: 0.9794 - val_accuracy: 0.3333\n",
            "Epoch 11/500\n",
            "3/3 [==============================] - 0s 43ms/step - loss: 0.9438 - accuracy: 0.4062 - val_loss: 0.9524 - val_accuracy: 0.4167\n",
            "Epoch 12/500\n",
            "3/3 [==============================] - 0s 61ms/step - loss: 0.9222 - accuracy: 0.5521 - val_loss: 0.9254 - val_accuracy: 0.5833\n",
            "Epoch 13/500\n",
            "3/3 [==============================] - 0s 58ms/step - loss: 0.8988 - accuracy: 0.6458 - val_loss: 0.8978 - val_accuracy: 0.7500\n",
            "Epoch 14/500\n",
            "3/3 [==============================] - 0s 48ms/step - loss: 0.8720 - accuracy: 0.7917 - val_loss: 0.8692 - val_accuracy: 0.8333\n",
            "Epoch 15/500\n",
            "3/3 [==============================] - 0s 37ms/step - loss: 0.8482 - accuracy: 0.8125 - val_loss: 0.8424 - val_accuracy: 0.8333\n",
            "Epoch 16/500\n",
            "3/3 [==============================] - 0s 31ms/step - loss: 0.8195 - accuracy: 0.7917 - val_loss: 0.8163 - val_accuracy: 0.7500\n",
            "Epoch 17/500\n",
            "3/3 [==============================] - 0s 34ms/step - loss: 0.7977 - accuracy: 0.7188 - val_loss: 0.7905 - val_accuracy: 0.6667\n",
            "Epoch 18/500\n",
            "3/3 [==============================] - 0s 35ms/step - loss: 0.7754 - accuracy: 0.6875 - val_loss: 0.7658 - val_accuracy: 0.6667\n",
            "Epoch 19/500\n",
            "3/3 [==============================] - 0s 30ms/step - loss: 0.7543 - accuracy: 0.6875 - val_loss: 0.7416 - val_accuracy: 0.6667\n",
            "Epoch 20/500\n",
            "3/3 [==============================] - 0s 26ms/step - loss: 0.7362 - accuracy: 0.7396 - val_loss: 0.7163 - val_accuracy: 0.7917\n",
            "Epoch 21/500\n",
            "3/3 [==============================] - 0s 33ms/step - loss: 0.7160 - accuracy: 0.8021 - val_loss: 0.6953 - val_accuracy: 0.7917\n",
            "Epoch 22/500\n",
            "3/3 [==============================] - 0s 26ms/step - loss: 0.6981 - accuracy: 0.8229 - val_loss: 0.6735 - val_accuracy: 0.8333\n",
            "Epoch 23/500\n",
            "3/3 [==============================] - 0s 42ms/step - loss: 0.6794 - accuracy: 0.8750 - val_loss: 0.6543 - val_accuracy: 0.8333\n",
            "Epoch 24/500\n",
            "3/3 [==============================] - 0s 29ms/step - loss: 0.6622 - accuracy: 0.8854 - val_loss: 0.6370 - val_accuracy: 0.8333\n",
            "Epoch 25/500\n",
            "3/3 [==============================] - 0s 37ms/step - loss: 0.6458 - accuracy: 0.8854 - val_loss: 0.6196 - val_accuracy: 0.8333\n",
            "Epoch 26/500\n",
            "3/3 [==============================] - 0s 23ms/step - loss: 0.6298 - accuracy: 0.8854 - val_loss: 0.6021 - val_accuracy: 0.8750\n",
            "Epoch 27/500\n",
            "3/3 [==============================] - 0s 44ms/step - loss: 0.6140 - accuracy: 0.8958 - val_loss: 0.5863 - val_accuracy: 0.8750\n",
            "Epoch 28/500\n",
            "3/3 [==============================] - 0s 26ms/step - loss: 0.5993 - accuracy: 0.8854 - val_loss: 0.5731 - val_accuracy: 0.8333\n",
            "Epoch 29/500\n",
            "3/3 [==============================] - 0s 51ms/step - loss: 0.5853 - accuracy: 0.8958 - val_loss: 0.5575 - val_accuracy: 0.8750\n",
            "Epoch 30/500\n",
            "3/3 [==============================] - 0s 39ms/step - loss: 0.5732 - accuracy: 0.8854 - val_loss: 0.5449 - val_accuracy: 0.8333\n",
            "Epoch 31/500\n",
            "3/3 [==============================] - 0s 28ms/step - loss: 0.5590 - accuracy: 0.8854 - val_loss: 0.5296 - val_accuracy: 0.9583\n",
            "Epoch 32/500\n",
            "3/3 [==============================] - 0s 32ms/step - loss: 0.5465 - accuracy: 0.8958 - val_loss: 0.5158 - val_accuracy: 0.9583\n",
            "Epoch 33/500\n",
            "3/3 [==============================] - 0s 32ms/step - loss: 0.5354 - accuracy: 0.9062 - val_loss: 0.5023 - val_accuracy: 0.9583\n",
            "Epoch 34/500\n",
            "3/3 [==============================] - 0s 37ms/step - loss: 0.5245 - accuracy: 0.9062 - val_loss: 0.4924 - val_accuracy: 0.9583\n",
            "Epoch 35/500\n",
            "3/3 [==============================] - 0s 35ms/step - loss: 0.5129 - accuracy: 0.9062 - val_loss: 0.4808 - val_accuracy: 0.9583\n",
            "Epoch 36/500\n",
            "3/3 [==============================] - 0s 25ms/step - loss: 0.5027 - accuracy: 0.9062 - val_loss: 0.4704 - val_accuracy: 0.9583\n",
            "Epoch 37/500\n",
            "3/3 [==============================] - 0s 23ms/step - loss: 0.4927 - accuracy: 0.9062 - val_loss: 0.4615 - val_accuracy: 0.9583\n",
            "Epoch 38/500\n",
            "3/3 [==============================] - 0s 29ms/step - loss: 0.4833 - accuracy: 0.9062 - val_loss: 0.4531 - val_accuracy: 0.9583\n",
            "Epoch 39/500\n",
            "3/3 [==============================] - 0s 22ms/step - loss: 0.4749 - accuracy: 0.9062 - val_loss: 0.4455 - val_accuracy: 0.9583\n",
            "Epoch 40/500\n",
            "3/3 [==============================] - 0s 29ms/step - loss: 0.4656 - accuracy: 0.9062 - val_loss: 0.4357 - val_accuracy: 0.9583\n",
            "Epoch 41/500\n",
            "3/3 [==============================] - 0s 47ms/step - loss: 0.4565 - accuracy: 0.9062 - val_loss: 0.4239 - val_accuracy: 0.9583\n",
            "Epoch 42/500\n",
            "3/3 [==============================] - 0s 29ms/step - loss: 0.4488 - accuracy: 0.9479 - val_loss: 0.4101 - val_accuracy: 0.9583\n",
            "Epoch 43/500\n",
            "3/3 [==============================] - 0s 22ms/step - loss: 0.4368 - accuracy: 0.9688 - val_loss: 0.3996 - val_accuracy: 0.9583\n",
            "Epoch 44/500\n",
            "3/3 [==============================] - 0s 48ms/step - loss: 0.4274 - accuracy: 0.9688 - val_loss: 0.3890 - val_accuracy: 0.9583\n",
            "Epoch 45/500\n",
            "3/3 [==============================] - 0s 42ms/step - loss: 0.4160 - accuracy: 0.9688 - val_loss: 0.3822 - val_accuracy: 0.9583\n",
            "Epoch 46/500\n",
            "3/3 [==============================] - 0s 36ms/step - loss: 0.4073 - accuracy: 0.9479 - val_loss: 0.3754 - val_accuracy: 0.9583\n",
            "Epoch 47/500\n",
            "3/3 [==============================] - 0s 43ms/step - loss: 0.3991 - accuracy: 0.9271 - val_loss: 0.3692 - val_accuracy: 0.9583\n",
            "Epoch 48/500\n",
            "3/3 [==============================] - 0s 35ms/step - loss: 0.3922 - accuracy: 0.9271 - val_loss: 0.3641 - val_accuracy: 0.9583\n",
            "Epoch 49/500\n",
            "3/3 [==============================] - 0s 42ms/step - loss: 0.3864 - accuracy: 0.9271 - val_loss: 0.3566 - val_accuracy: 0.9583\n",
            "Epoch 50/500\n",
            "3/3 [==============================] - 0s 54ms/step - loss: 0.3785 - accuracy: 0.9375 - val_loss: 0.3473 - val_accuracy: 0.9583\n",
            "Epoch 51/500\n",
            "3/3 [==============================] - 0s 25ms/step - loss: 0.3729 - accuracy: 0.9583 - val_loss: 0.3405 - val_accuracy: 0.9583\n",
            "Epoch 52/500\n",
            "3/3 [==============================] - 0s 24ms/step - loss: 0.3676 - accuracy: 0.9688 - val_loss: 0.3336 - val_accuracy: 0.9583\n",
            "Epoch 53/500\n",
            "3/3 [==============================] - 0s 23ms/step - loss: 0.3619 - accuracy: 0.9688 - val_loss: 0.3286 - val_accuracy: 0.9583\n",
            "Epoch 54/500\n",
            "3/3 [==============================] - 0s 21ms/step - loss: 0.3567 - accuracy: 0.9583 - val_loss: 0.3237 - val_accuracy: 0.9583\n",
            "Epoch 55/500\n",
            "3/3 [==============================] - 0s 24ms/step - loss: 0.3513 - accuracy: 0.9688 - val_loss: 0.3197 - val_accuracy: 0.9583\n",
            "Epoch 56/500\n",
            "3/3 [==============================] - 0s 26ms/step - loss: 0.3467 - accuracy: 0.9583 - val_loss: 0.3186 - val_accuracy: 0.9583\n",
            "Epoch 57/500\n",
            "3/3 [==============================] - 0s 15ms/step - loss: 0.3414 - accuracy: 0.9479 - val_loss: 0.3155 - val_accuracy: 0.9583\n",
            "Epoch 58/500\n",
            "3/3 [==============================] - 0s 15ms/step - loss: 0.3365 - accuracy: 0.9479 - val_loss: 0.3104 - val_accuracy: 0.9583\n",
            "Epoch 59/500\n",
            "3/3 [==============================] - 0s 18ms/step - loss: 0.3315 - accuracy: 0.9479 - val_loss: 0.3051 - val_accuracy: 0.9583\n",
            "Epoch 60/500\n",
            "3/3 [==============================] - 0s 16ms/step - loss: 0.3266 - accuracy: 0.9688 - val_loss: 0.2993 - val_accuracy: 0.9583\n",
            "Epoch 61/500\n",
            "3/3 [==============================] - 0s 19ms/step - loss: 0.3222 - accuracy: 0.9688 - val_loss: 0.2941 - val_accuracy: 0.9583\n",
            "Epoch 62/500\n",
            "3/3 [==============================] - 0s 16ms/step - loss: 0.3182 - accuracy: 0.9688 - val_loss: 0.2890 - val_accuracy: 0.9583\n",
            "Epoch 63/500\n",
            "3/3 [==============================] - 0s 16ms/step - loss: 0.3135 - accuracy: 0.9688 - val_loss: 0.2859 - val_accuracy: 0.9583\n",
            "Epoch 64/500\n",
            "3/3 [==============================] - 0s 15ms/step - loss: 0.3095 - accuracy: 0.9688 - val_loss: 0.2826 - val_accuracy: 0.9583\n",
            "Epoch 65/500\n",
            "3/3 [==============================] - 0s 14ms/step - loss: 0.3048 - accuracy: 0.9688 - val_loss: 0.2804 - val_accuracy: 0.9583\n",
            "Epoch 66/500\n",
            "3/3 [==============================] - 0s 17ms/step - loss: 0.3011 - accuracy: 0.9688 - val_loss: 0.2763 - val_accuracy: 0.9583\n",
            "Epoch 67/500\n",
            "3/3 [==============================] - 0s 15ms/step - loss: 0.2979 - accuracy: 0.9688 - val_loss: 0.2744 - val_accuracy: 0.9583\n",
            "Epoch 68/500\n",
            "3/3 [==============================] - 0s 17ms/step - loss: 0.2950 - accuracy: 0.9583 - val_loss: 0.2669 - val_accuracy: 0.9583\n",
            "Epoch 69/500\n",
            "3/3 [==============================] - 0s 16ms/step - loss: 0.2895 - accuracy: 0.9688 - val_loss: 0.2626 - val_accuracy: 0.9583\n",
            "Epoch 70/500\n",
            "3/3 [==============================] - 0s 16ms/step - loss: 0.2858 - accuracy: 0.9688 - val_loss: 0.2612 - val_accuracy: 0.9583\n",
            "Epoch 71/500\n",
            "3/3 [==============================] - 0s 15ms/step - loss: 0.2812 - accuracy: 0.9688 - val_loss: 0.2576 - val_accuracy: 0.9583\n",
            "Epoch 72/500\n",
            "3/3 [==============================] - 0s 15ms/step - loss: 0.2774 - accuracy: 0.9688 - val_loss: 0.2540 - val_accuracy: 0.9583\n",
            "Epoch 73/500\n",
            "3/3 [==============================] - 0s 15ms/step - loss: 0.2745 - accuracy: 0.9688 - val_loss: 0.2516 - val_accuracy: 0.9583\n",
            "Epoch 74/500\n",
            "3/3 [==============================] - 0s 16ms/step - loss: 0.2703 - accuracy: 0.9688 - val_loss: 0.2471 - val_accuracy: 0.9583\n",
            "Epoch 75/500\n",
            "3/3 [==============================] - 0s 15ms/step - loss: 0.2691 - accuracy: 0.9688 - val_loss: 0.2415 - val_accuracy: 0.9583\n",
            "Epoch 76/500\n",
            "3/3 [==============================] - 0s 16ms/step - loss: 0.2640 - accuracy: 0.9688 - val_loss: 0.2402 - val_accuracy: 0.9583\n",
            "Epoch 77/500\n",
            "3/3 [==============================] - 0s 18ms/step - loss: 0.2604 - accuracy: 0.9688 - val_loss: 0.2392 - val_accuracy: 0.9583\n",
            "Epoch 78/500\n",
            "3/3 [==============================] - 0s 16ms/step - loss: 0.2573 - accuracy: 0.9688 - val_loss: 0.2342 - val_accuracy: 0.9583\n",
            "Epoch 79/500\n",
            "3/3 [==============================] - 0s 18ms/step - loss: 0.2529 - accuracy: 0.9688 - val_loss: 0.2313 - val_accuracy: 0.9583\n",
            "Epoch 80/500\n",
            "3/3 [==============================] - 0s 19ms/step - loss: 0.2498 - accuracy: 0.9688 - val_loss: 0.2287 - val_accuracy: 0.9583\n",
            "Epoch 81/500\n",
            "3/3 [==============================] - 0s 16ms/step - loss: 0.2467 - accuracy: 0.9688 - val_loss: 0.2262 - val_accuracy: 0.9583\n",
            "Epoch 82/500\n",
            "3/3 [==============================] - 0s 17ms/step - loss: 0.2439 - accuracy: 0.9688 - val_loss: 0.2216 - val_accuracy: 0.9583\n",
            "Epoch 83/500\n",
            "3/3 [==============================] - 0s 16ms/step - loss: 0.2408 - accuracy: 0.9688 - val_loss: 0.2185 - val_accuracy: 0.9583\n",
            "Epoch 84/500\n",
            "3/3 [==============================] - 0s 17ms/step - loss: 0.2375 - accuracy: 0.9688 - val_loss: 0.2172 - val_accuracy: 0.9583\n",
            "Epoch 85/500\n",
            "3/3 [==============================] - 0s 15ms/step - loss: 0.2348 - accuracy: 0.9688 - val_loss: 0.2149 - val_accuracy: 0.9583\n",
            "Epoch 86/500\n",
            "3/3 [==============================] - 0s 17ms/step - loss: 0.2320 - accuracy: 0.9688 - val_loss: 0.2108 - val_accuracy: 0.9583\n",
            "Epoch 87/500\n",
            "3/3 [==============================] - 0s 20ms/step - loss: 0.2296 - accuracy: 0.9688 - val_loss: 0.2090 - val_accuracy: 0.9583\n",
            "Epoch 88/500\n",
            "3/3 [==============================] - 0s 17ms/step - loss: 0.2266 - accuracy: 0.9688 - val_loss: 0.2042 - val_accuracy: 0.9583\n",
            "Epoch 89/500\n",
            "3/3 [==============================] - 0s 17ms/step - loss: 0.2239 - accuracy: 0.9688 - val_loss: 0.2027 - val_accuracy: 0.9583\n",
            "Epoch 90/500\n",
            "3/3 [==============================] - 0s 15ms/step - loss: 0.2230 - accuracy: 0.9583 - val_loss: 0.1988 - val_accuracy: 0.9583\n",
            "Epoch 91/500\n",
            "3/3 [==============================] - 0s 20ms/step - loss: 0.2171 - accuracy: 0.9688 - val_loss: 0.1976 - val_accuracy: 0.9583\n",
            "Epoch 92/500\n",
            "3/3 [==============================] - 0s 18ms/step - loss: 0.2142 - accuracy: 0.9688 - val_loss: 0.1973 - val_accuracy: 0.9583\n",
            "Epoch 93/500\n",
            "3/3 [==============================] - 0s 15ms/step - loss: 0.2136 - accuracy: 0.9688 - val_loss: 0.1965 - val_accuracy: 0.9583\n",
            "Epoch 94/500\n",
            "3/3 [==============================] - 0s 19ms/step - loss: 0.2098 - accuracy: 0.9688 - val_loss: 0.1921 - val_accuracy: 0.9583\n",
            "Epoch 95/500\n",
            "3/3 [==============================] - 0s 15ms/step - loss: 0.2065 - accuracy: 0.9688 - val_loss: 0.1881 - val_accuracy: 0.9583\n",
            "Epoch 96/500\n",
            "3/3 [==============================] - 0s 17ms/step - loss: 0.2048 - accuracy: 0.9688 - val_loss: 0.1848 - val_accuracy: 1.0000\n",
            "Epoch 97/500\n",
            "3/3 [==============================] - 0s 16ms/step - loss: 0.2024 - accuracy: 0.9792 - val_loss: 0.1828 - val_accuracy: 0.9583\n",
            "Epoch 98/500\n",
            "3/3 [==============================] - 0s 17ms/step - loss: 0.1998 - accuracy: 0.9688 - val_loss: 0.1819 - val_accuracy: 0.9583\n",
            "Epoch 99/500\n",
            "3/3 [==============================] - 0s 17ms/step - loss: 0.1985 - accuracy: 0.9688 - val_loss: 0.1818 - val_accuracy: 0.9583\n",
            "Epoch 100/500\n",
            "3/3 [==============================] - 0s 17ms/step - loss: 0.1954 - accuracy: 0.9688 - val_loss: 0.1789 - val_accuracy: 0.9583\n",
            "Epoch 101/500\n",
            "3/3 [==============================] - 0s 16ms/step - loss: 0.1947 - accuracy: 0.9688 - val_loss: 0.1743 - val_accuracy: 0.9583\n",
            "Epoch 102/500\n",
            "3/3 [==============================] - 0s 17ms/step - loss: 0.1910 - accuracy: 0.9792 - val_loss: 0.1722 - val_accuracy: 0.9583\n",
            "Epoch 103/500\n",
            "3/3 [==============================] - 0s 14ms/step - loss: 0.1891 - accuracy: 0.9792 - val_loss: 0.1703 - val_accuracy: 0.9583\n",
            "Epoch 104/500\n",
            "3/3 [==============================] - 0s 15ms/step - loss: 0.1860 - accuracy: 0.9688 - val_loss: 0.1694 - val_accuracy: 0.9583\n",
            "Epoch 105/500\n",
            "3/3 [==============================] - 0s 15ms/step - loss: 0.1853 - accuracy: 0.9688 - val_loss: 0.1701 - val_accuracy: 0.9583\n",
            "Epoch 106/500\n",
            "3/3 [==============================] - 0s 20ms/step - loss: 0.1831 - accuracy: 0.9688 - val_loss: 0.1664 - val_accuracy: 0.9583\n",
            "Epoch 107/500\n",
            "3/3 [==============================] - 0s 18ms/step - loss: 0.1801 - accuracy: 0.9688 - val_loss: 0.1634 - val_accuracy: 0.9583\n",
            "Epoch 108/500\n",
            "3/3 [==============================] - 0s 17ms/step - loss: 0.1781 - accuracy: 0.9688 - val_loss: 0.1612 - val_accuracy: 0.9583\n",
            "Epoch 109/500\n",
            "3/3 [==============================] - 0s 15ms/step - loss: 0.1763 - accuracy: 0.9688 - val_loss: 0.1594 - val_accuracy: 0.9583\n",
            "Epoch 110/500\n",
            "3/3 [==============================] - 0s 16ms/step - loss: 0.1747 - accuracy: 0.9688 - val_loss: 0.1579 - val_accuracy: 0.9583\n",
            "Epoch 111/500\n",
            "3/3 [==============================] - 0s 17ms/step - loss: 0.1726 - accuracy: 0.9688 - val_loss: 0.1555 - val_accuracy: 0.9583\n",
            "Epoch 112/500\n",
            "3/3 [==============================] - 0s 18ms/step - loss: 0.1707 - accuracy: 0.9792 - val_loss: 0.1539 - val_accuracy: 0.9583\n",
            "Epoch 113/500\n",
            "3/3 [==============================] - 0s 25ms/step - loss: 0.1690 - accuracy: 0.9688 - val_loss: 0.1530 - val_accuracy: 0.9583\n",
            "Epoch 114/500\n",
            "3/3 [==============================] - 0s 15ms/step - loss: 0.1670 - accuracy: 0.9688 - val_loss: 0.1511 - val_accuracy: 0.9583\n",
            "Epoch 115/500\n",
            "3/3 [==============================] - 0s 16ms/step - loss: 0.1654 - accuracy: 0.9688 - val_loss: 0.1493 - val_accuracy: 0.9583\n",
            "Epoch 116/500\n",
            "3/3 [==============================] - 0s 15ms/step - loss: 0.1634 - accuracy: 0.9792 - val_loss: 0.1479 - val_accuracy: 0.9583\n",
            "Epoch 117/500\n",
            "3/3 [==============================] - 0s 15ms/step - loss: 0.1634 - accuracy: 0.9688 - val_loss: 0.1472 - val_accuracy: 0.9583\n",
            "Epoch 118/500\n",
            "3/3 [==============================] - 0s 17ms/step - loss: 0.1601 - accuracy: 0.9688 - val_loss: 0.1448 - val_accuracy: 0.9583\n",
            "Epoch 119/500\n",
            "3/3 [==============================] - 0s 17ms/step - loss: 0.1584 - accuracy: 0.9792 - val_loss: 0.1427 - val_accuracy: 1.0000\n",
            "Epoch 120/500\n",
            "3/3 [==============================] - 0s 15ms/step - loss: 0.1573 - accuracy: 0.9792 - val_loss: 0.1413 - val_accuracy: 0.9583\n",
            "Epoch 121/500\n",
            "3/3 [==============================] - 0s 18ms/step - loss: 0.1555 - accuracy: 0.9792 - val_loss: 0.1399 - val_accuracy: 0.9583\n",
            "Epoch 122/500\n",
            "3/3 [==============================] - 0s 17ms/step - loss: 0.1537 - accuracy: 0.9792 - val_loss: 0.1384 - val_accuracy: 0.9583\n",
            "Epoch 123/500\n",
            "3/3 [==============================] - 0s 15ms/step - loss: 0.1535 - accuracy: 0.9792 - val_loss: 0.1374 - val_accuracy: 0.9583\n",
            "Epoch 124/500\n",
            "3/3 [==============================] - 0s 18ms/step - loss: 0.1513 - accuracy: 0.9688 - val_loss: 0.1362 - val_accuracy: 0.9583\n",
            "Epoch 125/500\n",
            "3/3 [==============================] - 0s 17ms/step - loss: 0.1515 - accuracy: 0.9792 - val_loss: 0.1340 - val_accuracy: 1.0000\n",
            "Epoch 126/500\n",
            "3/3 [==============================] - 0s 15ms/step - loss: 0.1482 - accuracy: 0.9792 - val_loss: 0.1330 - val_accuracy: 1.0000\n",
            "Epoch 127/500\n",
            "3/3 [==============================] - 0s 18ms/step - loss: 0.1472 - accuracy: 0.9792 - val_loss: 0.1326 - val_accuracy: 0.9583\n",
            "Epoch 128/500\n",
            "3/3 [==============================] - 0s 16ms/step - loss: 0.1453 - accuracy: 0.9792 - val_loss: 0.1309 - val_accuracy: 0.9583\n",
            "Epoch 129/500\n",
            "3/3 [==============================] - 0s 16ms/step - loss: 0.1449 - accuracy: 0.9792 - val_loss: 0.1299 - val_accuracy: 0.9583\n",
            "Epoch 130/500\n",
            "3/3 [==============================] - 0s 18ms/step - loss: 0.1424 - accuracy: 0.9792 - val_loss: 0.1280 - val_accuracy: 1.0000\n",
            "Epoch 131/500\n",
            "3/3 [==============================] - 0s 22ms/step - loss: 0.1420 - accuracy: 0.9792 - val_loss: 0.1266 - val_accuracy: 1.0000\n",
            "Epoch 132/500\n",
            "3/3 [==============================] - 0s 18ms/step - loss: 0.1412 - accuracy: 0.9792 - val_loss: 0.1259 - val_accuracy: 0.9583\n",
            "Epoch 133/500\n",
            "3/3 [==============================] - 0s 20ms/step - loss: 0.1386 - accuracy: 0.9792 - val_loss: 0.1248 - val_accuracy: 0.9583\n",
            "Epoch 134/500\n",
            "3/3 [==============================] - 0s 17ms/step - loss: 0.1385 - accuracy: 0.9792 - val_loss: 0.1244 - val_accuracy: 0.9583\n",
            "Epoch 135/500\n",
            "3/3 [==============================] - 0s 21ms/step - loss: 0.1366 - accuracy: 0.9792 - val_loss: 0.1228 - val_accuracy: 0.9583\n",
            "Epoch 136/500\n",
            "3/3 [==============================] - 0s 20ms/step - loss: 0.1359 - accuracy: 0.9792 - val_loss: 0.1212 - val_accuracy: 1.0000\n",
            "Epoch 137/500\n",
            "3/3 [==============================] - 0s 16ms/step - loss: 0.1338 - accuracy: 0.9792 - val_loss: 0.1200 - val_accuracy: 1.0000\n",
            "Epoch 138/500\n",
            "3/3 [==============================] - 0s 17ms/step - loss: 0.1334 - accuracy: 0.9792 - val_loss: 0.1189 - val_accuracy: 1.0000\n",
            "Epoch 139/500\n",
            "3/3 [==============================] - 0s 16ms/step - loss: 0.1330 - accuracy: 0.9792 - val_loss: 0.1184 - val_accuracy: 0.9583\n",
            "Epoch 140/500\n",
            "3/3 [==============================] - 0s 16ms/step - loss: 0.1317 - accuracy: 0.9792 - val_loss: 0.1176 - val_accuracy: 0.9583\n",
            "Epoch 141/500\n",
            "3/3 [==============================] - 0s 18ms/step - loss: 0.1309 - accuracy: 0.9792 - val_loss: 0.1160 - val_accuracy: 1.0000\n",
            "Epoch 142/500\n",
            "3/3 [==============================] - 0s 16ms/step - loss: 0.1293 - accuracy: 0.9792 - val_loss: 0.1155 - val_accuracy: 0.9583\n",
            "Epoch 143/500\n",
            "3/3 [==============================] - 0s 20ms/step - loss: 0.1276 - accuracy: 0.9792 - val_loss: 0.1143 - val_accuracy: 1.0000\n",
            "Epoch 144/500\n",
            "3/3 [==============================] - 0s 19ms/step - loss: 0.1263 - accuracy: 0.9792 - val_loss: 0.1134 - val_accuracy: 1.0000\n",
            "Epoch 145/500\n",
            "3/3 [==============================] - 0s 17ms/step - loss: 0.1272 - accuracy: 0.9792 - val_loss: 0.1123 - val_accuracy: 1.0000\n",
            "Epoch 146/500\n",
            "3/3 [==============================] - 0s 17ms/step - loss: 0.1250 - accuracy: 0.9792 - val_loss: 0.1115 - val_accuracy: 1.0000\n",
            "Epoch 147/500\n",
            "3/3 [==============================] - 0s 16ms/step - loss: 0.1231 - accuracy: 0.9792 - val_loss: 0.1111 - val_accuracy: 0.9583\n",
            "Epoch 148/500\n",
            "3/3 [==============================] - 0s 15ms/step - loss: 0.1231 - accuracy: 0.9792 - val_loss: 0.1109 - val_accuracy: 0.9583\n",
            "Epoch 149/500\n",
            "3/3 [==============================] - 0s 17ms/step - loss: 0.1235 - accuracy: 0.9792 - val_loss: 0.1090 - val_accuracy: 1.0000\n",
            "Epoch 150/500\n",
            "3/3 [==============================] - 0s 17ms/step - loss: 0.1214 - accuracy: 0.9792 - val_loss: 0.1083 - val_accuracy: 0.9583\n",
            "Epoch 151/500\n",
            "3/3 [==============================] - 0s 22ms/step - loss: 0.1202 - accuracy: 0.9792 - val_loss: 0.1073 - val_accuracy: 1.0000\n",
            "Epoch 152/500\n",
            "3/3 [==============================] - 0s 17ms/step - loss: 0.1189 - accuracy: 0.9792 - val_loss: 0.1065 - val_accuracy: 1.0000\n",
            "Epoch 153/500\n",
            "3/3 [==============================] - 0s 15ms/step - loss: 0.1184 - accuracy: 0.9792 - val_loss: 0.1057 - val_accuracy: 1.0000\n",
            "Epoch 154/500\n",
            "3/3 [==============================] - 0s 16ms/step - loss: 0.1185 - accuracy: 0.9792 - val_loss: 0.1057 - val_accuracy: 0.9583\n",
            "Epoch 155/500\n",
            "3/3 [==============================] - 0s 16ms/step - loss: 0.1170 - accuracy: 0.9792 - val_loss: 0.1043 - val_accuracy: 1.0000\n",
            "Epoch 156/500\n",
            "3/3 [==============================] - 0s 16ms/step - loss: 0.1159 - accuracy: 0.9792 - val_loss: 0.1035 - val_accuracy: 1.0000\n",
            "Epoch 157/500\n",
            "3/3 [==============================] - 0s 22ms/step - loss: 0.1149 - accuracy: 0.9792 - val_loss: 0.1028 - val_accuracy: 1.0000\n",
            "Epoch 158/500\n",
            "3/3 [==============================] - 0s 15ms/step - loss: 0.1140 - accuracy: 0.9792 - val_loss: 0.1021 - val_accuracy: 1.0000\n",
            "Epoch 159/500\n",
            "3/3 [==============================] - 0s 17ms/step - loss: 0.1133 - accuracy: 0.9792 - val_loss: 0.1014 - val_accuracy: 1.0000\n",
            "Epoch 160/500\n",
            "3/3 [==============================] - 0s 15ms/step - loss: 0.1127 - accuracy: 0.9792 - val_loss: 0.1006 - val_accuracy: 1.0000\n",
            "Epoch 161/500\n",
            "3/3 [==============================] - 0s 15ms/step - loss: 0.1128 - accuracy: 0.9792 - val_loss: 0.1000 - val_accuracy: 1.0000\n",
            "Epoch 162/500\n",
            "3/3 [==============================] - 0s 16ms/step - loss: 0.1110 - accuracy: 0.9792 - val_loss: 0.0993 - val_accuracy: 1.0000\n",
            "Epoch 163/500\n",
            "3/3 [==============================] - 0s 16ms/step - loss: 0.1102 - accuracy: 0.9792 - val_loss: 0.0988 - val_accuracy: 1.0000\n",
            "Epoch 164/500\n",
            "3/3 [==============================] - 0s 28ms/step - loss: 0.1096 - accuracy: 0.9792 - val_loss: 0.0986 - val_accuracy: 0.9583\n",
            "Epoch 165/500\n",
            "3/3 [==============================] - 0s 15ms/step - loss: 0.1096 - accuracy: 0.9792 - val_loss: 0.0975 - val_accuracy: 1.0000\n",
            "Epoch 166/500\n",
            "3/3 [==============================] - 0s 18ms/step - loss: 0.1091 - accuracy: 0.9792 - val_loss: 0.0972 - val_accuracy: 0.9583\n",
            "Epoch 167/500\n",
            "3/3 [==============================] - 0s 19ms/step - loss: 0.1077 - accuracy: 0.9792 - val_loss: 0.0963 - val_accuracy: 0.9583\n",
            "Epoch 168/500\n",
            "3/3 [==============================] - 0s 17ms/step - loss: 0.1067 - accuracy: 0.9792 - val_loss: 0.0955 - val_accuracy: 1.0000\n",
            "Epoch 169/500\n",
            "3/3 [==============================] - 0s 18ms/step - loss: 0.1063 - accuracy: 0.9792 - val_loss: 0.0952 - val_accuracy: 1.0000\n",
            "Epoch 170/500\n",
            "3/3 [==============================] - 0s 18ms/step - loss: 0.1062 - accuracy: 0.9792 - val_loss: 0.0944 - val_accuracy: 1.0000\n",
            "Epoch 171/500\n",
            "3/3 [==============================] - 0s 16ms/step - loss: 0.1057 - accuracy: 0.9792 - val_loss: 0.0938 - val_accuracy: 1.0000\n",
            "Epoch 172/500\n",
            "3/3 [==============================] - 0s 16ms/step - loss: 0.1048 - accuracy: 0.9792 - val_loss: 0.0933 - val_accuracy: 1.0000\n",
            "Epoch 173/500\n",
            "3/3 [==============================] - 0s 16ms/step - loss: 0.1032 - accuracy: 0.9792 - val_loss: 0.0936 - val_accuracy: 0.9583\n",
            "Epoch 174/500\n",
            "3/3 [==============================] - 0s 18ms/step - loss: 0.1035 - accuracy: 0.9792 - val_loss: 0.0931 - val_accuracy: 0.9583\n",
            "Epoch 175/500\n",
            "3/3 [==============================] - 0s 19ms/step - loss: 0.1029 - accuracy: 0.9792 - val_loss: 0.0920 - val_accuracy: 0.9583\n",
            "Epoch 176/500\n",
            "3/3 [==============================] - 0s 17ms/step - loss: 0.1021 - accuracy: 0.9792 - val_loss: 0.0911 - val_accuracy: 1.0000\n",
            "Epoch 177/500\n",
            "3/3 [==============================] - 0s 17ms/step - loss: 0.1018 - accuracy: 0.9792 - val_loss: 0.0906 - val_accuracy: 1.0000\n",
            "Epoch 178/500\n",
            "3/3 [==============================] - 0s 15ms/step - loss: 0.1022 - accuracy: 0.9792 - val_loss: 0.0900 - val_accuracy: 1.0000\n",
            "Epoch 179/500\n",
            "3/3 [==============================] - 0s 23ms/step - loss: 0.1026 - accuracy: 0.9792 - val_loss: 0.0900 - val_accuracy: 1.0000\n",
            "Epoch 180/500\n",
            "3/3 [==============================] - 0s 16ms/step - loss: 0.1003 - accuracy: 0.9792 - val_loss: 0.0891 - val_accuracy: 1.0000\n",
            "Epoch 181/500\n",
            "3/3 [==============================] - 0s 17ms/step - loss: 0.0989 - accuracy: 0.9792 - val_loss: 0.0887 - val_accuracy: 1.0000\n",
            "Epoch 182/500\n",
            "3/3 [==============================] - 0s 17ms/step - loss: 0.0988 - accuracy: 0.9792 - val_loss: 0.0886 - val_accuracy: 0.9583\n",
            "Epoch 183/500\n",
            "3/3 [==============================] - 0s 16ms/step - loss: 0.0982 - accuracy: 0.9792 - val_loss: 0.0879 - val_accuracy: 0.9583\n",
            "Epoch 184/500\n",
            "3/3 [==============================] - 0s 16ms/step - loss: 0.0973 - accuracy: 0.9792 - val_loss: 0.0872 - val_accuracy: 1.0000\n",
            "Epoch 185/500\n",
            "3/3 [==============================] - 0s 16ms/step - loss: 0.0973 - accuracy: 0.9792 - val_loss: 0.0869 - val_accuracy: 1.0000\n",
            "Epoch 186/500\n",
            "3/3 [==============================] - 0s 15ms/step - loss: 0.0966 - accuracy: 0.9792 - val_loss: 0.0864 - val_accuracy: 1.0000\n",
            "Epoch 187/500\n",
            "3/3 [==============================] - 0s 16ms/step - loss: 0.0962 - accuracy: 0.9792 - val_loss: 0.0859 - val_accuracy: 1.0000\n",
            "Epoch 188/500\n",
            "3/3 [==============================] - 0s 16ms/step - loss: 0.0955 - accuracy: 0.9792 - val_loss: 0.0855 - val_accuracy: 1.0000\n",
            "Epoch 189/500\n",
            "3/3 [==============================] - 0s 20ms/step - loss: 0.0949 - accuracy: 0.9792 - val_loss: 0.0850 - val_accuracy: 1.0000\n",
            "Epoch 190/500\n",
            "3/3 [==============================] - 0s 17ms/step - loss: 0.0947 - accuracy: 0.9792 - val_loss: 0.0846 - val_accuracy: 1.0000\n",
            "Epoch 191/500\n",
            "3/3 [==============================] - 0s 17ms/step - loss: 0.0953 - accuracy: 0.9792 - val_loss: 0.0842 - val_accuracy: 1.0000\n",
            "Epoch 192/500\n",
            "3/3 [==============================] - 0s 16ms/step - loss: 0.0938 - accuracy: 0.9792 - val_loss: 0.0839 - val_accuracy: 1.0000\n",
            "Epoch 193/500\n",
            "3/3 [==============================] - 0s 16ms/step - loss: 0.0935 - accuracy: 0.9792 - val_loss: 0.0834 - val_accuracy: 1.0000\n",
            "Epoch 194/500\n",
            "3/3 [==============================] - 0s 16ms/step - loss: 0.0928 - accuracy: 0.9792 - val_loss: 0.0832 - val_accuracy: 0.9583\n",
            "Epoch 195/500\n",
            "3/3 [==============================] - 0s 19ms/step - loss: 0.0929 - accuracy: 0.9792 - val_loss: 0.0826 - val_accuracy: 1.0000\n",
            "Epoch 196/500\n",
            "3/3 [==============================] - 0s 16ms/step - loss: 0.0930 - accuracy: 0.9792 - val_loss: 0.0823 - val_accuracy: 1.0000\n",
            "Epoch 197/500\n",
            "3/3 [==============================] - 0s 19ms/step - loss: 0.0922 - accuracy: 0.9792 - val_loss: 0.0820 - val_accuracy: 1.0000\n",
            "Epoch 198/500\n",
            "3/3 [==============================] - 0s 18ms/step - loss: 0.0915 - accuracy: 0.9792 - val_loss: 0.0817 - val_accuracy: 1.0000\n",
            "Epoch 199/500\n",
            "3/3 [==============================] - 0s 18ms/step - loss: 0.0910 - accuracy: 0.9792 - val_loss: 0.0813 - val_accuracy: 1.0000\n",
            "Epoch 200/500\n",
            "3/3 [==============================] - 0s 18ms/step - loss: 0.0898 - accuracy: 0.9792 - val_loss: 0.0808 - val_accuracy: 1.0000\n",
            "Epoch 201/500\n",
            "3/3 [==============================] - 0s 19ms/step - loss: 0.0895 - accuracy: 0.9792 - val_loss: 0.0805 - val_accuracy: 1.0000\n",
            "Epoch 202/500\n",
            "3/3 [==============================] - 0s 19ms/step - loss: 0.0897 - accuracy: 0.9792 - val_loss: 0.0802 - val_accuracy: 1.0000\n",
            "Epoch 203/500\n",
            "3/3 [==============================] - 0s 16ms/step - loss: 0.0889 - accuracy: 0.9792 - val_loss: 0.0798 - val_accuracy: 1.0000\n",
            "Epoch 204/500\n",
            "3/3 [==============================] - 0s 22ms/step - loss: 0.0898 - accuracy: 0.9792 - val_loss: 0.0796 - val_accuracy: 0.9583\n",
            "Epoch 205/500\n",
            "3/3 [==============================] - 0s 20ms/step - loss: 0.0882 - accuracy: 0.9792 - val_loss: 0.0791 - val_accuracy: 1.0000\n",
            "Epoch 206/500\n",
            "3/3 [==============================] - 0s 19ms/step - loss: 0.0873 - accuracy: 0.9792 - val_loss: 0.0789 - val_accuracy: 1.0000\n",
            "Epoch 207/500\n",
            "3/3 [==============================] - 0s 19ms/step - loss: 0.0881 - accuracy: 0.9896 - val_loss: 0.0790 - val_accuracy: 1.0000\n",
            "Epoch 208/500\n",
            "3/3 [==============================] - 0s 21ms/step - loss: 0.0874 - accuracy: 0.9896 - val_loss: 0.0783 - val_accuracy: 1.0000\n",
            "Epoch 209/500\n",
            "3/3 [==============================] - 0s 17ms/step - loss: 0.0864 - accuracy: 0.9792 - val_loss: 0.0778 - val_accuracy: 1.0000\n",
            "Epoch 210/500\n",
            "3/3 [==============================] - 0s 17ms/step - loss: 0.0866 - accuracy: 0.9792 - val_loss: 0.0778 - val_accuracy: 0.9583\n",
            "Epoch 211/500\n",
            "3/3 [==============================] - 0s 16ms/step - loss: 0.0860 - accuracy: 0.9792 - val_loss: 0.0772 - val_accuracy: 1.0000\n",
            "Epoch 212/500\n",
            "3/3 [==============================] - 0s 18ms/step - loss: 0.0867 - accuracy: 0.9792 - val_loss: 0.0768 - val_accuracy: 1.0000\n",
            "Epoch 213/500\n",
            "3/3 [==============================] - 0s 17ms/step - loss: 0.0851 - accuracy: 0.9792 - val_loss: 0.0768 - val_accuracy: 1.0000\n",
            "Epoch 214/500\n",
            "3/3 [==============================] - 0s 18ms/step - loss: 0.0857 - accuracy: 0.9896 - val_loss: 0.0768 - val_accuracy: 1.0000\n",
            "Epoch 215/500\n",
            "3/3 [==============================] - 0s 16ms/step - loss: 0.0849 - accuracy: 0.9896 - val_loss: 0.0760 - val_accuracy: 1.0000\n",
            "Epoch 216/500\n",
            "3/3 [==============================] - 0s 18ms/step - loss: 0.0853 - accuracy: 0.9792 - val_loss: 0.0760 - val_accuracy: 0.9583\n",
            "Epoch 217/500\n",
            "3/3 [==============================] - 0s 26ms/step - loss: 0.0843 - accuracy: 0.9792 - val_loss: 0.0754 - val_accuracy: 1.0000\n",
            "Epoch 218/500\n",
            "3/3 [==============================] - 0s 20ms/step - loss: 0.0846 - accuracy: 0.9792 - val_loss: 0.0753 - val_accuracy: 0.9583\n",
            "Epoch 219/500\n",
            "3/3 [==============================] - 0s 20ms/step - loss: 0.0829 - accuracy: 0.9792 - val_loss: 0.0749 - val_accuracy: 1.0000\n",
            "Epoch 220/500\n",
            "3/3 [==============================] - 0s 19ms/step - loss: 0.0837 - accuracy: 0.9792 - val_loss: 0.0754 - val_accuracy: 1.0000\n",
            "Epoch 221/500\n",
            "3/3 [==============================] - 0s 23ms/step - loss: 0.0830 - accuracy: 0.9896 - val_loss: 0.0747 - val_accuracy: 1.0000\n",
            "Epoch 222/500\n",
            "3/3 [==============================] - 0s 17ms/step - loss: 0.0821 - accuracy: 0.9896 - val_loss: 0.0741 - val_accuracy: 1.0000\n",
            "Epoch 223/500\n",
            "3/3 [==============================] - 0s 17ms/step - loss: 0.0824 - accuracy: 0.9792 - val_loss: 0.0740 - val_accuracy: 0.9583\n",
            "Epoch 224/500\n",
            "3/3 [==============================] - 0s 18ms/step - loss: 0.0822 - accuracy: 0.9792 - val_loss: 0.0735 - val_accuracy: 1.0000\n",
            "Epoch 225/500\n",
            "3/3 [==============================] - 0s 17ms/step - loss: 0.0814 - accuracy: 0.9792 - val_loss: 0.0733 - val_accuracy: 1.0000\n",
            "Epoch 226/500\n",
            "3/3 [==============================] - 0s 22ms/step - loss: 0.0808 - accuracy: 0.9792 - val_loss: 0.0730 - val_accuracy: 1.0000\n",
            "Epoch 227/500\n",
            "3/3 [==============================] - 0s 16ms/step - loss: 0.0813 - accuracy: 0.9792 - val_loss: 0.0728 - val_accuracy: 1.0000\n",
            "Epoch 228/500\n",
            "3/3 [==============================] - 0s 15ms/step - loss: 0.0803 - accuracy: 0.9792 - val_loss: 0.0725 - val_accuracy: 1.0000\n",
            "Epoch 229/500\n",
            "3/3 [==============================] - 0s 18ms/step - loss: 0.0800 - accuracy: 0.9792 - val_loss: 0.0722 - val_accuracy: 1.0000\n",
            "Epoch 230/500\n",
            "3/3 [==============================] - 0s 15ms/step - loss: 0.0804 - accuracy: 0.9792 - val_loss: 0.0720 - val_accuracy: 1.0000\n",
            "Epoch 231/500\n",
            "3/3 [==============================] - 0s 19ms/step - loss: 0.0803 - accuracy: 0.9792 - val_loss: 0.0718 - val_accuracy: 1.0000\n",
            "Epoch 232/500\n",
            "3/3 [==============================] - 0s 18ms/step - loss: 0.0810 - accuracy: 0.9896 - val_loss: 0.0717 - val_accuracy: 1.0000\n",
            "Epoch 233/500\n",
            "3/3 [==============================] - 0s 19ms/step - loss: 0.0789 - accuracy: 0.9792 - val_loss: 0.0713 - val_accuracy: 1.0000\n",
            "Epoch 234/500\n",
            "3/3 [==============================] - 0s 19ms/step - loss: 0.0796 - accuracy: 0.9896 - val_loss: 0.0713 - val_accuracy: 1.0000\n",
            "Epoch 235/500\n",
            "3/3 [==============================] - 0s 17ms/step - loss: 0.0784 - accuracy: 0.9896 - val_loss: 0.0708 - val_accuracy: 1.0000\n",
            "Epoch 236/500\n",
            "3/3 [==============================] - 0s 18ms/step - loss: 0.0819 - accuracy: 0.9792 - val_loss: 0.0715 - val_accuracy: 0.9583\n",
            "Epoch 237/500\n",
            "3/3 [==============================] - 0s 18ms/step - loss: 0.0794 - accuracy: 0.9792 - val_loss: 0.0703 - val_accuracy: 1.0000\n",
            "Epoch 238/500\n",
            "3/3 [==============================] - 0s 16ms/step - loss: 0.0779 - accuracy: 0.9792 - val_loss: 0.0703 - val_accuracy: 1.0000\n",
            "Epoch 239/500\n",
            "3/3 [==============================] - 0s 16ms/step - loss: 0.0815 - accuracy: 0.9896 - val_loss: 0.0710 - val_accuracy: 1.0000\n",
            "Epoch 240/500\n",
            "3/3 [==============================] - 0s 16ms/step - loss: 0.0777 - accuracy: 0.9896 - val_loss: 0.0697 - val_accuracy: 1.0000\n",
            "Epoch 241/500\n",
            "3/3 [==============================] - 0s 16ms/step - loss: 0.0771 - accuracy: 0.9792 - val_loss: 0.0697 - val_accuracy: 0.9583\n",
            "Epoch 242/500\n",
            "3/3 [==============================] - 0s 16ms/step - loss: 0.0780 - accuracy: 0.9792 - val_loss: 0.0696 - val_accuracy: 0.9583\n",
            "Epoch 243/500\n",
            "3/3 [==============================] - 0s 20ms/step - loss: 0.0766 - accuracy: 0.9792 - val_loss: 0.0691 - val_accuracy: 1.0000\n",
            "Epoch 244/500\n",
            "3/3 [==============================] - 0s 17ms/step - loss: 0.0758 - accuracy: 0.9792 - val_loss: 0.0691 - val_accuracy: 1.0000\n",
            "Epoch 245/500\n",
            "3/3 [==============================] - 0s 16ms/step - loss: 0.0790 - accuracy: 0.9896 - val_loss: 0.0704 - val_accuracy: 1.0000\n",
            "Epoch 246/500\n",
            "3/3 [==============================] - 0s 15ms/step - loss: 0.0766 - accuracy: 0.9896 - val_loss: 0.0686 - val_accuracy: 1.0000\n",
            "Epoch 247/500\n",
            "3/3 [==============================] - 0s 16ms/step - loss: 0.0751 - accuracy: 0.9896 - val_loss: 0.0684 - val_accuracy: 1.0000\n",
            "Epoch 248/500\n",
            "3/3 [==============================] - 0s 16ms/step - loss: 0.0753 - accuracy: 0.9792 - val_loss: 0.0682 - val_accuracy: 1.0000\n",
            "Epoch 249/500\n",
            "3/3 [==============================] - 0s 16ms/step - loss: 0.0765 - accuracy: 0.9792 - val_loss: 0.0679 - val_accuracy: 1.0000\n",
            "Epoch 250/500\n",
            "3/3 [==============================] - 0s 16ms/step - loss: 0.0748 - accuracy: 0.9792 - val_loss: 0.0677 - val_accuracy: 1.0000\n",
            "Epoch 251/500\n",
            "3/3 [==============================] - 0s 16ms/step - loss: 0.0754 - accuracy: 0.9896 - val_loss: 0.0676 - val_accuracy: 1.0000\n",
            "Epoch 252/500\n",
            "3/3 [==============================] - 0s 18ms/step - loss: 0.0744 - accuracy: 0.9896 - val_loss: 0.0674 - val_accuracy: 1.0000\n",
            "Epoch 253/500\n",
            "3/3 [==============================] - 0s 17ms/step - loss: 0.0741 - accuracy: 0.9896 - val_loss: 0.0672 - val_accuracy: 1.0000\n",
            "Epoch 254/500\n",
            "3/3 [==============================] - 0s 16ms/step - loss: 0.0745 - accuracy: 0.9792 - val_loss: 0.0670 - val_accuracy: 1.0000\n",
            "Epoch 255/500\n",
            "3/3 [==============================] - 0s 15ms/step - loss: 0.0756 - accuracy: 0.9792 - val_loss: 0.0669 - val_accuracy: 1.0000\n",
            "Epoch 256/500\n",
            "3/3 [==============================] - 0s 17ms/step - loss: 0.0742 - accuracy: 0.9792 - val_loss: 0.0666 - val_accuracy: 1.0000\n",
            "Epoch 257/500\n",
            "3/3 [==============================] - 0s 16ms/step - loss: 0.0736 - accuracy: 0.9792 - val_loss: 0.0664 - val_accuracy: 1.0000\n",
            "Epoch 258/500\n",
            "3/3 [==============================] - 0s 16ms/step - loss: 0.0729 - accuracy: 0.9792 - val_loss: 0.0662 - val_accuracy: 1.0000\n",
            "Epoch 259/500\n",
            "3/3 [==============================] - 0s 17ms/step - loss: 0.0731 - accuracy: 0.9896 - val_loss: 0.0664 - val_accuracy: 1.0000\n",
            "Epoch 260/500\n",
            "3/3 [==============================] - 0s 15ms/step - loss: 0.0732 - accuracy: 0.9896 - val_loss: 0.0658 - val_accuracy: 1.0000\n",
            "Epoch 261/500\n",
            "3/3 [==============================] - 0s 17ms/step - loss: 0.0724 - accuracy: 0.9792 - val_loss: 0.0657 - val_accuracy: 1.0000\n",
            "Epoch 262/500\n",
            "3/3 [==============================] - 0s 17ms/step - loss: 0.0725 - accuracy: 0.9792 - val_loss: 0.0655 - val_accuracy: 1.0000\n",
            "Epoch 263/500\n",
            "3/3 [==============================] - 0s 17ms/step - loss: 0.0718 - accuracy: 0.9792 - val_loss: 0.0654 - val_accuracy: 1.0000\n",
            "Epoch 264/500\n",
            "3/3 [==============================] - 0s 16ms/step - loss: 0.0716 - accuracy: 0.9896 - val_loss: 0.0654 - val_accuracy: 1.0000\n",
            "Epoch 265/500\n",
            "3/3 [==============================] - 0s 19ms/step - loss: 0.0726 - accuracy: 0.9896 - val_loss: 0.0650 - val_accuracy: 1.0000\n",
            "Epoch 266/500\n",
            "3/3 [==============================] - 0s 21ms/step - loss: 0.0714 - accuracy: 0.9792 - val_loss: 0.0649 - val_accuracy: 1.0000\n",
            "Epoch 267/500\n",
            "3/3 [==============================] - 0s 18ms/step - loss: 0.0713 - accuracy: 0.9896 - val_loss: 0.0649 - val_accuracy: 1.0000\n",
            "Epoch 268/500\n",
            "3/3 [==============================] - 0s 18ms/step - loss: 0.0714 - accuracy: 0.9896 - val_loss: 0.0647 - val_accuracy: 1.0000\n",
            "Epoch 269/500\n",
            "3/3 [==============================] - 0s 18ms/step - loss: 0.0715 - accuracy: 0.9896 - val_loss: 0.0645 - val_accuracy: 1.0000\n",
            "Epoch 270/500\n",
            "3/3 [==============================] - 0s 16ms/step - loss: 0.0707 - accuracy: 0.9792 - val_loss: 0.0642 - val_accuracy: 1.0000\n",
            "Epoch 271/500\n",
            "3/3 [==============================] - 0s 18ms/step - loss: 0.0708 - accuracy: 0.9792 - val_loss: 0.0641 - val_accuracy: 1.0000\n",
            "Epoch 272/500\n",
            "3/3 [==============================] - 0s 20ms/step - loss: 0.0715 - accuracy: 0.9792 - val_loss: 0.0640 - val_accuracy: 1.0000\n",
            "Epoch 273/500\n",
            "3/3 [==============================] - 0s 16ms/step - loss: 0.0704 - accuracy: 0.9792 - val_loss: 0.0637 - val_accuracy: 1.0000\n",
            "Epoch 274/500\n",
            "3/3 [==============================] - 0s 17ms/step - loss: 0.0714 - accuracy: 0.9896 - val_loss: 0.0644 - val_accuracy: 1.0000\n",
            "Epoch 275/500\n",
            "3/3 [==============================] - 0s 19ms/step - loss: 0.0702 - accuracy: 0.9896 - val_loss: 0.0636 - val_accuracy: 1.0000\n",
            "Epoch 276/500\n",
            "3/3 [==============================] - 0s 19ms/step - loss: 0.0716 - accuracy: 0.9792 - val_loss: 0.0634 - val_accuracy: 1.0000\n",
            "Epoch 277/500\n",
            "3/3 [==============================] - 0s 16ms/step - loss: 0.0698 - accuracy: 0.9792 - val_loss: 0.0631 - val_accuracy: 1.0000\n",
            "Epoch 278/500\n",
            "3/3 [==============================] - 0s 17ms/step - loss: 0.0692 - accuracy: 0.9896 - val_loss: 0.0631 - val_accuracy: 1.0000\n",
            "Epoch 279/500\n",
            "3/3 [==============================] - 0s 18ms/step - loss: 0.0694 - accuracy: 0.9896 - val_loss: 0.0628 - val_accuracy: 1.0000\n",
            "Epoch 280/500\n",
            "3/3 [==============================] - 0s 16ms/step - loss: 0.0702 - accuracy: 0.9896 - val_loss: 0.0631 - val_accuracy: 1.0000\n",
            "Epoch 281/500\n",
            "3/3 [==============================] - 0s 17ms/step - loss: 0.0690 - accuracy: 0.9896 - val_loss: 0.0625 - val_accuracy: 1.0000\n",
            "Epoch 282/500\n",
            "3/3 [==============================] - 0s 17ms/step - loss: 0.0685 - accuracy: 0.9896 - val_loss: 0.0623 - val_accuracy: 1.0000\n",
            "Epoch 283/500\n",
            "3/3 [==============================] - 0s 15ms/step - loss: 0.0694 - accuracy: 0.9792 - val_loss: 0.0624 - val_accuracy: 1.0000\n",
            "Epoch 284/500\n",
            "3/3 [==============================] - 0s 18ms/step - loss: 0.0682 - accuracy: 0.9896 - val_loss: 0.0621 - val_accuracy: 1.0000\n",
            "Epoch 285/500\n",
            "3/3 [==============================] - 0s 19ms/step - loss: 0.0700 - accuracy: 0.9792 - val_loss: 0.0621 - val_accuracy: 1.0000\n",
            "Epoch 286/500\n",
            "3/3 [==============================] - 0s 17ms/step - loss: 0.0684 - accuracy: 0.9792 - val_loss: 0.0619 - val_accuracy: 1.0000\n",
            "Epoch 287/500\n",
            "3/3 [==============================] - 0s 19ms/step - loss: 0.0678 - accuracy: 0.9896 - val_loss: 0.0621 - val_accuracy: 1.0000\n",
            "Epoch 288/500\n",
            "3/3 [==============================] - 0s 19ms/step - loss: 0.0710 - accuracy: 0.9896 - val_loss: 0.0627 - val_accuracy: 1.0000\n",
            "Epoch 289/500\n",
            "3/3 [==============================] - 0s 15ms/step - loss: 0.0678 - accuracy: 0.9896 - val_loss: 0.0614 - val_accuracy: 1.0000\n",
            "Epoch 290/500\n",
            "3/3 [==============================] - 0s 16ms/step - loss: 0.0689 - accuracy: 0.9896 - val_loss: 0.0620 - val_accuracy: 0.9583\n",
            "Epoch 291/500\n",
            "3/3 [==============================] - 0s 17ms/step - loss: 0.0685 - accuracy: 0.9792 - val_loss: 0.0616 - val_accuracy: 0.9583\n",
            "Epoch 292/500\n",
            "3/3 [==============================] - 0s 20ms/step - loss: 0.0675 - accuracy: 0.9792 - val_loss: 0.0610 - val_accuracy: 1.0000\n",
            "Epoch 293/500\n",
            "3/3 [==============================] - 0s 18ms/step - loss: 0.0672 - accuracy: 0.9792 - val_loss: 0.0610 - val_accuracy: 1.0000\n",
            "Epoch 294/500\n",
            "3/3 [==============================] - 0s 17ms/step - loss: 0.0693 - accuracy: 0.9896 - val_loss: 0.0625 - val_accuracy: 1.0000\n",
            "Epoch 295/500\n",
            "1/3 [=========>....................] - ETA: 0s - loss: 0.0463 - accuracy: 1.0000Restoring model weights from the end of the best epoch: 292.\n",
            "3/3 [==============================] - 0s 19ms/step - loss: 0.0681 - accuracy: 0.9896 - val_loss: 0.0612 - val_accuracy: 1.0000\n",
            "Epoch 295: early stopping\n"
          ]
        }
      ]
    },
    {
      "cell_type": "code",
      "metadata": {
        "id": "_BZMmR5--xMb",
        "colab": {
          "base_uri": "https://localhost:8080/"
        },
        "outputId": "d73073c6-f0bc-44a6-b5c4-87531f776243"
      },
      "source": [
        "###########\n",
        "# 모델 예측\n",
        "###########\n",
        "y_pred3 = model3.predict(x_test)\n",
        "y_pred3[:3]"
      ],
      "execution_count": 100,
      "outputs": [
        {
          "output_type": "execute_result",
          "data": {
            "text/plain": [
              "array([[6.9362850e-06, 2.1005180e-03, 9.9789256e-01],\n",
              "       [1.4753358e-06, 1.2353001e-03, 9.9876320e-01],\n",
              "       [9.9823499e-01, 1.7636747e-03, 1.3034382e-06]], dtype=float32)"
            ]
          },
          "metadata": {},
          "execution_count": 100
        }
      ]
    },
    {
      "cell_type": "code",
      "source": [
        "y_pred3[:5].argmax(axis=1)"
      ],
      "metadata": {
        "colab": {
          "base_uri": "https://localhost:8080/"
        },
        "id": "2wmylVshITxZ",
        "outputId": "811777e4-a431-4d45-b720-896821c8e8b1"
      },
      "execution_count": 104,
      "outputs": [
        {
          "output_type": "execute_result",
          "data": {
            "text/plain": [
              "array([2, 2, 0, 2, 0])"
            ]
          },
          "metadata": {},
          "execution_count": 104
        }
      ]
    },
    {
      "cell_type": "code",
      "source": [
        "y_test[:5].argmax(axis=1)"
      ],
      "metadata": {
        "colab": {
          "base_uri": "https://localhost:8080/"
        },
        "id": "p-sfRMGsIWt8",
        "outputId": "bd48c93f-12e7-4be9-916e-31872350abde"
      },
      "execution_count": 105,
      "outputs": [
        {
          "output_type": "execute_result",
          "data": {
            "text/plain": [
              "array([2, 2, 0, 2, 0])"
            ]
          },
          "metadata": {},
          "execution_count": 105
        }
      ]
    },
    {
      "cell_type": "code",
      "source": [
        "import matplotlib.pyplot as plt\n",
        "\n",
        "plt.figure(figsize=(12,6))\n",
        "plt.plot(hist.history['accuracy'], label='acc')\n",
        "plt.plot(hist.history['val_accuracy'], label='val_acc')\n",
        "plt.legend()\n",
        "plt.show()"
      ],
      "metadata": {
        "colab": {
          "base_uri": "https://localhost:8080/",
          "height": 374
        },
        "id": "81BWHgi-TkEM",
        "outputId": "872be17a-60c8-45bc-f4b0-9413a7a8e487"
      },
      "execution_count": 108,
      "outputs": [
        {
          "output_type": "display_data",
          "data": {
            "text/plain": [
              "<Figure size 864x432 with 1 Axes>"
            ],
            "image/png": "[encoded data removed]"
          },
          "metadata": {
            "needs_background": "light"
          }
        }
      ]
    }
  ]
}