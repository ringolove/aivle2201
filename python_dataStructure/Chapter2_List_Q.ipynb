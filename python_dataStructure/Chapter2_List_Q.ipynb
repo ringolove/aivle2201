{
  "cells": [
    {
      "cell_type": "markdown",
      "metadata": {
        "id": "kCxmFx_j03_u"
      },
      "source": [
        "# Chapter 2.\n",
        "\n",
        "# Unit 1. 자료구조와 배열"
      ]
    },
    {
      "cell_type": "code",
      "execution_count": null,
      "metadata": {
        "id": "wVQ-iA0203_0"
      },
      "outputs": [],
      "source": [
        "a = [1,2,3]\n",
        "maximum = a[0]\n",
        "if a[1] > maximum: maximum = a[1]\n",
        "if a[2] > maximum: maximum = a[2]    "
      ]
    },
    {
      "cell_type": "code",
      "execution_count": null,
      "metadata": {
        "id": "0oBeqlcg03_2"
      },
      "outputs": [],
      "source": [
        "a = [1,2,3,4]\n",
        "maximum = a[0]\n",
        "if a[1] > maximum: maximum = a[1]\n",
        "if a[2] > maximum: maximum = a[2]\n",
        "if a[3] > maximum: maximum = a[3]"
      ]
    },
    {
      "cell_type": "code",
      "execution_count": null,
      "metadata": {
        "id": "VH8Np2Ov03_2"
      },
      "outputs": [],
      "source": [
        "def max_of(a):\n",
        "    maximum = a[0]\n",
        "    for i in range(1, len(a)):\n",
        "        if a[i] > maximum:\n",
        "            maximum = a[i]\n",
        "    return maximum"
      ]
    },
    {
      "cell_type": "code",
      "execution_count": null,
      "metadata": {
        "id": "pTiAagLs03_3"
      },
      "outputs": [],
      "source": [
        "t = (4, 7, 5.6, 2, 3.14, 1)\n",
        "s = 'string'\n",
        "a = ['DTS', 'AAC', 'FLAC']"
      ]
    },
    {
      "cell_type": "code",
      "execution_count": null,
      "metadata": {
        "colab": {
          "base_uri": "https://localhost:8080/"
        },
        "id": "sY3fwldV03_3",
        "outputId": "dd466fb6-49b1-420e-a5af-69a7d9e33232"
      },
      "outputs": [
        {
          "output_type": "stream",
          "name": "stdout",
          "text": [
            "7\n",
            "t\n",
            "FLAC\n"
          ]
        }
      ],
      "source": [
        "print(f'{max_of(t)}')\n",
        "print(f'{max_of(s)}')\n",
        "print(f'{max_of(a)}')"
      ]
    },
    {
      "cell_type": "code",
      "execution_count": null,
      "metadata": {
        "colab": {
          "base_uri": "https://localhost:8080/"
        },
        "id": "EfFU86q903_4",
        "outputId": "94afa1ef-0d93-4c62-af08-fc6413e62c40"
      },
      "outputs": [
        {
          "output_type": "execute_result",
          "data": {
            "text/plain": [
              "tuple"
            ]
          },
          "metadata": {},
          "execution_count": 6
        }
      ],
      "source": [
        "t1 = 1, 2, 3\n",
        "type(t1)"
      ]
    },
    {
      "cell_type": "code",
      "execution_count": null,
      "metadata": {
        "colab": {
          "base_uri": "https://localhost:8080/"
        },
        "id": "r4wsTA6M03_5",
        "outputId": "627510b2-b326-418d-eee3-2ce1a8e170cd"
      },
      "outputs": [
        {
          "output_type": "execute_result",
          "data": {
            "text/plain": [
              "tuple"
            ]
          },
          "metadata": {},
          "execution_count": 7
        }
      ],
      "source": [
        "t2 = (1, 2, 3)\n",
        "type(t2)"
      ]
    },
    {
      "cell_type": "code",
      "execution_count": null,
      "metadata": {
        "colab": {
          "base_uri": "https://localhost:8080/",
          "height": 166
        },
        "id": "wHgfr-5z03_6",
        "outputId": "ca8e199d-489e-4b30-abf8-668e631366f4"
      },
      "outputs": [
        {
          "output_type": "error",
          "ename": "TypeError",
          "evalue": "ignored",
          "traceback": [
            "\u001b[0;31m---------------------------------------------------------------------------\u001b[0m",
            "\u001b[0;31mTypeError\u001b[0m                                 Traceback (most recent call last)",
            "\u001b[0;32m<ipython-input-8-6dd06f73cec4>\u001b[0m in \u001b[0;36m<module>\u001b[0;34m()\u001b[0m\n\u001b[0;32m----> 1\u001b[0;31m \u001b[0mt\u001b[0m\u001b[0;34m[\u001b[0m\u001b[0;36m0\u001b[0m\u001b[0;34m]\u001b[0m \u001b[0;34m=\u001b[0m \u001b[0;36m5\u001b[0m\u001b[0;34m\u001b[0m\u001b[0;34m\u001b[0m\u001b[0m\n\u001b[0m",
            "\u001b[0;31mTypeError\u001b[0m: 'tuple' object does not support item assignment"
          ]
        }
      ],
      "source": [
        "t[0] = 5"
      ]
    },
    {
      "cell_type": "code",
      "execution_count": null,
      "metadata": {
        "id": "PXyBlQ6J03_6"
      },
      "outputs": [],
      "source": [
        "a[0] ='DOLBY'"
      ]
    },
    {
      "cell_type": "code",
      "execution_count": null,
      "metadata": {
        "colab": {
          "base_uri": "https://localhost:8080/"
        },
        "id": "ja2Da4J703_7",
        "outputId": "99b10aa0-ca8d-42e2-9fe5-335dd476218c"
      },
      "outputs": [
        {
          "output_type": "execute_result",
          "data": {
            "text/plain": [
              "['DOLBY', 'AAC', 'FLAC']"
            ]
          },
          "metadata": {},
          "execution_count": 10
        }
      ],
      "source": [
        "a"
      ]
    },
    {
      "cell_type": "markdown",
      "metadata": {
        "id": "BjNr2JZm03_7"
      },
      "source": [
        "### 미니 실습 1"
      ]
    },
    {
      "cell_type": "markdown",
      "metadata": {
        "id": "CINq2Lp303_8"
      },
      "source": [
        "### Q) 리스트 원소의 최솟값 구하기 함수 min_of( )를 작성하라"
      ]
    },
    {
      "cell_type": "code",
      "execution_count": null,
      "metadata": {
        "id": "YZa8OnGY03_8"
      },
      "outputs": [],
      "source": [
        "def min_of(a):\n",
        "    minimum = a[0]\n",
        "    for i in range(1, len(a)):\n",
        "        if a[i] < minimum:\n",
        "            minimum = a[i]\n",
        "    return minimum"
      ]
    },
    {
      "cell_type": "code",
      "source": [
        "t = (4, 7, 5.6, 2, 3.14, 1)\n",
        "s = 'string'\n",
        "a = ['DTS', 'AAC', 'FLAC']\n",
        "\n",
        "print(f'{min_of(t)}')\n",
        "print(f'{min_of(s)}')\n",
        "print(f'{min_of(a)}')"
      ],
      "metadata": {
        "colab": {
          "base_uri": "https://localhost:8080/"
        },
        "id": "gJLcdcZU8vxh",
        "outputId": "6a3ad038-86c1-4c3e-baf4-b579e642329c"
      },
      "execution_count": null,
      "outputs": [
        {
          "output_type": "stream",
          "name": "stdout",
          "text": [
            "1\n",
            "g\n",
            "AAC\n"
          ]
        }
      ]
    },
    {
      "cell_type": "markdown",
      "metadata": {
        "id": "xzZoWpeI03_8"
      },
      "source": [
        "### 사용자가 입력한 리스트에서 최댓값 출력하기"
      ]
    },
    {
      "cell_type": "code",
      "execution_count": null,
      "metadata": {
        "id": "VTrKPsNI03_8"
      },
      "outputs": [],
      "source": [
        "def max_of(a):\n",
        "    maximum = a[0]\n",
        "    for i in range(1, len(a)):\n",
        "        if a[i] > maximum:\n",
        "            maximum = a[i]\n",
        "    return maximum"
      ]
    },
    {
      "cell_type": "code",
      "execution_count": null,
      "metadata": {
        "colab": {
          "base_uri": "https://localhost:8080/"
        },
        "id": "d1vrfvX103_9",
        "outputId": "ceb23ef4-8f1d-459e-d5c2-68144c959ae1"
      },
      "outputs": [
        {
          "output_type": "stream",
          "name": "stdout",
          "text": [
            "리스트의 최댓값을 구합니다.\n",
            "원소 수를 입력하세요.: 3\n",
            "x[0]값을 입력하세요.: 0\n",
            "x[1]값을 입력하세요.: 1\n",
            "x[2]값을 입력하세요.: 9\n",
            "최댓값은 9입니다.\n"
          ]
        }
      ],
      "source": [
        "print('리스트의 최댓값을 구합니다.')\n",
        "num = int(input('원소 수를 입력하세요.: '))\n",
        "x = [None] * num # 원소 수가 num인 리스트를 생성\n",
        "\n",
        "for i in range(num):\n",
        "    x[i] = int(input(f'x[{i}]값을 입력하세요.: '))\n",
        "    \n",
        "print(f'최댓값은 {max_of(x)}입니다.')"
      ]
    },
    {
      "cell_type": "markdown",
      "metadata": {
        "id": "Vr-aNhqS03_9"
      },
      "source": [
        "### 사용자가 입력한 리스트에서 최댓값 출력하기 (리스트 크기 선언하지 않음)"
      ]
    },
    {
      "cell_type": "code",
      "execution_count": null,
      "metadata": {
        "colab": {
          "base_uri": "https://localhost:8080/"
        },
        "id": "TGMbcUnj03_-",
        "outputId": "949c01ee-31e8-4ec0-ef03-ff005329eb34"
      },
      "outputs": [
        {
          "output_type": "stream",
          "name": "stdout",
          "text": [
            "리스트의 최댓값을 구합니다.\n",
            "주의: \"End\"를 입력하면 원소 입력을 종료합니다.\n",
            "x[0]값을 입력하세요.: 0\n",
            "x[1]값을 입력하세요.: 0\n",
            "x[2]값을 입력하세요.: 3\n",
            "x[3]값을 입력하세요.: 5\n",
            "x[4]값을 입력하세요.: 9\n",
            "x[5]값을 입력하세요.: End\n",
            "최댓값은 9입니다.\n"
          ]
        }
      ],
      "source": [
        "print('리스트의 최댓값을 구합니다.')\n",
        "print('주의: \"End\"를 입력하면 원소 입력을 종료합니다.')\n",
        "i = 0\n",
        "x = []\n",
        "\n",
        "while True:\n",
        "    s = input(f'x[{i}]값을 입력하세요.: ')\n",
        "    if s == 'End':\n",
        "        break\n",
        "    x.append(int(s))\n",
        "    i += 1\n",
        "    \n",
        "print(f'최댓값은 {max_of(x)}입니다.')"
      ]
    },
    {
      "cell_type": "markdown",
      "metadata": {
        "id": "3yDxqEOM03_-"
      },
      "source": [
        "### 리스트의 모든 원소를 스캔하기"
      ]
    },
    {
      "cell_type": "code",
      "execution_count": null,
      "metadata": {
        "colab": {
          "base_uri": "https://localhost:8080/"
        },
        "id": "MuUc1fs_03_-",
        "outputId": "9980579b-9100-4430-e719-5afeef1e8b8e"
      },
      "outputs": [
        {
          "output_type": "stream",
          "name": "stdout",
          "text": [
            "x[0] = John\n",
            "x[1] = George\n",
            "x[2] = Paul\n",
            "x[3] = Ringo\n"
          ]
        }
      ],
      "source": [
        "#원소 수 파악\n",
        "\n",
        "x = ['John', 'George', 'Paul', 'Ringo']\n",
        "\n",
        "for i in range(len(x)):\n",
        "    print(f'x[{i}] = {x[i]}')"
      ]
    },
    {
      "cell_type": "code",
      "execution_count": null,
      "metadata": {
        "colab": {
          "base_uri": "https://localhost:8080/"
        },
        "id": "pHgwKQpN03__",
        "outputId": "dc02e9af-1aa2-415d-ff78-5e08636bef1d"
      },
      "outputs": [
        {
          "output_type": "stream",
          "name": "stdout",
          "text": [
            "x[0] = John\n",
            "x[1] = George\n",
            "x[2] = Paul\n",
            "x[3] = Ringo\n"
          ]
        }
      ],
      "source": [
        "# enumerate 함수로 스캔\n",
        "\n",
        "x = ['John', 'George', 'Paul', 'Ringo']\n",
        "\n",
        "for i, name in enumerate(x):\n",
        "    print(f'x[{i}] = {name}')"
      ]
    },
    {
      "cell_type": "code",
      "execution_count": null,
      "metadata": {
        "colab": {
          "base_uri": "https://localhost:8080/"
        },
        "id": "8aeprtPV03__",
        "outputId": "cd615c09-9259-434a-ff05-936bd8c624b2"
      },
      "outputs": [
        {
          "output_type": "stream",
          "name": "stdout",
          "text": [
            "John\n",
            "George\n",
            "Paul\n",
            "Ringo\n"
          ]
        }
      ],
      "source": [
        "# 인덱스 값을 사용하지 않음\n",
        "\n",
        "x = ['John', 'George', 'Paul', 'Ringo']\n",
        "\n",
        "for i in x:\n",
        "    print(i)"
      ]
    },
    {
      "cell_type": "markdown",
      "metadata": {
        "id": "mzL5RXP704AA"
      },
      "source": [
        "### 원소를 역순으로 정렬하기"
      ]
    },
    {
      "cell_type": "code",
      "execution_count": null,
      "metadata": {
        "id": "kuvB2Hb204AA"
      },
      "outputs": [],
      "source": [
        "# pseudo code\n",
        "\n",
        "for i in range(n // 2):\n",
        "        a[i]와 a[n - i - 1]의 값을 교환"
      ]
    },
    {
      "cell_type": "code",
      "execution_count": null,
      "metadata": {
        "id": "W4v61yos04AA"
      },
      "outputs": [],
      "source": [
        "def reverse_list(a):\n",
        "    n = len(a)\n",
        "    for i in range(n // 2):\n",
        "        a[i], a[n - i - 1] = a[n - i - 1], a[i]"
      ]
    },
    {
      "cell_type": "code",
      "execution_count": null,
      "metadata": {
        "colab": {
          "base_uri": "https://localhost:8080/"
        },
        "id": "O_Q-SAMy04AB",
        "outputId": "eae33270-7015-430d-eacd-715fdaa2b705"
      },
      "outputs": [
        {
          "output_type": "stream",
          "name": "stdout",
          "text": [
            "[7, 6, 9, 3, 1, 5, 2]\n"
          ]
        }
      ],
      "source": [
        "a = [2, 5, 1, 3, 9, 6, 7]\n",
        "\n",
        "reverse_list(a)\n",
        "\n",
        "print(a)"
      ]
    },
    {
      "cell_type": "markdown",
      "metadata": {
        "id": "NbRkBE_Y04AB"
      },
      "source": [
        "### 미니 실습 2\n",
        "### Q) 리스트를 사용자로부터 입력받아서 역순으로 정렬하여 리스트의 원소를 출력하여라."
      ]
    },
    {
      "cell_type": "code",
      "execution_count": null,
      "metadata": {
        "colab": {
          "base_uri": "https://localhost:8080/"
        },
        "id": "Ho865Upl04AB",
        "outputId": "743bcae0-e6b2-4457-bfd3-2edd7930681b"
      },
      "outputs": [
        {
          "output_type": "stream",
          "name": "stdout",
          "text": [
            "원소 수를 입력하세요.: 5\n",
            "x[0]값을 입력하세요.: 0\n",
            "x[1]값을 입력하세요.: 1\n",
            "x[2]값을 입력하세요.: 2\n",
            "x[3]값을 입력하세요.: 3\n",
            "x[4]값을 입력하세요.: 4\n",
            "x[0] = 4\n",
            "x[1] = 3\n",
            "x[2] = 2\n",
            "x[3] = 1\n",
            "x[4] = 0\n"
          ]
        }
      ],
      "source": [
        "num = int(input('원소 수를 입력하세요.: '))\n",
        "x = [None] * num # 원소 수가 num인 리스트를 생성\n",
        "\n",
        "for i in range(num):\n",
        "    x[i] = int(input(f'x[{i}]값을 입력하세요.: '))\n",
        "for i in range(len(x) // 2):\n",
        "        x[i], x[len(x) - i - 1] = x[len(x) - i - 1], x[i]\n",
        "\n",
        "for i, j in enumerate(x):\n",
        "  print(f'x[{i}] = {j}')"
      ]
    },
    {
      "cell_type": "markdown",
      "metadata": {
        "id": "n8wNE4r404AB"
      },
      "source": [
        "# Unit 2. 검색 알고리즘"
      ]
    },
    {
      "cell_type": "markdown",
      "metadata": {
        "id": "PUQQq6Gt04AB"
      },
      "source": [
        "## 선형 검색"
      ]
    },
    {
      "cell_type": "code",
      "execution_count": null,
      "metadata": {
        "id": "4kbnXO1t04AC"
      },
      "outputs": [],
      "source": [
        "# pseudo code\n",
        "\n",
        "i = 0\n",
        "while True:\n",
        "    if i == len(a):\n",
        "        # 검색실패\n",
        "    if a[i] == key:\n",
        "        # 검색 성고(찾은 원소의 인덱스 i)\n",
        "    \n",
        "    i += 1"
      ]
    },
    {
      "cell_type": "markdown",
      "metadata": {
        "id": "XoH3nsFW04AC"
      },
      "source": [
        "### While 문 선형검색"
      ]
    },
    {
      "cell_type": "code",
      "execution_count": null,
      "metadata": {
        "id": "HvTz_xbj04AC"
      },
      "outputs": [],
      "source": [
        "# while 문으로 작성한 선형 검색 알고리즘\n",
        "\n",
        "def seq_search(a, key):\n",
        "    i = 0\n",
        "    \n",
        "    while True:\n",
        "        if i == len(a):\n",
        "            return -1\n",
        "        if a[i] == key:\n",
        "            return i\n",
        "        i += 1"
      ]
    },
    {
      "cell_type": "code",
      "execution_count": null,
      "metadata": {
        "colab": {
          "base_uri": "https://localhost:8080/"
        },
        "id": "5kcbaHbg04AC",
        "outputId": "9d45230e-2f7b-4d6e-d335-5d3cbcb79318"
      },
      "outputs": [
        {
          "output_type": "stream",
          "name": "stdout",
          "text": [
            "검색값은 a[3]에 있습니다.\n"
          ]
        }
      ],
      "source": [
        "a = [2, 5, 1, 3, 9, 6, 7]\n",
        "\n",
        "index = seq_search(a, 3)\n",
        "\n",
        "if index == -1:\n",
        "    print('검색값을 갖는 원소가 존재하지 않습니다.')\n",
        "else:\n",
        "    print(f'검색값은 a[{index}]에 있습니다.')"
      ]
    },
    {
      "cell_type": "markdown",
      "metadata": {
        "id": "SMbawDWP04AD"
      },
      "source": [
        "## for 문 선형검색"
      ]
    },
    {
      "cell_type": "code",
      "execution_count": null,
      "metadata": {
        "id": "BZ2SpZeV04AD"
      },
      "outputs": [],
      "source": [
        "# for 문으로 작성한 선형 검색 알고리즘\n",
        "\n",
        "def seq_search_for(a, key):\n",
        "    \n",
        "    for i in range(len(a)):\n",
        "        if a[i] == key:\n",
        "            return i\n",
        "    return -1"
      ]
    },
    {
      "cell_type": "code",
      "execution_count": null,
      "metadata": {
        "colab": {
          "base_uri": "https://localhost:8080/"
        },
        "id": "OcYpsYac04AD",
        "outputId": "269e277f-5b39-42a6-f647-b8667b4c8c63"
      },
      "outputs": [
        {
          "output_type": "stream",
          "name": "stdout",
          "text": [
            "검색값을 갖는 원소가 존재하지 않습니다.\n"
          ]
        }
      ],
      "source": [
        "a = [2, 5, 1, 3, 9, 6, 7]\n",
        "\n",
        "index = seq_search_for(a, 4)\n",
        "\n",
        "if index == -1:\n",
        "    print('검색값을 갖는 원소가 존재하지 않습니다.')\n",
        "else:\n",
        "    print(f'검색값은 a[{index}]에 있습니다.')"
      ]
    },
    {
      "cell_type": "markdown",
      "metadata": {
        "id": "N-BUznu804AE"
      },
      "source": [
        "### 보초법 (While 문)"
      ]
    },
    {
      "cell_type": "code",
      "execution_count": null,
      "metadata": {
        "id": "fFkwt45y04AE"
      },
      "outputs": [],
      "source": [
        "def seq_search_sentinel(b, key):\n",
        "    a = b.copy()\n",
        "    a.append(key)\n",
        "    \n",
        "    i=0\n",
        "    while True:\n",
        "        if a[i] == key:\n",
        "            break\n",
        "        i += 1\n",
        "    \n",
        "    return -1 if i == len(b) else i"
      ]
    },
    {
      "cell_type": "code",
      "execution_count": null,
      "metadata": {
        "colab": {
          "base_uri": "https://localhost:8080/"
        },
        "id": "BK5ZyLPK04AE",
        "outputId": "ba1ef141-1206-4a41-eb0b-cc45c752d38f"
      },
      "outputs": [
        {
          "output_type": "stream",
          "name": "stdout",
          "text": [
            "검색값은 a[6]에 있습니다.\n"
          ]
        }
      ],
      "source": [
        "a = [2, 5, 1, 3, 9, 6, 7]\n",
        "\n",
        "index = seq_search_sentinel(a, 7)\n",
        "\n",
        "if index == -1:\n",
        "    print('검색값을 갖는 원소가 존재하지 않습니다.')\n",
        "else:\n",
        "    print(f'검색값은 a[{index}]에 있습니다.')"
      ]
    },
    {
      "cell_type": "markdown",
      "metadata": {
        "id": "RwmeXi3f04AE"
      },
      "source": [
        "### 미니 실습 3)\n",
        "\n",
        "### Q) 아래 리스트에서 검색값을 찾으려고 한다. \n",
        "### 선형 검색 While 문을 사용하는 경우와 보초법을 사용하는 경우에 각각 if 조건문이 몇 번 실행되지는 수를 세어 출력하라. "
      ]
    },
    {
      "cell_type": "markdown",
      "metadata": {
        "id": "t4sFEk4K04AF"
      },
      "source": [
        "### a = [2, 5, 1, 3, 9, 6, 7]\n",
        "\n",
        "### 검색값: 7"
      ]
    },
    {
      "cell_type": "code",
      "execution_count": null,
      "metadata": {
        "colab": {
          "base_uri": "https://localhost:8080/"
        },
        "id": "MD3GxxRg04AF",
        "outputId": "41ef52a3-3e11-412c-a51b-77299810f6a1"
      },
      "outputs": [
        {
          "output_type": "stream",
          "name": "stdout",
          "text": [
            "검색값을 갖는 원소가 존재하지 않습니다. 총 15번 검색했습니다.\n"
          ]
        }
      ],
      "source": [
        "def seq_search(a, key):\n",
        "    i = 0\n",
        "    c = 0\n",
        "    while True:\n",
        "        c += 1\n",
        "        if i == len(a):\n",
        "            return (-1, c)\n",
        "        c += 1\n",
        "        if a[i] == key:\n",
        "            return (i, c)\n",
        "        i += 1\n",
        "\n",
        "index, c = seq_search(a, 8)\n",
        "\n",
        "if index == -1:\n",
        "    print(f'검색값을 갖는 원소가 존재하지 않습니다. 총 {c}번 검색했습니다.')\n",
        "else:\n",
        "    print(f'검색값은 a[{index}]에 있습니다. 총 {c}번 검색했습니다.')\n"
      ]
    },
    {
      "cell_type": "code",
      "source": [
        "def seq_search_sentinel(b, key):\n",
        "    a = b.copy()\n",
        "    a.append(key)\n",
        "    \n",
        "    i=0\n",
        "    c=0\n",
        "    while True:\n",
        "        c += 1\n",
        "        if a[i] == key:\n",
        "            break\n",
        "        i += 1\n",
        "    \n",
        "    return (-1,c+1) if i == len(b) else (i,c+1)\n",
        "\n",
        "index, c = seq_search_sentinel(a, 8)\n",
        "\n",
        "if index == -1:\n",
        "    print(f'검색값을 갖는 원소가 존재하지 않습니다. 총 {c}번 검색했습니다.')\n",
        "else:\n",
        "    print(f'검색값은 a[{index}]에 있습니다. 총 {i}번 검색했습니다.')"
      ],
      "metadata": {
        "colab": {
          "base_uri": "https://localhost:8080/"
        },
        "id": "o-3idBTkQyBa",
        "outputId": "93e7a1fe-f477-4943-9884-da18535faf28"
      },
      "execution_count": null,
      "outputs": [
        {
          "output_type": "stream",
          "name": "stdout",
          "text": [
            "검색값을 갖는 원소가 존재하지 않습니다. 총 9번 검색했습니다.\n"
          ]
        }
      ]
    },
    {
      "cell_type": "markdown",
      "metadata": {
        "id": "sVk5W18m04AF"
      },
      "source": [
        "## 이진 검색"
      ]
    },
    {
      "cell_type": "code",
      "execution_count": null,
      "metadata": {
        "id": "w8phkVmw04AF"
      },
      "outputs": [],
      "source": [
        "# 이진 검색 알고리즘\n",
        "\n",
        "def bin_search(a, key):\n",
        "    pl = 0\n",
        "    pr = len(a)-1\n",
        "    \n",
        "    while True:\n",
        "        pc = (pl + pr) // 2\n",
        "        if a[pc] == key:\n",
        "            return pc\n",
        "        elif a[pc] < key:\n",
        "            pl = pc + 1\n",
        "        else:\n",
        "            pr = pc - 1\n",
        "        \n",
        "        if pl > pr:\n",
        "            break\n",
        "    \n",
        "    return -1"
      ]
    },
    {
      "cell_type": "code",
      "execution_count": null,
      "metadata": {
        "colab": {
          "base_uri": "https://localhost:8080/"
        },
        "id": "Lt-ZXxI_04AF",
        "outputId": "9de252b2-3e96-4df2-ffcb-480021a2bff0"
      },
      "outputs": [
        {
          "output_type": "stream",
          "name": "stdout",
          "text": [
            "검색값은 a[6]에 있습니다.\n"
          ]
        }
      ],
      "source": [
        "a = [5, 7, 15, 28, 29, 31, 39, 58, 68, 70, 95]\n",
        "\n",
        "index = bin_search(a, 39)\n",
        "\n",
        "if index == -1:\n",
        "    print('검색값을 갖는 원소가 존재하지 않습니다.')\n",
        "else:\n",
        "    print(f'검색값은 a[{index}]에 있습니다.')"
      ]
    },
    {
      "cell_type": "markdown",
      "metadata": {
        "id": "6pdXmtw504AG"
      },
      "source": [
        "## 실습 1"
      ]
    },
    {
      "cell_type": "markdown",
      "metadata": {
        "id": "8Tab2-XW04AG"
      },
      "source": [
        "### Q) 2부터 1000사이의 수 중에서 소수를 리스트에 입력하고 출력하여라."
      ]
    },
    {
      "cell_type": "code",
      "execution_count": null,
      "metadata": {
        "colab": {
          "base_uri": "https://localhost:8080/"
        },
        "id": "wOpV54B604AG",
        "outputId": "6d7142a1-992a-43ec-80b5-bdb26e9de09c"
      },
      "outputs": [
        {
          "output_type": "stream",
          "name": "stdout",
          "text": [
            "[2, 3, 5, 7, 11, 13, 17, 19, 23, 29, 31, 37, 41, 43, 47, 53, 59, 61, 67, 71, 73, 79, 83, 89, 97, 101, 103, 107, 109, 113, 127, 131, 137, 139, 149, 151, 157, 163, 167, 173, 179, 181, 191, 193, 197, 199, 211, 223, 227, 229, 233, 239, 241, 251, 257, 263, 269, 271, 277, 281, 283, 293, 307, 311, 313, 317, 331, 337, 347, 349, 353, 359, 367, 373, 379, 383, 389, 397, 401, 409, 419, 421, 431, 433, 439, 443, 449, 457, 461, 463, 467, 479, 487, 491, 499, 503, 509, 521, 523, 541, 547, 557, 563, 569, 571, 577, 587, 593, 599, 601, 607, 613, 617, 619, 631, 641, 643, 647, 653, 659, 661, 673, 677, 683, 691, 701, 709, 719, 727, 733, 739, 743, 751, 757, 761, 769, 773, 787, 797, 809, 811, 821, 823, 827, 829, 839, 853, 857, 859, 863, 877, 881, 883, 887, 907, 911, 919, 929, 937, 941, 947, 953, 967, 971, 977, 983, 991, 997]\n"
          ]
        }
      ],
      "source": [
        "# def prime(n):\n",
        "#   for i in range(2,1001):\n",
        "#     if n%i==0:\n",
        "#       return False\n",
        "#     return True\n",
        "# pn = [2]\n",
        "# for i in range(2,1001):\n",
        "#   if prime(i):\n",
        "#     pn.append(i)\n",
        "# print(pn)\n",
        "\n",
        "pr = []\n",
        "\n",
        "for i in range(2,1001):\n",
        "  flag = 0\n",
        "  for j in range(2,i):\n",
        "    if i%j==0:\n",
        "      flag = 1\n",
        "      break\n",
        "  if flag == 0: \n",
        "    pr.append(i)\n",
        "\n",
        "print(pr)"
      ]
    },
    {
      "cell_type": "markdown",
      "metadata": {
        "id": "bUeW1lgU04AG"
      },
      "source": [
        "### 실습 2"
      ]
    },
    {
      "cell_type": "markdown",
      "metadata": {
        "id": "bp3PY-Ox04AG"
      },
      "source": [
        "### Q) 리스트를 사용자로부터 입력받아서 역순으로 정렬하여 리스트의 원소를 출력하여라.\n",
        "### 원소 수를 미리 묻지 말고 코드가 실행될 수 있도록하라."
      ]
    },
    {
      "cell_type": "code",
      "execution_count": null,
      "metadata": {
        "colab": {
          "base_uri": "https://localhost:8080/"
        },
        "id": "iWBeebQ504AG",
        "outputId": "5285089c-89dc-4cba-e971-728a5b0cc5a9"
      },
      "outputs": [
        {
          "output_type": "stream",
          "name": "stdout",
          "text": [
            "\"End\"를 입력하면 원소 입력을 종료합니다.\n",
            "x[0]값을 입력하세요.: 1\n",
            "x[1]값을 입력하세요.: 2\n",
            "x[2]값을 입력하세요.: 3\n",
            "x[3]값을 입력하세요.: 4\n",
            "x[4]값을 입력하세요.: 5\n",
            "x[5]값을 입력하세요.: End\n",
            "x[0] = 5\n",
            "x[1] = 4\n",
            "x[2] = 3\n",
            "x[3] = 2\n",
            "x[4] = 1\n"
          ]
        }
      ],
      "source": [
        "print('\"End\"를 입력하면 원소 입력을 종료합니다.')\n",
        "i = 0\n",
        "x = []\n",
        "\n",
        "while True:\n",
        "    s = input(f'x[{i}]값을 입력하세요.: ')\n",
        "    if s == 'End':\n",
        "        break\n",
        "    x.append(int(s))\n",
        "    i += 1\n",
        "\n",
        "reverse_list(x)\n",
        "    \n",
        "for i in range(len(x)):\n",
        "  print(f'x[{i}] = {x[i]}')"
      ]
    },
    {
      "cell_type": "markdown",
      "metadata": {
        "id": "dPhu-NjT04AH"
      },
      "source": [
        "### 실습 3"
      ]
    },
    {
      "cell_type": "markdown",
      "metadata": {
        "id": "N1lAv_2K04AH"
      },
      "source": [
        "### Q) 리스트와 검색할 값을 사용자로부터 입력받아서 검색값이 있는 인덱스를 출력하라.\n",
        "### 검색방안은 어떤 방안을 사용하여도 됩니다."
      ]
    },
    {
      "cell_type": "code",
      "execution_count": null,
      "metadata": {
        "colab": {
          "base_uri": "https://localhost:8080/"
        },
        "id": "I7AqXdCM04AH",
        "outputId": "b94dd9f8-f63e-4922-b749-22273805c514"
      },
      "outputs": [
        {
          "output_type": "stream",
          "name": "stdout",
          "text": [
            "리스트 1 2 3 4 5\n",
            "검색 값 3\n",
            "검색값 3은 a[2]에 있습니다.\n"
          ]
        }
      ],
      "source": [
        "def seq_search_sentinel(b, key):\n",
        "\n",
        "    a = b.copy()\n",
        "    a.append(key)\n",
        "    \n",
        "    i=0\n",
        "    c=0\n",
        "    while True:\n",
        "        c += 1\n",
        "        if a[i] == key:\n",
        "            break\n",
        "        i += 1\n",
        "    \n",
        "    return (-1,c) if i == len(b) else (i,c)\n",
        "\n",
        "k, l = seq_search_sentinel(list(map(int, input(\"리스트 \").split())),int(input(\"검색 값 \")))\n",
        "print(f'검색값 {l}은 a[{k}]에 있습니다.')"
      ]
    },
    {
      "cell_type": "markdown",
      "metadata": {
        "id": "IML0B9On04AH"
      },
      "source": [
        "### 실습 4"
      ]
    },
    {
      "cell_type": "markdown",
      "metadata": {
        "id": "XfzWZMvL04AH"
      },
      "source": [
        "### Q) 리스트를 사용자로부터 입력받아서 최대값과 최대값이 있는 인덱스를 출력하라."
      ]
    },
    {
      "cell_type": "code",
      "execution_count": null,
      "metadata": {
        "colab": {
          "base_uri": "https://localhost:8080/"
        },
        "id": "0TZ8au4_04AH",
        "outputId": "309cfec5-4339-459e-c7e2-712dd56d22ac"
      },
      "outputs": [
        {
          "output_type": "stream",
          "name": "stdout",
          "text": [
            "리스트 원소값 입력, \"End\"로 종료 1\n",
            "리스트 원소값 입력, \"End\"로 종료 2\n",
            "리스트 원소값 입력, \"End\"로 종료 3\n",
            "리스트 원소값 입력, \"End\"로 종료 4\n",
            "리스트 원소값 입력, \"End\"로 종료 5\n",
            "리스트 원소값 입력, \"End\"로 종료 10\n",
            "리스트 원소값 입력, \"End\"로 종료 11\n",
            "리스트 원소값 입력, \"End\"로 종료 12\n",
            "리스트 원소값 입력, \"End\"로 종료 13\n",
            "리스트 원소값 입력, \"End\"로 종료 15\n",
            "리스트 원소값 입력, \"End\"로 종료 End\n",
            "최대값은 15이고 a[9]에 있습니다.\n"
          ]
        }
      ],
      "source": [
        "def marx(a):\n",
        "  marx = a[0]\n",
        "  index = 0\n",
        "  for i in range(1, len(a)):\n",
        "    if a[i]>marx:\n",
        "      marx = a[i]\n",
        "      index = i\n",
        "  return marx, i\n",
        "\n",
        "i = 0\n",
        "x = []\n",
        "\n",
        "while True:\n",
        "  s = input('리스트 원소값 입력, \"End\"로 종료 ')\n",
        "  if s == 'End':\n",
        "    break\n",
        "  x.append(int(s))\n",
        "  i += 1\n",
        "\n",
        "marx, index = marx(x)\n",
        "print(f'최대값은 {marx}이고 a[{index}]에 있습니다.')"
      ]
    },
    {
      "cell_type": "code",
      "source": [
        "def fac(n):\n",
        "  sentinel = 1\n",
        "  for i in range(1,n+1):\n",
        "    sentinel *= i\n",
        "  return sentinel\n",
        "\n",
        "print(fac(3))"
      ],
      "metadata": {
        "colab": {
          "base_uri": "https://localhost:8080/"
        },
        "id": "cL_5l9t_AqvF",
        "outputId": "411651ac-66fe-4f11-cc42-f98f4354da0e"
      },
      "execution_count": null,
      "outputs": [
        {
          "output_type": "stream",
          "name": "stdout",
          "text": [
            "6\n"
          ]
        }
      ]
    }
  ],
  "metadata": {
    "kernelspec": {
      "display_name": "Python 3",
      "language": "python",
      "name": "python3"
    },
    "language_info": {
      "codemirror_mode": {
        "name": "ipython",
        "version": 3
      },
      "file_extension": ".py",
      "mimetype": "text/x-python",
      "name": "python",
      "nbconvert_exporter": "python",
      "pygments_lexer": "ipython3",
      "version": "3.8.8"
    },
    "colab": {
      "name": "Chapter2-List-Q.ipynb",
      "provenance": [],
      "collapsed_sections": [
        "RwmeXi3f04AE",
        "bUeW1lgU04AG",
        "dPhu-NjT04AH",
        "IML0B9On04AH"
      ]
    }
  },
  "nbformat": 4,
  "nbformat_minor": 0
}