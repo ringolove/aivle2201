{
  "nbformat": 4,
  "nbformat_minor": 0,
  "metadata": {
    "colab": {
      "name": "3_4_Breast_cancer.ipynb",
      "provenance": [],
      "collapsed_sections": []
    },
    "kernelspec": {
      "name": "python3",
      "display_name": "Python 3"
    },
    "language_info": {
      "name": "python"
    }
  },
  "cells": [
    {
      "cell_type": "markdown",
      "source": [
        "# 유방암 종양 예측\n",
        "\n",
        "## 악성 종양인지, 양성 종양(정상)인지 예측"
      ],
      "metadata": {
        "id": "XZ7tAmJDypSo"
      }
    },
    {
      "cell_type": "markdown",
      "source": [
        "## 데이터셋 불러오기\n",
        "\n",
        "* radius : 반경\n",
        "* texture : 질감\n",
        "* perimeter : 둘레\n",
        "* area : 면적\n",
        "* smoothness : 매끄러움\n",
        "* compactness : 조그만 정도\n",
        "* concavity : 윤곽의 오목함\n",
        "* concave points : 윤곽의 오목한 부분의 수\n",
        "* symmetry : 대칭\n",
        "* fractal dimension : 프랙탈 차원\n",
        "* target : Malignant-악성 종양 / Benign-양성 종양(정상)\n",
        "---\n",
        "* mean ~ : 데이터별 평균 값\n",
        "* ~ error : 데이터별 표준편차 값\n",
        "* worst ~ : 데이터별 가장 큰 3개의 평균으로 만든 값"
      ],
      "metadata": {
        "id": "lyYyOsXgy9Vx"
      }
    },
    {
      "cell_type": "code",
      "source": [
        "import pandas as pd\n",
        "import numpy as np"
      ],
      "metadata": {
        "id": "9qac0OkvzCK3"
      },
      "execution_count": 165,
      "outputs": []
    },
    {
      "cell_type": "code",
      "source": [
        "data = pd.read_csv('https://raw.githubusercontent.com/DrKAI/dataset/main/breast_cancer.csv')\n",
        "\n",
        "data.head()"
      ],
      "metadata": {
        "id": "Lv7VQADpzH_W",
        "outputId": "55a13f76-ae88-4300-c3de-e43f0c232b1c",
        "colab": {
          "base_uri": "https://localhost:8080/",
          "height": 314
        }
      },
      "execution_count": 166,
      "outputs": [
        {
          "output_type": "execute_result",
          "data": {
            "text/plain": [
              "   mean radius  mean texture  mean perimeter  mean area  mean smoothness  \\\n",
              "0        17.99         10.38          122.80     1001.0          0.11840   \n",
              "1        20.57         17.77          132.90     1326.0          0.08474   \n",
              "2        19.69         21.25          130.00     1203.0          0.10960   \n",
              "3        11.42         20.38           77.58      386.1          0.14250   \n",
              "4        20.29         14.34          135.10     1297.0          0.10030   \n",
              "\n",
              "   mean compactness  mean concavity  mean concave points  mean symmetry  \\\n",
              "0           0.27760          0.3001              0.14710         0.2419   \n",
              "1           0.07864          0.0869              0.07017         0.1812   \n",
              "2           0.15990          0.1974              0.12790         0.2069   \n",
              "3           0.28390          0.2414              0.10520         0.2597   \n",
              "4           0.13280          0.1980              0.10430         0.1809   \n",
              "\n",
              "   mean fractal dimension  ...  worst texture  worst perimeter  worst area  \\\n",
              "0                 0.07871  ...          17.33           184.60      2019.0   \n",
              "1                 0.05667  ...          23.41           158.80      1956.0   \n",
              "2                 0.05999  ...          25.53           152.50      1709.0   \n",
              "3                 0.09744  ...          26.50            98.87       567.7   \n",
              "4                 0.05883  ...          16.67           152.20      1575.0   \n",
              "\n",
              "   worst smoothness  worst compactness  worst concavity  worst concave points  \\\n",
              "0            0.1622             0.6656           0.7119                0.2654   \n",
              "1            0.1238             0.1866           0.2416                0.1860   \n",
              "2            0.1444             0.4245           0.4504                0.2430   \n",
              "3            0.2098             0.8663           0.6869                0.2575   \n",
              "4            0.1374             0.2050           0.4000                0.1625   \n",
              "\n",
              "   worst symmetry  worst fractal dimension     target  \n",
              "0          0.4601                  0.11890  Malignant  \n",
              "1          0.2750                  0.08902  Malignant  \n",
              "2          0.3613                  0.08758  Malignant  \n",
              "3          0.6638                  0.17300  Malignant  \n",
              "4          0.2364                  0.07678  Malignant  \n",
              "\n",
              "[5 rows x 31 columns]"
            ],
            "text/html": [
              "\n",
              "  <div id=\"df-7615090c-7727-4a1a-87e8-6b4b3e773e7e\">\n",
              "    <div class=\"colab-df-container\">\n",
              "      <div>\n",
              "<style scoped>\n",
              "    .dataframe tbody tr th:only-of-type {\n",
              "        vertical-align: middle;\n",
              "    }\n",
              "\n",
              "    .dataframe tbody tr th {\n",
              "        vertical-align: top;\n",
              "    }\n",
              "\n",
              "    .dataframe thead th {\n",
              "        text-align: right;\n",
              "    }\n",
              "</style>\n",
              "<table border=\"1\" class=\"dataframe\">\n",
              "  <thead>\n",
              "    <tr style=\"text-align: right;\">\n",
              "      <th></th>\n",
              "      <th>mean radius</th>\n",
              "      <th>mean texture</th>\n",
              "      <th>mean perimeter</th>\n",
              "      <th>mean area</th>\n",
              "      <th>mean smoothness</th>\n",
              "      <th>mean compactness</th>\n",
              "      <th>mean concavity</th>\n",
              "      <th>mean concave points</th>\n",
              "      <th>mean symmetry</th>\n",
              "      <th>mean fractal dimension</th>\n",
              "      <th>...</th>\n",
              "      <th>worst texture</th>\n",
              "      <th>worst perimeter</th>\n",
              "      <th>worst area</th>\n",
              "      <th>worst smoothness</th>\n",
              "      <th>worst compactness</th>\n",
              "      <th>worst concavity</th>\n",
              "      <th>worst concave points</th>\n",
              "      <th>worst symmetry</th>\n",
              "      <th>worst fractal dimension</th>\n",
              "      <th>target</th>\n",
              "    </tr>\n",
              "  </thead>\n",
              "  <tbody>\n",
              "    <tr>\n",
              "      <th>0</th>\n",
              "      <td>17.99</td>\n",
              "      <td>10.38</td>\n",
              "      <td>122.80</td>\n",
              "      <td>1001.0</td>\n",
              "      <td>0.11840</td>\n",
              "      <td>0.27760</td>\n",
              "      <td>0.3001</td>\n",
              "      <td>0.14710</td>\n",
              "      <td>0.2419</td>\n",
              "      <td>0.07871</td>\n",
              "      <td>...</td>\n",
              "      <td>17.33</td>\n",
              "      <td>184.60</td>\n",
              "      <td>2019.0</td>\n",
              "      <td>0.1622</td>\n",
              "      <td>0.6656</td>\n",
              "      <td>0.7119</td>\n",
              "      <td>0.2654</td>\n",
              "      <td>0.4601</td>\n",
              "      <td>0.11890</td>\n",
              "      <td>Malignant</td>\n",
              "    </tr>\n",
              "    <tr>\n",
              "      <th>1</th>\n",
              "      <td>20.57</td>\n",
              "      <td>17.77</td>\n",
              "      <td>132.90</td>\n",
              "      <td>1326.0</td>\n",
              "      <td>0.08474</td>\n",
              "      <td>0.07864</td>\n",
              "      <td>0.0869</td>\n",
              "      <td>0.07017</td>\n",
              "      <td>0.1812</td>\n",
              "      <td>0.05667</td>\n",
              "      <td>...</td>\n",
              "      <td>23.41</td>\n",
              "      <td>158.80</td>\n",
              "      <td>1956.0</td>\n",
              "      <td>0.1238</td>\n",
              "      <td>0.1866</td>\n",
              "      <td>0.2416</td>\n",
              "      <td>0.1860</td>\n",
              "      <td>0.2750</td>\n",
              "      <td>0.08902</td>\n",
              "      <td>Malignant</td>\n",
              "    </tr>\n",
              "    <tr>\n",
              "      <th>2</th>\n",
              "      <td>19.69</td>\n",
              "      <td>21.25</td>\n",
              "      <td>130.00</td>\n",
              "      <td>1203.0</td>\n",
              "      <td>0.10960</td>\n",
              "      <td>0.15990</td>\n",
              "      <td>0.1974</td>\n",
              "      <td>0.12790</td>\n",
              "      <td>0.2069</td>\n",
              "      <td>0.05999</td>\n",
              "      <td>...</td>\n",
              "      <td>25.53</td>\n",
              "      <td>152.50</td>\n",
              "      <td>1709.0</td>\n",
              "      <td>0.1444</td>\n",
              "      <td>0.4245</td>\n",
              "      <td>0.4504</td>\n",
              "      <td>0.2430</td>\n",
              "      <td>0.3613</td>\n",
              "      <td>0.08758</td>\n",
              "      <td>Malignant</td>\n",
              "    </tr>\n",
              "    <tr>\n",
              "      <th>3</th>\n",
              "      <td>11.42</td>\n",
              "      <td>20.38</td>\n",
              "      <td>77.58</td>\n",
              "      <td>386.1</td>\n",
              "      <td>0.14250</td>\n",
              "      <td>0.28390</td>\n",
              "      <td>0.2414</td>\n",
              "      <td>0.10520</td>\n",
              "      <td>0.2597</td>\n",
              "      <td>0.09744</td>\n",
              "      <td>...</td>\n",
              "      <td>26.50</td>\n",
              "      <td>98.87</td>\n",
              "      <td>567.7</td>\n",
              "      <td>0.2098</td>\n",
              "      <td>0.8663</td>\n",
              "      <td>0.6869</td>\n",
              "      <td>0.2575</td>\n",
              "      <td>0.6638</td>\n",
              "      <td>0.17300</td>\n",
              "      <td>Malignant</td>\n",
              "    </tr>\n",
              "    <tr>\n",
              "      <th>4</th>\n",
              "      <td>20.29</td>\n",
              "      <td>14.34</td>\n",
              "      <td>135.10</td>\n",
              "      <td>1297.0</td>\n",
              "      <td>0.10030</td>\n",
              "      <td>0.13280</td>\n",
              "      <td>0.1980</td>\n",
              "      <td>0.10430</td>\n",
              "      <td>0.1809</td>\n",
              "      <td>0.05883</td>\n",
              "      <td>...</td>\n",
              "      <td>16.67</td>\n",
              "      <td>152.20</td>\n",
              "      <td>1575.0</td>\n",
              "      <td>0.1374</td>\n",
              "      <td>0.2050</td>\n",
              "      <td>0.4000</td>\n",
              "      <td>0.1625</td>\n",
              "      <td>0.2364</td>\n",
              "      <td>0.07678</td>\n",
              "      <td>Malignant</td>\n",
              "    </tr>\n",
              "  </tbody>\n",
              "</table>\n",
              "<p>5 rows × 31 columns</p>\n",
              "</div>\n",
              "      <button class=\"colab-df-convert\" onclick=\"convertToInteractive('df-7615090c-7727-4a1a-87e8-6b4b3e773e7e')\"\n",
              "              title=\"Convert this dataframe to an interactive table.\"\n",
              "              style=\"display:none;\">\n",
              "        \n",
              "  <svg xmlns=\"http://www.w3.org/2000/svg\" height=\"24px\"viewBox=\"0 0 24 24\"\n",
              "       width=\"24px\">\n",
              "    <path d=\"M0 0h24v24H0V0z\" fill=\"none\"/>\n",
              "    <path d=\"M18.56 5.44l.94 2.06.94-2.06 2.06-.94-2.06-.94-.94-2.06-.94 2.06-2.06.94zm-11 1L8.5 8.5l.94-2.06 2.06-.94-2.06-.94L8.5 2.5l-.94 2.06-2.06.94zm10 10l.94 2.06.94-2.06 2.06-.94-2.06-.94-.94-2.06-.94 2.06-2.06.94z\"/><path d=\"M17.41 7.96l-1.37-1.37c-.4-.4-.92-.59-1.43-.59-.52 0-1.04.2-1.43.59L10.3 9.45l-7.72 7.72c-.78.78-.78 2.05 0 2.83L4 21.41c.39.39.9.59 1.41.59.51 0 1.02-.2 1.41-.59l7.78-7.78 2.81-2.81c.8-.78.8-2.07 0-2.86zM5.41 20L4 18.59l7.72-7.72 1.47 1.35L5.41 20z\"/>\n",
              "  </svg>\n",
              "      </button>\n",
              "      \n",
              "  <style>\n",
              "    .colab-df-container {\n",
              "      display:flex;\n",
              "      flex-wrap:wrap;\n",
              "      gap: 12px;\n",
              "    }\n",
              "\n",
              "    .colab-df-convert {\n",
              "      background-color: #E8F0FE;\n",
              "      border: none;\n",
              "      border-radius: 50%;\n",
              "      cursor: pointer;\n",
              "      display: none;\n",
              "      fill: #1967D2;\n",
              "      height: 32px;\n",
              "      padding: 0 0 0 0;\n",
              "      width: 32px;\n",
              "    }\n",
              "\n",
              "    .colab-df-convert:hover {\n",
              "      background-color: #E2EBFA;\n",
              "      box-shadow: 0px 1px 2px rgba(60, 64, 67, 0.3), 0px 1px 3px 1px rgba(60, 64, 67, 0.15);\n",
              "      fill: #174EA6;\n",
              "    }\n",
              "\n",
              "    [theme=dark] .colab-df-convert {\n",
              "      background-color: #3B4455;\n",
              "      fill: #D2E3FC;\n",
              "    }\n",
              "\n",
              "    [theme=dark] .colab-df-convert:hover {\n",
              "      background-color: #434B5C;\n",
              "      box-shadow: 0px 1px 3px 1px rgba(0, 0, 0, 0.15);\n",
              "      filter: drop-shadow(0px 1px 2px rgba(0, 0, 0, 0.3));\n",
              "      fill: #FFFFFF;\n",
              "    }\n",
              "  </style>\n",
              "\n",
              "      <script>\n",
              "        const buttonEl =\n",
              "          document.querySelector('#df-7615090c-7727-4a1a-87e8-6b4b3e773e7e button.colab-df-convert');\n",
              "        buttonEl.style.display =\n",
              "          google.colab.kernel.accessAllowed ? 'block' : 'none';\n",
              "\n",
              "        async function convertToInteractive(key) {\n",
              "          const element = document.querySelector('#df-7615090c-7727-4a1a-87e8-6b4b3e773e7e');\n",
              "          const dataTable =\n",
              "            await google.colab.kernel.invokeFunction('convertToInteractive',\n",
              "                                                     [key], {});\n",
              "          if (!dataTable) return;\n",
              "\n",
              "          const docLinkHtml = 'Like what you see? Visit the ' +\n",
              "            '<a target=\"_blank\" href=https://colab.research.google.com/notebooks/data_table.ipynb>data table notebook</a>'\n",
              "            + ' to learn more about interactive tables.';\n",
              "          element.innerHTML = '';\n",
              "          dataTable['output_type'] = 'display_data';\n",
              "          await google.colab.output.renderOutput(dataTable, element);\n",
              "          const docLink = document.createElement('div');\n",
              "          docLink.innerHTML = docLinkHtml;\n",
              "          element.appendChild(docLink);\n",
              "        }\n",
              "      </script>\n",
              "    </div>\n",
              "  </div>\n",
              "  "
            ]
          },
          "metadata": {},
          "execution_count": 166
        }
      ]
    },
    {
      "cell_type": "code",
      "source": [
        "data.info()"
      ],
      "metadata": {
        "id": "hF1C2qsSzUk7",
        "outputId": "fa77d27a-71b4-47a3-ec3c-85c257a4c8bd",
        "colab": {
          "base_uri": "https://localhost:8080/"
        }
      },
      "execution_count": 167,
      "outputs": [
        {
          "output_type": "stream",
          "name": "stdout",
          "text": [
            "<class 'pandas.core.frame.DataFrame'>\n",
            "RangeIndex: 569 entries, 0 to 568\n",
            "Data columns (total 31 columns):\n",
            " #   Column                   Non-Null Count  Dtype  \n",
            "---  ------                   --------------  -----  \n",
            " 0   mean radius              569 non-null    float64\n",
            " 1   mean texture             569 non-null    float64\n",
            " 2   mean perimeter           569 non-null    float64\n",
            " 3   mean area                569 non-null    float64\n",
            " 4   mean smoothness          569 non-null    float64\n",
            " 5   mean compactness         569 non-null    float64\n",
            " 6   mean concavity           569 non-null    float64\n",
            " 7   mean concave points      569 non-null    float64\n",
            " 8   mean symmetry            569 non-null    float64\n",
            " 9   mean fractal dimension   569 non-null    float64\n",
            " 10  radius error             569 non-null    float64\n",
            " 11  texture error            569 non-null    float64\n",
            " 12  perimeter error          569 non-null    float64\n",
            " 13  area error               569 non-null    float64\n",
            " 14  smoothness error         569 non-null    float64\n",
            " 15  compactness error        569 non-null    float64\n",
            " 16  concavity error          569 non-null    float64\n",
            " 17  concave points error     569 non-null    float64\n",
            " 18  symmetry error           569 non-null    float64\n",
            " 19  fractal dimension error  569 non-null    float64\n",
            " 20  worst radius             569 non-null    float64\n",
            " 21  worst texture            569 non-null    float64\n",
            " 22  worst perimeter          569 non-null    float64\n",
            " 23  worst area               569 non-null    float64\n",
            " 24  worst smoothness         569 non-null    float64\n",
            " 25  worst compactness        569 non-null    float64\n",
            " 26  worst concavity          569 non-null    float64\n",
            " 27  worst concave points     569 non-null    float64\n",
            " 28  worst symmetry           569 non-null    float64\n",
            " 29  worst fractal dimension  569 non-null    float64\n",
            " 30  target                   569 non-null    object \n",
            "dtypes: float64(30), object(1)\n",
            "memory usage: 137.9+ KB\n"
          ]
        }
      ]
    },
    {
      "cell_type": "markdown",
      "source": [
        "## 데이터 전처리\n",
        "\n",
        "<details><summary>Hint</summary>\n",
        "\n",
        "* x, y 구분 필요\n",
        "* y에 대한 전처리 필요\n",
        "* 데이터셋 구분 필요\n",
        "\n",
        "</details>"
      ],
      "metadata": {
        "id": "wvsEjq9CzJy3"
      }
    },
    {
      "cell_type": "code",
      "source": [
        "data.loc[ data['target']=='Malignant' , 'target'] = 1\n",
        "data.loc[ data['target']=='Benign' , 'target'] = 0\n",
        "data['target'] = data['target'].astype(float)"
      ],
      "metadata": {
        "id": "9B8qN5QbC-Id"
      },
      "execution_count": 168,
      "outputs": []
    },
    {
      "cell_type": "code",
      "source": [
        "x = data.drop('target', axis=1)\n",
        "y = data['target']"
      ],
      "metadata": {
        "id": "sjyEQ8S0MyVp"
      },
      "execution_count": 169,
      "outputs": []
    },
    {
      "cell_type": "code",
      "source": [
        "from sklearn.model_selection import *\n",
        "train_x, test_x, train_y, test_y = train_test_split(x, y, test_size=0.2, random_state=2022)\n",
        "\n",
        "train_x.shape, test_x.shape, train_y.shape, test_y.shape"
      ],
      "metadata": {
        "colab": {
          "base_uri": "https://localhost:8080/"
        },
        "id": "EOMa0Fq0f6QR",
        "outputId": "fe78d720-2e9f-4bbf-e262-8a57694fd90f"
      },
      "execution_count": 170,
      "outputs": [
        {
          "output_type": "execute_result",
          "data": {
            "text/plain": [
              "((455, 30), (114, 30), (455,), (114,))"
            ]
          },
          "metadata": {},
          "execution_count": 170
        }
      ]
    },
    {
      "cell_type": "markdown",
      "source": [
        "## Locally connected layer를 구성하기 위한 feature 설정\n",
        "\n",
        "* mean, error, worst를 각 feature별로 묶어 새로운 변수를 만든다.\n",
        "        ex) mean radius, radius error, worst radius\n",
        "\n",
        "<details><summary> Hint </summary>\n",
        "\n",
        "* x의 train 구조와 test 구조는 동일해야 한다.\n",
        "\n",
        "</details>"
      ],
      "metadata": {
        "id": "UMxtGX8n7ZO7"
      }
    },
    {
      "cell_type": "code",
      "source": [
        "train_x.columns"
      ],
      "metadata": {
        "colab": {
          "base_uri": "https://localhost:8080/"
        },
        "id": "7jRg0w6ykyFz",
        "outputId": "b03a4258-6184-4418-d85a-2a083f102a86"
      },
      "execution_count": 171,
      "outputs": [
        {
          "output_type": "execute_result",
          "data": {
            "text/plain": [
              "Index(['mean radius', 'mean texture', 'mean perimeter', 'mean area',\n",
              "       'mean smoothness', 'mean compactness', 'mean concavity',\n",
              "       'mean concave points', 'mean symmetry', 'mean fractal dimension',\n",
              "       'radius error', 'texture error', 'perimeter error', 'area error',\n",
              "       'smoothness error', 'compactness error', 'concavity error',\n",
              "       'concave points error', 'symmetry error', 'fractal dimension error',\n",
              "       'worst radius', 'worst texture', 'worst perimeter', 'worst area',\n",
              "       'worst smoothness', 'worst compactness', 'worst concavity',\n",
              "       'worst concave points', 'worst symmetry', 'worst fractal dimension'],\n",
              "      dtype='object')"
            ]
          },
          "metadata": {},
          "execution_count": 171
        }
      ]
    },
    {
      "cell_type": "code",
      "source": [
        "train_ra = train_x.loc[:, ['mean radius', 'radius error', 'worst radius']]\n",
        "train_te = train_x.loc[:, ['mean texture', 'texture error', 'worst texture']]\n",
        "train_pe = train_x.loc[:, ['mean perimeter', 'perimeter error', 'worst perimeter']]\n",
        "train_ar = train_x.loc[:, ['mean area', 'area error', 'worst area']]\n",
        "train_sm = train_x.loc[:, ['mean smoothness', 'smoothness error', 'worst smoothness']]\n",
        "train_cm = train_x.loc[:, ['mean compactness', 'compactness error', 'worst compactness']]\n",
        "train_co = train_x.loc[:, ['mean concave points', 'concavity error', 'worst concavity']]\n",
        "train_po = train_x.loc[:, ['mean concave points', 'concave points error', 'worst concave points']]\n",
        "train_sy = train_x.loc[:, ['mean symmetry', 'symmetry error', 'worst symmetry']]\n",
        "train_fr = train_x.loc[:, ['mean fractal dimension', 'fractal dimension error', 'worst fractal dimension']]\n",
        "\n",
        "test_ra = test_x.loc[:, ['mean radius', 'radius error', 'worst radius']]\n",
        "test_te = test_x.loc[:, ['mean texture', 'texture error', 'worst texture']]\n",
        "test_pe = test_x.loc[:, ['mean perimeter', 'perimeter error', 'worst perimeter']]\n",
        "test_ar = test_x.loc[:, ['mean area', 'area error', 'worst area']]\n",
        "test_sm = test_x.loc[:, ['mean smoothness', 'smoothness error', 'worst smoothness']]\n",
        "test_cm = test_x.loc[:, ['mean compactness', 'compactness error', 'worst compactness']]\n",
        "test_co = test_x.loc[:, ['mean concave points', 'concavity error', 'worst concavity']]\n",
        "test_po = test_x.loc[:, ['mean concave points', 'concave points error', 'worst concave points']]\n",
        "test_sy = test_x.loc[:, ['mean symmetry', 'symmetry error', 'worst symmetry']]\n",
        "test_fr = test_x.loc[:, ['mean fractal dimension', 'fractal dimension error', 'worst fractal dimension']]"
      ],
      "metadata": {
        "id": "ORdTBNODM0JL"
      },
      "execution_count": 172,
      "outputs": []
    },
    {
      "cell_type": "markdown",
      "source": [
        "## 모델링\n",
        "![예시](https://raw.githubusercontent.com/DrKAI/image/main/cancer_locally.png)\n",
        "\n",
        "1. 윗 단계에서 생성한 변수의 **형태**를 이용하여, 각 변수별 input layer를 만든다.\n",
        "2. node가 12개인 hidden layer를 **각각** 생성하여, 각 input layer와 연결한다.\n",
        "3. 생성된 hidden layer를 add 한다.\n",
        "---\n",
        "4. 전체 변수를 이용한 input layer를 만든다.\n",
        "5. 3번 단계로 add 된 레이어와 4번 단계로 만들어진 input layer를 concat한다.\n",
        "---\n",
        "6. node가 128개인 hidden layer를 5번 단계로 concat된 레이어와 연결한다.\n",
        "7. output layer를 생성하고 compile 한다."
      ],
      "metadata": {
        "id": "pN2YChw-9ACb"
      }
    },
    {
      "cell_type": "code",
      "source": [
        "import tensorflow as tf\n",
        "from tensorflow import keras\n",
        "\n",
        "keras.backend.clear_session()\n",
        "\n",
        "a1 = keras.layers.Input(shape=(3,))\n",
        "hl_ra = keras.layers.Dense(12, activation='relu')(a1)\n",
        "a2 = keras.layers.Input(shape=(3,))\n",
        "hl_te = keras.layers.Dense(12, activation='relu')(a2)\n",
        "a3 = keras.layers.Input(shape=(3,))\n",
        "hl_pe = keras.layers.Dense(12, activation='relu')(a3)\n",
        "a4 = keras.layers.Input(shape=(3,))\n",
        "hl_ar = keras.layers.Dense(12, activation='relu')(a4)\n",
        "a5 = keras.layers.Input(shape=(3,))\n",
        "hl_sm = keras.layers.Dense(12, activation='relu')(a5)\n",
        "a6 = keras.layers.Input(shape=(3,))\n",
        "hl_cm = keras.layers.Dense(12, activation='relu')(a6)\n",
        "a7 = keras.layers.Input(shape=(3,))\n",
        "hl_co = keras.layers.Dense(12, activation='relu')(a7)\n",
        "a8 = keras.layers.Input(shape=(3,))\n",
        "hl_po = keras.layers.Dense(12, activation='relu')(a8)\n",
        "a9 = keras.layers.Input(shape=(3,))\n",
        "hl_sy = keras.layers.Dense(12, activation='relu')(a9)\n",
        "a10 = keras.layers.Input(shape=(3,))\n",
        "hl_fr = keras.layers.Dense(12, activation='relu')(a10)\n",
        "\n",
        "fu = keras.layers.Input(shape=(30,))\n",
        "ad = keras.layers.Add()([hl_ra, hl_te, hl_pe, hl_ar, hl_sm, hl_cm, hl_co, hl_po, hl_sy, hl_fr])\n",
        "cl = keras.layers.Concatenate()([fu, ad])\n",
        "ds = keras.layers.Dense(128,)(cl)\n",
        "ol = keras.layers.Dense(1, activation='sigmoid')(ds)\n",
        "\n",
        "input_list = [a1, a2, a3, a4, a5, a6, a7, a8, a9, a10, fu]\n",
        "model = keras.models.Model(input_list, ol)\n",
        "\n",
        "model.compile(loss='binary_crossentropy', optimizer='adam', metrics=['accuracy'])\n",
        "model.summary()"
      ],
      "metadata": {
        "id": "AJLLVhBXM12J",
        "colab": {
          "base_uri": "https://localhost:8080/"
        },
        "outputId": "bb349c12-b254-46be-e98f-1b0ad7223dea"
      },
      "execution_count": 173,
      "outputs": [
        {
          "output_type": "stream",
          "name": "stdout",
          "text": [
            "Model: \"model\"\n",
            "__________________________________________________________________________________________________\n",
            " Layer (type)                   Output Shape         Param #     Connected to                     \n",
            "==================================================================================================\n",
            " input_1 (InputLayer)           [(None, 3)]          0           []                               \n",
            "                                                                                                  \n",
            " input_2 (InputLayer)           [(None, 3)]          0           []                               \n",
            "                                                                                                  \n",
            " input_3 (InputLayer)           [(None, 3)]          0           []                               \n",
            "                                                                                                  \n",
            " input_4 (InputLayer)           [(None, 3)]          0           []                               \n",
            "                                                                                                  \n",
            " input_5 (InputLayer)           [(None, 3)]          0           []                               \n",
            "                                                                                                  \n",
            " input_6 (InputLayer)           [(None, 3)]          0           []                               \n",
            "                                                                                                  \n",
            " input_7 (InputLayer)           [(None, 3)]          0           []                               \n",
            "                                                                                                  \n",
            " input_8 (InputLayer)           [(None, 3)]          0           []                               \n",
            "                                                                                                  \n",
            " input_9 (InputLayer)           [(None, 3)]          0           []                               \n",
            "                                                                                                  \n",
            " input_10 (InputLayer)          [(None, 3)]          0           []                               \n",
            "                                                                                                  \n",
            " dense (Dense)                  (None, 12)           48          ['input_1[0][0]']                \n",
            "                                                                                                  \n",
            " dense_1 (Dense)                (None, 12)           48          ['input_2[0][0]']                \n",
            "                                                                                                  \n",
            " dense_2 (Dense)                (None, 12)           48          ['input_3[0][0]']                \n",
            "                                                                                                  \n",
            " dense_3 (Dense)                (None, 12)           48          ['input_4[0][0]']                \n",
            "                                                                                                  \n",
            " dense_4 (Dense)                (None, 12)           48          ['input_5[0][0]']                \n",
            "                                                                                                  \n",
            " dense_5 (Dense)                (None, 12)           48          ['input_6[0][0]']                \n",
            "                                                                                                  \n",
            " dense_6 (Dense)                (None, 12)           48          ['input_7[0][0]']                \n",
            "                                                                                                  \n",
            " dense_7 (Dense)                (None, 12)           48          ['input_8[0][0]']                \n",
            "                                                                                                  \n",
            " dense_8 (Dense)                (None, 12)           48          ['input_9[0][0]']                \n",
            "                                                                                                  \n",
            " dense_9 (Dense)                (None, 12)           48          ['input_10[0][0]']               \n",
            "                                                                                                  \n",
            " input_11 (InputLayer)          [(None, 30)]         0           []                               \n",
            "                                                                                                  \n",
            " add (Add)                      (None, 12)           0           ['dense[0][0]',                  \n",
            "                                                                  'dense_1[0][0]',                \n",
            "                                                                  'dense_2[0][0]',                \n",
            "                                                                  'dense_3[0][0]',                \n",
            "                                                                  'dense_4[0][0]',                \n",
            "                                                                  'dense_5[0][0]',                \n",
            "                                                                  'dense_6[0][0]',                \n",
            "                                                                  'dense_7[0][0]',                \n",
            "                                                                  'dense_8[0][0]',                \n",
            "                                                                  'dense_9[0][0]']                \n",
            "                                                                                                  \n",
            " concatenate (Concatenate)      (None, 42)           0           ['input_11[0][0]',               \n",
            "                                                                  'add[0][0]']                    \n",
            "                                                                                                  \n",
            " dense_10 (Dense)               (None, 128)          5504        ['concatenate[0][0]']            \n",
            "                                                                                                  \n",
            " dense_11 (Dense)               (None, 1)            129         ['dense_10[0][0]']               \n",
            "                                                                                                  \n",
            "==================================================================================================\n",
            "Total params: 6,113\n",
            "Trainable params: 6,113\n",
            "Non-trainable params: 0\n",
            "__________________________________________________________________________________________________\n"
          ]
        }
      ]
    },
    {
      "cell_type": "code",
      "source": [
        "keras.utils.plot_model(model, show_shapes=True)"
      ],
      "metadata": {
        "id": "FV1wcvmCM21W",
        "colab": {
          "base_uri": "https://localhost:8080/",
          "height": 284
        },
        "outputId": "1c2072f9-b3c9-4841-b954-853e66df0fd7"
      },
      "execution_count": 174,
      "outputs": [
        {
          "output_type": "execute_result",
          "data": {
            "text/plain": [
              "<IPython.core.display.Image object>"
            ],
            "image/png": "[encoded data removed]"
          },
          "metadata": {},
          "execution_count": 174
        }
      ]
    },
    {
      "cell_type": "markdown",
      "source": [
        "## 평가\n",
        "\n",
        "1. 모델의 정확도를 확인하시오.\n",
        "2. 악성이라 예측한 것 중 실제 악성으로 나온 비율을 구하시오.\n",
        "3. 실제 악성 중 모델이 악성이라 예측한 것의 비율을 구하시오.\n",
        "4. 정상이라 예측한 것 중 실제 정상으로 나온 비율을 구하시오."
      ],
      "metadata": {
        "id": "FJfDbKduBnxz"
      }
    },
    {
      "cell_type": "code",
      "source": [
        "train_list = [train_ra, train_te, train_pe, train_ar, train_sm, train_cm, train_co, train_po, train_sy, train_fr, train_x]\n",
        "test_list = [test_ra, test_te, test_pe, test_ar, test_sm, test_cm, test_co, test_po, test_sy, test_fr, test_x]"
      ],
      "metadata": {
        "id": "owePu-uw8SRZ"
      },
      "execution_count": 175,
      "outputs": []
    },
    {
      "cell_type": "code",
      "source": [
        "from tensorflow.keras.callbacks import EarlyStopping\n",
        "es = EarlyStopping(monitor='val_loss', min_delta=0, patience=3, verbose=1, restore_best_weights=True)"
      ],
      "metadata": {
        "id": "6uOhCHhIM7SO"
      },
      "execution_count": 176,
      "outputs": []
    },
    {
      "cell_type": "code",
      "source": [
        "model.fit(train_list, train_y, validation_split=1/9, verbose=1, epochs=300, callbacks=[es])"
      ],
      "metadata": {
        "colab": {
          "base_uri": "https://localhost:8080/"
        },
        "id": "VQmG9a8m30HC",
        "outputId": "2f60ae48-fd85-49b9-c3a5-73f8260318eb"
      },
      "execution_count": 177,
      "outputs": [
        {
          "output_type": "stream",
          "name": "stdout",
          "text": [
            "Epoch 1/300\n",
            "13/13 [==============================] - 1s 33ms/step - loss: 14.2062 - accuracy: 0.5817 - val_loss: 3.1984 - val_accuracy: 0.9020\n",
            "Epoch 2/300\n",
            "13/13 [==============================] - 0s 8ms/step - loss: 3.2451 - accuracy: 0.7822 - val_loss: 0.2247 - val_accuracy: 0.9216\n",
            "Epoch 3/300\n",
            "13/13 [==============================] - 0s 7ms/step - loss: 1.5378 - accuracy: 0.8564 - val_loss: 0.2559 - val_accuracy: 0.9020\n",
            "Epoch 4/300\n",
            "13/13 [==============================] - 0s 6ms/step - loss: 1.1411 - accuracy: 0.8688 - val_loss: 0.1647 - val_accuracy: 0.9412\n",
            "Epoch 5/300\n",
            "13/13 [==============================] - 0s 6ms/step - loss: 0.8811 - accuracy: 0.8762 - val_loss: 0.0846 - val_accuracy: 0.9608\n",
            "Epoch 6/300\n",
            "13/13 [==============================] - 0s 6ms/step - loss: 0.9876 - accuracy: 0.8713 - val_loss: 2.0412 - val_accuracy: 0.9020\n",
            "Epoch 7/300\n",
            "13/13 [==============================] - 0s 6ms/step - loss: 1.7673 - accuracy: 0.8144 - val_loss: 0.2341 - val_accuracy: 0.9412\n",
            "Epoch 8/300\n",
            " 1/13 [=>............................] - ETA: 0s - loss: 1.6289 - accuracy: 0.6875Restoring model weights from the end of the best epoch: 5.\n",
            "13/13 [==============================] - 0s 6ms/step - loss: 1.8272 - accuracy: 0.8292 - val_loss: 0.2899 - val_accuracy: 0.9216\n",
            "Epoch 8: early stopping\n"
          ]
        },
        {
          "output_type": "execute_result",
          "data": {
            "text/plain": [
              "<keras.callbacks.History at 0x7f7e1130ca10>"
            ]
          },
          "metadata": {},
          "execution_count": 177
        }
      ]
    },
    {
      "cell_type": "code",
      "source": [
        "pred_y = model.predict(test_list)\n",
        "pred_y[:10].reshape(-1)"
      ],
      "metadata": {
        "colab": {
          "base_uri": "https://localhost:8080/"
        },
        "id": "GhL3gbmc8G3Y",
        "outputId": "4d142066-cc68-46d5-ea27-5aab83ed386c"
      },
      "execution_count": 178,
      "outputs": [
        {
          "output_type": "execute_result",
          "data": {
            "text/plain": [
              "array([1.3073385e-03, 5.6684007e-06, 1.1219629e-06, 2.3780603e-06,\n",
              "       1.0177436e-05, 3.4752429e-06, 7.2186321e-02, 1.0000000e+00,\n",
              "       9.9926949e-01, 1.0000000e+00], dtype=float32)"
            ]
          },
          "metadata": {},
          "execution_count": 178
        }
      ]
    },
    {
      "cell_type": "code",
      "source": [
        "for idx, val in enumerate(pred_y) :\n",
        "    if pred_y[idx] >= 0.5 :\n",
        "        pred_y[idx] = 1\n",
        "    else :\n",
        "        pred_y[idx] = 0"
      ],
      "metadata": {
        "id": "uja8etkV9gII"
      },
      "execution_count": 179,
      "outputs": []
    },
    {
      "cell_type": "code",
      "source": [
        "pred_y[:10]"
      ],
      "metadata": {
        "colab": {
          "base_uri": "https://localhost:8080/"
        },
        "id": "gfVs8Khl9tmC",
        "outputId": "47c28fa3-3818-4f50-c786-7cb3e4cd7256"
      },
      "execution_count": 180,
      "outputs": [
        {
          "output_type": "execute_result",
          "data": {
            "text/plain": [
              "array([[0.],\n",
              "       [0.],\n",
              "       [0.],\n",
              "       [0.],\n",
              "       [0.],\n",
              "       [0.],\n",
              "       [0.],\n",
              "       [1.],\n",
              "       [1.],\n",
              "       [1.]], dtype=float32)"
            ]
          },
          "metadata": {},
          "execution_count": 180
        }
      ]
    },
    {
      "cell_type": "code",
      "source": [
        "model.evaluate(test_list, test_y)"
      ],
      "metadata": {
        "colab": {
          "base_uri": "https://localhost:8080/"
        },
        "id": "NyyNKFq-95_H",
        "outputId": "006502a9-42a3-42a5-d5dc-2c59fbccc457"
      },
      "execution_count": 181,
      "outputs": [
        {
          "output_type": "stream",
          "name": "stdout",
          "text": [
            "4/4 [==============================] - 0s 3ms/step - loss: 0.4428 - accuracy: 0.9386\n"
          ]
        },
        {
          "output_type": "execute_result",
          "data": {
            "text/plain": [
              "[0.44281908869743347, 0.9385964870452881]"
            ]
          },
          "metadata": {},
          "execution_count": 181
        }
      ]
    },
    {
      "cell_type": "code",
      "source": [
        "from sklearn.metrics import *\n",
        "print(classification_report(test_y, pred_y, target_names=['Benign', 'Malignant']))"
      ],
      "metadata": {
        "colab": {
          "base_uri": "https://localhost:8080/"
        },
        "id": "GiWl8OCi-Ijl",
        "outputId": "a51889bf-0569-4231-d51b-d3fc6f47ce5f"
      },
      "execution_count": 182,
      "outputs": [
        {
          "output_type": "stream",
          "name": "stdout",
          "text": [
            "              precision    recall  f1-score   support\n",
            "\n",
            "      Benign       0.92      0.99      0.95        68\n",
            "   Malignant       0.98      0.87      0.92        46\n",
            "\n",
            "    accuracy                           0.94       114\n",
            "   macro avg       0.95      0.93      0.93       114\n",
            "weighted avg       0.94      0.94      0.94       114\n",
            "\n"
          ]
        }
      ]
    }
  ]
}