{
  "cells": [
    {
      "cell_type": "markdown",
      "metadata": {
        "id": "mTt7qGUTCcFs"
      },
      "source": [
        "# 과제#1. car seat 매출 예측"
      ]
    },
    {
      "cell_type": "markdown",
      "metadata": {
        "id": "7usNzsAVsGbi"
      },
      "source": [
        "![](https://cdn.images.express.co.uk/img/dynamic/24/590x/child-car-seat-986556.jpg?r=1532946857754)"
      ]
    },
    {
      "cell_type": "markdown",
      "metadata": {
        "id": "nKwWO4QmTzvp"
      },
      "source": [
        "* 비즈니스 상황\n",
        "    * 고객사는 국내(미국)와 국외에서 카시트를 판매하는 회사입니다.\n",
        "    * 최근 경쟁사의 공격적인 마케팅으로 매출이 감소하고 있습니다.\n",
        "    * 이를 해결하고자 여러분들에게 예측 모델링을 의뢰하였습니다.\n",
        "\n"
      ]
    },
    {
      "cell_type": "markdown",
      "metadata": {
        "id": "zYKHwYHatC4k"
      },
      "source": [
        "|\t변수명\t|\t설명\t|\t구분\t|\n",
        "|\t----\t|\t----\t|\t----\t|\n",
        "|\tSales \t|\t 각 지역 판매액(단위 : 1000달러)\t|\tTarget\t|\n",
        "|\tCompPrice \t|\t지역별 경쟁사 판매가격(달러)\t|\tfeature\t|\n",
        "|\tAdvertising \t|\t 각 지역, 회사의 광고 예산(단위 : 1000달러)\t|\tfeature\t|\n",
        "|\tPopulation \t|\t 지역 인구수(단위 : 1000명)\t|\tfeature\t|\n",
        "|\tPrice \t|\t 자사 지역별 판매가격(달러)\t|\tfeature\t|\n",
        "|\tShelveLoc \t|\t 진열상태\t|\tfeature\t|\n",
        "|\tAge \t|\t 지역 인구의 평균 연령\t|\tfeature\t|\n",
        "|\tUS \t|\t 매장이 미국에 있는지 여부\t|\tfeature\t|\n",
        "|\tUrban \t|\t 매장이 도시에 있는지 여부\t|\tfeature\t|\n",
        "|\tEducation \t|\t 평균학력수준(범주 : 11~17)\t|\tfeature\t|\n"
      ]
    },
    {
      "cell_type": "markdown",
      "metadata": {
        "id": "WNKs9rKAQqa5"
      },
      "source": [
        "* 데이터\n",
        "    * data : 학습과 검증용\n",
        "    * test : **팀과제용** 입니다.\n",
        "        * feature만 있습니다.\n",
        "        * 운영에서 발생된 데이터로 간주하고, 예측한 후에 Kaggle에 업로드합니다.\n",
        "\n",
        "* 주의사항\n",
        "    * data 에 대해 수행한 전처리 코드를 **순서에 맞춰** test에도 적용해야 함."
      ]
    },
    {
      "cell_type": "markdown",
      "metadata": {
        "id": "3cKmWSTZ8uwC"
      },
      "source": [
        "## 0.환경준비"
      ]
    },
    {
      "cell_type": "markdown",
      "metadata": {
        "id": "ryA0ffqNS44P"
      },
      "source": [
        "### 0.1 Import"
      ]
    },
    {
      "cell_type": "code",
      "execution_count": 857,
      "metadata": {
        "id": "GVvCef6A8uv6"
      },
      "outputs": [],
      "source": [
        "# 기본 라이브러리 가져오기\n",
        "import pandas as pd\n",
        "import numpy as np\n",
        "\n",
        "import matplotlib.pyplot as plt\n",
        "import seaborn as sns\n",
        "\n",
        "from sklearn.model_selection import train_test_split    "
      ]
    },
    {
      "cell_type": "markdown",
      "metadata": {
        "id": "4uZziFNcsUmw"
      },
      "source": [
        "### 0.2 Data Loading"
      ]
    },
    {
      "cell_type": "code",
      "execution_count": 858,
      "metadata": {
        "id": "QG28HshT8SfH",
        "colab": {
          "base_uri": "https://localhost:8080/",
          "height": 206
        },
        "outputId": "f003d0a5-6f52-4a9f-e031-32a6fa392c61"
      },
      "outputs": [
        {
          "output_type": "execute_result",
          "data": {
            "text/plain": [
              "   Sales  CompPrice  Income  Advertising  Population  Price ShelveLoc  Age  \\\n",
              "0   3.72      139.0   111.0            5         310    132       Bad   62   \n",
              "1   2.93      143.0    21.0            5          81    160    Medium   67   \n",
              "2   4.53      114.0     NaN            0          97    125    Medium   29   \n",
              "3   8.47      119.0    88.0           10         170    101    Medium   61   \n",
              "4  11.85      136.0    81.0           15         425    120      Good   67   \n",
              "\n",
              "   Education Urban   US  \n",
              "0         13   Yes  Yes  \n",
              "1         12    No  Yes  \n",
              "2         12   Yes   No  \n",
              "3         13   Yes  Yes  \n",
              "4         10   Yes  Yes  "
            ],
            "text/html": [
              "\n",
              "  <div id=\"df-cf80eb21-95dc-40dd-857b-7e3639224828\">\n",
              "    <div class=\"colab-df-container\">\n",
              "      <div>\n",
              "<style scoped>\n",
              "    .dataframe tbody tr th:only-of-type {\n",
              "        vertical-align: middle;\n",
              "    }\n",
              "\n",
              "    .dataframe tbody tr th {\n",
              "        vertical-align: top;\n",
              "    }\n",
              "\n",
              "    .dataframe thead th {\n",
              "        text-align: right;\n",
              "    }\n",
              "</style>\n",
              "<table border=\"1\" class=\"dataframe\">\n",
              "  <thead>\n",
              "    <tr style=\"text-align: right;\">\n",
              "      <th></th>\n",
              "      <th>Sales</th>\n",
              "      <th>CompPrice</th>\n",
              "      <th>Income</th>\n",
              "      <th>Advertising</th>\n",
              "      <th>Population</th>\n",
              "      <th>Price</th>\n",
              "      <th>ShelveLoc</th>\n",
              "      <th>Age</th>\n",
              "      <th>Education</th>\n",
              "      <th>Urban</th>\n",
              "      <th>US</th>\n",
              "    </tr>\n",
              "  </thead>\n",
              "  <tbody>\n",
              "    <tr>\n",
              "      <th>0</th>\n",
              "      <td>3.72</td>\n",
              "      <td>139.0</td>\n",
              "      <td>111.0</td>\n",
              "      <td>5</td>\n",
              "      <td>310</td>\n",
              "      <td>132</td>\n",
              "      <td>Bad</td>\n",
              "      <td>62</td>\n",
              "      <td>13</td>\n",
              "      <td>Yes</td>\n",
              "      <td>Yes</td>\n",
              "    </tr>\n",
              "    <tr>\n",
              "      <th>1</th>\n",
              "      <td>2.93</td>\n",
              "      <td>143.0</td>\n",
              "      <td>21.0</td>\n",
              "      <td>5</td>\n",
              "      <td>81</td>\n",
              "      <td>160</td>\n",
              "      <td>Medium</td>\n",
              "      <td>67</td>\n",
              "      <td>12</td>\n",
              "      <td>No</td>\n",
              "      <td>Yes</td>\n",
              "    </tr>\n",
              "    <tr>\n",
              "      <th>2</th>\n",
              "      <td>4.53</td>\n",
              "      <td>114.0</td>\n",
              "      <td>NaN</td>\n",
              "      <td>0</td>\n",
              "      <td>97</td>\n",
              "      <td>125</td>\n",
              "      <td>Medium</td>\n",
              "      <td>29</td>\n",
              "      <td>12</td>\n",
              "      <td>Yes</td>\n",
              "      <td>No</td>\n",
              "    </tr>\n",
              "    <tr>\n",
              "      <th>3</th>\n",
              "      <td>8.47</td>\n",
              "      <td>119.0</td>\n",
              "      <td>88.0</td>\n",
              "      <td>10</td>\n",
              "      <td>170</td>\n",
              "      <td>101</td>\n",
              "      <td>Medium</td>\n",
              "      <td>61</td>\n",
              "      <td>13</td>\n",
              "      <td>Yes</td>\n",
              "      <td>Yes</td>\n",
              "    </tr>\n",
              "    <tr>\n",
              "      <th>4</th>\n",
              "      <td>11.85</td>\n",
              "      <td>136.0</td>\n",
              "      <td>81.0</td>\n",
              "      <td>15</td>\n",
              "      <td>425</td>\n",
              "      <td>120</td>\n",
              "      <td>Good</td>\n",
              "      <td>67</td>\n",
              "      <td>10</td>\n",
              "      <td>Yes</td>\n",
              "      <td>Yes</td>\n",
              "    </tr>\n",
              "  </tbody>\n",
              "</table>\n",
              "</div>\n",
              "      <button class=\"colab-df-convert\" onclick=\"convertToInteractive('df-cf80eb21-95dc-40dd-857b-7e3639224828')\"\n",
              "              title=\"Convert this dataframe to an interactive table.\"\n",
              "              style=\"display:none;\">\n",
              "        \n",
              "  <svg xmlns=\"http://www.w3.org/2000/svg\" height=\"24px\"viewBox=\"0 0 24 24\"\n",
              "       width=\"24px\">\n",
              "    <path d=\"M0 0h24v24H0V0z\" fill=\"none\"/>\n",
              "    <path d=\"M18.56 5.44l.94 2.06.94-2.06 2.06-.94-2.06-.94-.94-2.06-.94 2.06-2.06.94zm-11 1L8.5 8.5l.94-2.06 2.06-.94-2.06-.94L8.5 2.5l-.94 2.06-2.06.94zm10 10l.94 2.06.94-2.06 2.06-.94-2.06-.94-.94-2.06-.94 2.06-2.06.94z\"/><path d=\"M17.41 7.96l-1.37-1.37c-.4-.4-.92-.59-1.43-.59-.52 0-1.04.2-1.43.59L10.3 9.45l-7.72 7.72c-.78.78-.78 2.05 0 2.83L4 21.41c.39.39.9.59 1.41.59.51 0 1.02-.2 1.41-.59l7.78-7.78 2.81-2.81c.8-.78.8-2.07 0-2.86zM5.41 20L4 18.59l7.72-7.72 1.47 1.35L5.41 20z\"/>\n",
              "  </svg>\n",
              "      </button>\n",
              "      \n",
              "  <style>\n",
              "    .colab-df-container {\n",
              "      display:flex;\n",
              "      flex-wrap:wrap;\n",
              "      gap: 12px;\n",
              "    }\n",
              "\n",
              "    .colab-df-convert {\n",
              "      background-color: #E8F0FE;\n",
              "      border: none;\n",
              "      border-radius: 50%;\n",
              "      cursor: pointer;\n",
              "      display: none;\n",
              "      fill: #1967D2;\n",
              "      height: 32px;\n",
              "      padding: 0 0 0 0;\n",
              "      width: 32px;\n",
              "    }\n",
              "\n",
              "    .colab-df-convert:hover {\n",
              "      background-color: #E2EBFA;\n",
              "      box-shadow: 0px 1px 2px rgba(60, 64, 67, 0.3), 0px 1px 3px 1px rgba(60, 64, 67, 0.15);\n",
              "      fill: #174EA6;\n",
              "    }\n",
              "\n",
              "    [theme=dark] .colab-df-convert {\n",
              "      background-color: #3B4455;\n",
              "      fill: #D2E3FC;\n",
              "    }\n",
              "\n",
              "    [theme=dark] .colab-df-convert:hover {\n",
              "      background-color: #434B5C;\n",
              "      box-shadow: 0px 1px 3px 1px rgba(0, 0, 0, 0.15);\n",
              "      filter: drop-shadow(0px 1px 2px rgba(0, 0, 0, 0.3));\n",
              "      fill: #FFFFFF;\n",
              "    }\n",
              "  </style>\n",
              "\n",
              "      <script>\n",
              "        const buttonEl =\n",
              "          document.querySelector('#df-cf80eb21-95dc-40dd-857b-7e3639224828 button.colab-df-convert');\n",
              "        buttonEl.style.display =\n",
              "          google.colab.kernel.accessAllowed ? 'block' : 'none';\n",
              "\n",
              "        async function convertToInteractive(key) {\n",
              "          const element = document.querySelector('#df-cf80eb21-95dc-40dd-857b-7e3639224828');\n",
              "          const dataTable =\n",
              "            await google.colab.kernel.invokeFunction('convertToInteractive',\n",
              "                                                     [key], {});\n",
              "          if (!dataTable) return;\n",
              "\n",
              "          const docLinkHtml = 'Like what you see? Visit the ' +\n",
              "            '<a target=\"_blank\" href=https://colab.research.google.com/notebooks/data_table.ipynb>data table notebook</a>'\n",
              "            + ' to learn more about interactive tables.';\n",
              "          element.innerHTML = '';\n",
              "          dataTable['output_type'] = 'display_data';\n",
              "          await google.colab.output.renderOutput(dataTable, element);\n",
              "          const docLink = document.createElement('div');\n",
              "          docLink.innerHTML = docLinkHtml;\n",
              "          element.appendChild(docLink);\n",
              "        }\n",
              "      </script>\n",
              "    </div>\n",
              "  </div>\n",
              "  "
            ]
          },
          "metadata": {},
          "execution_count": 858
        }
      ],
      "source": [
        "path = 'https://raw.githubusercontent.com/DA4BAM/dataset/master/Carseat_train.csv'\n",
        "data = pd.read_csv(path)\n",
        "data.head()"
      ]
    },
    {
      "cell_type": "markdown",
      "metadata": {
        "id": "YKhS-1s83W6B"
      },
      "source": [
        "* 아래 데이터는 **팀 과제**를 위해 필요합니다."
      ]
    },
    {
      "cell_type": "code",
      "execution_count": 859,
      "metadata": {
        "id": "vHny68G6ws_H",
        "colab": {
          "base_uri": "https://localhost:8080/",
          "height": 206
        },
        "outputId": "4533b8fe-3ff9-4aef-ae20-4ac7544993d7"
      },
      "outputs": [
        {
          "output_type": "execute_result",
          "data": {
            "text/plain": [
              "   CompPrice  Income  Advertising  Population  Price ShelveLoc  Age  \\\n",
              "0      131.0   111.0           13          33     80       Bad   68   \n",
              "1      123.0    57.0            0          66    105    Medium   39   \n",
              "2      136.0    60.0            7         303    147    Medium   41   \n",
              "3      143.0    77.0           25         448    156    Medium   43   \n",
              "4      111.0    75.0            1         377    108      Good   25   \n",
              "\n",
              "   Education Urban   US  \n",
              "0         18   Yes  Yes  \n",
              "1         11   Yes   No  \n",
              "2         10   Yes  Yes  \n",
              "3         17   Yes  Yes  \n",
              "4         12   Yes   No  "
            ],
            "text/html": [
              "\n",
              "  <div id=\"df-45329b72-1c1b-4096-8ac6-ef99239ad954\">\n",
              "    <div class=\"colab-df-container\">\n",
              "      <div>\n",
              "<style scoped>\n",
              "    .dataframe tbody tr th:only-of-type {\n",
              "        vertical-align: middle;\n",
              "    }\n",
              "\n",
              "    .dataframe tbody tr th {\n",
              "        vertical-align: top;\n",
              "    }\n",
              "\n",
              "    .dataframe thead th {\n",
              "        text-align: right;\n",
              "    }\n",
              "</style>\n",
              "<table border=\"1\" class=\"dataframe\">\n",
              "  <thead>\n",
              "    <tr style=\"text-align: right;\">\n",
              "      <th></th>\n",
              "      <th>CompPrice</th>\n",
              "      <th>Income</th>\n",
              "      <th>Advertising</th>\n",
              "      <th>Population</th>\n",
              "      <th>Price</th>\n",
              "      <th>ShelveLoc</th>\n",
              "      <th>Age</th>\n",
              "      <th>Education</th>\n",
              "      <th>Urban</th>\n",
              "      <th>US</th>\n",
              "    </tr>\n",
              "  </thead>\n",
              "  <tbody>\n",
              "    <tr>\n",
              "      <th>0</th>\n",
              "      <td>131.0</td>\n",
              "      <td>111.0</td>\n",
              "      <td>13</td>\n",
              "      <td>33</td>\n",
              "      <td>80</td>\n",
              "      <td>Bad</td>\n",
              "      <td>68</td>\n",
              "      <td>18</td>\n",
              "      <td>Yes</td>\n",
              "      <td>Yes</td>\n",
              "    </tr>\n",
              "    <tr>\n",
              "      <th>1</th>\n",
              "      <td>123.0</td>\n",
              "      <td>57.0</td>\n",
              "      <td>0</td>\n",
              "      <td>66</td>\n",
              "      <td>105</td>\n",
              "      <td>Medium</td>\n",
              "      <td>39</td>\n",
              "      <td>11</td>\n",
              "      <td>Yes</td>\n",
              "      <td>No</td>\n",
              "    </tr>\n",
              "    <tr>\n",
              "      <th>2</th>\n",
              "      <td>136.0</td>\n",
              "      <td>60.0</td>\n",
              "      <td>7</td>\n",
              "      <td>303</td>\n",
              "      <td>147</td>\n",
              "      <td>Medium</td>\n",
              "      <td>41</td>\n",
              "      <td>10</td>\n",
              "      <td>Yes</td>\n",
              "      <td>Yes</td>\n",
              "    </tr>\n",
              "    <tr>\n",
              "      <th>3</th>\n",
              "      <td>143.0</td>\n",
              "      <td>77.0</td>\n",
              "      <td>25</td>\n",
              "      <td>448</td>\n",
              "      <td>156</td>\n",
              "      <td>Medium</td>\n",
              "      <td>43</td>\n",
              "      <td>17</td>\n",
              "      <td>Yes</td>\n",
              "      <td>Yes</td>\n",
              "    </tr>\n",
              "    <tr>\n",
              "      <th>4</th>\n",
              "      <td>111.0</td>\n",
              "      <td>75.0</td>\n",
              "      <td>1</td>\n",
              "      <td>377</td>\n",
              "      <td>108</td>\n",
              "      <td>Good</td>\n",
              "      <td>25</td>\n",
              "      <td>12</td>\n",
              "      <td>Yes</td>\n",
              "      <td>No</td>\n",
              "    </tr>\n",
              "  </tbody>\n",
              "</table>\n",
              "</div>\n",
              "      <button class=\"colab-df-convert\" onclick=\"convertToInteractive('df-45329b72-1c1b-4096-8ac6-ef99239ad954')\"\n",
              "              title=\"Convert this dataframe to an interactive table.\"\n",
              "              style=\"display:none;\">\n",
              "        \n",
              "  <svg xmlns=\"http://www.w3.org/2000/svg\" height=\"24px\"viewBox=\"0 0 24 24\"\n",
              "       width=\"24px\">\n",
              "    <path d=\"M0 0h24v24H0V0z\" fill=\"none\"/>\n",
              "    <path d=\"M18.56 5.44l.94 2.06.94-2.06 2.06-.94-2.06-.94-.94-2.06-.94 2.06-2.06.94zm-11 1L8.5 8.5l.94-2.06 2.06-.94-2.06-.94L8.5 2.5l-.94 2.06-2.06.94zm10 10l.94 2.06.94-2.06 2.06-.94-2.06-.94-.94-2.06-.94 2.06-2.06.94z\"/><path d=\"M17.41 7.96l-1.37-1.37c-.4-.4-.92-.59-1.43-.59-.52 0-1.04.2-1.43.59L10.3 9.45l-7.72 7.72c-.78.78-.78 2.05 0 2.83L4 21.41c.39.39.9.59 1.41.59.51 0 1.02-.2 1.41-.59l7.78-7.78 2.81-2.81c.8-.78.8-2.07 0-2.86zM5.41 20L4 18.59l7.72-7.72 1.47 1.35L5.41 20z\"/>\n",
              "  </svg>\n",
              "      </button>\n",
              "      \n",
              "  <style>\n",
              "    .colab-df-container {\n",
              "      display:flex;\n",
              "      flex-wrap:wrap;\n",
              "      gap: 12px;\n",
              "    }\n",
              "\n",
              "    .colab-df-convert {\n",
              "      background-color: #E8F0FE;\n",
              "      border: none;\n",
              "      border-radius: 50%;\n",
              "      cursor: pointer;\n",
              "      display: none;\n",
              "      fill: #1967D2;\n",
              "      height: 32px;\n",
              "      padding: 0 0 0 0;\n",
              "      width: 32px;\n",
              "    }\n",
              "\n",
              "    .colab-df-convert:hover {\n",
              "      background-color: #E2EBFA;\n",
              "      box-shadow: 0px 1px 2px rgba(60, 64, 67, 0.3), 0px 1px 3px 1px rgba(60, 64, 67, 0.15);\n",
              "      fill: #174EA6;\n",
              "    }\n",
              "\n",
              "    [theme=dark] .colab-df-convert {\n",
              "      background-color: #3B4455;\n",
              "      fill: #D2E3FC;\n",
              "    }\n",
              "\n",
              "    [theme=dark] .colab-df-convert:hover {\n",
              "      background-color: #434B5C;\n",
              "      box-shadow: 0px 1px 3px 1px rgba(0, 0, 0, 0.15);\n",
              "      filter: drop-shadow(0px 1px 2px rgba(0, 0, 0, 0.3));\n",
              "      fill: #FFFFFF;\n",
              "    }\n",
              "  </style>\n",
              "\n",
              "      <script>\n",
              "        const buttonEl =\n",
              "          document.querySelector('#df-45329b72-1c1b-4096-8ac6-ef99239ad954 button.colab-df-convert');\n",
              "        buttonEl.style.display =\n",
              "          google.colab.kernel.accessAllowed ? 'block' : 'none';\n",
              "\n",
              "        async function convertToInteractive(key) {\n",
              "          const element = document.querySelector('#df-45329b72-1c1b-4096-8ac6-ef99239ad954');\n",
              "          const dataTable =\n",
              "            await google.colab.kernel.invokeFunction('convertToInteractive',\n",
              "                                                     [key], {});\n",
              "          if (!dataTable) return;\n",
              "\n",
              "          const docLinkHtml = 'Like what you see? Visit the ' +\n",
              "            '<a target=\"_blank\" href=https://colab.research.google.com/notebooks/data_table.ipynb>data table notebook</a>'\n",
              "            + ' to learn more about interactive tables.';\n",
              "          element.innerHTML = '';\n",
              "          dataTable['output_type'] = 'display_data';\n",
              "          await google.colab.output.renderOutput(dataTable, element);\n",
              "          const docLink = document.createElement('div');\n",
              "          docLink.innerHTML = docLinkHtml;\n",
              "          element.appendChild(docLink);\n",
              "        }\n",
              "      </script>\n",
              "    </div>\n",
              "  </div>\n",
              "  "
            ]
          },
          "metadata": {},
          "execution_count": 859
        }
      ],
      "source": [
        "path = 'https://raw.githubusercontent.com/DA4BAM/dataset/master/Carseat_test_x.csv'\n",
        "\n",
        "test = pd.read_csv(path)\n",
        "test.head()"
      ]
    },
    {
      "cell_type": "markdown",
      "metadata": {
        "id": "Ge5eTWab_921"
      },
      "source": [
        "## 1.데이터 탐색"
      ]
    },
    {
      "cell_type": "markdown",
      "metadata": {
        "id": "PRXJWyibZTJN"
      },
      "source": [
        "## 2.데이터 전처리 "
      ]
    },
    {
      "cell_type": "code",
      "execution_count": 860,
      "metadata": {
        "id": "vtn0hI98urCt"
      },
      "outputs": [],
      "source": [
        "target = 'Sales'"
      ]
    },
    {
      "cell_type": "markdown",
      "metadata": {
        "id": "BHWYbtBdZTJN"
      },
      "source": [
        "### 2.1 데이터를 feature와 , target으로 분할"
      ]
    },
    {
      "cell_type": "code",
      "execution_count": 861,
      "metadata": {
        "id": "WvyeHRNWEMBF"
      },
      "outputs": [],
      "source": [
        "x = data.drop(target, axis = 1)\n",
        "y = data.loc[:, target]"
      ]
    },
    {
      "cell_type": "markdown",
      "metadata": {
        "id": "umpv1ug6ZTJO"
      },
      "source": [
        "### 2.2 NaN에 대한 조치\n",
        "* 데이터에 포함된 NaN에 대해서 조치 방법을 결정하고 적용합니다.\n",
        "* 조치방법을 결정한 이유를 주석으로 기술합니다."
      ]
    },
    {
      "cell_type": "code",
      "execution_count": 862,
      "metadata": {
        "id": "gcn7jb2_JpUX",
        "colab": {
          "base_uri": "https://localhost:8080/"
        },
        "outputId": "c45731f5-e718-477f-f8be-e82a90e262b1"
      },
      "outputs": [
        {
          "output_type": "stream",
          "name": "stdout",
          "text": [
            "<class 'pandas.core.frame.DataFrame'>\n",
            "RangeIndex: 300 entries, 0 to 299\n",
            "Data columns (total 10 columns):\n",
            " #   Column       Non-Null Count  Dtype  \n",
            "---  ------       --------------  -----  \n",
            " 0   CompPrice    287 non-null    float64\n",
            " 1   Income       288 non-null    float64\n",
            " 2   Advertising  300 non-null    int64  \n",
            " 3   Population   300 non-null    int64  \n",
            " 4   Price        300 non-null    int64  \n",
            " 5   ShelveLoc    300 non-null    object \n",
            " 6   Age          300 non-null    int64  \n",
            " 7   Education    300 non-null    int64  \n",
            " 8   Urban        300 non-null    object \n",
            " 9   US           300 non-null    object \n",
            "dtypes: float64(2), int64(5), object(3)\n",
            "memory usage: 23.6+ KB\n"
          ]
        }
      ],
      "source": [
        "x.info()"
      ]
    },
    {
      "cell_type": "code",
      "source": [
        "x.describe()"
      ],
      "metadata": {
        "colab": {
          "base_uri": "https://localhost:8080/",
          "height": 300
        },
        "id": "cSMCPZJdT3c9",
        "outputId": "d952743a-7907-4f5c-e9c5-41cd25a0a744"
      },
      "execution_count": 863,
      "outputs": [
        {
          "output_type": "execute_result",
          "data": {
            "text/plain": [
              "        CompPrice      Income  Advertising  Population       Price  \\\n",
              "count  287.000000  288.000000   300.000000  300.000000  300.000000   \n",
              "mean   125.344948   68.673611     6.600000  266.950000  115.930000   \n",
              "std     14.551674   28.558597     6.569413  148.112339   22.149653   \n",
              "min     86.000000   21.000000     0.000000   12.000000   49.000000   \n",
              "25%    116.000000   42.000000     0.000000  136.250000  101.000000   \n",
              "50%    125.000000   69.000000     5.000000  278.000000  117.000000   \n",
              "75%    135.000000   93.000000    11.000000  400.000000  131.000000   \n",
              "max    175.000000  120.000000    29.000000  509.000000  191.000000   \n",
              "\n",
              "              Age   Education  \n",
              "count  300.000000  300.000000  \n",
              "mean    52.963333   13.906667  \n",
              "std     16.377098    2.601380  \n",
              "min     25.000000   10.000000  \n",
              "25%     39.000000   12.000000  \n",
              "50%     54.000000   14.000000  \n",
              "75%     65.000000   16.000000  \n",
              "max     80.000000   18.000000  "
            ],
            "text/html": [
              "\n",
              "  <div id=\"df-c0913fcd-c48c-4e9d-a802-ba50983785ac\">\n",
              "    <div class=\"colab-df-container\">\n",
              "      <div>\n",
              "<style scoped>\n",
              "    .dataframe tbody tr th:only-of-type {\n",
              "        vertical-align: middle;\n",
              "    }\n",
              "\n",
              "    .dataframe tbody tr th {\n",
              "        vertical-align: top;\n",
              "    }\n",
              "\n",
              "    .dataframe thead th {\n",
              "        text-align: right;\n",
              "    }\n",
              "</style>\n",
              "<table border=\"1\" class=\"dataframe\">\n",
              "  <thead>\n",
              "    <tr style=\"text-align: right;\">\n",
              "      <th></th>\n",
              "      <th>CompPrice</th>\n",
              "      <th>Income</th>\n",
              "      <th>Advertising</th>\n",
              "      <th>Population</th>\n",
              "      <th>Price</th>\n",
              "      <th>Age</th>\n",
              "      <th>Education</th>\n",
              "    </tr>\n",
              "  </thead>\n",
              "  <tbody>\n",
              "    <tr>\n",
              "      <th>count</th>\n",
              "      <td>287.000000</td>\n",
              "      <td>288.000000</td>\n",
              "      <td>300.000000</td>\n",
              "      <td>300.000000</td>\n",
              "      <td>300.000000</td>\n",
              "      <td>300.000000</td>\n",
              "      <td>300.000000</td>\n",
              "    </tr>\n",
              "    <tr>\n",
              "      <th>mean</th>\n",
              "      <td>125.344948</td>\n",
              "      <td>68.673611</td>\n",
              "      <td>6.600000</td>\n",
              "      <td>266.950000</td>\n",
              "      <td>115.930000</td>\n",
              "      <td>52.963333</td>\n",
              "      <td>13.906667</td>\n",
              "    </tr>\n",
              "    <tr>\n",
              "      <th>std</th>\n",
              "      <td>14.551674</td>\n",
              "      <td>28.558597</td>\n",
              "      <td>6.569413</td>\n",
              "      <td>148.112339</td>\n",
              "      <td>22.149653</td>\n",
              "      <td>16.377098</td>\n",
              "      <td>2.601380</td>\n",
              "    </tr>\n",
              "    <tr>\n",
              "      <th>min</th>\n",
              "      <td>86.000000</td>\n",
              "      <td>21.000000</td>\n",
              "      <td>0.000000</td>\n",
              "      <td>12.000000</td>\n",
              "      <td>49.000000</td>\n",
              "      <td>25.000000</td>\n",
              "      <td>10.000000</td>\n",
              "    </tr>\n",
              "    <tr>\n",
              "      <th>25%</th>\n",
              "      <td>116.000000</td>\n",
              "      <td>42.000000</td>\n",
              "      <td>0.000000</td>\n",
              "      <td>136.250000</td>\n",
              "      <td>101.000000</td>\n",
              "      <td>39.000000</td>\n",
              "      <td>12.000000</td>\n",
              "    </tr>\n",
              "    <tr>\n",
              "      <th>50%</th>\n",
              "      <td>125.000000</td>\n",
              "      <td>69.000000</td>\n",
              "      <td>5.000000</td>\n",
              "      <td>278.000000</td>\n",
              "      <td>117.000000</td>\n",
              "      <td>54.000000</td>\n",
              "      <td>14.000000</td>\n",
              "    </tr>\n",
              "    <tr>\n",
              "      <th>75%</th>\n",
              "      <td>135.000000</td>\n",
              "      <td>93.000000</td>\n",
              "      <td>11.000000</td>\n",
              "      <td>400.000000</td>\n",
              "      <td>131.000000</td>\n",
              "      <td>65.000000</td>\n",
              "      <td>16.000000</td>\n",
              "    </tr>\n",
              "    <tr>\n",
              "      <th>max</th>\n",
              "      <td>175.000000</td>\n",
              "      <td>120.000000</td>\n",
              "      <td>29.000000</td>\n",
              "      <td>509.000000</td>\n",
              "      <td>191.000000</td>\n",
              "      <td>80.000000</td>\n",
              "      <td>18.000000</td>\n",
              "    </tr>\n",
              "  </tbody>\n",
              "</table>\n",
              "</div>\n",
              "      <button class=\"colab-df-convert\" onclick=\"convertToInteractive('df-c0913fcd-c48c-4e9d-a802-ba50983785ac')\"\n",
              "              title=\"Convert this dataframe to an interactive table.\"\n",
              "              style=\"display:none;\">\n",
              "        \n",
              "  <svg xmlns=\"http://www.w3.org/2000/svg\" height=\"24px\"viewBox=\"0 0 24 24\"\n",
              "       width=\"24px\">\n",
              "    <path d=\"M0 0h24v24H0V0z\" fill=\"none\"/>\n",
              "    <path d=\"M18.56 5.44l.94 2.06.94-2.06 2.06-.94-2.06-.94-.94-2.06-.94 2.06-2.06.94zm-11 1L8.5 8.5l.94-2.06 2.06-.94-2.06-.94L8.5 2.5l-.94 2.06-2.06.94zm10 10l.94 2.06.94-2.06 2.06-.94-2.06-.94-.94-2.06-.94 2.06-2.06.94z\"/><path d=\"M17.41 7.96l-1.37-1.37c-.4-.4-.92-.59-1.43-.59-.52 0-1.04.2-1.43.59L10.3 9.45l-7.72 7.72c-.78.78-.78 2.05 0 2.83L4 21.41c.39.39.9.59 1.41.59.51 0 1.02-.2 1.41-.59l7.78-7.78 2.81-2.81c.8-.78.8-2.07 0-2.86zM5.41 20L4 18.59l7.72-7.72 1.47 1.35L5.41 20z\"/>\n",
              "  </svg>\n",
              "      </button>\n",
              "      \n",
              "  <style>\n",
              "    .colab-df-container {\n",
              "      display:flex;\n",
              "      flex-wrap:wrap;\n",
              "      gap: 12px;\n",
              "    }\n",
              "\n",
              "    .colab-df-convert {\n",
              "      background-color: #E8F0FE;\n",
              "      border: none;\n",
              "      border-radius: 50%;\n",
              "      cursor: pointer;\n",
              "      display: none;\n",
              "      fill: #1967D2;\n",
              "      height: 32px;\n",
              "      padding: 0 0 0 0;\n",
              "      width: 32px;\n",
              "    }\n",
              "\n",
              "    .colab-df-convert:hover {\n",
              "      background-color: #E2EBFA;\n",
              "      box-shadow: 0px 1px 2px rgba(60, 64, 67, 0.3), 0px 1px 3px 1px rgba(60, 64, 67, 0.15);\n",
              "      fill: #174EA6;\n",
              "    }\n",
              "\n",
              "    [theme=dark] .colab-df-convert {\n",
              "      background-color: #3B4455;\n",
              "      fill: #D2E3FC;\n",
              "    }\n",
              "\n",
              "    [theme=dark] .colab-df-convert:hover {\n",
              "      background-color: #434B5C;\n",
              "      box-shadow: 0px 1px 3px 1px rgba(0, 0, 0, 0.15);\n",
              "      filter: drop-shadow(0px 1px 2px rgba(0, 0, 0, 0.3));\n",
              "      fill: #FFFFFF;\n",
              "    }\n",
              "  </style>\n",
              "\n",
              "      <script>\n",
              "        const buttonEl =\n",
              "          document.querySelector('#df-c0913fcd-c48c-4e9d-a802-ba50983785ac button.colab-df-convert');\n",
              "        buttonEl.style.display =\n",
              "          google.colab.kernel.accessAllowed ? 'block' : 'none';\n",
              "\n",
              "        async function convertToInteractive(key) {\n",
              "          const element = document.querySelector('#df-c0913fcd-c48c-4e9d-a802-ba50983785ac');\n",
              "          const dataTable =\n",
              "            await google.colab.kernel.invokeFunction('convertToInteractive',\n",
              "                                                     [key], {});\n",
              "          if (!dataTable) return;\n",
              "\n",
              "          const docLinkHtml = 'Like what you see? Visit the ' +\n",
              "            '<a target=\"_blank\" href=https://colab.research.google.com/notebooks/data_table.ipynb>data table notebook</a>'\n",
              "            + ' to learn more about interactive tables.';\n",
              "          element.innerHTML = '';\n",
              "          dataTable['output_type'] = 'display_data';\n",
              "          await google.colab.output.renderOutput(dataTable, element);\n",
              "          const docLink = document.createElement('div');\n",
              "          docLink.innerHTML = docLinkHtml;\n",
              "          element.appendChild(docLink);\n",
              "        }\n",
              "      </script>\n",
              "    </div>\n",
              "  </div>\n",
              "  "
            ]
          },
          "metadata": {},
          "execution_count": 863
        }
      ]
    },
    {
      "cell_type": "code",
      "source": [
        "x.isnull().sum()"
      ],
      "metadata": {
        "colab": {
          "base_uri": "https://localhost:8080/"
        },
        "id": "h8uSVQ-OORup",
        "outputId": "82c381f4-fcfa-41ad-fba9-0718f0f0e412"
      },
      "execution_count": 864,
      "outputs": [
        {
          "output_type": "execute_result",
          "data": {
            "text/plain": [
              "CompPrice      13\n",
              "Income         12\n",
              "Advertising     0\n",
              "Population      0\n",
              "Price           0\n",
              "ShelveLoc       0\n",
              "Age             0\n",
              "Education       0\n",
              "Urban           0\n",
              "US              0\n",
              "dtype: int64"
            ]
          },
          "metadata": {},
          "execution_count": 864
        }
      ]
    },
    {
      "cell_type": "code",
      "source": [
        "x"
      ],
      "metadata": {
        "colab": {
          "base_uri": "https://localhost:8080/",
          "height": 424
        },
        "id": "gL1J2osmN9Zk",
        "outputId": "5273d069-c91a-4241-e66e-b6d02173ab23"
      },
      "execution_count": 865,
      "outputs": [
        {
          "output_type": "execute_result",
          "data": {
            "text/plain": [
              "     CompPrice  Income  Advertising  Population  Price ShelveLoc  Age  \\\n",
              "0        139.0   111.0            5         310    132       Bad   62   \n",
              "1        143.0    21.0            5          81    160    Medium   67   \n",
              "2        114.0     NaN            0          97    125    Medium   29   \n",
              "3        119.0    88.0           10         170    101    Medium   61   \n",
              "4        136.0    81.0           15         425    120      Good   67   \n",
              "..         ...     ...          ...         ...    ...       ...  ...   \n",
              "295      140.0    29.0            0         105     91       Bad   43   \n",
              "296      121.0    90.0            0         150    108       Bad   75   \n",
              "297      131.0    47.0            7          90    118    Medium   47   \n",
              "298      131.0    73.0           13         455    132    Medium   62   \n",
              "299      135.0    63.0           15         213    134    Medium   32   \n",
              "\n",
              "     Education Urban   US  \n",
              "0           13   Yes  Yes  \n",
              "1           12    No  Yes  \n",
              "2           12   Yes   No  \n",
              "3           13   Yes  Yes  \n",
              "4           10   Yes  Yes  \n",
              "..         ...   ...  ...  \n",
              "295         16   Yes   No  \n",
              "296         16   Yes   No  \n",
              "297         12   Yes  Yes  \n",
              "298         17   Yes  Yes  \n",
              "299         10   Yes  Yes  \n",
              "\n",
              "[300 rows x 10 columns]"
            ],
            "text/html": [
              "\n",
              "  <div id=\"df-d3b09ebb-960a-4e79-a4c9-aa64bb1d9c3c\">\n",
              "    <div class=\"colab-df-container\">\n",
              "      <div>\n",
              "<style scoped>\n",
              "    .dataframe tbody tr th:only-of-type {\n",
              "        vertical-align: middle;\n",
              "    }\n",
              "\n",
              "    .dataframe tbody tr th {\n",
              "        vertical-align: top;\n",
              "    }\n",
              "\n",
              "    .dataframe thead th {\n",
              "        text-align: right;\n",
              "    }\n",
              "</style>\n",
              "<table border=\"1\" class=\"dataframe\">\n",
              "  <thead>\n",
              "    <tr style=\"text-align: right;\">\n",
              "      <th></th>\n",
              "      <th>CompPrice</th>\n",
              "      <th>Income</th>\n",
              "      <th>Advertising</th>\n",
              "      <th>Population</th>\n",
              "      <th>Price</th>\n",
              "      <th>ShelveLoc</th>\n",
              "      <th>Age</th>\n",
              "      <th>Education</th>\n",
              "      <th>Urban</th>\n",
              "      <th>US</th>\n",
              "    </tr>\n",
              "  </thead>\n",
              "  <tbody>\n",
              "    <tr>\n",
              "      <th>0</th>\n",
              "      <td>139.0</td>\n",
              "      <td>111.0</td>\n",
              "      <td>5</td>\n",
              "      <td>310</td>\n",
              "      <td>132</td>\n",
              "      <td>Bad</td>\n",
              "      <td>62</td>\n",
              "      <td>13</td>\n",
              "      <td>Yes</td>\n",
              "      <td>Yes</td>\n",
              "    </tr>\n",
              "    <tr>\n",
              "      <th>1</th>\n",
              "      <td>143.0</td>\n",
              "      <td>21.0</td>\n",
              "      <td>5</td>\n",
              "      <td>81</td>\n",
              "      <td>160</td>\n",
              "      <td>Medium</td>\n",
              "      <td>67</td>\n",
              "      <td>12</td>\n",
              "      <td>No</td>\n",
              "      <td>Yes</td>\n",
              "    </tr>\n",
              "    <tr>\n",
              "      <th>2</th>\n",
              "      <td>114.0</td>\n",
              "      <td>NaN</td>\n",
              "      <td>0</td>\n",
              "      <td>97</td>\n",
              "      <td>125</td>\n",
              "      <td>Medium</td>\n",
              "      <td>29</td>\n",
              "      <td>12</td>\n",
              "      <td>Yes</td>\n",
              "      <td>No</td>\n",
              "    </tr>\n",
              "    <tr>\n",
              "      <th>3</th>\n",
              "      <td>119.0</td>\n",
              "      <td>88.0</td>\n",
              "      <td>10</td>\n",
              "      <td>170</td>\n",
              "      <td>101</td>\n",
              "      <td>Medium</td>\n",
              "      <td>61</td>\n",
              "      <td>13</td>\n",
              "      <td>Yes</td>\n",
              "      <td>Yes</td>\n",
              "    </tr>\n",
              "    <tr>\n",
              "      <th>4</th>\n",
              "      <td>136.0</td>\n",
              "      <td>81.0</td>\n",
              "      <td>15</td>\n",
              "      <td>425</td>\n",
              "      <td>120</td>\n",
              "      <td>Good</td>\n",
              "      <td>67</td>\n",
              "      <td>10</td>\n",
              "      <td>Yes</td>\n",
              "      <td>Yes</td>\n",
              "    </tr>\n",
              "    <tr>\n",
              "      <th>...</th>\n",
              "      <td>...</td>\n",
              "      <td>...</td>\n",
              "      <td>...</td>\n",
              "      <td>...</td>\n",
              "      <td>...</td>\n",
              "      <td>...</td>\n",
              "      <td>...</td>\n",
              "      <td>...</td>\n",
              "      <td>...</td>\n",
              "      <td>...</td>\n",
              "    </tr>\n",
              "    <tr>\n",
              "      <th>295</th>\n",
              "      <td>140.0</td>\n",
              "      <td>29.0</td>\n",
              "      <td>0</td>\n",
              "      <td>105</td>\n",
              "      <td>91</td>\n",
              "      <td>Bad</td>\n",
              "      <td>43</td>\n",
              "      <td>16</td>\n",
              "      <td>Yes</td>\n",
              "      <td>No</td>\n",
              "    </tr>\n",
              "    <tr>\n",
              "      <th>296</th>\n",
              "      <td>121.0</td>\n",
              "      <td>90.0</td>\n",
              "      <td>0</td>\n",
              "      <td>150</td>\n",
              "      <td>108</td>\n",
              "      <td>Bad</td>\n",
              "      <td>75</td>\n",
              "      <td>16</td>\n",
              "      <td>Yes</td>\n",
              "      <td>No</td>\n",
              "    </tr>\n",
              "    <tr>\n",
              "      <th>297</th>\n",
              "      <td>131.0</td>\n",
              "      <td>47.0</td>\n",
              "      <td>7</td>\n",
              "      <td>90</td>\n",
              "      <td>118</td>\n",
              "      <td>Medium</td>\n",
              "      <td>47</td>\n",
              "      <td>12</td>\n",
              "      <td>Yes</td>\n",
              "      <td>Yes</td>\n",
              "    </tr>\n",
              "    <tr>\n",
              "      <th>298</th>\n",
              "      <td>131.0</td>\n",
              "      <td>73.0</td>\n",
              "      <td>13</td>\n",
              "      <td>455</td>\n",
              "      <td>132</td>\n",
              "      <td>Medium</td>\n",
              "      <td>62</td>\n",
              "      <td>17</td>\n",
              "      <td>Yes</td>\n",
              "      <td>Yes</td>\n",
              "    </tr>\n",
              "    <tr>\n",
              "      <th>299</th>\n",
              "      <td>135.0</td>\n",
              "      <td>63.0</td>\n",
              "      <td>15</td>\n",
              "      <td>213</td>\n",
              "      <td>134</td>\n",
              "      <td>Medium</td>\n",
              "      <td>32</td>\n",
              "      <td>10</td>\n",
              "      <td>Yes</td>\n",
              "      <td>Yes</td>\n",
              "    </tr>\n",
              "  </tbody>\n",
              "</table>\n",
              "<p>300 rows × 10 columns</p>\n",
              "</div>\n",
              "      <button class=\"colab-df-convert\" onclick=\"convertToInteractive('df-d3b09ebb-960a-4e79-a4c9-aa64bb1d9c3c')\"\n",
              "              title=\"Convert this dataframe to an interactive table.\"\n",
              "              style=\"display:none;\">\n",
              "        \n",
              "  <svg xmlns=\"http://www.w3.org/2000/svg\" height=\"24px\"viewBox=\"0 0 24 24\"\n",
              "       width=\"24px\">\n",
              "    <path d=\"M0 0h24v24H0V0z\" fill=\"none\"/>\n",
              "    <path d=\"M18.56 5.44l.94 2.06.94-2.06 2.06-.94-2.06-.94-.94-2.06-.94 2.06-2.06.94zm-11 1L8.5 8.5l.94-2.06 2.06-.94-2.06-.94L8.5 2.5l-.94 2.06-2.06.94zm10 10l.94 2.06.94-2.06 2.06-.94-2.06-.94-.94-2.06-.94 2.06-2.06.94z\"/><path d=\"M17.41 7.96l-1.37-1.37c-.4-.4-.92-.59-1.43-.59-.52 0-1.04.2-1.43.59L10.3 9.45l-7.72 7.72c-.78.78-.78 2.05 0 2.83L4 21.41c.39.39.9.59 1.41.59.51 0 1.02-.2 1.41-.59l7.78-7.78 2.81-2.81c.8-.78.8-2.07 0-2.86zM5.41 20L4 18.59l7.72-7.72 1.47 1.35L5.41 20z\"/>\n",
              "  </svg>\n",
              "      </button>\n",
              "      \n",
              "  <style>\n",
              "    .colab-df-container {\n",
              "      display:flex;\n",
              "      flex-wrap:wrap;\n",
              "      gap: 12px;\n",
              "    }\n",
              "\n",
              "    .colab-df-convert {\n",
              "      background-color: #E8F0FE;\n",
              "      border: none;\n",
              "      border-radius: 50%;\n",
              "      cursor: pointer;\n",
              "      display: none;\n",
              "      fill: #1967D2;\n",
              "      height: 32px;\n",
              "      padding: 0 0 0 0;\n",
              "      width: 32px;\n",
              "    }\n",
              "\n",
              "    .colab-df-convert:hover {\n",
              "      background-color: #E2EBFA;\n",
              "      box-shadow: 0px 1px 2px rgba(60, 64, 67, 0.3), 0px 1px 3px 1px rgba(60, 64, 67, 0.15);\n",
              "      fill: #174EA6;\n",
              "    }\n",
              "\n",
              "    [theme=dark] .colab-df-convert {\n",
              "      background-color: #3B4455;\n",
              "      fill: #D2E3FC;\n",
              "    }\n",
              "\n",
              "    [theme=dark] .colab-df-convert:hover {\n",
              "      background-color: #434B5C;\n",
              "      box-shadow: 0px 1px 3px 1px rgba(0, 0, 0, 0.15);\n",
              "      filter: drop-shadow(0px 1px 2px rgba(0, 0, 0, 0.3));\n",
              "      fill: #FFFFFF;\n",
              "    }\n",
              "  </style>\n",
              "\n",
              "      <script>\n",
              "        const buttonEl =\n",
              "          document.querySelector('#df-d3b09ebb-960a-4e79-a4c9-aa64bb1d9c3c button.colab-df-convert');\n",
              "        buttonEl.style.display =\n",
              "          google.colab.kernel.accessAllowed ? 'block' : 'none';\n",
              "\n",
              "        async function convertToInteractive(key) {\n",
              "          const element = document.querySelector('#df-d3b09ebb-960a-4e79-a4c9-aa64bb1d9c3c');\n",
              "          const dataTable =\n",
              "            await google.colab.kernel.invokeFunction('convertToInteractive',\n",
              "                                                     [key], {});\n",
              "          if (!dataTable) return;\n",
              "\n",
              "          const docLinkHtml = 'Like what you see? Visit the ' +\n",
              "            '<a target=\"_blank\" href=https://colab.research.google.com/notebooks/data_table.ipynb>data table notebook</a>'\n",
              "            + ' to learn more about interactive tables.';\n",
              "          element.innerHTML = '';\n",
              "          dataTable['output_type'] = 'display_data';\n",
              "          await google.colab.output.renderOutput(dataTable, element);\n",
              "          const docLink = document.createElement('div');\n",
              "          docLink.innerHTML = docLinkHtml;\n",
              "          element.appendChild(docLink);\n",
              "        }\n",
              "      </script>\n",
              "    </div>\n",
              "  </div>\n",
              "  "
            ]
          },
          "metadata": {},
          "execution_count": 865
        }
      ]
    },
    {
      "cell_type": "code",
      "source": [
        "# income = 평균값으로 채우기\n",
        "income_mean = round(x['Income'].mean(), 1)\n",
        "x['Income'].fillna(income_mean, inplace=True)\n",
        "x.isna().sum()"
      ],
      "metadata": {
        "colab": {
          "base_uri": "https://localhost:8080/"
        },
        "id": "QlAYDpXLRvsK",
        "outputId": "7c958176-7016-4323-cb65-6a8724398354"
      },
      "execution_count": 866,
      "outputs": [
        {
          "output_type": "execute_result",
          "data": {
            "text/plain": [
              "CompPrice      13\n",
              "Income          0\n",
              "Advertising     0\n",
              "Population      0\n",
              "Price           0\n",
              "ShelveLoc       0\n",
              "Age             0\n",
              "Education       0\n",
              "Urban           0\n",
              "US              0\n",
              "dtype: int64"
            ]
          },
          "metadata": {},
          "execution_count": 866
        }
      ]
    },
    {
      "cell_type": "code",
      "source": [
        "x.head(5)"
      ],
      "metadata": {
        "colab": {
          "base_uri": "https://localhost:8080/",
          "height": 206
        },
        "id": "V2a8x6o4YTKg",
        "outputId": "18ff305a-01f4-434f-dda8-7bb64f30a142"
      },
      "execution_count": 867,
      "outputs": [
        {
          "output_type": "execute_result",
          "data": {
            "text/plain": [
              "   CompPrice  Income  Advertising  Population  Price ShelveLoc  Age  \\\n",
              "0      139.0   111.0            5         310    132       Bad   62   \n",
              "1      143.0    21.0            5          81    160    Medium   67   \n",
              "2      114.0    68.7            0          97    125    Medium   29   \n",
              "3      119.0    88.0           10         170    101    Medium   61   \n",
              "4      136.0    81.0           15         425    120      Good   67   \n",
              "\n",
              "   Education Urban   US  \n",
              "0         13   Yes  Yes  \n",
              "1         12    No  Yes  \n",
              "2         12   Yes   No  \n",
              "3         13   Yes  Yes  \n",
              "4         10   Yes  Yes  "
            ],
            "text/html": [
              "\n",
              "  <div id=\"df-482b22b7-e1ee-4758-b631-2c08ad4ee487\">\n",
              "    <div class=\"colab-df-container\">\n",
              "      <div>\n",
              "<style scoped>\n",
              "    .dataframe tbody tr th:only-of-type {\n",
              "        vertical-align: middle;\n",
              "    }\n",
              "\n",
              "    .dataframe tbody tr th {\n",
              "        vertical-align: top;\n",
              "    }\n",
              "\n",
              "    .dataframe thead th {\n",
              "        text-align: right;\n",
              "    }\n",
              "</style>\n",
              "<table border=\"1\" class=\"dataframe\">\n",
              "  <thead>\n",
              "    <tr style=\"text-align: right;\">\n",
              "      <th></th>\n",
              "      <th>CompPrice</th>\n",
              "      <th>Income</th>\n",
              "      <th>Advertising</th>\n",
              "      <th>Population</th>\n",
              "      <th>Price</th>\n",
              "      <th>ShelveLoc</th>\n",
              "      <th>Age</th>\n",
              "      <th>Education</th>\n",
              "      <th>Urban</th>\n",
              "      <th>US</th>\n",
              "    </tr>\n",
              "  </thead>\n",
              "  <tbody>\n",
              "    <tr>\n",
              "      <th>0</th>\n",
              "      <td>139.0</td>\n",
              "      <td>111.0</td>\n",
              "      <td>5</td>\n",
              "      <td>310</td>\n",
              "      <td>132</td>\n",
              "      <td>Bad</td>\n",
              "      <td>62</td>\n",
              "      <td>13</td>\n",
              "      <td>Yes</td>\n",
              "      <td>Yes</td>\n",
              "    </tr>\n",
              "    <tr>\n",
              "      <th>1</th>\n",
              "      <td>143.0</td>\n",
              "      <td>21.0</td>\n",
              "      <td>5</td>\n",
              "      <td>81</td>\n",
              "      <td>160</td>\n",
              "      <td>Medium</td>\n",
              "      <td>67</td>\n",
              "      <td>12</td>\n",
              "      <td>No</td>\n",
              "      <td>Yes</td>\n",
              "    </tr>\n",
              "    <tr>\n",
              "      <th>2</th>\n",
              "      <td>114.0</td>\n",
              "      <td>68.7</td>\n",
              "      <td>0</td>\n",
              "      <td>97</td>\n",
              "      <td>125</td>\n",
              "      <td>Medium</td>\n",
              "      <td>29</td>\n",
              "      <td>12</td>\n",
              "      <td>Yes</td>\n",
              "      <td>No</td>\n",
              "    </tr>\n",
              "    <tr>\n",
              "      <th>3</th>\n",
              "      <td>119.0</td>\n",
              "      <td>88.0</td>\n",
              "      <td>10</td>\n",
              "      <td>170</td>\n",
              "      <td>101</td>\n",
              "      <td>Medium</td>\n",
              "      <td>61</td>\n",
              "      <td>13</td>\n",
              "      <td>Yes</td>\n",
              "      <td>Yes</td>\n",
              "    </tr>\n",
              "    <tr>\n",
              "      <th>4</th>\n",
              "      <td>136.0</td>\n",
              "      <td>81.0</td>\n",
              "      <td>15</td>\n",
              "      <td>425</td>\n",
              "      <td>120</td>\n",
              "      <td>Good</td>\n",
              "      <td>67</td>\n",
              "      <td>10</td>\n",
              "      <td>Yes</td>\n",
              "      <td>Yes</td>\n",
              "    </tr>\n",
              "  </tbody>\n",
              "</table>\n",
              "</div>\n",
              "      <button class=\"colab-df-convert\" onclick=\"convertToInteractive('df-482b22b7-e1ee-4758-b631-2c08ad4ee487')\"\n",
              "              title=\"Convert this dataframe to an interactive table.\"\n",
              "              style=\"display:none;\">\n",
              "        \n",
              "  <svg xmlns=\"http://www.w3.org/2000/svg\" height=\"24px\"viewBox=\"0 0 24 24\"\n",
              "       width=\"24px\">\n",
              "    <path d=\"M0 0h24v24H0V0z\" fill=\"none\"/>\n",
              "    <path d=\"M18.56 5.44l.94 2.06.94-2.06 2.06-.94-2.06-.94-.94-2.06-.94 2.06-2.06.94zm-11 1L8.5 8.5l.94-2.06 2.06-.94-2.06-.94L8.5 2.5l-.94 2.06-2.06.94zm10 10l.94 2.06.94-2.06 2.06-.94-2.06-.94-.94-2.06-.94 2.06-2.06.94z\"/><path d=\"M17.41 7.96l-1.37-1.37c-.4-.4-.92-.59-1.43-.59-.52 0-1.04.2-1.43.59L10.3 9.45l-7.72 7.72c-.78.78-.78 2.05 0 2.83L4 21.41c.39.39.9.59 1.41.59.51 0 1.02-.2 1.41-.59l7.78-7.78 2.81-2.81c.8-.78.8-2.07 0-2.86zM5.41 20L4 18.59l7.72-7.72 1.47 1.35L5.41 20z\"/>\n",
              "  </svg>\n",
              "      </button>\n",
              "      \n",
              "  <style>\n",
              "    .colab-df-container {\n",
              "      display:flex;\n",
              "      flex-wrap:wrap;\n",
              "      gap: 12px;\n",
              "    }\n",
              "\n",
              "    .colab-df-convert {\n",
              "      background-color: #E8F0FE;\n",
              "      border: none;\n",
              "      border-radius: 50%;\n",
              "      cursor: pointer;\n",
              "      display: none;\n",
              "      fill: #1967D2;\n",
              "      height: 32px;\n",
              "      padding: 0 0 0 0;\n",
              "      width: 32px;\n",
              "    }\n",
              "\n",
              "    .colab-df-convert:hover {\n",
              "      background-color: #E2EBFA;\n",
              "      box-shadow: 0px 1px 2px rgba(60, 64, 67, 0.3), 0px 1px 3px 1px rgba(60, 64, 67, 0.15);\n",
              "      fill: #174EA6;\n",
              "    }\n",
              "\n",
              "    [theme=dark] .colab-df-convert {\n",
              "      background-color: #3B4455;\n",
              "      fill: #D2E3FC;\n",
              "    }\n",
              "\n",
              "    [theme=dark] .colab-df-convert:hover {\n",
              "      background-color: #434B5C;\n",
              "      box-shadow: 0px 1px 3px 1px rgba(0, 0, 0, 0.15);\n",
              "      filter: drop-shadow(0px 1px 2px rgba(0, 0, 0, 0.3));\n",
              "      fill: #FFFFFF;\n",
              "    }\n",
              "  </style>\n",
              "\n",
              "      <script>\n",
              "        const buttonEl =\n",
              "          document.querySelector('#df-482b22b7-e1ee-4758-b631-2c08ad4ee487 button.colab-df-convert');\n",
              "        buttonEl.style.display =\n",
              "          google.colab.kernel.accessAllowed ? 'block' : 'none';\n",
              "\n",
              "        async function convertToInteractive(key) {\n",
              "          const element = document.querySelector('#df-482b22b7-e1ee-4758-b631-2c08ad4ee487');\n",
              "          const dataTable =\n",
              "            await google.colab.kernel.invokeFunction('convertToInteractive',\n",
              "                                                     [key], {});\n",
              "          if (!dataTable) return;\n",
              "\n",
              "          const docLinkHtml = 'Like what you see? Visit the ' +\n",
              "            '<a target=\"_blank\" href=https://colab.research.google.com/notebooks/data_table.ipynb>data table notebook</a>'\n",
              "            + ' to learn more about interactive tables.';\n",
              "          element.innerHTML = '';\n",
              "          dataTable['output_type'] = 'display_data';\n",
              "          await google.colab.output.renderOutput(dataTable, element);\n",
              "          const docLink = document.createElement('div');\n",
              "          docLink.innerHTML = docLinkHtml;\n",
              "          element.appendChild(docLink);\n",
              "        }\n",
              "      </script>\n",
              "    </div>\n",
              "  </div>\n",
              "  "
            ]
          },
          "metadata": {},
          "execution_count": 867
        }
      ]
    },
    {
      "cell_type": "code",
      "source": [
        "# CompPrice = 선형보간법으로 채우기\n",
        "x.interpolate(method='linear', inplace=True)\n",
        "x.isna().sum()"
      ],
      "metadata": {
        "colab": {
          "base_uri": "https://localhost:8080/"
        },
        "id": "LmxtvqfSSfF9",
        "outputId": "3c12d3b7-c238-4530-d336-10698d557620"
      },
      "execution_count": 868,
      "outputs": [
        {
          "output_type": "execute_result",
          "data": {
            "text/plain": [
              "CompPrice      0\n",
              "Income         0\n",
              "Advertising    0\n",
              "Population     0\n",
              "Price          0\n",
              "ShelveLoc      0\n",
              "Age            0\n",
              "Education      0\n",
              "Urban          0\n",
              "US             0\n",
              "dtype: int64"
            ]
          },
          "metadata": {},
          "execution_count": 868
        }
      ]
    },
    {
      "cell_type": "code",
      "source": [
        "x.head(5)"
      ],
      "metadata": {
        "colab": {
          "base_uri": "https://localhost:8080/",
          "height": 206
        },
        "id": "OF4Jz8gRVO5H",
        "outputId": "a64f1d95-c5fa-4789-e00c-0128ee5cbbc0"
      },
      "execution_count": 869,
      "outputs": [
        {
          "output_type": "execute_result",
          "data": {
            "text/plain": [
              "   CompPrice  Income  Advertising  Population  Price ShelveLoc  Age  \\\n",
              "0      139.0   111.0            5         310    132       Bad   62   \n",
              "1      143.0    21.0            5          81    160    Medium   67   \n",
              "2      114.0    68.7            0          97    125    Medium   29   \n",
              "3      119.0    88.0           10         170    101    Medium   61   \n",
              "4      136.0    81.0           15         425    120      Good   67   \n",
              "\n",
              "   Education Urban   US  \n",
              "0         13   Yes  Yes  \n",
              "1         12    No  Yes  \n",
              "2         12   Yes   No  \n",
              "3         13   Yes  Yes  \n",
              "4         10   Yes  Yes  "
            ],
            "text/html": [
              "\n",
              "  <div id=\"df-d76a83a1-f0ce-459e-af6b-f2bd9fb8f02f\">\n",
              "    <div class=\"colab-df-container\">\n",
              "      <div>\n",
              "<style scoped>\n",
              "    .dataframe tbody tr th:only-of-type {\n",
              "        vertical-align: middle;\n",
              "    }\n",
              "\n",
              "    .dataframe tbody tr th {\n",
              "        vertical-align: top;\n",
              "    }\n",
              "\n",
              "    .dataframe thead th {\n",
              "        text-align: right;\n",
              "    }\n",
              "</style>\n",
              "<table border=\"1\" class=\"dataframe\">\n",
              "  <thead>\n",
              "    <tr style=\"text-align: right;\">\n",
              "      <th></th>\n",
              "      <th>CompPrice</th>\n",
              "      <th>Income</th>\n",
              "      <th>Advertising</th>\n",
              "      <th>Population</th>\n",
              "      <th>Price</th>\n",
              "      <th>ShelveLoc</th>\n",
              "      <th>Age</th>\n",
              "      <th>Education</th>\n",
              "      <th>Urban</th>\n",
              "      <th>US</th>\n",
              "    </tr>\n",
              "  </thead>\n",
              "  <tbody>\n",
              "    <tr>\n",
              "      <th>0</th>\n",
              "      <td>139.0</td>\n",
              "      <td>111.0</td>\n",
              "      <td>5</td>\n",
              "      <td>310</td>\n",
              "      <td>132</td>\n",
              "      <td>Bad</td>\n",
              "      <td>62</td>\n",
              "      <td>13</td>\n",
              "      <td>Yes</td>\n",
              "      <td>Yes</td>\n",
              "    </tr>\n",
              "    <tr>\n",
              "      <th>1</th>\n",
              "      <td>143.0</td>\n",
              "      <td>21.0</td>\n",
              "      <td>5</td>\n",
              "      <td>81</td>\n",
              "      <td>160</td>\n",
              "      <td>Medium</td>\n",
              "      <td>67</td>\n",
              "      <td>12</td>\n",
              "      <td>No</td>\n",
              "      <td>Yes</td>\n",
              "    </tr>\n",
              "    <tr>\n",
              "      <th>2</th>\n",
              "      <td>114.0</td>\n",
              "      <td>68.7</td>\n",
              "      <td>0</td>\n",
              "      <td>97</td>\n",
              "      <td>125</td>\n",
              "      <td>Medium</td>\n",
              "      <td>29</td>\n",
              "      <td>12</td>\n",
              "      <td>Yes</td>\n",
              "      <td>No</td>\n",
              "    </tr>\n",
              "    <tr>\n",
              "      <th>3</th>\n",
              "      <td>119.0</td>\n",
              "      <td>88.0</td>\n",
              "      <td>10</td>\n",
              "      <td>170</td>\n",
              "      <td>101</td>\n",
              "      <td>Medium</td>\n",
              "      <td>61</td>\n",
              "      <td>13</td>\n",
              "      <td>Yes</td>\n",
              "      <td>Yes</td>\n",
              "    </tr>\n",
              "    <tr>\n",
              "      <th>4</th>\n",
              "      <td>136.0</td>\n",
              "      <td>81.0</td>\n",
              "      <td>15</td>\n",
              "      <td>425</td>\n",
              "      <td>120</td>\n",
              "      <td>Good</td>\n",
              "      <td>67</td>\n",
              "      <td>10</td>\n",
              "      <td>Yes</td>\n",
              "      <td>Yes</td>\n",
              "    </tr>\n",
              "  </tbody>\n",
              "</table>\n",
              "</div>\n",
              "      <button class=\"colab-df-convert\" onclick=\"convertToInteractive('df-d76a83a1-f0ce-459e-af6b-f2bd9fb8f02f')\"\n",
              "              title=\"Convert this dataframe to an interactive table.\"\n",
              "              style=\"display:none;\">\n",
              "        \n",
              "  <svg xmlns=\"http://www.w3.org/2000/svg\" height=\"24px\"viewBox=\"0 0 24 24\"\n",
              "       width=\"24px\">\n",
              "    <path d=\"M0 0h24v24H0V0z\" fill=\"none\"/>\n",
              "    <path d=\"M18.56 5.44l.94 2.06.94-2.06 2.06-.94-2.06-.94-.94-2.06-.94 2.06-2.06.94zm-11 1L8.5 8.5l.94-2.06 2.06-.94-2.06-.94L8.5 2.5l-.94 2.06-2.06.94zm10 10l.94 2.06.94-2.06 2.06-.94-2.06-.94-.94-2.06-.94 2.06-2.06.94z\"/><path d=\"M17.41 7.96l-1.37-1.37c-.4-.4-.92-.59-1.43-.59-.52 0-1.04.2-1.43.59L10.3 9.45l-7.72 7.72c-.78.78-.78 2.05 0 2.83L4 21.41c.39.39.9.59 1.41.59.51 0 1.02-.2 1.41-.59l7.78-7.78 2.81-2.81c.8-.78.8-2.07 0-2.86zM5.41 20L4 18.59l7.72-7.72 1.47 1.35L5.41 20z\"/>\n",
              "  </svg>\n",
              "      </button>\n",
              "      \n",
              "  <style>\n",
              "    .colab-df-container {\n",
              "      display:flex;\n",
              "      flex-wrap:wrap;\n",
              "      gap: 12px;\n",
              "    }\n",
              "\n",
              "    .colab-df-convert {\n",
              "      background-color: #E8F0FE;\n",
              "      border: none;\n",
              "      border-radius: 50%;\n",
              "      cursor: pointer;\n",
              "      display: none;\n",
              "      fill: #1967D2;\n",
              "      height: 32px;\n",
              "      padding: 0 0 0 0;\n",
              "      width: 32px;\n",
              "    }\n",
              "\n",
              "    .colab-df-convert:hover {\n",
              "      background-color: #E2EBFA;\n",
              "      box-shadow: 0px 1px 2px rgba(60, 64, 67, 0.3), 0px 1px 3px 1px rgba(60, 64, 67, 0.15);\n",
              "      fill: #174EA6;\n",
              "    }\n",
              "\n",
              "    [theme=dark] .colab-df-convert {\n",
              "      background-color: #3B4455;\n",
              "      fill: #D2E3FC;\n",
              "    }\n",
              "\n",
              "    [theme=dark] .colab-df-convert:hover {\n",
              "      background-color: #434B5C;\n",
              "      box-shadow: 0px 1px 3px 1px rgba(0, 0, 0, 0.15);\n",
              "      filter: drop-shadow(0px 1px 2px rgba(0, 0, 0, 0.3));\n",
              "      fill: #FFFFFF;\n",
              "    }\n",
              "  </style>\n",
              "\n",
              "      <script>\n",
              "        const buttonEl =\n",
              "          document.querySelector('#df-d76a83a1-f0ce-459e-af6b-f2bd9fb8f02f button.colab-df-convert');\n",
              "        buttonEl.style.display =\n",
              "          google.colab.kernel.accessAllowed ? 'block' : 'none';\n",
              "\n",
              "        async function convertToInteractive(key) {\n",
              "          const element = document.querySelector('#df-d76a83a1-f0ce-459e-af6b-f2bd9fb8f02f');\n",
              "          const dataTable =\n",
              "            await google.colab.kernel.invokeFunction('convertToInteractive',\n",
              "                                                     [key], {});\n",
              "          if (!dataTable) return;\n",
              "\n",
              "          const docLinkHtml = 'Like what you see? Visit the ' +\n",
              "            '<a target=\"_blank\" href=https://colab.research.google.com/notebooks/data_table.ipynb>data table notebook</a>'\n",
              "            + ' to learn more about interactive tables.';\n",
              "          element.innerHTML = '';\n",
              "          dataTable['output_type'] = 'display_data';\n",
              "          await google.colab.output.renderOutput(dataTable, element);\n",
              "          const docLink = document.createElement('div');\n",
              "          docLink.innerHTML = docLinkHtml;\n",
              "          element.appendChild(docLink);\n",
              "        }\n",
              "      </script>\n",
              "    </div>\n",
              "  </div>\n",
              "  "
            ]
          },
          "metadata": {},
          "execution_count": 869
        }
      ]
    },
    {
      "cell_type": "markdown",
      "source": [
        "- Income의 경우 데이터가 전체적으로 균등한 것을 확인해서 평균값으로 채워넣음\n",
        "- CompPrice의 경우 주어진 값들을 지나는 직선상에서 결측치를 채워넣기 위해 선형보간법을 사용함"
      ],
      "metadata": {
        "id": "-ukBCTByThv_"
      }
    },
    {
      "cell_type": "markdown",
      "metadata": {
        "id": "zFJ23LikV8A_"
      },
      "source": [
        "### 2.3 가변수화\n",
        "* 범주형 데이터이면서 값이 0,1 로 되어 있는 것이 아니라면, 가변수화를 수행해야 합니다.\n",
        "* 대상이 되는 변수에 대해서 가변수화를 수행해주세요."
      ]
    },
    {
      "cell_type": "code",
      "source": [
        "x.loc[x['ShelveLoc']=='Bad', 'ShelveLoc'] = 0\n",
        "x.loc[x['ShelveLoc']=='Medium', 'ShelveLoc'] = 1\n",
        "x.loc[x['ShelveLoc']=='Good', 'ShelveLoc'] = 2\n",
        "\n",
        "x.loc[x['Urban']=='No', 'Urban'] = 0\n",
        "x.loc[x['Urban']=='Yes', 'Urban'] = 1\n",
        "\n",
        "x.loc[x['US']=='No', 'US'] = 0\n",
        "x.loc[x['US']=='Yes', 'US'] = 1"
      ],
      "metadata": {
        "id": "ljeNuyn4VtLj"
      },
      "execution_count": 870,
      "outputs": []
    },
    {
      "cell_type": "code",
      "source": [
        "x.head(5)"
      ],
      "metadata": {
        "colab": {
          "base_uri": "https://localhost:8080/",
          "height": 206
        },
        "id": "henUxjt1WgIO",
        "outputId": "e4ecb53e-50b9-4f80-899d-f09fb6c76b91"
      },
      "execution_count": 871,
      "outputs": [
        {
          "output_type": "execute_result",
          "data": {
            "text/plain": [
              "   CompPrice  Income  Advertising  Population  Price ShelveLoc  Age  \\\n",
              "0      139.0   111.0            5         310    132         0   62   \n",
              "1      143.0    21.0            5          81    160         1   67   \n",
              "2      114.0    68.7            0          97    125         1   29   \n",
              "3      119.0    88.0           10         170    101         1   61   \n",
              "4      136.0    81.0           15         425    120         2   67   \n",
              "\n",
              "   Education Urban US  \n",
              "0         13     1  1  \n",
              "1         12     0  1  \n",
              "2         12     1  0  \n",
              "3         13     1  1  \n",
              "4         10     1  1  "
            ],
            "text/html": [
              "\n",
              "  <div id=\"df-326c5557-3bb1-4bfe-a0d4-dde4567ecec0\">\n",
              "    <div class=\"colab-df-container\">\n",
              "      <div>\n",
              "<style scoped>\n",
              "    .dataframe tbody tr th:only-of-type {\n",
              "        vertical-align: middle;\n",
              "    }\n",
              "\n",
              "    .dataframe tbody tr th {\n",
              "        vertical-align: top;\n",
              "    }\n",
              "\n",
              "    .dataframe thead th {\n",
              "        text-align: right;\n",
              "    }\n",
              "</style>\n",
              "<table border=\"1\" class=\"dataframe\">\n",
              "  <thead>\n",
              "    <tr style=\"text-align: right;\">\n",
              "      <th></th>\n",
              "      <th>CompPrice</th>\n",
              "      <th>Income</th>\n",
              "      <th>Advertising</th>\n",
              "      <th>Population</th>\n",
              "      <th>Price</th>\n",
              "      <th>ShelveLoc</th>\n",
              "      <th>Age</th>\n",
              "      <th>Education</th>\n",
              "      <th>Urban</th>\n",
              "      <th>US</th>\n",
              "    </tr>\n",
              "  </thead>\n",
              "  <tbody>\n",
              "    <tr>\n",
              "      <th>0</th>\n",
              "      <td>139.0</td>\n",
              "      <td>111.0</td>\n",
              "      <td>5</td>\n",
              "      <td>310</td>\n",
              "      <td>132</td>\n",
              "      <td>0</td>\n",
              "      <td>62</td>\n",
              "      <td>13</td>\n",
              "      <td>1</td>\n",
              "      <td>1</td>\n",
              "    </tr>\n",
              "    <tr>\n",
              "      <th>1</th>\n",
              "      <td>143.0</td>\n",
              "      <td>21.0</td>\n",
              "      <td>5</td>\n",
              "      <td>81</td>\n",
              "      <td>160</td>\n",
              "      <td>1</td>\n",
              "      <td>67</td>\n",
              "      <td>12</td>\n",
              "      <td>0</td>\n",
              "      <td>1</td>\n",
              "    </tr>\n",
              "    <tr>\n",
              "      <th>2</th>\n",
              "      <td>114.0</td>\n",
              "      <td>68.7</td>\n",
              "      <td>0</td>\n",
              "      <td>97</td>\n",
              "      <td>125</td>\n",
              "      <td>1</td>\n",
              "      <td>29</td>\n",
              "      <td>12</td>\n",
              "      <td>1</td>\n",
              "      <td>0</td>\n",
              "    </tr>\n",
              "    <tr>\n",
              "      <th>3</th>\n",
              "      <td>119.0</td>\n",
              "      <td>88.0</td>\n",
              "      <td>10</td>\n",
              "      <td>170</td>\n",
              "      <td>101</td>\n",
              "      <td>1</td>\n",
              "      <td>61</td>\n",
              "      <td>13</td>\n",
              "      <td>1</td>\n",
              "      <td>1</td>\n",
              "    </tr>\n",
              "    <tr>\n",
              "      <th>4</th>\n",
              "      <td>136.0</td>\n",
              "      <td>81.0</td>\n",
              "      <td>15</td>\n",
              "      <td>425</td>\n",
              "      <td>120</td>\n",
              "      <td>2</td>\n",
              "      <td>67</td>\n",
              "      <td>10</td>\n",
              "      <td>1</td>\n",
              "      <td>1</td>\n",
              "    </tr>\n",
              "  </tbody>\n",
              "</table>\n",
              "</div>\n",
              "      <button class=\"colab-df-convert\" onclick=\"convertToInteractive('df-326c5557-3bb1-4bfe-a0d4-dde4567ecec0')\"\n",
              "              title=\"Convert this dataframe to an interactive table.\"\n",
              "              style=\"display:none;\">\n",
              "        \n",
              "  <svg xmlns=\"http://www.w3.org/2000/svg\" height=\"24px\"viewBox=\"0 0 24 24\"\n",
              "       width=\"24px\">\n",
              "    <path d=\"M0 0h24v24H0V0z\" fill=\"none\"/>\n",
              "    <path d=\"M18.56 5.44l.94 2.06.94-2.06 2.06-.94-2.06-.94-.94-2.06-.94 2.06-2.06.94zm-11 1L8.5 8.5l.94-2.06 2.06-.94-2.06-.94L8.5 2.5l-.94 2.06-2.06.94zm10 10l.94 2.06.94-2.06 2.06-.94-2.06-.94-.94-2.06-.94 2.06-2.06.94z\"/><path d=\"M17.41 7.96l-1.37-1.37c-.4-.4-.92-.59-1.43-.59-.52 0-1.04.2-1.43.59L10.3 9.45l-7.72 7.72c-.78.78-.78 2.05 0 2.83L4 21.41c.39.39.9.59 1.41.59.51 0 1.02-.2 1.41-.59l7.78-7.78 2.81-2.81c.8-.78.8-2.07 0-2.86zM5.41 20L4 18.59l7.72-7.72 1.47 1.35L5.41 20z\"/>\n",
              "  </svg>\n",
              "      </button>\n",
              "      \n",
              "  <style>\n",
              "    .colab-df-container {\n",
              "      display:flex;\n",
              "      flex-wrap:wrap;\n",
              "      gap: 12px;\n",
              "    }\n",
              "\n",
              "    .colab-df-convert {\n",
              "      background-color: #E8F0FE;\n",
              "      border: none;\n",
              "      border-radius: 50%;\n",
              "      cursor: pointer;\n",
              "      display: none;\n",
              "      fill: #1967D2;\n",
              "      height: 32px;\n",
              "      padding: 0 0 0 0;\n",
              "      width: 32px;\n",
              "    }\n",
              "\n",
              "    .colab-df-convert:hover {\n",
              "      background-color: #E2EBFA;\n",
              "      box-shadow: 0px 1px 2px rgba(60, 64, 67, 0.3), 0px 1px 3px 1px rgba(60, 64, 67, 0.15);\n",
              "      fill: #174EA6;\n",
              "    }\n",
              "\n",
              "    [theme=dark] .colab-df-convert {\n",
              "      background-color: #3B4455;\n",
              "      fill: #D2E3FC;\n",
              "    }\n",
              "\n",
              "    [theme=dark] .colab-df-convert:hover {\n",
              "      background-color: #434B5C;\n",
              "      box-shadow: 0px 1px 3px 1px rgba(0, 0, 0, 0.15);\n",
              "      filter: drop-shadow(0px 1px 2px rgba(0, 0, 0, 0.3));\n",
              "      fill: #FFFFFF;\n",
              "    }\n",
              "  </style>\n",
              "\n",
              "      <script>\n",
              "        const buttonEl =\n",
              "          document.querySelector('#df-326c5557-3bb1-4bfe-a0d4-dde4567ecec0 button.colab-df-convert');\n",
              "        buttonEl.style.display =\n",
              "          google.colab.kernel.accessAllowed ? 'block' : 'none';\n",
              "\n",
              "        async function convertToInteractive(key) {\n",
              "          const element = document.querySelector('#df-326c5557-3bb1-4bfe-a0d4-dde4567ecec0');\n",
              "          const dataTable =\n",
              "            await google.colab.kernel.invokeFunction('convertToInteractive',\n",
              "                                                     [key], {});\n",
              "          if (!dataTable) return;\n",
              "\n",
              "          const docLinkHtml = 'Like what you see? Visit the ' +\n",
              "            '<a target=\"_blank\" href=https://colab.research.google.com/notebooks/data_table.ipynb>data table notebook</a>'\n",
              "            + ' to learn more about interactive tables.';\n",
              "          element.innerHTML = '';\n",
              "          dataTable['output_type'] = 'display_data';\n",
              "          await google.colab.output.renderOutput(dataTable, element);\n",
              "          const docLink = document.createElement('div');\n",
              "          docLink.innerHTML = docLinkHtml;\n",
              "          element.appendChild(docLink);\n",
              "        }\n",
              "      </script>\n",
              "    </div>\n",
              "  </div>\n",
              "  "
            ]
          },
          "metadata": {},
          "execution_count": 871
        }
      ]
    },
    {
      "cell_type": "code",
      "execution_count": 872,
      "metadata": {
        "id": "ETUeL5XmV8A_"
      },
      "outputs": [],
      "source": [
        "# col_dummies = ['ShelveLoc', 'Urban', 'US']\n",
        "# data_test = pd.get_dummies(data, columns=col_dummies, drop_first=True)"
      ]
    },
    {
      "cell_type": "markdown",
      "metadata": {
        "id": "NC48TbT7FoYM"
      },
      "source": [
        "### 2.4 (옵션) 추가변수 도출\n",
        "* 기존 데이터셋의 변수를 이용하여 추가로 도출할 수 있는 변수가 있다면 수행합니다."
      ]
    },
    {
      "cell_type": "code",
      "execution_count": 873,
      "metadata": {
        "id": "eEi54e5ZFnU1",
        "colab": {
          "base_uri": "https://localhost:8080/",
          "height": 206
        },
        "outputId": "d1db13f5-3ba3-4b36-e340-50a39462d6a0"
      },
      "outputs": [
        {
          "output_type": "execute_result",
          "data": {
            "text/plain": [
              "   CompPrice  Income  Advertising  Population  Price ShelveLoc  Age  \\\n",
              "0      139.0   111.0            5         310    132         0   62   \n",
              "1      143.0    21.0            5          81    160         1   67   \n",
              "2      114.0    68.7            0          97    125         1   29   \n",
              "3      119.0    88.0           10         170    101         1   61   \n",
              "4      136.0    81.0           15         425    120         2   67   \n",
              "\n",
              "   Education Urban US   PoPrice  \n",
              "0         13     1  1  0.425806  \n",
              "1         12     0  1  1.975309  \n",
              "2         12     1  0  1.288660  \n",
              "3         13     1  1  0.594118  \n",
              "4         10     1  1  0.282353  "
            ],
            "text/html": [
              "\n",
              "  <div id=\"df-3aa89681-3e06-40f2-8f3d-eb684f20bf57\">\n",
              "    <div class=\"colab-df-container\">\n",
              "      <div>\n",
              "<style scoped>\n",
              "    .dataframe tbody tr th:only-of-type {\n",
              "        vertical-align: middle;\n",
              "    }\n",
              "\n",
              "    .dataframe tbody tr th {\n",
              "        vertical-align: top;\n",
              "    }\n",
              "\n",
              "    .dataframe thead th {\n",
              "        text-align: right;\n",
              "    }\n",
              "</style>\n",
              "<table border=\"1\" class=\"dataframe\">\n",
              "  <thead>\n",
              "    <tr style=\"text-align: right;\">\n",
              "      <th></th>\n",
              "      <th>CompPrice</th>\n",
              "      <th>Income</th>\n",
              "      <th>Advertising</th>\n",
              "      <th>Population</th>\n",
              "      <th>Price</th>\n",
              "      <th>ShelveLoc</th>\n",
              "      <th>Age</th>\n",
              "      <th>Education</th>\n",
              "      <th>Urban</th>\n",
              "      <th>US</th>\n",
              "      <th>PoPrice</th>\n",
              "    </tr>\n",
              "  </thead>\n",
              "  <tbody>\n",
              "    <tr>\n",
              "      <th>0</th>\n",
              "      <td>139.0</td>\n",
              "      <td>111.0</td>\n",
              "      <td>5</td>\n",
              "      <td>310</td>\n",
              "      <td>132</td>\n",
              "      <td>0</td>\n",
              "      <td>62</td>\n",
              "      <td>13</td>\n",
              "      <td>1</td>\n",
              "      <td>1</td>\n",
              "      <td>0.425806</td>\n",
              "    </tr>\n",
              "    <tr>\n",
              "      <th>1</th>\n",
              "      <td>143.0</td>\n",
              "      <td>21.0</td>\n",
              "      <td>5</td>\n",
              "      <td>81</td>\n",
              "      <td>160</td>\n",
              "      <td>1</td>\n",
              "      <td>67</td>\n",
              "      <td>12</td>\n",
              "      <td>0</td>\n",
              "      <td>1</td>\n",
              "      <td>1.975309</td>\n",
              "    </tr>\n",
              "    <tr>\n",
              "      <th>2</th>\n",
              "      <td>114.0</td>\n",
              "      <td>68.7</td>\n",
              "      <td>0</td>\n",
              "      <td>97</td>\n",
              "      <td>125</td>\n",
              "      <td>1</td>\n",
              "      <td>29</td>\n",
              "      <td>12</td>\n",
              "      <td>1</td>\n",
              "      <td>0</td>\n",
              "      <td>1.288660</td>\n",
              "    </tr>\n",
              "    <tr>\n",
              "      <th>3</th>\n",
              "      <td>119.0</td>\n",
              "      <td>88.0</td>\n",
              "      <td>10</td>\n",
              "      <td>170</td>\n",
              "      <td>101</td>\n",
              "      <td>1</td>\n",
              "      <td>61</td>\n",
              "      <td>13</td>\n",
              "      <td>1</td>\n",
              "      <td>1</td>\n",
              "      <td>0.594118</td>\n",
              "    </tr>\n",
              "    <tr>\n",
              "      <th>4</th>\n",
              "      <td>136.0</td>\n",
              "      <td>81.0</td>\n",
              "      <td>15</td>\n",
              "      <td>425</td>\n",
              "      <td>120</td>\n",
              "      <td>2</td>\n",
              "      <td>67</td>\n",
              "      <td>10</td>\n",
              "      <td>1</td>\n",
              "      <td>1</td>\n",
              "      <td>0.282353</td>\n",
              "    </tr>\n",
              "  </tbody>\n",
              "</table>\n",
              "</div>\n",
              "      <button class=\"colab-df-convert\" onclick=\"convertToInteractive('df-3aa89681-3e06-40f2-8f3d-eb684f20bf57')\"\n",
              "              title=\"Convert this dataframe to an interactive table.\"\n",
              "              style=\"display:none;\">\n",
              "        \n",
              "  <svg xmlns=\"http://www.w3.org/2000/svg\" height=\"24px\"viewBox=\"0 0 24 24\"\n",
              "       width=\"24px\">\n",
              "    <path d=\"M0 0h24v24H0V0z\" fill=\"none\"/>\n",
              "    <path d=\"M18.56 5.44l.94 2.06.94-2.06 2.06-.94-2.06-.94-.94-2.06-.94 2.06-2.06.94zm-11 1L8.5 8.5l.94-2.06 2.06-.94-2.06-.94L8.5 2.5l-.94 2.06-2.06.94zm10 10l.94 2.06.94-2.06 2.06-.94-2.06-.94-.94-2.06-.94 2.06-2.06.94z\"/><path d=\"M17.41 7.96l-1.37-1.37c-.4-.4-.92-.59-1.43-.59-.52 0-1.04.2-1.43.59L10.3 9.45l-7.72 7.72c-.78.78-.78 2.05 0 2.83L4 21.41c.39.39.9.59 1.41.59.51 0 1.02-.2 1.41-.59l7.78-7.78 2.81-2.81c.8-.78.8-2.07 0-2.86zM5.41 20L4 18.59l7.72-7.72 1.47 1.35L5.41 20z\"/>\n",
              "  </svg>\n",
              "      </button>\n",
              "      \n",
              "  <style>\n",
              "    .colab-df-container {\n",
              "      display:flex;\n",
              "      flex-wrap:wrap;\n",
              "      gap: 12px;\n",
              "    }\n",
              "\n",
              "    .colab-df-convert {\n",
              "      background-color: #E8F0FE;\n",
              "      border: none;\n",
              "      border-radius: 50%;\n",
              "      cursor: pointer;\n",
              "      display: none;\n",
              "      fill: #1967D2;\n",
              "      height: 32px;\n",
              "      padding: 0 0 0 0;\n",
              "      width: 32px;\n",
              "    }\n",
              "\n",
              "    .colab-df-convert:hover {\n",
              "      background-color: #E2EBFA;\n",
              "      box-shadow: 0px 1px 2px rgba(60, 64, 67, 0.3), 0px 1px 3px 1px rgba(60, 64, 67, 0.15);\n",
              "      fill: #174EA6;\n",
              "    }\n",
              "\n",
              "    [theme=dark] .colab-df-convert {\n",
              "      background-color: #3B4455;\n",
              "      fill: #D2E3FC;\n",
              "    }\n",
              "\n",
              "    [theme=dark] .colab-df-convert:hover {\n",
              "      background-color: #434B5C;\n",
              "      box-shadow: 0px 1px 3px 1px rgba(0, 0, 0, 0.15);\n",
              "      filter: drop-shadow(0px 1px 2px rgba(0, 0, 0, 0.3));\n",
              "      fill: #FFFFFF;\n",
              "    }\n",
              "  </style>\n",
              "\n",
              "      <script>\n",
              "        const buttonEl =\n",
              "          document.querySelector('#df-3aa89681-3e06-40f2-8f3d-eb684f20bf57 button.colab-df-convert');\n",
              "        buttonEl.style.display =\n",
              "          google.colab.kernel.accessAllowed ? 'block' : 'none';\n",
              "\n",
              "        async function convertToInteractive(key) {\n",
              "          const element = document.querySelector('#df-3aa89681-3e06-40f2-8f3d-eb684f20bf57');\n",
              "          const dataTable =\n",
              "            await google.colab.kernel.invokeFunction('convertToInteractive',\n",
              "                                                     [key], {});\n",
              "          if (!dataTable) return;\n",
              "\n",
              "          const docLinkHtml = 'Like what you see? Visit the ' +\n",
              "            '<a target=\"_blank\" href=https://colab.research.google.com/notebooks/data_table.ipynb>data table notebook</a>'\n",
              "            + ' to learn more about interactive tables.';\n",
              "          element.innerHTML = '';\n",
              "          dataTable['output_type'] = 'display_data';\n",
              "          await google.colab.output.renderOutput(dataTable, element);\n",
              "          const docLink = document.createElement('div');\n",
              "          docLink.innerHTML = docLinkHtml;\n",
              "          element.appendChild(docLink);\n",
              "        }\n",
              "      </script>\n",
              "    </div>\n",
              "  </div>\n",
              "  "
            ]
          },
          "metadata": {},
          "execution_count": 873
        }
      ],
      "source": [
        "x['PoPrice'] = x['Price']/x['Population']\n",
        "x.head(5)"
      ]
    },
    {
      "cell_type": "code",
      "source": [
        "x['PoPrice'] = round(x['PoPrice'], 2)\n",
        "x.tail(5)"
      ],
      "metadata": {
        "colab": {
          "base_uri": "https://localhost:8080/",
          "height": 206
        },
        "id": "pRAvs5F-aI0H",
        "outputId": "e251fa41-8976-4e09-bc99-ff63d9458c89"
      },
      "execution_count": 874,
      "outputs": [
        {
          "output_type": "execute_result",
          "data": {
            "text/plain": [
              "     CompPrice  Income  Advertising  Population  Price ShelveLoc  Age  \\\n",
              "295      140.0    29.0            0         105     91         0   43   \n",
              "296      121.0    90.0            0         150    108         0   75   \n",
              "297      131.0    47.0            7          90    118         1   47   \n",
              "298      131.0    73.0           13         455    132         1   62   \n",
              "299      135.0    63.0           15         213    134         1   32   \n",
              "\n",
              "     Education Urban US  PoPrice  \n",
              "295         16     1  0     0.87  \n",
              "296         16     1  0     0.72  \n",
              "297         12     1  1     1.31  \n",
              "298         17     1  1     0.29  \n",
              "299         10     1  1     0.63  "
            ],
            "text/html": [
              "\n",
              "  <div id=\"df-a2e7c521-edc1-4ca9-81e5-ba475169fac6\">\n",
              "    <div class=\"colab-df-container\">\n",
              "      <div>\n",
              "<style scoped>\n",
              "    .dataframe tbody tr th:only-of-type {\n",
              "        vertical-align: middle;\n",
              "    }\n",
              "\n",
              "    .dataframe tbody tr th {\n",
              "        vertical-align: top;\n",
              "    }\n",
              "\n",
              "    .dataframe thead th {\n",
              "        text-align: right;\n",
              "    }\n",
              "</style>\n",
              "<table border=\"1\" class=\"dataframe\">\n",
              "  <thead>\n",
              "    <tr style=\"text-align: right;\">\n",
              "      <th></th>\n",
              "      <th>CompPrice</th>\n",
              "      <th>Income</th>\n",
              "      <th>Advertising</th>\n",
              "      <th>Population</th>\n",
              "      <th>Price</th>\n",
              "      <th>ShelveLoc</th>\n",
              "      <th>Age</th>\n",
              "      <th>Education</th>\n",
              "      <th>Urban</th>\n",
              "      <th>US</th>\n",
              "      <th>PoPrice</th>\n",
              "    </tr>\n",
              "  </thead>\n",
              "  <tbody>\n",
              "    <tr>\n",
              "      <th>295</th>\n",
              "      <td>140.0</td>\n",
              "      <td>29.0</td>\n",
              "      <td>0</td>\n",
              "      <td>105</td>\n",
              "      <td>91</td>\n",
              "      <td>0</td>\n",
              "      <td>43</td>\n",
              "      <td>16</td>\n",
              "      <td>1</td>\n",
              "      <td>0</td>\n",
              "      <td>0.87</td>\n",
              "    </tr>\n",
              "    <tr>\n",
              "      <th>296</th>\n",
              "      <td>121.0</td>\n",
              "      <td>90.0</td>\n",
              "      <td>0</td>\n",
              "      <td>150</td>\n",
              "      <td>108</td>\n",
              "      <td>0</td>\n",
              "      <td>75</td>\n",
              "      <td>16</td>\n",
              "      <td>1</td>\n",
              "      <td>0</td>\n",
              "      <td>0.72</td>\n",
              "    </tr>\n",
              "    <tr>\n",
              "      <th>297</th>\n",
              "      <td>131.0</td>\n",
              "      <td>47.0</td>\n",
              "      <td>7</td>\n",
              "      <td>90</td>\n",
              "      <td>118</td>\n",
              "      <td>1</td>\n",
              "      <td>47</td>\n",
              "      <td>12</td>\n",
              "      <td>1</td>\n",
              "      <td>1</td>\n",
              "      <td>1.31</td>\n",
              "    </tr>\n",
              "    <tr>\n",
              "      <th>298</th>\n",
              "      <td>131.0</td>\n",
              "      <td>73.0</td>\n",
              "      <td>13</td>\n",
              "      <td>455</td>\n",
              "      <td>132</td>\n",
              "      <td>1</td>\n",
              "      <td>62</td>\n",
              "      <td>17</td>\n",
              "      <td>1</td>\n",
              "      <td>1</td>\n",
              "      <td>0.29</td>\n",
              "    </tr>\n",
              "    <tr>\n",
              "      <th>299</th>\n",
              "      <td>135.0</td>\n",
              "      <td>63.0</td>\n",
              "      <td>15</td>\n",
              "      <td>213</td>\n",
              "      <td>134</td>\n",
              "      <td>1</td>\n",
              "      <td>32</td>\n",
              "      <td>10</td>\n",
              "      <td>1</td>\n",
              "      <td>1</td>\n",
              "      <td>0.63</td>\n",
              "    </tr>\n",
              "  </tbody>\n",
              "</table>\n",
              "</div>\n",
              "      <button class=\"colab-df-convert\" onclick=\"convertToInteractive('df-a2e7c521-edc1-4ca9-81e5-ba475169fac6')\"\n",
              "              title=\"Convert this dataframe to an interactive table.\"\n",
              "              style=\"display:none;\">\n",
              "        \n",
              "  <svg xmlns=\"http://www.w3.org/2000/svg\" height=\"24px\"viewBox=\"0 0 24 24\"\n",
              "       width=\"24px\">\n",
              "    <path d=\"M0 0h24v24H0V0z\" fill=\"none\"/>\n",
              "    <path d=\"M18.56 5.44l.94 2.06.94-2.06 2.06-.94-2.06-.94-.94-2.06-.94 2.06-2.06.94zm-11 1L8.5 8.5l.94-2.06 2.06-.94-2.06-.94L8.5 2.5l-.94 2.06-2.06.94zm10 10l.94 2.06.94-2.06 2.06-.94-2.06-.94-.94-2.06-.94 2.06-2.06.94z\"/><path d=\"M17.41 7.96l-1.37-1.37c-.4-.4-.92-.59-1.43-.59-.52 0-1.04.2-1.43.59L10.3 9.45l-7.72 7.72c-.78.78-.78 2.05 0 2.83L4 21.41c.39.39.9.59 1.41.59.51 0 1.02-.2 1.41-.59l7.78-7.78 2.81-2.81c.8-.78.8-2.07 0-2.86zM5.41 20L4 18.59l7.72-7.72 1.47 1.35L5.41 20z\"/>\n",
              "  </svg>\n",
              "      </button>\n",
              "      \n",
              "  <style>\n",
              "    .colab-df-container {\n",
              "      display:flex;\n",
              "      flex-wrap:wrap;\n",
              "      gap: 12px;\n",
              "    }\n",
              "\n",
              "    .colab-df-convert {\n",
              "      background-color: #E8F0FE;\n",
              "      border: none;\n",
              "      border-radius: 50%;\n",
              "      cursor: pointer;\n",
              "      display: none;\n",
              "      fill: #1967D2;\n",
              "      height: 32px;\n",
              "      padding: 0 0 0 0;\n",
              "      width: 32px;\n",
              "    }\n",
              "\n",
              "    .colab-df-convert:hover {\n",
              "      background-color: #E2EBFA;\n",
              "      box-shadow: 0px 1px 2px rgba(60, 64, 67, 0.3), 0px 1px 3px 1px rgba(60, 64, 67, 0.15);\n",
              "      fill: #174EA6;\n",
              "    }\n",
              "\n",
              "    [theme=dark] .colab-df-convert {\n",
              "      background-color: #3B4455;\n",
              "      fill: #D2E3FC;\n",
              "    }\n",
              "\n",
              "    [theme=dark] .colab-df-convert:hover {\n",
              "      background-color: #434B5C;\n",
              "      box-shadow: 0px 1px 3px 1px rgba(0, 0, 0, 0.15);\n",
              "      filter: drop-shadow(0px 1px 2px rgba(0, 0, 0, 0.3));\n",
              "      fill: #FFFFFF;\n",
              "    }\n",
              "  </style>\n",
              "\n",
              "      <script>\n",
              "        const buttonEl =\n",
              "          document.querySelector('#df-a2e7c521-edc1-4ca9-81e5-ba475169fac6 button.colab-df-convert');\n",
              "        buttonEl.style.display =\n",
              "          google.colab.kernel.accessAllowed ? 'block' : 'none';\n",
              "\n",
              "        async function convertToInteractive(key) {\n",
              "          const element = document.querySelector('#df-a2e7c521-edc1-4ca9-81e5-ba475169fac6');\n",
              "          const dataTable =\n",
              "            await google.colab.kernel.invokeFunction('convertToInteractive',\n",
              "                                                     [key], {});\n",
              "          if (!dataTable) return;\n",
              "\n",
              "          const docLinkHtml = 'Like what you see? Visit the ' +\n",
              "            '<a target=\"_blank\" href=https://colab.research.google.com/notebooks/data_table.ipynb>data table notebook</a>'\n",
              "            + ' to learn more about interactive tables.';\n",
              "          element.innerHTML = '';\n",
              "          dataTable['output_type'] = 'display_data';\n",
              "          await google.colab.output.renderOutput(dataTable, element);\n",
              "          const docLink = document.createElement('div');\n",
              "          docLink.innerHTML = docLinkHtml;\n",
              "          element.appendChild(docLink);\n",
              "        }\n",
              "      </script>\n",
              "    </div>\n",
              "  </div>\n",
              "  "
            ]
          },
          "metadata": {},
          "execution_count": 874
        }
      ]
    },
    {
      "cell_type": "markdown",
      "source": [
        "- 지역 인구 대비 지역별 판매가격의 비율을 나타낸 'PoPrice'를 추가로 도출함"
      ],
      "metadata": {
        "id": "aVYfeB-YZ3JK"
      }
    },
    {
      "cell_type": "markdown",
      "metadata": {
        "id": "-dgcE6vBZTJQ"
      },
      "source": [
        "### 2.5 데이터 분할\n",
        "* train 데이터를 train : val 로 분할하시오.\n",
        "* train set의 적절한 사이즈를 결정하시오."
      ]
    },
    {
      "cell_type": "code",
      "execution_count": 875,
      "metadata": {
        "id": "rrJdDjMiIa1d"
      },
      "outputs": [],
      "source": [
        "from sklearn.model_selection import train_test_split"
      ]
    },
    {
      "cell_type": "code",
      "execution_count": 876,
      "metadata": {
        "id": "0Lda-ShMKJhY"
      },
      "outputs": [],
      "source": [
        "x_train, x_val, y_train, y_val = train_test_split(x, y, test_size=0.3, random_state=2022)"
      ]
    },
    {
      "cell_type": "markdown",
      "metadata": {
        "id": "2Lwk03PSZTJP"
      },
      "source": [
        "### 2.6 (옵션)스케일링 \n",
        "* 스케일링을 필요로 하는 알고리즘이 있습니다. \n",
        "* 필요하다고 판단될때 수행합니다."
      ]
    },
    {
      "cell_type": "code",
      "execution_count": 877,
      "metadata": {
        "id": "oAVSU7XucCvn"
      },
      "outputs": [],
      "source": [
        "from sklearn.preprocessing import MinMaxScaler\n",
        "scaler = MinMaxScaler()\n",
        "scaler.fit(x_train)\n",
        "x_trainsc = scaler.transform(x_train)"
      ]
    },
    {
      "cell_type": "code",
      "source": [
        "# max = x_train\n",
        "# x_trainsc = (x_train - x_train.min())/(max-x_train.min())\n",
        "# x_valsc = (x_val - x_train.min())/(max-x_train.min())"
      ],
      "metadata": {
        "id": "Jh8GhE15ew4T"
      },
      "execution_count": 878,
      "outputs": []
    },
    {
      "cell_type": "code",
      "source": [
        "x_trainsc.max(), x_trainsc.min()"
      ],
      "metadata": {
        "colab": {
          "base_uri": "https://localhost:8080/"
        },
        "id": "0wqdYM-fbz_N",
        "outputId": "096f65aa-16ff-40bf-93cf-61d712aa48e0"
      },
      "execution_count": 879,
      "outputs": [
        {
          "output_type": "execute_result",
          "data": {
            "text/plain": [
              "(1.0, 0.0)"
            ]
          },
          "metadata": {},
          "execution_count": 879
        }
      ]
    },
    {
      "cell_type": "markdown",
      "metadata": {
        "id": "ZghJJ7yLEpDA"
      },
      "source": [
        "## 3.모델링1 : 머신러닝"
      ]
    },
    {
      "cell_type": "markdown",
      "metadata": {
        "id": "NFDAfi7-5Xhu"
      },
      "source": [
        "### 3.1 모델링을 위한 함수 불러오기\n",
        "\n",
        "* 꼭 필요한 함수만 불러옵니다. 무조건 다 불러오는 것은 지양해주세요."
      ]
    },
    {
      "cell_type": "code",
      "execution_count": 880,
      "metadata": {
        "id": "zlHHnr2-5cwD"
      },
      "outputs": [],
      "source": [
        "from sklearn.linear_model import LinearRegression\n",
        "from sklearn.tree import DecisionTreeRegressor\n",
        "from sklearn.neighbors import KNeighborsRegressor\n",
        "from sklearn.svm import SVR\n",
        "from sklearn.ensemble import RandomForestRegressor\n",
        "from xgboost import XGBRegressor\n",
        "from sklearn.metrics import mean_absolute_error, r2_score"
      ]
    },
    {
      "cell_type": "markdown",
      "metadata": {
        "id": "t-gnca2jZTJQ"
      },
      "source": [
        "### 3.2 모델링\n",
        "* 최소 3개 이상의 알고리즘을 선정합니다.(알고리즘에는 최소 1개 이상의 앙상블 기법을 포함)\n",
        "    * 아래 주어진 목록 이외의 알고리즘을 선정해도 좋습니다.\n",
        "* 각 알고리즘별 튜닝을 수행하여 최적의 모델을 생성합니다.\n",
        "    * 튜닝 방식은 GridSearchCV, RandomizedSearchCV 혹은 for loop 로 직접\n",
        "    * 단, 선형회귀, 로지스틱 회귀의는 입력 변수(feature)를 조절하여 튜닝을 합니다.\n",
        "* 모델링, 튜닝만 수행하는데 그치지 말고, 모델의 내용을 파악하기 위한 분석을 시도합니다.\n",
        "    * 예 : 모델 시각화 및 내용 파악, 튜닝 결과 분석 및 시각화"
      ]
    },
    {
      "cell_type": "markdown",
      "metadata": {
        "id": "1j8zehMIIqpv"
      },
      "source": [
        "#### (1) Linear Regression 모델링"
      ]
    },
    {
      "cell_type": "code",
      "execution_count": 881,
      "metadata": {
        "id": "afL0_rKpEoTz"
      },
      "outputs": [],
      "source": [
        "model = LinearRegression()"
      ]
    },
    {
      "cell_type": "code",
      "execution_count": 882,
      "metadata": {
        "id": "uFKvj_10EoQi",
        "colab": {
          "base_uri": "https://localhost:8080/"
        },
        "outputId": "bcfb3ffa-bbef-4a2a-df4d-7f628f14bb49"
      },
      "outputs": [
        {
          "output_type": "execute_result",
          "data": {
            "text/plain": [
              "LinearRegression()"
            ]
          },
          "metadata": {},
          "execution_count": 882
        }
      ],
      "source": [
        "model.fit(x_train, y_train)"
      ]
    },
    {
      "cell_type": "code",
      "execution_count": 883,
      "metadata": {
        "id": "Um7zx9GQEoNk"
      },
      "outputs": [],
      "source": [
        "y_pred = model.predict(x_val)"
      ]
    },
    {
      "cell_type": "code",
      "source": [
        "print('MAE: ', mean_absolute_error(y_val, y_pred))\n",
        "print('R2: ', r2_score(y_val, y_pred))"
      ],
      "metadata": {
        "colab": {
          "base_uri": "https://localhost:8080/"
        },
        "id": "Wj2k3WBIg9Hz",
        "outputId": "48801b0e-a115-485b-aa4f-e22b0d850eb9"
      },
      "execution_count": 884,
      "outputs": [
        {
          "output_type": "stream",
          "name": "stdout",
          "text": [
            "MAE:  0.9871680984640497\n",
            "R2:  0.8234201308224465\n"
          ]
        }
      ]
    },
    {
      "cell_type": "markdown",
      "metadata": {
        "id": "ZwstDzzpe5Rg"
      },
      "source": [
        "#### (2) Decision Tree 모델링"
      ]
    },
    {
      "cell_type": "code",
      "execution_count": 885,
      "metadata": {
        "id": "9KBjAg2Ue5nI"
      },
      "outputs": [],
      "source": [
        "model2 = DecisionTreeRegressor(max_depth=3, random_state=2022)"
      ]
    },
    {
      "cell_type": "code",
      "execution_count": 886,
      "metadata": {
        "id": "cQUS0axYfKZI",
        "colab": {
          "base_uri": "https://localhost:8080/"
        },
        "outputId": "42bbf776-391b-40e6-f134-7581f6ff87bf"
      },
      "outputs": [
        {
          "output_type": "execute_result",
          "data": {
            "text/plain": [
              "DecisionTreeRegressor(max_depth=3, random_state=2022)"
            ]
          },
          "metadata": {},
          "execution_count": 886
        }
      ],
      "source": [
        "model2.fit(x_train, y_train)"
      ]
    },
    {
      "cell_type": "code",
      "execution_count": 887,
      "metadata": {
        "id": "40N90iKAfa9j"
      },
      "outputs": [],
      "source": [
        "y_pred2 = model2.predict(x_val)"
      ]
    },
    {
      "cell_type": "code",
      "source": [
        "print('MAE: ', mean_absolute_error(y_val, y_pred2))\n",
        "print('R2: ', r2_score(y_val, y_pred2))"
      ],
      "metadata": {
        "colab": {
          "base_uri": "https://localhost:8080/"
        },
        "id": "O_R4dMk_hdQE",
        "outputId": "fa28b839-2db9-4f02-f5d2-67929cce26eb"
      },
      "execution_count": 888,
      "outputs": [
        {
          "output_type": "stream",
          "name": "stdout",
          "text": [
            "MAE:  2.071992660452159\n",
            "R2:  0.20227325566634435\n"
          ]
        }
      ]
    },
    {
      "cell_type": "markdown",
      "metadata": {
        "id": "b7sweeGMWYO1"
      },
      "source": [
        "#### (3) KNN 모델링"
      ]
    },
    {
      "cell_type": "code",
      "execution_count": 889,
      "metadata": {
        "id": "hHLzHD5KWYO6"
      },
      "outputs": [],
      "source": [
        "model3 = KNeighborsRegressor(n_neighbors=3)"
      ]
    },
    {
      "cell_type": "code",
      "execution_count": 890,
      "metadata": {
        "id": "C0wxfihLWYO6",
        "colab": {
          "base_uri": "https://localhost:8080/"
        },
        "outputId": "871878da-1948-477b-df2b-dcb101a8a513"
      },
      "outputs": [
        {
          "output_type": "execute_result",
          "data": {
            "text/plain": [
              "KNeighborsRegressor(n_neighbors=3)"
            ]
          },
          "metadata": {},
          "execution_count": 890
        }
      ],
      "source": [
        "model3.fit(x_train, y_train)"
      ]
    },
    {
      "cell_type": "code",
      "execution_count": 891,
      "metadata": {
        "id": "rn6oLQAbWYO6"
      },
      "outputs": [],
      "source": [
        "y_pred3 = model3.predict(x_val)"
      ]
    },
    {
      "cell_type": "code",
      "source": [
        "print('MAE: ', mean_absolute_error(y_val, y_pred3))\n",
        "print('R2: ', r2_score(y_val, y_pred3))"
      ],
      "metadata": {
        "colab": {
          "base_uri": "https://localhost:8080/"
        },
        "id": "sfhF2MREi7Y8",
        "outputId": "0b6312f5-2f45-4a47-fcb1-aab06f576332"
      },
      "execution_count": 892,
      "outputs": [
        {
          "output_type": "stream",
          "name": "stdout",
          "text": [
            "MAE:  2.342888888888889\n",
            "R2:  -0.028214811470694823\n"
          ]
        }
      ]
    },
    {
      "cell_type": "markdown",
      "metadata": {
        "id": "JB7CrBcM3j4g"
      },
      "source": [
        "#### (4) SVM 모델링"
      ]
    },
    {
      "cell_type": "code",
      "execution_count": 893,
      "metadata": {
        "id": "_zJ10b6AKV6y"
      },
      "outputs": [],
      "source": [
        "model4 = SVR()"
      ]
    },
    {
      "cell_type": "code",
      "execution_count": 894,
      "metadata": {
        "id": "Z-Apu7XoKVwd",
        "colab": {
          "base_uri": "https://localhost:8080/"
        },
        "outputId": "dd868b3f-f7ee-4760-a99e-3cae0bc84138"
      },
      "outputs": [
        {
          "output_type": "execute_result",
          "data": {
            "text/plain": [
              "SVR()"
            ]
          },
          "metadata": {},
          "execution_count": 894
        }
      ],
      "source": [
        "model4.fit(x_train, y_train)"
      ]
    },
    {
      "cell_type": "code",
      "execution_count": 895,
      "metadata": {
        "id": "RXmN99FjKVrZ"
      },
      "outputs": [],
      "source": [
        "y_pred4 = model4.predict(x_val)"
      ]
    },
    {
      "cell_type": "code",
      "source": [
        "print('MAE: ', mean_absolute_error(y_val, y_pred4))\n",
        "print('R2: ', r2_score(y_val, y_pred4))"
      ],
      "metadata": {
        "colab": {
          "base_uri": "https://localhost:8080/"
        },
        "id": "OnbrdBlrjO0N",
        "outputId": "647d7c64-e0f6-40c4-babf-3080a4967578"
      },
      "execution_count": 896,
      "outputs": [
        {
          "output_type": "stream",
          "name": "stdout",
          "text": [
            "MAE:  2.1228173489634123\n",
            "R2:  0.1502090651318556\n"
          ]
        }
      ]
    },
    {
      "cell_type": "markdown",
      "metadata": {
        "id": "FNAN5h5ZjxET"
      },
      "source": [
        "#### (5) Random Forest 모델링"
      ]
    },
    {
      "cell_type": "code",
      "execution_count": 897,
      "metadata": {
        "id": "EnDLOQh3KW7X"
      },
      "outputs": [],
      "source": [
        "model5 = RandomForestRegressor(random_state=2022)"
      ]
    },
    {
      "cell_type": "code",
      "execution_count": 898,
      "metadata": {
        "id": "wqIKNc1pKWsP",
        "colab": {
          "base_uri": "https://localhost:8080/"
        },
        "outputId": "312886d9-f7a5-4b5c-8f41-2c639b67ec98"
      },
      "outputs": [
        {
          "output_type": "execute_result",
          "data": {
            "text/plain": [
              "RandomForestRegressor(random_state=2022)"
            ]
          },
          "metadata": {},
          "execution_count": 898
        }
      ],
      "source": [
        "model5.fit(x_train, y_train)"
      ]
    },
    {
      "cell_type": "code",
      "execution_count": 899,
      "metadata": {
        "id": "lB6gCjZjkKB9"
      },
      "outputs": [],
      "source": [
        "y_pred5 = model5.predict(x_val)"
      ]
    },
    {
      "cell_type": "code",
      "source": [
        "print('MAE: ', mean_absolute_error(y_val, y_pred5))\n",
        "print('R2: ', r2_score(y_val, y_pred5))"
      ],
      "metadata": {
        "colab": {
          "base_uri": "https://localhost:8080/"
        },
        "id": "TBzToG8SjlYF",
        "outputId": "06bbd899-0ae0-455a-df13-0d75dde6286a"
      },
      "execution_count": 900,
      "outputs": [
        {
          "output_type": "stream",
          "name": "stdout",
          "text": [
            "MAE:  1.530432222222222\n",
            "R2:  0.578112723890323\n"
          ]
        }
      ]
    },
    {
      "cell_type": "markdown",
      "metadata": {
        "id": "EuRaZc7OkRJN"
      },
      "source": [
        "#### (6) XGB 모델링"
      ]
    },
    {
      "cell_type": "code",
      "source": [
        "x_gb = x\n",
        "x_gb['ShelveLoc'] = x_gb['ShelveLoc'].astype(int)\n",
        "x_gb['Urban'] = x_gb['Urban'].astype(int)\n",
        "x_gb['US'] = x_gb['US'].astype(int)"
      ],
      "metadata": {
        "id": "xIFfm7RRkIhb"
      },
      "execution_count": 901,
      "outputs": []
    },
    {
      "cell_type": "code",
      "source": [
        "# 기존의 y_train, y_val과 겹치지 않기 위해 사용하지는 않으나 새로 정의\n",
        "x_traingb, x_valgb, y_traingb, y_valgb = train_test_split(x_gb, y, test_size=0.3, random_state=2022)"
      ],
      "metadata": {
        "id": "xVzxHKKnlCaW"
      },
      "execution_count": 902,
      "outputs": []
    },
    {
      "cell_type": "code",
      "execution_count": 903,
      "metadata": {
        "id": "g6HxAbuqnnsO"
      },
      "outputs": [],
      "source": [
        "model6 = XGBRegressor(objective='reg:squarederror', eval_metric='mlogloss')"
      ]
    },
    {
      "cell_type": "code",
      "execution_count": 904,
      "metadata": {
        "id": "eqVqwahhAfET",
        "colab": {
          "base_uri": "https://localhost:8080/"
        },
        "outputId": "98ba9fd2-5827-46fc-f52a-1da555a436d8"
      },
      "outputs": [
        {
          "output_type": "execute_result",
          "data": {
            "text/plain": [
              "XGBRegressor(eval_metric='mlogloss', objective='reg:squarederror')"
            ]
          },
          "metadata": {},
          "execution_count": 904
        }
      ],
      "source": [
        "model6.fit(x_traingb, y_train)"
      ]
    },
    {
      "cell_type": "code",
      "execution_count": 905,
      "metadata": {
        "id": "yh-2Fmud9RMa"
      },
      "outputs": [],
      "source": [
        "y_pred6 = model6.predict(x_valgb)"
      ]
    },
    {
      "cell_type": "code",
      "source": [
        "print('MAE: ', mean_absolute_error(y_val, y_pred6))\n",
        "print('R2: ', r2_score(y_val, y_pred6))"
      ],
      "metadata": {
        "colab": {
          "base_uri": "https://localhost:8080/"
        },
        "id": "29LwZTOUlPUh",
        "outputId": "7758428e-24bb-478a-92a9-8c44fbe9ad50"
      },
      "execution_count": 906,
      "outputs": [
        {
          "output_type": "stream",
          "name": "stdout",
          "text": [
            "MAE:  1.3241909724341498\n",
            "R2:  0.6666167082185792\n"
          ]
        }
      ]
    },
    {
      "cell_type": "markdown",
      "metadata": {
        "id": "IRsH_UjrXNiW"
      },
      "source": [
        "## 4.모델링2 : 딥러닝"
      ]
    },
    {
      "cell_type": "markdown",
      "metadata": {
        "id": "b9kRyQ6K6CIW"
      },
      "source": [
        "### 4.1 모델링을 위한 함수 불러오기"
      ]
    },
    {
      "cell_type": "code",
      "execution_count": 907,
      "metadata": {
        "id": "_BDNB7hM9_hz"
      },
      "outputs": [],
      "source": [
        "import tensorflow as tf\n",
        "from tensorflow import keras"
      ]
    },
    {
      "cell_type": "markdown",
      "metadata": {
        "id": "QEe9g-0DXNia"
      },
      "source": [
        "### 4.2 모델 설계\n",
        "* 다양한 구조의 모델 3개 이상을 설계하시오. (히든레이어, 노드 수 조절)"
      ]
    },
    {
      "cell_type": "code",
      "source": [
        "x_trainsc.shape, y_train.shape"
      ],
      "metadata": {
        "colab": {
          "base_uri": "https://localhost:8080/"
        },
        "id": "IPqQF5dMpTu9",
        "outputId": "b6879358-b6ef-4797-9704-a6e9ee5276e5"
      },
      "execution_count": 908,
      "outputs": [
        {
          "output_type": "execute_result",
          "data": {
            "text/plain": [
              "((210, 11), (210,))"
            ]
          },
          "metadata": {},
          "execution_count": 908
        }
      ]
    },
    {
      "cell_type": "markdown",
      "metadata": {
        "id": "yAaMF07mHz_q"
      },
      "source": [
        "* 모델1 "
      ]
    },
    {
      "cell_type": "code",
      "execution_count": 909,
      "metadata": {
        "id": "i-boLYXkXdpj",
        "colab": {
          "base_uri": "https://localhost:8080/",
          "height": 392
        },
        "outputId": "761e8be5-8e6d-4b28-b9c8-243378d0abf7"
      },
      "outputs": [
        {
          "output_type": "stream",
          "name": "stdout",
          "text": [
            "Model: \"sequential\"\n",
            "_________________________________________________________________\n",
            " Layer (type)                Output Shape              Param #   \n",
            "=================================================================\n",
            " dense (Dense)               (None, 1)                 12        \n",
            "                                                                 \n",
            "=================================================================\n",
            "Total params: 12\n",
            "Trainable params: 12\n",
            "Non-trainable params: 0\n",
            "_________________________________________________________________\n"
          ]
        },
        {
          "output_type": "execute_result",
          "data": {
            "text/plain": [
              "<IPython.core.display.Image object>"
            ],
            "image/png": "[encoded data removed]"
          },
          "metadata": {},
          "execution_count": 909
        }
      ],
      "source": [
        "keras.backend.clear_session()\n",
        "\n",
        "model7 = keras.models.Sequential()\n",
        "\n",
        "model7.add(keras.layers.Input(shape=(11,)))\n",
        "model7.add(keras.layers.Dense(1))\n",
        "\n",
        "model7.compile(loss='mae', optimizer='nadam')\n",
        "\n",
        "model7.summary()\n",
        "tf.keras.utils.plot_model(model7, show_shapes=True)"
      ]
    },
    {
      "cell_type": "markdown",
      "metadata": {
        "id": "gU1_UtFlH3sY"
      },
      "source": [
        "* 모델2"
      ]
    },
    {
      "cell_type": "code",
      "execution_count": 910,
      "metadata": {
        "id": "bjcO9q9mH3sY",
        "colab": {
          "base_uri": "https://localhost:8080/",
          "height": 572
        },
        "outputId": "e66e4736-120a-43b0-9a96-34851d5081c9"
      },
      "outputs": [
        {
          "output_type": "stream",
          "name": "stdout",
          "text": [
            "Model: \"model\"\n",
            "_________________________________________________________________\n",
            " Layer (type)                Output Shape              Param #   \n",
            "=================================================================\n",
            " input_1 (InputLayer)        [(None, 11)]              0         \n",
            "                                                                 \n",
            " dense (Dense)               (None, 11)                132       \n",
            "                                                                 \n",
            " dense_1 (Dense)             (None, 1)                 12        \n",
            "                                                                 \n",
            "=================================================================\n",
            "Total params: 144\n",
            "Trainable params: 144\n",
            "Non-trainable params: 0\n",
            "_________________________________________________________________\n"
          ]
        },
        {
          "output_type": "execute_result",
          "data": {
            "text/plain": [
              "<IPython.core.display.Image object>"
            ],
            "image/png": "[encoded data removed]"
          },
          "metadata": {},
          "execution_count": 910
        }
      ],
      "source": [
        "keras.backend.clear_session()\n",
        "\n",
        "a = keras.layers.Input(shape=(11,))\n",
        "h = keras.layers.Dense(11, activation='relu')(a)\n",
        "b = keras.layers.Dense(1, activation='relu')(h)\n",
        "\n",
        "model8 = keras.models.Model(a,b)\n",
        "\n",
        "model8.compile(loss='mae', optimizer='nadam')\n",
        "\n",
        "model8.summary()\n",
        "tf.keras.utils.plot_model(model8, show_shapes=True)"
      ]
    },
    {
      "cell_type": "markdown",
      "metadata": {
        "id": "iXOlv7oSKLlt"
      },
      "source": [
        "* 모델3"
      ]
    },
    {
      "cell_type": "code",
      "source": [
        "x_train.columns"
      ],
      "metadata": {
        "colab": {
          "base_uri": "https://localhost:8080/"
        },
        "id": "O31YmUAKuj5T",
        "outputId": "40b18414-77f9-40fc-c193-15753c02825d"
      },
      "execution_count": 911,
      "outputs": [
        {
          "output_type": "execute_result",
          "data": {
            "text/plain": [
              "Index(['CompPrice', 'Income', 'Advertising', 'Population', 'Price',\n",
              "       'ShelveLoc', 'Age', 'Education', 'Urban', 'US', 'PoPrice'],\n",
              "      dtype='object')"
            ]
          },
          "metadata": {},
          "execution_count": 911
        }
      ]
    },
    {
      "cell_type": "code",
      "source": [
        "x_trainsc = pd.DataFrame(x_trainsc, columns=['CompPrice', 'Income', 'Advertising', 'Population', 'Price',\n",
        "       'ShelveLoc', 'Age', 'Education', 'Urban', 'US', 'PoPrice'])\n",
        "type(x_trainsc)"
      ],
      "metadata": {
        "colab": {
          "base_uri": "https://localhost:8080/"
        },
        "id": "YixNqqcpuprC",
        "outputId": "fd3a47dc-b134-41b3-efe9-bb7b6a5c8486"
      },
      "execution_count": 912,
      "outputs": [
        {
          "output_type": "execute_result",
          "data": {
            "text/plain": [
              "pandas.core.frame.DataFrame"
            ]
          },
          "metadata": {},
          "execution_count": 912
        }
      ]
    },
    {
      "cell_type": "code",
      "source": [
        "x_trainsc.head()"
      ],
      "metadata": {
        "colab": {
          "base_uri": "https://localhost:8080/",
          "height": 206
        },
        "id": "Jkxvq7CPu0_m",
        "outputId": "2fb11d1a-158d-414b-da0a-4faac8361ac4"
      },
      "execution_count": 913,
      "outputs": [
        {
          "output_type": "execute_result",
          "data": {
            "text/plain": [
              "   CompPrice    Income  Advertising  Population     Price  ShelveLoc  \\\n",
              "0   0.617978  0.131313     0.551724    0.709350  0.415493        0.5   \n",
              "1   0.337079  0.585859     0.655172    0.705285  0.471831        1.0   \n",
              "2   0.303371  0.434343     0.344828    0.113821  0.366197        0.5   \n",
              "3   0.539326  0.868687     0.000000    0.186992  0.415493        0.5   \n",
              "4   0.325843  0.848485     0.000000    0.067073  0.415493        0.5   \n",
              "\n",
              "        Age  Education  Urban   US   PoPrice  \n",
              "0  0.800000      0.000    1.0  1.0  0.018681  \n",
              "1  0.600000      0.875    1.0  1.0  0.020879  \n",
              "2  0.581818      0.750    1.0  1.0  0.149451  \n",
              "3  0.636364      0.250    1.0  0.0  0.100000  \n",
              "4  0.836364      0.625    1.0  0.0  0.249451  "
            ],
            "text/html": [
              "\n",
              "  <div id=\"df-93c772dd-5b76-4871-9c89-537b0804e272\">\n",
              "    <div class=\"colab-df-container\">\n",
              "      <div>\n",
              "<style scoped>\n",
              "    .dataframe tbody tr th:only-of-type {\n",
              "        vertical-align: middle;\n",
              "    }\n",
              "\n",
              "    .dataframe tbody tr th {\n",
              "        vertical-align: top;\n",
              "    }\n",
              "\n",
              "    .dataframe thead th {\n",
              "        text-align: right;\n",
              "    }\n",
              "</style>\n",
              "<table border=\"1\" class=\"dataframe\">\n",
              "  <thead>\n",
              "    <tr style=\"text-align: right;\">\n",
              "      <th></th>\n",
              "      <th>CompPrice</th>\n",
              "      <th>Income</th>\n",
              "      <th>Advertising</th>\n",
              "      <th>Population</th>\n",
              "      <th>Price</th>\n",
              "      <th>ShelveLoc</th>\n",
              "      <th>Age</th>\n",
              "      <th>Education</th>\n",
              "      <th>Urban</th>\n",
              "      <th>US</th>\n",
              "      <th>PoPrice</th>\n",
              "    </tr>\n",
              "  </thead>\n",
              "  <tbody>\n",
              "    <tr>\n",
              "      <th>0</th>\n",
              "      <td>0.617978</td>\n",
              "      <td>0.131313</td>\n",
              "      <td>0.551724</td>\n",
              "      <td>0.709350</td>\n",
              "      <td>0.415493</td>\n",
              "      <td>0.5</td>\n",
              "      <td>0.800000</td>\n",
              "      <td>0.000</td>\n",
              "      <td>1.0</td>\n",
              "      <td>1.0</td>\n",
              "      <td>0.018681</td>\n",
              "    </tr>\n",
              "    <tr>\n",
              "      <th>1</th>\n",
              "      <td>0.337079</td>\n",
              "      <td>0.585859</td>\n",
              "      <td>0.655172</td>\n",
              "      <td>0.705285</td>\n",
              "      <td>0.471831</td>\n",
              "      <td>1.0</td>\n",
              "      <td>0.600000</td>\n",
              "      <td>0.875</td>\n",
              "      <td>1.0</td>\n",
              "      <td>1.0</td>\n",
              "      <td>0.020879</td>\n",
              "    </tr>\n",
              "    <tr>\n",
              "      <th>2</th>\n",
              "      <td>0.303371</td>\n",
              "      <td>0.434343</td>\n",
              "      <td>0.344828</td>\n",
              "      <td>0.113821</td>\n",
              "      <td>0.366197</td>\n",
              "      <td>0.5</td>\n",
              "      <td>0.581818</td>\n",
              "      <td>0.750</td>\n",
              "      <td>1.0</td>\n",
              "      <td>1.0</td>\n",
              "      <td>0.149451</td>\n",
              "    </tr>\n",
              "    <tr>\n",
              "      <th>3</th>\n",
              "      <td>0.539326</td>\n",
              "      <td>0.868687</td>\n",
              "      <td>0.000000</td>\n",
              "      <td>0.186992</td>\n",
              "      <td>0.415493</td>\n",
              "      <td>0.5</td>\n",
              "      <td>0.636364</td>\n",
              "      <td>0.250</td>\n",
              "      <td>1.0</td>\n",
              "      <td>0.0</td>\n",
              "      <td>0.100000</td>\n",
              "    </tr>\n",
              "    <tr>\n",
              "      <th>4</th>\n",
              "      <td>0.325843</td>\n",
              "      <td>0.848485</td>\n",
              "      <td>0.000000</td>\n",
              "      <td>0.067073</td>\n",
              "      <td>0.415493</td>\n",
              "      <td>0.5</td>\n",
              "      <td>0.836364</td>\n",
              "      <td>0.625</td>\n",
              "      <td>1.0</td>\n",
              "      <td>0.0</td>\n",
              "      <td>0.249451</td>\n",
              "    </tr>\n",
              "  </tbody>\n",
              "</table>\n",
              "</div>\n",
              "      <button class=\"colab-df-convert\" onclick=\"convertToInteractive('df-93c772dd-5b76-4871-9c89-537b0804e272')\"\n",
              "              title=\"Convert this dataframe to an interactive table.\"\n",
              "              style=\"display:none;\">\n",
              "        \n",
              "  <svg xmlns=\"http://www.w3.org/2000/svg\" height=\"24px\"viewBox=\"0 0 24 24\"\n",
              "       width=\"24px\">\n",
              "    <path d=\"M0 0h24v24H0V0z\" fill=\"none\"/>\n",
              "    <path d=\"M18.56 5.44l.94 2.06.94-2.06 2.06-.94-2.06-.94-.94-2.06-.94 2.06-2.06.94zm-11 1L8.5 8.5l.94-2.06 2.06-.94-2.06-.94L8.5 2.5l-.94 2.06-2.06.94zm10 10l.94 2.06.94-2.06 2.06-.94-2.06-.94-.94-2.06-.94 2.06-2.06.94z\"/><path d=\"M17.41 7.96l-1.37-1.37c-.4-.4-.92-.59-1.43-.59-.52 0-1.04.2-1.43.59L10.3 9.45l-7.72 7.72c-.78.78-.78 2.05 0 2.83L4 21.41c.39.39.9.59 1.41.59.51 0 1.02-.2 1.41-.59l7.78-7.78 2.81-2.81c.8-.78.8-2.07 0-2.86zM5.41 20L4 18.59l7.72-7.72 1.47 1.35L5.41 20z\"/>\n",
              "  </svg>\n",
              "      </button>\n",
              "      \n",
              "  <style>\n",
              "    .colab-df-container {\n",
              "      display:flex;\n",
              "      flex-wrap:wrap;\n",
              "      gap: 12px;\n",
              "    }\n",
              "\n",
              "    .colab-df-convert {\n",
              "      background-color: #E8F0FE;\n",
              "      border: none;\n",
              "      border-radius: 50%;\n",
              "      cursor: pointer;\n",
              "      display: none;\n",
              "      fill: #1967D2;\n",
              "      height: 32px;\n",
              "      padding: 0 0 0 0;\n",
              "      width: 32px;\n",
              "    }\n",
              "\n",
              "    .colab-df-convert:hover {\n",
              "      background-color: #E2EBFA;\n",
              "      box-shadow: 0px 1px 2px rgba(60, 64, 67, 0.3), 0px 1px 3px 1px rgba(60, 64, 67, 0.15);\n",
              "      fill: #174EA6;\n",
              "    }\n",
              "\n",
              "    [theme=dark] .colab-df-convert {\n",
              "      background-color: #3B4455;\n",
              "      fill: #D2E3FC;\n",
              "    }\n",
              "\n",
              "    [theme=dark] .colab-df-convert:hover {\n",
              "      background-color: #434B5C;\n",
              "      box-shadow: 0px 1px 3px 1px rgba(0, 0, 0, 0.15);\n",
              "      filter: drop-shadow(0px 1px 2px rgba(0, 0, 0, 0.3));\n",
              "      fill: #FFFFFF;\n",
              "    }\n",
              "  </style>\n",
              "\n",
              "      <script>\n",
              "        const buttonEl =\n",
              "          document.querySelector('#df-93c772dd-5b76-4871-9c89-537b0804e272 button.colab-df-convert');\n",
              "        buttonEl.style.display =\n",
              "          google.colab.kernel.accessAllowed ? 'block' : 'none';\n",
              "\n",
              "        async function convertToInteractive(key) {\n",
              "          const element = document.querySelector('#df-93c772dd-5b76-4871-9c89-537b0804e272');\n",
              "          const dataTable =\n",
              "            await google.colab.kernel.invokeFunction('convertToInteractive',\n",
              "                                                     [key], {});\n",
              "          if (!dataTable) return;\n",
              "\n",
              "          const docLinkHtml = 'Like what you see? Visit the ' +\n",
              "            '<a target=\"_blank\" href=https://colab.research.google.com/notebooks/data_table.ipynb>data table notebook</a>'\n",
              "            + ' to learn more about interactive tables.';\n",
              "          element.innerHTML = '';\n",
              "          dataTable['output_type'] = 'display_data';\n",
              "          await google.colab.output.renderOutput(dataTable, element);\n",
              "          const docLink = document.createElement('div');\n",
              "          docLink.innerHTML = docLinkHtml;\n",
              "          element.appendChild(docLink);\n",
              "        }\n",
              "      </script>\n",
              "    </div>\n",
              "  </div>\n",
              "  "
            ]
          },
          "metadata": {},
          "execution_count": 913
        }
      ]
    },
    {
      "cell_type": "code",
      "source": [
        "x_trainsc.shape"
      ],
      "metadata": {
        "colab": {
          "base_uri": "https://localhost:8080/"
        },
        "id": "2uN941lXv0fA",
        "outputId": "d369bef3-af61-455e-87bd-f57f63f33a11"
      },
      "execution_count": 914,
      "outputs": [
        {
          "output_type": "execute_result",
          "data": {
            "text/plain": [
              "(210, 11)"
            ]
          },
          "metadata": {},
          "execution_count": 914
        }
      ]
    },
    {
      "cell_type": "code",
      "source": [
        "# 가격/사람/회사 의 큰 카테고리 3개로 분할\n",
        "train_price = x_trainsc.loc[:, ['CompPrice', 'Income', 'Price', 'PoPrice']]\n",
        "train_pop = x_trainsc.loc[:, ['Population', 'Age', 'Education']]\n",
        "train_co = x_trainsc.loc[:, ['Advertising', 'ShelveLoc', 'Urban', 'US']]\n",
        "\n",
        "val_price = x_val.loc[:, ['CompPrice', 'Income', 'Price', 'PoPrice']]\n",
        "val_pop = x_val.loc[:, ['Population', 'Age', 'Education']]\n",
        "val_co = x_val.loc[:, ['Advertising', 'ShelveLoc', 'Urban', 'US']]"
      ],
      "metadata": {
        "id": "L1wFXAPCtplw"
      },
      "execution_count": 915,
      "outputs": []
    },
    {
      "cell_type": "code",
      "execution_count": 916,
      "metadata": {
        "id": "rlTLt04PKLlz",
        "colab": {
          "base_uri": "https://localhost:8080/",
          "height": 1000
        },
        "outputId": "f62b6d72-6b89-4272-fad1-29a121a48003"
      },
      "outputs": [
        {
          "output_type": "stream",
          "name": "stdout",
          "text": [
            "Model: \"model\"\n",
            "__________________________________________________________________________________________________\n",
            " Layer (type)                   Output Shape         Param #     Connected to                     \n",
            "==================================================================================================\n",
            " input_2 (InputLayer)           [(None, 4)]          0           []                               \n",
            "                                                                                                  \n",
            " input_3 (InputLayer)           [(None, 3)]          0           []                               \n",
            "                                                                                                  \n",
            " input_4 (InputLayer)           [(None, 4)]          0           []                               \n",
            "                                                                                                  \n",
            " dense (Dense)                  (None, 11)           55          ['input_2[0][0]']                \n",
            "                                                                                                  \n",
            " dense_1 (Dense)                (None, 11)           44          ['input_3[0][0]']                \n",
            "                                                                                                  \n",
            " dense_2 (Dense)                (None, 11)           55          ['input_4[0][0]']                \n",
            "                                                                                                  \n",
            " input_1 (InputLayer)           [(None, 11)]         0           []                               \n",
            "                                                                                                  \n",
            " add (Add)                      (None, 11)           0           ['dense[0][0]',                  \n",
            "                                                                  'dense_1[0][0]',                \n",
            "                                                                  'dense_2[0][0]']                \n",
            "                                                                                                  \n",
            " concatenate (Concatenate)      (None, 22)           0           ['input_1[0][0]',                \n",
            "                                                                  'add[0][0]']                    \n",
            "                                                                                                  \n",
            " dense_3 (Dense)                (None, 1)            23          ['concatenate[0][0]']            \n",
            "                                                                                                  \n",
            "==================================================================================================\n",
            "Total params: 177\n",
            "Trainable params: 177\n",
            "Non-trainable params: 0\n",
            "__________________________________________________________________________________________________\n"
          ]
        },
        {
          "output_type": "execute_result",
          "data": {
            "text/plain": [
              "<IPython.core.display.Image object>"
            ],
            "image/png": "[encoded data removed]"
          },
          "metadata": {},
          "execution_count": 916
        }
      ],
      "source": [
        "keras.backend.clear_session()\n",
        "\n",
        "fu = keras.layers.Input(shape=(11,))\n",
        "\n",
        "a1 = keras.layers.Input(shape=(4,))\n",
        "h_pr = keras.layers.Dense(11, activation='relu')(a1)\n",
        "a2 = keras.layers.Input(shape=(3,))\n",
        "h_pop = keras.layers.Dense(11, activation='relu')(a2)\n",
        "a3 = keras.layers.Input(shape=(4,))\n",
        "h_co = keras.layers.Dense(11, activation='relu')(a3)\n",
        "\n",
        "ad = keras.layers.Add()([h_pr, h_pop, h_co])\n",
        "cl = keras.layers.Concatenate()([fu, ad])\n",
        "b = keras.layers.Dense(1, activation='relu')(cl)\n",
        "\n",
        "input_list = [fu, a1, a2, a3]\n",
        "model9 = keras.models.Model(input_list,b)\n",
        "\n",
        "model9.compile(loss='mae', optimizer='nadam')\n",
        "\n",
        "model9.summary()\n",
        "tf.keras.utils.plot_model(model9, show_shapes=True)"
      ]
    },
    {
      "cell_type": "markdown",
      "metadata": {
        "id": "cDWdsBV_XgM3"
      },
      "source": [
        "### 4.3 학습 및 최적화\n",
        "* 다양한 학습조건으로 모델링 수행후 성능을 비교해 봅시다.\n"
      ]
    },
    {
      "cell_type": "code",
      "execution_count": 917,
      "metadata": {
        "id": "aa-dyU-WXgM3"
      },
      "outputs": [],
      "source": [
        "from tensorflow.keras.callbacks import EarlyStopping\n",
        "es = EarlyStopping(monitor='val_loss', min_delta=0, patience=3, verbose=1, restore_best_weights=True)"
      ]
    },
    {
      "cell_type": "code",
      "source": [
        "model7.fit(x_trainsc, y_train, validation_split=0.15, epochs=30, verbose=1, callbacks=[es])"
      ],
      "metadata": {
        "colab": {
          "base_uri": "https://localhost:8080/"
        },
        "id": "XC2bD3TOwiG8",
        "outputId": "04ca6ce6-93d4-43ba-bff1-8e6583900086"
      },
      "execution_count": 918,
      "outputs": [
        {
          "output_type": "stream",
          "name": "stdout",
          "text": [
            "Epoch 1/30\n",
            "6/6 [==============================] - 1s 39ms/step - loss: 6.7031 - val_loss: 6.6953\n",
            "Epoch 2/30\n",
            "6/6 [==============================] - 0s 8ms/step - loss: 6.6754 - val_loss: 6.6658\n",
            "Epoch 3/30\n",
            "6/6 [==============================] - 0s 8ms/step - loss: 6.6447 - val_loss: 6.6334\n",
            "Epoch 4/30\n",
            "6/6 [==============================] - 0s 9ms/step - loss: 6.6120 - val_loss: 6.5997\n",
            "Epoch 5/30\n",
            "6/6 [==============================] - 0s 8ms/step - loss: 6.5779 - val_loss: 6.5652\n",
            "Epoch 6/30\n",
            "6/6 [==============================] - 0s 10ms/step - loss: 6.5433 - val_loss: 6.5303\n",
            "Epoch 7/30\n",
            "6/6 [==============================] - 0s 8ms/step - loss: 6.5084 - val_loss: 6.4951\n",
            "Epoch 8/30\n",
            "6/6 [==============================] - 0s 9ms/step - loss: 6.4735 - val_loss: 6.4599\n",
            "Epoch 9/30\n",
            "6/6 [==============================] - 0s 8ms/step - loss: 6.4382 - val_loss: 6.4245\n",
            "Epoch 10/30\n",
            "6/6 [==============================] - 0s 8ms/step - loss: 6.4029 - val_loss: 6.3892\n",
            "Epoch 11/30\n",
            "6/6 [==============================] - 0s 9ms/step - loss: 6.3678 - val_loss: 6.3538\n",
            "Epoch 12/30\n",
            "6/6 [==============================] - 0s 9ms/step - loss: 6.3325 - val_loss: 6.3183\n",
            "Epoch 13/30\n",
            "6/6 [==============================] - 0s 8ms/step - loss: 6.2971 - val_loss: 6.2831\n",
            "Epoch 14/30\n",
            "6/6 [==============================] - 0s 8ms/step - loss: 6.2621 - val_loss: 6.2480\n",
            "Epoch 15/30\n",
            "6/6 [==============================] - 0s 8ms/step - loss: 6.2268 - val_loss: 6.2127\n",
            "Epoch 16/30\n",
            "6/6 [==============================] - 0s 10ms/step - loss: 6.1916 - val_loss: 6.1774\n",
            "Epoch 17/30\n",
            "6/6 [==============================] - 0s 10ms/step - loss: 6.1565 - val_loss: 6.1420\n",
            "Epoch 18/30\n",
            "6/6 [==============================] - 0s 8ms/step - loss: 6.1211 - val_loss: 6.1066\n",
            "Epoch 19/30\n",
            "6/6 [==============================] - 0s 8ms/step - loss: 6.0860 - val_loss: 6.0712\n",
            "Epoch 20/30\n",
            "6/6 [==============================] - 0s 9ms/step - loss: 6.0505 - val_loss: 6.0358\n",
            "Epoch 21/30\n",
            "6/6 [==============================] - 0s 8ms/step - loss: 6.0155 - val_loss: 6.0004\n",
            "Epoch 22/30\n",
            "6/6 [==============================] - 0s 8ms/step - loss: 5.9800 - val_loss: 5.9652\n",
            "Epoch 23/30\n",
            "6/6 [==============================] - 0s 8ms/step - loss: 5.9447 - val_loss: 5.9298\n",
            "Epoch 24/30\n",
            "6/6 [==============================] - 0s 8ms/step - loss: 5.9096 - val_loss: 5.8945\n",
            "Epoch 25/30\n",
            "6/6 [==============================] - 0s 8ms/step - loss: 5.8745 - val_loss: 5.8590\n",
            "Epoch 26/30\n",
            "6/6 [==============================] - 0s 7ms/step - loss: 5.8391 - val_loss: 5.8237\n",
            "Epoch 27/30\n",
            "6/6 [==============================] - 0s 8ms/step - loss: 5.8042 - val_loss: 5.7886\n",
            "Epoch 28/30\n",
            "6/6 [==============================] - 0s 7ms/step - loss: 5.7699 - val_loss: 5.7534\n",
            "Epoch 29/30\n",
            "6/6 [==============================] - 0s 8ms/step - loss: 5.7351 - val_loss: 5.7182\n",
            "Epoch 30/30\n",
            "6/6 [==============================] - 0s 8ms/step - loss: 5.7003 - val_loss: 5.6832\n"
          ]
        },
        {
          "output_type": "execute_result",
          "data": {
            "text/plain": [
              "<keras.callbacks.History at 0x7f8c41d95f90>"
            ]
          },
          "metadata": {},
          "execution_count": 918
        }
      ]
    },
    {
      "cell_type": "code",
      "execution_count": 919,
      "metadata": {
        "id": "AM6SUa42XqIV",
        "colab": {
          "base_uri": "https://localhost:8080/"
        },
        "outputId": "3d641e86-8368-4ec7-98f9-eb453f33bfbc"
      },
      "outputs": [
        {
          "output_type": "stream",
          "name": "stdout",
          "text": [
            "Epoch 1/30\n",
            "6/6 [==============================] - 1s 33ms/step - loss: 7.6139 - val_loss: 7.7759\n",
            "Epoch 2/30\n",
            "6/6 [==============================] - 0s 8ms/step - loss: 7.6108 - val_loss: 7.7731\n",
            "Epoch 3/30\n",
            "6/6 [==============================] - 0s 8ms/step - loss: 7.6051 - val_loss: 7.7652\n",
            "Epoch 4/30\n",
            "6/6 [==============================] - 0s 8ms/step - loss: 7.5953 - val_loss: 7.7455\n",
            "Epoch 5/30\n",
            "6/6 [==============================] - 0s 8ms/step - loss: 7.5707 - val_loss: 7.7050\n",
            "Epoch 6/30\n",
            "6/6 [==============================] - 0s 9ms/step - loss: 7.5182 - val_loss: 7.6381\n",
            "Epoch 7/30\n",
            "6/6 [==============================] - 0s 10ms/step - loss: 7.4406 - val_loss: 7.5460\n",
            "Epoch 8/30\n",
            "6/6 [==============================] - 0s 9ms/step - loss: 7.3465 - val_loss: 7.4428\n",
            "Epoch 9/30\n",
            "6/6 [==============================] - 0s 10ms/step - loss: 7.2465 - val_loss: 7.3439\n",
            "Epoch 10/30\n",
            "6/6 [==============================] - 0s 9ms/step - loss: 7.1513 - val_loss: 7.2456\n",
            "Epoch 11/30\n",
            "6/6 [==============================] - 0s 8ms/step - loss: 7.0576 - val_loss: 7.1474\n",
            "Epoch 12/30\n",
            "6/6 [==============================] - 0s 8ms/step - loss: 6.9626 - val_loss: 7.0454\n",
            "Epoch 13/30\n",
            "6/6 [==============================] - 0s 9ms/step - loss: 6.8620 - val_loss: 6.9342\n",
            "Epoch 14/30\n",
            "6/6 [==============================] - 0s 9ms/step - loss: 6.7523 - val_loss: 6.8071\n",
            "Epoch 15/30\n",
            "6/6 [==============================] - 0s 8ms/step - loss: 6.6265 - val_loss: 6.6682\n",
            "Epoch 16/30\n",
            "6/6 [==============================] - 0s 8ms/step - loss: 6.4884 - val_loss: 6.5212\n",
            "Epoch 17/30\n",
            "6/6 [==============================] - 0s 8ms/step - loss: 6.3424 - val_loss: 6.3686\n",
            "Epoch 18/30\n",
            "6/6 [==============================] - 0s 10ms/step - loss: 6.1923 - val_loss: 6.2118\n",
            "Epoch 19/30\n",
            "6/6 [==============================] - 0s 8ms/step - loss: 6.0388 - val_loss: 6.0533\n",
            "Epoch 20/30\n",
            "6/6 [==============================] - 0s 8ms/step - loss: 5.8857 - val_loss: 5.8906\n",
            "Epoch 21/30\n",
            "6/6 [==============================] - 0s 8ms/step - loss: 5.7280 - val_loss: 5.7230\n",
            "Epoch 22/30\n",
            "6/6 [==============================] - 0s 9ms/step - loss: 5.5653 - val_loss: 5.5508\n",
            "Epoch 23/30\n",
            "6/6 [==============================] - 0s 8ms/step - loss: 5.3980 - val_loss: 5.3749\n",
            "Epoch 24/30\n",
            "6/6 [==============================] - 0s 9ms/step - loss: 5.2292 - val_loss: 5.1936\n",
            "Epoch 25/30\n",
            "6/6 [==============================] - 0s 10ms/step - loss: 5.0554 - val_loss: 5.0089\n",
            "Epoch 26/30\n",
            "6/6 [==============================] - 0s 9ms/step - loss: 4.8811 - val_loss: 4.8199\n",
            "Epoch 27/30\n",
            "6/6 [==============================] - 0s 9ms/step - loss: 4.7034 - val_loss: 4.6252\n",
            "Epoch 28/30\n",
            "6/6 [==============================] - 0s 8ms/step - loss: 4.5255 - val_loss: 4.4299\n",
            "Epoch 29/30\n",
            "6/6 [==============================] - 0s 8ms/step - loss: 4.3507 - val_loss: 4.2337\n",
            "Epoch 30/30\n",
            "6/6 [==============================] - 0s 9ms/step - loss: 4.1895 - val_loss: 4.0371\n"
          ]
        },
        {
          "output_type": "execute_result",
          "data": {
            "text/plain": [
              "<keras.callbacks.History at 0x7f8d3fa1e550>"
            ]
          },
          "metadata": {},
          "execution_count": 919
        }
      ],
      "source": [
        "model8.fit(x_trainsc, y_train, validation_split=0.15, epochs=30, verbose=1, callbacks=[es])"
      ]
    },
    {
      "cell_type": "code",
      "execution_count": 920,
      "metadata": {
        "id": "cLJB_a8iXqFW"
      },
      "outputs": [],
      "source": [
        "train_list = [x_trainsc, train_price, train_pop, train_co]\n",
        "val_list = [x_val, val_price, val_pop, val_co]"
      ]
    },
    {
      "cell_type": "code",
      "source": [
        "model9.fit(train_list, y_train, validation_split=0.15, epochs=30, verbose=1, callbacks=[es])"
      ],
      "metadata": {
        "colab": {
          "base_uri": "https://localhost:8080/"
        },
        "id": "YBUkQ_7Aw_CK",
        "outputId": "314f6a27-0e0a-4f7b-cb0d-6a577519ff3c"
      },
      "execution_count": 921,
      "outputs": [
        {
          "output_type": "stream",
          "name": "stdout",
          "text": [
            "Epoch 1/30\n",
            "6/6 [==============================] - 1s 50ms/step - loss: 7.2697 - val_loss: 7.2550\n",
            "Epoch 2/30\n",
            "6/6 [==============================] - 0s 11ms/step - loss: 7.2058 - val_loss: 7.1698\n",
            "Epoch 3/30\n",
            "6/6 [==============================] - 0s 10ms/step - loss: 7.1313 - val_loss: 7.0739\n",
            "Epoch 4/30\n",
            "6/6 [==============================] - 0s 11ms/step - loss: 7.0488 - val_loss: 6.9677\n",
            "Epoch 5/30\n",
            "6/6 [==============================] - 0s 11ms/step - loss: 6.9575 - val_loss: 6.8540\n",
            "Epoch 6/30\n",
            "6/6 [==============================] - 0s 11ms/step - loss: 6.8531 - val_loss: 6.7343\n",
            "Epoch 7/30\n",
            "6/6 [==============================] - 0s 11ms/step - loss: 6.7368 - val_loss: 6.6102\n",
            "Epoch 8/30\n",
            "6/6 [==============================] - 0s 14ms/step - loss: 6.6107 - val_loss: 6.4826\n",
            "Epoch 9/30\n",
            "6/6 [==============================] - 0s 11ms/step - loss: 6.4802 - val_loss: 6.3511\n",
            "Epoch 10/30\n",
            "6/6 [==============================] - 0s 11ms/step - loss: 6.3492 - val_loss: 6.2174\n",
            "Epoch 11/30\n",
            "6/6 [==============================] - 0s 11ms/step - loss: 6.2144 - val_loss: 6.0807\n",
            "Epoch 12/30\n",
            "6/6 [==============================] - 0s 11ms/step - loss: 6.0778 - val_loss: 5.9420\n",
            "Epoch 13/30\n",
            "6/6 [==============================] - 0s 11ms/step - loss: 5.9393 - val_loss: 5.7996\n",
            "Epoch 14/30\n",
            "6/6 [==============================] - 0s 12ms/step - loss: 5.7972 - val_loss: 5.6535\n",
            "Epoch 15/30\n",
            "6/6 [==============================] - 0s 11ms/step - loss: 5.6520 - val_loss: 5.5029\n",
            "Epoch 16/30\n",
            "6/6 [==============================] - 0s 11ms/step - loss: 5.5046 - val_loss: 5.3505\n",
            "Epoch 17/30\n",
            "6/6 [==============================] - 0s 11ms/step - loss: 5.3539 - val_loss: 5.1941\n",
            "Epoch 18/30\n",
            "6/6 [==============================] - 0s 11ms/step - loss: 5.1995 - val_loss: 5.0335\n",
            "Epoch 19/30\n",
            "6/6 [==============================] - 0s 10ms/step - loss: 5.0410 - val_loss: 4.8690\n",
            "Epoch 20/30\n",
            "6/6 [==============================] - 0s 11ms/step - loss: 4.8795 - val_loss: 4.6987\n",
            "Epoch 21/30\n",
            "6/6 [==============================] - 0s 12ms/step - loss: 4.7171 - val_loss: 4.5269\n",
            "Epoch 22/30\n",
            "6/6 [==============================] - 0s 12ms/step - loss: 4.5535 - val_loss: 4.3499\n",
            "Epoch 23/30\n",
            "6/6 [==============================] - 0s 11ms/step - loss: 4.3918 - val_loss: 4.1712\n",
            "Epoch 24/30\n",
            "6/6 [==============================] - 0s 11ms/step - loss: 4.2303 - val_loss: 3.9884\n",
            "Epoch 25/30\n",
            "6/6 [==============================] - 0s 10ms/step - loss: 4.0676 - val_loss: 3.8031\n",
            "Epoch 26/30\n",
            "6/6 [==============================] - 0s 10ms/step - loss: 3.9036 - val_loss: 3.6259\n",
            "Epoch 27/30\n",
            "6/6 [==============================] - 0s 11ms/step - loss: 3.7423 - val_loss: 3.4599\n",
            "Epoch 28/30\n",
            "6/6 [==============================] - 0s 11ms/step - loss: 3.5852 - val_loss: 3.2905\n",
            "Epoch 29/30\n",
            "6/6 [==============================] - 0s 10ms/step - loss: 3.4301 - val_loss: 3.1234\n",
            "Epoch 30/30\n",
            "6/6 [==============================] - 0s 11ms/step - loss: 3.2826 - val_loss: 2.9581\n"
          ]
        },
        {
          "output_type": "execute_result",
          "data": {
            "text/plain": [
              "<keras.callbacks.History at 0x7f8d3f8b1b10>"
            ]
          },
          "metadata": {},
          "execution_count": 921
        }
      ]
    },
    {
      "cell_type": "markdown",
      "metadata": {
        "id": "_diIqEQYZTJU"
      },
      "source": [
        "## 5.성능 비교\n",
        "\n",
        "* 알고리즘별 선정된 모델이 최소 6개 입니다. 이에 대해 성능을 평가합니다.\n",
        "* 평가를 위한 적절한 지표(metric)을 결정하고 비교합니다.\n",
        "* 최종 모델을 선정하게 된 근거를 주석으로 기술하시오."
      ]
    },
    {
      "cell_type": "code",
      "execution_count": 921,
      "metadata": {
        "id": "WUcotER1IqRB"
      },
      "outputs": [],
      "source": [
        ""
      ]
    },
    {
      "cell_type": "code",
      "execution_count": 921,
      "metadata": {
        "id": "gFf7Evap-Anj"
      },
      "outputs": [],
      "source": [
        ""
      ]
    },
    {
      "cell_type": "markdown",
      "metadata": {
        "id": "2p4iNuRNRk5G"
      },
      "source": [
        "## 6.[팀과제]Test set으로 예측\n",
        "* 전처리 코드 실행\n",
        "* 예측\n",
        "* 성능 튜닝 : Kaggle에서의 평가는 MAE로 하게 됩니다. "
      ]
    },
    {
      "cell_type": "markdown",
      "metadata": {
        "id": "1-iK2nXTTQ9H"
      },
      "source": [
        "#### 6.1 전처리 코드실행\n",
        "\n",
        "* 주의!!! \n",
        "    * 전처리 코드는 2번에서의 순서를 반드시 지켜서 실행해야 합니다.\n",
        "    * 중간에 오류가 나면, 순서가 맞지 않기때문에 발생될 수 있습니다. \n"
      ]
    },
    {
      "cell_type": "code",
      "execution_count": 922,
      "metadata": {
        "id": "IvocTNGzRrSx"
      },
      "outputs": [],
      "source": [
        "# 가변수화 코드 실행\n"
      ]
    },
    {
      "cell_type": "code",
      "execution_count": 923,
      "metadata": {
        "id": "atjlcjPASEZS"
      },
      "outputs": [],
      "source": [
        "# NAN 채우기\n"
      ]
    },
    {
      "cell_type": "code",
      "execution_count": 924,
      "metadata": {
        "id": "8nqkMlQQR1IY"
      },
      "outputs": [],
      "source": [
        "# 경쟁사와 가격 차 변수 만들기\n"
      ]
    },
    {
      "cell_type": "code",
      "execution_count": 925,
      "metadata": {
        "id": "7Uoa6vVISBRP"
      },
      "outputs": [],
      "source": [
        "# 스케일링\n"
      ]
    },
    {
      "cell_type": "markdown",
      "metadata": {
        "id": "yeqoSr4RTUFM"
      },
      "source": [
        "#### 6.2 예측\n",
        "\n",
        "* 5에서 가장 좋은 성능의 모델로 예측을 시도합니다.\n",
        "* 결과를 csv 파일로 저장해서 업로드 합니다."
      ]
    },
    {
      "cell_type": "code",
      "execution_count": 925,
      "metadata": {
        "id": "kSojj4VNTCt3"
      },
      "outputs": [],
      "source": [
        ""
      ]
    },
    {
      "cell_type": "code",
      "execution_count": 925,
      "metadata": {
        "id": "rrJ2kELKTlGZ"
      },
      "outputs": [],
      "source": [
        ""
      ]
    },
    {
      "cell_type": "code",
      "execution_count": 925,
      "metadata": {
        "id": "ytzzf27xTupg"
      },
      "outputs": [],
      "source": [
        ""
      ]
    }
  ],
  "metadata": {
    "colab": {
      "collapsed_sections": [],
      "name": "과제1.  car seat 매출 예측.ipynb",
      "provenance": []
    },
    "kernelspec": {
      "display_name": "Python 3",
      "language": "python",
      "name": "python3"
    },
    "language_info": {
      "codemirror_mode": {
        "name": "ipython",
        "version": 3
      },
      "file_extension": ".py",
      "mimetype": "text/x-python",
      "name": "python",
      "nbconvert_exporter": "python",
      "pygments_lexer": "ipython3",
      "version": "3.8.8"
    },
    "accelerator": "GPU"
  },
  "nbformat": 4,
  "nbformat_minor": 0
}