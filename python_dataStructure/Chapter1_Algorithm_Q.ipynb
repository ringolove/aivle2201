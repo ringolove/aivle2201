{
  "cells": [
    {
      "cell_type": "markdown",
      "metadata": {
        "id": "69vVz7ZiuT0b"
      },
      "source": [
        "# Chapter 1. \n",
        "# 알고리즘 기초\n",
        "# Unit 1. 알고리즘과 플로우 차트"
      ]
    },
    {
      "cell_type": "markdown",
      "metadata": {
        "id": "HhyqpXP8uT0h"
      },
      "source": [
        "## 문자열과 숫자 입력받기"
      ]
    },
    {
      "cell_type": "code",
      "execution_count": null,
      "metadata": {
        "colab": {
          "base_uri": "https://localhost:8080/"
        },
        "id": "7uTnjwfVuT0i",
        "outputId": "a819b5c7-37fb-4f63-ab8f-19158ef0e5aa"
      },
      "outputs": [
        {
          "name": "stdout",
          "output_type": "stream",
          "text": [
            "이름을 입력하세요.: 주주\n",
            "안녕하세요? 주주님.\n",
            "<class 'str'>\n"
          ]
        }
      ],
      "source": [
        "name = input('이름을 입력하세요.: ')\n",
        "print(f'안녕하세요? {name}님.')\n",
        "print(type(name))"
      ]
    },
    {
      "cell_type": "code",
      "execution_count": null,
      "metadata": {
        "colab": {
          "base_uri": "https://localhost:8080/"
        },
        "id": "aXsOyX-BuT0m",
        "outputId": "4b91c842-0615-4a6e-fc9f-745ee36dc5e9"
      },
      "outputs": [
        {
          "name": "stdout",
          "output_type": "stream",
          "text": [
            "정사각형의 한 변의 길이를 입력하세요.: 5\n",
            "정사각형의 넓이는 25입니다.\n"
          ]
        }
      ],
      "source": [
        "length = input('정사각형의 한 변의 길이를 입력하세요.: ')\n",
        "print(f'정사각형의 넓이는 {int(length)**2}입니다.')"
      ]
    },
    {
      "cell_type": "markdown",
      "metadata": {
        "id": "wt8X9ltYuT0n"
      },
      "source": [
        "## 세 정수를 입력받아 최댓값 구하기"
      ]
    },
    {
      "cell_type": "code",
      "execution_count": null,
      "metadata": {
        "colab": {
          "base_uri": "https://localhost:8080/"
        },
        "id": "AVLs9kHMuT0p",
        "outputId": "9c35918b-37ae-4ecd-f009-277a598dce15"
      },
      "outputs": [
        {
          "name": "stdout",
          "output_type": "stream",
          "text": [
            "세 정수의 최댓값을 구합니다.\n",
            "정수 a의 값을 입력하세요.: 3\n",
            "정수 b의 값을 입력하세요.: 5\n",
            "정수 c의 값을 입력하세요.: 9\n",
            "최대값은 9입니다.\n"
          ]
        }
      ],
      "source": [
        "print('세 정수의 최댓값을 구합니다.')\n",
        "a = int(input('정수 a의 값을 입력하세요.: '))\n",
        "b = int(input('정수 b의 값을 입력하세요.: '))\n",
        "c = int(input('정수 c의 값을 입력하세요.: '))\n",
        "\n",
        "maximum = a\n",
        "if b > maximum:\n",
        "    maximum = b\n",
        "if c > maximum:\n",
        "    maximum = c\n",
        "    \n",
        "print(f'최대값은 {maximum}입니다.')"
      ]
    },
    {
      "cell_type": "markdown",
      "metadata": {
        "id": "FtvwFAc0uT0r"
      },
      "source": [
        "## 세 정수의 최댓값 구하기 알고리즘 확인"
      ]
    },
    {
      "cell_type": "code",
      "execution_count": null,
      "metadata": {
        "id": "WlGmzpJKuT0s",
        "outputId": "9be8eedc-796e-4a19-86ba-f43a954d6cd6"
      },
      "outputs": [
        {
          "name": "stdout",
          "output_type": "stream",
          "text": [
            "max3(3, 2, 1) = 3\n",
            "max3(3, 2, 2) = 3\n",
            "max3(3, 1, 2) = 3\n",
            "max3(3, 2, 3) = 3\n",
            "max3(2, 1, 3) = 3\n",
            "max3(3, 3, 2) = 3\n",
            "max3(3, 3, 3) = 3\n",
            "max3(2, 2, 3) = 3\n",
            "max3(2, 3, 1) = 3\n",
            "max3(2, 3, 2) = 3\n",
            "max3(1, 3, 2) = 3\n",
            "max3(2, 3, 3) = 3\n",
            "max3(1, 2, 3) = 3\n"
          ]
        }
      ],
      "source": [
        "def max3(a, b, c):\n",
        "    maximum = a\n",
        "    if b > maximum:\n",
        "        maximum = b\n",
        "    if c > maximum:\n",
        "        maximum = c\n",
        "        \n",
        "    return maximum # 최댓값 반환\n",
        "\n",
        "print(f'max3(3, 2, 1) = {max3(3, 2, 1)}')\n",
        "print(f'max3(3, 2, 2) = {max3(3, 2, 2)}')\n",
        "print(f'max3(3, 1, 2) = {max3(3, 1, 2)}')\n",
        "print(f'max3(3, 2, 3) = {max3(3, 2, 3)}')\n",
        "print(f'max3(2, 1, 3) = {max3(2, 1, 3)}')\n",
        "print(f'max3(3, 3, 2) = {max3(3, 3, 2)}')\n",
        "print(f'max3(3, 3, 3) = {max3(3, 3, 3)}')\n",
        "print(f'max3(2, 2, 3) = {max3(2, 2, 3)}')\n",
        "print(f'max3(2, 3, 1) = {max3(2, 3, 1)}')\n",
        "print(f'max3(2, 3, 2) = {max3(2, 3, 2)}')\n",
        "print(f'max3(1, 3, 2) = {max3(1, 3, 2)}')\n",
        "print(f'max3(2, 3, 3) = {max3(2, 3, 3)}')\n",
        "print(f'max3(1, 2, 3) = {max3(1, 2, 3)}')"
      ]
    },
    {
      "cell_type": "markdown",
      "metadata": {
        "id": "09-Q2YwKuT0t"
      },
      "source": [
        "## 미니 실습 1)\n",
        "## 네 정수의 최댓값 구하기"
      ]
    },
    {
      "cell_type": "code",
      "execution_count": null,
      "metadata": {
        "id": "DwPqXSxJuT0u",
        "colab": {
          "base_uri": "https://localhost:8080/"
        },
        "outputId": "d4f703f7-8496-4bcf-fa5d-49c74ea4053e"
      },
      "outputs": [
        {
          "output_type": "stream",
          "name": "stdout",
          "text": [
            "max4(3,2,1,4) = 4\n"
          ]
        }
      ],
      "source": [
        "def max4(a,b,c,d):\n",
        "  max = a\n",
        "  if b>max:\n",
        "    max = b\n",
        "  if c>max:\n",
        "    max = c\n",
        "  if d>max:\n",
        "    max = d\n",
        "\n",
        "  return max\n",
        "\n",
        "print(f'max4(3,2,1,4) = {max4(3,2,1,4)}')"
      ]
    },
    {
      "cell_type": "markdown",
      "metadata": {
        "id": "SqlleSs8uT0v"
      },
      "source": [
        "## 조건문과 분기"
      ]
    },
    {
      "cell_type": "markdown",
      "metadata": {
        "id": "H8_zuyz6uT0v"
      },
      "source": [
        "### 입력받은 정수의 부호(양수, 음수, 0) 출력하기"
      ]
    },
    {
      "cell_type": "code",
      "execution_count": null,
      "metadata": {
        "id": "Ar3dlYIauT0w",
        "outputId": "5bfd4a1a-e748-45c3-9edd-9b4e071c218f"
      },
      "outputs": [
        {
          "name": "stdout",
          "output_type": "stream",
          "text": [
            "정수를 입력하세요.: 0\n",
            "이 수는 0입니다.\n"
          ]
        }
      ],
      "source": [
        "n = int(input('정수를 입력하세요.: '))\n",
        "\n",
        "if n > 0:\n",
        "    print('이 수는 양수입니다.')\n",
        "elif n < 0:\n",
        "    print('이 수는 음수입니다.')\n",
        "else:\n",
        "    print('이 수는 0입니다.')"
      ]
    },
    {
      "cell_type": "markdown",
      "metadata": {
        "id": "T7RcAJHeuT0w"
      },
      "source": [
        "## 세 정수의 중앙값 구하기"
      ]
    },
    {
      "cell_type": "code",
      "execution_count": null,
      "metadata": {
        "id": "IerMa5m6uT0x",
        "outputId": "0b98f136-c470-4b3f-a76e-77c4816d4e31"
      },
      "outputs": [
        {
          "name": "stdout",
          "output_type": "stream",
          "text": [
            "세 정수의 중앙값을 구합니다.\n",
            "정수 a의 값을 입력하세요.: 1\n",
            "정수 b의 값을 입력하세요.: 3\n",
            "정수 c의 값을 입력하세요.: 2\n",
            "중앙값은 2입니다.\n"
          ]
        }
      ],
      "source": [
        "def med3(a, b, c):\n",
        "    \n",
        "    if a >= b:\n",
        "        if b >= c:\n",
        "            return b\n",
        "        elif a <= c:\n",
        "            return a\n",
        "        else:\n",
        "            return c\n",
        "    elif a > c:\n",
        "        return a\n",
        "    elif b > c:\n",
        "        return c\n",
        "    else:\n",
        "        return b\n",
        "    \n",
        "print('세 정수의 중앙값을 구합니다.')\n",
        "a = int(input('정수 a의 값을 입력하세요.: '))\n",
        "b = int(input('정수 b의 값을 입력하세요.: '))\n",
        "c = int(input('정수 c의 값을 입력하세요.: '))\n",
        "\n",
        "print(f'중앙값은 {med3(a, b, c)}입니다.')"
      ]
    },
    {
      "cell_type": "markdown",
      "metadata": {
        "id": "xK1VwqxuuT0x"
      },
      "source": [
        "## 미니 실습 2)"
      ]
    },
    {
      "cell_type": "markdown",
      "metadata": {
        "id": "8Y4H341suT0x"
      },
      "source": [
        "## 수도 요금 계산"
      ]
    },
    {
      "cell_type": "code",
      "execution_count": null,
      "metadata": {
        "colab": {
          "base_uri": "https://localhost:8080/"
        },
        "id": "CFWjWBLJuT0y",
        "outputId": "b4da1c6d-b894-4a6d-9a0b-315bc029dd32"
      },
      "outputs": [
        {
          "output_type": "execute_result",
          "data": {
            "text/plain": [
              "7875"
            ]
          },
          "metadata": {},
          "execution_count": 11
        }
      ],
      "source": [
        "def waterpay(c:str, u:int):\n",
        "  usage = 0\n",
        "  if c == 'A':\n",
        "    usage = 100*u\n",
        "    return usage\n",
        "  elif c == 'B':\n",
        "    if u <= 50:\n",
        "      usage = 150*u\n",
        "      return usage\n",
        "    else:\n",
        "      usage = 50*150+ (u-50)*75\n",
        "      return usage\n",
        "\n",
        "waterpay('B', 55)"
      ]
    },
    {
      "cell_type": "markdown",
      "metadata": {
        "id": "wo4ypQHxuT0y"
      },
      "source": [
        "# Unit 2. 반복하는 알고리즘"
      ]
    },
    {
      "cell_type": "markdown",
      "metadata": {
        "id": "pKu69U_duT0y"
      },
      "source": [
        "### 1부터 n까지 정수의 합 구하기 (while)"
      ]
    },
    {
      "cell_type": "code",
      "execution_count": null,
      "metadata": {
        "id": "7_Gwx985uT0y",
        "outputId": "7b540852-baa6-4a32-e5c1-1cd7bdbf1508"
      },
      "outputs": [
        {
          "name": "stdout",
          "output_type": "stream",
          "text": [
            "1부터 n까지 정수의 합을 구합니다.\n",
            "n값을 입력하세요.: 5\n",
            "1부터 5까지 정수의 합은 15입니다.\n"
          ]
        }
      ],
      "source": [
        "print('1부터 n까지 정수의 합을 구합니다.')\n",
        "\n",
        "n = int(input('n값을 입력하세요.: '))\n",
        "\n",
        "sum = 0\n",
        "i = 1\n",
        "\n",
        "while i <= n: \n",
        "    sum += i\n",
        "    i += 1\n",
        "\n",
        "print(f'1부터 {n}까지 정수의 합은 {sum}입니다.')"
      ]
    },
    {
      "cell_type": "markdown",
      "metadata": {
        "id": "djDtNeyGuT0z"
      },
      "source": [
        "### 1부터 n까지 정수의 합 구하기 (for)"
      ]
    },
    {
      "cell_type": "code",
      "execution_count": null,
      "metadata": {
        "id": "KNH57wr-uT0z",
        "outputId": "faaf02d6-dbb3-4acb-8bee-c284f3a02307"
      },
      "outputs": [
        {
          "name": "stdout",
          "output_type": "stream",
          "text": [
            "1부터 n까지 정수의 합을 구합니다.\n",
            "n값을 입력하세요.: 5\n",
            "1부터 5까지 정수의 합은 15입니다.\n"
          ]
        }
      ],
      "source": [
        "print('1부터 n까지 정수의 합을 구합니다.')\n",
        "\n",
        "n = int(input('n값을 입력하세요.: '))\n",
        "\n",
        "sum = 0\n",
        "\n",
        "for i in range(1, n+1):\n",
        "    sum += i\n",
        "\n",
        "print(f'1부터 {n}까지 정수의 합은 {sum}입니다.')"
      ]
    },
    {
      "cell_type": "markdown",
      "metadata": {
        "id": "D7DWiV8ZuT00"
      },
      "source": [
        "### a부터 b까지 정수의 합 구하기 (for)"
      ]
    },
    {
      "cell_type": "code",
      "execution_count": null,
      "metadata": {
        "id": "06zofgtyuT00",
        "outputId": "07c7193b-8f22-4f54-f0d9-43313df10e33"
      },
      "outputs": [
        {
          "name": "stdout",
          "output_type": "stream",
          "text": [
            "a부터 b까지 정수의 합을 구합니다.\n",
            "정수 a를 입력하세요.: 8\n",
            "정수 b를 입력하세요.: 3\n",
            "3부터 8까지 정수의 합은 33입니다.\n"
          ]
        }
      ],
      "source": [
        "print('a부터 b까지 정수의 합을 구합니다.')\n",
        "\n",
        "a = int(input('정수 a를 입력하세요.: '))\n",
        "b = int(input('정수 b를 입력하세요.: '))\n",
        "\n",
        "if a > b:\n",
        "    a, b = b, a\n",
        "    \n",
        "sum = 0\n",
        "\n",
        "for i in range(a, b+1):\n",
        "    sum += i\n",
        "\n",
        "print(f'{a}부터 {b}까지 정수의 합은 {sum}입니다.')"
      ]
    },
    {
      "cell_type": "markdown",
      "metadata": {
        "id": "F0BpBDttuT00"
      },
      "source": [
        "### 반복과정에서 조건 판단하기 1"
      ]
    },
    {
      "cell_type": "code",
      "execution_count": null,
      "metadata": {
        "id": "MogFZKcUuT01",
        "outputId": "8172e48e-dec2-4c94-e108-e9eedb97b0a4"
      },
      "outputs": [
        {
          "name": "stdout",
          "output_type": "stream",
          "text": [
            "a부터 b까지 정수의 합을 구합니다.\n",
            "정수 a를 입력하세요.: 3\n",
            "정수 b를 입력하세요.: 4\n",
            "3 + 4 = 7\n"
          ]
        }
      ],
      "source": [
        "print('a부터 b까지 정수의 합을 구합니다.')\n",
        "\n",
        "a = int(input('정수 a를 입력하세요.: '))\n",
        "b = int(input('정수 b를 입력하세요.: '))\n",
        "\n",
        "if a > b:\n",
        "    a, b = b, a\n",
        "    \n",
        "sum = 0\n",
        "\n",
        "for i in range(a, b+1):\n",
        "    if i < b:\n",
        "        print(f'{i} + ', end='')\n",
        "    else:\n",
        "        print(f'{i} = ', end='')\n",
        "    sum +=i\n",
        "\n",
        "print(sum)"
      ]
    },
    {
      "cell_type": "markdown",
      "metadata": {
        "id": "5K4bRasiuT01"
      },
      "source": [
        "### 미니 실습 3)\n",
        "### 반복 과정에서 조건 판단하기 (업그레이드)"
      ]
    },
    {
      "cell_type": "code",
      "execution_count": null,
      "metadata": {
        "id": "4oiFs3y5uT01",
        "colab": {
          "base_uri": "https://localhost:8080/"
        },
        "outputId": "a5500f1b-d385-4aa3-bb90-c178fdef7d2c"
      },
      "outputs": [
        {
          "output_type": "stream",
          "name": "stdout",
          "text": [
            "a부터 b까지 정수의 합을 구합니다.\n",
            "정수 a를 입력하세요.: 3\n",
            "정수 b를 입력하세요.: 7\n",
            "3 + 4 + 5 + 6 + 7 = 25\n"
          ]
        }
      ],
      "source": [
        "print('a부터 b까지 정수의 합을 구합니다.')\n",
        "\n",
        "a = int(input('정수 a를 입력하세요.: '))\n",
        "b = int(input('정수 b를 입력하세요.: '))\n",
        "\n",
        "if a > b:\n",
        "    a, b = b, a\n",
        "    \n",
        "sum = 0\n",
        "\n",
        "for i in range(a, b):\n",
        "    print(f'{i} + ', end='') \n",
        "    sum +=i\n",
        "print(f'{b} = ', end='')\n",
        "print(sum+b)"
      ]
    },
    {
      "cell_type": "markdown",
      "metadata": {
        "id": "wM8deKrWuT01"
      },
      "source": [
        "### 반복과정에서 조건 판단하기 2"
      ]
    },
    {
      "cell_type": "code",
      "execution_count": null,
      "metadata": {
        "id": "OCgpT5T-uT02",
        "outputId": "d3b3ee01-7e5f-4b51-c71a-bfd7146fee3e",
        "colab": {
          "base_uri": "https://localhost:8080/"
        }
      },
      "outputs": [
        {
          "output_type": "stream",
          "name": "stdout",
          "text": [
            "*를 출력합니다.\n",
            "몇 개를 출력할까요?: 14\n",
            "몇 개마다 줄바꿈할까요?: 5\n",
            "*****\n",
            "*****\n",
            "****\n"
          ]
        }
      ],
      "source": [
        "# * 를 n 개 출력하되 w개마다 줄바꿈하기 1 \n",
        "\n",
        "print('*를 출력합니다.')\n",
        "n = int(input('몇 개를 출력할까요?: '))\n",
        "w = int(input('몇 개마다 줄바꿈할까요?: '))\n",
        "\n",
        "for i in range(n):\n",
        "    print('*', end='')\n",
        "    if i % w == w-1:\n",
        "        print()\n",
        "\n",
        "if n%w:\n",
        "    print()"
      ]
    },
    {
      "cell_type": "code",
      "execution_count": null,
      "metadata": {
        "id": "2a0HAY3YuT02",
        "outputId": "d25d9112-7d1f-4ad5-884b-0f31d6be1f4f"
      },
      "outputs": [
        {
          "name": "stdout",
          "output_type": "stream",
          "text": [
            "*를 출력합니다.\n",
            "몇 개를 출력할까요?: 14\n",
            "몇 개마다 줄바꿈할까요?: 5\n",
            "*****\n",
            "*****\n",
            "****\n"
          ]
        }
      ],
      "source": [
        "# * 를 n 개 출력하되 w개마다 줄바꿈하기 2 \n",
        "\n",
        "print('*를 출력합니다.')\n",
        "n = int(input('몇 개를 출력할까요?: '))\n",
        "w = int(input('몇 개마다 줄바꿈할까요?: '))\n",
        "\n",
        "for _ in range(n // w): # n//w번 반복\n",
        "    print('*' * w)      # *를 w번 출력\n",
        "   \n",
        "rest = n % w \n",
        "if rest:                # rest 값이 있으면\n",
        "    print('*' * rest)   # rest 값만큼 * 반복 출력"
      ]
    },
    {
      "cell_type": "markdown",
      "metadata": {
        "id": "FwzjPju3uT02"
      },
      "source": [
        "### 무한 루프와 break"
      ]
    },
    {
      "cell_type": "code",
      "execution_count": null,
      "metadata": {
        "id": "IeEg0hveuT02",
        "outputId": "069a1d09-0c0b-48d9-8532-13699a31cff5"
      },
      "outputs": [
        {
          "name": "stdout",
          "output_type": "stream",
          "text": [
            "1부터 n까지 정수의 합을 구합니다.\n",
            "n값을 입력하세요.: -6\n",
            "n값을 입력하세요.: 0\n",
            "n값을 입력하세요.: 10\n",
            "1부터 10까지 정수의 합은 55입니다.\n"
          ]
        }
      ],
      "source": [
        "# 1부터 n까지 정수의 합 구하기 (n값은 양수만 입력받음)\n",
        "\n",
        "print('1부터 n까지 정수의 합을 구합니다.')\n",
        "\n",
        "while True:\n",
        "    n = int(input('n값을 입력하세요.: '))\n",
        "    if n > 0:\n",
        "        break # n이 0보다 커질때 까지 반복\n",
        "        \n",
        "sum = 0\n",
        "i = 1\n",
        "\n",
        "for i in range(1, n+1):\n",
        "    sum += i\n",
        "    i += 1\n",
        "    \n",
        "print(f'1부터 {n}까지 정수의 합은 {sum}입니다.')"
      ]
    },
    {
      "cell_type": "markdown",
      "metadata": {
        "id": "TqPoLdhwuT03"
      },
      "source": [
        "### continue 와 break"
      ]
    },
    {
      "cell_type": "code",
      "execution_count": null,
      "metadata": {
        "id": "t5vw3ooPuT03",
        "outputId": "47dac114-a034-4c36-9125-049b55fa78de"
      },
      "outputs": [
        {
          "name": "stdout",
          "output_type": "stream",
          "text": [
            "정사각형의 넓이를 입력하세요.: 32\n",
            "1 x 32\n",
            "2 x 16\n",
            "4 x 8\n"
          ]
        }
      ],
      "source": [
        "# 가로, 세로 길이가 정수이고 넓이가 area인 직사각형에서 가능한 변의 길이 나열\n",
        "\n",
        "area = int(input('직사각형의 넓이를 입력하세요.: '))\n",
        "\n",
        "for i in range(1, area + 1):\n",
        "    if i * i > area: break       \n",
        "    if area % i: continue\n",
        "    print(f'{i} x {area // i}')"
      ]
    },
    {
      "cell_type": "markdown",
      "metadata": {
        "id": "PYfCYF_-uT03"
      },
      "source": [
        "### 미니 실습 4"
      ]
    },
    {
      "cell_type": "code",
      "execution_count": null,
      "metadata": {
        "id": "ewS8AjMhuT04",
        "colab": {
          "base_uri": "https://localhost:8080/"
        },
        "outputId": "1cad010f-d472-439c-af64-9e86e0eac6e0"
      },
      "outputs": [
        {
          "output_type": "stream",
          "name": "stdout",
          "text": [
            "직사각형의 넓이를 입력하세요.: 32\n",
            "1 x 32\n",
            "2 x 16\n",
            "4 x 8\n",
            "8 x 4\n",
            "16 x 2\n",
            "32 x 1\n"
          ]
        }
      ],
      "source": [
        "area = int(input('직사각형의 넓이를 입력하세요.: '))\n",
        "\n",
        "for i in range(1, area + 1):\n",
        "    # if i * i > area: break     \n",
        "    if area % i:continue\n",
        "    print(f'{i} x {area // i}')"
      ]
    },
    {
      "cell_type": "markdown",
      "metadata": {
        "id": "-tJp03A5uT04"
      },
      "source": [
        "### 구구단 출력"
      ]
    },
    {
      "cell_type": "code",
      "execution_count": null,
      "metadata": {
        "id": "b0RGo6IfuT04",
        "outputId": "154004a4-30ce-4f02-e339-aac82e3c9e62"
      },
      "outputs": [
        {
          "name": "stdout",
          "output_type": "stream",
          "text": [
            "---------------------------\n",
            "  1  2  3  4  5  6  7  8  9\n",
            "  2  4  6  8 10 12 14 16 18\n",
            "  3  6  9 12 15 18 21 24 27\n",
            "  4  8 12 16 20 24 28 32 36\n",
            "  5 10 15 20 25 30 35 40 45\n",
            "  6 12 18 24 30 36 42 48 54\n",
            "  7 14 21 28 35 42 49 56 63\n",
            "  8 16 24 32 40 48 56 64 72\n",
            "  9 18 27 36 45 54 63 72 81\n",
            "---------------------------\n"
          ]
        }
      ],
      "source": [
        "print('-' * 27)\n",
        "for i in range(1, 10):\n",
        "    for j in range(1, 10):\n",
        "        print(f'{i * j:3}', end='')\n",
        "    print()\n",
        "\n",
        "print('-' * 27)"
      ]
    },
    {
      "cell_type": "markdown",
      "metadata": {
        "id": "Nm6GdD1luT04"
      },
      "source": [
        "# 실습 1"
      ]
    },
    {
      "cell_type": "code",
      "execution_count": null,
      "metadata": {
        "id": "rjhRMlEAuT04",
        "colab": {
          "base_uri": "https://localhost:8080/"
        },
        "outputId": "d02cda17-c2ac-4ce7-e953-c84bd59fc2e4"
      },
      "outputs": [
        {
          "name": "stdout",
          "output_type": "stream",
          "text": [
            "전기 사용량 입력: 250\n"
          ]
        },
        {
          "output_type": "execute_result",
          "data": {
            "text/plain": [
              "29655.0"
            ]
          },
          "metadata": {},
          "execution_count": 24
        }
      ],
      "source": [
        "def elctricPay():\n",
        "  kwh = int(input(\"전기 사용량 입력: \"))\n",
        "  total = 0\n",
        "  if kwh < 100:\n",
        "    total = kwh*60.7 + 410\n",
        "    return total\n",
        "  elif kwh <= 200:\n",
        "    total = 100*60.7 + (kwh-100)*125.9 + 910\n",
        "    return total\n",
        "  else:\n",
        "    total = 100*60.7 + 100*125.9 + (kwh-200)*187.9 + 1600\n",
        "    return total\n",
        "  print(f'총 요금은 {int(total*1.137)}원 입니다.')\n",
        "\n",
        "elctricPay()"
      ]
    },
    {
      "cell_type": "markdown",
      "metadata": {
        "id": "dwPIhZ43uT04"
      },
      "source": [
        "# 실습 2"
      ]
    },
    {
      "cell_type": "code",
      "execution_count": null,
      "metadata": {
        "id": "m7NhjB51uT05",
        "colab": {
          "base_uri": "https://localhost:8080/"
        },
        "outputId": "64010f05-1601-41db-f624-ee2e8abcbb80"
      },
      "outputs": [
        {
          "output_type": "stream",
          "name": "stdout",
          "text": [
            "+와 -를 번갈아 출력합니다.\n",
            "몇 개를 출력할까요?: 11\n",
            "+-+-+-+-+-+\n"
          ]
        }
      ],
      "source": [
        "print('+와 -를 번갈아 출력합니다.')\n",
        "n = int(input('몇 개를 출력할까요?: '))\n",
        "\n",
        "for i in range(1, n+1):\n",
        "  if i%2:\n",
        "    print('+', end='')\n",
        "  else:\n",
        "    print('-', end='')\n",
        "print()\n",
        "\n",
        "# for _ in range(n//2):\n",
        "#   print('+-', end='')\n",
        "# if n%2:\n",
        "#   print('-', end='')\n",
        "# print()"
      ]
    },
    {
      "cell_type": "markdown",
      "metadata": {
        "id": "eSZEfhE5uT05"
      },
      "source": [
        "# 실습 3"
      ]
    },
    {
      "cell_type": "code",
      "execution_count": null,
      "metadata": {
        "id": "1GlSILk2uT05",
        "colab": {
          "base_uri": "https://localhost:8080/"
        },
        "outputId": "4768cab2-9910-4468-f256-bd11ac2e450d"
      },
      "outputs": [
        {
          "output_type": "execute_result",
          "data": {
            "text/plain": [
              "[1, 2, 3, 4, 5, 6, 7, 9, 10, 11, 12]"
            ]
          },
          "metadata": {},
          "execution_count": 37
        }
      ],
      "source": [
        "a = [i for i in range(1,13) if i <= 7 or i >8]\n",
        "a"
      ]
    },
    {
      "cell_type": "markdown",
      "metadata": {
        "id": "LaqT1Jp2uT05"
      },
      "source": [
        "# 실습 4"
      ]
    },
    {
      "cell_type": "code",
      "execution_count": null,
      "metadata": {
        "id": "X0NFWHFMuT05",
        "colab": {
          "base_uri": "https://localhost:8080/"
        },
        "outputId": "d7af4545-744f-47b5-8295-277c1ea34888"
      },
      "outputs": [
        {
          "output_type": "stream",
          "name": "stdout",
          "text": [
            "숫자 입력 256\n",
            "4**4 = 256입니다.\n",
            "16**2 = 256입니다.\n"
          ]
        }
      ],
      "source": [
        "n = int(input(\"숫자 입력 \"))\n",
        "flag = 0\n",
        "\n",
        "for root in range(1, n+1):\n",
        "  for pwr in range(2,6):\n",
        "    if root**pwr == n:\n",
        "      print(f'{root}**{pwr} = {n}입니다.')\n",
        "      flag = 1\n",
        "\n",
        "if flag == 0:\n",
        "  print(\"?\")"
      ]
    }
  ],
  "metadata": {
    "colab": {
      "name": "Chapter1-Algorithm-Q.ipynb",
      "provenance": [],
      "collapsed_sections": []
    },
    "kernelspec": {
      "display_name": "Python 3",
      "language": "python",
      "name": "python3"
    },
    "language_info": {
      "codemirror_mode": {
        "name": "ipython",
        "version": 3
      },
      "file_extension": ".py",
      "mimetype": "text/x-python",
      "name": "python",
      "nbconvert_exporter": "python",
      "pygments_lexer": "ipython3",
      "version": "3.8.8"
    }
  },
  "nbformat": 4,
  "nbformat_minor": 0
}