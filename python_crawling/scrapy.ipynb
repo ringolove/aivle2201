{
 "cells": [
  {
   "cell_type": "markdown",
   "id": "b12537ef",
   "metadata": {},
   "source": [
    "### scrapy\n",
    "- 웹사이트에서 데이터 수집을 위한 오픈소스 파이썬 프레임워크\n",
    "- 멀티스레딩으로 데이터 수집\n",
    "- gmarket 상품데이터 수집"
   ]
  },
  {
   "cell_type": "code",
   "execution_count": 1,
   "id": "e90ab90f",
   "metadata": {},
   "outputs": [],
   "source": [
    "# 1. 스크래피 프로젝트 생성"
   ]
  },
  {
   "cell_type": "code",
   "execution_count": 2,
   "id": "f1e2621a",
   "metadata": {},
   "outputs": [
    {
     "name": "stdout",
     "output_type": "stream",
     "text": [
      "New Scrapy project 'gmarket', using template directory 'C:\\Users\\myblo\\AppData\\Local\\Programs\\Python\\Python310\\lib\\site-packages\\scrapy\\templates\\project', created in:\n",
      "    c:\\Users\\myblo\\Downloads\\gmarket\n",
      "\n",
      "You can start your first spider with:\n",
      "    cd gmarket\n",
      "    scrapy genspider example example.com\n"
     ]
    }
   ],
   "source": [
    "!scrapy startproject gmarket"
   ]
  },
  {
   "cell_type": "code",
   "execution_count": 3,
   "id": "a5c11b2c",
   "metadata": {},
   "outputs": [
    {
     "name": "stdout",
     "output_type": "stream",
     "text": [
      "���� PATH�� ����Դϴ�.\n",
      "���� �Ϸ� ��ȣ�� 000000BF B4BD:2247�Դϴ�.\n",
      "C:\\USERS\\MYBLO\\DOWNLOADS\\GMARKET\n",
      "��  scrapy.cfg\n",
      "��  \n",
      "����gmarket\n",
      "    ��  items.py\n",
      "    ��  middlewares.py\n",
      "    ��  pipelines.py\n",
      "    ��  settings.py\n",
      "    ��  __init__.py\n",
      "    ��  \n",
      "    ����spiders\n",
      "            __init__.py\n",
      "            \n"
     ]
    }
   ],
   "source": [
    "!tree /f gmarket"
   ]
  },
  {
   "cell_type": "code",
   "execution_count": 4,
   "id": "cac6776b",
   "metadata": {},
   "outputs": [],
   "source": [
    "# items : 데이터의 모양 정의\n",
    "# middewares : 수집할때 header 정보와 같은 내용을 설정\n",
    "# pipelines : 데이터를 수집한 후에 코드를 실행\n",
    "# settings : robots.txt 규칙, 크롤링 시간 텀등을 설정\n",
    "# spiders : 크롤링 절차를 정의"
   ]
  },
  {
   "cell_type": "code",
   "execution_count": 5,
   "id": "5f97e6dc",
   "metadata": {},
   "outputs": [],
   "source": [
    "# 2. xpath 찾기 : 링크, 상세 페이지"
   ]
  },
  {
   "cell_type": "code",
   "execution_count": 6,
   "id": "3aac82cb",
   "metadata": {},
   "outputs": [],
   "source": [
    "import scrapy, requests\n",
    "from scrapy.http import TextResponse"
   ]
  },
  {
   "cell_type": "code",
   "execution_count": 7,
   "id": "6a073246",
   "metadata": {},
   "outputs": [],
   "source": [
    "# 3. items.py : model"
   ]
  },
  {
   "cell_type": "code",
   "execution_count": 8,
   "id": "8bbe5105",
   "metadata": {},
   "outputs": [
    {
     "name": "stdout",
     "output_type": "stream",
     "text": [
      "Overwriting gmarket/gmarket/items.py\n"
     ]
    }
   ],
   "source": [
    "%%writefile gmarket/gmarket/items.py\n",
    "import scrapy\n",
    "\n",
    "# 하나의 row 데이터를 담을 클래스\n",
    "class GmarketItem(scrapy.Item):\n",
    "    title = scrapy.Field()\n",
    "    price = scrapy.Field()\n",
    "    link = scrapy.Field()"
   ]
  },
  {
   "cell_type": "code",
   "execution_count": 9,
   "id": "4d0aa7e1",
   "metadata": {},
   "outputs": [],
   "source": [
    "# 4. spider.py : 크롤링 절차 정의"
   ]
  },
  {
   "cell_type": "code",
   "execution_count": 10,
   "id": "662ebb53",
   "metadata": {},
   "outputs": [
    {
     "name": "stdout",
     "output_type": "stream",
     "text": [
      "Writing gmarket/gmarket/spiders/spider.py\n"
     ]
    }
   ],
   "source": [
    "%%writefile gmarket/gmarket/spiders/spider.py\n",
    "import scrapy\n",
    "from gmarket.items import GmarketItem\n",
    "\n",
    "class GMSpider(scrapy.Spider):\n",
    "    name = \"GMB\" # spider 이름\n",
    "    allow_domain = [\"gmarket.co.kr\"] # 허용 도메인\n",
    "    start_urls = [\"http://corners.gmarket.co.kr/Bestsellers\"] # 최초 request URL\n",
    "    \n",
    "    def parse(self, response): # 최초 request에 대한 reponse 메서드\n",
    "        links = response.xpath('//*[@id=\"gBestWrap\"]/div/div[3]/div[2]/ul/li/div[1]/a/@href').extract() # link 수집 selector\n",
    "        for link in links:\n",
    "            yield scrapy.Request(link, callback=self.parse_content) # link로 request 후 response를 받아 callback함수 호출\n",
    "    \n",
    "    def parse_content(self, response): # callback 으로 실행 되는 함수\n",
    "        item = GmarketItem() # 하나의 row 데이터를 담을 객체\n",
    "        item[\"title\"] = response.xpath('//*[@id=\"itemcase_basic\"]/div[1]/h1/text()')[0].extract() # title 수집 selector\n",
    "        item[\"price\"] = response.xpath('//*[@id=\"itemcase_basic\"]/div[1]/p/span/strong/text()')[0].extract() # price 수집 selector\n",
    "        item[\"link\"] = response.url # request에서 사용한 url\n",
    "        yield item"
   ]
  },
  {
   "cell_type": "code",
   "execution_count": 11,
   "id": "bd2e1c16",
   "metadata": {},
   "outputs": [],
   "source": [
    "# 5. 스크래피 실행\n",
    "# 주피터 노트북 터미널 실행\n",
    "# gmarket 디렉토리에서 아래의 커멘드 실행\n",
    "# scrapy crawl GMB -o items.csv"
   ]
  },
  {
   "cell_type": "code",
   "execution_count": 12,
   "id": "fc852042",
   "metadata": {},
   "outputs": [
    {
     "data": {
      "text/plain": [
       "'c:\\\\Users\\\\myblo\\\\Downloads'"
      ]
     },
     "execution_count": 12,
     "metadata": {},
     "output_type": "execute_result"
    }
   ],
   "source": [
    "%pwd"
   ]
  },
  {
   "cell_type": "code",
   "execution_count": 13,
   "id": "a5e151ed",
   "metadata": {},
   "outputs": [
    {
     "name": "stdout",
     "output_type": "stream",
     "text": [
      " C ����̺��� �������� �̸��� �����ϴ�.\n",
      " ���� �Ϸ� ��ȣ: B4BD-2247\n",
      "\n",
      " c:\\Users\\myblo\\Downloads\\gmarket ���͸�\n",
      "\n",
      "2022-02-25  ���� 05:28    <DIR>          .\n",
      "2022-02-25  ���� 05:28    <DIR>          ..\n",
      "2022-02-25  ���� 05:28    <DIR>          gmarket\n",
      "2022-02-25  ���� 05:28               257 scrapy.cfg\n",
      "               1�� ����                 257 ����Ʈ\n",
      "               3�� ���͸�  10,357,174,272 ����Ʈ ����\n"
     ]
    }
   ],
   "source": [
    "%ls gmarket"
   ]
  },
  {
   "cell_type": "code",
   "execution_count": 14,
   "id": "340cc375",
   "metadata": {},
   "outputs": [],
   "source": [
    "import pandas as pd"
   ]
  },
  {
   "cell_type": "code",
   "execution_count": 22,
   "id": "18610852",
   "metadata": {},
   "outputs": [
    {
     "data": {
      "text/html": [
       "<div>\n",
       "<style scoped>\n",
       "    .dataframe tbody tr th:only-of-type {\n",
       "        vertical-align: middle;\n",
       "    }\n",
       "\n",
       "    .dataframe tbody tr th {\n",
       "        vertical-align: top;\n",
       "    }\n",
       "\n",
       "    .dataframe thead th {\n",
       "        text-align: right;\n",
       "    }\n",
       "</style>\n",
       "<table border=\"1\" class=\"dataframe\">\n",
       "  <thead>\n",
       "    <tr style=\"text-align: right;\">\n",
       "      <th></th>\n",
       "      <th>link</th>\n",
       "      <th>price</th>\n",
       "      <th>title</th>\n",
       "    </tr>\n",
       "  </thead>\n",
       "  <tbody>\n",
       "    <tr>\n",
       "      <th>198</th>\n",
       "      <td>http://item.gmarket.co.kr/Item?goodscode=23227...</td>\n",
       "      <td>37,710</td>\n",
       "      <td>10%할인  NEW 깨끗한나라 허브가든 벚꽃 프리미엄 화장지 총 90롤</td>\n",
       "    </tr>\n",
       "    <tr>\n",
       "      <th>199</th>\n",
       "      <td>http://item.gmarket.co.kr/Item?goodscode=17425...</td>\n",
       "      <td>22,900</td>\n",
       "      <td>퍼실 레귤러 유니버셜 대용량 액체 세탁세제 10L</td>\n",
       "    </tr>\n",
       "  </tbody>\n",
       "</table>\n",
       "</div>"
      ],
      "text/plain": [
       "                                                  link   price  \\\n",
       "198  http://item.gmarket.co.kr/Item?goodscode=23227...  37,710   \n",
       "199  http://item.gmarket.co.kr/Item?goodscode=17425...  22,900   \n",
       "\n",
       "                                        title  \n",
       "198  10%할인  NEW 깨끗한나라 허브가든 벚꽃 프리미엄 화장지 총 90롤   \n",
       "199              퍼실 레귤러 유니버셜 대용량 액체 세탁세제 10L   "
      ]
     },
     "execution_count": 22,
     "metadata": {},
     "output_type": "execute_result"
    }
   ],
   "source": [
    "pd.read_csv(\"gmarket/items.csv\").tail(2)"
   ]
  }
 ],
 "metadata": {
  "kernelspec": {
   "display_name": "Python 3",
   "language": "python",
   "name": "python3"
  },
  "language_info": {
   "codemirror_mode": {
    "name": "ipython",
    "version": 3
   },
   "file_extension": ".py",
   "mimetype": "text/x-python",
   "name": "python",
   "nbconvert_exporter": "python",
   "pygments_lexer": "ipython3",
   "version": "3.10.0"
  },
  "toc": {
   "base_numbering": 1,
   "nav_menu": {},
   "number_sections": false,
   "sideBar": true,
   "skip_h1_title": false,
   "title_cell": "Table of Contents",
   "title_sidebar": "Contents",
   "toc_cell": false,
   "toc_position": {},
   "toc_section_display": true,
   "toc_window_display": false
  }
 },
 "nbformat": 4,
 "nbformat_minor": 5
}
