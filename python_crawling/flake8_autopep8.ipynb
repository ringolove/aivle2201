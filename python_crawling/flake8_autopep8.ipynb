{
 "cells": [
  {
   "cell_type": "code",
   "execution_count": 1,
   "id": "d884d598",
   "metadata": {},
   "outputs": [],
   "source": [
    "# pep8 : 코딩 컨벤션 규칙 : 파이썬 코딩 컨벤션\n",
    "# flake8 : 코딩 스타일 검사 도구 : https://flake8.pycqa.org/en/latest/"
   ]
  },
  {
   "cell_type": "code",
   "execution_count": 2,
   "id": "4840c21a",
   "metadata": {},
   "outputs": [],
   "source": [
    "# !pip install flake8 autopep8"
   ]
  },
  {
   "cell_type": "code",
   "execution_count": 5,
   "id": "edc7f178",
   "metadata": {},
   "outputs": [
    {
     "name": "stdout",
     "output_type": "stream",
     "text": [
      "Writing test.py\n"
     ]
    }
   ],
   "source": [
    "%%writefile test.py\n",
    "def plus(num1, num2 = 1):\n",
    "    return num1 + num2\n",
    "\n",
    "def disp(n1,n2):\n",
    "    print(plus(n1,n2))\n",
    "    \n",
    "disp(2,3)"
   ]
  },
  {
   "cell_type": "code",
   "execution_count": 7,
   "id": "32565eda",
   "metadata": {},
   "outputs": [
    {
     "name": "stdout",
     "output_type": "stream",
     "text": [
      "test.py:1:20: E251 unexpected spaces around keyword / parameter equals\n",
      "test.py:1:22: E251 unexpected spaces around keyword / parameter equals\n",
      "test.py:4:1: E302 expected 2 blank lines, found 1\n",
      "test.py:4:12: E231 missing whitespace after ','\n",
      "test.py:5:18: E231 missing whitespace after ','\n",
      "test.py:6:1: W293 blank line contains whitespace\n",
      "test.py:7:1: E305 expected 2 blank lines after class or function definition, found 1\n",
      "test.py:7:7: E231 missing whitespace after ','\n"
     ]
    }
   ],
   "source": [
    "!flake8 test.py"
   ]
  },
  {
   "cell_type": "code",
   "execution_count": 8,
   "id": "1df060fc",
   "metadata": {},
   "outputs": [],
   "source": [
    "!autopep8 --in-place test.py"
   ]
  },
  {
   "cell_type": "code",
   "execution_count": 9,
   "id": "5db69864",
   "metadata": {},
   "outputs": [],
   "source": [
    "!flake8 test.py"
   ]
  },
  {
   "cell_type": "code",
   "execution_count": 10,
   "id": "93f4cf86",
   "metadata": {},
   "outputs": [],
   "source": [
    "# %load test.py\n",
    "def plus(num1, num2=1):\n",
    "    return num1 + num2\n",
    "\n",
    "\n",
    "def disp(n1, n2):\n",
    "    print(plus(n1, n2))\n",
    "\n",
    "\n",
    "disp(2, 3)\n"
   ]
  }
 ],
 "metadata": {
  "kernelspec": {
   "display_name": "Python 3",
   "language": "python",
   "name": "python3"
  },
  "language_info": {
   "codemirror_mode": {
    "name": "ipython",
    "version": 3
   },
   "file_extension": ".py",
   "mimetype": "text/x-python",
   "name": "python",
   "nbconvert_exporter": "python",
   "pygments_lexer": "ipython3",
   "version": "3.10.0"
  }
 },
 "nbformat": 4,
 "nbformat_minor": 5
}
